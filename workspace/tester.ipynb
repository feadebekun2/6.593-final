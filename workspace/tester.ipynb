{
 "cells": [
  {
   "cell_type": "code",
   "execution_count": 1,
   "id": "2b77b11d-5ffc-4aeb-8cd7-9181357dc551",
   "metadata": {},
   "outputs": [
    {
     "data": {
      "text/plain": [
       "<module 'matplot_results_plotter.matplot_results_plotter' from '/home/workspace/matplot_results_plotter/matplot_results_plotter.py'>"
      ]
     },
     "execution_count": 1,
     "metadata": {},
     "output_type": "execute_result"
    }
   ],
   "source": [
    "import importlib\n",
    "from main import TimeLoopExperimentController\n",
    "import architectures.architecture_strategy\n",
    "import architectures.architecture_constants\n",
    "import architecture_results.derived_metrics_evaluator\n",
    "import matplot_results_plotter.matplot_results_plotter\n",
    "\n",
    "from architectures.architecture_constants import Architecture, GPUMemoryScale, RackSize, PEsConfig, base_config, resnet_18_layers\n",
    "\n",
    "import matplotlib.pyplot as plt\n",
    "\n",
    "importlib.reload(architectures.architecture_strategy)\n",
    "importlib.reload(architectures.architecture_constants)\n",
    "importlib.reload(architecture_results.derived_metrics_evaluator)\n",
    "importlib.reload(matplot_results_plotter.matplot_results_plotter)"
   ]
  },
  {
   "cell_type": "code",
   "execution_count": 2,
   "id": "5cb5f0f5-9910-4686-8dd1-c92799431b6b",
   "metadata": {
    "scrolled": true
   },
   "outputs": [
    {
     "name": "stdout",
     "output_type": "stream",
     "text": [
      "==================================================\n",
      "Starting Timeloop with configuration:\n",
      "  - arch: Architecture.Base\n",
      "  - scale: GPUMemoryScale.MEMORY_4MB\n",
      "  - rack: RackSize.RACK_4\n",
      "  - peConfig: PEsConfig.PE_1\n",
      "==================================================\n"
     ]
    },
    {
     "ename": "TypeError",
     "evalue": "'PEConfig' object is not a mapping",
     "output_type": "error",
     "traceback": [
      "\u001b[0;31m---------------------------------------------------------------------------\u001b[0m",
      "\u001b[0;31mTypeError\u001b[0m                                 Traceback (most recent call last)",
      "Cell \u001b[0;32mIn[2], line 4\u001b[0m\n\u001b[1;32m      1\u001b[0m \u001b[38;5;66;03m# debug currently set to True, set to False to run\u001b[39;00m\n\u001b[1;32m      2\u001b[0m \u001b[38;5;66;03m# controller = TimeLoopExperimentController(True)\u001b[39;00m\n\u001b[1;32m      3\u001b[0m controller \u001b[38;5;241m=\u001b[39m TimeLoopExperimentController(\u001b[38;5;28;01mFalse\u001b[39;00m)\n\u001b[0;32m----> 4\u001b[0m \u001b[43mcontroller\u001b[49m\u001b[38;5;241;43m.\u001b[39;49m\u001b[43mrun_all\u001b[49m\u001b[43m(\u001b[49m\u001b[43m)\u001b[49m\n\u001b[1;32m      5\u001b[0m \u001b[38;5;66;03m# controller.plot_results()\u001b[39;00m\n",
      "File \u001b[0;32m~/main.py:74\u001b[0m, in \u001b[0;36mTimeLoopExperimentController.run_all\u001b[0;34m(self)\u001b[0m\n\u001b[1;32m     71\u001b[0m     \u001b[38;5;28mprint\u001b[39m(\u001b[38;5;124mf\u001b[39m\u001b[38;5;124m\"\u001b[39m\u001b[38;5;124mSkipping \u001b[39m\u001b[38;5;132;01m{\u001b[39;00march\u001b[38;5;241m.\u001b[39mname\u001b[38;5;132;01m}\u001b[39;00m\u001b[38;5;124m, \u001b[39m\u001b[38;5;132;01m{\u001b[39;00mscale\u001b[38;5;241m.\u001b[39mname\u001b[38;5;132;01m}\u001b[39;00m\u001b[38;5;124m, \u001b[39m\u001b[38;5;132;01m{\u001b[39;00mrack\u001b[38;5;241m.\u001b[39mname\u001b[38;5;132;01m}\u001b[39;00m\u001b[38;5;124m, \u001b[39m\u001b[38;5;132;01m{\u001b[39;00mpeConfig\u001b[38;5;241m.\u001b[39mvalue\u001b[38;5;132;01m}\u001b[39;00m\u001b[38;5;124m.\u001b[39m\u001b[38;5;124m\"\u001b[39m)\n\u001b[1;32m     72\u001b[0m     \u001b[38;5;28;01mcontinue\u001b[39;00m\n\u001b[0;32m---> 74\u001b[0m architecture \u001b[38;5;241m=\u001b[39m \u001b[43mWorkloadStrategy\u001b[49m\u001b[43m(\u001b[49m\u001b[43march\u001b[49m\u001b[43m,\u001b[49m\u001b[43m \u001b[49m\u001b[43mscale\u001b[49m\u001b[43m,\u001b[49m\u001b[43m \u001b[49m\u001b[43mpeConfig\u001b[49m\u001b[38;5;241;43m.\u001b[39;49m\u001b[43mvalue\u001b[49m\u001b[43m,\u001b[49m\u001b[43m \u001b[49m\u001b[43mrack\u001b[49m\u001b[38;5;241;43m.\u001b[39;49m\u001b[43mvalue\u001b[49m\u001b[43m,\u001b[49m\u001b[43m  \u001b[49m\u001b[38;5;28;43mself\u001b[39;49m\u001b[38;5;241;43m.\u001b[39;49m\u001b[43mdebug\u001b[49m\u001b[43m)\u001b[49m\n\u001b[1;32m     75\u001b[0m results, layer_stats, layer_mappings \u001b[38;5;241m=\u001b[39m architecture\u001b[38;5;241m.\u001b[39mrun_workload()\n\u001b[1;32m     77\u001b[0m \u001b[38;5;28mself\u001b[39m\u001b[38;5;241m.\u001b[39m__check_returned_vals(results)\n",
      "File \u001b[0;32m~/architectures/architecture_strategy.py:15\u001b[0m, in \u001b[0;36mWorkloadStrategy.__init__\u001b[0;34m(self, strategy, gpu_architecture, peConfig, num_gpus, debug)\u001b[0m\n\u001b[1;32m     12\u001b[0m \u001b[38;5;28mself\u001b[39m\u001b[38;5;241m.\u001b[39mpeConfig \u001b[38;5;241m=\u001b[39m peConfig\n\u001b[1;32m     14\u001b[0m \u001b[38;5;28;01mif\u001b[39;00m \u001b[38;5;28mself\u001b[39m\u001b[38;5;241m.\u001b[39mstrategy \u001b[38;5;241m==\u001b[39m Architecture\u001b[38;5;241m.\u001b[39mBase:\n\u001b[0;32m---> 15\u001b[0m     \u001b[38;5;28mself\u001b[39m\u001b[38;5;241m.\u001b[39mworkload \u001b[38;5;241m=\u001b[39m \u001b[38;5;28;43mself\u001b[39;49m\u001b[38;5;241;43m.\u001b[39;49m\u001b[43m__build_base_architecture\u001b[49m\u001b[43m(\u001b[49m\u001b[43m)\u001b[49m\n\u001b[1;32m     16\u001b[0m     \u001b[38;5;28mself\u001b[39m\u001b[38;5;241m.\u001b[39mconstraints \u001b[38;5;241m=\u001b[39m \u001b[38;5;124m'\u001b[39m\u001b[38;5;124mdesigns/system/constraints_Base.yaml\u001b[39m\u001b[38;5;124m'\u001b[39m\n\u001b[1;32m     17\u001b[0m \u001b[38;5;28;01melif\u001b[39;00m \u001b[38;5;28mself\u001b[39m\u001b[38;5;241m.\u001b[39mstrategy \u001b[38;5;241m==\u001b[39m Architecture\u001b[38;5;241m.\u001b[39mData_Parallel:\n",
      "File \u001b[0;32m~/architectures/architecture_strategy.py:29\u001b[0m, in \u001b[0;36mWorkloadStrategy.__build_base_architecture\u001b[0;34m(self)\u001b[0m\n\u001b[1;32m     28\u001b[0m \u001b[38;5;28;01mdef\u001b[39;00m\u001b[38;5;250m \u001b[39m\u001b[38;5;21m__build_base_architecture\u001b[39m(\u001b[38;5;28mself\u001b[39m):\n\u001b[0;32m---> 29\u001b[0m     \u001b[38;5;28;01mreturn\u001b[39;00m \u001b[38;5;28;43mlist\u001b[39;49m\u001b[43m(\u001b[49m\u001b[38;5;28;43mmap\u001b[39;49m\u001b[43m(\u001b[49m\u001b[38;5;28;43;01mlambda\u001b[39;49;00m\u001b[43m \u001b[49m\u001b[43mx\u001b[49m\u001b[43m:\u001b[49m\u001b[43m \u001b[49m\u001b[43m{\u001b[49m\u001b[38;5;241;43m*\u001b[39;49m\u001b[38;5;241;43m*\u001b[39;49m\u001b[43mx\u001b[49m\u001b[43m,\u001b[49m\u001b[43m \u001b[49m\u001b[38;5;241;43m*\u001b[39;49m\u001b[38;5;241;43m*\u001b[39;49m\u001b[43m(\u001b[49m\u001b[38;5;28;43mself\u001b[39;49m\u001b[38;5;241;43m.\u001b[39;49m\u001b[43mpeConfig\u001b[49m\u001b[43m)\u001b[49m\u001b[43m}\u001b[49m\u001b[43m,\u001b[49m\u001b[43m \u001b[49m\u001b[43mbase_config\u001b[49m\u001b[43m)\u001b[49m\u001b[43m)\u001b[49m\n",
      "File \u001b[0;32m~/architectures/architecture_strategy.py:29\u001b[0m, in \u001b[0;36mWorkloadStrategy.__build_base_architecture.<locals>.<lambda>\u001b[0;34m(x)\u001b[0m\n\u001b[1;32m     28\u001b[0m \u001b[38;5;28;01mdef\u001b[39;00m\u001b[38;5;250m \u001b[39m\u001b[38;5;21m__build_base_architecture\u001b[39m(\u001b[38;5;28mself\u001b[39m):\n\u001b[0;32m---> 29\u001b[0m     \u001b[38;5;28;01mreturn\u001b[39;00m \u001b[38;5;28mlist\u001b[39m(\u001b[38;5;28mmap\u001b[39m(\u001b[38;5;28;01mlambda\u001b[39;00m x: {\u001b[38;5;241m*\u001b[39m\u001b[38;5;241m*\u001b[39mx, \u001b[38;5;241m*\u001b[39m\u001b[38;5;241m*\u001b[39m(\u001b[38;5;28mself\u001b[39m\u001b[38;5;241m.\u001b[39mpeConfig)}, base_config))\n",
      "\u001b[0;31mTypeError\u001b[0m: 'PEConfig' object is not a mapping"
     ]
    }
   ],
   "source": [
    "# debug currently set to True, set to False to run\n",
    "# controller = TimeLoopExperimentController(True)\n",
    "controller = TimeLoopExperimentController(False)\n",
    "controller.run_all()\n",
    "# controller.plot_results()"
   ]
  },
  {
   "cell_type": "code",
   "execution_count": 2,
   "id": "2ef216e9-61bb-4991-af1f-a0f9093371cd",
   "metadata": {
    "scrolled": true
   },
   "outputs": [
    {
     "name": "stdout",
     "output_type": "stream",
     "text": [
      "==================================================\n",
      "Starting Timeloop with configuration:\n",
      "  - arch: Architecture.Data_Parallel\n",
      "  - scale: GPUMemoryScale.MEMORY_16MB\n",
      "  - rack: RackSize.RACK_4\n",
      "  - peConfig: PEsConfig.PE_4\n",
      "==================================================\n",
      "Running layer 1: l1_conv1 which occurs 1 times\n",
      "[INFO] 2025-04-30 15:43:01,661 - pytimeloop.accelergy_interface - Running Accelergy with command: accelergy /home/workspace/output_dir/parsed-processed-input.yaml -o ./output_dir/ -v\n"
     ]
    },
    {
     "name": "stderr",
     "output_type": "stream",
     "text": [
      "INFO:pytimeloop.accelergy_interface:Running Accelergy with command: accelergy /home/workspace/output_dir/parsed-processed-input.yaml -o ./output_dir/ -v\n"
     ]
    },
    {
     "name": "stdout",
     "output_type": "stream",
     "text": [
      "Adding energy and cycle stats for l1_conv1 occurence 1\n",
      "Running layer 2: l2_conv2_stride2 which occurs 1 times\n",
      "[INFO] 2025-04-30 15:43:17,483 - pytimeloop.accelergy_interface - Running Accelergy with command: accelergy /home/workspace/output_dir/parsed-processed-input.yaml -o ./output_dir/ -v\n"
     ]
    },
    {
     "name": "stderr",
     "output_type": "stream",
     "text": [
      "INFO:pytimeloop.accelergy_interface:Running Accelergy with command: accelergy /home/workspace/output_dir/parsed-processed-input.yaml -o ./output_dir/ -v\n"
     ]
    },
    {
     "name": "stdout",
     "output_type": "stream",
     "text": [
      "Adding energy and cycle stats for l2_conv2_stride2 occurence 1\n",
      "Running layer 3: l3-l7_conv2_stride1 which occurs 5 times\n",
      "[INFO] 2025-04-30 15:43:35,130 - pytimeloop.accelergy_interface - Running Accelergy with command: accelergy /home/workspace/output_dir/parsed-processed-input.yaml -o ./output_dir/ -v\n"
     ]
    },
    {
     "name": "stderr",
     "output_type": "stream",
     "text": [
      "INFO:pytimeloop.accelergy_interface:Running Accelergy with command: accelergy /home/workspace/output_dir/parsed-processed-input.yaml -o ./output_dir/ -v\n"
     ]
    },
    {
     "name": "stdout",
     "output_type": "stream",
     "text": [
      "Adding energy and cycle stats for l3-l7_conv2_stride1 occurence 1\n",
      "Adding energy and cycle stats for l3-l7_conv2_stride1 occurence 2\n",
      "Adding energy and cycle stats for l3-l7_conv2_stride1 occurence 3\n",
      "Adding energy and cycle stats for l3-l7_conv2_stride1 occurence 4\n",
      "Adding energy and cycle stats for l3-l7_conv2_stride1 occurence 5\n",
      "Running layer 8: l8_conv3_stride2 which occurs 1 times\n",
      "[INFO] 2025-04-30 15:43:52,861 - pytimeloop.accelergy_interface - Running Accelergy with command: accelergy /home/workspace/output_dir/parsed-processed-input.yaml -o ./output_dir/ -v\n"
     ]
    },
    {
     "name": "stderr",
     "output_type": "stream",
     "text": [
      "INFO:pytimeloop.accelergy_interface:Running Accelergy with command: accelergy /home/workspace/output_dir/parsed-processed-input.yaml -o ./output_dir/ -v\n"
     ]
    },
    {
     "name": "stdout",
     "output_type": "stream",
     "text": [
      "Adding energy and cycle stats for l8_conv3_stride2 occurence 1\n",
      "Running layer 9: l9-l15_conv3_stride1 which occurs 7 times\n",
      "[INFO] 2025-04-30 15:44:11,836 - pytimeloop.accelergy_interface - Running Accelergy with command: accelergy /home/workspace/output_dir/parsed-processed-input.yaml -o ./output_dir/ -v\n"
     ]
    },
    {
     "name": "stderr",
     "output_type": "stream",
     "text": [
      "INFO:pytimeloop.accelergy_interface:Running Accelergy with command: accelergy /home/workspace/output_dir/parsed-processed-input.yaml -o ./output_dir/ -v\n"
     ]
    },
    {
     "name": "stdout",
     "output_type": "stream",
     "text": [
      "Adding energy and cycle stats for l9-l15_conv3_stride1 occurence 1\n",
      "Adding energy and cycle stats for l9-l15_conv3_stride1 occurence 2\n",
      "Adding energy and cycle stats for l9-l15_conv3_stride1 occurence 3\n",
      "Adding energy and cycle stats for l9-l15_conv3_stride1 occurence 4\n",
      "Adding energy and cycle stats for l9-l15_conv3_stride1 occurence 5\n",
      "Adding energy and cycle stats for l9-l15_conv3_stride1 occurence 6\n",
      "Adding energy and cycle stats for l9-l15_conv3_stride1 occurence 7\n",
      "Running layer 16: l16_conv4_stride2 which occurs 1 times\n",
      "[INFO] 2025-04-30 15:44:30,396 - pytimeloop.accelergy_interface - Running Accelergy with command: accelergy /home/workspace/output_dir/parsed-processed-input.yaml -o ./output_dir/ -v\n"
     ]
    },
    {
     "name": "stderr",
     "output_type": "stream",
     "text": [
      "INFO:pytimeloop.accelergy_interface:Running Accelergy with command: accelergy /home/workspace/output_dir/parsed-processed-input.yaml -o ./output_dir/ -v\n"
     ]
    },
    {
     "name": "stdout",
     "output_type": "stream",
     "text": [
      "Adding energy and cycle stats for l16_conv4_stride2 occurence 1\n",
      "Running layer 17: l17-l27_conv4_stride1 which occurs 11 times\n",
      "[INFO] 2025-04-30 15:44:49,446 - pytimeloop.accelergy_interface - Running Accelergy with command: accelergy /home/workspace/output_dir/parsed-processed-input.yaml -o ./output_dir/ -v\n"
     ]
    },
    {
     "name": "stderr",
     "output_type": "stream",
     "text": [
      "INFO:pytimeloop.accelergy_interface:Running Accelergy with command: accelergy /home/workspace/output_dir/parsed-processed-input.yaml -o ./output_dir/ -v\n"
     ]
    },
    {
     "name": "stdout",
     "output_type": "stream",
     "text": [
      "Adding energy and cycle stats for l17-l27_conv4_stride1 occurence 1\n",
      "Adding energy and cycle stats for l17-l27_conv4_stride1 occurence 2\n",
      "Adding energy and cycle stats for l17-l27_conv4_stride1 occurence 3\n",
      "Adding energy and cycle stats for l17-l27_conv4_stride1 occurence 4\n",
      "Adding energy and cycle stats for l17-l27_conv4_stride1 occurence 5\n",
      "Adding energy and cycle stats for l17-l27_conv4_stride1 occurence 6\n",
      "Adding energy and cycle stats for l17-l27_conv4_stride1 occurence 7\n",
      "Adding energy and cycle stats for l17-l27_conv4_stride1 occurence 8\n",
      "Adding energy and cycle stats for l17-l27_conv4_stride1 occurence 9\n",
      "Adding energy and cycle stats for l17-l27_conv4_stride1 occurence 10\n",
      "Adding energy and cycle stats for l17-l27_conv4_stride1 occurence 11\n",
      "Running layer 28: l28_conv5_stride2 which occurs 1 times\n",
      "[INFO] 2025-04-30 15:45:10,474 - pytimeloop.accelergy_interface - Running Accelergy with command: accelergy /home/workspace/output_dir/parsed-processed-input.yaml -o ./output_dir/ -v\n"
     ]
    },
    {
     "name": "stderr",
     "output_type": "stream",
     "text": [
      "INFO:pytimeloop.accelergy_interface:Running Accelergy with command: accelergy /home/workspace/output_dir/parsed-processed-input.yaml -o ./output_dir/ -v\n"
     ]
    },
    {
     "name": "stdout",
     "output_type": "stream",
     "text": [
      "Adding energy and cycle stats for l28_conv5_stride2 occurence 1\n",
      "Running layer 29: l29-l33_conv5_stride1 which occurs 5 times\n",
      "[INFO] 2025-04-30 15:45:31,669 - pytimeloop.accelergy_interface - Running Accelergy with command: accelergy /home/workspace/output_dir/parsed-processed-input.yaml -o ./output_dir/ -v\n"
     ]
    },
    {
     "name": "stderr",
     "output_type": "stream",
     "text": [
      "INFO:pytimeloop.accelergy_interface:Running Accelergy with command: accelergy /home/workspace/output_dir/parsed-processed-input.yaml -o ./output_dir/ -v\n"
     ]
    },
    {
     "name": "stdout",
     "output_type": "stream",
     "text": [
      "Adding energy and cycle stats for l29-l33_conv5_stride1 occurence 1\n",
      "Adding energy and cycle stats for l29-l33_conv5_stride1 occurence 2\n",
      "Adding energy and cycle stats for l29-l33_conv5_stride1 occurence 3\n",
      "Adding energy and cycle stats for l29-l33_conv5_stride1 occurence 4\n",
      "Adding energy and cycle stats for l29-l33_conv5_stride1 occurence 5\n",
      "==================================================\n",
      "Starting Timeloop with configuration:\n",
      "  - arch: Architecture.Base\n",
      "  - scale: GPUMemoryScale.MEMORY_16MB\n",
      "  - rack: RackSize.RACK_4\n",
      "  - peConfig: PEsConfig.PE_4\n",
      "==================================================\n",
      "Running layer 1: l1_conv1 which occurs 1 times\n",
      "[INFO] 2025-04-30 15:45:54,145 - pytimeloop.accelergy_interface - Running Accelergy with command: accelergy /home/workspace/output_dir/parsed-processed-input.yaml -o ./output_dir/ -v\n"
     ]
    },
    {
     "name": "stderr",
     "output_type": "stream",
     "text": [
      "INFO:pytimeloop.accelergy_interface:Running Accelergy with command: accelergy /home/workspace/output_dir/parsed-processed-input.yaml -o ./output_dir/ -v\n"
     ]
    },
    {
     "name": "stdout",
     "output_type": "stream",
     "text": [
      "Adding energy and cycle stats for l1_conv1 occurence 1\n",
      "Running layer 2: l2_conv2_stride2 which occurs 1 times\n",
      "[INFO] 2025-04-30 15:46:12,023 - pytimeloop.accelergy_interface - Running Accelergy with command: accelergy /home/workspace/output_dir/parsed-processed-input.yaml -o ./output_dir/ -v\n"
     ]
    },
    {
     "name": "stderr",
     "output_type": "stream",
     "text": [
      "INFO:pytimeloop.accelergy_interface:Running Accelergy with command: accelergy /home/workspace/output_dir/parsed-processed-input.yaml -o ./output_dir/ -v\n"
     ]
    },
    {
     "name": "stdout",
     "output_type": "stream",
     "text": [
      "Adding energy and cycle stats for l2_conv2_stride2 occurence 1\n",
      "Running layer 3: l3-l7_conv2_stride1 which occurs 5 times\n",
      "[INFO] 2025-04-30 15:46:31,432 - pytimeloop.accelergy_interface - Running Accelergy with command: accelergy /home/workspace/output_dir/parsed-processed-input.yaml -o ./output_dir/ -v\n"
     ]
    },
    {
     "name": "stderr",
     "output_type": "stream",
     "text": [
      "INFO:pytimeloop.accelergy_interface:Running Accelergy with command: accelergy /home/workspace/output_dir/parsed-processed-input.yaml -o ./output_dir/ -v\n"
     ]
    },
    {
     "name": "stdout",
     "output_type": "stream",
     "text": [
      "Adding energy and cycle stats for l3-l7_conv2_stride1 occurence 1\n",
      "Adding energy and cycle stats for l3-l7_conv2_stride1 occurence 2\n",
      "Adding energy and cycle stats for l3-l7_conv2_stride1 occurence 3\n",
      "Adding energy and cycle stats for l3-l7_conv2_stride1 occurence 4\n",
      "Adding energy and cycle stats for l3-l7_conv2_stride1 occurence 5\n",
      "Running layer 8: l8_conv3_stride2 which occurs 1 times\n",
      "[INFO] 2025-04-30 15:46:50,270 - pytimeloop.accelergy_interface - Running Accelergy with command: accelergy /home/workspace/output_dir/parsed-processed-input.yaml -o ./output_dir/ -v\n"
     ]
    },
    {
     "name": "stderr",
     "output_type": "stream",
     "text": [
      "INFO:pytimeloop.accelergy_interface:Running Accelergy with command: accelergy /home/workspace/output_dir/parsed-processed-input.yaml -o ./output_dir/ -v\n"
     ]
    },
    {
     "name": "stdout",
     "output_type": "stream",
     "text": [
      "Adding energy and cycle stats for l8_conv3_stride2 occurence 1\n",
      "Running layer 9: l9-l15_conv3_stride1 which occurs 7 times\n",
      "[INFO] 2025-04-30 15:47:09,772 - pytimeloop.accelergy_interface - Running Accelergy with command: accelergy /home/workspace/output_dir/parsed-processed-input.yaml -o ./output_dir/ -v\n"
     ]
    },
    {
     "name": "stderr",
     "output_type": "stream",
     "text": [
      "INFO:pytimeloop.accelergy_interface:Running Accelergy with command: accelergy /home/workspace/output_dir/parsed-processed-input.yaml -o ./output_dir/ -v\n"
     ]
    },
    {
     "name": "stdout",
     "output_type": "stream",
     "text": [
      "Adding energy and cycle stats for l9-l15_conv3_stride1 occurence 1\n",
      "Adding energy and cycle stats for l9-l15_conv3_stride1 occurence 2\n",
      "Adding energy and cycle stats for l9-l15_conv3_stride1 occurence 3\n",
      "Adding energy and cycle stats for l9-l15_conv3_stride1 occurence 4\n",
      "Adding energy and cycle stats for l9-l15_conv3_stride1 occurence 5\n",
      "Adding energy and cycle stats for l9-l15_conv3_stride1 occurence 6\n",
      "Adding energy and cycle stats for l9-l15_conv3_stride1 occurence 7\n",
      "Running layer 16: l16_conv4_stride2 which occurs 1 times\n",
      "[INFO] 2025-04-30 15:47:29,197 - pytimeloop.accelergy_interface - Running Accelergy with command: accelergy /home/workspace/output_dir/parsed-processed-input.yaml -o ./output_dir/ -v\n"
     ]
    },
    {
     "name": "stderr",
     "output_type": "stream",
     "text": [
      "INFO:pytimeloop.accelergy_interface:Running Accelergy with command: accelergy /home/workspace/output_dir/parsed-processed-input.yaml -o ./output_dir/ -v\n"
     ]
    },
    {
     "name": "stdout",
     "output_type": "stream",
     "text": [
      "Adding energy and cycle stats for l16_conv4_stride2 occurence 1\n",
      "Running layer 17: l17-l27_conv4_stride1 which occurs 11 times\n",
      "[INFO] 2025-04-30 15:47:48,330 - pytimeloop.accelergy_interface - Running Accelergy with command: accelergy /home/workspace/output_dir/parsed-processed-input.yaml -o ./output_dir/ -v\n"
     ]
    },
    {
     "name": "stderr",
     "output_type": "stream",
     "text": [
      "INFO:pytimeloop.accelergy_interface:Running Accelergy with command: accelergy /home/workspace/output_dir/parsed-processed-input.yaml -o ./output_dir/ -v\n"
     ]
    },
    {
     "name": "stdout",
     "output_type": "stream",
     "text": [
      "Adding energy and cycle stats for l17-l27_conv4_stride1 occurence 1\n",
      "Adding energy and cycle stats for l17-l27_conv4_stride1 occurence 2\n",
      "Adding energy and cycle stats for l17-l27_conv4_stride1 occurence 3\n",
      "Adding energy and cycle stats for l17-l27_conv4_stride1 occurence 4\n",
      "Adding energy and cycle stats for l17-l27_conv4_stride1 occurence 5\n",
      "Adding energy and cycle stats for l17-l27_conv4_stride1 occurence 6\n",
      "Adding energy and cycle stats for l17-l27_conv4_stride1 occurence 7\n",
      "Adding energy and cycle stats for l17-l27_conv4_stride1 occurence 8\n",
      "Adding energy and cycle stats for l17-l27_conv4_stride1 occurence 9\n",
      "Adding energy and cycle stats for l17-l27_conv4_stride1 occurence 10\n",
      "Adding energy and cycle stats for l17-l27_conv4_stride1 occurence 11\n",
      "Running layer 28: l28_conv5_stride2 which occurs 1 times\n",
      "[INFO] 2025-04-30 15:48:08,080 - pytimeloop.accelergy_interface - Running Accelergy with command: accelergy /home/workspace/output_dir/parsed-processed-input.yaml -o ./output_dir/ -v\n"
     ]
    },
    {
     "name": "stderr",
     "output_type": "stream",
     "text": [
      "INFO:pytimeloop.accelergy_interface:Running Accelergy with command: accelergy /home/workspace/output_dir/parsed-processed-input.yaml -o ./output_dir/ -v\n"
     ]
    },
    {
     "name": "stdout",
     "output_type": "stream",
     "text": [
      "Adding energy and cycle stats for l28_conv5_stride2 occurence 1\n",
      "Running layer 29: l29-l33_conv5_stride1 which occurs 5 times\n",
      "[INFO] 2025-04-30 15:48:28,574 - pytimeloop.accelergy_interface - Running Accelergy with command: accelergy /home/workspace/output_dir/parsed-processed-input.yaml -o ./output_dir/ -v\n"
     ]
    },
    {
     "name": "stderr",
     "output_type": "stream",
     "text": [
      "INFO:pytimeloop.accelergy_interface:Running Accelergy with command: accelergy /home/workspace/output_dir/parsed-processed-input.yaml -o ./output_dir/ -v\n"
     ]
    },
    {
     "name": "stdout",
     "output_type": "stream",
     "text": [
      "Adding energy and cycle stats for l29-l33_conv5_stride1 occurence 1\n",
      "Adding energy and cycle stats for l29-l33_conv5_stride1 occurence 2\n",
      "Adding energy and cycle stats for l29-l33_conv5_stride1 occurence 3\n",
      "Adding energy and cycle stats for l29-l33_conv5_stride1 occurence 4\n",
      "Adding energy and cycle stats for l29-l33_conv5_stride1 occurence 5\n",
      "==================================================\n",
      "Starting Timeloop with configuration:\n",
      "  - arch: Architecture.Tensor_Parallel\n",
      "  - scale: GPUMemoryScale.MEMORY_16MB\n",
      "  - rack: RackSize.RACK_4\n",
      "  - peConfig: PEsConfig.PE_4\n",
      "==================================================\n",
      "Running layer 1: l1_conv1 which occurs 1 times\n",
      "[INFO] 2025-04-30 15:48:50,768 - pytimeloop.accelergy_interface - Running Accelergy with command: accelergy /home/workspace/output_dir/parsed-processed-input.yaml -o ./output_dir/ -v\n"
     ]
    },
    {
     "name": "stderr",
     "output_type": "stream",
     "text": [
      "INFO:pytimeloop.accelergy_interface:Running Accelergy with command: accelergy /home/workspace/output_dir/parsed-processed-input.yaml -o ./output_dir/ -v\n"
     ]
    },
    {
     "name": "stdout",
     "output_type": "stream",
     "text": [
      "Adding energy and cycle stats for l1_conv1 occurence 1\n",
      "Running layer 2: l2_conv2_stride2 which occurs 1 times\n",
      "[INFO] 2025-04-30 15:49:12,904 - pytimeloop.accelergy_interface - Running Accelergy with command: accelergy /home/workspace/output_dir/parsed-processed-input.yaml -o ./output_dir/ -v\n"
     ]
    },
    {
     "name": "stderr",
     "output_type": "stream",
     "text": [
      "INFO:pytimeloop.accelergy_interface:Running Accelergy with command: accelergy /home/workspace/output_dir/parsed-processed-input.yaml -o ./output_dir/ -v\n"
     ]
    },
    {
     "name": "stdout",
     "output_type": "stream",
     "text": [
      "Adding energy and cycle stats for l2_conv2_stride2 occurence 1\n",
      "Running layer 3: l3-l7_conv2_stride1 which occurs 5 times\n",
      "[INFO] 2025-04-30 15:50:08,651 - pytimeloop.accelergy_interface - Running Accelergy with command: accelergy /home/workspace/output_dir/parsed-processed-input.yaml -o ./output_dir/ -v\n"
     ]
    },
    {
     "name": "stderr",
     "output_type": "stream",
     "text": [
      "INFO:pytimeloop.accelergy_interface:Running Accelergy with command: accelergy /home/workspace/output_dir/parsed-processed-input.yaml -o ./output_dir/ -v\n"
     ]
    },
    {
     "name": "stdout",
     "output_type": "stream",
     "text": [
      "Adding energy and cycle stats for l3-l7_conv2_stride1 occurence 1\n",
      "Adding energy and cycle stats for l3-l7_conv2_stride1 occurence 2\n",
      "Adding energy and cycle stats for l3-l7_conv2_stride1 occurence 3\n",
      "Adding energy and cycle stats for l3-l7_conv2_stride1 occurence 4\n",
      "Adding energy and cycle stats for l3-l7_conv2_stride1 occurence 5\n",
      "Running layer 8: l8_conv3_stride2 which occurs 1 times\n",
      "[INFO] 2025-04-30 15:51:01,939 - pytimeloop.accelergy_interface - Running Accelergy with command: accelergy /home/workspace/output_dir/parsed-processed-input.yaml -o ./output_dir/ -v\n"
     ]
    },
    {
     "name": "stderr",
     "output_type": "stream",
     "text": [
      "INFO:pytimeloop.accelergy_interface:Running Accelergy with command: accelergy /home/workspace/output_dir/parsed-processed-input.yaml -o ./output_dir/ -v\n"
     ]
    },
    {
     "name": "stdout",
     "output_type": "stream",
     "text": [
      "Adding energy and cycle stats for l8_conv3_stride2 occurence 1\n",
      "Running layer 9: l9-l15_conv3_stride1 which occurs 7 times\n",
      "[INFO] 2025-04-30 15:51:44,306 - pytimeloop.accelergy_interface - Running Accelergy with command: accelergy /home/workspace/output_dir/parsed-processed-input.yaml -o ./output_dir/ -v\n"
     ]
    },
    {
     "name": "stderr",
     "output_type": "stream",
     "text": [
      "INFO:pytimeloop.accelergy_interface:Running Accelergy with command: accelergy /home/workspace/output_dir/parsed-processed-input.yaml -o ./output_dir/ -v\n"
     ]
    },
    {
     "name": "stdout",
     "output_type": "stream",
     "text": [
      "Adding energy and cycle stats for l9-l15_conv3_stride1 occurence 1\n",
      "Adding energy and cycle stats for l9-l15_conv3_stride1 occurence 2\n",
      "Adding energy and cycle stats for l9-l15_conv3_stride1 occurence 3\n",
      "Adding energy and cycle stats for l9-l15_conv3_stride1 occurence 4\n",
      "Adding energy and cycle stats for l9-l15_conv3_stride1 occurence 5\n",
      "Adding energy and cycle stats for l9-l15_conv3_stride1 occurence 6\n",
      "Adding energy and cycle stats for l9-l15_conv3_stride1 occurence 7\n",
      "Running layer 16: l16_conv4_stride2 which occurs 1 times\n",
      "[INFO] 2025-04-30 15:52:28,063 - pytimeloop.accelergy_interface - Running Accelergy with command: accelergy /home/workspace/output_dir/parsed-processed-input.yaml -o ./output_dir/ -v\n"
     ]
    },
    {
     "name": "stderr",
     "output_type": "stream",
     "text": [
      "INFO:pytimeloop.accelergy_interface:Running Accelergy with command: accelergy /home/workspace/output_dir/parsed-processed-input.yaml -o ./output_dir/ -v\n"
     ]
    },
    {
     "name": "stdout",
     "output_type": "stream",
     "text": [
      "Adding energy and cycle stats for l16_conv4_stride2 occurence 1\n",
      "Running layer 17: l17-l27_conv4_stride1 which occurs 11 times\n",
      "[INFO] 2025-04-30 15:53:22,918 - pytimeloop.accelergy_interface - Running Accelergy with command: accelergy /home/workspace/output_dir/parsed-processed-input.yaml -o ./output_dir/ -v\n"
     ]
    },
    {
     "name": "stderr",
     "output_type": "stream",
     "text": [
      "INFO:pytimeloop.accelergy_interface:Running Accelergy with command: accelergy /home/workspace/output_dir/parsed-processed-input.yaml -o ./output_dir/ -v\n"
     ]
    },
    {
     "name": "stdout",
     "output_type": "stream",
     "text": [
      "Adding energy and cycle stats for l17-l27_conv4_stride1 occurence 1\n",
      "Adding energy and cycle stats for l17-l27_conv4_stride1 occurence 2\n",
      "Adding energy and cycle stats for l17-l27_conv4_stride1 occurence 3\n",
      "Adding energy and cycle stats for l17-l27_conv4_stride1 occurence 4\n",
      "Adding energy and cycle stats for l17-l27_conv4_stride1 occurence 5\n",
      "Adding energy and cycle stats for l17-l27_conv4_stride1 occurence 6\n",
      "Adding energy and cycle stats for l17-l27_conv4_stride1 occurence 7\n",
      "Adding energy and cycle stats for l17-l27_conv4_stride1 occurence 8\n",
      "Adding energy and cycle stats for l17-l27_conv4_stride1 occurence 9\n",
      "Adding energy and cycle stats for l17-l27_conv4_stride1 occurence 10\n",
      "Adding energy and cycle stats for l17-l27_conv4_stride1 occurence 11\n",
      "Running layer 28: l28_conv5_stride2 which occurs 1 times\n",
      "[INFO] 2025-04-30 15:54:26,679 - pytimeloop.accelergy_interface - Running Accelergy with command: accelergy /home/workspace/output_dir/parsed-processed-input.yaml -o ./output_dir/ -v\n"
     ]
    },
    {
     "name": "stderr",
     "output_type": "stream",
     "text": [
      "INFO:pytimeloop.accelergy_interface:Running Accelergy with command: accelergy /home/workspace/output_dir/parsed-processed-input.yaml -o ./output_dir/ -v\n"
     ]
    },
    {
     "name": "stdout",
     "output_type": "stream",
     "text": [
      "Adding energy and cycle stats for l28_conv5_stride2 occurence 1\n",
      "Running layer 29: l29-l33_conv5_stride1 which occurs 5 times\n",
      "[INFO] 2025-04-30 15:55:18,192 - pytimeloop.accelergy_interface - Running Accelergy with command: accelergy /home/workspace/output_dir/parsed-processed-input.yaml -o ./output_dir/ -v\n"
     ]
    },
    {
     "name": "stderr",
     "output_type": "stream",
     "text": [
      "INFO:pytimeloop.accelergy_interface:Running Accelergy with command: accelergy /home/workspace/output_dir/parsed-processed-input.yaml -o ./output_dir/ -v\n"
     ]
    },
    {
     "name": "stdout",
     "output_type": "stream",
     "text": [
      "Adding energy and cycle stats for l29-l33_conv5_stride1 occurence 1\n",
      "Adding energy and cycle stats for l29-l33_conv5_stride1 occurence 2\n",
      "Adding energy and cycle stats for l29-l33_conv5_stride1 occurence 3\n",
      "Adding energy and cycle stats for l29-l33_conv5_stride1 occurence 4\n",
      "Adding energy and cycle stats for l29-l33_conv5_stride1 occurence 5\n"
     ]
    }
   ],
   "source": [
    "# debug currently set to True, set to False to run\n",
    "# controller = TimeLoopExperimentController(True)\n",
    "controller = TimeLoopExperimentController(False)\n",
    "controller.run_single(Architecture.Data_Parallel, GPUMemoryScale.MEMORY_16MB, RackSize.RACK_4, PEsConfig.PE_4, \"persisted_results/milestone3\")\n",
    "controller.run_single(Architecture.Base, GPUMemoryScale.MEMORY_16MB, RackSize.RACK_4, PEsConfig.PE_4, \"persisted_results/milestone3\")\n",
    "controller.run_single(Architecture.Tensor_Parallel, GPUMemoryScale.MEMORY_16MB, RackSize.RACK_4, PEsConfig.PE_4, \"persisted_results/milestone3\")\n",
    "# controller.plot_results()"
   ]
  },
  {
   "cell_type": "code",
   "execution_count": null,
   "id": "6063380b-ba1b-46d8-a3a2-95d7fe35afcd",
   "metadata": {},
   "outputs": [],
   "source": []
  }
 ],
 "metadata": {
  "kernelspec": {
   "display_name": "Python 3 (ipykernel)",
   "language": "python",
   "name": "python3"
  },
  "language_info": {
   "codemirror_mode": {
    "name": "ipython",
    "version": 3
   },
   "file_extension": ".py",
   "mimetype": "text/x-python",
   "name": "python",
   "nbconvert_exporter": "python",
   "pygments_lexer": "ipython3",
   "version": "3.10.12"
  }
 },
 "nbformat": 4,
 "nbformat_minor": 5
}
