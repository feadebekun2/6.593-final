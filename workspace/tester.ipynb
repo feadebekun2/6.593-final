{
 "cells": [
  {
   "cell_type": "code",
   "execution_count": 1,
   "id": "2b77b11d-5ffc-4aeb-8cd7-9181357dc551",
   "metadata": {},
   "outputs": [
    {
     "data": {
      "text/plain": [
       "<module 'matplot_results_plotter.matplot_results_plotter' from '/home/workspace/matplot_results_plotter/matplot_results_plotter.py'>"
      ]
     },
     "execution_count": 1,
     "metadata": {},
     "output_type": "execute_result"
    }
   ],
   "source": [
    "import importlib\n",
    "from main import TimeLoopExperimentController\n",
    "import architectures.architecture_strategy\n",
    "import architectures.architecture_constants\n",
    "import architecture_results.derived_metrics_evaluator\n",
    "import matplot_results_plotter.matplot_results_plotter\n",
    "\n",
    "from architectures.architecture_constants import Architecture, GPUMemoryScale, RackSize, PEsConfig, base_config, resnet_18_layers\n",
    "\n",
    "import matplotlib.pyplot as plt\n",
    "\n",
    "importlib.reload(architectures.architecture_strategy)\n",
    "importlib.reload(architectures.architecture_constants)\n",
    "importlib.reload(architecture_results.derived_metrics_evaluator)\n",
    "importlib.reload(matplot_results_plotter.matplot_results_plotter)"
   ]
  },
  {
   "cell_type": "code",
   "execution_count": null,
   "id": "5cb5f0f5-9910-4686-8dd1-c92799431b6b",
   "metadata": {
    "scrolled": true
   },
   "outputs": [
    {
     "name": "stdout",
     "output_type": "stream",
     "text": [
      "Skipping existing config dir: Base, MEMORY_4MB, RACK_1, PE_1\n",
      "Skipping existing config dir: Base, MEMORY_4MB, RACK_1, PE_4\n",
      "Skipping existing config dir: Base, MEMORY_4MB, RACK_1, PE_16\n",
      "Skipping existing config dir: Base, MEMORY_16MB, RACK_1, PE_1\n",
      "Skipping existing config dir: Base, MEMORY_16MB, RACK_1, PE_4\n",
      "Skipping existing config dir: Base, MEMORY_16MB, RACK_1, PE_16\n",
      "Skipping existing config dir: Base, MEMORY_64MB, RACK_1, PE_1\n",
      "Skipping existing config dir: Base, MEMORY_64MB, RACK_1, PE_4\n",
      "Skipping existing config dir: Base, MEMORY_64MB, RACK_1, PE_16\n",
      "Skipping existing config dir: Base, MEMORY_1024MB, RACK_1, PE_1\n",
      "Skipping existing config dir: Base, MEMORY_1024MB, RACK_1, PE_4\n",
      "Skipping existing config dir: Base, MEMORY_1024MB, RACK_1, PE_16\n",
      "Skipping existing config dir: Data_Parallel, MEMORY_4MB, RACK_4, PE_1\n",
      "Skipping existing config dir: Data_Parallel, MEMORY_4MB, RACK_4, PE_4\n",
      "==================================================\n",
      "Starting Timeloop with configuration:\n",
      "  - arch: Architecture.Data_Parallel\n",
      "  - scale: GPUMemoryScale.MEMORY_4MB\n",
      "  - rack: RackSize.RACK_4\n",
      "  - peConfig: PEsConfig.PE_16\n",
      "==================================================\n",
      "Running layer 1: l1_conv1 which occurs 1 times\n",
      "[INFO] 2025-05-04 09:15:59,765 - pytimeloop.accelergy_interface - Running Accelergy with command: accelergy /home/workspace/output_dir/parsed-processed-input.yaml -o ./output_dir/ -v\n"
     ]
    },
    {
     "name": "stderr",
     "output_type": "stream",
     "text": [
      "INFO:pytimeloop.accelergy_interface:Running Accelergy with command: accelergy /home/workspace/output_dir/parsed-processed-input.yaml -o ./output_dir/ -v\n"
     ]
    },
    {
     "name": "stdout",
     "output_type": "stream",
     "text": [
      "Adding energy and cycle stats for l1_conv1 occurence 1\n",
      "Running layer 2: l2_conv2_stride2 which occurs 1 times\n",
      "[INFO] 2025-05-04 09:17:00,061 - pytimeloop.accelergy_interface - Running Accelergy with command: accelergy /home/workspace/output_dir/parsed-processed-input.yaml -o ./output_dir/ -v\n"
     ]
    },
    {
     "name": "stderr",
     "output_type": "stream",
     "text": [
      "INFO:pytimeloop.accelergy_interface:Running Accelergy with command: accelergy /home/workspace/output_dir/parsed-processed-input.yaml -o ./output_dir/ -v\n"
     ]
    },
    {
     "name": "stdout",
     "output_type": "stream",
     "text": [
      "Adding energy and cycle stats for l2_conv2_stride2 occurence 1\n",
      "Running layer 3: l3-l7_conv2_stride1 which occurs 5 times\n",
      "[INFO] 2025-05-04 09:20:36,984 - pytimeloop.accelergy_interface - Running Accelergy with command: accelergy /home/workspace/output_dir/parsed-processed-input.yaml -o ./output_dir/ -v\n"
     ]
    },
    {
     "name": "stderr",
     "output_type": "stream",
     "text": [
      "INFO:pytimeloop.accelergy_interface:Running Accelergy with command: accelergy /home/workspace/output_dir/parsed-processed-input.yaml -o ./output_dir/ -v\n"
     ]
    },
    {
     "name": "stdout",
     "output_type": "stream",
     "text": [
      "Adding energy and cycle stats for l3-l7_conv2_stride1 occurence 1\n",
      "Adding energy and cycle stats for l3-l7_conv2_stride1 occurence 2\n",
      "Adding energy and cycle stats for l3-l7_conv2_stride1 occurence 3\n",
      "Adding energy and cycle stats for l3-l7_conv2_stride1 occurence 4\n",
      "Adding energy and cycle stats for l3-l7_conv2_stride1 occurence 5\n",
      "Running layer 8: l8_conv3_stride2 which occurs 1 times\n",
      "[INFO] 2025-05-04 09:24:16,464 - pytimeloop.accelergy_interface - Running Accelergy with command: accelergy /home/workspace/output_dir/parsed-processed-input.yaml -o ./output_dir/ -v\n"
     ]
    },
    {
     "name": "stderr",
     "output_type": "stream",
     "text": [
      "INFO:pytimeloop.accelergy_interface:Running Accelergy with command: accelergy /home/workspace/output_dir/parsed-processed-input.yaml -o ./output_dir/ -v\n"
     ]
    },
    {
     "name": "stdout",
     "output_type": "stream",
     "text": [
      "Adding energy and cycle stats for l8_conv3_stride2 occurence 1\n",
      "Running layer 9: l9-l15_conv3_stride1 which occurs 7 times\n",
      "[INFO] 2025-05-04 09:26:43,764 - pytimeloop.accelergy_interface - Running Accelergy with command: accelergy /home/workspace/output_dir/parsed-processed-input.yaml -o ./output_dir/ -v\n"
     ]
    },
    {
     "name": "stderr",
     "output_type": "stream",
     "text": [
      "INFO:pytimeloop.accelergy_interface:Running Accelergy with command: accelergy /home/workspace/output_dir/parsed-processed-input.yaml -o ./output_dir/ -v\n"
     ]
    },
    {
     "name": "stdout",
     "output_type": "stream",
     "text": [
      "Adding energy and cycle stats for l9-l15_conv3_stride1 occurence 1\n",
      "Adding energy and cycle stats for l9-l15_conv3_stride1 occurence 2\n",
      "Adding energy and cycle stats for l9-l15_conv3_stride1 occurence 3\n",
      "Adding energy and cycle stats for l9-l15_conv3_stride1 occurence 4\n",
      "Adding energy and cycle stats for l9-l15_conv3_stride1 occurence 5\n",
      "Adding energy and cycle stats for l9-l15_conv3_stride1 occurence 6\n",
      "Adding energy and cycle stats for l9-l15_conv3_stride1 occurence 7\n",
      "Running layer 16: l16_conv4_stride2 which occurs 1 times\n",
      "[INFO] 2025-05-04 09:30:07,813 - pytimeloop.accelergy_interface - Running Accelergy with command: accelergy /home/workspace/output_dir/parsed-processed-input.yaml -o ./output_dir/ -v\n"
     ]
    },
    {
     "name": "stderr",
     "output_type": "stream",
     "text": [
      "INFO:pytimeloop.accelergy_interface:Running Accelergy with command: accelergy /home/workspace/output_dir/parsed-processed-input.yaml -o ./output_dir/ -v\n"
     ]
    },
    {
     "name": "stdout",
     "output_type": "stream",
     "text": [
      "Adding energy and cycle stats for l16_conv4_stride2 occurence 1\n",
      "Running layer 17: l17-l27_conv4_stride1 which occurs 11 times\n",
      "[INFO] 2025-05-04 09:34:23,378 - pytimeloop.accelergy_interface - Running Accelergy with command: accelergy /home/workspace/output_dir/parsed-processed-input.yaml -o ./output_dir/ -v\n"
     ]
    },
    {
     "name": "stderr",
     "output_type": "stream",
     "text": [
      "INFO:pytimeloop.accelergy_interface:Running Accelergy with command: accelergy /home/workspace/output_dir/parsed-processed-input.yaml -o ./output_dir/ -v\n"
     ]
    },
    {
     "name": "stdout",
     "output_type": "stream",
     "text": [
      "Adding energy and cycle stats for l17-l27_conv4_stride1 occurence 1\n",
      "Adding energy and cycle stats for l17-l27_conv4_stride1 occurence 2\n",
      "Adding energy and cycle stats for l17-l27_conv4_stride1 occurence 3\n",
      "Adding energy and cycle stats for l17-l27_conv4_stride1 occurence 4\n",
      "Adding energy and cycle stats for l17-l27_conv4_stride1 occurence 5\n",
      "Adding energy and cycle stats for l17-l27_conv4_stride1 occurence 6\n",
      "Adding energy and cycle stats for l17-l27_conv4_stride1 occurence 7\n",
      "Adding energy and cycle stats for l17-l27_conv4_stride1 occurence 8\n",
      "Adding energy and cycle stats for l17-l27_conv4_stride1 occurence 9\n",
      "Adding energy and cycle stats for l17-l27_conv4_stride1 occurence 10\n",
      "Adding energy and cycle stats for l17-l27_conv4_stride1 occurence 11\n",
      "Running layer 28: l28_conv5_stride2 which occurs 1 times\n",
      "[INFO] 2025-05-04 09:37:50,162 - pytimeloop.accelergy_interface - Running Accelergy with command: accelergy /home/workspace/output_dir/parsed-processed-input.yaml -o ./output_dir/ -v\n"
     ]
    },
    {
     "name": "stderr",
     "output_type": "stream",
     "text": [
      "INFO:pytimeloop.accelergy_interface:Running Accelergy with command: accelergy /home/workspace/output_dir/parsed-processed-input.yaml -o ./output_dir/ -v\n"
     ]
    },
    {
     "name": "stdout",
     "output_type": "stream",
     "text": [
      "Adding energy and cycle stats for l28_conv5_stride2 occurence 1\n",
      "Running layer 29: l29-l33_conv5_stride1 which occurs 5 times\n",
      "[INFO] 2025-05-04 09:39:56,566 - pytimeloop.accelergy_interface - Running Accelergy with command: accelergy /home/workspace/output_dir/parsed-processed-input.yaml -o ./output_dir/ -v\n"
     ]
    },
    {
     "name": "stderr",
     "output_type": "stream",
     "text": [
      "INFO:pytimeloop.accelergy_interface:Running Accelergy with command: accelergy /home/workspace/output_dir/parsed-processed-input.yaml -o ./output_dir/ -v\n"
     ]
    },
    {
     "name": "stdout",
     "output_type": "stream",
     "text": [
      "Error running layer l29-l33_conv5_stride1: \n",
      "\n",
      "========================================================================================================================\n",
      "Timeloop mapper failed with return code 0. Please check the output files in ./output_dir for more information. To debug, you can edit the file:\n",
      "\t./output_dir/parsed-processed-input.yaml\n",
      "and run \n",
      "\ttl mapper ./output_dir/parsed-processed-input.yaml\n",
      "to see the error. If you're running the mapper and Timeloop can't find a vaild mapping, try setting 'diagnostics: true' in the mapper input specification.\n",
      "==================================================\n",
      "Starting Timeloop with configuration:\n",
      "  - arch: Architecture.Data_Parallel\n",
      "  - scale: GPUMemoryScale.MEMORY_16MB\n",
      "  - rack: RackSize.RACK_4\n",
      "  - peConfig: PEsConfig.PE_1\n",
      "==================================================\n",
      "Running layer 1: l1_conv1 which occurs 1 times\n",
      "[INFO] 2025-05-04 09:40:12,516 - pytimeloop.accelergy_interface - Running Accelergy with command: accelergy /home/workspace/output_dir/parsed-processed-input.yaml -o ./output_dir/ -v\n"
     ]
    },
    {
     "name": "stderr",
     "output_type": "stream",
     "text": [
      "INFO:pytimeloop.accelergy_interface:Running Accelergy with command: accelergy /home/workspace/output_dir/parsed-processed-input.yaml -o ./output_dir/ -v\n"
     ]
    },
    {
     "name": "stdout",
     "output_type": "stream",
     "text": [
      "Adding energy and cycle stats for l1_conv1 occurence 1\n",
      "Running layer 2: l2_conv2_stride2 which occurs 1 times\n",
      "[INFO] 2025-05-04 09:42:41,735 - pytimeloop.accelergy_interface - Running Accelergy with command: accelergy /home/workspace/output_dir/parsed-processed-input.yaml -o ./output_dir/ -v\n"
     ]
    },
    {
     "name": "stderr",
     "output_type": "stream",
     "text": [
      "INFO:pytimeloop.accelergy_interface:Running Accelergy with command: accelergy /home/workspace/output_dir/parsed-processed-input.yaml -o ./output_dir/ -v\n"
     ]
    },
    {
     "name": "stdout",
     "output_type": "stream",
     "text": [
      "Adding energy and cycle stats for l2_conv2_stride2 occurence 1\n",
      "Running layer 3: l3-l7_conv2_stride1 which occurs 5 times\n",
      "[INFO] 2025-05-04 09:46:20,135 - pytimeloop.accelergy_interface - Running Accelergy with command: accelergy /home/workspace/output_dir/parsed-processed-input.yaml -o ./output_dir/ -v\n"
     ]
    },
    {
     "name": "stderr",
     "output_type": "stream",
     "text": [
      "INFO:pytimeloop.accelergy_interface:Running Accelergy with command: accelergy /home/workspace/output_dir/parsed-processed-input.yaml -o ./output_dir/ -v\n"
     ]
    },
    {
     "name": "stdout",
     "output_type": "stream",
     "text": [
      "Adding energy and cycle stats for l3-l7_conv2_stride1 occurence 1\n",
      "Adding energy and cycle stats for l3-l7_conv2_stride1 occurence 2\n",
      "Adding energy and cycle stats for l3-l7_conv2_stride1 occurence 3\n",
      "Adding energy and cycle stats for l3-l7_conv2_stride1 occurence 4\n",
      "Adding energy and cycle stats for l3-l7_conv2_stride1 occurence 5\n",
      "Running layer 8: l8_conv3_stride2 which occurs 1 times\n",
      "[INFO] 2025-05-04 09:49:56,926 - pytimeloop.accelergy_interface - Running Accelergy with command: accelergy /home/workspace/output_dir/parsed-processed-input.yaml -o ./output_dir/ -v\n"
     ]
    },
    {
     "name": "stderr",
     "output_type": "stream",
     "text": [
      "INFO:pytimeloop.accelergy_interface:Running Accelergy with command: accelergy /home/workspace/output_dir/parsed-processed-input.yaml -o ./output_dir/ -v\n"
     ]
    },
    {
     "name": "stdout",
     "output_type": "stream",
     "text": [
      "Adding energy and cycle stats for l8_conv3_stride2 occurence 1\n",
      "Running layer 9: l9-l15_conv3_stride1 which occurs 7 times\n",
      "[INFO] 2025-05-04 09:52:53,322 - pytimeloop.accelergy_interface - Running Accelergy with command: accelergy /home/workspace/output_dir/parsed-processed-input.yaml -o ./output_dir/ -v\n"
     ]
    },
    {
     "name": "stderr",
     "output_type": "stream",
     "text": [
      "INFO:pytimeloop.accelergy_interface:Running Accelergy with command: accelergy /home/workspace/output_dir/parsed-processed-input.yaml -o ./output_dir/ -v\n"
     ]
    },
    {
     "name": "stdout",
     "output_type": "stream",
     "text": [
      "Adding energy and cycle stats for l9-l15_conv3_stride1 occurence 1\n",
      "Adding energy and cycle stats for l9-l15_conv3_stride1 occurence 2\n",
      "Adding energy and cycle stats for l9-l15_conv3_stride1 occurence 3\n",
      "Adding energy and cycle stats for l9-l15_conv3_stride1 occurence 4\n",
      "Adding energy and cycle stats for l9-l15_conv3_stride1 occurence 5\n",
      "Adding energy and cycle stats for l9-l15_conv3_stride1 occurence 6\n",
      "Adding energy and cycle stats for l9-l15_conv3_stride1 occurence 7\n",
      "Running layer 16: l16_conv4_stride2 which occurs 1 times\n",
      "[INFO] 2025-05-04 09:54:54,832 - pytimeloop.accelergy_interface - Running Accelergy with command: accelergy /home/workspace/output_dir/parsed-processed-input.yaml -o ./output_dir/ -v\n"
     ]
    },
    {
     "name": "stderr",
     "output_type": "stream",
     "text": [
      "INFO:pytimeloop.accelergy_interface:Running Accelergy with command: accelergy /home/workspace/output_dir/parsed-processed-input.yaml -o ./output_dir/ -v\n"
     ]
    },
    {
     "name": "stdout",
     "output_type": "stream",
     "text": [
      "Adding energy and cycle stats for l16_conv4_stride2 occurence 1\n",
      "Running layer 17: l17-l27_conv4_stride1 which occurs 11 times\n",
      "[INFO] 2025-05-04 09:57:52,315 - pytimeloop.accelergy_interface - Running Accelergy with command: accelergy /home/workspace/output_dir/parsed-processed-input.yaml -o ./output_dir/ -v\n"
     ]
    },
    {
     "name": "stderr",
     "output_type": "stream",
     "text": [
      "INFO:pytimeloop.accelergy_interface:Running Accelergy with command: accelergy /home/workspace/output_dir/parsed-processed-input.yaml -o ./output_dir/ -v\n"
     ]
    },
    {
     "name": "stdout",
     "output_type": "stream",
     "text": [
      "Adding energy and cycle stats for l17-l27_conv4_stride1 occurence 1\n",
      "Adding energy and cycle stats for l17-l27_conv4_stride1 occurence 2\n",
      "Adding energy and cycle stats for l17-l27_conv4_stride1 occurence 3\n",
      "Adding energy and cycle stats for l17-l27_conv4_stride1 occurence 4\n",
      "Adding energy and cycle stats for l17-l27_conv4_stride1 occurence 5\n",
      "Adding energy and cycle stats for l17-l27_conv4_stride1 occurence 6\n",
      "Adding energy and cycle stats for l17-l27_conv4_stride1 occurence 7\n",
      "Adding energy and cycle stats for l17-l27_conv4_stride1 occurence 8\n",
      "Adding energy and cycle stats for l17-l27_conv4_stride1 occurence 9\n",
      "Adding energy and cycle stats for l17-l27_conv4_stride1 occurence 10\n",
      "Adding energy and cycle stats for l17-l27_conv4_stride1 occurence 11\n",
      "Running layer 28: l28_conv5_stride2 which occurs 1 times\n",
      "[INFO] 2025-05-04 10:00:01,062 - pytimeloop.accelergy_interface - Running Accelergy with command: accelergy /home/workspace/output_dir/parsed-processed-input.yaml -o ./output_dir/ -v\n"
     ]
    },
    {
     "name": "stderr",
     "output_type": "stream",
     "text": [
      "INFO:pytimeloop.accelergy_interface:Running Accelergy with command: accelergy /home/workspace/output_dir/parsed-processed-input.yaml -o ./output_dir/ -v\n"
     ]
    },
    {
     "name": "stdout",
     "output_type": "stream",
     "text": [
      "Adding energy and cycle stats for l28_conv5_stride2 occurence 1\n",
      "Running layer 29: l29-l33_conv5_stride1 which occurs 5 times\n",
      "[INFO] 2025-05-04 10:01:04,606 - pytimeloop.accelergy_interface - Running Accelergy with command: accelergy /home/workspace/output_dir/parsed-processed-input.yaml -o ./output_dir/ -v\n"
     ]
    },
    {
     "name": "stderr",
     "output_type": "stream",
     "text": [
      "INFO:pytimeloop.accelergy_interface:Running Accelergy with command: accelergy /home/workspace/output_dir/parsed-processed-input.yaml -o ./output_dir/ -v\n"
     ]
    },
    {
     "name": "stdout",
     "output_type": "stream",
     "text": [
      "Adding energy and cycle stats for l29-l33_conv5_stride1 occurence 1\n",
      "Adding energy and cycle stats for l29-l33_conv5_stride1 occurence 2\n",
      "Adding energy and cycle stats for l29-l33_conv5_stride1 occurence 3\n",
      "Adding energy and cycle stats for l29-l33_conv5_stride1 occurence 4\n",
      "Adding energy and cycle stats for l29-l33_conv5_stride1 occurence 5\n",
      "==================================================\n",
      "Starting Timeloop with configuration:\n",
      "  - arch: Architecture.Data_Parallel\n",
      "  - scale: GPUMemoryScale.MEMORY_16MB\n",
      "  - rack: RackSize.RACK_4\n",
      "  - peConfig: PEsConfig.PE_4\n",
      "==================================================\n",
      "Running layer 1: l1_conv1 which occurs 1 times\n",
      "[INFO] 2025-05-04 10:02:17,644 - pytimeloop.accelergy_interface - Running Accelergy with command: accelergy /home/workspace/output_dir/parsed-processed-input.yaml -o ./output_dir/ -v\n"
     ]
    },
    {
     "name": "stderr",
     "output_type": "stream",
     "text": [
      "INFO:pytimeloop.accelergy_interface:Running Accelergy with command: accelergy /home/workspace/output_dir/parsed-processed-input.yaml -o ./output_dir/ -v\n"
     ]
    },
    {
     "name": "stdout",
     "output_type": "stream",
     "text": [
      "Adding energy and cycle stats for l1_conv1 occurence 1\n",
      "Running layer 2: l2_conv2_stride2 which occurs 1 times\n",
      "[INFO] 2025-05-04 10:04:43,130 - pytimeloop.accelergy_interface - Running Accelergy with command: accelergy /home/workspace/output_dir/parsed-processed-input.yaml -o ./output_dir/ -v\n"
     ]
    },
    {
     "name": "stderr",
     "output_type": "stream",
     "text": [
      "INFO:pytimeloop.accelergy_interface:Running Accelergy with command: accelergy /home/workspace/output_dir/parsed-processed-input.yaml -o ./output_dir/ -v\n"
     ]
    },
    {
     "name": "stdout",
     "output_type": "stream",
     "text": [
      "Adding energy and cycle stats for l2_conv2_stride2 occurence 1\n",
      "Running layer 3: l3-l7_conv2_stride1 which occurs 5 times\n",
      "[INFO] 2025-05-04 10:08:28,049 - pytimeloop.accelergy_interface - Running Accelergy with command: accelergy /home/workspace/output_dir/parsed-processed-input.yaml -o ./output_dir/ -v\n"
     ]
    },
    {
     "name": "stderr",
     "output_type": "stream",
     "text": [
      "INFO:pytimeloop.accelergy_interface:Running Accelergy with command: accelergy /home/workspace/output_dir/parsed-processed-input.yaml -o ./output_dir/ -v\n"
     ]
    },
    {
     "name": "stdout",
     "output_type": "stream",
     "text": [
      "Adding energy and cycle stats for l3-l7_conv2_stride1 occurence 1\n",
      "Adding energy and cycle stats for l3-l7_conv2_stride1 occurence 2\n",
      "Adding energy and cycle stats for l3-l7_conv2_stride1 occurence 3\n",
      "Adding energy and cycle stats for l3-l7_conv2_stride1 occurence 4\n",
      "Adding energy and cycle stats for l3-l7_conv2_stride1 occurence 5\n",
      "Running layer 8: l8_conv3_stride2 which occurs 1 times\n",
      "[INFO] 2025-05-04 10:12:12,691 - pytimeloop.accelergy_interface - Running Accelergy with command: accelergy /home/workspace/output_dir/parsed-processed-input.yaml -o ./output_dir/ -v\n"
     ]
    },
    {
     "name": "stderr",
     "output_type": "stream",
     "text": [
      "INFO:pytimeloop.accelergy_interface:Running Accelergy with command: accelergy /home/workspace/output_dir/parsed-processed-input.yaml -o ./output_dir/ -v\n"
     ]
    },
    {
     "name": "stdout",
     "output_type": "stream",
     "text": [
      "Adding energy and cycle stats for l8_conv3_stride2 occurence 1\n",
      "Running layer 9: l9-l15_conv3_stride1 which occurs 7 times\n",
      "[INFO] 2025-05-04 10:15:43,202 - pytimeloop.accelergy_interface - Running Accelergy with command: accelergy /home/workspace/output_dir/parsed-processed-input.yaml -o ./output_dir/ -v\n"
     ]
    },
    {
     "name": "stderr",
     "output_type": "stream",
     "text": [
      "INFO:pytimeloop.accelergy_interface:Running Accelergy with command: accelergy /home/workspace/output_dir/parsed-processed-input.yaml -o ./output_dir/ -v\n"
     ]
    },
    {
     "name": "stdout",
     "output_type": "stream",
     "text": [
      "Adding energy and cycle stats for l9-l15_conv3_stride1 occurence 1\n",
      "Adding energy and cycle stats for l9-l15_conv3_stride1 occurence 2\n",
      "Adding energy and cycle stats for l9-l15_conv3_stride1 occurence 3\n",
      "Adding energy and cycle stats for l9-l15_conv3_stride1 occurence 4\n",
      "Adding energy and cycle stats for l9-l15_conv3_stride1 occurence 5\n",
      "Adding energy and cycle stats for l9-l15_conv3_stride1 occurence 6\n",
      "Adding energy and cycle stats for l9-l15_conv3_stride1 occurence 7\n",
      "Running layer 16: l16_conv4_stride2 which occurs 1 times\n",
      "[INFO] 2025-05-04 10:18:51,031 - pytimeloop.accelergy_interface - Running Accelergy with command: accelergy /home/workspace/output_dir/parsed-processed-input.yaml -o ./output_dir/ -v\n"
     ]
    },
    {
     "name": "stderr",
     "output_type": "stream",
     "text": [
      "INFO:pytimeloop.accelergy_interface:Running Accelergy with command: accelergy /home/workspace/output_dir/parsed-processed-input.yaml -o ./output_dir/ -v\n"
     ]
    },
    {
     "name": "stdout",
     "output_type": "stream",
     "text": [
      "Adding energy and cycle stats for l16_conv4_stride2 occurence 1\n",
      "Running layer 17: l17-l27_conv4_stride1 which occurs 11 times\n",
      "[INFO] 2025-05-04 10:21:58,065 - pytimeloop.accelergy_interface - Running Accelergy with command: accelergy /home/workspace/output_dir/parsed-processed-input.yaml -o ./output_dir/ -v\n"
     ]
    },
    {
     "name": "stderr",
     "output_type": "stream",
     "text": [
      "INFO:pytimeloop.accelergy_interface:Running Accelergy with command: accelergy /home/workspace/output_dir/parsed-processed-input.yaml -o ./output_dir/ -v\n"
     ]
    },
    {
     "name": "stdout",
     "output_type": "stream",
     "text": [
      "Adding energy and cycle stats for l17-l27_conv4_stride1 occurence 1\n",
      "Adding energy and cycle stats for l17-l27_conv4_stride1 occurence 2\n",
      "Adding energy and cycle stats for l17-l27_conv4_stride1 occurence 3\n",
      "Adding energy and cycle stats for l17-l27_conv4_stride1 occurence 4\n",
      "Adding energy and cycle stats for l17-l27_conv4_stride1 occurence 5\n",
      "Adding energy and cycle stats for l17-l27_conv4_stride1 occurence 6\n",
      "Adding energy and cycle stats for l17-l27_conv4_stride1 occurence 7\n",
      "Adding energy and cycle stats for l17-l27_conv4_stride1 occurence 8\n",
      "Adding energy and cycle stats for l17-l27_conv4_stride1 occurence 9\n",
      "Adding energy and cycle stats for l17-l27_conv4_stride1 occurence 10\n",
      "Adding energy and cycle stats for l17-l27_conv4_stride1 occurence 11\n",
      "Running layer 28: l28_conv5_stride2 which occurs 1 times\n",
      "[INFO] 2025-05-04 10:24:12,964 - pytimeloop.accelergy_interface - Running Accelergy with command: accelergy /home/workspace/output_dir/parsed-processed-input.yaml -o ./output_dir/ -v\n"
     ]
    },
    {
     "name": "stderr",
     "output_type": "stream",
     "text": [
      "INFO:pytimeloop.accelergy_interface:Running Accelergy with command: accelergy /home/workspace/output_dir/parsed-processed-input.yaml -o ./output_dir/ -v\n"
     ]
    },
    {
     "name": "stdout",
     "output_type": "stream",
     "text": [
      "Adding energy and cycle stats for l28_conv5_stride2 occurence 1\n",
      "Running layer 29: l29-l33_conv5_stride1 which occurs 5 times\n",
      "[INFO] 2025-05-04 10:25:22,651 - pytimeloop.accelergy_interface - Running Accelergy with command: accelergy /home/workspace/output_dir/parsed-processed-input.yaml -o ./output_dir/ -v\n"
     ]
    },
    {
     "name": "stderr",
     "output_type": "stream",
     "text": [
      "INFO:pytimeloop.accelergy_interface:Running Accelergy with command: accelergy /home/workspace/output_dir/parsed-processed-input.yaml -o ./output_dir/ -v\n"
     ]
    },
    {
     "name": "stdout",
     "output_type": "stream",
     "text": [
      "Adding energy and cycle stats for l29-l33_conv5_stride1 occurence 1\n",
      "Adding energy and cycle stats for l29-l33_conv5_stride1 occurence 2\n",
      "Adding energy and cycle stats for l29-l33_conv5_stride1 occurence 3\n",
      "Adding energy and cycle stats for l29-l33_conv5_stride1 occurence 4\n",
      "Adding energy and cycle stats for l29-l33_conv5_stride1 occurence 5\n",
      "==================================================\n",
      "Starting Timeloop with configuration:\n",
      "  - arch: Architecture.Data_Parallel\n",
      "  - scale: GPUMemoryScale.MEMORY_16MB\n",
      "  - rack: RackSize.RACK_4\n",
      "  - peConfig: PEsConfig.PE_16\n",
      "==================================================\n",
      "Running layer 1: l1_conv1 which occurs 1 times\n",
      "[INFO] 2025-05-04 10:26:29,725 - pytimeloop.accelergy_interface - Running Accelergy with command: accelergy /home/workspace/output_dir/parsed-processed-input.yaml -o ./output_dir/ -v\n"
     ]
    },
    {
     "name": "stderr",
     "output_type": "stream",
     "text": [
      "INFO:pytimeloop.accelergy_interface:Running Accelergy with command: accelergy /home/workspace/output_dir/parsed-processed-input.yaml -o ./output_dir/ -v\n"
     ]
    },
    {
     "name": "stdout",
     "output_type": "stream",
     "text": [
      "Adding energy and cycle stats for l1_conv1 occurence 1\n",
      "Running layer 2: l2_conv2_stride2 which occurs 1 times\n",
      "[INFO] 2025-05-04 10:28:27,963 - pytimeloop.accelergy_interface - Running Accelergy with command: accelergy /home/workspace/output_dir/parsed-processed-input.yaml -o ./output_dir/ -v\n"
     ]
    },
    {
     "name": "stderr",
     "output_type": "stream",
     "text": [
      "INFO:pytimeloop.accelergy_interface:Running Accelergy with command: accelergy /home/workspace/output_dir/parsed-processed-input.yaml -o ./output_dir/ -v\n"
     ]
    },
    {
     "name": "stdout",
     "output_type": "stream",
     "text": [
      "Adding energy and cycle stats for l2_conv2_stride2 occurence 1\n",
      "Running layer 3: l3-l7_conv2_stride1 which occurs 5 times\n",
      "[INFO] 2025-05-04 10:32:26,790 - pytimeloop.accelergy_interface - Running Accelergy with command: accelergy /home/workspace/output_dir/parsed-processed-input.yaml -o ./output_dir/ -v\n"
     ]
    },
    {
     "name": "stderr",
     "output_type": "stream",
     "text": [
      "INFO:pytimeloop.accelergy_interface:Running Accelergy with command: accelergy /home/workspace/output_dir/parsed-processed-input.yaml -o ./output_dir/ -v\n"
     ]
    },
    {
     "name": "stdout",
     "output_type": "stream",
     "text": [
      "Adding energy and cycle stats for l3-l7_conv2_stride1 occurence 1\n",
      "Adding energy and cycle stats for l3-l7_conv2_stride1 occurence 2\n",
      "Adding energy and cycle stats for l3-l7_conv2_stride1 occurence 3\n",
      "Adding energy and cycle stats for l3-l7_conv2_stride1 occurence 4\n",
      "Adding energy and cycle stats for l3-l7_conv2_stride1 occurence 5\n",
      "Running layer 8: l8_conv3_stride2 which occurs 1 times\n",
      "[INFO] 2025-05-04 10:36:23,081 - pytimeloop.accelergy_interface - Running Accelergy with command: accelergy /home/workspace/output_dir/parsed-processed-input.yaml -o ./output_dir/ -v\n"
     ]
    },
    {
     "name": "stderr",
     "output_type": "stream",
     "text": [
      "INFO:pytimeloop.accelergy_interface:Running Accelergy with command: accelergy /home/workspace/output_dir/parsed-processed-input.yaml -o ./output_dir/ -v\n"
     ]
    },
    {
     "name": "stdout",
     "output_type": "stream",
     "text": [
      "Adding energy and cycle stats for l8_conv3_stride2 occurence 1\n",
      "Running layer 9: l9-l15_conv3_stride1 which occurs 7 times\n",
      "[INFO] 2025-05-04 10:39:50,554 - pytimeloop.accelergy_interface - Running Accelergy with command: accelergy /home/workspace/output_dir/parsed-processed-input.yaml -o ./output_dir/ -v\n"
     ]
    },
    {
     "name": "stderr",
     "output_type": "stream",
     "text": [
      "INFO:pytimeloop.accelergy_interface:Running Accelergy with command: accelergy /home/workspace/output_dir/parsed-processed-input.yaml -o ./output_dir/ -v\n"
     ]
    },
    {
     "name": "stdout",
     "output_type": "stream",
     "text": [
      "Adding energy and cycle stats for l9-l15_conv3_stride1 occurence 1\n",
      "Adding energy and cycle stats for l9-l15_conv3_stride1 occurence 2\n",
      "Adding energy and cycle stats for l9-l15_conv3_stride1 occurence 3\n",
      "Adding energy and cycle stats for l9-l15_conv3_stride1 occurence 4\n",
      "Adding energy and cycle stats for l9-l15_conv3_stride1 occurence 5\n",
      "Adding energy and cycle stats for l9-l15_conv3_stride1 occurence 6\n",
      "Adding energy and cycle stats for l9-l15_conv3_stride1 occurence 7\n",
      "Running layer 16: l16_conv4_stride2 which occurs 1 times\n",
      "[INFO] 2025-05-04 10:43:31,700 - pytimeloop.accelergy_interface - Running Accelergy with command: accelergy /home/workspace/output_dir/parsed-processed-input.yaml -o ./output_dir/ -v\n"
     ]
    },
    {
     "name": "stderr",
     "output_type": "stream",
     "text": [
      "INFO:pytimeloop.accelergy_interface:Running Accelergy with command: accelergy /home/workspace/output_dir/parsed-processed-input.yaml -o ./output_dir/ -v\n"
     ]
    },
    {
     "name": "stdout",
     "output_type": "stream",
     "text": [
      "Adding energy and cycle stats for l16_conv4_stride2 occurence 1\n",
      "Running layer 17: l17-l27_conv4_stride1 which occurs 11 times\n",
      "[INFO] 2025-05-04 10:46:31,291 - pytimeloop.accelergy_interface - Running Accelergy with command: accelergy /home/workspace/output_dir/parsed-processed-input.yaml -o ./output_dir/ -v\n"
     ]
    },
    {
     "name": "stderr",
     "output_type": "stream",
     "text": [
      "INFO:pytimeloop.accelergy_interface:Running Accelergy with command: accelergy /home/workspace/output_dir/parsed-processed-input.yaml -o ./output_dir/ -v\n"
     ]
    },
    {
     "name": "stdout",
     "output_type": "stream",
     "text": [
      "Adding energy and cycle stats for l17-l27_conv4_stride1 occurence 1\n",
      "Adding energy and cycle stats for l17-l27_conv4_stride1 occurence 2\n",
      "Adding energy and cycle stats for l17-l27_conv4_stride1 occurence 3\n",
      "Adding energy and cycle stats for l17-l27_conv4_stride1 occurence 4\n",
      "Adding energy and cycle stats for l17-l27_conv4_stride1 occurence 5\n",
      "Adding energy and cycle stats for l17-l27_conv4_stride1 occurence 6\n",
      "Adding energy and cycle stats for l17-l27_conv4_stride1 occurence 7\n",
      "Adding energy and cycle stats for l17-l27_conv4_stride1 occurence 8\n",
      "Adding energy and cycle stats for l17-l27_conv4_stride1 occurence 9\n",
      "Adding energy and cycle stats for l17-l27_conv4_stride1 occurence 10\n",
      "Adding energy and cycle stats for l17-l27_conv4_stride1 occurence 11\n",
      "Running layer 28: l28_conv5_stride2 which occurs 1 times\n",
      "[INFO] 2025-05-04 10:49:34,973 - pytimeloop.accelergy_interface - Running Accelergy with command: accelergy /home/workspace/output_dir/parsed-processed-input.yaml -o ./output_dir/ -v\n"
     ]
    },
    {
     "name": "stderr",
     "output_type": "stream",
     "text": [
      "INFO:pytimeloop.accelergy_interface:Running Accelergy with command: accelergy /home/workspace/output_dir/parsed-processed-input.yaml -o ./output_dir/ -v\n"
     ]
    },
    {
     "name": "stdout",
     "output_type": "stream",
     "text": [
      "Adding energy and cycle stats for l28_conv5_stride2 occurence 1\n",
      "Running layer 29: l29-l33_conv5_stride1 which occurs 5 times\n",
      "[INFO] 2025-05-04 10:50:52,571 - pytimeloop.accelergy_interface - Running Accelergy with command: accelergy /home/workspace/output_dir/parsed-processed-input.yaml -o ./output_dir/ -v\n"
     ]
    },
    {
     "name": "stderr",
     "output_type": "stream",
     "text": [
      "INFO:pytimeloop.accelergy_interface:Running Accelergy with command: accelergy /home/workspace/output_dir/parsed-processed-input.yaml -o ./output_dir/ -v\n"
     ]
    },
    {
     "name": "stdout",
     "output_type": "stream",
     "text": [
      "Adding energy and cycle stats for l29-l33_conv5_stride1 occurence 1\n",
      "Adding energy and cycle stats for l29-l33_conv5_stride1 occurence 2\n",
      "Adding energy and cycle stats for l29-l33_conv5_stride1 occurence 3\n",
      "Adding energy and cycle stats for l29-l33_conv5_stride1 occurence 4\n",
      "Adding energy and cycle stats for l29-l33_conv5_stride1 occurence 5\n",
      "==================================================\n",
      "Starting Timeloop with configuration:\n",
      "  - arch: Architecture.Data_Parallel\n",
      "  - scale: GPUMemoryScale.MEMORY_64MB\n",
      "  - rack: RackSize.RACK_4\n",
      "  - peConfig: PEsConfig.PE_1\n",
      "==================================================\n",
      "Running layer 1: l1_conv1 which occurs 1 times\n",
      "[INFO] 2025-05-04 10:52:10,387 - pytimeloop.accelergy_interface - Running Accelergy with command: accelergy /home/workspace/output_dir/parsed-processed-input.yaml -o ./output_dir/ -v\n"
     ]
    },
    {
     "name": "stderr",
     "output_type": "stream",
     "text": [
      "INFO:pytimeloop.accelergy_interface:Running Accelergy with command: accelergy /home/workspace/output_dir/parsed-processed-input.yaml -o ./output_dir/ -v\n"
     ]
    },
    {
     "name": "stdout",
     "output_type": "stream",
     "text": [
      "Adding energy and cycle stats for l1_conv1 occurence 1\n",
      "Running layer 2: l2_conv2_stride2 which occurs 1 times\n",
      "[INFO] 2025-05-04 10:54:08,101 - pytimeloop.accelergy_interface - Running Accelergy with command: accelergy /home/workspace/output_dir/parsed-processed-input.yaml -o ./output_dir/ -v\n"
     ]
    },
    {
     "name": "stderr",
     "output_type": "stream",
     "text": [
      "INFO:pytimeloop.accelergy_interface:Running Accelergy with command: accelergy /home/workspace/output_dir/parsed-processed-input.yaml -o ./output_dir/ -v\n"
     ]
    },
    {
     "name": "stdout",
     "output_type": "stream",
     "text": [
      "Adding energy and cycle stats for l2_conv2_stride2 occurence 1\n",
      "Running layer 3: l3-l7_conv2_stride1 which occurs 5 times\n",
      "[INFO] 2025-05-04 10:57:31,140 - pytimeloop.accelergy_interface - Running Accelergy with command: accelergy /home/workspace/output_dir/parsed-processed-input.yaml -o ./output_dir/ -v\n"
     ]
    },
    {
     "name": "stderr",
     "output_type": "stream",
     "text": [
      "INFO:pytimeloop.accelergy_interface:Running Accelergy with command: accelergy /home/workspace/output_dir/parsed-processed-input.yaml -o ./output_dir/ -v\n"
     ]
    },
    {
     "name": "stdout",
     "output_type": "stream",
     "text": [
      "Adding energy and cycle stats for l3-l7_conv2_stride1 occurence 1\n",
      "Adding energy and cycle stats for l3-l7_conv2_stride1 occurence 2\n",
      "Adding energy and cycle stats for l3-l7_conv2_stride1 occurence 3\n",
      "Adding energy and cycle stats for l3-l7_conv2_stride1 occurence 4\n",
      "Adding energy and cycle stats for l3-l7_conv2_stride1 occurence 5\n",
      "Running layer 8: l8_conv3_stride2 which occurs 1 times\n",
      "[INFO] 2025-05-04 11:00:54,430 - pytimeloop.accelergy_interface - Running Accelergy with command: accelergy /home/workspace/output_dir/parsed-processed-input.yaml -o ./output_dir/ -v\n"
     ]
    },
    {
     "name": "stderr",
     "output_type": "stream",
     "text": [
      "INFO:pytimeloop.accelergy_interface:Running Accelergy with command: accelergy /home/workspace/output_dir/parsed-processed-input.yaml -o ./output_dir/ -v\n"
     ]
    },
    {
     "name": "stdout",
     "output_type": "stream",
     "text": [
      "Adding energy and cycle stats for l8_conv3_stride2 occurence 1\n",
      "Running layer 9: l9-l15_conv3_stride1 which occurs 7 times\n",
      "[INFO] 2025-05-04 11:03:53,132 - pytimeloop.accelergy_interface - Running Accelergy with command: accelergy /home/workspace/output_dir/parsed-processed-input.yaml -o ./output_dir/ -v\n"
     ]
    },
    {
     "name": "stderr",
     "output_type": "stream",
     "text": [
      "INFO:pytimeloop.accelergy_interface:Running Accelergy with command: accelergy /home/workspace/output_dir/parsed-processed-input.yaml -o ./output_dir/ -v\n"
     ]
    },
    {
     "name": "stdout",
     "output_type": "stream",
     "text": [
      "Adding energy and cycle stats for l9-l15_conv3_stride1 occurence 1\n",
      "Adding energy and cycle stats for l9-l15_conv3_stride1 occurence 2\n",
      "Adding energy and cycle stats for l9-l15_conv3_stride1 occurence 3\n",
      "Adding energy and cycle stats for l9-l15_conv3_stride1 occurence 4\n",
      "Adding energy and cycle stats for l9-l15_conv3_stride1 occurence 5\n",
      "Adding energy and cycle stats for l9-l15_conv3_stride1 occurence 6\n",
      "Adding energy and cycle stats for l9-l15_conv3_stride1 occurence 7\n",
      "Running layer 16: l16_conv4_stride2 which occurs 1 times\n",
      "[INFO] 2025-05-04 11:05:56,863 - pytimeloop.accelergy_interface - Running Accelergy with command: accelergy /home/workspace/output_dir/parsed-processed-input.yaml -o ./output_dir/ -v\n"
     ]
    },
    {
     "name": "stderr",
     "output_type": "stream",
     "text": [
      "INFO:pytimeloop.accelergy_interface:Running Accelergy with command: accelergy /home/workspace/output_dir/parsed-processed-input.yaml -o ./output_dir/ -v\n"
     ]
    },
    {
     "name": "stdout",
     "output_type": "stream",
     "text": [
      "Adding energy and cycle stats for l16_conv4_stride2 occurence 1\n",
      "Running layer 17: l17-l27_conv4_stride1 which occurs 11 times\n",
      "[INFO] 2025-05-04 11:08:47,551 - pytimeloop.accelergy_interface - Running Accelergy with command: accelergy /home/workspace/output_dir/parsed-processed-input.yaml -o ./output_dir/ -v\n"
     ]
    },
    {
     "name": "stderr",
     "output_type": "stream",
     "text": [
      "INFO:pytimeloop.accelergy_interface:Running Accelergy with command: accelergy /home/workspace/output_dir/parsed-processed-input.yaml -o ./output_dir/ -v\n"
     ]
    },
    {
     "name": "stdout",
     "output_type": "stream",
     "text": [
      "Adding energy and cycle stats for l17-l27_conv4_stride1 occurence 1\n",
      "Adding energy and cycle stats for l17-l27_conv4_stride1 occurence 2\n",
      "Adding energy and cycle stats for l17-l27_conv4_stride1 occurence 3\n",
      "Adding energy and cycle stats for l17-l27_conv4_stride1 occurence 4\n",
      "Adding energy and cycle stats for l17-l27_conv4_stride1 occurence 5\n",
      "Adding energy and cycle stats for l17-l27_conv4_stride1 occurence 6\n",
      "Adding energy and cycle stats for l17-l27_conv4_stride1 occurence 7\n",
      "Adding energy and cycle stats for l17-l27_conv4_stride1 occurence 8\n",
      "Adding energy and cycle stats for l17-l27_conv4_stride1 occurence 9\n",
      "Adding energy and cycle stats for l17-l27_conv4_stride1 occurence 10\n",
      "Adding energy and cycle stats for l17-l27_conv4_stride1 occurence 11\n",
      "Running layer 28: l28_conv5_stride2 which occurs 1 times\n",
      "[INFO] 2025-05-04 11:10:57,730 - pytimeloop.accelergy_interface - Running Accelergy with command: accelergy /home/workspace/output_dir/parsed-processed-input.yaml -o ./output_dir/ -v\n"
     ]
    },
    {
     "name": "stderr",
     "output_type": "stream",
     "text": [
      "INFO:pytimeloop.accelergy_interface:Running Accelergy with command: accelergy /home/workspace/output_dir/parsed-processed-input.yaml -o ./output_dir/ -v\n"
     ]
    },
    {
     "name": "stdout",
     "output_type": "stream",
     "text": [
      "Adding energy and cycle stats for l28_conv5_stride2 occurence 1\n",
      "Running layer 29: l29-l33_conv5_stride1 which occurs 5 times\n",
      "[INFO] 2025-05-04 11:12:02,319 - pytimeloop.accelergy_interface - Running Accelergy with command: accelergy /home/workspace/output_dir/parsed-processed-input.yaml -o ./output_dir/ -v\n"
     ]
    },
    {
     "name": "stderr",
     "output_type": "stream",
     "text": [
      "INFO:pytimeloop.accelergy_interface:Running Accelergy with command: accelergy /home/workspace/output_dir/parsed-processed-input.yaml -o ./output_dir/ -v\n"
     ]
    },
    {
     "name": "stdout",
     "output_type": "stream",
     "text": [
      "Adding energy and cycle stats for l29-l33_conv5_stride1 occurence 1\n",
      "Adding energy and cycle stats for l29-l33_conv5_stride1 occurence 2\n",
      "Adding energy and cycle stats for l29-l33_conv5_stride1 occurence 3\n",
      "Adding energy and cycle stats for l29-l33_conv5_stride1 occurence 4\n",
      "Adding energy and cycle stats for l29-l33_conv5_stride1 occurence 5\n",
      "==================================================\n",
      "Starting Timeloop with configuration:\n",
      "  - arch: Architecture.Data_Parallel\n",
      "  - scale: GPUMemoryScale.MEMORY_64MB\n",
      "  - rack: RackSize.RACK_4\n",
      "  - peConfig: PEsConfig.PE_4\n",
      "==================================================\n",
      "Running layer 1: l1_conv1 which occurs 1 times\n",
      "[INFO] 2025-05-04 11:13:16,577 - pytimeloop.accelergy_interface - Running Accelergy with command: accelergy /home/workspace/output_dir/parsed-processed-input.yaml -o ./output_dir/ -v\n"
     ]
    },
    {
     "name": "stderr",
     "output_type": "stream",
     "text": [
      "INFO:pytimeloop.accelergy_interface:Running Accelergy with command: accelergy /home/workspace/output_dir/parsed-processed-input.yaml -o ./output_dir/ -v\n"
     ]
    },
    {
     "name": "stdout",
     "output_type": "stream",
     "text": [
      "Adding energy and cycle stats for l1_conv1 occurence 1\n",
      "Running layer 2: l2_conv2_stride2 which occurs 1 times\n",
      "[INFO] 2025-05-04 11:15:17,327 - pytimeloop.accelergy_interface - Running Accelergy with command: accelergy /home/workspace/output_dir/parsed-processed-input.yaml -o ./output_dir/ -v\n"
     ]
    },
    {
     "name": "stderr",
     "output_type": "stream",
     "text": [
      "INFO:pytimeloop.accelergy_interface:Running Accelergy with command: accelergy /home/workspace/output_dir/parsed-processed-input.yaml -o ./output_dir/ -v\n"
     ]
    },
    {
     "name": "stdout",
     "output_type": "stream",
     "text": [
      "Adding energy and cycle stats for l2_conv2_stride2 occurence 1\n",
      "Running layer 3: l3-l7_conv2_stride1 which occurs 5 times\n",
      "[INFO] 2025-05-04 11:18:13,232 - pytimeloop.accelergy_interface - Running Accelergy with command: accelergy /home/workspace/output_dir/parsed-processed-input.yaml -o ./output_dir/ -v\n"
     ]
    },
    {
     "name": "stderr",
     "output_type": "stream",
     "text": [
      "INFO:pytimeloop.accelergy_interface:Running Accelergy with command: accelergy /home/workspace/output_dir/parsed-processed-input.yaml -o ./output_dir/ -v\n"
     ]
    },
    {
     "name": "stdout",
     "output_type": "stream",
     "text": [
      "Adding energy and cycle stats for l3-l7_conv2_stride1 occurence 1\n",
      "Adding energy and cycle stats for l3-l7_conv2_stride1 occurence 2\n",
      "Adding energy and cycle stats for l3-l7_conv2_stride1 occurence 3\n",
      "Adding energy and cycle stats for l3-l7_conv2_stride1 occurence 4\n",
      "Adding energy and cycle stats for l3-l7_conv2_stride1 occurence 5\n",
      "Running layer 8: l8_conv3_stride2 which occurs 1 times\n",
      "[INFO] 2025-05-04 11:21:10,451 - pytimeloop.accelergy_interface - Running Accelergy with command: accelergy /home/workspace/output_dir/parsed-processed-input.yaml -o ./output_dir/ -v\n"
     ]
    },
    {
     "name": "stderr",
     "output_type": "stream",
     "text": [
      "INFO:pytimeloop.accelergy_interface:Running Accelergy with command: accelergy /home/workspace/output_dir/parsed-processed-input.yaml -o ./output_dir/ -v\n"
     ]
    },
    {
     "name": "stdout",
     "output_type": "stream",
     "text": [
      "Adding energy and cycle stats for l8_conv3_stride2 occurence 1\n",
      "Running layer 9: l9-l15_conv3_stride1 which occurs 7 times\n",
      "[INFO] 2025-05-04 11:24:33,865 - pytimeloop.accelergy_interface - Running Accelergy with command: accelergy /home/workspace/output_dir/parsed-processed-input.yaml -o ./output_dir/ -v\n"
     ]
    },
    {
     "name": "stderr",
     "output_type": "stream",
     "text": [
      "INFO:pytimeloop.accelergy_interface:Running Accelergy with command: accelergy /home/workspace/output_dir/parsed-processed-input.yaml -o ./output_dir/ -v\n"
     ]
    },
    {
     "name": "stdout",
     "output_type": "stream",
     "text": [
      "Adding energy and cycle stats for l9-l15_conv3_stride1 occurence 1\n",
      "Adding energy and cycle stats for l9-l15_conv3_stride1 occurence 2\n",
      "Adding energy and cycle stats for l9-l15_conv3_stride1 occurence 3\n",
      "Adding energy and cycle stats for l9-l15_conv3_stride1 occurence 4\n",
      "Adding energy and cycle stats for l9-l15_conv3_stride1 occurence 5\n",
      "Adding energy and cycle stats for l9-l15_conv3_stride1 occurence 6\n",
      "Adding energy and cycle stats for l9-l15_conv3_stride1 occurence 7\n",
      "Running layer 16: l16_conv4_stride2 which occurs 1 times\n",
      "[INFO] 2025-05-04 11:27:42,056 - pytimeloop.accelergy_interface - Running Accelergy with command: accelergy /home/workspace/output_dir/parsed-processed-input.yaml -o ./output_dir/ -v\n"
     ]
    },
    {
     "name": "stderr",
     "output_type": "stream",
     "text": [
      "INFO:pytimeloop.accelergy_interface:Running Accelergy with command: accelergy /home/workspace/output_dir/parsed-processed-input.yaml -o ./output_dir/ -v\n"
     ]
    },
    {
     "name": "stdout",
     "output_type": "stream",
     "text": [
      "Adding energy and cycle stats for l16_conv4_stride2 occurence 1\n",
      "Running layer 17: l17-l27_conv4_stride1 which occurs 11 times\n",
      "[INFO] 2025-05-04 11:30:12,100 - pytimeloop.accelergy_interface - Running Accelergy with command: accelergy /home/workspace/output_dir/parsed-processed-input.yaml -o ./output_dir/ -v\n"
     ]
    },
    {
     "name": "stderr",
     "output_type": "stream",
     "text": [
      "INFO:pytimeloop.accelergy_interface:Running Accelergy with command: accelergy /home/workspace/output_dir/parsed-processed-input.yaml -o ./output_dir/ -v\n"
     ]
    },
    {
     "name": "stdout",
     "output_type": "stream",
     "text": [
      "Adding energy and cycle stats for l17-l27_conv4_stride1 occurence 1\n",
      "Adding energy and cycle stats for l17-l27_conv4_stride1 occurence 2\n",
      "Adding energy and cycle stats for l17-l27_conv4_stride1 occurence 3\n",
      "Adding energy and cycle stats for l17-l27_conv4_stride1 occurence 4\n",
      "Adding energy and cycle stats for l17-l27_conv4_stride1 occurence 5\n",
      "Adding energy and cycle stats for l17-l27_conv4_stride1 occurence 6\n",
      "Adding energy and cycle stats for l17-l27_conv4_stride1 occurence 7\n",
      "Adding energy and cycle stats for l17-l27_conv4_stride1 occurence 8\n",
      "Adding energy and cycle stats for l17-l27_conv4_stride1 occurence 9\n",
      "Adding energy and cycle stats for l17-l27_conv4_stride1 occurence 10\n",
      "Adding energy and cycle stats for l17-l27_conv4_stride1 occurence 11\n",
      "Running layer 28: l28_conv5_stride2 which occurs 1 times\n",
      "[INFO] 2025-05-04 11:32:25,374 - pytimeloop.accelergy_interface - Running Accelergy with command: accelergy /home/workspace/output_dir/parsed-processed-input.yaml -o ./output_dir/ -v\n"
     ]
    },
    {
     "name": "stderr",
     "output_type": "stream",
     "text": [
      "INFO:pytimeloop.accelergy_interface:Running Accelergy with command: accelergy /home/workspace/output_dir/parsed-processed-input.yaml -o ./output_dir/ -v\n"
     ]
    },
    {
     "name": "stdout",
     "output_type": "stream",
     "text": [
      "Adding energy and cycle stats for l28_conv5_stride2 occurence 1\n",
      "Running layer 29: l29-l33_conv5_stride1 which occurs 5 times\n",
      "[INFO] 2025-05-04 11:33:34,084 - pytimeloop.accelergy_interface - Running Accelergy with command: accelergy /home/workspace/output_dir/parsed-processed-input.yaml -o ./output_dir/ -v\n"
     ]
    },
    {
     "name": "stderr",
     "output_type": "stream",
     "text": [
      "INFO:pytimeloop.accelergy_interface:Running Accelergy with command: accelergy /home/workspace/output_dir/parsed-processed-input.yaml -o ./output_dir/ -v\n"
     ]
    },
    {
     "name": "stdout",
     "output_type": "stream",
     "text": [
      "Adding energy and cycle stats for l29-l33_conv5_stride1 occurence 1\n",
      "Adding energy and cycle stats for l29-l33_conv5_stride1 occurence 2\n",
      "Adding energy and cycle stats for l29-l33_conv5_stride1 occurence 3\n",
      "Adding energy and cycle stats for l29-l33_conv5_stride1 occurence 4\n",
      "Adding energy and cycle stats for l29-l33_conv5_stride1 occurence 5\n",
      "==================================================\n",
      "Starting Timeloop with configuration:\n",
      "  - arch: Architecture.Data_Parallel\n",
      "  - scale: GPUMemoryScale.MEMORY_64MB\n",
      "  - rack: RackSize.RACK_4\n",
      "  - peConfig: PEsConfig.PE_16\n",
      "==================================================\n",
      "Running layer 1: l1_conv1 which occurs 1 times\n",
      "[INFO] 2025-05-04 11:34:39,286 - pytimeloop.accelergy_interface - Running Accelergy with command: accelergy /home/workspace/output_dir/parsed-processed-input.yaml -o ./output_dir/ -v\n"
     ]
    },
    {
     "name": "stderr",
     "output_type": "stream",
     "text": [
      "INFO:pytimeloop.accelergy_interface:Running Accelergy with command: accelergy /home/workspace/output_dir/parsed-processed-input.yaml -o ./output_dir/ -v\n"
     ]
    },
    {
     "name": "stdout",
     "output_type": "stream",
     "text": [
      "Adding energy and cycle stats for l1_conv1 occurence 1\n",
      "Running layer 2: l2_conv2_stride2 which occurs 1 times\n",
      "[INFO] 2025-05-04 11:36:20,183 - pytimeloop.accelergy_interface - Running Accelergy with command: accelergy /home/workspace/output_dir/parsed-processed-input.yaml -o ./output_dir/ -v\n"
     ]
    },
    {
     "name": "stderr",
     "output_type": "stream",
     "text": [
      "INFO:pytimeloop.accelergy_interface:Running Accelergy with command: accelergy /home/workspace/output_dir/parsed-processed-input.yaml -o ./output_dir/ -v\n"
     ]
    },
    {
     "name": "stdout",
     "output_type": "stream",
     "text": [
      "Adding energy and cycle stats for l2_conv2_stride2 occurence 1\n",
      "Running layer 3: l3-l7_conv2_stride1 which occurs 5 times\n",
      "[INFO] 2025-05-04 11:38:56,665 - pytimeloop.accelergy_interface - Running Accelergy with command: accelergy /home/workspace/output_dir/parsed-processed-input.yaml -o ./output_dir/ -v\n"
     ]
    },
    {
     "name": "stderr",
     "output_type": "stream",
     "text": [
      "INFO:pytimeloop.accelergy_interface:Running Accelergy with command: accelergy /home/workspace/output_dir/parsed-processed-input.yaml -o ./output_dir/ -v\n"
     ]
    },
    {
     "name": "stdout",
     "output_type": "stream",
     "text": [
      "Adding energy and cycle stats for l3-l7_conv2_stride1 occurence 1\n",
      "Adding energy and cycle stats for l3-l7_conv2_stride1 occurence 2\n",
      "Adding energy and cycle stats for l3-l7_conv2_stride1 occurence 3\n",
      "Adding energy and cycle stats for l3-l7_conv2_stride1 occurence 4\n",
      "Adding energy and cycle stats for l3-l7_conv2_stride1 occurence 5\n",
      "Running layer 8: l8_conv3_stride2 which occurs 1 times\n",
      "[INFO] 2025-05-04 11:41:34,767 - pytimeloop.accelergy_interface - Running Accelergy with command: accelergy /home/workspace/output_dir/parsed-processed-input.yaml -o ./output_dir/ -v\n"
     ]
    },
    {
     "name": "stderr",
     "output_type": "stream",
     "text": [
      "INFO:pytimeloop.accelergy_interface:Running Accelergy with command: accelergy /home/workspace/output_dir/parsed-processed-input.yaml -o ./output_dir/ -v\n"
     ]
    },
    {
     "name": "stdout",
     "output_type": "stream",
     "text": [
      "Adding energy and cycle stats for l8_conv3_stride2 occurence 1\n",
      "Running layer 9: l9-l15_conv3_stride1 which occurs 7 times\n",
      "[INFO] 2025-05-04 11:44:44,530 - pytimeloop.accelergy_interface - Running Accelergy with command: accelergy /home/workspace/output_dir/parsed-processed-input.yaml -o ./output_dir/ -v\n"
     ]
    },
    {
     "name": "stderr",
     "output_type": "stream",
     "text": [
      "INFO:pytimeloop.accelergy_interface:Running Accelergy with command: accelergy /home/workspace/output_dir/parsed-processed-input.yaml -o ./output_dir/ -v\n"
     ]
    },
    {
     "name": "stdout",
     "output_type": "stream",
     "text": [
      "Adding energy and cycle stats for l9-l15_conv3_stride1 occurence 1\n",
      "Adding energy and cycle stats for l9-l15_conv3_stride1 occurence 2\n",
      "Adding energy and cycle stats for l9-l15_conv3_stride1 occurence 3\n",
      "Adding energy and cycle stats for l9-l15_conv3_stride1 occurence 4\n",
      "Adding energy and cycle stats for l9-l15_conv3_stride1 occurence 5\n",
      "Adding energy and cycle stats for l9-l15_conv3_stride1 occurence 6\n",
      "Adding energy and cycle stats for l9-l15_conv3_stride1 occurence 7\n",
      "Running layer 16: l16_conv4_stride2 which occurs 1 times\n",
      "[INFO] 2025-05-04 11:48:04,395 - pytimeloop.accelergy_interface - Running Accelergy with command: accelergy /home/workspace/output_dir/parsed-processed-input.yaml -o ./output_dir/ -v\n"
     ]
    },
    {
     "name": "stderr",
     "output_type": "stream",
     "text": [
      "INFO:pytimeloop.accelergy_interface:Running Accelergy with command: accelergy /home/workspace/output_dir/parsed-processed-input.yaml -o ./output_dir/ -v\n"
     ]
    },
    {
     "name": "stdout",
     "output_type": "stream",
     "text": [
      "Adding energy and cycle stats for l16_conv4_stride2 occurence 1\n",
      "Running layer 17: l17-l27_conv4_stride1 which occurs 11 times\n",
      "[INFO] 2025-05-04 11:50:53,757 - pytimeloop.accelergy_interface - Running Accelergy with command: accelergy /home/workspace/output_dir/parsed-processed-input.yaml -o ./output_dir/ -v\n"
     ]
    },
    {
     "name": "stderr",
     "output_type": "stream",
     "text": [
      "INFO:pytimeloop.accelergy_interface:Running Accelergy with command: accelergy /home/workspace/output_dir/parsed-processed-input.yaml -o ./output_dir/ -v\n"
     ]
    },
    {
     "name": "stdout",
     "output_type": "stream",
     "text": [
      "Adding energy and cycle stats for l17-l27_conv4_stride1 occurence 1\n",
      "Adding energy and cycle stats for l17-l27_conv4_stride1 occurence 2\n",
      "Adding energy and cycle stats for l17-l27_conv4_stride1 occurence 3\n",
      "Adding energy and cycle stats for l17-l27_conv4_stride1 occurence 4\n",
      "Adding energy and cycle stats for l17-l27_conv4_stride1 occurence 5\n",
      "Adding energy and cycle stats for l17-l27_conv4_stride1 occurence 6\n",
      "Adding energy and cycle stats for l17-l27_conv4_stride1 occurence 7\n",
      "Adding energy and cycle stats for l17-l27_conv4_stride1 occurence 8\n",
      "Adding energy and cycle stats for l17-l27_conv4_stride1 occurence 9\n",
      "Adding energy and cycle stats for l17-l27_conv4_stride1 occurence 10\n",
      "Adding energy and cycle stats for l17-l27_conv4_stride1 occurence 11\n",
      "Running layer 28: l28_conv5_stride2 which occurs 1 times\n",
      "[INFO] 2025-05-04 11:53:51,517 - pytimeloop.accelergy_interface - Running Accelergy with command: accelergy /home/workspace/output_dir/parsed-processed-input.yaml -o ./output_dir/ -v\n"
     ]
    },
    {
     "name": "stderr",
     "output_type": "stream",
     "text": [
      "INFO:pytimeloop.accelergy_interface:Running Accelergy with command: accelergy /home/workspace/output_dir/parsed-processed-input.yaml -o ./output_dir/ -v\n"
     ]
    },
    {
     "name": "stdout",
     "output_type": "stream",
     "text": [
      "Adding energy and cycle stats for l28_conv5_stride2 occurence 1\n",
      "Running layer 29: l29-l33_conv5_stride1 which occurs 5 times\n",
      "[INFO] 2025-05-04 11:55:05,471 - pytimeloop.accelergy_interface - Running Accelergy with command: accelergy /home/workspace/output_dir/parsed-processed-input.yaml -o ./output_dir/ -v\n"
     ]
    },
    {
     "name": "stderr",
     "output_type": "stream",
     "text": [
      "INFO:pytimeloop.accelergy_interface:Running Accelergy with command: accelergy /home/workspace/output_dir/parsed-processed-input.yaml -o ./output_dir/ -v\n"
     ]
    },
    {
     "name": "stdout",
     "output_type": "stream",
     "text": [
      "Adding energy and cycle stats for l29-l33_conv5_stride1 occurence 1\n",
      "Adding energy and cycle stats for l29-l33_conv5_stride1 occurence 2\n",
      "Adding energy and cycle stats for l29-l33_conv5_stride1 occurence 3\n",
      "Adding energy and cycle stats for l29-l33_conv5_stride1 occurence 4\n",
      "Adding energy and cycle stats for l29-l33_conv5_stride1 occurence 5\n",
      "==================================================\n",
      "Starting Timeloop with configuration:\n",
      "  - arch: Architecture.Data_Parallel\n",
      "  - scale: GPUMemoryScale.MEMORY_1024MB\n",
      "  - rack: RackSize.RACK_4\n",
      "  - peConfig: PEsConfig.PE_1\n",
      "==================================================\n",
      "Running layer 1: l1_conv1 which occurs 1 times\n",
      "[INFO] 2025-05-04 11:56:21,787 - pytimeloop.accelergy_interface - Running Accelergy with command: accelergy /home/workspace/output_dir/parsed-processed-input.yaml -o ./output_dir/ -v\n"
     ]
    },
    {
     "name": "stderr",
     "output_type": "stream",
     "text": [
      "INFO:pytimeloop.accelergy_interface:Running Accelergy with command: accelergy /home/workspace/output_dir/parsed-processed-input.yaml -o ./output_dir/ -v\n"
     ]
    },
    {
     "name": "stdout",
     "output_type": "stream",
     "text": [
      "Adding energy and cycle stats for l1_conv1 occurence 1\n",
      "Running layer 2: l2_conv2_stride2 which occurs 1 times\n",
      "[INFO] 2025-05-04 11:58:16,795 - pytimeloop.accelergy_interface - Running Accelergy with command: accelergy /home/workspace/output_dir/parsed-processed-input.yaml -o ./output_dir/ -v\n"
     ]
    },
    {
     "name": "stderr",
     "output_type": "stream",
     "text": [
      "INFO:pytimeloop.accelergy_interface:Running Accelergy with command: accelergy /home/workspace/output_dir/parsed-processed-input.yaml -o ./output_dir/ -v\n"
     ]
    },
    {
     "name": "stdout",
     "output_type": "stream",
     "text": [
      "Adding energy and cycle stats for l2_conv2_stride2 occurence 1\n",
      "Running layer 3: l3-l7_conv2_stride1 which occurs 5 times\n",
      "[INFO] 2025-05-04 12:01:34,366 - pytimeloop.accelergy_interface - Running Accelergy with command: accelergy /home/workspace/output_dir/parsed-processed-input.yaml -o ./output_dir/ -v\n"
     ]
    },
    {
     "name": "stderr",
     "output_type": "stream",
     "text": [
      "INFO:pytimeloop.accelergy_interface:Running Accelergy with command: accelergy /home/workspace/output_dir/parsed-processed-input.yaml -o ./output_dir/ -v\n"
     ]
    },
    {
     "name": "stdout",
     "output_type": "stream",
     "text": [
      "Adding energy and cycle stats for l3-l7_conv2_stride1 occurence 1\n",
      "Adding energy and cycle stats for l3-l7_conv2_stride1 occurence 2\n",
      "Adding energy and cycle stats for l3-l7_conv2_stride1 occurence 3\n",
      "Adding energy and cycle stats for l3-l7_conv2_stride1 occurence 4\n",
      "Adding energy and cycle stats for l3-l7_conv2_stride1 occurence 5\n",
      "Running layer 8: l8_conv3_stride2 which occurs 1 times\n",
      "[INFO] 2025-05-04 12:04:52,237 - pytimeloop.accelergy_interface - Running Accelergy with command: accelergy /home/workspace/output_dir/parsed-processed-input.yaml -o ./output_dir/ -v\n"
     ]
    },
    {
     "name": "stderr",
     "output_type": "stream",
     "text": [
      "INFO:pytimeloop.accelergy_interface:Running Accelergy with command: accelergy /home/workspace/output_dir/parsed-processed-input.yaml -o ./output_dir/ -v\n"
     ]
    },
    {
     "name": "stdout",
     "output_type": "stream",
     "text": [
      "Adding energy and cycle stats for l8_conv3_stride2 occurence 1\n",
      "Running layer 9: l9-l15_conv3_stride1 which occurs 7 times\n",
      "[INFO] 2025-05-04 12:07:40,467 - pytimeloop.accelergy_interface - Running Accelergy with command: accelergy /home/workspace/output_dir/parsed-processed-input.yaml -o ./output_dir/ -v\n"
     ]
    },
    {
     "name": "stderr",
     "output_type": "stream",
     "text": [
      "INFO:pytimeloop.accelergy_interface:Running Accelergy with command: accelergy /home/workspace/output_dir/parsed-processed-input.yaml -o ./output_dir/ -v\n"
     ]
    },
    {
     "name": "stdout",
     "output_type": "stream",
     "text": [
      "Adding energy and cycle stats for l9-l15_conv3_stride1 occurence 1\n",
      "Adding energy and cycle stats for l9-l15_conv3_stride1 occurence 2\n",
      "Adding energy and cycle stats for l9-l15_conv3_stride1 occurence 3\n",
      "Adding energy and cycle stats for l9-l15_conv3_stride1 occurence 4\n",
      "Adding energy and cycle stats for l9-l15_conv3_stride1 occurence 5\n",
      "Adding energy and cycle stats for l9-l15_conv3_stride1 occurence 6\n",
      "Adding energy and cycle stats for l9-l15_conv3_stride1 occurence 7\n",
      "Running layer 16: l16_conv4_stride2 which occurs 1 times\n",
      "[INFO] 2025-05-04 12:09:39,394 - pytimeloop.accelergy_interface - Running Accelergy with command: accelergy /home/workspace/output_dir/parsed-processed-input.yaml -o ./output_dir/ -v\n"
     ]
    },
    {
     "name": "stderr",
     "output_type": "stream",
     "text": [
      "INFO:pytimeloop.accelergy_interface:Running Accelergy with command: accelergy /home/workspace/output_dir/parsed-processed-input.yaml -o ./output_dir/ -v\n"
     ]
    },
    {
     "name": "stdout",
     "output_type": "stream",
     "text": [
      "Adding energy and cycle stats for l16_conv4_stride2 occurence 1\n",
      "Running layer 17: l17-l27_conv4_stride1 which occurs 11 times\n",
      "[INFO] 2025-05-04 12:12:24,436 - pytimeloop.accelergy_interface - Running Accelergy with command: accelergy /home/workspace/output_dir/parsed-processed-input.yaml -o ./output_dir/ -v\n"
     ]
    },
    {
     "name": "stderr",
     "output_type": "stream",
     "text": [
      "INFO:pytimeloop.accelergy_interface:Running Accelergy with command: accelergy /home/workspace/output_dir/parsed-processed-input.yaml -o ./output_dir/ -v\n"
     ]
    },
    {
     "name": "stdout",
     "output_type": "stream",
     "text": [
      "Adding energy and cycle stats for l17-l27_conv4_stride1 occurence 1\n",
      "Adding energy and cycle stats for l17-l27_conv4_stride1 occurence 2\n",
      "Adding energy and cycle stats for l17-l27_conv4_stride1 occurence 3\n",
      "Adding energy and cycle stats for l17-l27_conv4_stride1 occurence 4\n",
      "Adding energy and cycle stats for l17-l27_conv4_stride1 occurence 5\n",
      "Adding energy and cycle stats for l17-l27_conv4_stride1 occurence 6\n",
      "Adding energy and cycle stats for l17-l27_conv4_stride1 occurence 7\n",
      "Adding energy and cycle stats for l17-l27_conv4_stride1 occurence 8\n",
      "Adding energy and cycle stats for l17-l27_conv4_stride1 occurence 9\n",
      "Adding energy and cycle stats for l17-l27_conv4_stride1 occurence 10\n",
      "Adding energy and cycle stats for l17-l27_conv4_stride1 occurence 11\n",
      "Running layer 28: l28_conv5_stride2 which occurs 1 times\n",
      "[INFO] 2025-05-04 12:14:28,210 - pytimeloop.accelergy_interface - Running Accelergy with command: accelergy /home/workspace/output_dir/parsed-processed-input.yaml -o ./output_dir/ -v\n"
     ]
    },
    {
     "name": "stderr",
     "output_type": "stream",
     "text": [
      "INFO:pytimeloop.accelergy_interface:Running Accelergy with command: accelergy /home/workspace/output_dir/parsed-processed-input.yaml -o ./output_dir/ -v\n"
     ]
    },
    {
     "name": "stdout",
     "output_type": "stream",
     "text": [
      "Adding energy and cycle stats for l28_conv5_stride2 occurence 1\n",
      "Running layer 29: l29-l33_conv5_stride1 which occurs 5 times\n",
      "[INFO] 2025-05-04 12:15:29,080 - pytimeloop.accelergy_interface - Running Accelergy with command: accelergy /home/workspace/output_dir/parsed-processed-input.yaml -o ./output_dir/ -v\n"
     ]
    },
    {
     "name": "stderr",
     "output_type": "stream",
     "text": [
      "INFO:pytimeloop.accelergy_interface:Running Accelergy with command: accelergy /home/workspace/output_dir/parsed-processed-input.yaml -o ./output_dir/ -v\n"
     ]
    },
    {
     "name": "stdout",
     "output_type": "stream",
     "text": [
      "Adding energy and cycle stats for l29-l33_conv5_stride1 occurence 1\n",
      "Adding energy and cycle stats for l29-l33_conv5_stride1 occurence 2\n",
      "Adding energy and cycle stats for l29-l33_conv5_stride1 occurence 3\n",
      "Adding energy and cycle stats for l29-l33_conv5_stride1 occurence 4\n",
      "Adding energy and cycle stats for l29-l33_conv5_stride1 occurence 5\n",
      "==================================================\n",
      "Starting Timeloop with configuration:\n",
      "  - arch: Architecture.Data_Parallel\n",
      "  - scale: GPUMemoryScale.MEMORY_1024MB\n",
      "  - rack: RackSize.RACK_4\n",
      "  - peConfig: PEsConfig.PE_4\n",
      "==================================================\n",
      "Running layer 1: l1_conv1 which occurs 1 times\n",
      "[INFO] 2025-05-04 12:16:39,713 - pytimeloop.accelergy_interface - Running Accelergy with command: accelergy /home/workspace/output_dir/parsed-processed-input.yaml -o ./output_dir/ -v\n"
     ]
    },
    {
     "name": "stderr",
     "output_type": "stream",
     "text": [
      "INFO:pytimeloop.accelergy_interface:Running Accelergy with command: accelergy /home/workspace/output_dir/parsed-processed-input.yaml -o ./output_dir/ -v\n"
     ]
    },
    {
     "name": "stdout",
     "output_type": "stream",
     "text": [
      "Adding energy and cycle stats for l1_conv1 occurence 1\n",
      "Running layer 2: l2_conv2_stride2 which occurs 1 times\n",
      "[INFO] 2025-05-04 12:18:38,950 - pytimeloop.accelergy_interface - Running Accelergy with command: accelergy /home/workspace/output_dir/parsed-processed-input.yaml -o ./output_dir/ -v\n"
     ]
    },
    {
     "name": "stderr",
     "output_type": "stream",
     "text": [
      "INFO:pytimeloop.accelergy_interface:Running Accelergy with command: accelergy /home/workspace/output_dir/parsed-processed-input.yaml -o ./output_dir/ -v\n"
     ]
    },
    {
     "name": "stdout",
     "output_type": "stream",
     "text": [
      "Adding energy and cycle stats for l2_conv2_stride2 occurence 1\n",
      "Running layer 3: l3-l7_conv2_stride1 which occurs 5 times\n",
      "[INFO] 2025-05-04 12:21:29,248 - pytimeloop.accelergy_interface - Running Accelergy with command: accelergy /home/workspace/output_dir/parsed-processed-input.yaml -o ./output_dir/ -v\n"
     ]
    },
    {
     "name": "stderr",
     "output_type": "stream",
     "text": [
      "INFO:pytimeloop.accelergy_interface:Running Accelergy with command: accelergy /home/workspace/output_dir/parsed-processed-input.yaml -o ./output_dir/ -v\n"
     ]
    },
    {
     "name": "stdout",
     "output_type": "stream",
     "text": [
      "Adding energy and cycle stats for l3-l7_conv2_stride1 occurence 1\n",
      "Adding energy and cycle stats for l3-l7_conv2_stride1 occurence 2\n",
      "Adding energy and cycle stats for l3-l7_conv2_stride1 occurence 3\n",
      "Adding energy and cycle stats for l3-l7_conv2_stride1 occurence 4\n",
      "Adding energy and cycle stats for l3-l7_conv2_stride1 occurence 5\n",
      "Running layer 8: l8_conv3_stride2 which occurs 1 times\n",
      "[INFO] 2025-05-04 12:24:20,931 - pytimeloop.accelergy_interface - Running Accelergy with command: accelergy /home/workspace/output_dir/parsed-processed-input.yaml -o ./output_dir/ -v\n"
     ]
    },
    {
     "name": "stderr",
     "output_type": "stream",
     "text": [
      "INFO:pytimeloop.accelergy_interface:Running Accelergy with command: accelergy /home/workspace/output_dir/parsed-processed-input.yaml -o ./output_dir/ -v\n"
     ]
    },
    {
     "name": "stdout",
     "output_type": "stream",
     "text": [
      "Adding energy and cycle stats for l8_conv3_stride2 occurence 1\n",
      "Running layer 9: l9-l15_conv3_stride1 which occurs 7 times\n",
      "[INFO] 2025-05-04 12:27:42,013 - pytimeloop.accelergy_interface - Running Accelergy with command: accelergy /home/workspace/output_dir/parsed-processed-input.yaml -o ./output_dir/ -v\n"
     ]
    },
    {
     "name": "stderr",
     "output_type": "stream",
     "text": [
      "INFO:pytimeloop.accelergy_interface:Running Accelergy with command: accelergy /home/workspace/output_dir/parsed-processed-input.yaml -o ./output_dir/ -v\n"
     ]
    },
    {
     "name": "stdout",
     "output_type": "stream",
     "text": [
      "Adding energy and cycle stats for l9-l15_conv3_stride1 occurence 1\n",
      "Adding energy and cycle stats for l9-l15_conv3_stride1 occurence 2\n",
      "Adding energy and cycle stats for l9-l15_conv3_stride1 occurence 3\n",
      "Adding energy and cycle stats for l9-l15_conv3_stride1 occurence 4\n",
      "Adding energy and cycle stats for l9-l15_conv3_stride1 occurence 5\n",
      "Adding energy and cycle stats for l9-l15_conv3_stride1 occurence 6\n",
      "Adding energy and cycle stats for l9-l15_conv3_stride1 occurence 7\n",
      "Running layer 16: l16_conv4_stride2 which occurs 1 times\n",
      "[INFO] 2025-05-04 12:30:47,693 - pytimeloop.accelergy_interface - Running Accelergy with command: accelergy /home/workspace/output_dir/parsed-processed-input.yaml -o ./output_dir/ -v\n"
     ]
    },
    {
     "name": "stderr",
     "output_type": "stream",
     "text": [
      "INFO:pytimeloop.accelergy_interface:Running Accelergy with command: accelergy /home/workspace/output_dir/parsed-processed-input.yaml -o ./output_dir/ -v\n"
     ]
    },
    {
     "name": "stdout",
     "output_type": "stream",
     "text": [
      "Adding energy and cycle stats for l16_conv4_stride2 occurence 1\n",
      "Running layer 17: l17-l27_conv4_stride1 which occurs 11 times\n",
      "[INFO] 2025-05-04 12:33:15,593 - pytimeloop.accelergy_interface - Running Accelergy with command: accelergy /home/workspace/output_dir/parsed-processed-input.yaml -o ./output_dir/ -v\n"
     ]
    },
    {
     "name": "stderr",
     "output_type": "stream",
     "text": [
      "INFO:pytimeloop.accelergy_interface:Running Accelergy with command: accelergy /home/workspace/output_dir/parsed-processed-input.yaml -o ./output_dir/ -v\n"
     ]
    },
    {
     "name": "stdout",
     "output_type": "stream",
     "text": [
      "Adding energy and cycle stats for l17-l27_conv4_stride1 occurence 1\n",
      "Adding energy and cycle stats for l17-l27_conv4_stride1 occurence 2\n",
      "Adding energy and cycle stats for l17-l27_conv4_stride1 occurence 3\n",
      "Adding energy and cycle stats for l17-l27_conv4_stride1 occurence 4\n",
      "Adding energy and cycle stats for l17-l27_conv4_stride1 occurence 5\n",
      "Adding energy and cycle stats for l17-l27_conv4_stride1 occurence 6\n",
      "Adding energy and cycle stats for l17-l27_conv4_stride1 occurence 7\n",
      "Adding energy and cycle stats for l17-l27_conv4_stride1 occurence 8\n",
      "Adding energy and cycle stats for l17-l27_conv4_stride1 occurence 9\n",
      "Adding energy and cycle stats for l17-l27_conv4_stride1 occurence 10\n",
      "Adding energy and cycle stats for l17-l27_conv4_stride1 occurence 11\n",
      "Running layer 28: l28_conv5_stride2 which occurs 1 times\n",
      "[INFO] 2025-05-04 12:35:26,392 - pytimeloop.accelergy_interface - Running Accelergy with command: accelergy /home/workspace/output_dir/parsed-processed-input.yaml -o ./output_dir/ -v\n"
     ]
    },
    {
     "name": "stderr",
     "output_type": "stream",
     "text": [
      "INFO:pytimeloop.accelergy_interface:Running Accelergy with command: accelergy /home/workspace/output_dir/parsed-processed-input.yaml -o ./output_dir/ -v\n"
     ]
    },
    {
     "name": "stdout",
     "output_type": "stream",
     "text": [
      "Adding energy and cycle stats for l28_conv5_stride2 occurence 1\n",
      "Running layer 29: l29-l33_conv5_stride1 which occurs 5 times\n",
      "[INFO] 2025-05-04 12:36:33,938 - pytimeloop.accelergy_interface - Running Accelergy with command: accelergy /home/workspace/output_dir/parsed-processed-input.yaml -o ./output_dir/ -v\n"
     ]
    },
    {
     "name": "stderr",
     "output_type": "stream",
     "text": [
      "INFO:pytimeloop.accelergy_interface:Running Accelergy with command: accelergy /home/workspace/output_dir/parsed-processed-input.yaml -o ./output_dir/ -v\n"
     ]
    },
    {
     "name": "stdout",
     "output_type": "stream",
     "text": [
      "Adding energy and cycle stats for l29-l33_conv5_stride1 occurence 1\n",
      "Adding energy and cycle stats for l29-l33_conv5_stride1 occurence 2\n",
      "Adding energy and cycle stats for l29-l33_conv5_stride1 occurence 3\n",
      "Adding energy and cycle stats for l29-l33_conv5_stride1 occurence 4\n",
      "Adding energy and cycle stats for l29-l33_conv5_stride1 occurence 5\n",
      "==================================================\n",
      "Starting Timeloop with configuration:\n",
      "  - arch: Architecture.Data_Parallel\n",
      "  - scale: GPUMemoryScale.MEMORY_1024MB\n",
      "  - rack: RackSize.RACK_4\n",
      "  - peConfig: PEsConfig.PE_16\n",
      "==================================================\n",
      "Running layer 1: l1_conv1 which occurs 1 times\n",
      "[INFO] 2025-05-04 12:37:38,212 - pytimeloop.accelergy_interface - Running Accelergy with command: accelergy /home/workspace/output_dir/parsed-processed-input.yaml -o ./output_dir/ -v\n"
     ]
    },
    {
     "name": "stderr",
     "output_type": "stream",
     "text": [
      "INFO:pytimeloop.accelergy_interface:Running Accelergy with command: accelergy /home/workspace/output_dir/parsed-processed-input.yaml -o ./output_dir/ -v\n"
     ]
    },
    {
     "name": "stdout",
     "output_type": "stream",
     "text": [
      "Adding energy and cycle stats for l1_conv1 occurence 1\n",
      "Running layer 2: l2_conv2_stride2 which occurs 1 times\n",
      "[INFO] 2025-05-04 12:39:18,762 - pytimeloop.accelergy_interface - Running Accelergy with command: accelergy /home/workspace/output_dir/parsed-processed-input.yaml -o ./output_dir/ -v\n"
     ]
    },
    {
     "name": "stderr",
     "output_type": "stream",
     "text": [
      "INFO:pytimeloop.accelergy_interface:Running Accelergy with command: accelergy /home/workspace/output_dir/parsed-processed-input.yaml -o ./output_dir/ -v\n"
     ]
    },
    {
     "name": "stdout",
     "output_type": "stream",
     "text": [
      "Adding energy and cycle stats for l2_conv2_stride2 occurence 1\n",
      "Running layer 3: l3-l7_conv2_stride1 which occurs 5 times\n",
      "[INFO] 2025-05-04 12:41:54,915 - pytimeloop.accelergy_interface - Running Accelergy with command: accelergy /home/workspace/output_dir/parsed-processed-input.yaml -o ./output_dir/ -v\n"
     ]
    },
    {
     "name": "stderr",
     "output_type": "stream",
     "text": [
      "INFO:pytimeloop.accelergy_interface:Running Accelergy with command: accelergy /home/workspace/output_dir/parsed-processed-input.yaml -o ./output_dir/ -v\n"
     ]
    },
    {
     "name": "stdout",
     "output_type": "stream",
     "text": [
      "Adding energy and cycle stats for l3-l7_conv2_stride1 occurence 1\n",
      "Adding energy and cycle stats for l3-l7_conv2_stride1 occurence 2\n",
      "Adding energy and cycle stats for l3-l7_conv2_stride1 occurence 3\n",
      "Adding energy and cycle stats for l3-l7_conv2_stride1 occurence 4\n",
      "Adding energy and cycle stats for l3-l7_conv2_stride1 occurence 5\n",
      "Running layer 8: l8_conv3_stride2 which occurs 1 times\n",
      "[INFO] 2025-05-04 12:44:30,980 - pytimeloop.accelergy_interface - Running Accelergy with command: accelergy /home/workspace/output_dir/parsed-processed-input.yaml -o ./output_dir/ -v\n"
     ]
    },
    {
     "name": "stderr",
     "output_type": "stream",
     "text": [
      "INFO:pytimeloop.accelergy_interface:Running Accelergy with command: accelergy /home/workspace/output_dir/parsed-processed-input.yaml -o ./output_dir/ -v\n"
     ]
    },
    {
     "name": "stdout",
     "output_type": "stream",
     "text": [
      "Adding energy and cycle stats for l8_conv3_stride2 occurence 1\n",
      "Running layer 9: l9-l15_conv3_stride1 which occurs 7 times\n",
      "[INFO] 2025-05-04 12:47:39,301 - pytimeloop.accelergy_interface - Running Accelergy with command: accelergy /home/workspace/output_dir/parsed-processed-input.yaml -o ./output_dir/ -v\n"
     ]
    },
    {
     "name": "stderr",
     "output_type": "stream",
     "text": [
      "INFO:pytimeloop.accelergy_interface:Running Accelergy with command: accelergy /home/workspace/output_dir/parsed-processed-input.yaml -o ./output_dir/ -v\n"
     ]
    },
    {
     "name": "stdout",
     "output_type": "stream",
     "text": [
      "Adding energy and cycle stats for l9-l15_conv3_stride1 occurence 1\n",
      "Adding energy and cycle stats for l9-l15_conv3_stride1 occurence 2\n",
      "Adding energy and cycle stats for l9-l15_conv3_stride1 occurence 3\n",
      "Adding energy and cycle stats for l9-l15_conv3_stride1 occurence 4\n",
      "Adding energy and cycle stats for l9-l15_conv3_stride1 occurence 5\n",
      "Adding energy and cycle stats for l9-l15_conv3_stride1 occurence 6\n",
      "Adding energy and cycle stats for l9-l15_conv3_stride1 occurence 7\n",
      "Running layer 16: l16_conv4_stride2 which occurs 1 times\n",
      "[INFO] 2025-05-04 12:50:58,460 - pytimeloop.accelergy_interface - Running Accelergy with command: accelergy /home/workspace/output_dir/parsed-processed-input.yaml -o ./output_dir/ -v\n"
     ]
    },
    {
     "name": "stderr",
     "output_type": "stream",
     "text": [
      "INFO:pytimeloop.accelergy_interface:Running Accelergy with command: accelergy /home/workspace/output_dir/parsed-processed-input.yaml -o ./output_dir/ -v\n"
     ]
    },
    {
     "name": "stdout",
     "output_type": "stream",
     "text": [
      "Adding energy and cycle stats for l16_conv4_stride2 occurence 1\n",
      "Running layer 17: l17-l27_conv4_stride1 which occurs 11 times\n",
      "[INFO] 2025-05-04 12:53:46,825 - pytimeloop.accelergy_interface - Running Accelergy with command: accelergy /home/workspace/output_dir/parsed-processed-input.yaml -o ./output_dir/ -v\n"
     ]
    },
    {
     "name": "stderr",
     "output_type": "stream",
     "text": [
      "INFO:pytimeloop.accelergy_interface:Running Accelergy with command: accelergy /home/workspace/output_dir/parsed-processed-input.yaml -o ./output_dir/ -v\n"
     ]
    },
    {
     "name": "stdout",
     "output_type": "stream",
     "text": [
      "Adding energy and cycle stats for l17-l27_conv4_stride1 occurence 1\n",
      "Adding energy and cycle stats for l17-l27_conv4_stride1 occurence 2\n",
      "Adding energy and cycle stats for l17-l27_conv4_stride1 occurence 3\n",
      "Adding energy and cycle stats for l17-l27_conv4_stride1 occurence 4\n",
      "Adding energy and cycle stats for l17-l27_conv4_stride1 occurence 5\n",
      "Adding energy and cycle stats for l17-l27_conv4_stride1 occurence 6\n",
      "Adding energy and cycle stats for l17-l27_conv4_stride1 occurence 7\n",
      "Adding energy and cycle stats for l17-l27_conv4_stride1 occurence 8\n",
      "Adding energy and cycle stats for l17-l27_conv4_stride1 occurence 9\n",
      "Adding energy and cycle stats for l17-l27_conv4_stride1 occurence 10\n",
      "Adding energy and cycle stats for l17-l27_conv4_stride1 occurence 11\n",
      "Running layer 28: l28_conv5_stride2 which occurs 1 times\n",
      "[INFO] 2025-05-04 12:56:44,265 - pytimeloop.accelergy_interface - Running Accelergy with command: accelergy /home/workspace/output_dir/parsed-processed-input.yaml -o ./output_dir/ -v\n"
     ]
    },
    {
     "name": "stderr",
     "output_type": "stream",
     "text": [
      "INFO:pytimeloop.accelergy_interface:Running Accelergy with command: accelergy /home/workspace/output_dir/parsed-processed-input.yaml -o ./output_dir/ -v\n"
     ]
    },
    {
     "name": "stdout",
     "output_type": "stream",
     "text": [
      "Adding energy and cycle stats for l28_conv5_stride2 occurence 1\n",
      "Running layer 29: l29-l33_conv5_stride1 which occurs 5 times\n",
      "[INFO] 2025-05-04 12:57:57,367 - pytimeloop.accelergy_interface - Running Accelergy with command: accelergy /home/workspace/output_dir/parsed-processed-input.yaml -o ./output_dir/ -v\n"
     ]
    },
    {
     "name": "stderr",
     "output_type": "stream",
     "text": [
      "INFO:pytimeloop.accelergy_interface:Running Accelergy with command: accelergy /home/workspace/output_dir/parsed-processed-input.yaml -o ./output_dir/ -v\n"
     ]
    },
    {
     "name": "stdout",
     "output_type": "stream",
     "text": [
      "Adding energy and cycle stats for l29-l33_conv5_stride1 occurence 1\n",
      "Adding energy and cycle stats for l29-l33_conv5_stride1 occurence 2\n",
      "Adding energy and cycle stats for l29-l33_conv5_stride1 occurence 3\n",
      "Adding energy and cycle stats for l29-l33_conv5_stride1 occurence 4\n",
      "Adding energy and cycle stats for l29-l33_conv5_stride1 occurence 5\n",
      "==================================================\n",
      "Starting Timeloop with configuration:\n",
      "  - arch: Architecture.Data_Parallel\n",
      "  - scale: GPUMemoryScale.MEMORY_4MB\n",
      "  - rack: RackSize.RACK_8\n",
      "  - peConfig: PEsConfig.PE_1\n",
      "==================================================\n",
      "Running layer 1: l1_conv1 which occurs 1 times\n",
      "[INFO] 2025-05-04 12:59:12,923 - pytimeloop.accelergy_interface - Running Accelergy with command: accelergy /home/workspace/output_dir/parsed-processed-input.yaml -o ./output_dir/ -v\n"
     ]
    },
    {
     "name": "stderr",
     "output_type": "stream",
     "text": [
      "INFO:pytimeloop.accelergy_interface:Running Accelergy with command: accelergy /home/workspace/output_dir/parsed-processed-input.yaml -o ./output_dir/ -v\n"
     ]
    },
    {
     "name": "stdout",
     "output_type": "stream",
     "text": [
      "Adding energy and cycle stats for l1_conv1 occurence 1\n",
      "Running layer 2: l2_conv2_stride2 which occurs 1 times\n",
      "[INFO] 2025-05-04 13:00:31,110 - pytimeloop.accelergy_interface - Running Accelergy with command: accelergy /home/workspace/output_dir/parsed-processed-input.yaml -o ./output_dir/ -v\n"
     ]
    },
    {
     "name": "stderr",
     "output_type": "stream",
     "text": [
      "INFO:pytimeloop.accelergy_interface:Running Accelergy with command: accelergy /home/workspace/output_dir/parsed-processed-input.yaml -o ./output_dir/ -v\n"
     ]
    },
    {
     "name": "stdout",
     "output_type": "stream",
     "text": [
      "Adding energy and cycle stats for l2_conv2_stride2 occurence 1\n",
      "Running layer 3: l3-l7_conv2_stride1 which occurs 5 times\n",
      "[INFO] 2025-05-04 13:02:48,555 - pytimeloop.accelergy_interface - Running Accelergy with command: accelergy /home/workspace/output_dir/parsed-processed-input.yaml -o ./output_dir/ -v\n"
     ]
    },
    {
     "name": "stderr",
     "output_type": "stream",
     "text": [
      "INFO:pytimeloop.accelergy_interface:Running Accelergy with command: accelergy /home/workspace/output_dir/parsed-processed-input.yaml -o ./output_dir/ -v\n"
     ]
    },
    {
     "name": "stdout",
     "output_type": "stream",
     "text": [
      "Adding energy and cycle stats for l3-l7_conv2_stride1 occurence 1\n",
      "Adding energy and cycle stats for l3-l7_conv2_stride1 occurence 2\n",
      "Adding energy and cycle stats for l3-l7_conv2_stride1 occurence 3\n",
      "Adding energy and cycle stats for l3-l7_conv2_stride1 occurence 4\n",
      "Adding energy and cycle stats for l3-l7_conv2_stride1 occurence 5\n",
      "Running layer 8: l8_conv3_stride2 which occurs 1 times\n",
      "[INFO] 2025-05-04 13:05:05,924 - pytimeloop.accelergy_interface - Running Accelergy with command: accelergy /home/workspace/output_dir/parsed-processed-input.yaml -o ./output_dir/ -v\n"
     ]
    },
    {
     "name": "stderr",
     "output_type": "stream",
     "text": [
      "INFO:pytimeloop.accelergy_interface:Running Accelergy with command: accelergy /home/workspace/output_dir/parsed-processed-input.yaml -o ./output_dir/ -v\n"
     ]
    },
    {
     "name": "stdout",
     "output_type": "stream",
     "text": [
      "Adding energy and cycle stats for l8_conv3_stride2 occurence 1\n",
      "Running layer 9: l9-l15_conv3_stride1 which occurs 7 times\n",
      "[INFO] 2025-05-04 13:07:26,510 - pytimeloop.accelergy_interface - Running Accelergy with command: accelergy /home/workspace/output_dir/parsed-processed-input.yaml -o ./output_dir/ -v\n"
     ]
    },
    {
     "name": "stderr",
     "output_type": "stream",
     "text": [
      "INFO:pytimeloop.accelergy_interface:Running Accelergy with command: accelergy /home/workspace/output_dir/parsed-processed-input.yaml -o ./output_dir/ -v\n"
     ]
    },
    {
     "name": "stdout",
     "output_type": "stream",
     "text": [
      "Adding energy and cycle stats for l9-l15_conv3_stride1 occurence 1\n",
      "Adding energy and cycle stats for l9-l15_conv3_stride1 occurence 2\n",
      "Adding energy and cycle stats for l9-l15_conv3_stride1 occurence 3\n",
      "Adding energy and cycle stats for l9-l15_conv3_stride1 occurence 4\n",
      "Adding energy and cycle stats for l9-l15_conv3_stride1 occurence 5\n",
      "Adding energy and cycle stats for l9-l15_conv3_stride1 occurence 6\n",
      "Adding energy and cycle stats for l9-l15_conv3_stride1 occurence 7\n",
      "Running layer 16: l16_conv4_stride2 which occurs 1 times\n",
      "[INFO] 2025-05-04 13:09:53,858 - pytimeloop.accelergy_interface - Running Accelergy with command: accelergy /home/workspace/output_dir/parsed-processed-input.yaml -o ./output_dir/ -v\n"
     ]
    },
    {
     "name": "stderr",
     "output_type": "stream",
     "text": [
      "INFO:pytimeloop.accelergy_interface:Running Accelergy with command: accelergy /home/workspace/output_dir/parsed-processed-input.yaml -o ./output_dir/ -v\n"
     ]
    },
    {
     "name": "stdout",
     "output_type": "stream",
     "text": [
      "Adding energy and cycle stats for l16_conv4_stride2 occurence 1\n",
      "Running layer 17: l17-l27_conv4_stride1 which occurs 11 times\n",
      "[INFO] 2025-05-04 13:12:02,056 - pytimeloop.accelergy_interface - Running Accelergy with command: accelergy /home/workspace/output_dir/parsed-processed-input.yaml -o ./output_dir/ -v\n"
     ]
    },
    {
     "name": "stderr",
     "output_type": "stream",
     "text": [
      "INFO:pytimeloop.accelergy_interface:Running Accelergy with command: accelergy /home/workspace/output_dir/parsed-processed-input.yaml -o ./output_dir/ -v\n"
     ]
    },
    {
     "name": "stdout",
     "output_type": "stream",
     "text": [
      "Adding energy and cycle stats for l17-l27_conv4_stride1 occurence 1\n",
      "Adding energy and cycle stats for l17-l27_conv4_stride1 occurence 2\n",
      "Adding energy and cycle stats for l17-l27_conv4_stride1 occurence 3\n",
      "Adding energy and cycle stats for l17-l27_conv4_stride1 occurence 4\n",
      "Adding energy and cycle stats for l17-l27_conv4_stride1 occurence 5\n",
      "Adding energy and cycle stats for l17-l27_conv4_stride1 occurence 6\n",
      "Adding energy and cycle stats for l17-l27_conv4_stride1 occurence 7\n",
      "Adding energy and cycle stats for l17-l27_conv4_stride1 occurence 8\n",
      "Adding energy and cycle stats for l17-l27_conv4_stride1 occurence 9\n",
      "Adding energy and cycle stats for l17-l27_conv4_stride1 occurence 10\n",
      "Adding energy and cycle stats for l17-l27_conv4_stride1 occurence 11\n",
      "Running layer 28: l28_conv5_stride2 which occurs 1 times\n",
      "[INFO] 2025-05-04 13:13:54,126 - pytimeloop.accelergy_interface - Running Accelergy with command: accelergy /home/workspace/output_dir/parsed-processed-input.yaml -o ./output_dir/ -v\n"
     ]
    },
    {
     "name": "stderr",
     "output_type": "stream",
     "text": [
      "INFO:pytimeloop.accelergy_interface:Running Accelergy with command: accelergy /home/workspace/output_dir/parsed-processed-input.yaml -o ./output_dir/ -v\n"
     ]
    },
    {
     "name": "stdout",
     "output_type": "stream",
     "text": [
      "Adding energy and cycle stats for l28_conv5_stride2 occurence 1\n",
      "Running layer 29: l29-l33_conv5_stride1 which occurs 5 times\n",
      "[INFO] 2025-05-04 13:14:52,529 - pytimeloop.accelergy_interface - Running Accelergy with command: accelergy /home/workspace/output_dir/parsed-processed-input.yaml -o ./output_dir/ -v\n"
     ]
    },
    {
     "name": "stderr",
     "output_type": "stream",
     "text": [
      "INFO:pytimeloop.accelergy_interface:Running Accelergy with command: accelergy /home/workspace/output_dir/parsed-processed-input.yaml -o ./output_dir/ -v\n"
     ]
    },
    {
     "name": "stdout",
     "output_type": "stream",
     "text": [
      "Error running layer l29-l33_conv5_stride1: \n",
      "\n",
      "========================================================================================================================\n",
      "Timeloop mapper failed with return code 0. Please check the output files in ./output_dir for more information. To debug, you can edit the file:\n",
      "\t./output_dir/parsed-processed-input.yaml\n",
      "and run \n",
      "\ttl mapper ./output_dir/parsed-processed-input.yaml\n",
      "to see the error. If you're running the mapper and Timeloop can't find a vaild mapping, try setting 'diagnostics: true' in the mapper input specification.\n",
      "==================================================\n",
      "Starting Timeloop with configuration:\n",
      "  - arch: Architecture.Data_Parallel\n",
      "  - scale: GPUMemoryScale.MEMORY_4MB\n",
      "  - rack: RackSize.RACK_8\n",
      "  - peConfig: PEsConfig.PE_4\n",
      "==================================================\n",
      "Running layer 1: l1_conv1 which occurs 1 times\n",
      "[INFO] 2025-05-04 13:15:06,034 - pytimeloop.accelergy_interface - Running Accelergy with command: accelergy /home/workspace/output_dir/parsed-processed-input.yaml -o ./output_dir/ -v\n"
     ]
    },
    {
     "name": "stderr",
     "output_type": "stream",
     "text": [
      "INFO:pytimeloop.accelergy_interface:Running Accelergy with command: accelergy /home/workspace/output_dir/parsed-processed-input.yaml -o ./output_dir/ -v\n"
     ]
    },
    {
     "name": "stdout",
     "output_type": "stream",
     "text": [
      "Adding energy and cycle stats for l1_conv1 occurence 1\n",
      "Running layer 2: l2_conv2_stride2 which occurs 1 times\n",
      "[INFO] 2025-05-04 13:16:16,306 - pytimeloop.accelergy_interface - Running Accelergy with command: accelergy /home/workspace/output_dir/parsed-processed-input.yaml -o ./output_dir/ -v\n"
     ]
    },
    {
     "name": "stderr",
     "output_type": "stream",
     "text": [
      "INFO:pytimeloop.accelergy_interface:Running Accelergy with command: accelergy /home/workspace/output_dir/parsed-processed-input.yaml -o ./output_dir/ -v\n"
     ]
    },
    {
     "name": "stdout",
     "output_type": "stream",
     "text": [
      "Adding energy and cycle stats for l2_conv2_stride2 occurence 1\n",
      "Running layer 3: l3-l7_conv2_stride1 which occurs 5 times\n",
      "[INFO] 2025-05-04 13:18:58,039 - pytimeloop.accelergy_interface - Running Accelergy with command: accelergy /home/workspace/output_dir/parsed-processed-input.yaml -o ./output_dir/ -v\n"
     ]
    },
    {
     "name": "stderr",
     "output_type": "stream",
     "text": [
      "INFO:pytimeloop.accelergy_interface:Running Accelergy with command: accelergy /home/workspace/output_dir/parsed-processed-input.yaml -o ./output_dir/ -v\n"
     ]
    },
    {
     "name": "stdout",
     "output_type": "stream",
     "text": [
      "Adding energy and cycle stats for l3-l7_conv2_stride1 occurence 1\n",
      "Adding energy and cycle stats for l3-l7_conv2_stride1 occurence 2\n",
      "Adding energy and cycle stats for l3-l7_conv2_stride1 occurence 3\n",
      "Adding energy and cycle stats for l3-l7_conv2_stride1 occurence 4\n",
      "Adding energy and cycle stats for l3-l7_conv2_stride1 occurence 5\n",
      "Running layer 8: l8_conv3_stride2 which occurs 1 times\n",
      "[INFO] 2025-05-04 13:21:40,474 - pytimeloop.accelergy_interface - Running Accelergy with command: accelergy /home/workspace/output_dir/parsed-processed-input.yaml -o ./output_dir/ -v\n"
     ]
    },
    {
     "name": "stderr",
     "output_type": "stream",
     "text": [
      "INFO:pytimeloop.accelergy_interface:Running Accelergy with command: accelergy /home/workspace/output_dir/parsed-processed-input.yaml -o ./output_dir/ -v\n"
     ]
    },
    {
     "name": "stdout",
     "output_type": "stream",
     "text": [
      "Adding energy and cycle stats for l8_conv3_stride2 occurence 1\n",
      "Running layer 9: l9-l15_conv3_stride1 which occurs 7 times\n",
      "[INFO] 2025-05-04 13:23:42,175 - pytimeloop.accelergy_interface - Running Accelergy with command: accelergy /home/workspace/output_dir/parsed-processed-input.yaml -o ./output_dir/ -v\n"
     ]
    },
    {
     "name": "stderr",
     "output_type": "stream",
     "text": [
      "INFO:pytimeloop.accelergy_interface:Running Accelergy with command: accelergy /home/workspace/output_dir/parsed-processed-input.yaml -o ./output_dir/ -v\n"
     ]
    },
    {
     "name": "stdout",
     "output_type": "stream",
     "text": [
      "Adding energy and cycle stats for l9-l15_conv3_stride1 occurence 1\n",
      "Adding energy and cycle stats for l9-l15_conv3_stride1 occurence 2\n",
      "Adding energy and cycle stats for l9-l15_conv3_stride1 occurence 3\n",
      "Adding energy and cycle stats for l9-l15_conv3_stride1 occurence 4\n",
      "Adding energy and cycle stats for l9-l15_conv3_stride1 occurence 5\n",
      "Adding energy and cycle stats for l9-l15_conv3_stride1 occurence 6\n",
      "Adding energy and cycle stats for l9-l15_conv3_stride1 occurence 7\n",
      "Running layer 16: l16_conv4_stride2 which occurs 1 times\n",
      "[INFO] 2025-05-04 13:26:46,961 - pytimeloop.accelergy_interface - Running Accelergy with command: accelergy /home/workspace/output_dir/parsed-processed-input.yaml -o ./output_dir/ -v\n"
     ]
    },
    {
     "name": "stderr",
     "output_type": "stream",
     "text": [
      "INFO:pytimeloop.accelergy_interface:Running Accelergy with command: accelergy /home/workspace/output_dir/parsed-processed-input.yaml -o ./output_dir/ -v\n"
     ]
    },
    {
     "name": "stdout",
     "output_type": "stream",
     "text": [
      "Adding energy and cycle stats for l16_conv4_stride2 occurence 1\n",
      "Running layer 17: l17-l27_conv4_stride1 which occurs 11 times\n",
      "[INFO] 2025-05-04 13:28:47,300 - pytimeloop.accelergy_interface - Running Accelergy with command: accelergy /home/workspace/output_dir/parsed-processed-input.yaml -o ./output_dir/ -v\n"
     ]
    },
    {
     "name": "stderr",
     "output_type": "stream",
     "text": [
      "INFO:pytimeloop.accelergy_interface:Running Accelergy with command: accelergy /home/workspace/output_dir/parsed-processed-input.yaml -o ./output_dir/ -v\n"
     ]
    },
    {
     "name": "stdout",
     "output_type": "stream",
     "text": [
      "Adding energy and cycle stats for l17-l27_conv4_stride1 occurence 1\n",
      "Adding energy and cycle stats for l17-l27_conv4_stride1 occurence 2\n",
      "Adding energy and cycle stats for l17-l27_conv4_stride1 occurence 3\n",
      "Adding energy and cycle stats for l17-l27_conv4_stride1 occurence 4\n",
      "Adding energy and cycle stats for l17-l27_conv4_stride1 occurence 5\n",
      "Adding energy and cycle stats for l17-l27_conv4_stride1 occurence 6\n",
      "Adding energy and cycle stats for l17-l27_conv4_stride1 occurence 7\n",
      "Adding energy and cycle stats for l17-l27_conv4_stride1 occurence 8\n",
      "Adding energy and cycle stats for l17-l27_conv4_stride1 occurence 9\n",
      "Adding energy and cycle stats for l17-l27_conv4_stride1 occurence 10\n",
      "Adding energy and cycle stats for l17-l27_conv4_stride1 occurence 11\n",
      "Running layer 28: l28_conv5_stride2 which occurs 1 times\n",
      "[INFO] 2025-05-04 13:30:34,726 - pytimeloop.accelergy_interface - Running Accelergy with command: accelergy /home/workspace/output_dir/parsed-processed-input.yaml -o ./output_dir/ -v\n"
     ]
    },
    {
     "name": "stderr",
     "output_type": "stream",
     "text": [
      "INFO:pytimeloop.accelergy_interface:Running Accelergy with command: accelergy /home/workspace/output_dir/parsed-processed-input.yaml -o ./output_dir/ -v\n"
     ]
    },
    {
     "name": "stdout",
     "output_type": "stream",
     "text": [
      "Adding energy and cycle stats for l28_conv5_stride2 occurence 1\n",
      "Running layer 29: l29-l33_conv5_stride1 which occurs 5 times\n",
      "[INFO] 2025-05-04 13:31:45,443 - pytimeloop.accelergy_interface - Running Accelergy with command: accelergy /home/workspace/output_dir/parsed-processed-input.yaml -o ./output_dir/ -v\n"
     ]
    },
    {
     "name": "stderr",
     "output_type": "stream",
     "text": [
      "INFO:pytimeloop.accelergy_interface:Running Accelergy with command: accelergy /home/workspace/output_dir/parsed-processed-input.yaml -o ./output_dir/ -v\n"
     ]
    },
    {
     "name": "stdout",
     "output_type": "stream",
     "text": [
      "Error running layer l29-l33_conv5_stride1: \n",
      "\n",
      "========================================================================================================================\n",
      "Timeloop mapper failed with return code 0. Please check the output files in ./output_dir for more information. To debug, you can edit the file:\n",
      "\t./output_dir/parsed-processed-input.yaml\n",
      "and run \n",
      "\ttl mapper ./output_dir/parsed-processed-input.yaml\n",
      "to see the error. If you're running the mapper and Timeloop can't find a vaild mapping, try setting 'diagnostics: true' in the mapper input specification.\n",
      "==================================================\n",
      "Starting Timeloop with configuration:\n",
      "  - arch: Architecture.Data_Parallel\n",
      "  - scale: GPUMemoryScale.MEMORY_4MB\n",
      "  - rack: RackSize.RACK_8\n",
      "  - peConfig: PEsConfig.PE_16\n",
      "==================================================\n",
      "Running layer 1: l1_conv1 which occurs 1 times\n",
      "[INFO] 2025-05-04 13:31:59,248 - pytimeloop.accelergy_interface - Running Accelergy with command: accelergy /home/workspace/output_dir/parsed-processed-input.yaml -o ./output_dir/ -v\n"
     ]
    },
    {
     "name": "stderr",
     "output_type": "stream",
     "text": [
      "INFO:pytimeloop.accelergy_interface:Running Accelergy with command: accelergy /home/workspace/output_dir/parsed-processed-input.yaml -o ./output_dir/ -v\n"
     ]
    },
    {
     "name": "stdout",
     "output_type": "stream",
     "text": [
      "Adding energy and cycle stats for l1_conv1 occurence 1\n",
      "Running layer 2: l2_conv2_stride2 which occurs 1 times\n",
      "[INFO] 2025-05-04 13:33:20,571 - pytimeloop.accelergy_interface - Running Accelergy with command: accelergy /home/workspace/output_dir/parsed-processed-input.yaml -o ./output_dir/ -v\n"
     ]
    },
    {
     "name": "stderr",
     "output_type": "stream",
     "text": [
      "INFO:pytimeloop.accelergy_interface:Running Accelergy with command: accelergy /home/workspace/output_dir/parsed-processed-input.yaml -o ./output_dir/ -v\n"
     ]
    },
    {
     "name": "stdout",
     "output_type": "stream",
     "text": [
      "Adding energy and cycle stats for l2_conv2_stride2 occurence 1\n",
      "Running layer 3: l3-l7_conv2_stride1 which occurs 5 times\n",
      "[INFO] 2025-05-04 13:36:06,207 - pytimeloop.accelergy_interface - Running Accelergy with command: accelergy /home/workspace/output_dir/parsed-processed-input.yaml -o ./output_dir/ -v\n"
     ]
    },
    {
     "name": "stderr",
     "output_type": "stream",
     "text": [
      "INFO:pytimeloop.accelergy_interface:Running Accelergy with command: accelergy /home/workspace/output_dir/parsed-processed-input.yaml -o ./output_dir/ -v\n"
     ]
    },
    {
     "name": "stdout",
     "output_type": "stream",
     "text": [
      "Adding energy and cycle stats for l3-l7_conv2_stride1 occurence 1\n",
      "Adding energy and cycle stats for l3-l7_conv2_stride1 occurence 2\n",
      "Adding energy and cycle stats for l3-l7_conv2_stride1 occurence 3\n",
      "Adding energy and cycle stats for l3-l7_conv2_stride1 occurence 4\n",
      "Adding energy and cycle stats for l3-l7_conv2_stride1 occurence 5\n",
      "Running layer 8: l8_conv3_stride2 which occurs 1 times\n",
      "[INFO] 2025-05-04 13:38:51,138 - pytimeloop.accelergy_interface - Running Accelergy with command: accelergy /home/workspace/output_dir/parsed-processed-input.yaml -o ./output_dir/ -v\n"
     ]
    },
    {
     "name": "stderr",
     "output_type": "stream",
     "text": [
      "INFO:pytimeloop.accelergy_interface:Running Accelergy with command: accelergy /home/workspace/output_dir/parsed-processed-input.yaml -o ./output_dir/ -v\n"
     ]
    },
    {
     "name": "stdout",
     "output_type": "stream",
     "text": [
      "Adding energy and cycle stats for l8_conv3_stride2 occurence 1\n",
      "Running layer 9: l9-l15_conv3_stride1 which occurs 7 times\n",
      "[INFO] 2025-05-04 13:41:44,502 - pytimeloop.accelergy_interface - Running Accelergy with command: accelergy /home/workspace/output_dir/parsed-processed-input.yaml -o ./output_dir/ -v\n"
     ]
    },
    {
     "name": "stderr",
     "output_type": "stream",
     "text": [
      "INFO:pytimeloop.accelergy_interface:Running Accelergy with command: accelergy /home/workspace/output_dir/parsed-processed-input.yaml -o ./output_dir/ -v\n"
     ]
    },
    {
     "name": "stdout",
     "output_type": "stream",
     "text": [
      "Adding energy and cycle stats for l9-l15_conv3_stride1 occurence 1\n",
      "Adding energy and cycle stats for l9-l15_conv3_stride1 occurence 2\n",
      "Adding energy and cycle stats for l9-l15_conv3_stride1 occurence 3\n",
      "Adding energy and cycle stats for l9-l15_conv3_stride1 occurence 4\n",
      "Adding energy and cycle stats for l9-l15_conv3_stride1 occurence 5\n",
      "Adding energy and cycle stats for l9-l15_conv3_stride1 occurence 6\n",
      "Adding energy and cycle stats for l9-l15_conv3_stride1 occurence 7\n",
      "Running layer 16: l16_conv4_stride2 which occurs 1 times\n",
      "[INFO] 2025-05-04 13:45:06,942 - pytimeloop.accelergy_interface - Running Accelergy with command: accelergy /home/workspace/output_dir/parsed-processed-input.yaml -o ./output_dir/ -v\n"
     ]
    },
    {
     "name": "stderr",
     "output_type": "stream",
     "text": [
      "INFO:pytimeloop.accelergy_interface:Running Accelergy with command: accelergy /home/workspace/output_dir/parsed-processed-input.yaml -o ./output_dir/ -v\n"
     ]
    },
    {
     "name": "stdout",
     "output_type": "stream",
     "text": [
      "Adding energy and cycle stats for l16_conv4_stride2 occurence 1\n",
      "Running layer 17: l17-l27_conv4_stride1 which occurs 11 times\n",
      "[INFO] 2025-05-04 13:47:30,298 - pytimeloop.accelergy_interface - Running Accelergy with command: accelergy /home/workspace/output_dir/parsed-processed-input.yaml -o ./output_dir/ -v\n"
     ]
    },
    {
     "name": "stderr",
     "output_type": "stream",
     "text": [
      "INFO:pytimeloop.accelergy_interface:Running Accelergy with command: accelergy /home/workspace/output_dir/parsed-processed-input.yaml -o ./output_dir/ -v\n"
     ]
    },
    {
     "name": "stdout",
     "output_type": "stream",
     "text": [
      "Adding energy and cycle stats for l17-l27_conv4_stride1 occurence 1\n",
      "Adding energy and cycle stats for l17-l27_conv4_stride1 occurence 2\n",
      "Adding energy and cycle stats for l17-l27_conv4_stride1 occurence 3\n",
      "Adding energy and cycle stats for l17-l27_conv4_stride1 occurence 4\n",
      "Adding energy and cycle stats for l17-l27_conv4_stride1 occurence 5\n",
      "Adding energy and cycle stats for l17-l27_conv4_stride1 occurence 6\n",
      "Adding energy and cycle stats for l17-l27_conv4_stride1 occurence 7\n",
      "Adding energy and cycle stats for l17-l27_conv4_stride1 occurence 8\n",
      "Adding energy and cycle stats for l17-l27_conv4_stride1 occurence 9\n",
      "Adding energy and cycle stats for l17-l27_conv4_stride1 occurence 10\n",
      "Adding energy and cycle stats for l17-l27_conv4_stride1 occurence 11\n",
      "Running layer 28: l28_conv5_stride2 which occurs 1 times\n",
      "[INFO] 2025-05-04 13:50:09,077 - pytimeloop.accelergy_interface - Running Accelergy with command: accelergy /home/workspace/output_dir/parsed-processed-input.yaml -o ./output_dir/ -v\n"
     ]
    },
    {
     "name": "stderr",
     "output_type": "stream",
     "text": [
      "INFO:pytimeloop.accelergy_interface:Running Accelergy with command: accelergy /home/workspace/output_dir/parsed-processed-input.yaml -o ./output_dir/ -v\n"
     ]
    },
    {
     "name": "stdout",
     "output_type": "stream",
     "text": [
      "Adding energy and cycle stats for l28_conv5_stride2 occurence 1\n",
      "Running layer 29: l29-l33_conv5_stride1 which occurs 5 times\n",
      "[INFO] 2025-05-04 13:51:30,626 - pytimeloop.accelergy_interface - Running Accelergy with command: accelergy /home/workspace/output_dir/parsed-processed-input.yaml -o ./output_dir/ -v\n"
     ]
    },
    {
     "name": "stderr",
     "output_type": "stream",
     "text": [
      "INFO:pytimeloop.accelergy_interface:Running Accelergy with command: accelergy /home/workspace/output_dir/parsed-processed-input.yaml -o ./output_dir/ -v\n"
     ]
    },
    {
     "name": "stdout",
     "output_type": "stream",
     "text": [
      "Error running layer l29-l33_conv5_stride1: \n",
      "\n",
      "========================================================================================================================\n",
      "Timeloop mapper failed with return code 0. Please check the output files in ./output_dir for more information. To debug, you can edit the file:\n",
      "\t./output_dir/parsed-processed-input.yaml\n",
      "and run \n",
      "\ttl mapper ./output_dir/parsed-processed-input.yaml\n",
      "to see the error. If you're running the mapper and Timeloop can't find a vaild mapping, try setting 'diagnostics: true' in the mapper input specification.\n",
      "==================================================\n",
      "Starting Timeloop with configuration:\n",
      "  - arch: Architecture.Data_Parallel\n",
      "  - scale: GPUMemoryScale.MEMORY_16MB\n",
      "  - rack: RackSize.RACK_8\n",
      "  - peConfig: PEsConfig.PE_1\n",
      "==================================================\n",
      "Running layer 1: l1_conv1 which occurs 1 times\n",
      "[INFO] 2025-05-04 13:51:44,388 - pytimeloop.accelergy_interface - Running Accelergy with command: accelergy /home/workspace/output_dir/parsed-processed-input.yaml -o ./output_dir/ -v\n"
     ]
    },
    {
     "name": "stderr",
     "output_type": "stream",
     "text": [
      "INFO:pytimeloop.accelergy_interface:Running Accelergy with command: accelergy /home/workspace/output_dir/parsed-processed-input.yaml -o ./output_dir/ -v\n"
     ]
    },
    {
     "name": "stdout",
     "output_type": "stream",
     "text": [
      "Adding energy and cycle stats for l1_conv1 occurence 1\n",
      "Running layer 2: l2_conv2_stride2 which occurs 1 times\n",
      "[INFO] 2025-05-04 13:53:41,513 - pytimeloop.accelergy_interface - Running Accelergy with command: accelergy /home/workspace/output_dir/parsed-processed-input.yaml -o ./output_dir/ -v\n"
     ]
    },
    {
     "name": "stderr",
     "output_type": "stream",
     "text": [
      "INFO:pytimeloop.accelergy_interface:Running Accelergy with command: accelergy /home/workspace/output_dir/parsed-processed-input.yaml -o ./output_dir/ -v\n"
     ]
    },
    {
     "name": "stdout",
     "output_type": "stream",
     "text": [
      "Adding energy and cycle stats for l2_conv2_stride2 occurence 1\n",
      "Running layer 3: l3-l7_conv2_stride1 which occurs 5 times\n",
      "[INFO] 2025-05-04 13:57:05,470 - pytimeloop.accelergy_interface - Running Accelergy with command: accelergy /home/workspace/output_dir/parsed-processed-input.yaml -o ./output_dir/ -v\n"
     ]
    },
    {
     "name": "stderr",
     "output_type": "stream",
     "text": [
      "INFO:pytimeloop.accelergy_interface:Running Accelergy with command: accelergy /home/workspace/output_dir/parsed-processed-input.yaml -o ./output_dir/ -v\n"
     ]
    },
    {
     "name": "stdout",
     "output_type": "stream",
     "text": [
      "Adding energy and cycle stats for l3-l7_conv2_stride1 occurence 1\n",
      "Adding energy and cycle stats for l3-l7_conv2_stride1 occurence 2\n",
      "Adding energy and cycle stats for l3-l7_conv2_stride1 occurence 3\n",
      "Adding energy and cycle stats for l3-l7_conv2_stride1 occurence 4\n",
      "Adding energy and cycle stats for l3-l7_conv2_stride1 occurence 5\n",
      "Running layer 8: l8_conv3_stride2 which occurs 1 times\n",
      "[INFO] 2025-05-04 14:00:27,942 - pytimeloop.accelergy_interface - Running Accelergy with command: accelergy /home/workspace/output_dir/parsed-processed-input.yaml -o ./output_dir/ -v\n"
     ]
    },
    {
     "name": "stderr",
     "output_type": "stream",
     "text": [
      "INFO:pytimeloop.accelergy_interface:Running Accelergy with command: accelergy /home/workspace/output_dir/parsed-processed-input.yaml -o ./output_dir/ -v\n"
     ]
    },
    {
     "name": "stdout",
     "output_type": "stream",
     "text": [
      "Adding energy and cycle stats for l8_conv3_stride2 occurence 1\n",
      "Running layer 9: l9-l15_conv3_stride1 which occurs 7 times\n",
      "[INFO] 2025-05-04 14:03:18,485 - pytimeloop.accelergy_interface - Running Accelergy with command: accelergy /home/workspace/output_dir/parsed-processed-input.yaml -o ./output_dir/ -v\n"
     ]
    },
    {
     "name": "stderr",
     "output_type": "stream",
     "text": [
      "INFO:pytimeloop.accelergy_interface:Running Accelergy with command: accelergy /home/workspace/output_dir/parsed-processed-input.yaml -o ./output_dir/ -v\n"
     ]
    },
    {
     "name": "stdout",
     "output_type": "stream",
     "text": [
      "Adding energy and cycle stats for l9-l15_conv3_stride1 occurence 1\n",
      "Adding energy and cycle stats for l9-l15_conv3_stride1 occurence 2\n",
      "Adding energy and cycle stats for l9-l15_conv3_stride1 occurence 3\n",
      "Adding energy and cycle stats for l9-l15_conv3_stride1 occurence 4\n",
      "Adding energy and cycle stats for l9-l15_conv3_stride1 occurence 5\n",
      "Adding energy and cycle stats for l9-l15_conv3_stride1 occurence 6\n",
      "Adding energy and cycle stats for l9-l15_conv3_stride1 occurence 7\n",
      "Running layer 16: l16_conv4_stride2 which occurs 1 times\n",
      "[INFO] 2025-05-04 14:05:57,932 - pytimeloop.accelergy_interface - Running Accelergy with command: accelergy /home/workspace/output_dir/parsed-processed-input.yaml -o ./output_dir/ -v\n"
     ]
    },
    {
     "name": "stderr",
     "output_type": "stream",
     "text": [
      "INFO:pytimeloop.accelergy_interface:Running Accelergy with command: accelergy /home/workspace/output_dir/parsed-processed-input.yaml -o ./output_dir/ -v\n"
     ]
    },
    {
     "name": "stdout",
     "output_type": "stream",
     "text": [
      "Adding energy and cycle stats for l16_conv4_stride2 occurence 1\n",
      "Running layer 17: l17-l27_conv4_stride1 which occurs 11 times\n",
      "[INFO] 2025-05-04 14:08:09,104 - pytimeloop.accelergy_interface - Running Accelergy with command: accelergy /home/workspace/output_dir/parsed-processed-input.yaml -o ./output_dir/ -v\n"
     ]
    },
    {
     "name": "stderr",
     "output_type": "stream",
     "text": [
      "INFO:pytimeloop.accelergy_interface:Running Accelergy with command: accelergy /home/workspace/output_dir/parsed-processed-input.yaml -o ./output_dir/ -v\n"
     ]
    },
    {
     "name": "stdout",
     "output_type": "stream",
     "text": [
      "Adding energy and cycle stats for l17-l27_conv4_stride1 occurence 1\n",
      "Adding energy and cycle stats for l17-l27_conv4_stride1 occurence 2\n",
      "Adding energy and cycle stats for l17-l27_conv4_stride1 occurence 3\n",
      "Adding energy and cycle stats for l17-l27_conv4_stride1 occurence 4\n",
      "Adding energy and cycle stats for l17-l27_conv4_stride1 occurence 5\n",
      "Adding energy and cycle stats for l17-l27_conv4_stride1 occurence 6\n",
      "Adding energy and cycle stats for l17-l27_conv4_stride1 occurence 7\n",
      "Adding energy and cycle stats for l17-l27_conv4_stride1 occurence 8\n",
      "Adding energy and cycle stats for l17-l27_conv4_stride1 occurence 9\n",
      "Adding energy and cycle stats for l17-l27_conv4_stride1 occurence 10\n",
      "Adding energy and cycle stats for l17-l27_conv4_stride1 occurence 11\n",
      "Running layer 28: l28_conv5_stride2 which occurs 1 times\n",
      "[INFO] 2025-05-04 14:09:56,243 - pytimeloop.accelergy_interface - Running Accelergy with command: accelergy /home/workspace/output_dir/parsed-processed-input.yaml -o ./output_dir/ -v\n"
     ]
    },
    {
     "name": "stderr",
     "output_type": "stream",
     "text": [
      "INFO:pytimeloop.accelergy_interface:Running Accelergy with command: accelergy /home/workspace/output_dir/parsed-processed-input.yaml -o ./output_dir/ -v\n"
     ]
    },
    {
     "name": "stdout",
     "output_type": "stream",
     "text": [
      "Adding energy and cycle stats for l28_conv5_stride2 occurence 1\n",
      "Running layer 29: l29-l33_conv5_stride1 which occurs 5 times\n",
      "[INFO] 2025-05-04 14:10:52,624 - pytimeloop.accelergy_interface - Running Accelergy with command: accelergy /home/workspace/output_dir/parsed-processed-input.yaml -o ./output_dir/ -v\n"
     ]
    },
    {
     "name": "stderr",
     "output_type": "stream",
     "text": [
      "INFO:pytimeloop.accelergy_interface:Running Accelergy with command: accelergy /home/workspace/output_dir/parsed-processed-input.yaml -o ./output_dir/ -v\n"
     ]
    },
    {
     "name": "stdout",
     "output_type": "stream",
     "text": [
      "Adding energy and cycle stats for l29-l33_conv5_stride1 occurence 1\n",
      "Adding energy and cycle stats for l29-l33_conv5_stride1 occurence 2\n",
      "Adding energy and cycle stats for l29-l33_conv5_stride1 occurence 3\n",
      "Adding energy and cycle stats for l29-l33_conv5_stride1 occurence 4\n",
      "Adding energy and cycle stats for l29-l33_conv5_stride1 occurence 5\n",
      "==================================================\n",
      "Starting Timeloop with configuration:\n",
      "  - arch: Architecture.Data_Parallel\n",
      "  - scale: GPUMemoryScale.MEMORY_16MB\n",
      "  - rack: RackSize.RACK_8\n",
      "  - peConfig: PEsConfig.PE_4\n",
      "==================================================\n",
      "Running layer 1: l1_conv1 which occurs 1 times\n",
      "[INFO] 2025-05-04 14:11:53,886 - pytimeloop.accelergy_interface - Running Accelergy with command: accelergy /home/workspace/output_dir/parsed-processed-input.yaml -o ./output_dir/ -v\n"
     ]
    },
    {
     "name": "stderr",
     "output_type": "stream",
     "text": [
      "INFO:pytimeloop.accelergy_interface:Running Accelergy with command: accelergy /home/workspace/output_dir/parsed-processed-input.yaml -o ./output_dir/ -v\n"
     ]
    },
    {
     "name": "stdout",
     "output_type": "stream",
     "text": [
      "Adding energy and cycle stats for l1_conv1 occurence 1\n",
      "Running layer 2: l2_conv2_stride2 which occurs 1 times\n",
      "[INFO] 2025-05-04 14:13:56,266 - pytimeloop.accelergy_interface - Running Accelergy with command: accelergy /home/workspace/output_dir/parsed-processed-input.yaml -o ./output_dir/ -v\n"
     ]
    },
    {
     "name": "stderr",
     "output_type": "stream",
     "text": [
      "INFO:pytimeloop.accelergy_interface:Running Accelergy with command: accelergy /home/workspace/output_dir/parsed-processed-input.yaml -o ./output_dir/ -v\n"
     ]
    },
    {
     "name": "stdout",
     "output_type": "stream",
     "text": [
      "Adding energy and cycle stats for l2_conv2_stride2 occurence 1\n",
      "Running layer 3: l3-l7_conv2_stride1 which occurs 5 times\n",
      "[INFO] 2025-05-04 14:16:54,466 - pytimeloop.accelergy_interface - Running Accelergy with command: accelergy /home/workspace/output_dir/parsed-processed-input.yaml -o ./output_dir/ -v\n"
     ]
    },
    {
     "name": "stderr",
     "output_type": "stream",
     "text": [
      "INFO:pytimeloop.accelergy_interface:Running Accelergy with command: accelergy /home/workspace/output_dir/parsed-processed-input.yaml -o ./output_dir/ -v\n"
     ]
    },
    {
     "name": "stdout",
     "output_type": "stream",
     "text": [
      "Adding energy and cycle stats for l3-l7_conv2_stride1 occurence 1\n",
      "Adding energy and cycle stats for l3-l7_conv2_stride1 occurence 2\n",
      "Adding energy and cycle stats for l3-l7_conv2_stride1 occurence 3\n",
      "Adding energy and cycle stats for l3-l7_conv2_stride1 occurence 4\n",
      "Adding energy and cycle stats for l3-l7_conv2_stride1 occurence 5\n",
      "Running layer 8: l8_conv3_stride2 which occurs 1 times\n",
      "[INFO] 2025-05-04 14:19:54,349 - pytimeloop.accelergy_interface - Running Accelergy with command: accelergy /home/workspace/output_dir/parsed-processed-input.yaml -o ./output_dir/ -v\n"
     ]
    },
    {
     "name": "stderr",
     "output_type": "stream",
     "text": [
      "INFO:pytimeloop.accelergy_interface:Running Accelergy with command: accelergy /home/workspace/output_dir/parsed-processed-input.yaml -o ./output_dir/ -v\n"
     ]
    },
    {
     "name": "stdout",
     "output_type": "stream",
     "text": [
      "Adding energy and cycle stats for l8_conv3_stride2 occurence 1\n",
      "Running layer 9: l9-l15_conv3_stride1 which occurs 7 times\n",
      "[INFO] 2025-05-04 14:23:06,192 - pytimeloop.accelergy_interface - Running Accelergy with command: accelergy /home/workspace/output_dir/parsed-processed-input.yaml -o ./output_dir/ -v\n"
     ]
    },
    {
     "name": "stderr",
     "output_type": "stream",
     "text": [
      "INFO:pytimeloop.accelergy_interface:Running Accelergy with command: accelergy /home/workspace/output_dir/parsed-processed-input.yaml -o ./output_dir/ -v\n"
     ]
    },
    {
     "name": "stdout",
     "output_type": "stream",
     "text": [
      "Adding energy and cycle stats for l9-l15_conv3_stride1 occurence 1\n",
      "Adding energy and cycle stats for l9-l15_conv3_stride1 occurence 2\n",
      "Adding energy and cycle stats for l9-l15_conv3_stride1 occurence 3\n",
      "Adding energy and cycle stats for l9-l15_conv3_stride1 occurence 4\n",
      "Adding energy and cycle stats for l9-l15_conv3_stride1 occurence 5\n",
      "Adding energy and cycle stats for l9-l15_conv3_stride1 occurence 6\n",
      "Adding energy and cycle stats for l9-l15_conv3_stride1 occurence 7\n",
      "Running layer 16: l16_conv4_stride2 which occurs 1 times\n",
      "[INFO] 2025-05-04 14:25:50,186 - pytimeloop.accelergy_interface - Running Accelergy with command: accelergy /home/workspace/output_dir/parsed-processed-input.yaml -o ./output_dir/ -v\n"
     ]
    },
    {
     "name": "stderr",
     "output_type": "stream",
     "text": [
      "INFO:pytimeloop.accelergy_interface:Running Accelergy with command: accelergy /home/workspace/output_dir/parsed-processed-input.yaml -o ./output_dir/ -v\n"
     ]
    },
    {
     "name": "stdout",
     "output_type": "stream",
     "text": [
      "Adding energy and cycle stats for l16_conv4_stride2 occurence 1\n",
      "Running layer 17: l17-l27_conv4_stride1 which occurs 11 times\n",
      "[INFO] 2025-05-04 14:27:52,578 - pytimeloop.accelergy_interface - Running Accelergy with command: accelergy /home/workspace/output_dir/parsed-processed-input.yaml -o ./output_dir/ -v\n"
     ]
    },
    {
     "name": "stderr",
     "output_type": "stream",
     "text": [
      "INFO:pytimeloop.accelergy_interface:Running Accelergy with command: accelergy /home/workspace/output_dir/parsed-processed-input.yaml -o ./output_dir/ -v\n"
     ]
    },
    {
     "name": "stdout",
     "output_type": "stream",
     "text": [
      "Adding energy and cycle stats for l17-l27_conv4_stride1 occurence 1\n",
      "Adding energy and cycle stats for l17-l27_conv4_stride1 occurence 2\n",
      "Adding energy and cycle stats for l17-l27_conv4_stride1 occurence 3\n",
      "Adding energy and cycle stats for l17-l27_conv4_stride1 occurence 4\n",
      "Adding energy and cycle stats for l17-l27_conv4_stride1 occurence 5\n",
      "Adding energy and cycle stats for l17-l27_conv4_stride1 occurence 6\n",
      "Adding energy and cycle stats for l17-l27_conv4_stride1 occurence 7\n",
      "Adding energy and cycle stats for l17-l27_conv4_stride1 occurence 8\n",
      "Adding energy and cycle stats for l17-l27_conv4_stride1 occurence 9\n",
      "Adding energy and cycle stats for l17-l27_conv4_stride1 occurence 10\n",
      "Adding energy and cycle stats for l17-l27_conv4_stride1 occurence 11\n",
      "Running layer 28: l28_conv5_stride2 which occurs 1 times\n",
      "[INFO] 2025-05-04 14:30:11,677 - pytimeloop.accelergy_interface - Running Accelergy with command: accelergy /home/workspace/output_dir/parsed-processed-input.yaml -o ./output_dir/ -v\n"
     ]
    },
    {
     "name": "stderr",
     "output_type": "stream",
     "text": [
      "INFO:pytimeloop.accelergy_interface:Running Accelergy with command: accelergy /home/workspace/output_dir/parsed-processed-input.yaml -o ./output_dir/ -v\n"
     ]
    },
    {
     "name": "stdout",
     "output_type": "stream",
     "text": [
      "Adding energy and cycle stats for l28_conv5_stride2 occurence 1\n",
      "Running layer 29: l29-l33_conv5_stride1 which occurs 5 times\n",
      "[INFO] 2025-05-04 14:31:27,581 - pytimeloop.accelergy_interface - Running Accelergy with command: accelergy /home/workspace/output_dir/parsed-processed-input.yaml -o ./output_dir/ -v\n"
     ]
    },
    {
     "name": "stderr",
     "output_type": "stream",
     "text": [
      "INFO:pytimeloop.accelergy_interface:Running Accelergy with command: accelergy /home/workspace/output_dir/parsed-processed-input.yaml -o ./output_dir/ -v\n"
     ]
    },
    {
     "name": "stdout",
     "output_type": "stream",
     "text": [
      "Adding energy and cycle stats for l29-l33_conv5_stride1 occurence 1\n",
      "Adding energy and cycle stats for l29-l33_conv5_stride1 occurence 2\n",
      "Adding energy and cycle stats for l29-l33_conv5_stride1 occurence 3\n",
      "Adding energy and cycle stats for l29-l33_conv5_stride1 occurence 4\n",
      "Adding energy and cycle stats for l29-l33_conv5_stride1 occurence 5\n",
      "==================================================\n",
      "Starting Timeloop with configuration:\n",
      "  - arch: Architecture.Data_Parallel\n",
      "  - scale: GPUMemoryScale.MEMORY_16MB\n",
      "  - rack: RackSize.RACK_8\n",
      "  - peConfig: PEsConfig.PE_16\n",
      "==================================================\n",
      "Running layer 1: l1_conv1 which occurs 1 times\n",
      "[INFO] 2025-05-04 14:32:42,756 - pytimeloop.accelergy_interface - Running Accelergy with command: accelergy /home/workspace/output_dir/parsed-processed-input.yaml -o ./output_dir/ -v\n"
     ]
    },
    {
     "name": "stderr",
     "output_type": "stream",
     "text": [
      "INFO:pytimeloop.accelergy_interface:Running Accelergy with command: accelergy /home/workspace/output_dir/parsed-processed-input.yaml -o ./output_dir/ -v\n"
     ]
    },
    {
     "name": "stdout",
     "output_type": "stream",
     "text": [
      "Adding energy and cycle stats for l1_conv1 occurence 1\n",
      "Running layer 2: l2_conv2_stride2 which occurs 1 times\n",
      "[INFO] 2025-05-04 14:34:14,201 - pytimeloop.accelergy_interface - Running Accelergy with command: accelergy /home/workspace/output_dir/parsed-processed-input.yaml -o ./output_dir/ -v\n"
     ]
    },
    {
     "name": "stderr",
     "output_type": "stream",
     "text": [
      "INFO:pytimeloop.accelergy_interface:Running Accelergy with command: accelergy /home/workspace/output_dir/parsed-processed-input.yaml -o ./output_dir/ -v\n"
     ]
    },
    {
     "name": "stdout",
     "output_type": "stream",
     "text": [
      "Adding energy and cycle stats for l2_conv2_stride2 occurence 1\n",
      "Running layer 3: l3-l7_conv2_stride1 which occurs 5 times\n",
      "[INFO] 2025-05-04 14:37:27,144 - pytimeloop.accelergy_interface - Running Accelergy with command: accelergy /home/workspace/output_dir/parsed-processed-input.yaml -o ./output_dir/ -v\n"
     ]
    },
    {
     "name": "stderr",
     "output_type": "stream",
     "text": [
      "INFO:pytimeloop.accelergy_interface:Running Accelergy with command: accelergy /home/workspace/output_dir/parsed-processed-input.yaml -o ./output_dir/ -v\n"
     ]
    },
    {
     "name": "stdout",
     "output_type": "stream",
     "text": [
      "Adding energy and cycle stats for l3-l7_conv2_stride1 occurence 1\n",
      "Adding energy and cycle stats for l3-l7_conv2_stride1 occurence 2\n",
      "Adding energy and cycle stats for l3-l7_conv2_stride1 occurence 3\n",
      "Adding energy and cycle stats for l3-l7_conv2_stride1 occurence 4\n",
      "Adding energy and cycle stats for l3-l7_conv2_stride1 occurence 5\n",
      "Running layer 8: l8_conv3_stride2 which occurs 1 times\n",
      "[INFO] 2025-05-04 14:40:36,411 - pytimeloop.accelergy_interface - Running Accelergy with command: accelergy /home/workspace/output_dir/parsed-processed-input.yaml -o ./output_dir/ -v\n"
     ]
    },
    {
     "name": "stderr",
     "output_type": "stream",
     "text": [
      "INFO:pytimeloop.accelergy_interface:Running Accelergy with command: accelergy /home/workspace/output_dir/parsed-processed-input.yaml -o ./output_dir/ -v\n"
     ]
    },
    {
     "name": "stdout",
     "output_type": "stream",
     "text": [
      "Adding energy and cycle stats for l8_conv3_stride2 occurence 1\n",
      "Running layer 9: l9-l15_conv3_stride1 which occurs 7 times\n",
      "[INFO] 2025-05-04 14:43:47,313 - pytimeloop.accelergy_interface - Running Accelergy with command: accelergy /home/workspace/output_dir/parsed-processed-input.yaml -o ./output_dir/ -v\n"
     ]
    },
    {
     "name": "stderr",
     "output_type": "stream",
     "text": [
      "INFO:pytimeloop.accelergy_interface:Running Accelergy with command: accelergy /home/workspace/output_dir/parsed-processed-input.yaml -o ./output_dir/ -v\n"
     ]
    },
    {
     "name": "stdout",
     "output_type": "stream",
     "text": [
      "Adding energy and cycle stats for l9-l15_conv3_stride1 occurence 1\n",
      "Adding energy and cycle stats for l9-l15_conv3_stride1 occurence 2\n",
      "Adding energy and cycle stats for l9-l15_conv3_stride1 occurence 3\n",
      "Adding energy and cycle stats for l9-l15_conv3_stride1 occurence 4\n",
      "Adding energy and cycle stats for l9-l15_conv3_stride1 occurence 5\n",
      "Adding energy and cycle stats for l9-l15_conv3_stride1 occurence 6\n",
      "Adding energy and cycle stats for l9-l15_conv3_stride1 occurence 7\n",
      "Running layer 16: l16_conv4_stride2 which occurs 1 times\n",
      "[INFO] 2025-05-04 14:47:16,300 - pytimeloop.accelergy_interface - Running Accelergy with command: accelergy /home/workspace/output_dir/parsed-processed-input.yaml -o ./output_dir/ -v\n"
     ]
    },
    {
     "name": "stderr",
     "output_type": "stream",
     "text": [
      "INFO:pytimeloop.accelergy_interface:Running Accelergy with command: accelergy /home/workspace/output_dir/parsed-processed-input.yaml -o ./output_dir/ -v\n"
     ]
    },
    {
     "name": "stdout",
     "output_type": "stream",
     "text": [
      "Adding energy and cycle stats for l16_conv4_stride2 occurence 1\n",
      "Running layer 17: l17-l27_conv4_stride1 which occurs 11 times\n",
      "[INFO] 2025-05-04 14:50:07,983 - pytimeloop.accelergy_interface - Running Accelergy with command: accelergy /home/workspace/output_dir/parsed-processed-input.yaml -o ./output_dir/ -v\n"
     ]
    },
    {
     "name": "stderr",
     "output_type": "stream",
     "text": [
      "INFO:pytimeloop.accelergy_interface:Running Accelergy with command: accelergy /home/workspace/output_dir/parsed-processed-input.yaml -o ./output_dir/ -v\n"
     ]
    },
    {
     "name": "stdout",
     "output_type": "stream",
     "text": [
      "Adding energy and cycle stats for l17-l27_conv4_stride1 occurence 1\n",
      "Adding energy and cycle stats for l17-l27_conv4_stride1 occurence 2\n",
      "Adding energy and cycle stats for l17-l27_conv4_stride1 occurence 3\n",
      "Adding energy and cycle stats for l17-l27_conv4_stride1 occurence 4\n",
      "Adding energy and cycle stats for l17-l27_conv4_stride1 occurence 5\n",
      "Adding energy and cycle stats for l17-l27_conv4_stride1 occurence 6\n",
      "Adding energy and cycle stats for l17-l27_conv4_stride1 occurence 7\n",
      "Adding energy and cycle stats for l17-l27_conv4_stride1 occurence 8\n",
      "Adding energy and cycle stats for l17-l27_conv4_stride1 occurence 9\n",
      "Adding energy and cycle stats for l17-l27_conv4_stride1 occurence 10\n",
      "Adding energy and cycle stats for l17-l27_conv4_stride1 occurence 11\n",
      "Running layer 28: l28_conv5_stride2 which occurs 1 times\n",
      "[INFO] 2025-05-04 14:53:11,404 - pytimeloop.accelergy_interface - Running Accelergy with command: accelergy /home/workspace/output_dir/parsed-processed-input.yaml -o ./output_dir/ -v\n"
     ]
    },
    {
     "name": "stderr",
     "output_type": "stream",
     "text": [
      "INFO:pytimeloop.accelergy_interface:Running Accelergy with command: accelergy /home/workspace/output_dir/parsed-processed-input.yaml -o ./output_dir/ -v\n"
     ]
    },
    {
     "name": "stdout",
     "output_type": "stream",
     "text": [
      "Adding energy and cycle stats for l28_conv5_stride2 occurence 1\n",
      "Running layer 29: l29-l33_conv5_stride1 which occurs 5 times\n",
      "[INFO] 2025-05-04 14:54:20,334 - pytimeloop.accelergy_interface - Running Accelergy with command: accelergy /home/workspace/output_dir/parsed-processed-input.yaml -o ./output_dir/ -v\n"
     ]
    },
    {
     "name": "stderr",
     "output_type": "stream",
     "text": [
      "INFO:pytimeloop.accelergy_interface:Running Accelergy with command: accelergy /home/workspace/output_dir/parsed-processed-input.yaml -o ./output_dir/ -v\n"
     ]
    },
    {
     "name": "stdout",
     "output_type": "stream",
     "text": [
      "Adding energy and cycle stats for l29-l33_conv5_stride1 occurence 1\n",
      "Adding energy and cycle stats for l29-l33_conv5_stride1 occurence 2\n",
      "Adding energy and cycle stats for l29-l33_conv5_stride1 occurence 3\n",
      "Adding energy and cycle stats for l29-l33_conv5_stride1 occurence 4\n",
      "Adding energy and cycle stats for l29-l33_conv5_stride1 occurence 5\n",
      "==================================================\n",
      "Starting Timeloop with configuration:\n",
      "  - arch: Architecture.Data_Parallel\n",
      "  - scale: GPUMemoryScale.MEMORY_64MB\n",
      "  - rack: RackSize.RACK_8\n",
      "  - peConfig: PEsConfig.PE_1\n",
      "==================================================\n",
      "Running layer 1: l1_conv1 which occurs 1 times\n",
      "[INFO] 2025-05-04 14:55:55,133 - pytimeloop.accelergy_interface - Running Accelergy with command: accelergy /home/workspace/output_dir/parsed-processed-input.yaml -o ./output_dir/ -v\n"
     ]
    },
    {
     "name": "stderr",
     "output_type": "stream",
     "text": [
      "INFO:pytimeloop.accelergy_interface:Running Accelergy with command: accelergy /home/workspace/output_dir/parsed-processed-input.yaml -o ./output_dir/ -v\n"
     ]
    },
    {
     "name": "stdout",
     "output_type": "stream",
     "text": [
      "Adding energy and cycle stats for l1_conv1 occurence 1\n",
      "Running layer 2: l2_conv2_stride2 which occurs 1 times\n",
      "[INFO] 2025-05-04 14:58:34,323 - pytimeloop.accelergy_interface - Running Accelergy with command: accelergy /home/workspace/output_dir/parsed-processed-input.yaml -o ./output_dir/ -v\n"
     ]
    },
    {
     "name": "stderr",
     "output_type": "stream",
     "text": [
      "INFO:pytimeloop.accelergy_interface:Running Accelergy with command: accelergy /home/workspace/output_dir/parsed-processed-input.yaml -o ./output_dir/ -v\n"
     ]
    },
    {
     "name": "stdout",
     "output_type": "stream",
     "text": [
      "Adding energy and cycle stats for l2_conv2_stride2 occurence 1\n",
      "Running layer 3: l3-l7_conv2_stride1 which occurs 5 times\n",
      "[INFO] 2025-05-04 15:01:46,961 - pytimeloop.accelergy_interface - Running Accelergy with command: accelergy /home/workspace/output_dir/parsed-processed-input.yaml -o ./output_dir/ -v\n"
     ]
    },
    {
     "name": "stderr",
     "output_type": "stream",
     "text": [
      "INFO:pytimeloop.accelergy_interface:Running Accelergy with command: accelergy /home/workspace/output_dir/parsed-processed-input.yaml -o ./output_dir/ -v\n"
     ]
    },
    {
     "name": "stdout",
     "output_type": "stream",
     "text": [
      "Adding energy and cycle stats for l3-l7_conv2_stride1 occurence 1\n",
      "Adding energy and cycle stats for l3-l7_conv2_stride1 occurence 2\n",
      "Adding energy and cycle stats for l3-l7_conv2_stride1 occurence 3\n",
      "Adding energy and cycle stats for l3-l7_conv2_stride1 occurence 4\n",
      "Adding energy and cycle stats for l3-l7_conv2_stride1 occurence 5\n",
      "Running layer 8: l8_conv3_stride2 which occurs 1 times\n",
      "[INFO] 2025-05-04 15:04:58,764 - pytimeloop.accelergy_interface - Running Accelergy with command: accelergy /home/workspace/output_dir/parsed-processed-input.yaml -o ./output_dir/ -v\n"
     ]
    },
    {
     "name": "stderr",
     "output_type": "stream",
     "text": [
      "INFO:pytimeloop.accelergy_interface:Running Accelergy with command: accelergy /home/workspace/output_dir/parsed-processed-input.yaml -o ./output_dir/ -v\n"
     ]
    },
    {
     "name": "stdout",
     "output_type": "stream",
     "text": [
      "Adding energy and cycle stats for l8_conv3_stride2 occurence 1\n",
      "Running layer 9: l9-l15_conv3_stride1 which occurs 7 times\n",
      "[INFO] 2025-05-04 15:07:50,670 - pytimeloop.accelergy_interface - Running Accelergy with command: accelergy /home/workspace/output_dir/parsed-processed-input.yaml -o ./output_dir/ -v\n"
     ]
    },
    {
     "name": "stderr",
     "output_type": "stream",
     "text": [
      "INFO:pytimeloop.accelergy_interface:Running Accelergy with command: accelergy /home/workspace/output_dir/parsed-processed-input.yaml -o ./output_dir/ -v\n"
     ]
    },
    {
     "name": "stdout",
     "output_type": "stream",
     "text": [
      "Adding energy and cycle stats for l9-l15_conv3_stride1 occurence 1\n",
      "Adding energy and cycle stats for l9-l15_conv3_stride1 occurence 2\n",
      "Adding energy and cycle stats for l9-l15_conv3_stride1 occurence 3\n",
      "Adding energy and cycle stats for l9-l15_conv3_stride1 occurence 4\n",
      "Adding energy and cycle stats for l9-l15_conv3_stride1 occurence 5\n",
      "Adding energy and cycle stats for l9-l15_conv3_stride1 occurence 6\n",
      "Adding energy and cycle stats for l9-l15_conv3_stride1 occurence 7\n",
      "Running layer 16: l16_conv4_stride2 which occurs 1 times\n",
      "[INFO] 2025-05-04 15:10:39,826 - pytimeloop.accelergy_interface - Running Accelergy with command: accelergy /home/workspace/output_dir/parsed-processed-input.yaml -o ./output_dir/ -v\n"
     ]
    },
    {
     "name": "stderr",
     "output_type": "stream",
     "text": [
      "INFO:pytimeloop.accelergy_interface:Running Accelergy with command: accelergy /home/workspace/output_dir/parsed-processed-input.yaml -o ./output_dir/ -v\n"
     ]
    },
    {
     "name": "stdout",
     "output_type": "stream",
     "text": [
      "Adding energy and cycle stats for l16_conv4_stride2 occurence 1\n",
      "Running layer 17: l17-l27_conv4_stride1 which occurs 11 times\n",
      "[INFO] 2025-05-04 15:12:48,682 - pytimeloop.accelergy_interface - Running Accelergy with command: accelergy /home/workspace/output_dir/parsed-processed-input.yaml -o ./output_dir/ -v\n"
     ]
    },
    {
     "name": "stderr",
     "output_type": "stream",
     "text": [
      "INFO:pytimeloop.accelergy_interface:Running Accelergy with command: accelergy /home/workspace/output_dir/parsed-processed-input.yaml -o ./output_dir/ -v\n"
     ]
    },
    {
     "name": "stdout",
     "output_type": "stream",
     "text": [
      "Adding energy and cycle stats for l17-l27_conv4_stride1 occurence 1\n",
      "Adding energy and cycle stats for l17-l27_conv4_stride1 occurence 2\n",
      "Adding energy and cycle stats for l17-l27_conv4_stride1 occurence 3\n",
      "Adding energy and cycle stats for l17-l27_conv4_stride1 occurence 4\n",
      "Adding energy and cycle stats for l17-l27_conv4_stride1 occurence 5\n",
      "Adding energy and cycle stats for l17-l27_conv4_stride1 occurence 6\n",
      "Adding energy and cycle stats for l17-l27_conv4_stride1 occurence 7\n",
      "Adding energy and cycle stats for l17-l27_conv4_stride1 occurence 8\n",
      "Adding energy and cycle stats for l17-l27_conv4_stride1 occurence 9\n",
      "Adding energy and cycle stats for l17-l27_conv4_stride1 occurence 10\n",
      "Adding energy and cycle stats for l17-l27_conv4_stride1 occurence 11\n",
      "Running layer 28: l28_conv5_stride2 which occurs 1 times\n",
      "[INFO] 2025-05-04 15:14:37,413 - pytimeloop.accelergy_interface - Running Accelergy with command: accelergy /home/workspace/output_dir/parsed-processed-input.yaml -o ./output_dir/ -v\n"
     ]
    },
    {
     "name": "stderr",
     "output_type": "stream",
     "text": [
      "INFO:pytimeloop.accelergy_interface:Running Accelergy with command: accelergy /home/workspace/output_dir/parsed-processed-input.yaml -o ./output_dir/ -v\n"
     ]
    },
    {
     "name": "stdout",
     "output_type": "stream",
     "text": [
      "Adding energy and cycle stats for l28_conv5_stride2 occurence 1\n",
      "Running layer 29: l29-l33_conv5_stride1 which occurs 5 times\n",
      "[INFO] 2025-05-04 15:15:34,430 - pytimeloop.accelergy_interface - Running Accelergy with command: accelergy /home/workspace/output_dir/parsed-processed-input.yaml -o ./output_dir/ -v\n"
     ]
    },
    {
     "name": "stderr",
     "output_type": "stream",
     "text": [
      "INFO:pytimeloop.accelergy_interface:Running Accelergy with command: accelergy /home/workspace/output_dir/parsed-processed-input.yaml -o ./output_dir/ -v\n"
     ]
    },
    {
     "name": "stdout",
     "output_type": "stream",
     "text": [
      "Adding energy and cycle stats for l29-l33_conv5_stride1 occurence 1\n",
      "Adding energy and cycle stats for l29-l33_conv5_stride1 occurence 2\n",
      "Adding energy and cycle stats for l29-l33_conv5_stride1 occurence 3\n",
      "Adding energy and cycle stats for l29-l33_conv5_stride1 occurence 4\n",
      "Adding energy and cycle stats for l29-l33_conv5_stride1 occurence 5\n",
      "==================================================\n",
      "Starting Timeloop with configuration:\n",
      "  - arch: Architecture.Data_Parallel\n",
      "  - scale: GPUMemoryScale.MEMORY_64MB\n",
      "  - rack: RackSize.RACK_8\n",
      "  - peConfig: PEsConfig.PE_4\n",
      "==================================================\n",
      "Running layer 1: l1_conv1 which occurs 1 times\n",
      "[INFO] 2025-05-04 15:16:36,736 - pytimeloop.accelergy_interface - Running Accelergy with command: accelergy /home/workspace/output_dir/parsed-processed-input.yaml -o ./output_dir/ -v\n"
     ]
    },
    {
     "name": "stderr",
     "output_type": "stream",
     "text": [
      "INFO:pytimeloop.accelergy_interface:Running Accelergy with command: accelergy /home/workspace/output_dir/parsed-processed-input.yaml -o ./output_dir/ -v\n"
     ]
    },
    {
     "name": "stdout",
     "output_type": "stream",
     "text": [
      "Adding energy and cycle stats for l1_conv1 occurence 1\n",
      "Running layer 2: l2_conv2_stride2 which occurs 1 times\n",
      "[INFO] 2025-05-04 15:18:28,000 - pytimeloop.accelergy_interface - Running Accelergy with command: accelergy /home/workspace/output_dir/parsed-processed-input.yaml -o ./output_dir/ -v\n"
     ]
    },
    {
     "name": "stderr",
     "output_type": "stream",
     "text": [
      "INFO:pytimeloop.accelergy_interface:Running Accelergy with command: accelergy /home/workspace/output_dir/parsed-processed-input.yaml -o ./output_dir/ -v\n"
     ]
    },
    {
     "name": "stdout",
     "output_type": "stream",
     "text": [
      "Adding energy and cycle stats for l2_conv2_stride2 occurence 1\n",
      "Running layer 3: l3-l7_conv2_stride1 which occurs 5 times\n",
      "[INFO] 2025-05-04 15:21:29,638 - pytimeloop.accelergy_interface - Running Accelergy with command: accelergy /home/workspace/output_dir/parsed-processed-input.yaml -o ./output_dir/ -v\n"
     ]
    },
    {
     "name": "stderr",
     "output_type": "stream",
     "text": [
      "INFO:pytimeloop.accelergy_interface:Running Accelergy with command: accelergy /home/workspace/output_dir/parsed-processed-input.yaml -o ./output_dir/ -v\n"
     ]
    },
    {
     "name": "stdout",
     "output_type": "stream",
     "text": [
      "Adding energy and cycle stats for l3-l7_conv2_stride1 occurence 1\n",
      "Adding energy and cycle stats for l3-l7_conv2_stride1 occurence 2\n",
      "Adding energy and cycle stats for l3-l7_conv2_stride1 occurence 3\n",
      "Adding energy and cycle stats for l3-l7_conv2_stride1 occurence 4\n",
      "Adding energy and cycle stats for l3-l7_conv2_stride1 occurence 5\n",
      "Running layer 8: l8_conv3_stride2 which occurs 1 times\n",
      "[INFO] 2025-05-04 15:24:27,981 - pytimeloop.accelergy_interface - Running Accelergy with command: accelergy /home/workspace/output_dir/parsed-processed-input.yaml -o ./output_dir/ -v\n"
     ]
    },
    {
     "name": "stderr",
     "output_type": "stream",
     "text": [
      "INFO:pytimeloop.accelergy_interface:Running Accelergy with command: accelergy /home/workspace/output_dir/parsed-processed-input.yaml -o ./output_dir/ -v\n"
     ]
    },
    {
     "name": "stdout",
     "output_type": "stream",
     "text": [
      "Adding energy and cycle stats for l8_conv3_stride2 occurence 1\n",
      "Running layer 9: l9-l15_conv3_stride1 which occurs 7 times\n",
      "[INFO] 2025-05-04 15:27:11,625 - pytimeloop.accelergy_interface - Running Accelergy with command: accelergy /home/workspace/output_dir/parsed-processed-input.yaml -o ./output_dir/ -v\n"
     ]
    },
    {
     "name": "stderr",
     "output_type": "stream",
     "text": [
      "INFO:pytimeloop.accelergy_interface:Running Accelergy with command: accelergy /home/workspace/output_dir/parsed-processed-input.yaml -o ./output_dir/ -v\n"
     ]
    },
    {
     "name": "stdout",
     "output_type": "stream",
     "text": [
      "Adding energy and cycle stats for l9-l15_conv3_stride1 occurence 1\n",
      "Adding energy and cycle stats for l9-l15_conv3_stride1 occurence 2\n",
      "Adding energy and cycle stats for l9-l15_conv3_stride1 occurence 3\n",
      "Adding energy and cycle stats for l9-l15_conv3_stride1 occurence 4\n",
      "Adding energy and cycle stats for l9-l15_conv3_stride1 occurence 5\n",
      "Adding energy and cycle stats for l9-l15_conv3_stride1 occurence 6\n",
      "Adding energy and cycle stats for l9-l15_conv3_stride1 occurence 7\n",
      "Running layer 16: l16_conv4_stride2 which occurs 1 times\n",
      "[INFO] 2025-05-04 15:30:01,582 - pytimeloop.accelergy_interface - Running Accelergy with command: accelergy /home/workspace/output_dir/parsed-processed-input.yaml -o ./output_dir/ -v\n"
     ]
    },
    {
     "name": "stderr",
     "output_type": "stream",
     "text": [
      "INFO:pytimeloop.accelergy_interface:Running Accelergy with command: accelergy /home/workspace/output_dir/parsed-processed-input.yaml -o ./output_dir/ -v\n"
     ]
    },
    {
     "name": "stdout",
     "output_type": "stream",
     "text": [
      "Adding energy and cycle stats for l16_conv4_stride2 occurence 1\n",
      "Running layer 17: l17-l27_conv4_stride1 which occurs 11 times\n",
      "[INFO] 2025-05-04 15:32:08,367 - pytimeloop.accelergy_interface - Running Accelergy with command: accelergy /home/workspace/output_dir/parsed-processed-input.yaml -o ./output_dir/ -v\n"
     ]
    },
    {
     "name": "stderr",
     "output_type": "stream",
     "text": [
      "INFO:pytimeloop.accelergy_interface:Running Accelergy with command: accelergy /home/workspace/output_dir/parsed-processed-input.yaml -o ./output_dir/ -v\n"
     ]
    },
    {
     "name": "stdout",
     "output_type": "stream",
     "text": [
      "Adding energy and cycle stats for l17-l27_conv4_stride1 occurence 1\n",
      "Adding energy and cycle stats for l17-l27_conv4_stride1 occurence 2\n",
      "Adding energy and cycle stats for l17-l27_conv4_stride1 occurence 3\n",
      "Adding energy and cycle stats for l17-l27_conv4_stride1 occurence 4\n",
      "Adding energy and cycle stats for l17-l27_conv4_stride1 occurence 5\n",
      "Adding energy and cycle stats for l17-l27_conv4_stride1 occurence 6\n",
      "Adding energy and cycle stats for l17-l27_conv4_stride1 occurence 7\n",
      "Adding energy and cycle stats for l17-l27_conv4_stride1 occurence 8\n",
      "Adding energy and cycle stats for l17-l27_conv4_stride1 occurence 9\n",
      "Adding energy and cycle stats for l17-l27_conv4_stride1 occurence 10\n",
      "Adding energy and cycle stats for l17-l27_conv4_stride1 occurence 11\n",
      "Running layer 28: l28_conv5_stride2 which occurs 1 times\n",
      "[INFO] 2025-05-04 15:34:32,196 - pytimeloop.accelergy_interface - Running Accelergy with command: accelergy /home/workspace/output_dir/parsed-processed-input.yaml -o ./output_dir/ -v\n"
     ]
    },
    {
     "name": "stderr",
     "output_type": "stream",
     "text": [
      "INFO:pytimeloop.accelergy_interface:Running Accelergy with command: accelergy /home/workspace/output_dir/parsed-processed-input.yaml -o ./output_dir/ -v\n"
     ]
    },
    {
     "name": "stdout",
     "output_type": "stream",
     "text": [
      "Adding energy and cycle stats for l28_conv5_stride2 occurence 1\n",
      "Running layer 29: l29-l33_conv5_stride1 which occurs 5 times\n",
      "[INFO] 2025-05-04 15:35:49,370 - pytimeloop.accelergy_interface - Running Accelergy with command: accelergy /home/workspace/output_dir/parsed-processed-input.yaml -o ./output_dir/ -v\n"
     ]
    },
    {
     "name": "stderr",
     "output_type": "stream",
     "text": [
      "INFO:pytimeloop.accelergy_interface:Running Accelergy with command: accelergy /home/workspace/output_dir/parsed-processed-input.yaml -o ./output_dir/ -v\n"
     ]
    },
    {
     "name": "stdout",
     "output_type": "stream",
     "text": [
      "Adding energy and cycle stats for l29-l33_conv5_stride1 occurence 1\n",
      "Adding energy and cycle stats for l29-l33_conv5_stride1 occurence 2\n",
      "Adding energy and cycle stats for l29-l33_conv5_stride1 occurence 3\n",
      "Adding energy and cycle stats for l29-l33_conv5_stride1 occurence 4\n",
      "Adding energy and cycle stats for l29-l33_conv5_stride1 occurence 5\n",
      "==================================================\n",
      "Starting Timeloop with configuration:\n",
      "  - arch: Architecture.Data_Parallel\n",
      "  - scale: GPUMemoryScale.MEMORY_64MB\n",
      "  - rack: RackSize.RACK_8\n",
      "  - peConfig: PEsConfig.PE_16\n",
      "==================================================\n",
      "Running layer 1: l1_conv1 which occurs 1 times\n",
      "[INFO] 2025-05-04 15:37:05,209 - pytimeloop.accelergy_interface - Running Accelergy with command: accelergy /home/workspace/output_dir/parsed-processed-input.yaml -o ./output_dir/ -v\n"
     ]
    },
    {
     "name": "stderr",
     "output_type": "stream",
     "text": [
      "INFO:pytimeloop.accelergy_interface:Running Accelergy with command: accelergy /home/workspace/output_dir/parsed-processed-input.yaml -o ./output_dir/ -v\n"
     ]
    },
    {
     "name": "stdout",
     "output_type": "stream",
     "text": [
      "Adding energy and cycle stats for l1_conv1 occurence 1\n",
      "Running layer 2: l2_conv2_stride2 which occurs 1 times\n",
      "[INFO] 2025-05-04 15:38:55,051 - pytimeloop.accelergy_interface - Running Accelergy with command: accelergy /home/workspace/output_dir/parsed-processed-input.yaml -o ./output_dir/ -v\n"
     ]
    },
    {
     "name": "stderr",
     "output_type": "stream",
     "text": [
      "INFO:pytimeloop.accelergy_interface:Running Accelergy with command: accelergy /home/workspace/output_dir/parsed-processed-input.yaml -o ./output_dir/ -v\n"
     ]
    },
    {
     "name": "stdout",
     "output_type": "stream",
     "text": [
      "Adding energy and cycle stats for l2_conv2_stride2 occurence 1\n",
      "Running layer 3: l3-l7_conv2_stride1 which occurs 5 times\n",
      "[INFO] 2025-05-04 15:41:58,238 - pytimeloop.accelergy_interface - Running Accelergy with command: accelergy /home/workspace/output_dir/parsed-processed-input.yaml -o ./output_dir/ -v\n"
     ]
    },
    {
     "name": "stderr",
     "output_type": "stream",
     "text": [
      "INFO:pytimeloop.accelergy_interface:Running Accelergy with command: accelergy /home/workspace/output_dir/parsed-processed-input.yaml -o ./output_dir/ -v\n"
     ]
    },
    {
     "name": "stdout",
     "output_type": "stream",
     "text": [
      "Adding energy and cycle stats for l3-l7_conv2_stride1 occurence 1\n",
      "Adding energy and cycle stats for l3-l7_conv2_stride1 occurence 2\n",
      "Adding energy and cycle stats for l3-l7_conv2_stride1 occurence 3\n",
      "Adding energy and cycle stats for l3-l7_conv2_stride1 occurence 4\n",
      "Adding energy and cycle stats for l3-l7_conv2_stride1 occurence 5\n",
      "Running layer 8: l8_conv3_stride2 which occurs 1 times\n",
      "[INFO] 2025-05-04 15:44:59,392 - pytimeloop.accelergy_interface - Running Accelergy with command: accelergy /home/workspace/output_dir/parsed-processed-input.yaml -o ./output_dir/ -v\n"
     ]
    },
    {
     "name": "stderr",
     "output_type": "stream",
     "text": [
      "INFO:pytimeloop.accelergy_interface:Running Accelergy with command: accelergy /home/workspace/output_dir/parsed-processed-input.yaml -o ./output_dir/ -v\n"
     ]
    },
    {
     "name": "stdout",
     "output_type": "stream",
     "text": [
      "Adding energy and cycle stats for l8_conv3_stride2 occurence 1\n",
      "Running layer 9: l9-l15_conv3_stride1 which occurs 7 times\n",
      "[INFO] 2025-05-04 15:47:29,382 - pytimeloop.accelergy_interface - Running Accelergy with command: accelergy /home/workspace/output_dir/parsed-processed-input.yaml -o ./output_dir/ -v\n"
     ]
    },
    {
     "name": "stderr",
     "output_type": "stream",
     "text": [
      "INFO:pytimeloop.accelergy_interface:Running Accelergy with command: accelergy /home/workspace/output_dir/parsed-processed-input.yaml -o ./output_dir/ -v\n"
     ]
    },
    {
     "name": "stdout",
     "output_type": "stream",
     "text": [
      "Adding energy and cycle stats for l9-l15_conv3_stride1 occurence 1\n",
      "Adding energy and cycle stats for l9-l15_conv3_stride1 occurence 2\n",
      "Adding energy and cycle stats for l9-l15_conv3_stride1 occurence 3\n",
      "Adding energy and cycle stats for l9-l15_conv3_stride1 occurence 4\n",
      "Adding energy and cycle stats for l9-l15_conv3_stride1 occurence 5\n",
      "Adding energy and cycle stats for l9-l15_conv3_stride1 occurence 6\n",
      "Adding energy and cycle stats for l9-l15_conv3_stride1 occurence 7\n",
      "Running layer 16: l16_conv4_stride2 which occurs 1 times\n",
      "[INFO] 2025-05-04 15:50:59,616 - pytimeloop.accelergy_interface - Running Accelergy with command: accelergy /home/workspace/output_dir/parsed-processed-input.yaml -o ./output_dir/ -v\n"
     ]
    },
    {
     "name": "stderr",
     "output_type": "stream",
     "text": [
      "INFO:pytimeloop.accelergy_interface:Running Accelergy with command: accelergy /home/workspace/output_dir/parsed-processed-input.yaml -o ./output_dir/ -v\n"
     ]
    },
    {
     "name": "stdout",
     "output_type": "stream",
     "text": [
      "Adding energy and cycle stats for l16_conv4_stride2 occurence 1\n",
      "Running layer 17: l17-l27_conv4_stride1 which occurs 11 times\n",
      "[INFO] 2025-05-04 15:53:00,460 - pytimeloop.accelergy_interface - Running Accelergy with command: accelergy /home/workspace/output_dir/parsed-processed-input.yaml -o ./output_dir/ -v\n"
     ]
    },
    {
     "name": "stderr",
     "output_type": "stream",
     "text": [
      "INFO:pytimeloop.accelergy_interface:Running Accelergy with command: accelergy /home/workspace/output_dir/parsed-processed-input.yaml -o ./output_dir/ -v\n"
     ]
    },
    {
     "name": "stdout",
     "output_type": "stream",
     "text": [
      "Adding energy and cycle stats for l17-l27_conv4_stride1 occurence 1\n",
      "Adding energy and cycle stats for l17-l27_conv4_stride1 occurence 2\n",
      "Adding energy and cycle stats for l17-l27_conv4_stride1 occurence 3\n",
      "Adding energy and cycle stats for l17-l27_conv4_stride1 occurence 4\n",
      "Adding energy and cycle stats for l17-l27_conv4_stride1 occurence 5\n",
      "Adding energy and cycle stats for l17-l27_conv4_stride1 occurence 6\n",
      "Adding energy and cycle stats for l17-l27_conv4_stride1 occurence 7\n",
      "Adding energy and cycle stats for l17-l27_conv4_stride1 occurence 8\n",
      "Adding energy and cycle stats for l17-l27_conv4_stride1 occurence 9\n",
      "Adding energy and cycle stats for l17-l27_conv4_stride1 occurence 10\n",
      "Adding energy and cycle stats for l17-l27_conv4_stride1 occurence 11\n",
      "Running layer 28: l28_conv5_stride2 which occurs 1 times\n",
      "[INFO] 2025-05-04 15:55:55,772 - pytimeloop.accelergy_interface - Running Accelergy with command: accelergy /home/workspace/output_dir/parsed-processed-input.yaml -o ./output_dir/ -v\n"
     ]
    },
    {
     "name": "stderr",
     "output_type": "stream",
     "text": [
      "INFO:pytimeloop.accelergy_interface:Running Accelergy with command: accelergy /home/workspace/output_dir/parsed-processed-input.yaml -o ./output_dir/ -v\n"
     ]
    },
    {
     "name": "stdout",
     "output_type": "stream",
     "text": [
      "Adding energy and cycle stats for l28_conv5_stride2 occurence 1\n",
      "Running layer 29: l29-l33_conv5_stride1 which occurs 5 times\n",
      "[INFO] 2025-05-04 15:57:01,836 - pytimeloop.accelergy_interface - Running Accelergy with command: accelergy /home/workspace/output_dir/parsed-processed-input.yaml -o ./output_dir/ -v\n"
     ]
    },
    {
     "name": "stderr",
     "output_type": "stream",
     "text": [
      "INFO:pytimeloop.accelergy_interface:Running Accelergy with command: accelergy /home/workspace/output_dir/parsed-processed-input.yaml -o ./output_dir/ -v\n"
     ]
    },
    {
     "name": "stdout",
     "output_type": "stream",
     "text": [
      "Adding energy and cycle stats for l29-l33_conv5_stride1 occurence 1\n",
      "Adding energy and cycle stats for l29-l33_conv5_stride1 occurence 2\n",
      "Adding energy and cycle stats for l29-l33_conv5_stride1 occurence 3\n",
      "Adding energy and cycle stats for l29-l33_conv5_stride1 occurence 4\n",
      "Adding energy and cycle stats for l29-l33_conv5_stride1 occurence 5\n",
      "==================================================\n",
      "Starting Timeloop with configuration:\n",
      "  - arch: Architecture.Data_Parallel\n",
      "  - scale: GPUMemoryScale.MEMORY_1024MB\n",
      "  - rack: RackSize.RACK_8\n",
      "  - peConfig: PEsConfig.PE_1\n",
      "==================================================\n",
      "Running layer 1: l1_conv1 which occurs 1 times\n",
      "[INFO] 2025-05-04 15:58:28,795 - pytimeloop.accelergy_interface - Running Accelergy with command: accelergy /home/workspace/output_dir/parsed-processed-input.yaml -o ./output_dir/ -v\n"
     ]
    },
    {
     "name": "stderr",
     "output_type": "stream",
     "text": [
      "INFO:pytimeloop.accelergy_interface:Running Accelergy with command: accelergy /home/workspace/output_dir/parsed-processed-input.yaml -o ./output_dir/ -v\n"
     ]
    },
    {
     "name": "stdout",
     "output_type": "stream",
     "text": [
      "Adding energy and cycle stats for l1_conv1 occurence 1\n",
      "Running layer 2: l2_conv2_stride2 which occurs 1 times\n",
      "[INFO] 2025-05-04 16:00:56,334 - pytimeloop.accelergy_interface - Running Accelergy with command: accelergy /home/workspace/output_dir/parsed-processed-input.yaml -o ./output_dir/ -v\n"
     ]
    },
    {
     "name": "stderr",
     "output_type": "stream",
     "text": [
      "INFO:pytimeloop.accelergy_interface:Running Accelergy with command: accelergy /home/workspace/output_dir/parsed-processed-input.yaml -o ./output_dir/ -v\n"
     ]
    },
    {
     "name": "stdout",
     "output_type": "stream",
     "text": [
      "Adding energy and cycle stats for l2_conv2_stride2 occurence 1\n",
      "Running layer 3: l3-l7_conv2_stride1 which occurs 5 times\n",
      "[INFO] 2025-05-04 16:03:58,821 - pytimeloop.accelergy_interface - Running Accelergy with command: accelergy /home/workspace/output_dir/parsed-processed-input.yaml -o ./output_dir/ -v\n"
     ]
    },
    {
     "name": "stderr",
     "output_type": "stream",
     "text": [
      "INFO:pytimeloop.accelergy_interface:Running Accelergy with command: accelergy /home/workspace/output_dir/parsed-processed-input.yaml -o ./output_dir/ -v\n"
     ]
    },
    {
     "name": "stdout",
     "output_type": "stream",
     "text": [
      "Adding energy and cycle stats for l3-l7_conv2_stride1 occurence 1\n",
      "Adding energy and cycle stats for l3-l7_conv2_stride1 occurence 2\n",
      "Adding energy and cycle stats for l3-l7_conv2_stride1 occurence 3\n",
      "Adding energy and cycle stats for l3-l7_conv2_stride1 occurence 4\n",
      "Adding energy and cycle stats for l3-l7_conv2_stride1 occurence 5\n",
      "Running layer 8: l8_conv3_stride2 which occurs 1 times\n",
      "[INFO] 2025-05-04 16:07:02,645 - pytimeloop.accelergy_interface - Running Accelergy with command: accelergy /home/workspace/output_dir/parsed-processed-input.yaml -o ./output_dir/ -v\n"
     ]
    },
    {
     "name": "stderr",
     "output_type": "stream",
     "text": [
      "INFO:pytimeloop.accelergy_interface:Running Accelergy with command: accelergy /home/workspace/output_dir/parsed-processed-input.yaml -o ./output_dir/ -v\n"
     ]
    },
    {
     "name": "stdout",
     "output_type": "stream",
     "text": [
      "Adding energy and cycle stats for l8_conv3_stride2 occurence 1\n",
      "Running layer 9: l9-l15_conv3_stride1 which occurs 7 times\n",
      "[INFO] 2025-05-04 16:09:45,909 - pytimeloop.accelergy_interface - Running Accelergy with command: accelergy /home/workspace/output_dir/parsed-processed-input.yaml -o ./output_dir/ -v\n"
     ]
    },
    {
     "name": "stderr",
     "output_type": "stream",
     "text": [
      "INFO:pytimeloop.accelergy_interface:Running Accelergy with command: accelergy /home/workspace/output_dir/parsed-processed-input.yaml -o ./output_dir/ -v\n"
     ]
    },
    {
     "name": "stdout",
     "output_type": "stream",
     "text": [
      "Adding energy and cycle stats for l9-l15_conv3_stride1 occurence 1\n",
      "Adding energy and cycle stats for l9-l15_conv3_stride1 occurence 2\n",
      "Adding energy and cycle stats for l9-l15_conv3_stride1 occurence 3\n",
      "Adding energy and cycle stats for l9-l15_conv3_stride1 occurence 4\n",
      "Adding energy and cycle stats for l9-l15_conv3_stride1 occurence 5\n",
      "Adding energy and cycle stats for l9-l15_conv3_stride1 occurence 6\n",
      "Adding energy and cycle stats for l9-l15_conv3_stride1 occurence 7\n",
      "Running layer 16: l16_conv4_stride2 which occurs 1 times\n",
      "[INFO] 2025-05-04 16:12:31,016 - pytimeloop.accelergy_interface - Running Accelergy with command: accelergy /home/workspace/output_dir/parsed-processed-input.yaml -o ./output_dir/ -v\n"
     ]
    },
    {
     "name": "stderr",
     "output_type": "stream",
     "text": [
      "INFO:pytimeloop.accelergy_interface:Running Accelergy with command: accelergy /home/workspace/output_dir/parsed-processed-input.yaml -o ./output_dir/ -v\n"
     ]
    },
    {
     "name": "stdout",
     "output_type": "stream",
     "text": [
      "Adding energy and cycle stats for l16_conv4_stride2 occurence 1\n",
      "Running layer 17: l17-l27_conv4_stride1 which occurs 11 times\n",
      "[INFO] 2025-05-04 16:14:37,337 - pytimeloop.accelergy_interface - Running Accelergy with command: accelergy /home/workspace/output_dir/parsed-processed-input.yaml -o ./output_dir/ -v\n"
     ]
    },
    {
     "name": "stderr",
     "output_type": "stream",
     "text": [
      "INFO:pytimeloop.accelergy_interface:Running Accelergy with command: accelergy /home/workspace/output_dir/parsed-processed-input.yaml -o ./output_dir/ -v\n"
     ]
    },
    {
     "name": "stdout",
     "output_type": "stream",
     "text": [
      "Adding energy and cycle stats for l17-l27_conv4_stride1 occurence 1\n",
      "Adding energy and cycle stats for l17-l27_conv4_stride1 occurence 2\n",
      "Adding energy and cycle stats for l17-l27_conv4_stride1 occurence 3\n",
      "Adding energy and cycle stats for l17-l27_conv4_stride1 occurence 4\n",
      "Adding energy and cycle stats for l17-l27_conv4_stride1 occurence 5\n",
      "Adding energy and cycle stats for l17-l27_conv4_stride1 occurence 6\n",
      "Adding energy and cycle stats for l17-l27_conv4_stride1 occurence 7\n",
      "Adding energy and cycle stats for l17-l27_conv4_stride1 occurence 8\n",
      "Adding energy and cycle stats for l17-l27_conv4_stride1 occurence 9\n",
      "Adding energy and cycle stats for l17-l27_conv4_stride1 occurence 10\n",
      "Adding energy and cycle stats for l17-l27_conv4_stride1 occurence 11\n",
      "Running layer 28: l28_conv5_stride2 which occurs 1 times\n",
      "[INFO] 2025-05-04 16:16:23,963 - pytimeloop.accelergy_interface - Running Accelergy with command: accelergy /home/workspace/output_dir/parsed-processed-input.yaml -o ./output_dir/ -v\n"
     ]
    },
    {
     "name": "stderr",
     "output_type": "stream",
     "text": [
      "INFO:pytimeloop.accelergy_interface:Running Accelergy with command: accelergy /home/workspace/output_dir/parsed-processed-input.yaml -o ./output_dir/ -v\n"
     ]
    },
    {
     "name": "stdout",
     "output_type": "stream",
     "text": [
      "Adding energy and cycle stats for l28_conv5_stride2 occurence 1\n",
      "Running layer 29: l29-l33_conv5_stride1 which occurs 5 times\n",
      "[INFO] 2025-05-04 16:17:19,304 - pytimeloop.accelergy_interface - Running Accelergy with command: accelergy /home/workspace/output_dir/parsed-processed-input.yaml -o ./output_dir/ -v\n"
     ]
    },
    {
     "name": "stderr",
     "output_type": "stream",
     "text": [
      "INFO:pytimeloop.accelergy_interface:Running Accelergy with command: accelergy /home/workspace/output_dir/parsed-processed-input.yaml -o ./output_dir/ -v\n"
     ]
    },
    {
     "name": "stdout",
     "output_type": "stream",
     "text": [
      "Adding energy and cycle stats for l29-l33_conv5_stride1 occurence 1\n",
      "Adding energy and cycle stats for l29-l33_conv5_stride1 occurence 2\n",
      "Adding energy and cycle stats for l29-l33_conv5_stride1 occurence 3\n",
      "Adding energy and cycle stats for l29-l33_conv5_stride1 occurence 4\n",
      "Adding energy and cycle stats for l29-l33_conv5_stride1 occurence 5\n",
      "==================================================\n",
      "Starting Timeloop with configuration:\n",
      "  - arch: Architecture.Data_Parallel\n",
      "  - scale: GPUMemoryScale.MEMORY_1024MB\n",
      "  - rack: RackSize.RACK_8\n",
      "  - peConfig: PEsConfig.PE_4\n",
      "==================================================\n",
      "Running layer 1: l1_conv1 which occurs 1 times\n",
      "[INFO] 2025-05-04 16:18:19,868 - pytimeloop.accelergy_interface - Running Accelergy with command: accelergy /home/workspace/output_dir/parsed-processed-input.yaml -o ./output_dir/ -v\n"
     ]
    },
    {
     "name": "stderr",
     "output_type": "stream",
     "text": [
      "INFO:pytimeloop.accelergy_interface:Running Accelergy with command: accelergy /home/workspace/output_dir/parsed-processed-input.yaml -o ./output_dir/ -v\n"
     ]
    },
    {
     "name": "stdout",
     "output_type": "stream",
     "text": [
      "Adding energy and cycle stats for l1_conv1 occurence 1\n",
      "Running layer 2: l2_conv2_stride2 which occurs 1 times\n",
      "[INFO] 2025-05-04 16:20:09,983 - pytimeloop.accelergy_interface - Running Accelergy with command: accelergy /home/workspace/output_dir/parsed-processed-input.yaml -o ./output_dir/ -v\n"
     ]
    },
    {
     "name": "stderr",
     "output_type": "stream",
     "text": [
      "INFO:pytimeloop.accelergy_interface:Running Accelergy with command: accelergy /home/workspace/output_dir/parsed-processed-input.yaml -o ./output_dir/ -v\n"
     ]
    },
    {
     "name": "stdout",
     "output_type": "stream",
     "text": [
      "Adding energy and cycle stats for l2_conv2_stride2 occurence 1\n",
      "Running layer 3: l3-l7_conv2_stride1 which occurs 5 times\n",
      "[INFO] 2025-05-04 16:23:07,269 - pytimeloop.accelergy_interface - Running Accelergy with command: accelergy /home/workspace/output_dir/parsed-processed-input.yaml -o ./output_dir/ -v\n"
     ]
    },
    {
     "name": "stderr",
     "output_type": "stream",
     "text": [
      "INFO:pytimeloop.accelergy_interface:Running Accelergy with command: accelergy /home/workspace/output_dir/parsed-processed-input.yaml -o ./output_dir/ -v\n"
     ]
    },
    {
     "name": "stdout",
     "output_type": "stream",
     "text": [
      "Adding energy and cycle stats for l3-l7_conv2_stride1 occurence 1\n",
      "Adding energy and cycle stats for l3-l7_conv2_stride1 occurence 2\n",
      "Adding energy and cycle stats for l3-l7_conv2_stride1 occurence 3\n",
      "Adding energy and cycle stats for l3-l7_conv2_stride1 occurence 4\n",
      "Adding energy and cycle stats for l3-l7_conv2_stride1 occurence 5\n",
      "Running layer 8: l8_conv3_stride2 which occurs 1 times\n",
      "[INFO] 2025-05-04 16:26:02,420 - pytimeloop.accelergy_interface - Running Accelergy with command: accelergy /home/workspace/output_dir/parsed-processed-input.yaml -o ./output_dir/ -v\n"
     ]
    },
    {
     "name": "stderr",
     "output_type": "stream",
     "text": [
      "INFO:pytimeloop.accelergy_interface:Running Accelergy with command: accelergy /home/workspace/output_dir/parsed-processed-input.yaml -o ./output_dir/ -v\n"
     ]
    },
    {
     "name": "stdout",
     "output_type": "stream",
     "text": [
      "Adding energy and cycle stats for l8_conv3_stride2 occurence 1\n",
      "Running layer 9: l9-l15_conv3_stride1 which occurs 7 times\n",
      "[INFO] 2025-05-04 16:28:42,578 - pytimeloop.accelergy_interface - Running Accelergy with command: accelergy /home/workspace/output_dir/parsed-processed-input.yaml -o ./output_dir/ -v\n"
     ]
    },
    {
     "name": "stderr",
     "output_type": "stream",
     "text": [
      "INFO:pytimeloop.accelergy_interface:Running Accelergy with command: accelergy /home/workspace/output_dir/parsed-processed-input.yaml -o ./output_dir/ -v\n"
     ]
    },
    {
     "name": "stdout",
     "output_type": "stream",
     "text": [
      "Adding energy and cycle stats for l9-l15_conv3_stride1 occurence 1\n",
      "Adding energy and cycle stats for l9-l15_conv3_stride1 occurence 2\n",
      "Adding energy and cycle stats for l9-l15_conv3_stride1 occurence 3\n",
      "Adding energy and cycle stats for l9-l15_conv3_stride1 occurence 4\n",
      "Adding energy and cycle stats for l9-l15_conv3_stride1 occurence 5\n",
      "Adding energy and cycle stats for l9-l15_conv3_stride1 occurence 6\n",
      "Adding energy and cycle stats for l9-l15_conv3_stride1 occurence 7\n",
      "Running layer 16: l16_conv4_stride2 which occurs 1 times\n",
      "[INFO] 2025-05-04 16:31:29,573 - pytimeloop.accelergy_interface - Running Accelergy with command: accelergy /home/workspace/output_dir/parsed-processed-input.yaml -o ./output_dir/ -v\n"
     ]
    },
    {
     "name": "stderr",
     "output_type": "stream",
     "text": [
      "INFO:pytimeloop.accelergy_interface:Running Accelergy with command: accelergy /home/workspace/output_dir/parsed-processed-input.yaml -o ./output_dir/ -v\n"
     ]
    },
    {
     "name": "stdout",
     "output_type": "stream",
     "text": [
      "Adding energy and cycle stats for l16_conv4_stride2 occurence 1\n",
      "Running layer 17: l17-l27_conv4_stride1 which occurs 11 times\n",
      "[INFO] 2025-05-04 16:33:32,444 - pytimeloop.accelergy_interface - Running Accelergy with command: accelergy /home/workspace/output_dir/parsed-processed-input.yaml -o ./output_dir/ -v\n"
     ]
    },
    {
     "name": "stderr",
     "output_type": "stream",
     "text": [
      "INFO:pytimeloop.accelergy_interface:Running Accelergy with command: accelergy /home/workspace/output_dir/parsed-processed-input.yaml -o ./output_dir/ -v\n"
     ]
    },
    {
     "name": "stdout",
     "output_type": "stream",
     "text": [
      "Adding energy and cycle stats for l17-l27_conv4_stride1 occurence 1\n",
      "Adding energy and cycle stats for l17-l27_conv4_stride1 occurence 2\n",
      "Adding energy and cycle stats for l17-l27_conv4_stride1 occurence 3\n",
      "Adding energy and cycle stats for l17-l27_conv4_stride1 occurence 4\n",
      "Adding energy and cycle stats for l17-l27_conv4_stride1 occurence 5\n",
      "Adding energy and cycle stats for l17-l27_conv4_stride1 occurence 6\n",
      "Adding energy and cycle stats for l17-l27_conv4_stride1 occurence 7\n",
      "Adding energy and cycle stats for l17-l27_conv4_stride1 occurence 8\n",
      "Adding energy and cycle stats for l17-l27_conv4_stride1 occurence 9\n",
      "Adding energy and cycle stats for l17-l27_conv4_stride1 occurence 10\n",
      "Adding energy and cycle stats for l17-l27_conv4_stride1 occurence 11\n",
      "Running layer 28: l28_conv5_stride2 which occurs 1 times\n",
      "[INFO] 2025-05-04 16:35:50,113 - pytimeloop.accelergy_interface - Running Accelergy with command: accelergy /home/workspace/output_dir/parsed-processed-input.yaml -o ./output_dir/ -v\n"
     ]
    },
    {
     "name": "stderr",
     "output_type": "stream",
     "text": [
      "INFO:pytimeloop.accelergy_interface:Running Accelergy with command: accelergy /home/workspace/output_dir/parsed-processed-input.yaml -o ./output_dir/ -v\n"
     ]
    },
    {
     "name": "stdout",
     "output_type": "stream",
     "text": [
      "Adding energy and cycle stats for l28_conv5_stride2 occurence 1\n",
      "Running layer 29: l29-l33_conv5_stride1 which occurs 5 times\n",
      "[INFO] 2025-05-04 16:37:04,697 - pytimeloop.accelergy_interface - Running Accelergy with command: accelergy /home/workspace/output_dir/parsed-processed-input.yaml -o ./output_dir/ -v\n"
     ]
    },
    {
     "name": "stderr",
     "output_type": "stream",
     "text": [
      "INFO:pytimeloop.accelergy_interface:Running Accelergy with command: accelergy /home/workspace/output_dir/parsed-processed-input.yaml -o ./output_dir/ -v\n"
     ]
    },
    {
     "name": "stdout",
     "output_type": "stream",
     "text": [
      "Adding energy and cycle stats for l29-l33_conv5_stride1 occurence 1\n",
      "Adding energy and cycle stats for l29-l33_conv5_stride1 occurence 2\n",
      "Adding energy and cycle stats for l29-l33_conv5_stride1 occurence 3\n",
      "Adding energy and cycle stats for l29-l33_conv5_stride1 occurence 4\n",
      "Adding energy and cycle stats for l29-l33_conv5_stride1 occurence 5\n",
      "==================================================\n",
      "Starting Timeloop with configuration:\n",
      "  - arch: Architecture.Data_Parallel\n",
      "  - scale: GPUMemoryScale.MEMORY_1024MB\n",
      "  - rack: RackSize.RACK_8\n",
      "  - peConfig: PEsConfig.PE_16\n",
      "==================================================\n",
      "Running layer 1: l1_conv1 which occurs 1 times\n",
      "[INFO] 2025-05-04 16:38:18,945 - pytimeloop.accelergy_interface - Running Accelergy with command: accelergy /home/workspace/output_dir/parsed-processed-input.yaml -o ./output_dir/ -v\n"
     ]
    },
    {
     "name": "stderr",
     "output_type": "stream",
     "text": [
      "INFO:pytimeloop.accelergy_interface:Running Accelergy with command: accelergy /home/workspace/output_dir/parsed-processed-input.yaml -o ./output_dir/ -v\n"
     ]
    },
    {
     "name": "stdout",
     "output_type": "stream",
     "text": [
      "Adding energy and cycle stats for l1_conv1 occurence 1\n",
      "Running layer 2: l2_conv2_stride2 which occurs 1 times\n",
      "[INFO] 2025-05-04 16:40:14,830 - pytimeloop.accelergy_interface - Running Accelergy with command: accelergy /home/workspace/output_dir/parsed-processed-input.yaml -o ./output_dir/ -v\n"
     ]
    },
    {
     "name": "stderr",
     "output_type": "stream",
     "text": [
      "INFO:pytimeloop.accelergy_interface:Running Accelergy with command: accelergy /home/workspace/output_dir/parsed-processed-input.yaml -o ./output_dir/ -v\n"
     ]
    },
    {
     "name": "stdout",
     "output_type": "stream",
     "text": [
      "Adding energy and cycle stats for l2_conv2_stride2 occurence 1\n",
      "Running layer 3: l3-l7_conv2_stride1 which occurs 5 times\n",
      "[INFO] 2025-05-04 16:43:14,349 - pytimeloop.accelergy_interface - Running Accelergy with command: accelergy /home/workspace/output_dir/parsed-processed-input.yaml -o ./output_dir/ -v\n"
     ]
    },
    {
     "name": "stderr",
     "output_type": "stream",
     "text": [
      "INFO:pytimeloop.accelergy_interface:Running Accelergy with command: accelergy /home/workspace/output_dir/parsed-processed-input.yaml -o ./output_dir/ -v\n"
     ]
    },
    {
     "name": "stdout",
     "output_type": "stream",
     "text": [
      "Adding energy and cycle stats for l3-l7_conv2_stride1 occurence 1\n",
      "Adding energy and cycle stats for l3-l7_conv2_stride1 occurence 2\n",
      "Adding energy and cycle stats for l3-l7_conv2_stride1 occurence 3\n",
      "Adding energy and cycle stats for l3-l7_conv2_stride1 occurence 4\n",
      "Adding energy and cycle stats for l3-l7_conv2_stride1 occurence 5\n",
      "Running layer 8: l8_conv3_stride2 which occurs 1 times\n",
      "[INFO] 2025-05-04 16:46:13,913 - pytimeloop.accelergy_interface - Running Accelergy with command: accelergy /home/workspace/output_dir/parsed-processed-input.yaml -o ./output_dir/ -v\n"
     ]
    },
    {
     "name": "stderr",
     "output_type": "stream",
     "text": [
      "INFO:pytimeloop.accelergy_interface:Running Accelergy with command: accelergy /home/workspace/output_dir/parsed-processed-input.yaml -o ./output_dir/ -v\n"
     ]
    },
    {
     "name": "stdout",
     "output_type": "stream",
     "text": [
      "Adding energy and cycle stats for l8_conv3_stride2 occurence 1\n",
      "Running layer 9: l9-l15_conv3_stride1 which occurs 7 times\n",
      "[INFO] 2025-05-04 16:48:43,992 - pytimeloop.accelergy_interface - Running Accelergy with command: accelergy /home/workspace/output_dir/parsed-processed-input.yaml -o ./output_dir/ -v\n"
     ]
    },
    {
     "name": "stderr",
     "output_type": "stream",
     "text": [
      "INFO:pytimeloop.accelergy_interface:Running Accelergy with command: accelergy /home/workspace/output_dir/parsed-processed-input.yaml -o ./output_dir/ -v\n"
     ]
    },
    {
     "name": "stdout",
     "output_type": "stream",
     "text": [
      "Adding energy and cycle stats for l9-l15_conv3_stride1 occurence 1\n",
      "Adding energy and cycle stats for l9-l15_conv3_stride1 occurence 2\n",
      "Adding energy and cycle stats for l9-l15_conv3_stride1 occurence 3\n",
      "Adding energy and cycle stats for l9-l15_conv3_stride1 occurence 4\n",
      "Adding energy and cycle stats for l9-l15_conv3_stride1 occurence 5\n",
      "Adding energy and cycle stats for l9-l15_conv3_stride1 occurence 6\n",
      "Adding energy and cycle stats for l9-l15_conv3_stride1 occurence 7\n",
      "Running layer 16: l16_conv4_stride2 which occurs 1 times\n",
      "[INFO] 2025-05-04 16:52:14,962 - pytimeloop.accelergy_interface - Running Accelergy with command: accelergy /home/workspace/output_dir/parsed-processed-input.yaml -o ./output_dir/ -v\n"
     ]
    },
    {
     "name": "stderr",
     "output_type": "stream",
     "text": [
      "INFO:pytimeloop.accelergy_interface:Running Accelergy with command: accelergy /home/workspace/output_dir/parsed-processed-input.yaml -o ./output_dir/ -v\n"
     ]
    },
    {
     "name": "stdout",
     "output_type": "stream",
     "text": [
      "Adding energy and cycle stats for l16_conv4_stride2 occurence 1\n",
      "Running layer 17: l17-l27_conv4_stride1 which occurs 11 times\n",
      "[INFO] 2025-05-04 16:54:19,774 - pytimeloop.accelergy_interface - Running Accelergy with command: accelergy /home/workspace/output_dir/parsed-processed-input.yaml -o ./output_dir/ -v\n"
     ]
    },
    {
     "name": "stderr",
     "output_type": "stream",
     "text": [
      "INFO:pytimeloop.accelergy_interface:Running Accelergy with command: accelergy /home/workspace/output_dir/parsed-processed-input.yaml -o ./output_dir/ -v\n"
     ]
    },
    {
     "name": "stdout",
     "output_type": "stream",
     "text": [
      "Adding energy and cycle stats for l17-l27_conv4_stride1 occurence 1\n",
      "Adding energy and cycle stats for l17-l27_conv4_stride1 occurence 2\n",
      "Adding energy and cycle stats for l17-l27_conv4_stride1 occurence 3\n",
      "Adding energy and cycle stats for l17-l27_conv4_stride1 occurence 4\n",
      "Adding energy and cycle stats for l17-l27_conv4_stride1 occurence 5\n",
      "Adding energy and cycle stats for l17-l27_conv4_stride1 occurence 6\n",
      "Adding energy and cycle stats for l17-l27_conv4_stride1 occurence 7\n",
      "Adding energy and cycle stats for l17-l27_conv4_stride1 occurence 8\n",
      "Adding energy and cycle stats for l17-l27_conv4_stride1 occurence 9\n",
      "Adding energy and cycle stats for l17-l27_conv4_stride1 occurence 10\n",
      "Adding energy and cycle stats for l17-l27_conv4_stride1 occurence 11\n",
      "Running layer 28: l28_conv5_stride2 which occurs 1 times\n",
      "[INFO] 2025-05-04 16:57:15,889 - pytimeloop.accelergy_interface - Running Accelergy with command: accelergy /home/workspace/output_dir/parsed-processed-input.yaml -o ./output_dir/ -v\n"
     ]
    },
    {
     "name": "stderr",
     "output_type": "stream",
     "text": [
      "INFO:pytimeloop.accelergy_interface:Running Accelergy with command: accelergy /home/workspace/output_dir/parsed-processed-input.yaml -o ./output_dir/ -v\n"
     ]
    },
    {
     "name": "stdout",
     "output_type": "stream",
     "text": [
      "Adding energy and cycle stats for l28_conv5_stride2 occurence 1\n",
      "Running layer 29: l29-l33_conv5_stride1 which occurs 5 times\n",
      "[INFO] 2025-05-04 16:58:20,305 - pytimeloop.accelergy_interface - Running Accelergy with command: accelergy /home/workspace/output_dir/parsed-processed-input.yaml -o ./output_dir/ -v\n"
     ]
    },
    {
     "name": "stderr",
     "output_type": "stream",
     "text": [
      "INFO:pytimeloop.accelergy_interface:Running Accelergy with command: accelergy /home/workspace/output_dir/parsed-processed-input.yaml -o ./output_dir/ -v\n"
     ]
    },
    {
     "name": "stdout",
     "output_type": "stream",
     "text": [
      "Adding energy and cycle stats for l29-l33_conv5_stride1 occurence 1\n",
      "Adding energy and cycle stats for l29-l33_conv5_stride1 occurence 2\n",
      "Adding energy and cycle stats for l29-l33_conv5_stride1 occurence 3\n",
      "Adding energy and cycle stats for l29-l33_conv5_stride1 occurence 4\n",
      "Adding energy and cycle stats for l29-l33_conv5_stride1 occurence 5\n",
      "==================================================\n",
      "Starting Timeloop with configuration:\n",
      "  - arch: Architecture.Data_Parallel\n",
      "  - scale: GPUMemoryScale.MEMORY_4MB\n",
      "  - rack: RackSize.RACK_16\n",
      "  - peConfig: PEsConfig.PE_1\n",
      "==================================================\n",
      "Running layer 1: l1_conv1 which occurs 1 times\n",
      "[INFO] 2025-05-04 16:59:46,282 - pytimeloop.accelergy_interface - Running Accelergy with command: accelergy /home/workspace/output_dir/parsed-processed-input.yaml -o ./output_dir/ -v\n"
     ]
    },
    {
     "name": "stderr",
     "output_type": "stream",
     "text": [
      "INFO:pytimeloop.accelergy_interface:Running Accelergy with command: accelergy /home/workspace/output_dir/parsed-processed-input.yaml -o ./output_dir/ -v\n"
     ]
    },
    {
     "name": "stdout",
     "output_type": "stream",
     "text": [
      "Adding energy and cycle stats for l1_conv1 occurence 1\n",
      "Running layer 2: l2_conv2_stride2 which occurs 1 times\n",
      "[INFO] 2025-05-04 17:01:09,646 - pytimeloop.accelergy_interface - Running Accelergy with command: accelergy /home/workspace/output_dir/parsed-processed-input.yaml -o ./output_dir/ -v\n"
     ]
    },
    {
     "name": "stderr",
     "output_type": "stream",
     "text": [
      "INFO:pytimeloop.accelergy_interface:Running Accelergy with command: accelergy /home/workspace/output_dir/parsed-processed-input.yaml -o ./output_dir/ -v\n"
     ]
    },
    {
     "name": "stdout",
     "output_type": "stream",
     "text": [
      "Adding energy and cycle stats for l2_conv2_stride2 occurence 1\n",
      "Running layer 3: l3-l7_conv2_stride1 which occurs 5 times\n",
      "[INFO] 2025-05-04 17:03:30,676 - pytimeloop.accelergy_interface - Running Accelergy with command: accelergy /home/workspace/output_dir/parsed-processed-input.yaml -o ./output_dir/ -v\n"
     ]
    },
    {
     "name": "stderr",
     "output_type": "stream",
     "text": [
      "INFO:pytimeloop.accelergy_interface:Running Accelergy with command: accelergy /home/workspace/output_dir/parsed-processed-input.yaml -o ./output_dir/ -v\n"
     ]
    },
    {
     "name": "stdout",
     "output_type": "stream",
     "text": [
      "Adding energy and cycle stats for l3-l7_conv2_stride1 occurence 1\n",
      "Adding energy and cycle stats for l3-l7_conv2_stride1 occurence 2\n",
      "Adding energy and cycle stats for l3-l7_conv2_stride1 occurence 3\n",
      "Adding energy and cycle stats for l3-l7_conv2_stride1 occurence 4\n",
      "Adding energy and cycle stats for l3-l7_conv2_stride1 occurence 5\n",
      "Running layer 8: l8_conv3_stride2 which occurs 1 times\n",
      "[INFO] 2025-05-04 17:05:50,875 - pytimeloop.accelergy_interface - Running Accelergy with command: accelergy /home/workspace/output_dir/parsed-processed-input.yaml -o ./output_dir/ -v\n"
     ]
    },
    {
     "name": "stderr",
     "output_type": "stream",
     "text": [
      "INFO:pytimeloop.accelergy_interface:Running Accelergy with command: accelergy /home/workspace/output_dir/parsed-processed-input.yaml -o ./output_dir/ -v\n"
     ]
    },
    {
     "name": "stdout",
     "output_type": "stream",
     "text": [
      "Adding energy and cycle stats for l8_conv3_stride2 occurence 1\n",
      "Running layer 9: l9-l15_conv3_stride1 which occurs 7 times\n",
      "[INFO] 2025-05-04 17:07:46,691 - pytimeloop.accelergy_interface - Running Accelergy with command: accelergy /home/workspace/output_dir/parsed-processed-input.yaml -o ./output_dir/ -v\n"
     ]
    },
    {
     "name": "stderr",
     "output_type": "stream",
     "text": [
      "INFO:pytimeloop.accelergy_interface:Running Accelergy with command: accelergy /home/workspace/output_dir/parsed-processed-input.yaml -o ./output_dir/ -v\n"
     ]
    },
    {
     "name": "stdout",
     "output_type": "stream",
     "text": [
      "Adding energy and cycle stats for l9-l15_conv3_stride1 occurence 1\n",
      "Adding energy and cycle stats for l9-l15_conv3_stride1 occurence 2\n",
      "Adding energy and cycle stats for l9-l15_conv3_stride1 occurence 3\n",
      "Adding energy and cycle stats for l9-l15_conv3_stride1 occurence 4\n",
      "Adding energy and cycle stats for l9-l15_conv3_stride1 occurence 5\n",
      "Adding energy and cycle stats for l9-l15_conv3_stride1 occurence 6\n",
      "Adding energy and cycle stats for l9-l15_conv3_stride1 occurence 7\n",
      "Running layer 16: l16_conv4_stride2 which occurs 1 times\n",
      "[INFO] 2025-05-04 17:09:58,384 - pytimeloop.accelergy_interface - Running Accelergy with command: accelergy /home/workspace/output_dir/parsed-processed-input.yaml -o ./output_dir/ -v\n"
     ]
    },
    {
     "name": "stderr",
     "output_type": "stream",
     "text": [
      "INFO:pytimeloop.accelergy_interface:Running Accelergy with command: accelergy /home/workspace/output_dir/parsed-processed-input.yaml -o ./output_dir/ -v\n"
     ]
    },
    {
     "name": "stdout",
     "output_type": "stream",
     "text": [
      "Adding energy and cycle stats for l16_conv4_stride2 occurence 1\n",
      "Running layer 17: l17-l27_conv4_stride1 which occurs 11 times\n",
      "[INFO] 2025-05-04 17:11:50,197 - pytimeloop.accelergy_interface - Running Accelergy with command: accelergy /home/workspace/output_dir/parsed-processed-input.yaml -o ./output_dir/ -v\n"
     ]
    },
    {
     "name": "stderr",
     "output_type": "stream",
     "text": [
      "INFO:pytimeloop.accelergy_interface:Running Accelergy with command: accelergy /home/workspace/output_dir/parsed-processed-input.yaml -o ./output_dir/ -v\n"
     ]
    },
    {
     "name": "stdout",
     "output_type": "stream",
     "text": [
      "Adding energy and cycle stats for l17-l27_conv4_stride1 occurence 1\n",
      "Adding energy and cycle stats for l17-l27_conv4_stride1 occurence 2\n",
      "Adding energy and cycle stats for l17-l27_conv4_stride1 occurence 3\n",
      "Adding energy and cycle stats for l17-l27_conv4_stride1 occurence 4\n",
      "Adding energy and cycle stats for l17-l27_conv4_stride1 occurence 5\n",
      "Adding energy and cycle stats for l17-l27_conv4_stride1 occurence 6\n",
      "Adding energy and cycle stats for l17-l27_conv4_stride1 occurence 7\n",
      "Adding energy and cycle stats for l17-l27_conv4_stride1 occurence 8\n",
      "Adding energy and cycle stats for l17-l27_conv4_stride1 occurence 9\n",
      "Adding energy and cycle stats for l17-l27_conv4_stride1 occurence 10\n",
      "Adding energy and cycle stats for l17-l27_conv4_stride1 occurence 11\n",
      "Running layer 28: l28_conv5_stride2 which occurs 1 times\n",
      "[INFO] 2025-05-04 17:13:37,429 - pytimeloop.accelergy_interface - Running Accelergy with command: accelergy /home/workspace/output_dir/parsed-processed-input.yaml -o ./output_dir/ -v\n"
     ]
    },
    {
     "name": "stderr",
     "output_type": "stream",
     "text": [
      "INFO:pytimeloop.accelergy_interface:Running Accelergy with command: accelergy /home/workspace/output_dir/parsed-processed-input.yaml -o ./output_dir/ -v\n"
     ]
    },
    {
     "name": "stdout",
     "output_type": "stream",
     "text": [
      "Adding energy and cycle stats for l28_conv5_stride2 occurence 1\n",
      "Running layer 29: l29-l33_conv5_stride1 which occurs 5 times\n",
      "[INFO] 2025-05-04 17:14:38,176 - pytimeloop.accelergy_interface - Running Accelergy with command: accelergy /home/workspace/output_dir/parsed-processed-input.yaml -o ./output_dir/ -v\n"
     ]
    },
    {
     "name": "stderr",
     "output_type": "stream",
     "text": [
      "INFO:pytimeloop.accelergy_interface:Running Accelergy with command: accelergy /home/workspace/output_dir/parsed-processed-input.yaml -o ./output_dir/ -v\n"
     ]
    },
    {
     "name": "stdout",
     "output_type": "stream",
     "text": [
      "Error running layer l29-l33_conv5_stride1: \n",
      "\n",
      "========================================================================================================================\n",
      "Timeloop mapper failed with return code 0. Please check the output files in ./output_dir for more information. To debug, you can edit the file:\n",
      "\t./output_dir/parsed-processed-input.yaml\n",
      "and run \n",
      "\ttl mapper ./output_dir/parsed-processed-input.yaml\n",
      "to see the error. If you're running the mapper and Timeloop can't find a vaild mapping, try setting 'diagnostics: true' in the mapper input specification.\n",
      "==================================================\n",
      "Starting Timeloop with configuration:\n",
      "  - arch: Architecture.Data_Parallel\n",
      "  - scale: GPUMemoryScale.MEMORY_4MB\n",
      "  - rack: RackSize.RACK_16\n",
      "  - peConfig: PEsConfig.PE_4\n",
      "==================================================\n",
      "Running layer 1: l1_conv1 which occurs 1 times\n",
      "[INFO] 2025-05-04 17:14:51,709 - pytimeloop.accelergy_interface - Running Accelergy with command: accelergy /home/workspace/output_dir/parsed-processed-input.yaml -o ./output_dir/ -v\n"
     ]
    },
    {
     "name": "stderr",
     "output_type": "stream",
     "text": [
      "INFO:pytimeloop.accelergy_interface:Running Accelergy with command: accelergy /home/workspace/output_dir/parsed-processed-input.yaml -o ./output_dir/ -v\n"
     ]
    },
    {
     "name": "stdout",
     "output_type": "stream",
     "text": [
      "Adding energy and cycle stats for l1_conv1 occurence 1\n",
      "Running layer 2: l2_conv2_stride2 which occurs 1 times\n",
      "[INFO] 2025-05-04 17:16:21,540 - pytimeloop.accelergy_interface - Running Accelergy with command: accelergy /home/workspace/output_dir/parsed-processed-input.yaml -o ./output_dir/ -v\n"
     ]
    },
    {
     "name": "stderr",
     "output_type": "stream",
     "text": [
      "INFO:pytimeloop.accelergy_interface:Running Accelergy with command: accelergy /home/workspace/output_dir/parsed-processed-input.yaml -o ./output_dir/ -v\n"
     ]
    },
    {
     "name": "stdout",
     "output_type": "stream",
     "text": [
      "Adding energy and cycle stats for l2_conv2_stride2 occurence 1\n",
      "Running layer 3: l3-l7_conv2_stride1 which occurs 5 times\n",
      "[INFO] 2025-05-04 17:18:55,942 - pytimeloop.accelergy_interface - Running Accelergy with command: accelergy /home/workspace/output_dir/parsed-processed-input.yaml -o ./output_dir/ -v\n"
     ]
    },
    {
     "name": "stderr",
     "output_type": "stream",
     "text": [
      "INFO:pytimeloop.accelergy_interface:Running Accelergy with command: accelergy /home/workspace/output_dir/parsed-processed-input.yaml -o ./output_dir/ -v\n"
     ]
    },
    {
     "name": "stdout",
     "output_type": "stream",
     "text": [
      "Adding energy and cycle stats for l3-l7_conv2_stride1 occurence 1\n",
      "Adding energy and cycle stats for l3-l7_conv2_stride1 occurence 2\n",
      "Adding energy and cycle stats for l3-l7_conv2_stride1 occurence 3\n",
      "Adding energy and cycle stats for l3-l7_conv2_stride1 occurence 4\n",
      "Adding energy and cycle stats for l3-l7_conv2_stride1 occurence 5\n",
      "Running layer 8: l8_conv3_stride2 which occurs 1 times\n",
      "[INFO] 2025-05-04 17:21:28,941 - pytimeloop.accelergy_interface - Running Accelergy with command: accelergy /home/workspace/output_dir/parsed-processed-input.yaml -o ./output_dir/ -v\n"
     ]
    },
    {
     "name": "stderr",
     "output_type": "stream",
     "text": [
      "INFO:pytimeloop.accelergy_interface:Running Accelergy with command: accelergy /home/workspace/output_dir/parsed-processed-input.yaml -o ./output_dir/ -v\n"
     ]
    },
    {
     "name": "stdout",
     "output_type": "stream",
     "text": [
      "Adding energy and cycle stats for l8_conv3_stride2 occurence 1\n",
      "Running layer 9: l9-l15_conv3_stride1 which occurs 7 times\n",
      "[INFO] 2025-05-04 17:24:08,363 - pytimeloop.accelergy_interface - Running Accelergy with command: accelergy /home/workspace/output_dir/parsed-processed-input.yaml -o ./output_dir/ -v\n"
     ]
    },
    {
     "name": "stderr",
     "output_type": "stream",
     "text": [
      "INFO:pytimeloop.accelergy_interface:Running Accelergy with command: accelergy /home/workspace/output_dir/parsed-processed-input.yaml -o ./output_dir/ -v\n"
     ]
    },
    {
     "name": "stdout",
     "output_type": "stream",
     "text": [
      "Adding energy and cycle stats for l9-l15_conv3_stride1 occurence 1\n",
      "Adding energy and cycle stats for l9-l15_conv3_stride1 occurence 2\n",
      "Adding energy and cycle stats for l9-l15_conv3_stride1 occurence 3\n",
      "Adding energy and cycle stats for l9-l15_conv3_stride1 occurence 4\n",
      "Adding energy and cycle stats for l9-l15_conv3_stride1 occurence 5\n",
      "Adding energy and cycle stats for l9-l15_conv3_stride1 occurence 6\n",
      "Adding energy and cycle stats for l9-l15_conv3_stride1 occurence 7\n",
      "Running layer 16: l16_conv4_stride2 which occurs 1 times\n",
      "[INFO] 2025-05-04 17:27:23,297 - pytimeloop.accelergy_interface - Running Accelergy with command: accelergy /home/workspace/output_dir/parsed-processed-input.yaml -o ./output_dir/ -v\n"
     ]
    },
    {
     "name": "stderr",
     "output_type": "stream",
     "text": [
      "INFO:pytimeloop.accelergy_interface:Running Accelergy with command: accelergy /home/workspace/output_dir/parsed-processed-input.yaml -o ./output_dir/ -v\n"
     ]
    },
    {
     "name": "stdout",
     "output_type": "stream",
     "text": [
      "Adding energy and cycle stats for l16_conv4_stride2 occurence 1\n",
      "Running layer 17: l17-l27_conv4_stride1 which occurs 11 times\n",
      "[INFO] 2025-05-04 17:29:39,922 - pytimeloop.accelergy_interface - Running Accelergy with command: accelergy /home/workspace/output_dir/parsed-processed-input.yaml -o ./output_dir/ -v\n"
     ]
    },
    {
     "name": "stderr",
     "output_type": "stream",
     "text": [
      "INFO:pytimeloop.accelergy_interface:Running Accelergy with command: accelergy /home/workspace/output_dir/parsed-processed-input.yaml -o ./output_dir/ -v\n"
     ]
    },
    {
     "name": "stdout",
     "output_type": "stream",
     "text": [
      "Adding energy and cycle stats for l17-l27_conv4_stride1 occurence 1\n",
      "Adding energy and cycle stats for l17-l27_conv4_stride1 occurence 2\n",
      "Adding energy and cycle stats for l17-l27_conv4_stride1 occurence 3\n",
      "Adding energy and cycle stats for l17-l27_conv4_stride1 occurence 4\n",
      "Adding energy and cycle stats for l17-l27_conv4_stride1 occurence 5\n",
      "Adding energy and cycle stats for l17-l27_conv4_stride1 occurence 6\n",
      "Adding energy and cycle stats for l17-l27_conv4_stride1 occurence 7\n",
      "Adding energy and cycle stats for l17-l27_conv4_stride1 occurence 8\n",
      "Adding energy and cycle stats for l17-l27_conv4_stride1 occurence 9\n",
      "Adding energy and cycle stats for l17-l27_conv4_stride1 occurence 10\n",
      "Adding energy and cycle stats for l17-l27_conv4_stride1 occurence 11\n",
      "Running layer 28: l28_conv5_stride2 which occurs 1 times\n",
      "[INFO] 2025-05-04 17:31:53,812 - pytimeloop.accelergy_interface - Running Accelergy with command: accelergy /home/workspace/output_dir/parsed-processed-input.yaml -o ./output_dir/ -v\n"
     ]
    },
    {
     "name": "stderr",
     "output_type": "stream",
     "text": [
      "INFO:pytimeloop.accelergy_interface:Running Accelergy with command: accelergy /home/workspace/output_dir/parsed-processed-input.yaml -o ./output_dir/ -v\n"
     ]
    },
    {
     "name": "stdout",
     "output_type": "stream",
     "text": [
      "Adding energy and cycle stats for l28_conv5_stride2 occurence 1\n",
      "Running layer 29: l29-l33_conv5_stride1 which occurs 5 times\n",
      "[INFO] 2025-05-04 17:33:03,550 - pytimeloop.accelergy_interface - Running Accelergy with command: accelergy /home/workspace/output_dir/parsed-processed-input.yaml -o ./output_dir/ -v\n"
     ]
    },
    {
     "name": "stderr",
     "output_type": "stream",
     "text": [
      "INFO:pytimeloop.accelergy_interface:Running Accelergy with command: accelergy /home/workspace/output_dir/parsed-processed-input.yaml -o ./output_dir/ -v\n"
     ]
    },
    {
     "name": "stdout",
     "output_type": "stream",
     "text": [
      "Error running layer l29-l33_conv5_stride1: \n",
      "\n",
      "========================================================================================================================\n",
      "Timeloop mapper failed with return code 0. Please check the output files in ./output_dir for more information. To debug, you can edit the file:\n",
      "\t./output_dir/parsed-processed-input.yaml\n",
      "and run \n",
      "\ttl mapper ./output_dir/parsed-processed-input.yaml\n",
      "to see the error. If you're running the mapper and Timeloop can't find a vaild mapping, try setting 'diagnostics: true' in the mapper input specification.\n",
      "==================================================\n",
      "Starting Timeloop with configuration:\n",
      "  - arch: Architecture.Data_Parallel\n",
      "  - scale: GPUMemoryScale.MEMORY_4MB\n",
      "  - rack: RackSize.RACK_16\n",
      "  - peConfig: PEsConfig.PE_16\n",
      "==================================================\n",
      "Running layer 1: l1_conv1 which occurs 1 times\n",
      "[INFO] 2025-05-04 17:33:17,479 - pytimeloop.accelergy_interface - Running Accelergy with command: accelergy /home/workspace/output_dir/parsed-processed-input.yaml -o ./output_dir/ -v\n"
     ]
    },
    {
     "name": "stderr",
     "output_type": "stream",
     "text": [
      "INFO:pytimeloop.accelergy_interface:Running Accelergy with command: accelergy /home/workspace/output_dir/parsed-processed-input.yaml -o ./output_dir/ -v\n"
     ]
    },
    {
     "name": "stdout",
     "output_type": "stream",
     "text": [
      "Adding energy and cycle stats for l1_conv1 occurence 1\n",
      "Running layer 2: l2_conv2_stride2 which occurs 1 times\n",
      "[INFO] 2025-05-04 17:34:29,304 - pytimeloop.accelergy_interface - Running Accelergy with command: accelergy /home/workspace/output_dir/parsed-processed-input.yaml -o ./output_dir/ -v\n"
     ]
    },
    {
     "name": "stderr",
     "output_type": "stream",
     "text": [
      "INFO:pytimeloop.accelergy_interface:Running Accelergy with command: accelergy /home/workspace/output_dir/parsed-processed-input.yaml -o ./output_dir/ -v\n"
     ]
    },
    {
     "name": "stdout",
     "output_type": "stream",
     "text": [
      "Adding energy and cycle stats for l2_conv2_stride2 occurence 1\n",
      "Running layer 3: l3-l7_conv2_stride1 which occurs 5 times\n",
      "[INFO] 2025-05-04 17:36:58,089 - pytimeloop.accelergy_interface - Running Accelergy with command: accelergy /home/workspace/output_dir/parsed-processed-input.yaml -o ./output_dir/ -v\n"
     ]
    },
    {
     "name": "stderr",
     "output_type": "stream",
     "text": [
      "INFO:pytimeloop.accelergy_interface:Running Accelergy with command: accelergy /home/workspace/output_dir/parsed-processed-input.yaml -o ./output_dir/ -v\n"
     ]
    },
    {
     "name": "stdout",
     "output_type": "stream",
     "text": [
      "Adding energy and cycle stats for l3-l7_conv2_stride1 occurence 1\n",
      "Adding energy and cycle stats for l3-l7_conv2_stride1 occurence 2\n",
      "Adding energy and cycle stats for l3-l7_conv2_stride1 occurence 3\n",
      "Adding energy and cycle stats for l3-l7_conv2_stride1 occurence 4\n",
      "Adding energy and cycle stats for l3-l7_conv2_stride1 occurence 5\n",
      "Running layer 8: l8_conv3_stride2 which occurs 1 times\n",
      "[INFO] 2025-05-04 17:39:49,228 - pytimeloop.accelergy_interface - Running Accelergy with command: accelergy /home/workspace/output_dir/parsed-processed-input.yaml -o ./output_dir/ -v\n"
     ]
    },
    {
     "name": "stderr",
     "output_type": "stream",
     "text": [
      "INFO:pytimeloop.accelergy_interface:Running Accelergy with command: accelergy /home/workspace/output_dir/parsed-processed-input.yaml -o ./output_dir/ -v\n"
     ]
    },
    {
     "name": "stdout",
     "output_type": "stream",
     "text": [
      "Adding energy and cycle stats for l8_conv3_stride2 occurence 1\n",
      "Running layer 9: l9-l15_conv3_stride1 which occurs 7 times\n",
      "[INFO] 2025-05-04 17:43:57,898 - pytimeloop.accelergy_interface - Running Accelergy with command: accelergy /home/workspace/output_dir/parsed-processed-input.yaml -o ./output_dir/ -v\n"
     ]
    },
    {
     "name": "stderr",
     "output_type": "stream",
     "text": [
      "INFO:pytimeloop.accelergy_interface:Running Accelergy with command: accelergy /home/workspace/output_dir/parsed-processed-input.yaml -o ./output_dir/ -v\n"
     ]
    },
    {
     "name": "stdout",
     "output_type": "stream",
     "text": [
      "Adding energy and cycle stats for l9-l15_conv3_stride1 occurence 1\n",
      "Adding energy and cycle stats for l9-l15_conv3_stride1 occurence 2\n",
      "Adding energy and cycle stats for l9-l15_conv3_stride1 occurence 3\n",
      "Adding energy and cycle stats for l9-l15_conv3_stride1 occurence 4\n",
      "Adding energy and cycle stats for l9-l15_conv3_stride1 occurence 5\n",
      "Adding energy and cycle stats for l9-l15_conv3_stride1 occurence 6\n",
      "Adding energy and cycle stats for l9-l15_conv3_stride1 occurence 7\n",
      "Running layer 16: l16_conv4_stride2 which occurs 1 times\n",
      "[INFO] 2025-05-04 17:48:54,856 - pytimeloop.accelergy_interface - Running Accelergy with command: accelergy /home/workspace/output_dir/parsed-processed-input.yaml -o ./output_dir/ -v\n"
     ]
    },
    {
     "name": "stderr",
     "output_type": "stream",
     "text": [
      "INFO:pytimeloop.accelergy_interface:Running Accelergy with command: accelergy /home/workspace/output_dir/parsed-processed-input.yaml -o ./output_dir/ -v\n"
     ]
    },
    {
     "name": "stdout",
     "output_type": "stream",
     "text": [
      "Adding energy and cycle stats for l16_conv4_stride2 occurence 1\n",
      "Running layer 17: l17-l27_conv4_stride1 which occurs 11 times\n",
      "[INFO] 2025-05-04 17:51:25,345 - pytimeloop.accelergy_interface - Running Accelergy with command: accelergy /home/workspace/output_dir/parsed-processed-input.yaml -o ./output_dir/ -v\n"
     ]
    },
    {
     "name": "stderr",
     "output_type": "stream",
     "text": [
      "INFO:pytimeloop.accelergy_interface:Running Accelergy with command: accelergy /home/workspace/output_dir/parsed-processed-input.yaml -o ./output_dir/ -v\n"
     ]
    }
   ],
   "source": [
    "# debug currently set to True, set to False to run\n",
    "# controller = TimeLoopExperimentController(True)\n",
    "controller = TimeLoopExperimentController(False)\n",
    "controller.run_all(\"persisted_results/results_May 03, 2025 04:16:57 PM EST\")\n",
    "# controller.plot_results()"
   ]
  },
  {
   "cell_type": "code",
   "execution_count": null,
   "id": "2ef216e9-61bb-4991-af1f-a0f9093371cd",
   "metadata": {
    "scrolled": true
   },
   "outputs": [
    {
     "name": "stdout",
     "output_type": "stream",
     "text": [
      "==================================================\n",
      "Starting Timeloop with configuration:\n",
      "  - arch: Architecture.Data_Parallel\n",
      "  - scale: GPUMemoryScale.MEMORY_16MB\n",
      "  - rack: RackSize.RACK_4\n",
      "  - peConfig: PEsConfig.PE_1\n",
      "==================================================\n",
      "Running layer 1: l1_conv1 which occurs 1 times\n",
      "[INFO] 2025-05-04 09:03:39,594 - pytimeloop.accelergy_interface - Running Accelergy with command: accelergy /home/workspace/output_dir/parsed-processed-input.yaml -o ./output_dir/ -v\n"
     ]
    },
    {
     "name": "stderr",
     "output_type": "stream",
     "text": [
      "INFO:pytimeloop.accelergy_interface:Running Accelergy with command: accelergy /home/workspace/output_dir/parsed-processed-input.yaml -o ./output_dir/ -v\n"
     ]
    },
    {
     "name": "stdout",
     "output_type": "stream",
     "text": [
      "Adding energy and cycle stats for l1_conv1 occurence 1\n",
      "Running layer 2: l2_conv2_stride2 which occurs 1 times\n",
      "[INFO] 2025-05-04 09:05:45,578 - pytimeloop.accelergy_interface - Running Accelergy with command: accelergy /home/workspace/output_dir/parsed-processed-input.yaml -o ./output_dir/ -v\n"
     ]
    },
    {
     "name": "stderr",
     "output_type": "stream",
     "text": [
      "INFO:pytimeloop.accelergy_interface:Running Accelergy with command: accelergy /home/workspace/output_dir/parsed-processed-input.yaml -o ./output_dir/ -v\n"
     ]
    },
    {
     "name": "stdout",
     "output_type": "stream",
     "text": [
      "Adding energy and cycle stats for l2_conv2_stride2 occurence 1\n",
      "Running layer 3: l3-l7_conv2_stride1 which occurs 5 times\n",
      "[INFO] 2025-05-04 09:09:16,552 - pytimeloop.accelergy_interface - Running Accelergy with command: accelergy /home/workspace/output_dir/parsed-processed-input.yaml -o ./output_dir/ -v\n"
     ]
    },
    {
     "name": "stderr",
     "output_type": "stream",
     "text": [
      "INFO:pytimeloop.accelergy_interface:Running Accelergy with command: accelergy /home/workspace/output_dir/parsed-processed-input.yaml -o ./output_dir/ -v\n"
     ]
    },
    {
     "name": "stdout",
     "output_type": "stream",
     "text": [
      "Adding energy and cycle stats for l3-l7_conv2_stride1 occurence 1\n",
      "Adding energy and cycle stats for l3-l7_conv2_stride1 occurence 2\n",
      "Adding energy and cycle stats for l3-l7_conv2_stride1 occurence 3\n",
      "Adding energy and cycle stats for l3-l7_conv2_stride1 occurence 4\n",
      "Adding energy and cycle stats for l3-l7_conv2_stride1 occurence 5\n",
      "Running layer 8: l8_conv3_stride2 which occurs 1 times\n",
      "[INFO] 2025-05-04 09:12:53,190 - pytimeloop.accelergy_interface - Running Accelergy with command: accelergy /home/workspace/output_dir/parsed-processed-input.yaml -o ./output_dir/ -v\n"
     ]
    },
    {
     "name": "stderr",
     "output_type": "stream",
     "text": [
      "INFO:pytimeloop.accelergy_interface:Running Accelergy with command: accelergy /home/workspace/output_dir/parsed-processed-input.yaml -o ./output_dir/ -v\n"
     ]
    }
   ],
   "source": [
    "# debug currently set to True, set to False to run\n",
    "# controller = TimeLoopExperimentController(True)\n",
    "controller = TimeLoopExperimentController(False)\n",
    "controller.run_single(Architecture.Data_Parallel, GPUMemoryScale.MEMORY_16MB, RackSize.RACK_4, PEsConfig.PE_1, \"persisted_results/results_May 03, 2025 04:16:57 PM EST\")\n",
    "# controller.run_single(Architecture.Base, GPUMemoryScale.MEMORY_16MB, RackSize.RACK_4, PEsConfig.PE_4, \"persisted_results/milestone3\")\n",
    "# controller.run_single(Architecture.Tensor_Parallel, GPUMemoryScale.MEMORY_16MB, RackSize.RACK_4, PEsConfig.PE_4, \"persisted_results/milestone3\")\n",
    "# # controller.plot_results()"
   ]
  },
  {
   "cell_type": "code",
   "execution_count": null,
   "id": "6063380b-ba1b-46d8-a3a2-95d7fe35afcd",
   "metadata": {},
   "outputs": [],
   "source": []
  }
 ],
 "metadata": {
  "kernelspec": {
   "display_name": "Python 3 (ipykernel)",
   "language": "python",
   "name": "python3"
  },
  "language_info": {
   "codemirror_mode": {
    "name": "ipython",
    "version": 3
   },
   "file_extension": ".py",
   "mimetype": "text/x-python",
   "name": "python",
   "nbconvert_exporter": "python",
   "pygments_lexer": "ipython3",
   "version": "3.10.12"
  }
 },
 "nbformat": 4,
 "nbformat_minor": 5
}
