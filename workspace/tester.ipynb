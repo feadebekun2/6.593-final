{
 "cells": [
  {
   "cell_type": "code",
   "execution_count": 1,
   "id": "2b77b11d-5ffc-4aeb-8cd7-9181357dc551",
   "metadata": {},
   "outputs": [
    {
     "data": {
      "text/plain": [
       "<module 'matplot_results_plotter.matplot_results_plotter' from '/home/workspace/matplot_results_plotter/matplot_results_plotter.py'>"
      ]
     },
     "execution_count": 1,
     "metadata": {},
     "output_type": "execute_result"
    }
   ],
   "source": [
    "import importlib\n",
    "from main import TimeLoopExperimentController\n",
    "import architectures.architecture_strategy\n",
    "import architectures.architecture_constants\n",
    "import architecture_results.derived_metrics_evaluator\n",
    "import matplot_results_plotter.matplot_results_plotter\n",
    "\n",
    "from architectures.architecture_constants import Architecture, GPUMemoryScale, RackSize, PEsConfig, base_config, resnet_18_layers\n",
    "\n",
    "import matplotlib.pyplot as plt\n",
    "\n",
    "importlib.reload(architectures.architecture_strategy)\n",
    "importlib.reload(architectures.architecture_constants)\n",
    "importlib.reload(architecture_results.derived_metrics_evaluator)\n",
    "importlib.reload(matplot_results_plotter.matplot_results_plotter)"
   ]
  },
  {
   "cell_type": "code",
   "execution_count": 2,
   "id": "5cb5f0f5-9910-4686-8dd1-c92799431b6b",
   "metadata": {
    "scrolled": true
   },
   "outputs": [
    {
     "name": "stdout",
     "output_type": "stream",
     "text": [
      "==================================================\n",
      "Starting Timeloop with configuration:\n",
      "  - arch: Architecture.Tensor_Parallel\n",
      "  - scale: GPUMemoryScale.MEMORY_4MB\n",
      "  - rack: RackSize.RACK_4\n",
      "  - peConfig: PEsConfig.PE_1\n",
      "==================================================\n",
      "Running layer 1: l1_conv1 which occurs 1 times\n",
      "[INFO] 2025-05-04 18:15:33,914 - pytimeloop.accelergy_interface - Running Accelergy with command: accelergy /home/workspace/output_dir/parsed-processed-input.yaml -o ./output_dir/ -v\n"
     ]
    },
    {
     "name": "stderr",
     "output_type": "stream",
     "text": [
      "INFO:pytimeloop.accelergy_interface:Running Accelergy with command: accelergy /home/workspace/output_dir/parsed-processed-input.yaml -o ./output_dir/ -v\n"
     ]
    },
    {
     "name": "stdout",
     "output_type": "stream",
     "text": [
      "Error running layer l1_conv1: \n",
      "\n",
      "========================================================================================================================\n",
      "Timeloop mapper failed with return code 0. Please check the output files in ./output_dir for more information. To debug, you can edit the file:\n",
      "\t./output_dir/parsed-processed-input.yaml\n",
      "and run \n",
      "\ttl mapper ./output_dir/parsed-processed-input.yaml\n",
      "to see the error. If you're running the mapper and Timeloop can't find a vaild mapping, try setting 'diagnostics: true' in the mapper input specification.\n",
      "Running layer 1: l2_conv2_stride2 which occurs 1 times\n",
      "Running layer 1: l3-l7_conv2_stride1 which occurs 5 times\n",
      "Running layer 1: l8_conv3_stride2 which occurs 1 times\n",
      "Running layer 1: l9-l15_conv3_stride1 which occurs 7 times\n",
      "Running layer 1: l16_conv4_stride2 which occurs 1 times\n",
      "Running layer 1: l17-l27_conv4_stride1 which occurs 11 times\n",
      "Running layer 1: l28_conv5_stride2 which occurs 1 times\n",
      "Running layer 1: l29-l33_conv5_stride1 which occurs 5 times\n",
      "{'energy': [-1, -1, -1, -1, -1, -1, -1, -1, -1, -1, -1, -1, -1, -1, -1, -1, -1, -1, -1, -1, -1, -1, -1, -1, -1, -1, -1, -1, -1, -1, -1, -1, -1], 'cycles': [-1, -1, -1, -1, -1, -1, -1, -1, -1, -1, -1, -1, -1, -1, -1, -1, -1, -1, -1, -1, -1, -1, -1, -1, -1, -1, -1, -1, -1, -1, -1, -1, -1], 'tp': -1, 'star_hops': 0, 'ring_hops': 0, 'star_hop_energy': 0, 'ring_hop_energy': 0}\n",
      "==================================================\n",
      "Starting Timeloop with configuration:\n",
      "  - arch: Architecture.Tensor_Parallel\n",
      "  - scale: GPUMemoryScale.MEMORY_4MB\n",
      "  - rack: RackSize.RACK_4\n",
      "  - peConfig: PEsConfig.PE_4\n",
      "==================================================\n",
      "Running layer 1: l1_conv1 which occurs 1 times\n",
      "[INFO] 2025-05-04 18:15:53,589 - pytimeloop.accelergy_interface - Running Accelergy with command: accelergy /home/workspace/output_dir/parsed-processed-input.yaml -o ./output_dir/ -v\n"
     ]
    },
    {
     "name": "stderr",
     "output_type": "stream",
     "text": [
      "INFO:pytimeloop.accelergy_interface:Running Accelergy with command: accelergy /home/workspace/output_dir/parsed-processed-input.yaml -o ./output_dir/ -v\n"
     ]
    },
    {
     "name": "stdout",
     "output_type": "stream",
     "text": [
      "Error running layer l1_conv1: \n",
      "\n",
      "========================================================================================================================\n",
      "Timeloop mapper failed with return code 0. Please check the output files in ./output_dir for more information. To debug, you can edit the file:\n",
      "\t./output_dir/parsed-processed-input.yaml\n",
      "and run \n",
      "\ttl mapper ./output_dir/parsed-processed-input.yaml\n",
      "to see the error. If you're running the mapper and Timeloop can't find a vaild mapping, try setting 'diagnostics: true' in the mapper input specification.\n",
      "Running layer 1: l2_conv2_stride2 which occurs 1 times\n",
      "Running layer 1: l3-l7_conv2_stride1 which occurs 5 times\n",
      "Running layer 1: l8_conv3_stride2 which occurs 1 times\n",
      "Running layer 1: l9-l15_conv3_stride1 which occurs 7 times\n",
      "Running layer 1: l16_conv4_stride2 which occurs 1 times\n",
      "Running layer 1: l17-l27_conv4_stride1 which occurs 11 times\n",
      "Running layer 1: l28_conv5_stride2 which occurs 1 times\n",
      "Running layer 1: l29-l33_conv5_stride1 which occurs 5 times\n",
      "{'energy': [-1, -1, -1, -1, -1, -1, -1, -1, -1, -1, -1, -1, -1, -1, -1, -1, -1, -1, -1, -1, -1, -1, -1, -1, -1, -1, -1, -1, -1, -1, -1, -1, -1], 'cycles': [-1, -1, -1, -1, -1, -1, -1, -1, -1, -1, -1, -1, -1, -1, -1, -1, -1, -1, -1, -1, -1, -1, -1, -1, -1, -1, -1, -1, -1, -1, -1, -1, -1], 'tp': -1, 'star_hops': 0, 'ring_hops': 0, 'star_hop_energy': 0, 'ring_hop_energy': 0}\n",
      "==================================================\n",
      "Starting Timeloop with configuration:\n",
      "  - arch: Architecture.Tensor_Parallel\n",
      "  - scale: GPUMemoryScale.MEMORY_4MB\n",
      "  - rack: RackSize.RACK_4\n",
      "  - peConfig: PEsConfig.PE_16\n",
      "==================================================\n",
      "Running layer 1: l1_conv1 which occurs 1 times\n",
      "[INFO] 2025-05-04 18:16:14,426 - pytimeloop.accelergy_interface - Running Accelergy with command: accelergy /home/workspace/output_dir/parsed-processed-input.yaml -o ./output_dir/ -v\n"
     ]
    },
    {
     "name": "stderr",
     "output_type": "stream",
     "text": [
      "INFO:pytimeloop.accelergy_interface:Running Accelergy with command: accelergy /home/workspace/output_dir/parsed-processed-input.yaml -o ./output_dir/ -v\n"
     ]
    },
    {
     "name": "stdout",
     "output_type": "stream",
     "text": [
      "Error running layer l1_conv1: \n",
      "\n",
      "========================================================================================================================\n",
      "Timeloop mapper failed with return code 0. Please check the output files in ./output_dir for more information. To debug, you can edit the file:\n",
      "\t./output_dir/parsed-processed-input.yaml\n",
      "and run \n",
      "\ttl mapper ./output_dir/parsed-processed-input.yaml\n",
      "to see the error. If you're running the mapper and Timeloop can't find a vaild mapping, try setting 'diagnostics: true' in the mapper input specification.\n",
      "Running layer 1: l2_conv2_stride2 which occurs 1 times\n",
      "Running layer 1: l3-l7_conv2_stride1 which occurs 5 times\n",
      "Running layer 1: l8_conv3_stride2 which occurs 1 times\n",
      "Running layer 1: l9-l15_conv3_stride1 which occurs 7 times\n",
      "Running layer 1: l16_conv4_stride2 which occurs 1 times\n",
      "Running layer 1: l17-l27_conv4_stride1 which occurs 11 times\n",
      "Running layer 1: l28_conv5_stride2 which occurs 1 times\n",
      "Running layer 1: l29-l33_conv5_stride1 which occurs 5 times\n",
      "{'energy': [-1, -1, -1, -1, -1, -1, -1, -1, -1, -1, -1, -1, -1, -1, -1, -1, -1, -1, -1, -1, -1, -1, -1, -1, -1, -1, -1, -1, -1, -1, -1, -1, -1], 'cycles': [-1, -1, -1, -1, -1, -1, -1, -1, -1, -1, -1, -1, -1, -1, -1, -1, -1, -1, -1, -1, -1, -1, -1, -1, -1, -1, -1, -1, -1, -1, -1, -1, -1], 'tp': -1, 'star_hops': 0, 'ring_hops': 0, 'star_hop_energy': 0, 'ring_hop_energy': 0}\n",
      "==================================================\n",
      "Starting Timeloop with configuration:\n",
      "  - arch: Architecture.Tensor_Parallel\n",
      "  - scale: GPUMemoryScale.MEMORY_16MB\n",
      "  - rack: RackSize.RACK_4\n",
      "  - peConfig: PEsConfig.PE_1\n",
      "==================================================\n",
      "Running layer 1: l1_conv1 which occurs 1 times\n",
      "[INFO] 2025-05-04 18:16:34,291 - pytimeloop.accelergy_interface - Running Accelergy with command: accelergy /home/workspace/output_dir/parsed-processed-input.yaml -o ./output_dir/ -v\n"
     ]
    },
    {
     "name": "stderr",
     "output_type": "stream",
     "text": [
      "INFO:pytimeloop.accelergy_interface:Running Accelergy with command: accelergy /home/workspace/output_dir/parsed-processed-input.yaml -o ./output_dir/ -v\n"
     ]
    },
    {
     "name": "stdout",
     "output_type": "stream",
     "text": [
      "Adding energy and cycle stats for l1_conv1 occurence 1\n",
      "Running layer 2: l2_conv2_stride2 which occurs 1 times\n",
      "[INFO] 2025-05-04 18:17:15,934 - pytimeloop.accelergy_interface - Running Accelergy with command: accelergy /home/workspace/output_dir/parsed-processed-input.yaml -o ./output_dir/ -v\n"
     ]
    },
    {
     "name": "stderr",
     "output_type": "stream",
     "text": [
      "INFO:pytimeloop.accelergy_interface:Running Accelergy with command: accelergy /home/workspace/output_dir/parsed-processed-input.yaml -o ./output_dir/ -v\n"
     ]
    },
    {
     "name": "stdout",
     "output_type": "stream",
     "text": [
      "Adding energy and cycle stats for l2_conv2_stride2 occurence 1\n",
      "Running layer 3: l3-l7_conv2_stride1 which occurs 5 times\n",
      "[INFO] 2025-05-04 18:18:35,198 - pytimeloop.accelergy_interface - Running Accelergy with command: accelergy /home/workspace/output_dir/parsed-processed-input.yaml -o ./output_dir/ -v\n"
     ]
    },
    {
     "name": "stderr",
     "output_type": "stream",
     "text": [
      "INFO:pytimeloop.accelergy_interface:Running Accelergy with command: accelergy /home/workspace/output_dir/parsed-processed-input.yaml -o ./output_dir/ -v\n"
     ]
    },
    {
     "name": "stdout",
     "output_type": "stream",
     "text": [
      "Adding energy and cycle stats for l3-l7_conv2_stride1 occurence 1\n",
      "Adding energy and cycle stats for l3-l7_conv2_stride1 occurence 2\n",
      "Adding energy and cycle stats for l3-l7_conv2_stride1 occurence 3\n",
      "Adding energy and cycle stats for l3-l7_conv2_stride1 occurence 4\n",
      "Adding energy and cycle stats for l3-l7_conv2_stride1 occurence 5\n",
      "Running layer 8: l8_conv3_stride2 which occurs 1 times\n",
      "[INFO] 2025-05-04 18:19:55,220 - pytimeloop.accelergy_interface - Running Accelergy with command: accelergy /home/workspace/output_dir/parsed-processed-input.yaml -o ./output_dir/ -v\n"
     ]
    },
    {
     "name": "stderr",
     "output_type": "stream",
     "text": [
      "INFO:pytimeloop.accelergy_interface:Running Accelergy with command: accelergy /home/workspace/output_dir/parsed-processed-input.yaml -o ./output_dir/ -v\n"
     ]
    },
    {
     "name": "stdout",
     "output_type": "stream",
     "text": [
      "Adding energy and cycle stats for l8_conv3_stride2 occurence 1\n",
      "Running layer 9: l9-l15_conv3_stride1 which occurs 7 times\n",
      "[INFO] 2025-05-04 18:21:13,568 - pytimeloop.accelergy_interface - Running Accelergy with command: accelergy /home/workspace/output_dir/parsed-processed-input.yaml -o ./output_dir/ -v\n"
     ]
    },
    {
     "name": "stderr",
     "output_type": "stream",
     "text": [
      "INFO:pytimeloop.accelergy_interface:Running Accelergy with command: accelergy /home/workspace/output_dir/parsed-processed-input.yaml -o ./output_dir/ -v\n"
     ]
    },
    {
     "name": "stdout",
     "output_type": "stream",
     "text": [
      "Adding energy and cycle stats for l9-l15_conv3_stride1 occurence 1\n",
      "Adding energy and cycle stats for l9-l15_conv3_stride1 occurence 2\n",
      "Adding energy and cycle stats for l9-l15_conv3_stride1 occurence 3\n",
      "Adding energy and cycle stats for l9-l15_conv3_stride1 occurence 4\n",
      "Adding energy and cycle stats for l9-l15_conv3_stride1 occurence 5\n",
      "Adding energy and cycle stats for l9-l15_conv3_stride1 occurence 6\n",
      "Adding energy and cycle stats for l9-l15_conv3_stride1 occurence 7\n",
      "Running layer 16: l16_conv4_stride2 which occurs 1 times\n",
      "[INFO] 2025-05-04 18:22:42,041 - pytimeloop.accelergy_interface - Running Accelergy with command: accelergy /home/workspace/output_dir/parsed-processed-input.yaml -o ./output_dir/ -v\n"
     ]
    },
    {
     "name": "stderr",
     "output_type": "stream",
     "text": [
      "INFO:pytimeloop.accelergy_interface:Running Accelergy with command: accelergy /home/workspace/output_dir/parsed-processed-input.yaml -o ./output_dir/ -v\n"
     ]
    },
    {
     "name": "stdout",
     "output_type": "stream",
     "text": [
      "Adding energy and cycle stats for l16_conv4_stride2 occurence 1\n",
      "Running layer 17: l17-l27_conv4_stride1 which occurs 11 times\n",
      "[INFO] 2025-05-04 18:24:03,708 - pytimeloop.accelergy_interface - Running Accelergy with command: accelergy /home/workspace/output_dir/parsed-processed-input.yaml -o ./output_dir/ -v\n"
     ]
    },
    {
     "name": "stderr",
     "output_type": "stream",
     "text": [
      "INFO:pytimeloop.accelergy_interface:Running Accelergy with command: accelergy /home/workspace/output_dir/parsed-processed-input.yaml -o ./output_dir/ -v\n"
     ]
    },
    {
     "name": "stdout",
     "output_type": "stream",
     "text": [
      "Adding energy and cycle stats for l17-l27_conv4_stride1 occurence 1\n",
      "Adding energy and cycle stats for l17-l27_conv4_stride1 occurence 2\n",
      "Adding energy and cycle stats for l17-l27_conv4_stride1 occurence 3\n",
      "Adding energy and cycle stats for l17-l27_conv4_stride1 occurence 4\n",
      "Adding energy and cycle stats for l17-l27_conv4_stride1 occurence 5\n",
      "Adding energy and cycle stats for l17-l27_conv4_stride1 occurence 6\n",
      "Adding energy and cycle stats for l17-l27_conv4_stride1 occurence 7\n",
      "Adding energy and cycle stats for l17-l27_conv4_stride1 occurence 8\n",
      "Adding energy and cycle stats for l17-l27_conv4_stride1 occurence 9\n",
      "Adding energy and cycle stats for l17-l27_conv4_stride1 occurence 10\n",
      "Adding energy and cycle stats for l17-l27_conv4_stride1 occurence 11\n",
      "Running layer 28: l28_conv5_stride2 which occurs 1 times\n",
      "[INFO] 2025-05-04 18:25:34,914 - pytimeloop.accelergy_interface - Running Accelergy with command: accelergy /home/workspace/output_dir/parsed-processed-input.yaml -o ./output_dir/ -v\n"
     ]
    },
    {
     "name": "stderr",
     "output_type": "stream",
     "text": [
      "INFO:pytimeloop.accelergy_interface:Running Accelergy with command: accelergy /home/workspace/output_dir/parsed-processed-input.yaml -o ./output_dir/ -v\n"
     ]
    },
    {
     "name": "stdout",
     "output_type": "stream",
     "text": [
      "Adding energy and cycle stats for l28_conv5_stride2 occurence 1\n",
      "Running layer 29: l29-l33_conv5_stride1 which occurs 5 times\n",
      "[INFO] 2025-05-04 18:27:04,468 - pytimeloop.accelergy_interface - Running Accelergy with command: accelergy /home/workspace/output_dir/parsed-processed-input.yaml -o ./output_dir/ -v\n"
     ]
    },
    {
     "name": "stderr",
     "output_type": "stream",
     "text": [
      "INFO:pytimeloop.accelergy_interface:Running Accelergy with command: accelergy /home/workspace/output_dir/parsed-processed-input.yaml -o ./output_dir/ -v\n"
     ]
    },
    {
     "name": "stdout",
     "output_type": "stream",
     "text": [
      "Adding energy and cycle stats for l29-l33_conv5_stride1 occurence 1\n",
      "Adding energy and cycle stats for l29-l33_conv5_stride1 occurence 2\n",
      "Adding energy and cycle stats for l29-l33_conv5_stride1 occurence 3\n",
      "Adding energy and cycle stats for l29-l33_conv5_stride1 occurence 4\n",
      "Adding energy and cycle stats for l29-l33_conv5_stride1 occurence 5\n",
      "{'energy': [1695366.36, 1648232.13, 1648232.13, 1648232.13, 1648232.13, 1648232.13, 1648232.13, 826758.93, 1645291.61, 1645291.61, 1645291.61, 1645291.61, 1645291.61, 1645291.61, 1645291.61, 824017.66, 1643937.36, 1643937.36, 1643937.36, 1643937.36, 1643937.36, 1643937.36, 1643937.36, 1643937.36, 1643937.36, 1643937.36, 1643937.36, 822861.44, 1643704.08, 1643704.08, 1643704.08, 1643704.08, 1643704.08], 'cycles': [1888223232, 1849688064, 1849688064, 1849688064, 1849688064, 1849688064, 1849688064, 924844032, 1849688064, 1849688064, 1849688064, 1849688064, 1849688064, 1849688064, 1849688064, 924844032, 1849688064, 1849688064, 1849688064, 1849688064, 1849688064, 1849688064, 1849688064, 1849688064, 1849688064, 1849688064, 1849688064, 924844032, 1849688064, 1849688064, 1849688064, 1849688064, 1849688064], 'tp': 1, 'star_hops': 0, 'ring_hops': 0, 'star_hop_energy': 0, 'ring_hop_energy': 0}\n",
      "==================================================\n",
      "Starting Timeloop with configuration:\n",
      "  - arch: Architecture.Tensor_Parallel\n",
      "  - scale: GPUMemoryScale.MEMORY_16MB\n",
      "  - rack: RackSize.RACK_4\n",
      "  - peConfig: PEsConfig.PE_4\n",
      "==================================================\n",
      "Running layer 1: l1_conv1 which occurs 1 times\n",
      "[INFO] 2025-05-04 18:29:09,240 - pytimeloop.accelergy_interface - Running Accelergy with command: accelergy /home/workspace/output_dir/parsed-processed-input.yaml -o ./output_dir/ -v\n"
     ]
    },
    {
     "name": "stderr",
     "output_type": "stream",
     "text": [
      "INFO:pytimeloop.accelergy_interface:Running Accelergy with command: accelergy /home/workspace/output_dir/parsed-processed-input.yaml -o ./output_dir/ -v\n"
     ]
    },
    {
     "name": "stdout",
     "output_type": "stream",
     "text": [
      "Adding energy and cycle stats for l1_conv1 occurence 1\n",
      "Running layer 2: l2_conv2_stride2 which occurs 1 times\n",
      "[INFO] 2025-05-04 18:30:04,041 - pytimeloop.accelergy_interface - Running Accelergy with command: accelergy /home/workspace/output_dir/parsed-processed-input.yaml -o ./output_dir/ -v\n"
     ]
    },
    {
     "name": "stderr",
     "output_type": "stream",
     "text": [
      "INFO:pytimeloop.accelergy_interface:Running Accelergy with command: accelergy /home/workspace/output_dir/parsed-processed-input.yaml -o ./output_dir/ -v\n"
     ]
    },
    {
     "name": "stdout",
     "output_type": "stream",
     "text": [
      "Adding energy and cycle stats for l2_conv2_stride2 occurence 1\n",
      "Running layer 3: l3-l7_conv2_stride1 which occurs 5 times\n",
      "[INFO] 2025-05-04 18:32:51,896 - pytimeloop.accelergy_interface - Running Accelergy with command: accelergy /home/workspace/output_dir/parsed-processed-input.yaml -o ./output_dir/ -v\n"
     ]
    },
    {
     "name": "stderr",
     "output_type": "stream",
     "text": [
      "INFO:pytimeloop.accelergy_interface:Running Accelergy with command: accelergy /home/workspace/output_dir/parsed-processed-input.yaml -o ./output_dir/ -v\n"
     ]
    },
    {
     "name": "stdout",
     "output_type": "stream",
     "text": [
      "Adding energy and cycle stats for l3-l7_conv2_stride1 occurence 1\n",
      "Adding energy and cycle stats for l3-l7_conv2_stride1 occurence 2\n",
      "Adding energy and cycle stats for l3-l7_conv2_stride1 occurence 3\n",
      "Adding energy and cycle stats for l3-l7_conv2_stride1 occurence 4\n",
      "Adding energy and cycle stats for l3-l7_conv2_stride1 occurence 5\n",
      "Running layer 8: l8_conv3_stride2 which occurs 1 times\n",
      "[INFO] 2025-05-04 18:35:00,545 - pytimeloop.accelergy_interface - Running Accelergy with command: accelergy /home/workspace/output_dir/parsed-processed-input.yaml -o ./output_dir/ -v\n"
     ]
    },
    {
     "name": "stderr",
     "output_type": "stream",
     "text": [
      "INFO:pytimeloop.accelergy_interface:Running Accelergy with command: accelergy /home/workspace/output_dir/parsed-processed-input.yaml -o ./output_dir/ -v\n"
     ]
    },
    {
     "name": "stdout",
     "output_type": "stream",
     "text": [
      "Adding energy and cycle stats for l8_conv3_stride2 occurence 1\n",
      "Running layer 9: l9-l15_conv3_stride1 which occurs 7 times\n",
      "[INFO] 2025-05-04 18:36:37,868 - pytimeloop.accelergy_interface - Running Accelergy with command: accelergy /home/workspace/output_dir/parsed-processed-input.yaml -o ./output_dir/ -v\n"
     ]
    },
    {
     "name": "stderr",
     "output_type": "stream",
     "text": [
      "INFO:pytimeloop.accelergy_interface:Running Accelergy with command: accelergy /home/workspace/output_dir/parsed-processed-input.yaml -o ./output_dir/ -v\n"
     ]
    },
    {
     "name": "stdout",
     "output_type": "stream",
     "text": [
      "Adding energy and cycle stats for l9-l15_conv3_stride1 occurence 1\n",
      "Adding energy and cycle stats for l9-l15_conv3_stride1 occurence 2\n",
      "Adding energy and cycle stats for l9-l15_conv3_stride1 occurence 3\n",
      "Adding energy and cycle stats for l9-l15_conv3_stride1 occurence 4\n",
      "Adding energy and cycle stats for l9-l15_conv3_stride1 occurence 5\n",
      "Adding energy and cycle stats for l9-l15_conv3_stride1 occurence 6\n",
      "Adding energy and cycle stats for l9-l15_conv3_stride1 occurence 7\n",
      "Running layer 16: l16_conv4_stride2 which occurs 1 times\n",
      "[INFO] 2025-05-04 18:38:44,990 - pytimeloop.accelergy_interface - Running Accelergy with command: accelergy /home/workspace/output_dir/parsed-processed-input.yaml -o ./output_dir/ -v\n"
     ]
    },
    {
     "name": "stderr",
     "output_type": "stream",
     "text": [
      "INFO:pytimeloop.accelergy_interface:Running Accelergy with command: accelergy /home/workspace/output_dir/parsed-processed-input.yaml -o ./output_dir/ -v\n"
     ]
    },
    {
     "name": "stdout",
     "output_type": "stream",
     "text": [
      "Adding energy and cycle stats for l16_conv4_stride2 occurence 1\n",
      "Running layer 17: l17-l27_conv4_stride1 which occurs 11 times\n",
      "[INFO] 2025-05-04 18:40:12,882 - pytimeloop.accelergy_interface - Running Accelergy with command: accelergy /home/workspace/output_dir/parsed-processed-input.yaml -o ./output_dir/ -v\n"
     ]
    },
    {
     "name": "stderr",
     "output_type": "stream",
     "text": [
      "INFO:pytimeloop.accelergy_interface:Running Accelergy with command: accelergy /home/workspace/output_dir/parsed-processed-input.yaml -o ./output_dir/ -v\n"
     ]
    },
    {
     "name": "stdout",
     "output_type": "stream",
     "text": [
      "Adding energy and cycle stats for l17-l27_conv4_stride1 occurence 1\n",
      "Adding energy and cycle stats for l17-l27_conv4_stride1 occurence 2\n",
      "Adding energy and cycle stats for l17-l27_conv4_stride1 occurence 3\n",
      "Adding energy and cycle stats for l17-l27_conv4_stride1 occurence 4\n",
      "Adding energy and cycle stats for l17-l27_conv4_stride1 occurence 5\n",
      "Adding energy and cycle stats for l17-l27_conv4_stride1 occurence 6\n",
      "Adding energy and cycle stats for l17-l27_conv4_stride1 occurence 7\n",
      "Adding energy and cycle stats for l17-l27_conv4_stride1 occurence 8\n",
      "Adding energy and cycle stats for l17-l27_conv4_stride1 occurence 9\n",
      "Adding energy and cycle stats for l17-l27_conv4_stride1 occurence 10\n",
      "Adding energy and cycle stats for l17-l27_conv4_stride1 occurence 11\n",
      "Running layer 28: l28_conv5_stride2 which occurs 1 times\n",
      "[INFO] 2025-05-04 18:42:00,511 - pytimeloop.accelergy_interface - Running Accelergy with command: accelergy /home/workspace/output_dir/parsed-processed-input.yaml -o ./output_dir/ -v\n"
     ]
    },
    {
     "name": "stderr",
     "output_type": "stream",
     "text": [
      "INFO:pytimeloop.accelergy_interface:Running Accelergy with command: accelergy /home/workspace/output_dir/parsed-processed-input.yaml -o ./output_dir/ -v\n"
     ]
    },
    {
     "name": "stdout",
     "output_type": "stream",
     "text": [
      "Adding energy and cycle stats for l28_conv5_stride2 occurence 1\n",
      "Running layer 29: l29-l33_conv5_stride1 which occurs 5 times\n",
      "[INFO] 2025-05-04 18:43:54,391 - pytimeloop.accelergy_interface - Running Accelergy with command: accelergy /home/workspace/output_dir/parsed-processed-input.yaml -o ./output_dir/ -v\n"
     ]
    },
    {
     "name": "stderr",
     "output_type": "stream",
     "text": [
      "INFO:pytimeloop.accelergy_interface:Running Accelergy with command: accelergy /home/workspace/output_dir/parsed-processed-input.yaml -o ./output_dir/ -v\n"
     ]
    },
    {
     "name": "stdout",
     "output_type": "stream",
     "text": [
      "Adding energy and cycle stats for l29-l33_conv5_stride1 occurence 1\n",
      "Adding energy and cycle stats for l29-l33_conv5_stride1 occurence 2\n",
      "Adding energy and cycle stats for l29-l33_conv5_stride1 occurence 3\n",
      "Adding energy and cycle stats for l29-l33_conv5_stride1 occurence 4\n",
      "Adding energy and cycle stats for l29-l33_conv5_stride1 occurence 5\n",
      "{'energy': [1416250.23, 841877.34, 841877.34, 841877.34, 841877.34, 841877.34, 841877.34, 423581.7, 838938.71, 838938.71, 838938.71, 838938.71, 838938.71, 838938.71, 838938.71, 420841.21, 837585.39, 837585.39, 837585.39, 837585.39, 837585.39, 837585.39, 837585.39, 837585.39, 837585.39, 837585.39, 837585.39, 419686.61, 837352.57, 837352.57, 837352.57, 837352.57, 837352.57], 'cycles': [944111616, 462422016, 462422016, 462422016, 462422016, 462422016, 462422016, 231211008, 462422016, 462422016, 462422016, 462422016, 462422016, 462422016, 462422016, 231211008, 462422016, 462422016, 462422016, 462422016, 462422016, 462422016, 462422016, 462422016, 462422016, 462422016, 462422016, 231211008, 462422016, 462422016, 462422016, 462422016, 462422016], 'tp': 1, 'star_hops': 0, 'ring_hops': 0, 'star_hop_energy': 0, 'ring_hop_energy': 0}\n",
      "==================================================\n",
      "Starting Timeloop with configuration:\n",
      "  - arch: Architecture.Tensor_Parallel\n",
      "  - scale: GPUMemoryScale.MEMORY_16MB\n",
      "  - rack: RackSize.RACK_4\n",
      "  - peConfig: PEsConfig.PE_16\n",
      "==================================================\n",
      "Running layer 1: l1_conv1 which occurs 1 times\n",
      "[INFO] 2025-05-04 18:46:01,743 - pytimeloop.accelergy_interface - Running Accelergy with command: accelergy /home/workspace/output_dir/parsed-processed-input.yaml -o ./output_dir/ -v\n"
     ]
    },
    {
     "name": "stderr",
     "output_type": "stream",
     "text": [
      "INFO:pytimeloop.accelergy_interface:Running Accelergy with command: accelergy /home/workspace/output_dir/parsed-processed-input.yaml -o ./output_dir/ -v\n"
     ]
    },
    {
     "name": "stdout",
     "output_type": "stream",
     "text": [
      "Adding energy and cycle stats for l1_conv1 occurence 1\n",
      "Running layer 2: l2_conv2_stride2 which occurs 1 times\n",
      "[INFO] 2025-05-04 18:46:55,732 - pytimeloop.accelergy_interface - Running Accelergy with command: accelergy /home/workspace/output_dir/parsed-processed-input.yaml -o ./output_dir/ -v\n"
     ]
    },
    {
     "name": "stderr",
     "output_type": "stream",
     "text": [
      "INFO:pytimeloop.accelergy_interface:Running Accelergy with command: accelergy /home/workspace/output_dir/parsed-processed-input.yaml -o ./output_dir/ -v\n"
     ]
    },
    {
     "name": "stdout",
     "output_type": "stream",
     "text": [
      "Adding energy and cycle stats for l2_conv2_stride2 occurence 1\n",
      "Running layer 3: l3-l7_conv2_stride1 which occurs 5 times\n",
      "[INFO] 2025-05-04 18:48:35,973 - pytimeloop.accelergy_interface - Running Accelergy with command: accelergy /home/workspace/output_dir/parsed-processed-input.yaml -o ./output_dir/ -v\n"
     ]
    },
    {
     "name": "stderr",
     "output_type": "stream",
     "text": [
      "INFO:pytimeloop.accelergy_interface:Running Accelergy with command: accelergy /home/workspace/output_dir/parsed-processed-input.yaml -o ./output_dir/ -v\n"
     ]
    },
    {
     "name": "stdout",
     "output_type": "stream",
     "text": [
      "Adding energy and cycle stats for l3-l7_conv2_stride1 occurence 1\n",
      "Adding energy and cycle stats for l3-l7_conv2_stride1 occurence 2\n",
      "Adding energy and cycle stats for l3-l7_conv2_stride1 occurence 3\n",
      "Adding energy and cycle stats for l3-l7_conv2_stride1 occurence 4\n",
      "Adding energy and cycle stats for l3-l7_conv2_stride1 occurence 5\n",
      "Running layer 8: l8_conv3_stride2 which occurs 1 times\n",
      "[INFO] 2025-05-04 18:50:16,577 - pytimeloop.accelergy_interface - Running Accelergy with command: accelergy /home/workspace/output_dir/parsed-processed-input.yaml -o ./output_dir/ -v\n"
     ]
    },
    {
     "name": "stderr",
     "output_type": "stream",
     "text": [
      "INFO:pytimeloop.accelergy_interface:Running Accelergy with command: accelergy /home/workspace/output_dir/parsed-processed-input.yaml -o ./output_dir/ -v\n"
     ]
    },
    {
     "name": "stdout",
     "output_type": "stream",
     "text": [
      "Adding energy and cycle stats for l8_conv3_stride2 occurence 1\n",
      "Running layer 9: l9-l15_conv3_stride1 which occurs 7 times\n",
      "[INFO] 2025-05-04 18:51:56,568 - pytimeloop.accelergy_interface - Running Accelergy with command: accelergy /home/workspace/output_dir/parsed-processed-input.yaml -o ./output_dir/ -v\n"
     ]
    },
    {
     "name": "stderr",
     "output_type": "stream",
     "text": [
      "INFO:pytimeloop.accelergy_interface:Running Accelergy with command: accelergy /home/workspace/output_dir/parsed-processed-input.yaml -o ./output_dir/ -v\n"
     ]
    },
    {
     "name": "stdout",
     "output_type": "stream",
     "text": [
      "Adding energy and cycle stats for l9-l15_conv3_stride1 occurence 1\n",
      "Adding energy and cycle stats for l9-l15_conv3_stride1 occurence 2\n",
      "Adding energy and cycle stats for l9-l15_conv3_stride1 occurence 3\n",
      "Adding energy and cycle stats for l9-l15_conv3_stride1 occurence 4\n",
      "Adding energy and cycle stats for l9-l15_conv3_stride1 occurence 5\n",
      "Adding energy and cycle stats for l9-l15_conv3_stride1 occurence 6\n",
      "Adding energy and cycle stats for l9-l15_conv3_stride1 occurence 7\n",
      "Running layer 16: l16_conv4_stride2 which occurs 1 times\n",
      "[INFO] 2025-05-04 18:53:17,166 - pytimeloop.accelergy_interface - Running Accelergy with command: accelergy /home/workspace/output_dir/parsed-processed-input.yaml -o ./output_dir/ -v\n"
     ]
    },
    {
     "name": "stderr",
     "output_type": "stream",
     "text": [
      "INFO:pytimeloop.accelergy_interface:Running Accelergy with command: accelergy /home/workspace/output_dir/parsed-processed-input.yaml -o ./output_dir/ -v\n"
     ]
    },
    {
     "name": "stdout",
     "output_type": "stream",
     "text": [
      "Adding energy and cycle stats for l16_conv4_stride2 occurence 1\n",
      "Running layer 17: l17-l27_conv4_stride1 which occurs 11 times\n",
      "[INFO] 2025-05-04 18:54:43,238 - pytimeloop.accelergy_interface - Running Accelergy with command: accelergy /home/workspace/output_dir/parsed-processed-input.yaml -o ./output_dir/ -v\n"
     ]
    },
    {
     "name": "stderr",
     "output_type": "stream",
     "text": [
      "INFO:pytimeloop.accelergy_interface:Running Accelergy with command: accelergy /home/workspace/output_dir/parsed-processed-input.yaml -o ./output_dir/ -v\n"
     ]
    },
    {
     "name": "stdout",
     "output_type": "stream",
     "text": [
      "Adding energy and cycle stats for l17-l27_conv4_stride1 occurence 1\n",
      "Adding energy and cycle stats for l17-l27_conv4_stride1 occurence 2\n",
      "Adding energy and cycle stats for l17-l27_conv4_stride1 occurence 3\n",
      "Adding energy and cycle stats for l17-l27_conv4_stride1 occurence 4\n",
      "Adding energy and cycle stats for l17-l27_conv4_stride1 occurence 5\n",
      "Adding energy and cycle stats for l17-l27_conv4_stride1 occurence 6\n",
      "Adding energy and cycle stats for l17-l27_conv4_stride1 occurence 7\n",
      "Adding energy and cycle stats for l17-l27_conv4_stride1 occurence 8\n",
      "Adding energy and cycle stats for l17-l27_conv4_stride1 occurence 9\n",
      "Adding energy and cycle stats for l17-l27_conv4_stride1 occurence 10\n",
      "Adding energy and cycle stats for l17-l27_conv4_stride1 occurence 11\n",
      "Running layer 28: l28_conv5_stride2 which occurs 1 times\n",
      "[INFO] 2025-05-04 18:56:23,193 - pytimeloop.accelergy_interface - Running Accelergy with command: accelergy /home/workspace/output_dir/parsed-processed-input.yaml -o ./output_dir/ -v\n"
     ]
    },
    {
     "name": "stderr",
     "output_type": "stream",
     "text": [
      "INFO:pytimeloop.accelergy_interface:Running Accelergy with command: accelergy /home/workspace/output_dir/parsed-processed-input.yaml -o ./output_dir/ -v\n"
     ]
    },
    {
     "name": "stdout",
     "output_type": "stream",
     "text": [
      "Adding energy and cycle stats for l28_conv5_stride2 occurence 1\n",
      "Running layer 29: l29-l33_conv5_stride1 which occurs 5 times\n",
      "[INFO] 2025-05-04 18:58:36,593 - pytimeloop.accelergy_interface - Running Accelergy with command: accelergy /home/workspace/output_dir/parsed-processed-input.yaml -o ./output_dir/ -v\n"
     ]
    },
    {
     "name": "stderr",
     "output_type": "stream",
     "text": [
      "INFO:pytimeloop.accelergy_interface:Running Accelergy with command: accelergy /home/workspace/output_dir/parsed-processed-input.yaml -o ./output_dir/ -v\n"
     ]
    },
    {
     "name": "stdout",
     "output_type": "stream",
     "text": [
      "Adding energy and cycle stats for l29-l33_conv5_stride1 occurence 1\n",
      "Adding energy and cycle stats for l29-l33_conv5_stride1 occurence 2\n",
      "Adding energy and cycle stats for l29-l33_conv5_stride1 occurence 3\n",
      "Adding energy and cycle stats for l29-l33_conv5_stride1 occurence 4\n",
      "Adding energy and cycle stats for l29-l33_conv5_stride1 occurence 5\n",
      "{'energy': [1276692.16, 439246.17, 439246.17, 439246.17, 439246.17, 439246.17, 439246.17, 222266.11, 436311.67, 436311.67, 436311.67, 436311.67, 436311.67, 436311.67, 436311.67, 219527.48, 434959.77, 434959.77, 434959.77, 434959.77, 434959.77, 434959.77, 434959.77, 434959.77, 434959.77, 434959.77, 434959.77, 218372.64, 434727.88, 434727.88, 434727.88, 434727.88, 434727.88], 'cycles': [472055808, 115605504, 115605504, 115605504, 115605504, 115605504, 115605504, 57802752, 115605504, 115605504, 115605504, 115605504, 115605504, 115605504, 115605504, 57802752, 115605504, 115605504, 115605504, 115605504, 115605504, 115605504, 115605504, 115605504, 115605504, 115605504, 115605504, 57802752, 115605504, 115605504, 115605504, 115605504, 115605504], 'tp': 1, 'star_hops': 0, 'ring_hops': 0, 'star_hop_energy': 0, 'ring_hop_energy': 0}\n",
      "==================================================\n",
      "Starting Timeloop with configuration:\n",
      "  - arch: Architecture.Tensor_Parallel\n",
      "  - scale: GPUMemoryScale.MEMORY_64MB\n",
      "  - rack: RackSize.RACK_4\n",
      "  - peConfig: PEsConfig.PE_1\n",
      "==================================================\n",
      "Running layer 1: l1_conv1 which occurs 1 times\n",
      "[INFO] 2025-05-04 19:00:17,062 - pytimeloop.accelergy_interface - Running Accelergy with command: accelergy /home/workspace/output_dir/parsed-processed-input.yaml -o ./output_dir/ -v\n"
     ]
    },
    {
     "name": "stderr",
     "output_type": "stream",
     "text": [
      "INFO:pytimeloop.accelergy_interface:Running Accelergy with command: accelergy /home/workspace/output_dir/parsed-processed-input.yaml -o ./output_dir/ -v\n"
     ]
    },
    {
     "name": "stdout",
     "output_type": "stream",
     "text": [
      "Adding energy and cycle stats for l1_conv1 occurence 1\n",
      "Running layer 2: l2_conv2_stride2 which occurs 1 times\n",
      "[INFO] 2025-05-04 19:01:09,188 - pytimeloop.accelergy_interface - Running Accelergy with command: accelergy /home/workspace/output_dir/parsed-processed-input.yaml -o ./output_dir/ -v\n"
     ]
    },
    {
     "name": "stderr",
     "output_type": "stream",
     "text": [
      "INFO:pytimeloop.accelergy_interface:Running Accelergy with command: accelergy /home/workspace/output_dir/parsed-processed-input.yaml -o ./output_dir/ -v\n"
     ]
    },
    {
     "name": "stdout",
     "output_type": "stream",
     "text": [
      "Adding energy and cycle stats for l2_conv2_stride2 occurence 1\n",
      "Running layer 3: l3-l7_conv2_stride1 which occurs 5 times\n",
      "[INFO] 2025-05-04 19:02:23,806 - pytimeloop.accelergy_interface - Running Accelergy with command: accelergy /home/workspace/output_dir/parsed-processed-input.yaml -o ./output_dir/ -v\n"
     ]
    },
    {
     "name": "stderr",
     "output_type": "stream",
     "text": [
      "INFO:pytimeloop.accelergy_interface:Running Accelergy with command: accelergy /home/workspace/output_dir/parsed-processed-input.yaml -o ./output_dir/ -v\n"
     ]
    },
    {
     "name": "stdout",
     "output_type": "stream",
     "text": [
      "Adding energy and cycle stats for l3-l7_conv2_stride1 occurence 1\n",
      "Adding energy and cycle stats for l3-l7_conv2_stride1 occurence 2\n",
      "Adding energy and cycle stats for l3-l7_conv2_stride1 occurence 3\n",
      "Adding energy and cycle stats for l3-l7_conv2_stride1 occurence 4\n",
      "Adding energy and cycle stats for l3-l7_conv2_stride1 occurence 5\n",
      "Running layer 8: l8_conv3_stride2 which occurs 1 times\n",
      "[INFO] 2025-05-04 19:03:46,914 - pytimeloop.accelergy_interface - Running Accelergy with command: accelergy /home/workspace/output_dir/parsed-processed-input.yaml -o ./output_dir/ -v\n"
     ]
    },
    {
     "name": "stderr",
     "output_type": "stream",
     "text": [
      "INFO:pytimeloop.accelergy_interface:Running Accelergy with command: accelergy /home/workspace/output_dir/parsed-processed-input.yaml -o ./output_dir/ -v\n"
     ]
    },
    {
     "name": "stdout",
     "output_type": "stream",
     "text": [
      "Adding energy and cycle stats for l8_conv3_stride2 occurence 1\n",
      "Running layer 9: l9-l15_conv3_stride1 which occurs 7 times\n",
      "[INFO] 2025-05-04 19:05:40,509 - pytimeloop.accelergy_interface - Running Accelergy with command: accelergy /home/workspace/output_dir/parsed-processed-input.yaml -o ./output_dir/ -v\n"
     ]
    },
    {
     "name": "stderr",
     "output_type": "stream",
     "text": [
      "INFO:pytimeloop.accelergy_interface:Running Accelergy with command: accelergy /home/workspace/output_dir/parsed-processed-input.yaml -o ./output_dir/ -v\n"
     ]
    },
    {
     "name": "stdout",
     "output_type": "stream",
     "text": [
      "Adding energy and cycle stats for l9-l15_conv3_stride1 occurence 1\n",
      "Adding energy and cycle stats for l9-l15_conv3_stride1 occurence 2\n",
      "Adding energy and cycle stats for l9-l15_conv3_stride1 occurence 3\n",
      "Adding energy and cycle stats for l9-l15_conv3_stride1 occurence 4\n",
      "Adding energy and cycle stats for l9-l15_conv3_stride1 occurence 5\n",
      "Adding energy and cycle stats for l9-l15_conv3_stride1 occurence 6\n",
      "Adding energy and cycle stats for l9-l15_conv3_stride1 occurence 7\n",
      "Running layer 16: l16_conv4_stride2 which occurs 1 times\n",
      "[INFO] 2025-05-04 19:07:15,428 - pytimeloop.accelergy_interface - Running Accelergy with command: accelergy /home/workspace/output_dir/parsed-processed-input.yaml -o ./output_dir/ -v\n"
     ]
    },
    {
     "name": "stderr",
     "output_type": "stream",
     "text": [
      "INFO:pytimeloop.accelergy_interface:Running Accelergy with command: accelergy /home/workspace/output_dir/parsed-processed-input.yaml -o ./output_dir/ -v\n"
     ]
    },
    {
     "name": "stdout",
     "output_type": "stream",
     "text": [
      "Adding energy and cycle stats for l16_conv4_stride2 occurence 1\n",
      "Running layer 17: l17-l27_conv4_stride1 which occurs 11 times\n",
      "[INFO] 2025-05-04 19:08:33,730 - pytimeloop.accelergy_interface - Running Accelergy with command: accelergy /home/workspace/output_dir/parsed-processed-input.yaml -o ./output_dir/ -v\n"
     ]
    },
    {
     "name": "stderr",
     "output_type": "stream",
     "text": [
      "INFO:pytimeloop.accelergy_interface:Running Accelergy with command: accelergy /home/workspace/output_dir/parsed-processed-input.yaml -o ./output_dir/ -v\n"
     ]
    },
    {
     "name": "stdout",
     "output_type": "stream",
     "text": [
      "Adding energy and cycle stats for l17-l27_conv4_stride1 occurence 1\n",
      "Adding energy and cycle stats for l17-l27_conv4_stride1 occurence 2\n",
      "Adding energy and cycle stats for l17-l27_conv4_stride1 occurence 3\n",
      "Adding energy and cycle stats for l17-l27_conv4_stride1 occurence 4\n",
      "Adding energy and cycle stats for l17-l27_conv4_stride1 occurence 5\n",
      "Adding energy and cycle stats for l17-l27_conv4_stride1 occurence 6\n",
      "Adding energy and cycle stats for l17-l27_conv4_stride1 occurence 7\n",
      "Adding energy and cycle stats for l17-l27_conv4_stride1 occurence 8\n",
      "Adding energy and cycle stats for l17-l27_conv4_stride1 occurence 9\n",
      "Adding energy and cycle stats for l17-l27_conv4_stride1 occurence 10\n",
      "Adding energy and cycle stats for l17-l27_conv4_stride1 occurence 11\n",
      "Running layer 28: l28_conv5_stride2 which occurs 1 times\n",
      "[INFO] 2025-05-04 19:10:06,813 - pytimeloop.accelergy_interface - Running Accelergy with command: accelergy /home/workspace/output_dir/parsed-processed-input.yaml -o ./output_dir/ -v\n"
     ]
    },
    {
     "name": "stderr",
     "output_type": "stream",
     "text": [
      "INFO:pytimeloop.accelergy_interface:Running Accelergy with command: accelergy /home/workspace/output_dir/parsed-processed-input.yaml -o ./output_dir/ -v\n"
     ]
    },
    {
     "name": "stdout",
     "output_type": "stream",
     "text": [
      "Adding energy and cycle stats for l28_conv5_stride2 occurence 1\n",
      "Running layer 29: l29-l33_conv5_stride1 which occurs 5 times\n",
      "[INFO] 2025-05-04 19:11:38,483 - pytimeloop.accelergy_interface - Running Accelergy with command: accelergy /home/workspace/output_dir/parsed-processed-input.yaml -o ./output_dir/ -v\n"
     ]
    },
    {
     "name": "stderr",
     "output_type": "stream",
     "text": [
      "INFO:pytimeloop.accelergy_interface:Running Accelergy with command: accelergy /home/workspace/output_dir/parsed-processed-input.yaml -o ./output_dir/ -v\n"
     ]
    },
    {
     "name": "stdout",
     "output_type": "stream",
     "text": [
      "Adding energy and cycle stats for l29-l33_conv5_stride1 occurence 1\n",
      "Adding energy and cycle stats for l29-l33_conv5_stride1 occurence 2\n",
      "Adding energy and cycle stats for l29-l33_conv5_stride1 occurence 3\n",
      "Adding energy and cycle stats for l29-l33_conv5_stride1 occurence 4\n",
      "Adding energy and cycle stats for l29-l33_conv5_stride1 occurence 5\n",
      "{'energy': [3287572.46, 3223812.88, 3223812.88, 3223812.88, 3223812.88, 3223812.88, 3223812.88, 1616315.18, 3219591.92, 3219591.92, 3219591.92, 3219591.92, 3219591.92, 3219591.92, 3219591.92, 1612076.18, 3217658.32, 3217658.32, 3217658.32, 3217658.32, 3217658.32, 3217658.32, 3217658.32, 3217658.32, 3217658.32, 3217658.32, 3217658.32, 1610281.06, 3217365.49, 3217365.49, 3217365.49, 3217365.49, 3217365.49], 'cycles': [1888223232, 1849688064, 1849688064, 1849688064, 1849688064, 1849688064, 1849688064, 924844032, 1849688064, 1849688064, 1849688064, 1849688064, 1849688064, 1849688064, 1849688064, 924844032, 1849688064, 1849688064, 1849688064, 1849688064, 1849688064, 1849688064, 1849688064, 1849688064, 1849688064, 1849688064, 1849688064, 924844032, 1849688064, 1849688064, 1849688064, 1849688064, 1849688064], 'tp': 1, 'star_hops': 0, 'ring_hops': 0, 'star_hop_energy': 0, 'ring_hop_energy': 0}\n",
      "==================================================\n",
      "Starting Timeloop with configuration:\n",
      "  - arch: Architecture.Tensor_Parallel\n",
      "  - scale: GPUMemoryScale.MEMORY_64MB\n",
      "  - rack: RackSize.RACK_4\n",
      "  - peConfig: PEsConfig.PE_4\n",
      "==================================================\n",
      "Running layer 1: l1_conv1 which occurs 1 times\n",
      "[INFO] 2025-05-04 19:13:20,828 - pytimeloop.accelergy_interface - Running Accelergy with command: accelergy /home/workspace/output_dir/parsed-processed-input.yaml -o ./output_dir/ -v\n"
     ]
    },
    {
     "name": "stderr",
     "output_type": "stream",
     "text": [
      "INFO:pytimeloop.accelergy_interface:Running Accelergy with command: accelergy /home/workspace/output_dir/parsed-processed-input.yaml -o ./output_dir/ -v\n"
     ]
    },
    {
     "name": "stdout",
     "output_type": "stream",
     "text": [
      "Adding energy and cycle stats for l1_conv1 occurence 1\n",
      "Running layer 2: l2_conv2_stride2 which occurs 1 times\n",
      "[INFO] 2025-05-04 19:14:32,496 - pytimeloop.accelergy_interface - Running Accelergy with command: accelergy /home/workspace/output_dir/parsed-processed-input.yaml -o ./output_dir/ -v\n"
     ]
    },
    {
     "name": "stderr",
     "output_type": "stream",
     "text": [
      "INFO:pytimeloop.accelergy_interface:Running Accelergy with command: accelergy /home/workspace/output_dir/parsed-processed-input.yaml -o ./output_dir/ -v\n"
     ]
    },
    {
     "name": "stdout",
     "output_type": "stream",
     "text": [
      "Adding energy and cycle stats for l2_conv2_stride2 occurence 1\n",
      "Running layer 3: l3-l7_conv2_stride1 which occurs 5 times\n",
      "[INFO] 2025-05-04 19:16:43,272 - pytimeloop.accelergy_interface - Running Accelergy with command: accelergy /home/workspace/output_dir/parsed-processed-input.yaml -o ./output_dir/ -v\n"
     ]
    },
    {
     "name": "stderr",
     "output_type": "stream",
     "text": [
      "INFO:pytimeloop.accelergy_interface:Running Accelergy with command: accelergy /home/workspace/output_dir/parsed-processed-input.yaml -o ./output_dir/ -v\n"
     ]
    },
    {
     "name": "stdout",
     "output_type": "stream",
     "text": [
      "Adding energy and cycle stats for l3-l7_conv2_stride1 occurence 1\n",
      "Adding energy and cycle stats for l3-l7_conv2_stride1 occurence 2\n",
      "Adding energy and cycle stats for l3-l7_conv2_stride1 occurence 3\n",
      "Adding energy and cycle stats for l3-l7_conv2_stride1 occurence 4\n",
      "Adding energy and cycle stats for l3-l7_conv2_stride1 occurence 5\n",
      "Running layer 8: l8_conv3_stride2 which occurs 1 times\n",
      "[INFO] 2025-05-04 19:18:26,569 - pytimeloop.accelergy_interface - Running Accelergy with command: accelergy /home/workspace/output_dir/parsed-processed-input.yaml -o ./output_dir/ -v\n"
     ]
    },
    {
     "name": "stderr",
     "output_type": "stream",
     "text": [
      "INFO:pytimeloop.accelergy_interface:Running Accelergy with command: accelergy /home/workspace/output_dir/parsed-processed-input.yaml -o ./output_dir/ -v\n"
     ]
    },
    {
     "name": "stdout",
     "output_type": "stream",
     "text": [
      "Adding energy and cycle stats for l8_conv3_stride2 occurence 1\n",
      "Running layer 9: l9-l15_conv3_stride1 which occurs 7 times\n",
      "[INFO] 2025-05-04 19:19:59,287 - pytimeloop.accelergy_interface - Running Accelergy with command: accelergy /home/workspace/output_dir/parsed-processed-input.yaml -o ./output_dir/ -v\n"
     ]
    },
    {
     "name": "stderr",
     "output_type": "stream",
     "text": [
      "INFO:pytimeloop.accelergy_interface:Running Accelergy with command: accelergy /home/workspace/output_dir/parsed-processed-input.yaml -o ./output_dir/ -v\n"
     ]
    },
    {
     "name": "stdout",
     "output_type": "stream",
     "text": [
      "Adding energy and cycle stats for l9-l15_conv3_stride1 occurence 1\n",
      "Adding energy and cycle stats for l9-l15_conv3_stride1 occurence 2\n",
      "Adding energy and cycle stats for l9-l15_conv3_stride1 occurence 3\n",
      "Adding energy and cycle stats for l9-l15_conv3_stride1 occurence 4\n",
      "Adding energy and cycle stats for l9-l15_conv3_stride1 occurence 5\n",
      "Adding energy and cycle stats for l9-l15_conv3_stride1 occurence 6\n",
      "Adding energy and cycle stats for l9-l15_conv3_stride1 occurence 7\n",
      "Running layer 16: l16_conv4_stride2 which occurs 1 times\n",
      "[INFO] 2025-05-04 19:21:49,299 - pytimeloop.accelergy_interface - Running Accelergy with command: accelergy /home/workspace/output_dir/parsed-processed-input.yaml -o ./output_dir/ -v\n"
     ]
    },
    {
     "name": "stderr",
     "output_type": "stream",
     "text": [
      "INFO:pytimeloop.accelergy_interface:Running Accelergy with command: accelergy /home/workspace/output_dir/parsed-processed-input.yaml -o ./output_dir/ -v\n"
     ]
    },
    {
     "name": "stdout",
     "output_type": "stream",
     "text": [
      "Adding energy and cycle stats for l16_conv4_stride2 occurence 1\n",
      "Running layer 17: l17-l27_conv4_stride1 which occurs 11 times\n",
      "[INFO] 2025-05-04 19:23:18,515 - pytimeloop.accelergy_interface - Running Accelergy with command: accelergy /home/workspace/output_dir/parsed-processed-input.yaml -o ./output_dir/ -v\n"
     ]
    },
    {
     "name": "stderr",
     "output_type": "stream",
     "text": [
      "INFO:pytimeloop.accelergy_interface:Running Accelergy with command: accelergy /home/workspace/output_dir/parsed-processed-input.yaml -o ./output_dir/ -v\n"
     ]
    },
    {
     "name": "stdout",
     "output_type": "stream",
     "text": [
      "Adding energy and cycle stats for l17-l27_conv4_stride1 occurence 1\n",
      "Adding energy and cycle stats for l17-l27_conv4_stride1 occurence 2\n",
      "Adding energy and cycle stats for l17-l27_conv4_stride1 occurence 3\n",
      "Adding energy and cycle stats for l17-l27_conv4_stride1 occurence 4\n",
      "Adding energy and cycle stats for l17-l27_conv4_stride1 occurence 5\n",
      "Adding energy and cycle stats for l17-l27_conv4_stride1 occurence 6\n",
      "Adding energy and cycle stats for l17-l27_conv4_stride1 occurence 7\n",
      "Adding energy and cycle stats for l17-l27_conv4_stride1 occurence 8\n",
      "Adding energy and cycle stats for l17-l27_conv4_stride1 occurence 9\n",
      "Adding energy and cycle stats for l17-l27_conv4_stride1 occurence 10\n",
      "Adding energy and cycle stats for l17-l27_conv4_stride1 occurence 11\n",
      "Running layer 28: l28_conv5_stride2 which occurs 1 times\n",
      "[INFO] 2025-05-04 19:24:51,710 - pytimeloop.accelergy_interface - Running Accelergy with command: accelergy /home/workspace/output_dir/parsed-processed-input.yaml -o ./output_dir/ -v\n"
     ]
    },
    {
     "name": "stderr",
     "output_type": "stream",
     "text": [
      "INFO:pytimeloop.accelergy_interface:Running Accelergy with command: accelergy /home/workspace/output_dir/parsed-processed-input.yaml -o ./output_dir/ -v\n"
     ]
    },
    {
     "name": "stdout",
     "output_type": "stream",
     "text": [
      "Adding energy and cycle stats for l28_conv5_stride2 occurence 1\n",
      "Running layer 29: l29-l33_conv5_stride1 which occurs 5 times\n",
      "[INFO] 2025-05-04 19:26:25,050 - pytimeloop.accelergy_interface - Running Accelergy with command: accelergy /home/workspace/output_dir/parsed-processed-input.yaml -o ./output_dir/ -v\n"
     ]
    },
    {
     "name": "stderr",
     "output_type": "stream",
     "text": [
      "INFO:pytimeloop.accelergy_interface:Running Accelergy with command: accelergy /home/workspace/output_dir/parsed-processed-input.yaml -o ./output_dir/ -v\n"
     ]
    },
    {
     "name": "stdout",
     "output_type": "stream",
     "text": [
      "Adding energy and cycle stats for l29-l33_conv5_stride1 occurence 1\n",
      "Adding energy and cycle stats for l29-l33_conv5_stride1 occurence 2\n",
      "Adding energy and cycle stats for l29-l33_conv5_stride1 occurence 3\n",
      "Adding energy and cycle stats for l29-l33_conv5_stride1 occurence 4\n",
      "Adding energy and cycle stats for l29-l33_conv5_stride1 occurence 5\n",
      "{'energy': [2734153.94, 1628902.99, 1628902.99, 1628902.99, 1628902.99, 1628902.99, 1628902.99, 818860.24, 1624683.88, 1624683.88, 1624683.88, 1624683.88, 1624683.88, 1624683.88, 1624683.88, 814622.16, 1622751.21, 1622751.21, 1622751.21, 1622751.21, 1622751.21, 1622751.21, 1622751.21, 1622751.21, 1622751.21, 1622751.21, 1622751.21, 812828.66, 1622458.84, 1622458.84, 1622458.84, 1622458.84, 1622458.84], 'cycles': [944111616, 462422016, 462422016, 462422016, 462422016, 462422016, 462422016, 231211008, 462422016, 462422016, 462422016, 462422016, 462422016, 462422016, 462422016, 231211008, 462422016, 462422016, 462422016, 462422016, 462422016, 462422016, 462422016, 462422016, 462422016, 462422016, 462422016, 231211008, 462422016, 462422016, 462422016, 462422016, 462422016], 'tp': 1, 'star_hops': 0, 'ring_hops': 0, 'star_hop_energy': 0, 'ring_hop_energy': 0}\n",
      "==================================================\n",
      "Starting Timeloop with configuration:\n",
      "  - arch: Architecture.Tensor_Parallel\n",
      "  - scale: GPUMemoryScale.MEMORY_64MB\n",
      "  - rack: RackSize.RACK_4\n",
      "  - peConfig: PEsConfig.PE_16\n",
      "==================================================\n",
      "Running layer 1: l1_conv1 which occurs 1 times\n",
      "[INFO] 2025-05-04 19:28:32,360 - pytimeloop.accelergy_interface - Running Accelergy with command: accelergy /home/workspace/output_dir/parsed-processed-input.yaml -o ./output_dir/ -v\n"
     ]
    },
    {
     "name": "stderr",
     "output_type": "stream",
     "text": [
      "INFO:pytimeloop.accelergy_interface:Running Accelergy with command: accelergy /home/workspace/output_dir/parsed-processed-input.yaml -o ./output_dir/ -v\n"
     ]
    },
    {
     "name": "stdout",
     "output_type": "stream",
     "text": [
      "Adding energy and cycle stats for l1_conv1 occurence 1\n",
      "Running layer 2: l2_conv2_stride2 which occurs 1 times\n",
      "[INFO] 2025-05-04 19:29:42,279 - pytimeloop.accelergy_interface - Running Accelergy with command: accelergy /home/workspace/output_dir/parsed-processed-input.yaml -o ./output_dir/ -v\n"
     ]
    },
    {
     "name": "stderr",
     "output_type": "stream",
     "text": [
      "INFO:pytimeloop.accelergy_interface:Running Accelergy with command: accelergy /home/workspace/output_dir/parsed-processed-input.yaml -o ./output_dir/ -v\n"
     ]
    },
    {
     "name": "stdout",
     "output_type": "stream",
     "text": [
      "Adding energy and cycle stats for l2_conv2_stride2 occurence 1\n",
      "Running layer 3: l3-l7_conv2_stride1 which occurs 5 times\n",
      "[INFO] 2025-05-04 19:31:43,770 - pytimeloop.accelergy_interface - Running Accelergy with command: accelergy /home/workspace/output_dir/parsed-processed-input.yaml -o ./output_dir/ -v\n"
     ]
    },
    {
     "name": "stderr",
     "output_type": "stream",
     "text": [
      "INFO:pytimeloop.accelergy_interface:Running Accelergy with command: accelergy /home/workspace/output_dir/parsed-processed-input.yaml -o ./output_dir/ -v\n"
     ]
    },
    {
     "name": "stdout",
     "output_type": "stream",
     "text": [
      "Adding energy and cycle stats for l3-l7_conv2_stride1 occurence 1\n",
      "Adding energy and cycle stats for l3-l7_conv2_stride1 occurence 2\n",
      "Adding energy and cycle stats for l3-l7_conv2_stride1 occurence 3\n",
      "Adding energy and cycle stats for l3-l7_conv2_stride1 occurence 4\n",
      "Adding energy and cycle stats for l3-l7_conv2_stride1 occurence 5\n",
      "Running layer 8: l8_conv3_stride2 which occurs 1 times\n",
      "[INFO] 2025-05-04 19:36:57,618 - pytimeloop.accelergy_interface - Running Accelergy with command: accelergy /home/workspace/output_dir/parsed-processed-input.yaml -o ./output_dir/ -v\n"
     ]
    },
    {
     "name": "stderr",
     "output_type": "stream",
     "text": [
      "INFO:pytimeloop.accelergy_interface:Running Accelergy with command: accelergy /home/workspace/output_dir/parsed-processed-input.yaml -o ./output_dir/ -v\n"
     ]
    },
    {
     "name": "stdout",
     "output_type": "stream",
     "text": [
      "Adding energy and cycle stats for l8_conv3_stride2 occurence 1\n",
      "Running layer 9: l9-l15_conv3_stride1 which occurs 7 times\n",
      "[INFO] 2025-05-04 19:41:45,741 - pytimeloop.accelergy_interface - Running Accelergy with command: accelergy /home/workspace/output_dir/parsed-processed-input.yaml -o ./output_dir/ -v\n"
     ]
    },
    {
     "name": "stderr",
     "output_type": "stream",
     "text": [
      "INFO:pytimeloop.accelergy_interface:Running Accelergy with command: accelergy /home/workspace/output_dir/parsed-processed-input.yaml -o ./output_dir/ -v\n"
     ]
    },
    {
     "name": "stdout",
     "output_type": "stream",
     "text": [
      "Adding energy and cycle stats for l9-l15_conv3_stride1 occurence 1\n",
      "Adding energy and cycle stats for l9-l15_conv3_stride1 occurence 2\n",
      "Adding energy and cycle stats for l9-l15_conv3_stride1 occurence 3\n",
      "Adding energy and cycle stats for l9-l15_conv3_stride1 occurence 4\n",
      "Adding energy and cycle stats for l9-l15_conv3_stride1 occurence 5\n",
      "Adding energy and cycle stats for l9-l15_conv3_stride1 occurence 6\n",
      "Adding energy and cycle stats for l9-l15_conv3_stride1 occurence 7\n",
      "Running layer 16: l16_conv4_stride2 which occurs 1 times\n",
      "[INFO] 2025-05-04 19:43:41,940 - pytimeloop.accelergy_interface - Running Accelergy with command: accelergy /home/workspace/output_dir/parsed-processed-input.yaml -o ./output_dir/ -v\n"
     ]
    },
    {
     "name": "stderr",
     "output_type": "stream",
     "text": [
      "INFO:pytimeloop.accelergy_interface:Running Accelergy with command: accelergy /home/workspace/output_dir/parsed-processed-input.yaml -o ./output_dir/ -v\n"
     ]
    },
    {
     "name": "stdout",
     "output_type": "stream",
     "text": [
      "Adding energy and cycle stats for l16_conv4_stride2 occurence 1\n",
      "Running layer 17: l17-l27_conv4_stride1 which occurs 11 times\n",
      "[INFO] 2025-05-04 19:45:06,200 - pytimeloop.accelergy_interface - Running Accelergy with command: accelergy /home/workspace/output_dir/parsed-processed-input.yaml -o ./output_dir/ -v\n"
     ]
    },
    {
     "name": "stderr",
     "output_type": "stream",
     "text": [
      "INFO:pytimeloop.accelergy_interface:Running Accelergy with command: accelergy /home/workspace/output_dir/parsed-processed-input.yaml -o ./output_dir/ -v\n"
     ]
    },
    {
     "name": "stdout",
     "output_type": "stream",
     "text": [
      "Adding energy and cycle stats for l17-l27_conv4_stride1 occurence 1\n",
      "Adding energy and cycle stats for l17-l27_conv4_stride1 occurence 2\n",
      "Adding energy and cycle stats for l17-l27_conv4_stride1 occurence 3\n",
      "Adding energy and cycle stats for l17-l27_conv4_stride1 occurence 4\n",
      "Adding energy and cycle stats for l17-l27_conv4_stride1 occurence 5\n",
      "Adding energy and cycle stats for l17-l27_conv4_stride1 occurence 6\n",
      "Adding energy and cycle stats for l17-l27_conv4_stride1 occurence 7\n",
      "Adding energy and cycle stats for l17-l27_conv4_stride1 occurence 8\n",
      "Adding energy and cycle stats for l17-l27_conv4_stride1 occurence 9\n",
      "Adding energy and cycle stats for l17-l27_conv4_stride1 occurence 10\n",
      "Adding energy and cycle stats for l17-l27_conv4_stride1 occurence 11\n",
      "Running layer 28: l28_conv5_stride2 which occurs 1 times\n",
      "[INFO] 2025-05-04 19:46:43,403 - pytimeloop.accelergy_interface - Running Accelergy with command: accelergy /home/workspace/output_dir/parsed-processed-input.yaml -o ./output_dir/ -v\n"
     ]
    },
    {
     "name": "stderr",
     "output_type": "stream",
     "text": [
      "INFO:pytimeloop.accelergy_interface:Running Accelergy with command: accelergy /home/workspace/output_dir/parsed-processed-input.yaml -o ./output_dir/ -v\n"
     ]
    },
    {
     "name": "stdout",
     "output_type": "stream",
     "text": [
      "Adding energy and cycle stats for l28_conv5_stride2 occurence 1\n",
      "Running layer 29: l29-l33_conv5_stride1 which occurs 5 times\n",
      "[INFO] 2025-05-04 19:48:25,772 - pytimeloop.accelergy_interface - Running Accelergy with command: accelergy /home/workspace/output_dir/parsed-processed-input.yaml -o ./output_dir/ -v\n"
     ]
    },
    {
     "name": "stderr",
     "output_type": "stream",
     "text": [
      "INFO:pytimeloop.accelergy_interface:Running Accelergy with command: accelergy /home/workspace/output_dir/parsed-processed-input.yaml -o ./output_dir/ -v\n"
     ]
    },
    {
     "name": "stdout",
     "output_type": "stream",
     "text": [
      "Adding energy and cycle stats for l29-l33_conv5_stride1 occurence 1\n",
      "Adding energy and cycle stats for l29-l33_conv5_stride1 occurence 2\n",
      "Adding energy and cycle stats for l29-l33_conv5_stride1 occurence 3\n",
      "Adding energy and cycle stats for l29-l33_conv5_stride1 occurence 4\n",
      "Adding energy and cycle stats for l29-l33_conv5_stride1 occurence 5\n",
      "{'energy': [1026456.87, 833641.05, 833641.05, 833641.05, 833641.05, 833641.05, 833641.05, 421229.32, 829426.03, 829426.03, 829426.03, 829426.03, 829426.03, 829426.03, 829426.03, 416993.02, 827494.78, 827494.78, 827494.78, 827494.78, 827494.78, 827494.78, 827494.78, 827494.78, 827494.78, 827494.78, 827494.78, 415199.29, 827203.34, 827203.34, 827203.34, 827203.34, 827203.34], 'cycles': [157351936, 115605504, 115605504, 115605504, 115605504, 115605504, 115605504, 57802752, 115605504, 115605504, 115605504, 115605504, 115605504, 115605504, 115605504, 57802752, 115605504, 115605504, 115605504, 115605504, 115605504, 115605504, 115605504, 115605504, 115605504, 115605504, 115605504, 57802752, 115605504, 115605504, 115605504, 115605504, 115605504], 'tp': 1, 'star_hops': 0, 'ring_hops': 0, 'star_hop_energy': 0, 'ring_hop_energy': 0}\n",
      "==================================================\n",
      "Starting Timeloop with configuration:\n",
      "  - arch: Architecture.Tensor_Parallel\n",
      "  - scale: GPUMemoryScale.MEMORY_1024MB\n",
      "  - rack: RackSize.RACK_4\n",
      "  - peConfig: PEsConfig.PE_1\n",
      "==================================================\n",
      "Running layer 1: l1_conv1 which occurs 1 times\n",
      "[INFO] 2025-05-04 19:50:06,864 - pytimeloop.accelergy_interface - Running Accelergy with command: accelergy /home/workspace/output_dir/parsed-processed-input.yaml -o ./output_dir/ -v\n"
     ]
    },
    {
     "name": "stderr",
     "output_type": "stream",
     "text": [
      "INFO:pytimeloop.accelergy_interface:Running Accelergy with command: accelergy /home/workspace/output_dir/parsed-processed-input.yaml -o ./output_dir/ -v\n"
     ]
    },
    {
     "name": "stdout",
     "output_type": "stream",
     "text": [
      "Adding energy and cycle stats for l1_conv1 occurence 1\n",
      "Running layer 2: l2_conv2_stride2 which occurs 1 times\n",
      "[INFO] 2025-05-04 19:50:58,178 - pytimeloop.accelergy_interface - Running Accelergy with command: accelergy /home/workspace/output_dir/parsed-processed-input.yaml -o ./output_dir/ -v\n"
     ]
    },
    {
     "name": "stderr",
     "output_type": "stream",
     "text": [
      "INFO:pytimeloop.accelergy_interface:Running Accelergy with command: accelergy /home/workspace/output_dir/parsed-processed-input.yaml -o ./output_dir/ -v\n"
     ]
    },
    {
     "name": "stdout",
     "output_type": "stream",
     "text": [
      "Adding energy and cycle stats for l2_conv2_stride2 occurence 1\n",
      "Running layer 3: l3-l7_conv2_stride1 which occurs 5 times\n",
      "[INFO] 2025-05-04 19:52:09,963 - pytimeloop.accelergy_interface - Running Accelergy with command: accelergy /home/workspace/output_dir/parsed-processed-input.yaml -o ./output_dir/ -v\n"
     ]
    },
    {
     "name": "stderr",
     "output_type": "stream",
     "text": [
      "INFO:pytimeloop.accelergy_interface:Running Accelergy with command: accelergy /home/workspace/output_dir/parsed-processed-input.yaml -o ./output_dir/ -v\n"
     ]
    },
    {
     "name": "stdout",
     "output_type": "stream",
     "text": [
      "Adding energy and cycle stats for l3-l7_conv2_stride1 occurence 1\n",
      "Adding energy and cycle stats for l3-l7_conv2_stride1 occurence 2\n",
      "Adding energy and cycle stats for l3-l7_conv2_stride1 occurence 3\n",
      "Adding energy and cycle stats for l3-l7_conv2_stride1 occurence 4\n",
      "Adding energy and cycle stats for l3-l7_conv2_stride1 occurence 5\n",
      "Running layer 8: l8_conv3_stride2 which occurs 1 times\n",
      "[INFO] 2025-05-04 19:53:24,563 - pytimeloop.accelergy_interface - Running Accelergy with command: accelergy /home/workspace/output_dir/parsed-processed-input.yaml -o ./output_dir/ -v\n"
     ]
    },
    {
     "name": "stderr",
     "output_type": "stream",
     "text": [
      "INFO:pytimeloop.accelergy_interface:Running Accelergy with command: accelergy /home/workspace/output_dir/parsed-processed-input.yaml -o ./output_dir/ -v\n"
     ]
    },
    {
     "name": "stdout",
     "output_type": "stream",
     "text": [
      "Adding energy and cycle stats for l8_conv3_stride2 occurence 1\n",
      "Running layer 9: l9-l15_conv3_stride1 which occurs 7 times\n",
      "[INFO] 2025-05-04 19:54:46,890 - pytimeloop.accelergy_interface - Running Accelergy with command: accelergy /home/workspace/output_dir/parsed-processed-input.yaml -o ./output_dir/ -v\n"
     ]
    },
    {
     "name": "stderr",
     "output_type": "stream",
     "text": [
      "INFO:pytimeloop.accelergy_interface:Running Accelergy with command: accelergy /home/workspace/output_dir/parsed-processed-input.yaml -o ./output_dir/ -v\n"
     ]
    },
    {
     "name": "stdout",
     "output_type": "stream",
     "text": [
      "Adding energy and cycle stats for l9-l15_conv3_stride1 occurence 1\n",
      "Adding energy and cycle stats for l9-l15_conv3_stride1 occurence 2\n",
      "Adding energy and cycle stats for l9-l15_conv3_stride1 occurence 3\n",
      "Adding energy and cycle stats for l9-l15_conv3_stride1 occurence 4\n",
      "Adding energy and cycle stats for l9-l15_conv3_stride1 occurence 5\n",
      "Adding energy and cycle stats for l9-l15_conv3_stride1 occurence 6\n",
      "Adding energy and cycle stats for l9-l15_conv3_stride1 occurence 7\n",
      "Running layer 16: l16_conv4_stride2 which occurs 1 times\n",
      "[INFO] 2025-05-04 19:55:50,369 - pytimeloop.accelergy_interface - Running Accelergy with command: accelergy /home/workspace/output_dir/parsed-processed-input.yaml -o ./output_dir/ -v\n"
     ]
    },
    {
     "name": "stderr",
     "output_type": "stream",
     "text": [
      "INFO:pytimeloop.accelergy_interface:Running Accelergy with command: accelergy /home/workspace/output_dir/parsed-processed-input.yaml -o ./output_dir/ -v\n"
     ]
    },
    {
     "name": "stdout",
     "output_type": "stream",
     "text": [
      "Adding energy and cycle stats for l16_conv4_stride2 occurence 1\n",
      "Running layer 17: l17-l27_conv4_stride1 which occurs 11 times\n",
      "[INFO] 2025-05-04 19:56:58,494 - pytimeloop.accelergy_interface - Running Accelergy with command: accelergy /home/workspace/output_dir/parsed-processed-input.yaml -o ./output_dir/ -v\n"
     ]
    },
    {
     "name": "stderr",
     "output_type": "stream",
     "text": [
      "INFO:pytimeloop.accelergy_interface:Running Accelergy with command: accelergy /home/workspace/output_dir/parsed-processed-input.yaml -o ./output_dir/ -v\n"
     ]
    },
    {
     "name": "stdout",
     "output_type": "stream",
     "text": [
      "Adding energy and cycle stats for l17-l27_conv4_stride1 occurence 1\n",
      "Adding energy and cycle stats for l17-l27_conv4_stride1 occurence 2\n",
      "Adding energy and cycle stats for l17-l27_conv4_stride1 occurence 3\n",
      "Adding energy and cycle stats for l17-l27_conv4_stride1 occurence 4\n",
      "Adding energy and cycle stats for l17-l27_conv4_stride1 occurence 5\n",
      "Adding energy and cycle stats for l17-l27_conv4_stride1 occurence 6\n",
      "Adding energy and cycle stats for l17-l27_conv4_stride1 occurence 7\n",
      "Adding energy and cycle stats for l17-l27_conv4_stride1 occurence 8\n",
      "Adding energy and cycle stats for l17-l27_conv4_stride1 occurence 9\n",
      "Adding energy and cycle stats for l17-l27_conv4_stride1 occurence 10\n",
      "Adding energy and cycle stats for l17-l27_conv4_stride1 occurence 11\n",
      "Running layer 28: l28_conv5_stride2 which occurs 1 times\n",
      "[INFO] 2025-05-04 19:58:18,121 - pytimeloop.accelergy_interface - Running Accelergy with command: accelergy /home/workspace/output_dir/parsed-processed-input.yaml -o ./output_dir/ -v\n"
     ]
    },
    {
     "name": "stderr",
     "output_type": "stream",
     "text": [
      "INFO:pytimeloop.accelergy_interface:Running Accelergy with command: accelergy /home/workspace/output_dir/parsed-processed-input.yaml -o ./output_dir/ -v\n"
     ]
    },
    {
     "name": "stdout",
     "output_type": "stream",
     "text": [
      "Adding energy and cycle stats for l28_conv5_stride2 occurence 1\n",
      "Running layer 29: l29-l33_conv5_stride1 which occurs 5 times\n",
      "[INFO] 2025-05-04 19:59:35,171 - pytimeloop.accelergy_interface - Running Accelergy with command: accelergy /home/workspace/output_dir/parsed-processed-input.yaml -o ./output_dir/ -v\n"
     ]
    },
    {
     "name": "stderr",
     "output_type": "stream",
     "text": [
      "INFO:pytimeloop.accelergy_interface:Running Accelergy with command: accelergy /home/workspace/output_dir/parsed-processed-input.yaml -o ./output_dir/ -v\n"
     ]
    },
    {
     "name": "stdout",
     "output_type": "stream",
     "text": [
      "Adding energy and cycle stats for l29-l33_conv5_stride1 occurence 1\n",
      "Adding energy and cycle stats for l29-l33_conv5_stride1 occurence 2\n",
      "Adding energy and cycle stats for l29-l33_conv5_stride1 occurence 3\n",
      "Adding energy and cycle stats for l29-l33_conv5_stride1 occurence 4\n",
      "Adding energy and cycle stats for l29-l33_conv5_stride1 occurence 5\n",
      "{'energy': [17647504.44, 17324012.07, 17324012.07, 17324012.07, 17324012.07, 17324012.07, 17324012.07, 8682458.31, 17308019.83, 17308019.83, 17308019.83, 17308019.83, 17308019.83, 17308019.83, 17308019.83, 8664538.6, 17300745.74, 17300745.74, 17300745.74, 17300745.74, 17300745.74, 17300745.74, 17300745.74, 17300745.74, 17300745.74, 17300745.74, 17300745.74, 8656886.37, 17299840.89, 17299840.89, 17299840.89, 17299840.89, 17299840.89], 'cycles': [1888223232, 1849688064, 1849688064, 1849688064, 1849688064, 1849688064, 1849688064, 924844032, 1849688064, 1849688064, 1849688064, 1849688064, 1849688064, 1849688064, 1849688064, 924844032, 1849688064, 1849688064, 1849688064, 1849688064, 1849688064, 1849688064, 1849688064, 1849688064, 1849688064, 1849688064, 1849688064, 924844032, 1849688064, 1849688064, 1849688064, 1849688064, 1849688064], 'tp': 1, 'star_hops': 0, 'ring_hops': 0, 'star_hop_energy': 0, 'ring_hop_energy': 0}\n",
      "==================================================\n",
      "Starting Timeloop with configuration:\n",
      "  - arch: Architecture.Tensor_Parallel\n",
      "  - scale: GPUMemoryScale.MEMORY_1024MB\n",
      "  - rack: RackSize.RACK_4\n",
      "  - peConfig: PEsConfig.PE_4\n",
      "==================================================\n",
      "Running layer 1: l1_conv1 which occurs 1 times\n",
      "[INFO] 2025-05-04 20:00:57,182 - pytimeloop.accelergy_interface - Running Accelergy with command: accelergy /home/workspace/output_dir/parsed-processed-input.yaml -o ./output_dir/ -v\n"
     ]
    },
    {
     "name": "stderr",
     "output_type": "stream",
     "text": [
      "INFO:pytimeloop.accelergy_interface:Running Accelergy with command: accelergy /home/workspace/output_dir/parsed-processed-input.yaml -o ./output_dir/ -v\n"
     ]
    },
    {
     "name": "stdout",
     "output_type": "stream",
     "text": [
      "Adding energy and cycle stats for l1_conv1 occurence 1\n",
      "Running layer 2: l2_conv2_stride2 which occurs 1 times\n",
      "[INFO] 2025-05-04 20:01:53,657 - pytimeloop.accelergy_interface - Running Accelergy with command: accelergy /home/workspace/output_dir/parsed-processed-input.yaml -o ./output_dir/ -v\n"
     ]
    },
    {
     "name": "stderr",
     "output_type": "stream",
     "text": [
      "INFO:pytimeloop.accelergy_interface:Running Accelergy with command: accelergy /home/workspace/output_dir/parsed-processed-input.yaml -o ./output_dir/ -v\n"
     ]
    },
    {
     "name": "stdout",
     "output_type": "stream",
     "text": [
      "Adding energy and cycle stats for l2_conv2_stride2 occurence 1\n",
      "Running layer 3: l3-l7_conv2_stride1 which occurs 5 times\n",
      "[INFO] 2025-05-04 20:03:33,527 - pytimeloop.accelergy_interface - Running Accelergy with command: accelergy /home/workspace/output_dir/parsed-processed-input.yaml -o ./output_dir/ -v\n"
     ]
    },
    {
     "name": "stderr",
     "output_type": "stream",
     "text": [
      "INFO:pytimeloop.accelergy_interface:Running Accelergy with command: accelergy /home/workspace/output_dir/parsed-processed-input.yaml -o ./output_dir/ -v\n"
     ]
    },
    {
     "name": "stdout",
     "output_type": "stream",
     "text": [
      "Adding energy and cycle stats for l3-l7_conv2_stride1 occurence 1\n",
      "Adding energy and cycle stats for l3-l7_conv2_stride1 occurence 2\n",
      "Adding energy and cycle stats for l3-l7_conv2_stride1 occurence 3\n",
      "Adding energy and cycle stats for l3-l7_conv2_stride1 occurence 4\n",
      "Adding energy and cycle stats for l3-l7_conv2_stride1 occurence 5\n",
      "Running layer 8: l8_conv3_stride2 which occurs 1 times\n",
      "[INFO] 2025-05-04 20:05:15,641 - pytimeloop.accelergy_interface - Running Accelergy with command: accelergy /home/workspace/output_dir/parsed-processed-input.yaml -o ./output_dir/ -v\n"
     ]
    },
    {
     "name": "stderr",
     "output_type": "stream",
     "text": [
      "INFO:pytimeloop.accelergy_interface:Running Accelergy with command: accelergy /home/workspace/output_dir/parsed-processed-input.yaml -o ./output_dir/ -v\n"
     ]
    },
    {
     "name": "stdout",
     "output_type": "stream",
     "text": [
      "Adding energy and cycle stats for l8_conv3_stride2 occurence 1\n",
      "Running layer 9: l9-l15_conv3_stride1 which occurs 7 times\n",
      "[INFO] 2025-05-04 20:06:36,072 - pytimeloop.accelergy_interface - Running Accelergy with command: accelergy /home/workspace/output_dir/parsed-processed-input.yaml -o ./output_dir/ -v\n"
     ]
    },
    {
     "name": "stderr",
     "output_type": "stream",
     "text": [
      "INFO:pytimeloop.accelergy_interface:Running Accelergy with command: accelergy /home/workspace/output_dir/parsed-processed-input.yaml -o ./output_dir/ -v\n"
     ]
    },
    {
     "name": "stdout",
     "output_type": "stream",
     "text": [
      "Adding energy and cycle stats for l9-l15_conv3_stride1 occurence 1\n",
      "Adding energy and cycle stats for l9-l15_conv3_stride1 occurence 2\n",
      "Adding energy and cycle stats for l9-l15_conv3_stride1 occurence 3\n",
      "Adding energy and cycle stats for l9-l15_conv3_stride1 occurence 4\n",
      "Adding energy and cycle stats for l9-l15_conv3_stride1 occurence 5\n",
      "Adding energy and cycle stats for l9-l15_conv3_stride1 occurence 6\n",
      "Adding energy and cycle stats for l9-l15_conv3_stride1 occurence 7\n",
      "Running layer 16: l16_conv4_stride2 which occurs 1 times\n",
      "[INFO] 2025-05-04 20:08:14,775 - pytimeloop.accelergy_interface - Running Accelergy with command: accelergy /home/workspace/output_dir/parsed-processed-input.yaml -o ./output_dir/ -v\n"
     ]
    },
    {
     "name": "stderr",
     "output_type": "stream",
     "text": [
      "INFO:pytimeloop.accelergy_interface:Running Accelergy with command: accelergy /home/workspace/output_dir/parsed-processed-input.yaml -o ./output_dir/ -v\n"
     ]
    },
    {
     "name": "stdout",
     "output_type": "stream",
     "text": [
      "Adding energy and cycle stats for l16_conv4_stride2 occurence 1\n",
      "Running layer 17: l17-l27_conv4_stride1 which occurs 11 times\n",
      "[INFO] 2025-05-04 20:09:40,073 - pytimeloop.accelergy_interface - Running Accelergy with command: accelergy /home/workspace/output_dir/parsed-processed-input.yaml -o ./output_dir/ -v\n"
     ]
    },
    {
     "name": "stderr",
     "output_type": "stream",
     "text": [
      "INFO:pytimeloop.accelergy_interface:Running Accelergy with command: accelergy /home/workspace/output_dir/parsed-processed-input.yaml -o ./output_dir/ -v\n"
     ]
    },
    {
     "name": "stdout",
     "output_type": "stream",
     "text": [
      "Adding energy and cycle stats for l17-l27_conv4_stride1 occurence 1\n",
      "Adding energy and cycle stats for l17-l27_conv4_stride1 occurence 2\n",
      "Adding energy and cycle stats for l17-l27_conv4_stride1 occurence 3\n",
      "Adding energy and cycle stats for l17-l27_conv4_stride1 occurence 4\n",
      "Adding energy and cycle stats for l17-l27_conv4_stride1 occurence 5\n",
      "Adding energy and cycle stats for l17-l27_conv4_stride1 occurence 6\n",
      "Adding energy and cycle stats for l17-l27_conv4_stride1 occurence 7\n",
      "Adding energy and cycle stats for l17-l27_conv4_stride1 occurence 8\n",
      "Adding energy and cycle stats for l17-l27_conv4_stride1 occurence 9\n",
      "Adding energy and cycle stats for l17-l27_conv4_stride1 occurence 10\n",
      "Adding energy and cycle stats for l17-l27_conv4_stride1 occurence 11\n",
      "Running layer 28: l28_conv5_stride2 which occurs 1 times\n",
      "[INFO] 2025-05-04 20:11:06,946 - pytimeloop.accelergy_interface - Running Accelergy with command: accelergy /home/workspace/output_dir/parsed-processed-input.yaml -o ./output_dir/ -v\n"
     ]
    },
    {
     "name": "stderr",
     "output_type": "stream",
     "text": [
      "INFO:pytimeloop.accelergy_interface:Running Accelergy with command: accelergy /home/workspace/output_dir/parsed-processed-input.yaml -o ./output_dir/ -v\n"
     ]
    },
    {
     "name": "stdout",
     "output_type": "stream",
     "text": [
      "Adding energy and cycle stats for l28_conv5_stride2 occurence 1\n",
      "Running layer 29: l29-l33_conv5_stride1 which occurs 5 times\n",
      "[INFO] 2025-05-04 20:12:36,048 - pytimeloop.accelergy_interface - Running Accelergy with command: accelergy /home/workspace/output_dir/parsed-processed-input.yaml -o ./output_dir/ -v\n"
     ]
    },
    {
     "name": "stderr",
     "output_type": "stream",
     "text": [
      "INFO:pytimeloop.accelergy_interface:Running Accelergy with command: accelergy /home/workspace/output_dir/parsed-processed-input.yaml -o ./output_dir/ -v\n"
     ]
    },
    {
     "name": "stdout",
     "output_type": "stream",
     "text": [
      "Adding energy and cycle stats for l29-l33_conv5_stride1 occurence 1\n",
      "Adding energy and cycle stats for l29-l33_conv5_stride1 occurence 2\n",
      "Adding energy and cycle stats for l29-l33_conv5_stride1 occurence 3\n",
      "Adding energy and cycle stats for l29-l33_conv5_stride1 occurence 4\n",
      "Adding energy and cycle stats for l29-l33_conv5_stride1 occurence 5\n",
      "{'energy': [14632388.83, 8648271.99, 8648271.99, 8648271.99, 8648271.99, 8648271.99, 8648271.99, 4344588.26, 8632281.6, 8632281.6, 8632281.6, 8632281.6, 8632281.6, 8632281.6, 8632281.6, 4326669.48, 8625008.43, 8625008.43, 8625008.43, 8625008.43, 8625008.43, 8625008.43, 8625008.43, 8625008.43, 8625008.43, 8625008.43, 8625008.43, 4319018.87, 8624104.04, 8624104.04, 8624104.04, 8624104.04, 8624104.04], 'cycles': [944111616, 462422016, 462422016, 462422016, 462422016, 462422016, 462422016, 231211008, 462422016, 462422016, 462422016, 462422016, 462422016, 462422016, 462422016, 231211008, 462422016, 462422016, 462422016, 462422016, 462422016, 462422016, 462422016, 462422016, 462422016, 462422016, 462422016, 231211008, 462422016, 462422016, 462422016, 462422016, 462422016], 'tp': 1, 'star_hops': 0, 'ring_hops': 0, 'star_hop_energy': 0, 'ring_hop_energy': 0}\n",
      "==================================================\n",
      "Starting Timeloop with configuration:\n",
      "  - arch: Architecture.Tensor_Parallel\n",
      "  - scale: GPUMemoryScale.MEMORY_1024MB\n",
      "  - rack: RackSize.RACK_4\n",
      "  - peConfig: PEsConfig.PE_16\n",
      "==================================================\n",
      "Running layer 1: l1_conv1 which occurs 1 times\n",
      "[INFO] 2025-05-04 20:14:24,649 - pytimeloop.accelergy_interface - Running Accelergy with command: accelergy /home/workspace/output_dir/parsed-processed-input.yaml -o ./output_dir/ -v\n"
     ]
    },
    {
     "name": "stderr",
     "output_type": "stream",
     "text": [
      "INFO:pytimeloop.accelergy_interface:Running Accelergy with command: accelergy /home/workspace/output_dir/parsed-processed-input.yaml -o ./output_dir/ -v\n"
     ]
    },
    {
     "name": "stdout",
     "output_type": "stream",
     "text": [
      "Adding energy and cycle stats for l1_conv1 occurence 1\n",
      "Running layer 2: l2_conv2_stride2 which occurs 1 times\n",
      "[INFO] 2025-05-04 20:15:18,774 - pytimeloop.accelergy_interface - Running Accelergy with command: accelergy /home/workspace/output_dir/parsed-processed-input.yaml -o ./output_dir/ -v\n"
     ]
    },
    {
     "name": "stderr",
     "output_type": "stream",
     "text": [
      "INFO:pytimeloop.accelergy_interface:Running Accelergy with command: accelergy /home/workspace/output_dir/parsed-processed-input.yaml -o ./output_dir/ -v\n"
     ]
    },
    {
     "name": "stdout",
     "output_type": "stream",
     "text": [
      "Adding energy and cycle stats for l2_conv2_stride2 occurence 1\n",
      "Running layer 3: l3-l7_conv2_stride1 which occurs 5 times\n",
      "[INFO] 2025-05-04 20:16:57,514 - pytimeloop.accelergy_interface - Running Accelergy with command: accelergy /home/workspace/output_dir/parsed-processed-input.yaml -o ./output_dir/ -v\n"
     ]
    },
    {
     "name": "stderr",
     "output_type": "stream",
     "text": [
      "INFO:pytimeloop.accelergy_interface:Running Accelergy with command: accelergy /home/workspace/output_dir/parsed-processed-input.yaml -o ./output_dir/ -v\n"
     ]
    },
    {
     "name": "stdout",
     "output_type": "stream",
     "text": [
      "Adding energy and cycle stats for l3-l7_conv2_stride1 occurence 1\n",
      "Adding energy and cycle stats for l3-l7_conv2_stride1 occurence 2\n",
      "Adding energy and cycle stats for l3-l7_conv2_stride1 occurence 3\n",
      "Adding energy and cycle stats for l3-l7_conv2_stride1 occurence 4\n",
      "Adding energy and cycle stats for l3-l7_conv2_stride1 occurence 5\n",
      "Running layer 8: l8_conv3_stride2 which occurs 1 times\n",
      "[INFO] 2025-05-04 20:18:37,485 - pytimeloop.accelergy_interface - Running Accelergy with command: accelergy /home/workspace/output_dir/parsed-processed-input.yaml -o ./output_dir/ -v\n"
     ]
    },
    {
     "name": "stderr",
     "output_type": "stream",
     "text": [
      "INFO:pytimeloop.accelergy_interface:Running Accelergy with command: accelergy /home/workspace/output_dir/parsed-processed-input.yaml -o ./output_dir/ -v\n"
     ]
    },
    {
     "name": "stdout",
     "output_type": "stream",
     "text": [
      "Adding energy and cycle stats for l8_conv3_stride2 occurence 1\n",
      "Running layer 9: l9-l15_conv3_stride1 which occurs 7 times\n",
      "[INFO] 2025-05-04 20:19:53,006 - pytimeloop.accelergy_interface - Running Accelergy with command: accelergy /home/workspace/output_dir/parsed-processed-input.yaml -o ./output_dir/ -v\n"
     ]
    },
    {
     "name": "stderr",
     "output_type": "stream",
     "text": [
      "INFO:pytimeloop.accelergy_interface:Running Accelergy with command: accelergy /home/workspace/output_dir/parsed-processed-input.yaml -o ./output_dir/ -v\n"
     ]
    },
    {
     "name": "stdout",
     "output_type": "stream",
     "text": [
      "Adding energy and cycle stats for l9-l15_conv3_stride1 occurence 1\n",
      "Adding energy and cycle stats for l9-l15_conv3_stride1 occurence 2\n",
      "Adding energy and cycle stats for l9-l15_conv3_stride1 occurence 3\n",
      "Adding energy and cycle stats for l9-l15_conv3_stride1 occurence 4\n",
      "Adding energy and cycle stats for l9-l15_conv3_stride1 occurence 5\n",
      "Adding energy and cycle stats for l9-l15_conv3_stride1 occurence 6\n",
      "Adding energy and cycle stats for l9-l15_conv3_stride1 occurence 7\n",
      "Running layer 16: l16_conv4_stride2 which occurs 1 times\n",
      "[INFO] 2025-05-04 20:21:08,044 - pytimeloop.accelergy_interface - Running Accelergy with command: accelergy /home/workspace/output_dir/parsed-processed-input.yaml -o ./output_dir/ -v\n"
     ]
    },
    {
     "name": "stderr",
     "output_type": "stream",
     "text": [
      "INFO:pytimeloop.accelergy_interface:Running Accelergy with command: accelergy /home/workspace/output_dir/parsed-processed-input.yaml -o ./output_dir/ -v\n"
     ]
    },
    {
     "name": "stdout",
     "output_type": "stream",
     "text": [
      "Adding energy and cycle stats for l16_conv4_stride2 occurence 1\n",
      "Running layer 17: l17-l27_conv4_stride1 which occurs 11 times\n",
      "[INFO] 2025-05-04 20:22:35,362 - pytimeloop.accelergy_interface - Running Accelergy with command: accelergy /home/workspace/output_dir/parsed-processed-input.yaml -o ./output_dir/ -v\n"
     ]
    },
    {
     "name": "stderr",
     "output_type": "stream",
     "text": [
      "INFO:pytimeloop.accelergy_interface:Running Accelergy with command: accelergy /home/workspace/output_dir/parsed-processed-input.yaml -o ./output_dir/ -v\n"
     ]
    },
    {
     "name": "stdout",
     "output_type": "stream",
     "text": [
      "Adding energy and cycle stats for l17-l27_conv4_stride1 occurence 1\n",
      "Adding energy and cycle stats for l17-l27_conv4_stride1 occurence 2\n",
      "Adding energy and cycle stats for l17-l27_conv4_stride1 occurence 3\n",
      "Adding energy and cycle stats for l17-l27_conv4_stride1 occurence 4\n",
      "Adding energy and cycle stats for l17-l27_conv4_stride1 occurence 5\n",
      "Adding energy and cycle stats for l17-l27_conv4_stride1 occurence 6\n",
      "Adding energy and cycle stats for l17-l27_conv4_stride1 occurence 7\n",
      "Adding energy and cycle stats for l17-l27_conv4_stride1 occurence 8\n",
      "Adding energy and cycle stats for l17-l27_conv4_stride1 occurence 9\n",
      "Adding energy and cycle stats for l17-l27_conv4_stride1 occurence 10\n",
      "Adding energy and cycle stats for l17-l27_conv4_stride1 occurence 11\n",
      "Running layer 28: l28_conv5_stride2 which occurs 1 times\n",
      "[INFO] 2025-05-04 20:24:16,345 - pytimeloop.accelergy_interface - Running Accelergy with command: accelergy /home/workspace/output_dir/parsed-processed-input.yaml -o ./output_dir/ -v\n"
     ]
    },
    {
     "name": "stderr",
     "output_type": "stream",
     "text": [
      "INFO:pytimeloop.accelergy_interface:Running Accelergy with command: accelergy /home/workspace/output_dir/parsed-processed-input.yaml -o ./output_dir/ -v\n"
     ]
    },
    {
     "name": "stdout",
     "output_type": "stream",
     "text": [
      "Adding energy and cycle stats for l28_conv5_stride2 occurence 1\n",
      "Running layer 29: l29-l33_conv5_stride1 which occurs 5 times\n",
      "[INFO] 2025-05-04 20:25:55,786 - pytimeloop.accelergy_interface - Running Accelergy with command: accelergy /home/workspace/output_dir/parsed-processed-input.yaml -o ./output_dir/ -v\n"
     ]
    },
    {
     "name": "stderr",
     "output_type": "stream",
     "text": [
      "INFO:pytimeloop.accelergy_interface:Running Accelergy with command: accelergy /home/workspace/output_dir/parsed-processed-input.yaml -o ./output_dir/ -v\n"
     ]
    },
    {
     "name": "stdout",
     "output_type": "stream",
     "text": [
      "Adding energy and cycle stats for l29-l33_conv5_stride1 occurence 1\n",
      "Adding energy and cycle stats for l29-l33_conv5_stride1 occurence 2\n",
      "Adding energy and cycle stats for l29-l33_conv5_stride1 occurence 3\n",
      "Adding energy and cycle stats for l29-l33_conv5_stride1 occurence 4\n",
      "Adding energy and cycle stats for l29-l33_conv5_stride1 occurence 5\n",
      "{'energy': [5368162.68, 4345494.54, 4345494.54, 4345494.54, 4345494.54, 4345494.54, 4345494.54, 2193199.59, 4329508.24, 4329508.24, 4329508.24, 4329508.24, 4329508.24, 4329508.24, 4329508.24, 2175282.59, 4322236.49, 4322236.49, 4322236.49, 4322236.49, 4322236.49, 4322236.49, 4322236.49, 4322236.49, 4322236.49, 4322236.49, 4322236.49, 2167631.75, 4321333.03, 4321333.03, 4321333.03, 4321333.03, 4321333.03], 'cycles': [157351936, 115605504, 115605504, 115605504, 115605504, 115605504, 115605504, 57802752, 115605504, 115605504, 115605504, 115605504, 115605504, 115605504, 115605504, 57802752, 115605504, 115605504, 115605504, 115605504, 115605504, 115605504, 115605504, 115605504, 115605504, 115605504, 115605504, 57802752, 115605504, 115605504, 115605504, 115605504, 115605504], 'tp': 1, 'star_hops': 0, 'ring_hops': 0, 'star_hop_energy': 0, 'ring_hop_energy': 0}\n",
      "==================================================\n",
      "Starting Timeloop with configuration:\n",
      "  - arch: Architecture.Tensor_Parallel\n",
      "  - scale: GPUMemoryScale.MEMORY_4MB\n",
      "  - rack: RackSize.RACK_8\n",
      "  - peConfig: PEsConfig.PE_1\n",
      "==================================================\n",
      "Running layer 1: l1_conv1 which occurs 1 times\n",
      "[INFO] 2025-05-04 20:27:33,607 - pytimeloop.accelergy_interface - Running Accelergy with command: accelergy /home/workspace/output_dir/parsed-processed-input.yaml -o ./output_dir/ -v\n"
     ]
    },
    {
     "name": "stderr",
     "output_type": "stream",
     "text": [
      "INFO:pytimeloop.accelergy_interface:Running Accelergy with command: accelergy /home/workspace/output_dir/parsed-processed-input.yaml -o ./output_dir/ -v\n"
     ]
    },
    {
     "name": "stdout",
     "output_type": "stream",
     "text": [
      "Error running layer l1_conv1: \n",
      "\n",
      "========================================================================================================================\n",
      "Timeloop mapper failed with return code 0. Please check the output files in ./output_dir for more information. To debug, you can edit the file:\n",
      "\t./output_dir/parsed-processed-input.yaml\n",
      "and run \n",
      "\ttl mapper ./output_dir/parsed-processed-input.yaml\n",
      "to see the error. If you're running the mapper and Timeloop can't find a vaild mapping, try setting 'diagnostics: true' in the mapper input specification.\n",
      "Running layer 1: l2_conv2_stride2 which occurs 1 times\n",
      "Running layer 1: l3-l7_conv2_stride1 which occurs 5 times\n",
      "Running layer 1: l8_conv3_stride2 which occurs 1 times\n",
      "Running layer 1: l9-l15_conv3_stride1 which occurs 7 times\n",
      "Running layer 1: l16_conv4_stride2 which occurs 1 times\n",
      "Running layer 1: l17-l27_conv4_stride1 which occurs 11 times\n",
      "Running layer 1: l28_conv5_stride2 which occurs 1 times\n",
      "Running layer 1: l29-l33_conv5_stride1 which occurs 5 times\n",
      "{'energy': [-1, -1, -1, -1, -1, -1, -1, -1, -1, -1, -1, -1, -1, -1, -1, -1, -1, -1, -1, -1, -1, -1, -1, -1, -1, -1, -1, -1, -1, -1, -1, -1, -1], 'cycles': [-1, -1, -1, -1, -1, -1, -1, -1, -1, -1, -1, -1, -1, -1, -1, -1, -1, -1, -1, -1, -1, -1, -1, -1, -1, -1, -1, -1, -1, -1, -1, -1, -1], 'tp': -1, 'star_hops': 0, 'ring_hops': 0, 'star_hop_energy': 0, 'ring_hop_energy': 0}\n",
      "==================================================\n",
      "Starting Timeloop with configuration:\n",
      "  - arch: Architecture.Tensor_Parallel\n",
      "  - scale: GPUMemoryScale.MEMORY_4MB\n",
      "  - rack: RackSize.RACK_8\n",
      "  - peConfig: PEsConfig.PE_4\n",
      "==================================================\n",
      "Running layer 1: l1_conv1 which occurs 1 times\n",
      "[INFO] 2025-05-04 20:27:52,945 - pytimeloop.accelergy_interface - Running Accelergy with command: accelergy /home/workspace/output_dir/parsed-processed-input.yaml -o ./output_dir/ -v\n"
     ]
    },
    {
     "name": "stderr",
     "output_type": "stream",
     "text": [
      "INFO:pytimeloop.accelergy_interface:Running Accelergy with command: accelergy /home/workspace/output_dir/parsed-processed-input.yaml -o ./output_dir/ -v\n"
     ]
    },
    {
     "name": "stdout",
     "output_type": "stream",
     "text": [
      "Error running layer l1_conv1: \n",
      "\n",
      "========================================================================================================================\n",
      "Timeloop mapper failed with return code 0. Please check the output files in ./output_dir for more information. To debug, you can edit the file:\n",
      "\t./output_dir/parsed-processed-input.yaml\n",
      "and run \n",
      "\ttl mapper ./output_dir/parsed-processed-input.yaml\n",
      "to see the error. If you're running the mapper and Timeloop can't find a vaild mapping, try setting 'diagnostics: true' in the mapper input specification.\n",
      "Running layer 1: l2_conv2_stride2 which occurs 1 times\n",
      "Running layer 1: l3-l7_conv2_stride1 which occurs 5 times\n",
      "Running layer 1: l8_conv3_stride2 which occurs 1 times\n",
      "Running layer 1: l9-l15_conv3_stride1 which occurs 7 times\n",
      "Running layer 1: l16_conv4_stride2 which occurs 1 times\n",
      "Running layer 1: l17-l27_conv4_stride1 which occurs 11 times\n",
      "Running layer 1: l28_conv5_stride2 which occurs 1 times\n",
      "Running layer 1: l29-l33_conv5_stride1 which occurs 5 times\n",
      "{'energy': [-1, -1, -1, -1, -1, -1, -1, -1, -1, -1, -1, -1, -1, -1, -1, -1, -1, -1, -1, -1, -1, -1, -1, -1, -1, -1, -1, -1, -1, -1, -1, -1, -1], 'cycles': [-1, -1, -1, -1, -1, -1, -1, -1, -1, -1, -1, -1, -1, -1, -1, -1, -1, -1, -1, -1, -1, -1, -1, -1, -1, -1, -1, -1, -1, -1, -1, -1, -1], 'tp': -1, 'star_hops': 0, 'ring_hops': 0, 'star_hop_energy': 0, 'ring_hop_energy': 0}\n",
      "==================================================\n",
      "Starting Timeloop with configuration:\n",
      "  - arch: Architecture.Tensor_Parallel\n",
      "  - scale: GPUMemoryScale.MEMORY_4MB\n",
      "  - rack: RackSize.RACK_8\n",
      "  - peConfig: PEsConfig.PE_16\n",
      "==================================================\n",
      "Running layer 1: l1_conv1 which occurs 1 times\n",
      "[INFO] 2025-05-04 20:28:12,533 - pytimeloop.accelergy_interface - Running Accelergy with command: accelergy /home/workspace/output_dir/parsed-processed-input.yaml -o ./output_dir/ -v\n"
     ]
    },
    {
     "name": "stderr",
     "output_type": "stream",
     "text": [
      "INFO:pytimeloop.accelergy_interface:Running Accelergy with command: accelergy /home/workspace/output_dir/parsed-processed-input.yaml -o ./output_dir/ -v\n"
     ]
    },
    {
     "name": "stdout",
     "output_type": "stream",
     "text": [
      "Error running layer l1_conv1: \n",
      "\n",
      "========================================================================================================================\n",
      "Timeloop mapper failed with return code 0. Please check the output files in ./output_dir for more information. To debug, you can edit the file:\n",
      "\t./output_dir/parsed-processed-input.yaml\n",
      "and run \n",
      "\ttl mapper ./output_dir/parsed-processed-input.yaml\n",
      "to see the error. If you're running the mapper and Timeloop can't find a vaild mapping, try setting 'diagnostics: true' in the mapper input specification.\n",
      "Running layer 1: l2_conv2_stride2 which occurs 1 times\n",
      "Running layer 1: l3-l7_conv2_stride1 which occurs 5 times\n",
      "Running layer 1: l8_conv3_stride2 which occurs 1 times\n",
      "Running layer 1: l9-l15_conv3_stride1 which occurs 7 times\n",
      "Running layer 1: l16_conv4_stride2 which occurs 1 times\n",
      "Running layer 1: l17-l27_conv4_stride1 which occurs 11 times\n",
      "Running layer 1: l28_conv5_stride2 which occurs 1 times\n",
      "Running layer 1: l29-l33_conv5_stride1 which occurs 5 times\n",
      "{'energy': [-1, -1, -1, -1, -1, -1, -1, -1, -1, -1, -1, -1, -1, -1, -1, -1, -1, -1, -1, -1, -1, -1, -1, -1, -1, -1, -1, -1, -1, -1, -1, -1, -1], 'cycles': [-1, -1, -1, -1, -1, -1, -1, -1, -1, -1, -1, -1, -1, -1, -1, -1, -1, -1, -1, -1, -1, -1, -1, -1, -1, -1, -1, -1, -1, -1, -1, -1, -1], 'tp': -1, 'star_hops': 0, 'ring_hops': 0, 'star_hop_energy': 0, 'ring_hop_energy': 0}\n",
      "==================================================\n",
      "Starting Timeloop with configuration:\n",
      "  - arch: Architecture.Tensor_Parallel\n",
      "  - scale: GPUMemoryScale.MEMORY_16MB\n",
      "  - rack: RackSize.RACK_8\n",
      "  - peConfig: PEsConfig.PE_1\n",
      "==================================================\n",
      "Running layer 1: l1_conv1 which occurs 1 times\n",
      "[INFO] 2025-05-04 20:28:32,208 - pytimeloop.accelergy_interface - Running Accelergy with command: accelergy /home/workspace/output_dir/parsed-processed-input.yaml -o ./output_dir/ -v\n"
     ]
    },
    {
     "name": "stderr",
     "output_type": "stream",
     "text": [
      "INFO:pytimeloop.accelergy_interface:Running Accelergy with command: accelergy /home/workspace/output_dir/parsed-processed-input.yaml -o ./output_dir/ -v\n"
     ]
    },
    {
     "name": "stdout",
     "output_type": "stream",
     "text": [
      "Adding energy and cycle stats for l1_conv1 occurence 1\n",
      "Running layer 2: l2_conv2_stride2 which occurs 1 times\n",
      "[INFO] 2025-05-04 20:29:10,510 - pytimeloop.accelergy_interface - Running Accelergy with command: accelergy /home/workspace/output_dir/parsed-processed-input.yaml -o ./output_dir/ -v\n"
     ]
    },
    {
     "name": "stderr",
     "output_type": "stream",
     "text": [
      "INFO:pytimeloop.accelergy_interface:Running Accelergy with command: accelergy /home/workspace/output_dir/parsed-processed-input.yaml -o ./output_dir/ -v\n"
     ]
    },
    {
     "name": "stdout",
     "output_type": "stream",
     "text": [
      "Adding energy and cycle stats for l2_conv2_stride2 occurence 1\n",
      "Running layer 3: l3-l7_conv2_stride1 which occurs 5 times\n",
      "[INFO] 2025-05-04 20:30:34,922 - pytimeloop.accelergy_interface - Running Accelergy with command: accelergy /home/workspace/output_dir/parsed-processed-input.yaml -o ./output_dir/ -v\n"
     ]
    },
    {
     "name": "stderr",
     "output_type": "stream",
     "text": [
      "INFO:pytimeloop.accelergy_interface:Running Accelergy with command: accelergy /home/workspace/output_dir/parsed-processed-input.yaml -o ./output_dir/ -v\n"
     ]
    },
    {
     "name": "stdout",
     "output_type": "stream",
     "text": [
      "Adding energy and cycle stats for l3-l7_conv2_stride1 occurence 1\n",
      "Adding energy and cycle stats for l3-l7_conv2_stride1 occurence 2\n",
      "Adding energy and cycle stats for l3-l7_conv2_stride1 occurence 3\n",
      "Adding energy and cycle stats for l3-l7_conv2_stride1 occurence 4\n",
      "Adding energy and cycle stats for l3-l7_conv2_stride1 occurence 5\n",
      "Running layer 8: l8_conv3_stride2 which occurs 1 times\n",
      "[INFO] 2025-05-04 20:31:57,465 - pytimeloop.accelergy_interface - Running Accelergy with command: accelergy /home/workspace/output_dir/parsed-processed-input.yaml -o ./output_dir/ -v\n"
     ]
    },
    {
     "name": "stderr",
     "output_type": "stream",
     "text": [
      "INFO:pytimeloop.accelergy_interface:Running Accelergy with command: accelergy /home/workspace/output_dir/parsed-processed-input.yaml -o ./output_dir/ -v\n"
     ]
    },
    {
     "name": "stdout",
     "output_type": "stream",
     "text": [
      "Adding energy and cycle stats for l8_conv3_stride2 occurence 1\n",
      "Running layer 9: l9-l15_conv3_stride1 which occurs 7 times\n",
      "[INFO] 2025-05-04 20:33:11,902 - pytimeloop.accelergy_interface - Running Accelergy with command: accelergy /home/workspace/output_dir/parsed-processed-input.yaml -o ./output_dir/ -v\n"
     ]
    },
    {
     "name": "stderr",
     "output_type": "stream",
     "text": [
      "INFO:pytimeloop.accelergy_interface:Running Accelergy with command: accelergy /home/workspace/output_dir/parsed-processed-input.yaml -o ./output_dir/ -v\n"
     ]
    },
    {
     "name": "stdout",
     "output_type": "stream",
     "text": [
      "Adding energy and cycle stats for l9-l15_conv3_stride1 occurence 1\n",
      "Adding energy and cycle stats for l9-l15_conv3_stride1 occurence 2\n",
      "Adding energy and cycle stats for l9-l15_conv3_stride1 occurence 3\n",
      "Adding energy and cycle stats for l9-l15_conv3_stride1 occurence 4\n",
      "Adding energy and cycle stats for l9-l15_conv3_stride1 occurence 5\n",
      "Adding energy and cycle stats for l9-l15_conv3_stride1 occurence 6\n",
      "Adding energy and cycle stats for l9-l15_conv3_stride1 occurence 7\n",
      "Running layer 16: l16_conv4_stride2 which occurs 1 times\n",
      "[INFO] 2025-05-04 20:34:15,970 - pytimeloop.accelergy_interface - Running Accelergy with command: accelergy /home/workspace/output_dir/parsed-processed-input.yaml -o ./output_dir/ -v\n"
     ]
    },
    {
     "name": "stderr",
     "output_type": "stream",
     "text": [
      "INFO:pytimeloop.accelergy_interface:Running Accelergy with command: accelergy /home/workspace/output_dir/parsed-processed-input.yaml -o ./output_dir/ -v\n"
     ]
    },
    {
     "name": "stdout",
     "output_type": "stream",
     "text": [
      "Adding energy and cycle stats for l16_conv4_stride2 occurence 1\n",
      "Running layer 17: l17-l27_conv4_stride1 which occurs 11 times\n",
      "[INFO] 2025-05-04 20:35:21,366 - pytimeloop.accelergy_interface - Running Accelergy with command: accelergy /home/workspace/output_dir/parsed-processed-input.yaml -o ./output_dir/ -v\n"
     ]
    },
    {
     "name": "stderr",
     "output_type": "stream",
     "text": [
      "INFO:pytimeloop.accelergy_interface:Running Accelergy with command: accelergy /home/workspace/output_dir/parsed-processed-input.yaml -o ./output_dir/ -v\n"
     ]
    },
    {
     "name": "stdout",
     "output_type": "stream",
     "text": [
      "Adding energy and cycle stats for l17-l27_conv4_stride1 occurence 1\n",
      "Adding energy and cycle stats for l17-l27_conv4_stride1 occurence 2\n",
      "Adding energy and cycle stats for l17-l27_conv4_stride1 occurence 3\n",
      "Adding energy and cycle stats for l17-l27_conv4_stride1 occurence 4\n",
      "Adding energy and cycle stats for l17-l27_conv4_stride1 occurence 5\n",
      "Adding energy and cycle stats for l17-l27_conv4_stride1 occurence 6\n",
      "Adding energy and cycle stats for l17-l27_conv4_stride1 occurence 7\n",
      "Adding energy and cycle stats for l17-l27_conv4_stride1 occurence 8\n",
      "Adding energy and cycle stats for l17-l27_conv4_stride1 occurence 9\n",
      "Adding energy and cycle stats for l17-l27_conv4_stride1 occurence 10\n",
      "Adding energy and cycle stats for l17-l27_conv4_stride1 occurence 11\n",
      "Running layer 28: l28_conv5_stride2 which occurs 1 times\n",
      "[INFO] 2025-05-04 20:36:32,211 - pytimeloop.accelergy_interface - Running Accelergy with command: accelergy /home/workspace/output_dir/parsed-processed-input.yaml -o ./output_dir/ -v\n"
     ]
    },
    {
     "name": "stderr",
     "output_type": "stream",
     "text": [
      "INFO:pytimeloop.accelergy_interface:Running Accelergy with command: accelergy /home/workspace/output_dir/parsed-processed-input.yaml -o ./output_dir/ -v\n"
     ]
    },
    {
     "name": "stdout",
     "output_type": "stream",
     "text": [
      "Adding energy and cycle stats for l28_conv5_stride2 occurence 1\n",
      "Running layer 29: l29-l33_conv5_stride1 which occurs 5 times\n",
      "[INFO] 2025-05-04 20:37:54,887 - pytimeloop.accelergy_interface - Running Accelergy with command: accelergy /home/workspace/output_dir/parsed-processed-input.yaml -o ./output_dir/ -v\n"
     ]
    },
    {
     "name": "stderr",
     "output_type": "stream",
     "text": [
      "INFO:pytimeloop.accelergy_interface:Running Accelergy with command: accelergy /home/workspace/output_dir/parsed-processed-input.yaml -o ./output_dir/ -v\n"
     ]
    },
    {
     "name": "stdout",
     "output_type": "stream",
     "text": [
      "Adding energy and cycle stats for l29-l33_conv5_stride1 occurence 1\n",
      "Adding energy and cycle stats for l29-l33_conv5_stride1 occurence 2\n",
      "Adding energy and cycle stats for l29-l33_conv5_stride1 occurence 3\n",
      "Adding energy and cycle stats for l29-l33_conv5_stride1 occurence 4\n",
      "Adding energy and cycle stats for l29-l33_conv5_stride1 occurence 5\n",
      "{'energy': [1692788.78, 1652109.46, 1652109.46, 1652109.46, 1652109.46, 1652109.46, 1652109.46, 830503.86, 1647366.28, 1647366.28, 1647366.28, 1647366.28, 1647366.28, 1647366.28, 1647366.28, 825956.33, 1645117.62, 1645117.62, 1645117.62, 1645117.62, 1645117.62, 1645117.62, 1645117.62, 1645117.62, 1645117.62, 1645117.62, 1645117.62, 823898.78, 1644450.97, 1644450.97, 1644450.97, 1644450.97, 1644450.97], 'cycles': [944111616, 924844032, 924844032, 924844032, 924844032, 924844032, 924844032, 462422016, 924844032, 924844032, 924844032, 924844032, 924844032, 924844032, 924844032, 462422016, 924844032, 924844032, 924844032, 924844032, 924844032, 924844032, 924844032, 924844032, 924844032, 924844032, 924844032, 462422016, 924844032, 924844032, 924844032, 924844032, 924844032], 'tp': 1, 'star_hops': 0, 'ring_hops': 0, 'star_hop_energy': 0, 'ring_hop_energy': 0}\n",
      "==================================================\n",
      "Starting Timeloop with configuration:\n",
      "  - arch: Architecture.Tensor_Parallel\n",
      "  - scale: GPUMemoryScale.MEMORY_16MB\n",
      "  - rack: RackSize.RACK_8\n",
      "  - peConfig: PEsConfig.PE_4\n",
      "==================================================\n",
      "Running layer 1: l1_conv1 which occurs 1 times\n",
      "[INFO] 2025-05-04 20:39:12,488 - pytimeloop.accelergy_interface - Running Accelergy with command: accelergy /home/workspace/output_dir/parsed-processed-input.yaml -o ./output_dir/ -v\n"
     ]
    },
    {
     "name": "stderr",
     "output_type": "stream",
     "text": [
      "INFO:pytimeloop.accelergy_interface:Running Accelergy with command: accelergy /home/workspace/output_dir/parsed-processed-input.yaml -o ./output_dir/ -v\n"
     ]
    },
    {
     "name": "stdout",
     "output_type": "stream",
     "text": [
      "Adding energy and cycle stats for l1_conv1 occurence 1\n",
      "Running layer 2: l2_conv2_stride2 which occurs 1 times\n",
      "[INFO] 2025-05-04 20:39:57,362 - pytimeloop.accelergy_interface - Running Accelergy with command: accelergy /home/workspace/output_dir/parsed-processed-input.yaml -o ./output_dir/ -v\n"
     ]
    },
    {
     "name": "stderr",
     "output_type": "stream",
     "text": [
      "INFO:pytimeloop.accelergy_interface:Running Accelergy with command: accelergy /home/workspace/output_dir/parsed-processed-input.yaml -o ./output_dir/ -v\n"
     ]
    },
    {
     "name": "stdout",
     "output_type": "stream",
     "text": [
      "Adding energy and cycle stats for l2_conv2_stride2 occurence 1\n",
      "Running layer 3: l3-l7_conv2_stride1 which occurs 5 times\n",
      "[INFO] 2025-05-04 20:41:38,557 - pytimeloop.accelergy_interface - Running Accelergy with command: accelergy /home/workspace/output_dir/parsed-processed-input.yaml -o ./output_dir/ -v\n"
     ]
    },
    {
     "name": "stderr",
     "output_type": "stream",
     "text": [
      "INFO:pytimeloop.accelergy_interface:Running Accelergy with command: accelergy /home/workspace/output_dir/parsed-processed-input.yaml -o ./output_dir/ -v\n"
     ]
    },
    {
     "name": "stdout",
     "output_type": "stream",
     "text": [
      "Adding energy and cycle stats for l3-l7_conv2_stride1 occurence 1\n",
      "Adding energy and cycle stats for l3-l7_conv2_stride1 occurence 2\n",
      "Adding energy and cycle stats for l3-l7_conv2_stride1 occurence 3\n",
      "Adding energy and cycle stats for l3-l7_conv2_stride1 occurence 4\n",
      "Adding energy and cycle stats for l3-l7_conv2_stride1 occurence 5\n",
      "Running layer 8: l8_conv3_stride2 which occurs 1 times\n",
      "[INFO] 2025-05-04 20:43:23,353 - pytimeloop.accelergy_interface - Running Accelergy with command: accelergy /home/workspace/output_dir/parsed-processed-input.yaml -o ./output_dir/ -v\n"
     ]
    },
    {
     "name": "stderr",
     "output_type": "stream",
     "text": [
      "INFO:pytimeloop.accelergy_interface:Running Accelergy with command: accelergy /home/workspace/output_dir/parsed-processed-input.yaml -o ./output_dir/ -v\n"
     ]
    },
    {
     "name": "stdout",
     "output_type": "stream",
     "text": [
      "Adding energy and cycle stats for l8_conv3_stride2 occurence 1\n",
      "Running layer 9: l9-l15_conv3_stride1 which occurs 7 times\n",
      "[INFO] 2025-05-04 20:45:03,188 - pytimeloop.accelergy_interface - Running Accelergy with command: accelergy /home/workspace/output_dir/parsed-processed-input.yaml -o ./output_dir/ -v\n"
     ]
    },
    {
     "name": "stderr",
     "output_type": "stream",
     "text": [
      "INFO:pytimeloop.accelergy_interface:Running Accelergy with command: accelergy /home/workspace/output_dir/parsed-processed-input.yaml -o ./output_dir/ -v\n"
     ]
    },
    {
     "name": "stdout",
     "output_type": "stream",
     "text": [
      "Adding energy and cycle stats for l9-l15_conv3_stride1 occurence 1\n",
      "Adding energy and cycle stats for l9-l15_conv3_stride1 occurence 2\n",
      "Adding energy and cycle stats for l9-l15_conv3_stride1 occurence 3\n",
      "Adding energy and cycle stats for l9-l15_conv3_stride1 occurence 4\n",
      "Adding energy and cycle stats for l9-l15_conv3_stride1 occurence 5\n",
      "Adding energy and cycle stats for l9-l15_conv3_stride1 occurence 6\n",
      "Adding energy and cycle stats for l9-l15_conv3_stride1 occurence 7\n",
      "Running layer 16: l16_conv4_stride2 which occurs 1 times\n",
      "[INFO] 2025-05-04 20:46:28,884 - pytimeloop.accelergy_interface - Running Accelergy with command: accelergy /home/workspace/output_dir/parsed-processed-input.yaml -o ./output_dir/ -v\n"
     ]
    },
    {
     "name": "stderr",
     "output_type": "stream",
     "text": [
      "INFO:pytimeloop.accelergy_interface:Running Accelergy with command: accelergy /home/workspace/output_dir/parsed-processed-input.yaml -o ./output_dir/ -v\n"
     ]
    },
    {
     "name": "stdout",
     "output_type": "stream",
     "text": [
      "Adding energy and cycle stats for l16_conv4_stride2 occurence 1\n",
      "Running layer 17: l17-l27_conv4_stride1 which occurs 11 times\n",
      "[INFO] 2025-05-04 20:47:40,579 - pytimeloop.accelergy_interface - Running Accelergy with command: accelergy /home/workspace/output_dir/parsed-processed-input.yaml -o ./output_dir/ -v\n"
     ]
    },
    {
     "name": "stderr",
     "output_type": "stream",
     "text": [
      "INFO:pytimeloop.accelergy_interface:Running Accelergy with command: accelergy /home/workspace/output_dir/parsed-processed-input.yaml -o ./output_dir/ -v\n"
     ]
    },
    {
     "name": "stdout",
     "output_type": "stream",
     "text": [
      "Adding energy and cycle stats for l17-l27_conv4_stride1 occurence 1\n",
      "Adding energy and cycle stats for l17-l27_conv4_stride1 occurence 2\n",
      "Adding energy and cycle stats for l17-l27_conv4_stride1 occurence 3\n",
      "Adding energy and cycle stats for l17-l27_conv4_stride1 occurence 4\n",
      "Adding energy and cycle stats for l17-l27_conv4_stride1 occurence 5\n",
      "Adding energy and cycle stats for l17-l27_conv4_stride1 occurence 6\n",
      "Adding energy and cycle stats for l17-l27_conv4_stride1 occurence 7\n",
      "Adding energy and cycle stats for l17-l27_conv4_stride1 occurence 8\n",
      "Adding energy and cycle stats for l17-l27_conv4_stride1 occurence 9\n",
      "Adding energy and cycle stats for l17-l27_conv4_stride1 occurence 10\n",
      "Adding energy and cycle stats for l17-l27_conv4_stride1 occurence 11\n",
      "Running layer 28: l28_conv5_stride2 which occurs 1 times\n",
      "[INFO] 2025-05-04 20:49:02,619 - pytimeloop.accelergy_interface - Running Accelergy with command: accelergy /home/workspace/output_dir/parsed-processed-input.yaml -o ./output_dir/ -v\n"
     ]
    },
    {
     "name": "stderr",
     "output_type": "stream",
     "text": [
      "INFO:pytimeloop.accelergy_interface:Running Accelergy with command: accelergy /home/workspace/output_dir/parsed-processed-input.yaml -o ./output_dir/ -v\n"
     ]
    },
    {
     "name": "stdout",
     "output_type": "stream",
     "text": [
      "Adding energy and cycle stats for l28_conv5_stride2 occurence 1\n",
      "Running layer 29: l29-l33_conv5_stride1 which occurs 5 times\n",
      "[INFO] 2025-05-04 20:50:44,166 - pytimeloop.accelergy_interface - Running Accelergy with command: accelergy /home/workspace/output_dir/parsed-processed-input.yaml -o ./output_dir/ -v\n"
     ]
    },
    {
     "name": "stderr",
     "output_type": "stream",
     "text": [
      "INFO:pytimeloop.accelergy_interface:Running Accelergy with command: accelergy /home/workspace/output_dir/parsed-processed-input.yaml -o ./output_dir/ -v\n"
     ]
    },
    {
     "name": "stdout",
     "output_type": "stream",
     "text": [
      "Adding energy and cycle stats for l29-l33_conv5_stride1 occurence 1\n",
      "Adding energy and cycle stats for l29-l33_conv5_stride1 occurence 2\n",
      "Adding energy and cycle stats for l29-l33_conv5_stride1 occurence 3\n",
      "Adding energy and cycle stats for l29-l33_conv5_stride1 occurence 4\n",
      "Adding energy and cycle stats for l29-l33_conv5_stride1 occurence 5\n",
      "{'energy': [1413672.65, 845754.67, 845754.67, 845754.67, 845754.67, 845754.67, 845754.67, 427326.27, 841013.53, 841013.53, 841013.53, 841013.53, 841013.53, 841013.53, 841013.53, 422780.74, 838767.38, 838767.38, 838767.38, 838767.38, 838767.38, 838767.38, 838767.38, 838767.38, 838767.38, 838767.38, 838767.38, 420723.94, 838099.45, 838099.45, 838099.45, 838099.45, 838099.45], 'cycles': [472055808, 231211008, 231211008, 231211008, 231211008, 231211008, 231211008, 115605504, 231211008, 231211008, 231211008, 231211008, 231211008, 231211008, 231211008, 115605504, 231211008, 231211008, 231211008, 231211008, 231211008, 231211008, 231211008, 231211008, 231211008, 231211008, 231211008, 115605504, 231211008, 231211008, 231211008, 231211008, 231211008], 'tp': 1, 'star_hops': 0, 'ring_hops': 0, 'star_hop_energy': 0, 'ring_hop_energy': 0}\n",
      "==================================================\n",
      "Starting Timeloop with configuration:\n",
      "  - arch: Architecture.Tensor_Parallel\n",
      "  - scale: GPUMemoryScale.MEMORY_16MB\n",
      "  - rack: RackSize.RACK_8\n",
      "  - peConfig: PEsConfig.PE_16\n",
      "==================================================\n",
      "Running layer 1: l1_conv1 which occurs 1 times\n",
      "[INFO] 2025-05-04 20:52:32,450 - pytimeloop.accelergy_interface - Running Accelergy with command: accelergy /home/workspace/output_dir/parsed-processed-input.yaml -o ./output_dir/ -v\n"
     ]
    },
    {
     "name": "stderr",
     "output_type": "stream",
     "text": [
      "INFO:pytimeloop.accelergy_interface:Running Accelergy with command: accelergy /home/workspace/output_dir/parsed-processed-input.yaml -o ./output_dir/ -v\n"
     ]
    },
    {
     "name": "stdout",
     "output_type": "stream",
     "text": [
      "Adding energy and cycle stats for l1_conv1 occurence 1\n",
      "Running layer 2: l2_conv2_stride2 which occurs 1 times\n",
      "[INFO] 2025-05-04 20:53:18,284 - pytimeloop.accelergy_interface - Running Accelergy with command: accelergy /home/workspace/output_dir/parsed-processed-input.yaml -o ./output_dir/ -v\n"
     ]
    },
    {
     "name": "stderr",
     "output_type": "stream",
     "text": [
      "INFO:pytimeloop.accelergy_interface:Running Accelergy with command: accelergy /home/workspace/output_dir/parsed-processed-input.yaml -o ./output_dir/ -v\n"
     ]
    },
    {
     "name": "stdout",
     "output_type": "stream",
     "text": [
      "Adding energy and cycle stats for l2_conv2_stride2 occurence 1\n",
      "Running layer 3: l3-l7_conv2_stride1 which occurs 5 times\n",
      "[INFO] 2025-05-04 20:54:51,199 - pytimeloop.accelergy_interface - Running Accelergy with command: accelergy /home/workspace/output_dir/parsed-processed-input.yaml -o ./output_dir/ -v\n"
     ]
    },
    {
     "name": "stderr",
     "output_type": "stream",
     "text": [
      "INFO:pytimeloop.accelergy_interface:Running Accelergy with command: accelergy /home/workspace/output_dir/parsed-processed-input.yaml -o ./output_dir/ -v\n"
     ]
    },
    {
     "name": "stdout",
     "output_type": "stream",
     "text": [
      "Adding energy and cycle stats for l3-l7_conv2_stride1 occurence 1\n",
      "Adding energy and cycle stats for l3-l7_conv2_stride1 occurence 2\n",
      "Adding energy and cycle stats for l3-l7_conv2_stride1 occurence 3\n",
      "Adding energy and cycle stats for l3-l7_conv2_stride1 occurence 4\n",
      "Adding energy and cycle stats for l3-l7_conv2_stride1 occurence 5\n",
      "Running layer 8: l8_conv3_stride2 which occurs 1 times\n",
      "[INFO] 2025-05-04 20:56:37,090 - pytimeloop.accelergy_interface - Running Accelergy with command: accelergy /home/workspace/output_dir/parsed-processed-input.yaml -o ./output_dir/ -v\n"
     ]
    },
    {
     "name": "stderr",
     "output_type": "stream",
     "text": [
      "INFO:pytimeloop.accelergy_interface:Running Accelergy with command: accelergy /home/workspace/output_dir/parsed-processed-input.yaml -o ./output_dir/ -v\n"
     ]
    },
    {
     "name": "stdout",
     "output_type": "stream",
     "text": [
      "Adding energy and cycle stats for l8_conv3_stride2 occurence 1\n",
      "Running layer 9: l9-l15_conv3_stride1 which occurs 7 times\n",
      "[INFO] 2025-05-04 20:59:00,180 - pytimeloop.accelergy_interface - Running Accelergy with command: accelergy /home/workspace/output_dir/parsed-processed-input.yaml -o ./output_dir/ -v\n"
     ]
    },
    {
     "name": "stderr",
     "output_type": "stream",
     "text": [
      "INFO:pytimeloop.accelergy_interface:Running Accelergy with command: accelergy /home/workspace/output_dir/parsed-processed-input.yaml -o ./output_dir/ -v\n"
     ]
    },
    {
     "name": "stdout",
     "output_type": "stream",
     "text": [
      "Adding energy and cycle stats for l9-l15_conv3_stride1 occurence 1\n",
      "Adding energy and cycle stats for l9-l15_conv3_stride1 occurence 2\n",
      "Adding energy and cycle stats for l9-l15_conv3_stride1 occurence 3\n",
      "Adding energy and cycle stats for l9-l15_conv3_stride1 occurence 4\n",
      "Adding energy and cycle stats for l9-l15_conv3_stride1 occurence 5\n",
      "Adding energy and cycle stats for l9-l15_conv3_stride1 occurence 6\n",
      "Adding energy and cycle stats for l9-l15_conv3_stride1 occurence 7\n",
      "Running layer 16: l16_conv4_stride2 which occurs 1 times\n",
      "[INFO] 2025-05-04 21:00:21,244 - pytimeloop.accelergy_interface - Running Accelergy with command: accelergy /home/workspace/output_dir/parsed-processed-input.yaml -o ./output_dir/ -v\n"
     ]
    },
    {
     "name": "stderr",
     "output_type": "stream",
     "text": [
      "INFO:pytimeloop.accelergy_interface:Running Accelergy with command: accelergy /home/workspace/output_dir/parsed-processed-input.yaml -o ./output_dir/ -v\n"
     ]
    },
    {
     "name": "stdout",
     "output_type": "stream",
     "text": [
      "Adding energy and cycle stats for l16_conv4_stride2 occurence 1\n",
      "Running layer 17: l17-l27_conv4_stride1 which occurs 11 times\n",
      "[INFO] 2025-05-04 21:02:03,917 - pytimeloop.accelergy_interface - Running Accelergy with command: accelergy /home/workspace/output_dir/parsed-processed-input.yaml -o ./output_dir/ -v\n"
     ]
    },
    {
     "name": "stderr",
     "output_type": "stream",
     "text": [
      "INFO:pytimeloop.accelergy_interface:Running Accelergy with command: accelergy /home/workspace/output_dir/parsed-processed-input.yaml -o ./output_dir/ -v\n"
     ]
    },
    {
     "name": "stdout",
     "output_type": "stream",
     "text": [
      "Adding energy and cycle stats for l17-l27_conv4_stride1 occurence 1\n",
      "Adding energy and cycle stats for l17-l27_conv4_stride1 occurence 2\n",
      "Adding energy and cycle stats for l17-l27_conv4_stride1 occurence 3\n",
      "Adding energy and cycle stats for l17-l27_conv4_stride1 occurence 4\n",
      "Adding energy and cycle stats for l17-l27_conv4_stride1 occurence 5\n",
      "Adding energy and cycle stats for l17-l27_conv4_stride1 occurence 6\n",
      "Adding energy and cycle stats for l17-l27_conv4_stride1 occurence 7\n",
      "Adding energy and cycle stats for l17-l27_conv4_stride1 occurence 8\n",
      "Adding energy and cycle stats for l17-l27_conv4_stride1 occurence 9\n",
      "Adding energy and cycle stats for l17-l27_conv4_stride1 occurence 10\n",
      "Adding energy and cycle stats for l17-l27_conv4_stride1 occurence 11\n",
      "Running layer 28: l28_conv5_stride2 which occurs 1 times\n",
      "[INFO] 2025-05-04 21:03:38,665 - pytimeloop.accelergy_interface - Running Accelergy with command: accelergy /home/workspace/output_dir/parsed-processed-input.yaml -o ./output_dir/ -v\n"
     ]
    },
    {
     "name": "stderr",
     "output_type": "stream",
     "text": [
      "INFO:pytimeloop.accelergy_interface:Running Accelergy with command: accelergy /home/workspace/output_dir/parsed-processed-input.yaml -o ./output_dir/ -v\n"
     ]
    },
    {
     "name": "stdout",
     "output_type": "stream",
     "text": [
      "Adding energy and cycle stats for l28_conv5_stride2 occurence 1\n",
      "Running layer 29: l29-l33_conv5_stride1 which occurs 5 times\n",
      "[INFO] 2025-05-04 21:05:44,417 - pytimeloop.accelergy_interface - Running Accelergy with command: accelergy /home/workspace/output_dir/parsed-processed-input.yaml -o ./output_dir/ -v\n"
     ]
    },
    {
     "name": "stderr",
     "output_type": "stream",
     "text": [
      "INFO:pytimeloop.accelergy_interface:Running Accelergy with command: accelergy /home/workspace/output_dir/parsed-processed-input.yaml -o ./output_dir/ -v\n"
     ]
    },
    {
     "name": "stdout",
     "output_type": "stream",
     "text": [
      "Adding energy and cycle stats for l29-l33_conv5_stride1 occurence 1\n",
      "Adding energy and cycle stats for l29-l33_conv5_stride1 occurence 2\n",
      "Adding energy and cycle stats for l29-l33_conv5_stride1 occurence 3\n",
      "Adding energy and cycle stats for l29-l33_conv5_stride1 occurence 4\n",
      "Adding energy and cycle stats for l29-l33_conv5_stride1 occurence 5\n",
      "{'energy': [1274114.58, 443123.62, 443123.62, 443123.62, 443123.62, 443123.62, 443123.62, 226010.68, 438386.35, 438386.35, 438386.35, 438386.35, 438386.35, 438386.35, 438386.35, 221466.14, 436141.76, 436141.76, 436141.76, 436141.76, 436141.76, 436141.76, 436141.76, 436141.76, 436141.76, 436141.76, 436141.76, 219409.98, 435474.76, 435474.76, 435474.76, 435474.76, 435474.76], 'cycles': [236027904, 57802752, 57802752, 57802752, 57802752, 57802752, 57802752, 28901376, 57802752, 57802752, 57802752, 57802752, 57802752, 57802752, 57802752, 28901376, 57802752, 57802752, 57802752, 57802752, 57802752, 57802752, 57802752, 57802752, 57802752, 57802752, 57802752, 28901376, 57802752, 57802752, 57802752, 57802752, 57802752], 'tp': 1, 'star_hops': 0, 'ring_hops': 0, 'star_hop_energy': 0, 'ring_hop_energy': 0}\n",
      "==================================================\n",
      "Starting Timeloop with configuration:\n",
      "  - arch: Architecture.Tensor_Parallel\n",
      "  - scale: GPUMemoryScale.MEMORY_64MB\n",
      "  - rack: RackSize.RACK_8\n",
      "  - peConfig: PEsConfig.PE_1\n",
      "==================================================\n",
      "Running layer 1: l1_conv1 which occurs 1 times\n",
      "[INFO] 2025-05-04 21:07:39,953 - pytimeloop.accelergy_interface - Running Accelergy with command: accelergy /home/workspace/output_dir/parsed-processed-input.yaml -o ./output_dir/ -v\n"
     ]
    },
    {
     "name": "stderr",
     "output_type": "stream",
     "text": [
      "INFO:pytimeloop.accelergy_interface:Running Accelergy with command: accelergy /home/workspace/output_dir/parsed-processed-input.yaml -o ./output_dir/ -v\n"
     ]
    },
    {
     "name": "stdout",
     "output_type": "stream",
     "text": [
      "Adding energy and cycle stats for l1_conv1 occurence 1\n",
      "Running layer 2: l2_conv2_stride2 which occurs 1 times\n",
      "[INFO] 2025-05-04 21:08:34,138 - pytimeloop.accelergy_interface - Running Accelergy with command: accelergy /home/workspace/output_dir/parsed-processed-input.yaml -o ./output_dir/ -v\n"
     ]
    },
    {
     "name": "stderr",
     "output_type": "stream",
     "text": [
      "INFO:pytimeloop.accelergy_interface:Running Accelergy with command: accelergy /home/workspace/output_dir/parsed-processed-input.yaml -o ./output_dir/ -v\n"
     ]
    },
    {
     "name": "stdout",
     "output_type": "stream",
     "text": [
      "Adding energy and cycle stats for l2_conv2_stride2 occurence 1\n",
      "Running layer 3: l3-l7_conv2_stride1 which occurs 5 times\n",
      "[INFO] 2025-05-04 21:09:56,900 - pytimeloop.accelergy_interface - Running Accelergy with command: accelergy /home/workspace/output_dir/parsed-processed-input.yaml -o ./output_dir/ -v\n"
     ]
    },
    {
     "name": "stderr",
     "output_type": "stream",
     "text": [
      "INFO:pytimeloop.accelergy_interface:Running Accelergy with command: accelergy /home/workspace/output_dir/parsed-processed-input.yaml -o ./output_dir/ -v\n"
     ]
    },
    {
     "name": "stdout",
     "output_type": "stream",
     "text": [
      "Adding energy and cycle stats for l3-l7_conv2_stride1 occurence 1\n",
      "Adding energy and cycle stats for l3-l7_conv2_stride1 occurence 2\n",
      "Adding energy and cycle stats for l3-l7_conv2_stride1 occurence 3\n",
      "Adding energy and cycle stats for l3-l7_conv2_stride1 occurence 4\n",
      "Adding energy and cycle stats for l3-l7_conv2_stride1 occurence 5\n",
      "Running layer 8: l8_conv3_stride2 which occurs 1 times\n",
      "[INFO] 2025-05-04 21:11:18,673 - pytimeloop.accelergy_interface - Running Accelergy with command: accelergy /home/workspace/output_dir/parsed-processed-input.yaml -o ./output_dir/ -v\n"
     ]
    },
    {
     "name": "stderr",
     "output_type": "stream",
     "text": [
      "INFO:pytimeloop.accelergy_interface:Running Accelergy with command: accelergy /home/workspace/output_dir/parsed-processed-input.yaml -o ./output_dir/ -v\n"
     ]
    },
    {
     "name": "stdout",
     "output_type": "stream",
     "text": [
      "Adding energy and cycle stats for l8_conv3_stride2 occurence 1\n",
      "Running layer 9: l9-l15_conv3_stride1 which occurs 7 times\n",
      "[INFO] 2025-05-04 21:12:27,271 - pytimeloop.accelergy_interface - Running Accelergy with command: accelergy /home/workspace/output_dir/parsed-processed-input.yaml -o ./output_dir/ -v\n"
     ]
    },
    {
     "name": "stderr",
     "output_type": "stream",
     "text": [
      "INFO:pytimeloop.accelergy_interface:Running Accelergy with command: accelergy /home/workspace/output_dir/parsed-processed-input.yaml -o ./output_dir/ -v\n"
     ]
    },
    {
     "name": "stdout",
     "output_type": "stream",
     "text": [
      "Adding energy and cycle stats for l9-l15_conv3_stride1 occurence 1\n",
      "Adding energy and cycle stats for l9-l15_conv3_stride1 occurence 2\n",
      "Adding energy and cycle stats for l9-l15_conv3_stride1 occurence 3\n",
      "Adding energy and cycle stats for l9-l15_conv3_stride1 occurence 4\n",
      "Adding energy and cycle stats for l9-l15_conv3_stride1 occurence 5\n",
      "Adding energy and cycle stats for l9-l15_conv3_stride1 occurence 6\n",
      "Adding energy and cycle stats for l9-l15_conv3_stride1 occurence 7\n",
      "Running layer 16: l16_conv4_stride2 which occurs 1 times\n",
      "[INFO] 2025-05-04 21:13:31,601 - pytimeloop.accelergy_interface - Running Accelergy with command: accelergy /home/workspace/output_dir/parsed-processed-input.yaml -o ./output_dir/ -v\n"
     ]
    },
    {
     "name": "stderr",
     "output_type": "stream",
     "text": [
      "INFO:pytimeloop.accelergy_interface:Running Accelergy with command: accelergy /home/workspace/output_dir/parsed-processed-input.yaml -o ./output_dir/ -v\n"
     ]
    },
    {
     "name": "stdout",
     "output_type": "stream",
     "text": [
      "Adding energy and cycle stats for l16_conv4_stride2 occurence 1\n",
      "Running layer 17: l17-l27_conv4_stride1 which occurs 11 times\n",
      "[INFO] 2025-05-04 21:14:37,762 - pytimeloop.accelergy_interface - Running Accelergy with command: accelergy /home/workspace/output_dir/parsed-processed-input.yaml -o ./output_dir/ -v\n"
     ]
    },
    {
     "name": "stderr",
     "output_type": "stream",
     "text": [
      "INFO:pytimeloop.accelergy_interface:Running Accelergy with command: accelergy /home/workspace/output_dir/parsed-processed-input.yaml -o ./output_dir/ -v\n"
     ]
    },
    {
     "name": "stdout",
     "output_type": "stream",
     "text": [
      "Adding energy and cycle stats for l17-l27_conv4_stride1 occurence 1\n",
      "Adding energy and cycle stats for l17-l27_conv4_stride1 occurence 2\n",
      "Adding energy and cycle stats for l17-l27_conv4_stride1 occurence 3\n",
      "Adding energy and cycle stats for l17-l27_conv4_stride1 occurence 4\n",
      "Adding energy and cycle stats for l17-l27_conv4_stride1 occurence 5\n",
      "Adding energy and cycle stats for l17-l27_conv4_stride1 occurence 6\n",
      "Adding energy and cycle stats for l17-l27_conv4_stride1 occurence 7\n",
      "Adding energy and cycle stats for l17-l27_conv4_stride1 occurence 8\n",
      "Adding energy and cycle stats for l17-l27_conv4_stride1 occurence 9\n",
      "Adding energy and cycle stats for l17-l27_conv4_stride1 occurence 10\n",
      "Adding energy and cycle stats for l17-l27_conv4_stride1 occurence 11\n",
      "Running layer 28: l28_conv5_stride2 which occurs 1 times\n",
      "[INFO] 2025-05-04 21:15:48,909 - pytimeloop.accelergy_interface - Running Accelergy with command: accelergy /home/workspace/output_dir/parsed-processed-input.yaml -o ./output_dir/ -v\n"
     ]
    },
    {
     "name": "stderr",
     "output_type": "stream",
     "text": [
      "INFO:pytimeloop.accelergy_interface:Running Accelergy with command: accelergy /home/workspace/output_dir/parsed-processed-input.yaml -o ./output_dir/ -v\n"
     ]
    },
    {
     "name": "stdout",
     "output_type": "stream",
     "text": [
      "Adding energy and cycle stats for l28_conv5_stride2 occurence 1\n",
      "Running layer 29: l29-l33_conv5_stride1 which occurs 5 times\n",
      "[INFO] 2025-05-04 21:17:06,695 - pytimeloop.accelergy_interface - Running Accelergy with command: accelergy /home/workspace/output_dir/parsed-processed-input.yaml -o ./output_dir/ -v\n"
     ]
    },
    {
     "name": "stderr",
     "output_type": "stream",
     "text": [
      "INFO:pytimeloop.accelergy_interface:Running Accelergy with command: accelergy /home/workspace/output_dir/parsed-processed-input.yaml -o ./output_dir/ -v\n"
     ]
    },
    {
     "name": "stdout",
     "output_type": "stream",
     "text": [
      "Adding energy and cycle stats for l29-l33_conv5_stride1 occurence 1\n",
      "Adding energy and cycle stats for l29-l33_conv5_stride1 occurence 2\n",
      "Adding energy and cycle stats for l29-l33_conv5_stride1 occurence 3\n",
      "Adding energy and cycle stats for l29-l33_conv5_stride1 occurence 4\n",
      "Adding energy and cycle stats for l29-l33_conv5_stride1 occurence 5\n",
      "{'energy': [3293163.84, 3231464.67, 3231464.67, 3231464.67, 3231464.67, 3231464.67, 3231464.67, 1623705.4, 3223686.22, 3223686.22, 3223686.22, 3223686.22, 3223686.22, 3223686.22, 3223686.22, 1615902.08, 3219987.53, 3219987.53, 3219987.53, 3219987.53, 3219987.53, 3219987.53, 3219987.53, 3219987.53, 3219987.53, 3219987.53, 3219987.53, 1612328.22, 3218839.44, 3218839.44, 3218839.44, 3218839.44, 3218839.44], 'cycles': [944111616, 924844032, 924844032, 924844032, 924844032, 924844032, 924844032, 462422016, 924844032, 924844032, 924844032, 924844032, 924844032, 924844032, 924844032, 462422016, 924844032, 924844032, 924844032, 924844032, 924844032, 924844032, 924844032, 924844032, 924844032, 924844032, 924844032, 462422016, 924844032, 924844032, 924844032, 924844032, 924844032], 'tp': 1, 'star_hops': 0, 'ring_hops': 0, 'star_hop_energy': 0, 'ring_hop_energy': 0}\n",
      "==================================================\n",
      "Starting Timeloop with configuration:\n",
      "  - arch: Architecture.Tensor_Parallel\n",
      "  - scale: GPUMemoryScale.MEMORY_64MB\n",
      "  - rack: RackSize.RACK_8\n",
      "  - peConfig: PEsConfig.PE_4\n",
      "==================================================\n",
      "Running layer 1: l1_conv1 which occurs 1 times\n",
      "[INFO] 2025-05-04 21:18:24,918 - pytimeloop.accelergy_interface - Running Accelergy with command: accelergy /home/workspace/output_dir/parsed-processed-input.yaml -o ./output_dir/ -v\n"
     ]
    },
    {
     "name": "stderr",
     "output_type": "stream",
     "text": [
      "INFO:pytimeloop.accelergy_interface:Running Accelergy with command: accelergy /home/workspace/output_dir/parsed-processed-input.yaml -o ./output_dir/ -v\n"
     ]
    },
    {
     "name": "stdout",
     "output_type": "stream",
     "text": [
      "Adding energy and cycle stats for l1_conv1 occurence 1\n",
      "Running layer 2: l2_conv2_stride2 which occurs 1 times\n",
      "[INFO] 2025-05-04 21:19:27,417 - pytimeloop.accelergy_interface - Running Accelergy with command: accelergy /home/workspace/output_dir/parsed-processed-input.yaml -o ./output_dir/ -v\n"
     ]
    },
    {
     "name": "stderr",
     "output_type": "stream",
     "text": [
      "INFO:pytimeloop.accelergy_interface:Running Accelergy with command: accelergy /home/workspace/output_dir/parsed-processed-input.yaml -o ./output_dir/ -v\n"
     ]
    },
    {
     "name": "stdout",
     "output_type": "stream",
     "text": [
      "Adding energy and cycle stats for l2_conv2_stride2 occurence 1\n",
      "Running layer 3: l3-l7_conv2_stride1 which occurs 5 times\n",
      "[INFO] 2025-05-04 21:21:18,636 - pytimeloop.accelergy_interface - Running Accelergy with command: accelergy /home/workspace/output_dir/parsed-processed-input.yaml -o ./output_dir/ -v\n"
     ]
    },
    {
     "name": "stderr",
     "output_type": "stream",
     "text": [
      "INFO:pytimeloop.accelergy_interface:Running Accelergy with command: accelergy /home/workspace/output_dir/parsed-processed-input.yaml -o ./output_dir/ -v\n"
     ]
    },
    {
     "name": "stdout",
     "output_type": "stream",
     "text": [
      "Adding energy and cycle stats for l3-l7_conv2_stride1 occurence 1\n",
      "Adding energy and cycle stats for l3-l7_conv2_stride1 occurence 2\n",
      "Adding energy and cycle stats for l3-l7_conv2_stride1 occurence 3\n",
      "Adding energy and cycle stats for l3-l7_conv2_stride1 occurence 4\n",
      "Adding energy and cycle stats for l3-l7_conv2_stride1 occurence 5\n",
      "Running layer 8: l8_conv3_stride2 which occurs 1 times\n",
      "[INFO] 2025-05-04 21:23:12,688 - pytimeloop.accelergy_interface - Running Accelergy with command: accelergy /home/workspace/output_dir/parsed-processed-input.yaml -o ./output_dir/ -v\n"
     ]
    },
    {
     "name": "stderr",
     "output_type": "stream",
     "text": [
      "INFO:pytimeloop.accelergy_interface:Running Accelergy with command: accelergy /home/workspace/output_dir/parsed-processed-input.yaml -o ./output_dir/ -v\n"
     ]
    },
    {
     "name": "stdout",
     "output_type": "stream",
     "text": [
      "Adding energy and cycle stats for l8_conv3_stride2 occurence 1\n",
      "Running layer 9: l9-l15_conv3_stride1 which occurs 7 times\n",
      "[INFO] 2025-05-04 21:24:35,694 - pytimeloop.accelergy_interface - Running Accelergy with command: accelergy /home/workspace/output_dir/parsed-processed-input.yaml -o ./output_dir/ -v\n"
     ]
    },
    {
     "name": "stderr",
     "output_type": "stream",
     "text": [
      "INFO:pytimeloop.accelergy_interface:Running Accelergy with command: accelergy /home/workspace/output_dir/parsed-processed-input.yaml -o ./output_dir/ -v\n"
     ]
    },
    {
     "name": "stdout",
     "output_type": "stream",
     "text": [
      "Adding energy and cycle stats for l9-l15_conv3_stride1 occurence 1\n",
      "Adding energy and cycle stats for l9-l15_conv3_stride1 occurence 2\n",
      "Adding energy and cycle stats for l9-l15_conv3_stride1 occurence 3\n",
      "Adding energy and cycle stats for l9-l15_conv3_stride1 occurence 4\n",
      "Adding energy and cycle stats for l9-l15_conv3_stride1 occurence 5\n",
      "Adding energy and cycle stats for l9-l15_conv3_stride1 occurence 6\n",
      "Adding energy and cycle stats for l9-l15_conv3_stride1 occurence 7\n",
      "Running layer 16: l16_conv4_stride2 which occurs 1 times\n",
      "[INFO] 2025-05-04 21:25:54,455 - pytimeloop.accelergy_interface - Running Accelergy with command: accelergy /home/workspace/output_dir/parsed-processed-input.yaml -o ./output_dir/ -v\n"
     ]
    },
    {
     "name": "stderr",
     "output_type": "stream",
     "text": [
      "INFO:pytimeloop.accelergy_interface:Running Accelergy with command: accelergy /home/workspace/output_dir/parsed-processed-input.yaml -o ./output_dir/ -v\n"
     ]
    },
    {
     "name": "stdout",
     "output_type": "stream",
     "text": [
      "Adding energy and cycle stats for l16_conv4_stride2 occurence 1\n",
      "Running layer 17: l17-l27_conv4_stride1 which occurs 11 times\n",
      "[INFO] 2025-05-04 21:27:05,438 - pytimeloop.accelergy_interface - Running Accelergy with command: accelergy /home/workspace/output_dir/parsed-processed-input.yaml -o ./output_dir/ -v\n"
     ]
    },
    {
     "name": "stderr",
     "output_type": "stream",
     "text": [
      "INFO:pytimeloop.accelergy_interface:Running Accelergy with command: accelergy /home/workspace/output_dir/parsed-processed-input.yaml -o ./output_dir/ -v\n"
     ]
    },
    {
     "name": "stdout",
     "output_type": "stream",
     "text": [
      "Adding energy and cycle stats for l17-l27_conv4_stride1 occurence 1\n",
      "Adding energy and cycle stats for l17-l27_conv4_stride1 occurence 2\n",
      "Adding energy and cycle stats for l17-l27_conv4_stride1 occurence 3\n",
      "Adding energy and cycle stats for l17-l27_conv4_stride1 occurence 4\n",
      "Adding energy and cycle stats for l17-l27_conv4_stride1 occurence 5\n",
      "Adding energy and cycle stats for l17-l27_conv4_stride1 occurence 6\n",
      "Adding energy and cycle stats for l17-l27_conv4_stride1 occurence 7\n",
      "Adding energy and cycle stats for l17-l27_conv4_stride1 occurence 8\n",
      "Adding energy and cycle stats for l17-l27_conv4_stride1 occurence 9\n",
      "Adding energy and cycle stats for l17-l27_conv4_stride1 occurence 10\n",
      "Adding energy and cycle stats for l17-l27_conv4_stride1 occurence 11\n",
      "Running layer 28: l28_conv5_stride2 which occurs 1 times\n",
      "[INFO] 2025-05-04 21:28:29,234 - pytimeloop.accelergy_interface - Running Accelergy with command: accelergy /home/workspace/output_dir/parsed-processed-input.yaml -o ./output_dir/ -v\n"
     ]
    },
    {
     "name": "stderr",
     "output_type": "stream",
     "text": [
      "INFO:pytimeloop.accelergy_interface:Running Accelergy with command: accelergy /home/workspace/output_dir/parsed-processed-input.yaml -o ./output_dir/ -v\n"
     ]
    },
    {
     "name": "stdout",
     "output_type": "stream",
     "text": [
      "Adding energy and cycle stats for l28_conv5_stride2 occurence 1\n",
      "Running layer 29: l29-l33_conv5_stride1 which occurs 5 times\n",
      "[INFO] 2025-05-04 21:30:13,694 - pytimeloop.accelergy_interface - Running Accelergy with command: accelergy /home/workspace/output_dir/parsed-processed-input.yaml -o ./output_dir/ -v\n"
     ]
    },
    {
     "name": "stderr",
     "output_type": "stream",
     "text": [
      "INFO:pytimeloop.accelergy_interface:Running Accelergy with command: accelergy /home/workspace/output_dir/parsed-processed-input.yaml -o ./output_dir/ -v\n"
     ]
    },
    {
     "name": "stdout",
     "output_type": "stream",
     "text": [
      "Adding energy and cycle stats for l29-l33_conv5_stride1 occurence 1\n",
      "Adding energy and cycle stats for l29-l33_conv5_stride1 occurence 2\n",
      "Adding energy and cycle stats for l29-l33_conv5_stride1 occurence 3\n",
      "Adding energy and cycle stats for l29-l33_conv5_stride1 occurence 4\n",
      "Adding energy and cycle stats for l29-l33_conv5_stride1 occurence 5\n",
      "{'energy': [2739745.33, 1636554.79, 1636554.79, 1636554.79, 1636554.79, 1636554.79, 1636554.79, 826250.53, 1628778.33, 1628778.33, 1628778.33, 1628778.33, 1628778.33, 1628778.33, 1628778.33, 818448.92, 1625082.15, 1625082.15, 1625082.15, 1625082.15, 1625082.15, 1625082.15, 1625082.15, 1625082.15, 1625082.15, 1625082.15, 1625082.15, 814875.81, 1623932.79, 1623932.79, 1623932.79, 1623932.79, 1623932.79], 'cycles': [472055808, 231211008, 231211008, 231211008, 231211008, 231211008, 231211008, 115605504, 231211008, 231211008, 231211008, 231211008, 231211008, 231211008, 231211008, 115605504, 231211008, 231211008, 231211008, 231211008, 231211008, 231211008, 231211008, 231211008, 231211008, 231211008, 231211008, 115605504, 231211008, 231211008, 231211008, 231211008, 231211008], 'tp': 1, 'star_hops': 0, 'ring_hops': 0, 'star_hop_energy': 0, 'ring_hop_energy': 0}\n",
      "==================================================\n",
      "Starting Timeloop with configuration:\n",
      "  - arch: Architecture.Tensor_Parallel\n",
      "  - scale: GPUMemoryScale.MEMORY_64MB\n",
      "  - rack: RackSize.RACK_8\n",
      "  - peConfig: PEsConfig.PE_16\n",
      "==================================================\n",
      "Running layer 1: l1_conv1 which occurs 1 times\n",
      "[INFO] 2025-05-04 21:31:57,447 - pytimeloop.accelergy_interface - Running Accelergy with command: accelergy /home/workspace/output_dir/parsed-processed-input.yaml -o ./output_dir/ -v\n"
     ]
    },
    {
     "name": "stderr",
     "output_type": "stream",
     "text": [
      "INFO:pytimeloop.accelergy_interface:Running Accelergy with command: accelergy /home/workspace/output_dir/parsed-processed-input.yaml -o ./output_dir/ -v\n"
     ]
    },
    {
     "name": "stdout",
     "output_type": "stream",
     "text": [
      "Adding energy and cycle stats for l1_conv1 occurence 1\n",
      "Running layer 2: l2_conv2_stride2 which occurs 1 times\n",
      "[INFO] 2025-05-04 21:32:51,113 - pytimeloop.accelergy_interface - Running Accelergy with command: accelergy /home/workspace/output_dir/parsed-processed-input.yaml -o ./output_dir/ -v\n"
     ]
    },
    {
     "name": "stderr",
     "output_type": "stream",
     "text": [
      "INFO:pytimeloop.accelergy_interface:Running Accelergy with command: accelergy /home/workspace/output_dir/parsed-processed-input.yaml -o ./output_dir/ -v\n"
     ]
    },
    {
     "name": "stdout",
     "output_type": "stream",
     "text": [
      "Adding energy and cycle stats for l2_conv2_stride2 occurence 1\n",
      "Running layer 3: l3-l7_conv2_stride1 which occurs 5 times\n",
      "[INFO] 2025-05-04 21:34:31,766 - pytimeloop.accelergy_interface - Running Accelergy with command: accelergy /home/workspace/output_dir/parsed-processed-input.yaml -o ./output_dir/ -v\n"
     ]
    },
    {
     "name": "stderr",
     "output_type": "stream",
     "text": [
      "INFO:pytimeloop.accelergy_interface:Running Accelergy with command: accelergy /home/workspace/output_dir/parsed-processed-input.yaml -o ./output_dir/ -v\n"
     ]
    },
    {
     "name": "stdout",
     "output_type": "stream",
     "text": [
      "Adding energy and cycle stats for l3-l7_conv2_stride1 occurence 1\n",
      "Adding energy and cycle stats for l3-l7_conv2_stride1 occurence 2\n",
      "Adding energy and cycle stats for l3-l7_conv2_stride1 occurence 3\n",
      "Adding energy and cycle stats for l3-l7_conv2_stride1 occurence 4\n",
      "Adding energy and cycle stats for l3-l7_conv2_stride1 occurence 5\n",
      "Running layer 8: l8_conv3_stride2 which occurs 1 times\n",
      "[INFO] 2025-05-04 21:36:11,991 - pytimeloop.accelergy_interface - Running Accelergy with command: accelergy /home/workspace/output_dir/parsed-processed-input.yaml -o ./output_dir/ -v\n"
     ]
    },
    {
     "name": "stderr",
     "output_type": "stream",
     "text": [
      "INFO:pytimeloop.accelergy_interface:Running Accelergy with command: accelergy /home/workspace/output_dir/parsed-processed-input.yaml -o ./output_dir/ -v\n"
     ]
    },
    {
     "name": "stdout",
     "output_type": "stream",
     "text": [
      "Adding energy and cycle stats for l8_conv3_stride2 occurence 1\n",
      "Running layer 9: l9-l15_conv3_stride1 which occurs 7 times\n",
      "[INFO] 2025-05-04 21:37:58,189 - pytimeloop.accelergy_interface - Running Accelergy with command: accelergy /home/workspace/output_dir/parsed-processed-input.yaml -o ./output_dir/ -v\n"
     ]
    },
    {
     "name": "stderr",
     "output_type": "stream",
     "text": [
      "INFO:pytimeloop.accelergy_interface:Running Accelergy with command: accelergy /home/workspace/output_dir/parsed-processed-input.yaml -o ./output_dir/ -v\n"
     ]
    },
    {
     "name": "stdout",
     "output_type": "stream",
     "text": [
      "Adding energy and cycle stats for l9-l15_conv3_stride1 occurence 1\n",
      "Adding energy and cycle stats for l9-l15_conv3_stride1 occurence 2\n",
      "Adding energy and cycle stats for l9-l15_conv3_stride1 occurence 3\n",
      "Adding energy and cycle stats for l9-l15_conv3_stride1 occurence 4\n",
      "Adding energy and cycle stats for l9-l15_conv3_stride1 occurence 5\n",
      "Adding energy and cycle stats for l9-l15_conv3_stride1 occurence 6\n",
      "Adding energy and cycle stats for l9-l15_conv3_stride1 occurence 7\n",
      "Running layer 16: l16_conv4_stride2 which occurs 1 times\n",
      "[INFO] 2025-05-04 21:39:20,299 - pytimeloop.accelergy_interface - Running Accelergy with command: accelergy /home/workspace/output_dir/parsed-processed-input.yaml -o ./output_dir/ -v\n"
     ]
    },
    {
     "name": "stderr",
     "output_type": "stream",
     "text": [
      "INFO:pytimeloop.accelergy_interface:Running Accelergy with command: accelergy /home/workspace/output_dir/parsed-processed-input.yaml -o ./output_dir/ -v\n"
     ]
    },
    {
     "name": "stdout",
     "output_type": "stream",
     "text": [
      "Adding energy and cycle stats for l16_conv4_stride2 occurence 1\n",
      "Running layer 17: l17-l27_conv4_stride1 which occurs 11 times\n",
      "[INFO] 2025-05-04 21:41:05,177 - pytimeloop.accelergy_interface - Running Accelergy with command: accelergy /home/workspace/output_dir/parsed-processed-input.yaml -o ./output_dir/ -v\n"
     ]
    },
    {
     "name": "stderr",
     "output_type": "stream",
     "text": [
      "INFO:pytimeloop.accelergy_interface:Running Accelergy with command: accelergy /home/workspace/output_dir/parsed-processed-input.yaml -o ./output_dir/ -v\n"
     ]
    },
    {
     "name": "stdout",
     "output_type": "stream",
     "text": [
      "Adding energy and cycle stats for l17-l27_conv4_stride1 occurence 1\n",
      "Adding energy and cycle stats for l17-l27_conv4_stride1 occurence 2\n",
      "Adding energy and cycle stats for l17-l27_conv4_stride1 occurence 3\n",
      "Adding energy and cycle stats for l17-l27_conv4_stride1 occurence 4\n",
      "Adding energy and cycle stats for l17-l27_conv4_stride1 occurence 5\n",
      "Adding energy and cycle stats for l17-l27_conv4_stride1 occurence 6\n",
      "Adding energy and cycle stats for l17-l27_conv4_stride1 occurence 7\n",
      "Adding energy and cycle stats for l17-l27_conv4_stride1 occurence 8\n",
      "Adding energy and cycle stats for l17-l27_conv4_stride1 occurence 9\n",
      "Adding energy and cycle stats for l17-l27_conv4_stride1 occurence 10\n",
      "Adding energy and cycle stats for l17-l27_conv4_stride1 occurence 11\n",
      "Running layer 28: l28_conv5_stride2 which occurs 1 times\n",
      "[INFO] 2025-05-04 21:42:43,155 - pytimeloop.accelergy_interface - Running Accelergy with command: accelergy /home/workspace/output_dir/parsed-processed-input.yaml -o ./output_dir/ -v\n"
     ]
    },
    {
     "name": "stderr",
     "output_type": "stream",
     "text": [
      "INFO:pytimeloop.accelergy_interface:Running Accelergy with command: accelergy /home/workspace/output_dir/parsed-processed-input.yaml -o ./output_dir/ -v\n"
     ]
    },
    {
     "name": "stdout",
     "output_type": "stream",
     "text": [
      "Adding energy and cycle stats for l28_conv5_stride2 occurence 1\n",
      "Running layer 29: l29-l33_conv5_stride1 which occurs 5 times\n",
      "[INFO] 2025-05-04 21:44:50,188 - pytimeloop.accelergy_interface - Running Accelergy with command: accelergy /home/workspace/output_dir/parsed-processed-input.yaml -o ./output_dir/ -v\n"
     ]
    },
    {
     "name": "stderr",
     "output_type": "stream",
     "text": [
      "INFO:pytimeloop.accelergy_interface:Running Accelergy with command: accelergy /home/workspace/output_dir/parsed-processed-input.yaml -o ./output_dir/ -v\n"
     ]
    },
    {
     "name": "stdout",
     "output_type": "stream",
     "text": [
      "Adding energy and cycle stats for l29-l33_conv5_stride1 occurence 1\n",
      "Adding energy and cycle stats for l29-l33_conv5_stride1 occurence 2\n",
      "Adding energy and cycle stats for l29-l33_conv5_stride1 occurence 3\n",
      "Adding energy and cycle stats for l29-l33_conv5_stride1 occurence 4\n",
      "Adding energy and cycle stats for l29-l33_conv5_stride1 occurence 5\n",
      "{'energy': [1032048.25, 841292.81, 841292.81, 841292.81, 841292.81, 841292.81, 841292.81, 428619.46, 833520.33, 833520.33, 833520.33, 833520.33, 833520.33, 833520.33, 833520.33, 420818.92, 829825.72, 829825.72, 829825.72, 829825.72, 829825.72, 829825.72, 829825.72, 829825.72, 829825.72, 829825.72, 829825.72, 417246.44, 828677.29, 828677.29, 828677.29, 828677.29, 828677.29], 'cycles': [78675968, 57802752, 57802752, 57802752, 57802752, 57802752, 57802752, 28901376, 57802752, 57802752, 57802752, 57802752, 57802752, 57802752, 57802752, 28901376, 57802752, 57802752, 57802752, 57802752, 57802752, 57802752, 57802752, 57802752, 57802752, 57802752, 57802752, 28901376, 57802752, 57802752, 57802752, 57802752, 57802752], 'tp': 1, 'star_hops': 0, 'ring_hops': 0, 'star_hop_energy': 0, 'ring_hop_energy': 0}\n",
      "==================================================\n",
      "Starting Timeloop with configuration:\n",
      "  - arch: Architecture.Tensor_Parallel\n",
      "  - scale: GPUMemoryScale.MEMORY_1024MB\n",
      "  - rack: RackSize.RACK_8\n",
      "  - peConfig: PEsConfig.PE_1\n",
      "==================================================\n",
      "Running layer 1: l1_conv1 which occurs 1 times\n",
      "[INFO] 2025-05-04 21:46:45,969 - pytimeloop.accelergy_interface - Running Accelergy with command: accelergy /home/workspace/output_dir/parsed-processed-input.yaml -o ./output_dir/ -v\n"
     ]
    },
    {
     "name": "stderr",
     "output_type": "stream",
     "text": [
      "INFO:pytimeloop.accelergy_interface:Running Accelergy with command: accelergy /home/workspace/output_dir/parsed-processed-input.yaml -o ./output_dir/ -v\n"
     ]
    },
    {
     "name": "stdout",
     "output_type": "stream",
     "text": [
      "Adding energy and cycle stats for l1_conv1 occurence 1\n",
      "Running layer 2: l2_conv2_stride2 which occurs 1 times\n",
      "[INFO] 2025-05-04 21:47:36,622 - pytimeloop.accelergy_interface - Running Accelergy with command: accelergy /home/workspace/output_dir/parsed-processed-input.yaml -o ./output_dir/ -v\n"
     ]
    },
    {
     "name": "stderr",
     "output_type": "stream",
     "text": [
      "INFO:pytimeloop.accelergy_interface:Running Accelergy with command: accelergy /home/workspace/output_dir/parsed-processed-input.yaml -o ./output_dir/ -v\n"
     ]
    },
    {
     "name": "stdout",
     "output_type": "stream",
     "text": [
      "Adding energy and cycle stats for l2_conv2_stride2 occurence 1\n",
      "Running layer 3: l3-l7_conv2_stride1 which occurs 5 times\n",
      "[INFO] 2025-05-04 21:48:56,085 - pytimeloop.accelergy_interface - Running Accelergy with command: accelergy /home/workspace/output_dir/parsed-processed-input.yaml -o ./output_dir/ -v\n"
     ]
    },
    {
     "name": "stderr",
     "output_type": "stream",
     "text": [
      "INFO:pytimeloop.accelergy_interface:Running Accelergy with command: accelergy /home/workspace/output_dir/parsed-processed-input.yaml -o ./output_dir/ -v\n"
     ]
    },
    {
     "name": "stdout",
     "output_type": "stream",
     "text": [
      "Adding energy and cycle stats for l3-l7_conv2_stride1 occurence 1\n",
      "Adding energy and cycle stats for l3-l7_conv2_stride1 occurence 2\n",
      "Adding energy and cycle stats for l3-l7_conv2_stride1 occurence 3\n",
      "Adding energy and cycle stats for l3-l7_conv2_stride1 occurence 4\n",
      "Adding energy and cycle stats for l3-l7_conv2_stride1 occurence 5\n",
      "Running layer 8: l8_conv3_stride2 which occurs 1 times\n",
      "[INFO] 2025-05-04 21:50:15,607 - pytimeloop.accelergy_interface - Running Accelergy with command: accelergy /home/workspace/output_dir/parsed-processed-input.yaml -o ./output_dir/ -v\n"
     ]
    },
    {
     "name": "stderr",
     "output_type": "stream",
     "text": [
      "INFO:pytimeloop.accelergy_interface:Running Accelergy with command: accelergy /home/workspace/output_dir/parsed-processed-input.yaml -o ./output_dir/ -v\n"
     ]
    },
    {
     "name": "stdout",
     "output_type": "stream",
     "text": [
      "Adding energy and cycle stats for l8_conv3_stride2 occurence 1\n",
      "Running layer 9: l9-l15_conv3_stride1 which occurs 7 times\n",
      "[INFO] 2025-05-04 21:51:23,496 - pytimeloop.accelergy_interface - Running Accelergy with command: accelergy /home/workspace/output_dir/parsed-processed-input.yaml -o ./output_dir/ -v\n"
     ]
    },
    {
     "name": "stderr",
     "output_type": "stream",
     "text": [
      "INFO:pytimeloop.accelergy_interface:Running Accelergy with command: accelergy /home/workspace/output_dir/parsed-processed-input.yaml -o ./output_dir/ -v\n"
     ]
    },
    {
     "name": "stdout",
     "output_type": "stream",
     "text": [
      "Adding energy and cycle stats for l9-l15_conv3_stride1 occurence 1\n",
      "Adding energy and cycle stats for l9-l15_conv3_stride1 occurence 2\n",
      "Adding energy and cycle stats for l9-l15_conv3_stride1 occurence 3\n",
      "Adding energy and cycle stats for l9-l15_conv3_stride1 occurence 4\n",
      "Adding energy and cycle stats for l9-l15_conv3_stride1 occurence 5\n",
      "Adding energy and cycle stats for l9-l15_conv3_stride1 occurence 6\n",
      "Adding energy and cycle stats for l9-l15_conv3_stride1 occurence 7\n",
      "Running layer 16: l16_conv4_stride2 which occurs 1 times\n",
      "[INFO] 2025-05-04 21:52:26,926 - pytimeloop.accelergy_interface - Running Accelergy with command: accelergy /home/workspace/output_dir/parsed-processed-input.yaml -o ./output_dir/ -v\n"
     ]
    },
    {
     "name": "stderr",
     "output_type": "stream",
     "text": [
      "INFO:pytimeloop.accelergy_interface:Running Accelergy with command: accelergy /home/workspace/output_dir/parsed-processed-input.yaml -o ./output_dir/ -v\n"
     ]
    },
    {
     "name": "stdout",
     "output_type": "stream",
     "text": [
      "Adding energy and cycle stats for l16_conv4_stride2 occurence 1\n",
      "Running layer 17: l17-l27_conv4_stride1 which occurs 11 times\n",
      "[INFO] 2025-05-04 21:53:32,172 - pytimeloop.accelergy_interface - Running Accelergy with command: accelergy /home/workspace/output_dir/parsed-processed-input.yaml -o ./output_dir/ -v\n"
     ]
    },
    {
     "name": "stderr",
     "output_type": "stream",
     "text": [
      "INFO:pytimeloop.accelergy_interface:Running Accelergy with command: accelergy /home/workspace/output_dir/parsed-processed-input.yaml -o ./output_dir/ -v\n"
     ]
    },
    {
     "name": "stdout",
     "output_type": "stream",
     "text": [
      "Adding energy and cycle stats for l17-l27_conv4_stride1 occurence 1\n",
      "Adding energy and cycle stats for l17-l27_conv4_stride1 occurence 2\n",
      "Adding energy and cycle stats for l17-l27_conv4_stride1 occurence 3\n",
      "Adding energy and cycle stats for l17-l27_conv4_stride1 occurence 4\n",
      "Adding energy and cycle stats for l17-l27_conv4_stride1 occurence 5\n",
      "Adding energy and cycle stats for l17-l27_conv4_stride1 occurence 6\n",
      "Adding energy and cycle stats for l17-l27_conv4_stride1 occurence 7\n",
      "Adding energy and cycle stats for l17-l27_conv4_stride1 occurence 8\n",
      "Adding energy and cycle stats for l17-l27_conv4_stride1 occurence 9\n",
      "Adding energy and cycle stats for l17-l27_conv4_stride1 occurence 10\n",
      "Adding energy and cycle stats for l17-l27_conv4_stride1 occurence 11\n",
      "Running layer 28: l28_conv5_stride2 which occurs 1 times\n",
      "[INFO] 2025-05-04 21:54:41,308 - pytimeloop.accelergy_interface - Running Accelergy with command: accelergy /home/workspace/output_dir/parsed-processed-input.yaml -o ./output_dir/ -v\n"
     ]
    },
    {
     "name": "stderr",
     "output_type": "stream",
     "text": [
      "INFO:pytimeloop.accelergy_interface:Running Accelergy with command: accelergy /home/workspace/output_dir/parsed-processed-input.yaml -o ./output_dir/ -v\n"
     ]
    },
    {
     "name": "stdout",
     "output_type": "stream",
     "text": [
      "Adding energy and cycle stats for l28_conv5_stride2 occurence 1\n",
      "Running layer 29: l29-l33_conv5_stride1 which occurs 5 times\n",
      "[INFO] 2025-05-04 21:55:56,289 - pytimeloop.accelergy_interface - Running Accelergy with command: accelergy /home/workspace/output_dir/parsed-processed-input.yaml -o ./output_dir/ -v\n"
     ]
    },
    {
     "name": "stderr",
     "output_type": "stream",
     "text": [
      "INFO:pytimeloop.accelergy_interface:Running Accelergy with command: accelergy /home/workspace/output_dir/parsed-processed-input.yaml -o ./output_dir/ -v\n"
     ]
    },
    {
     "name": "stdout",
     "output_type": "stream",
     "text": [
      "Adding energy and cycle stats for l29-l33_conv5_stride1 occurence 1\n",
      "Adding energy and cycle stats for l29-l33_conv5_stride1 occurence 2\n",
      "Adding energy and cycle stats for l29-l33_conv5_stride1 occurence 3\n",
      "Adding energy and cycle stats for l29-l33_conv5_stride1 occurence 4\n",
      "Adding energy and cycle stats for l29-l33_conv5_stride1 occurence 5\n",
      "{'energy': [17678155.04, 17365957.31, 17365957.31, 17365957.31, 17365957.31, 17365957.31, 17365957.31, 8722969.63, 17330463.78, 17330463.78, 17330463.78, 17330463.78, 17330463.78, 17330463.78, 17330463.78, 8685511.22, 17313513.85, 17313513.85, 17313513.85, 17313513.85, 17313513.85, 17313513.85, 17313513.85, 17313513.85, 17313513.85, 17313513.85, 17313513.85, 8668108.34, 17307920.71, 17307920.71, 17307920.71, 17307920.71, 17307920.71], 'cycles': [944111616, 924844032, 924844032, 924844032, 924844032, 924844032, 924844032, 462422016, 924844032, 924844032, 924844032, 924844032, 924844032, 924844032, 924844032, 462422016, 924844032, 924844032, 924844032, 924844032, 924844032, 924844032, 924844032, 924844032, 924844032, 924844032, 924844032, 462422016, 924844032, 924844032, 924844032, 924844032, 924844032], 'tp': 1, 'star_hops': 0, 'ring_hops': 0, 'star_hop_energy': 0, 'ring_hop_energy': 0}\n",
      "==================================================\n",
      "Starting Timeloop with configuration:\n",
      "  - arch: Architecture.Tensor_Parallel\n",
      "  - scale: GPUMemoryScale.MEMORY_1024MB\n",
      "  - rack: RackSize.RACK_8\n",
      "  - peConfig: PEsConfig.PE_4\n",
      "==================================================\n",
      "Running layer 1: l1_conv1 which occurs 1 times\n",
      "[INFO] 2025-05-04 21:57:13,567 - pytimeloop.accelergy_interface - Running Accelergy with command: accelergy /home/workspace/output_dir/parsed-processed-input.yaml -o ./output_dir/ -v\n"
     ]
    },
    {
     "name": "stderr",
     "output_type": "stream",
     "text": [
      "INFO:pytimeloop.accelergy_interface:Running Accelergy with command: accelergy /home/workspace/output_dir/parsed-processed-input.yaml -o ./output_dir/ -v\n"
     ]
    },
    {
     "name": "stdout",
     "output_type": "stream",
     "text": [
      "Adding energy and cycle stats for l1_conv1 occurence 1\n",
      "Running layer 2: l2_conv2_stride2 which occurs 1 times\n",
      "[INFO] 2025-05-04 21:58:14,438 - pytimeloop.accelergy_interface - Running Accelergy with command: accelergy /home/workspace/output_dir/parsed-processed-input.yaml -o ./output_dir/ -v\n"
     ]
    },
    {
     "name": "stderr",
     "output_type": "stream",
     "text": [
      "INFO:pytimeloop.accelergy_interface:Running Accelergy with command: accelergy /home/workspace/output_dir/parsed-processed-input.yaml -o ./output_dir/ -v\n"
     ]
    },
    {
     "name": "stdout",
     "output_type": "stream",
     "text": [
      "Adding energy and cycle stats for l2_conv2_stride2 occurence 1\n",
      "Running layer 3: l3-l7_conv2_stride1 which occurs 5 times\n",
      "[INFO] 2025-05-04 22:00:09,486 - pytimeloop.accelergy_interface - Running Accelergy with command: accelergy /home/workspace/output_dir/parsed-processed-input.yaml -o ./output_dir/ -v\n"
     ]
    },
    {
     "name": "stderr",
     "output_type": "stream",
     "text": [
      "INFO:pytimeloop.accelergy_interface:Running Accelergy with command: accelergy /home/workspace/output_dir/parsed-processed-input.yaml -o ./output_dir/ -v\n"
     ]
    },
    {
     "name": "stdout",
     "output_type": "stream",
     "text": [
      "Adding energy and cycle stats for l3-l7_conv2_stride1 occurence 1\n",
      "Adding energy and cycle stats for l3-l7_conv2_stride1 occurence 2\n",
      "Adding energy and cycle stats for l3-l7_conv2_stride1 occurence 3\n",
      "Adding energy and cycle stats for l3-l7_conv2_stride1 occurence 4\n",
      "Adding energy and cycle stats for l3-l7_conv2_stride1 occurence 5\n",
      "Running layer 8: l8_conv3_stride2 which occurs 1 times\n",
      "[INFO] 2025-05-04 22:01:58,728 - pytimeloop.accelergy_interface - Running Accelergy with command: accelergy /home/workspace/output_dir/parsed-processed-input.yaml -o ./output_dir/ -v\n"
     ]
    },
    {
     "name": "stderr",
     "output_type": "stream",
     "text": [
      "INFO:pytimeloop.accelergy_interface:Running Accelergy with command: accelergy /home/workspace/output_dir/parsed-processed-input.yaml -o ./output_dir/ -v\n"
     ]
    },
    {
     "name": "stdout",
     "output_type": "stream",
     "text": [
      "Adding energy and cycle stats for l8_conv3_stride2 occurence 1\n",
      "Running layer 9: l9-l15_conv3_stride1 which occurs 7 times\n",
      "[INFO] 2025-05-04 22:03:14,381 - pytimeloop.accelergy_interface - Running Accelergy with command: accelergy /home/workspace/output_dir/parsed-processed-input.yaml -o ./output_dir/ -v\n"
     ]
    },
    {
     "name": "stderr",
     "output_type": "stream",
     "text": [
      "INFO:pytimeloop.accelergy_interface:Running Accelergy with command: accelergy /home/workspace/output_dir/parsed-processed-input.yaml -o ./output_dir/ -v\n"
     ]
    },
    {
     "name": "stdout",
     "output_type": "stream",
     "text": [
      "Adding energy and cycle stats for l9-l15_conv3_stride1 occurence 1\n",
      "Adding energy and cycle stats for l9-l15_conv3_stride1 occurence 2\n",
      "Adding energy and cycle stats for l9-l15_conv3_stride1 occurence 3\n",
      "Adding energy and cycle stats for l9-l15_conv3_stride1 occurence 4\n",
      "Adding energy and cycle stats for l9-l15_conv3_stride1 occurence 5\n",
      "Adding energy and cycle stats for l9-l15_conv3_stride1 occurence 6\n",
      "Adding energy and cycle stats for l9-l15_conv3_stride1 occurence 7\n",
      "Running layer 16: l16_conv4_stride2 which occurs 1 times\n",
      "[INFO] 2025-05-04 22:04:28,226 - pytimeloop.accelergy_interface - Running Accelergy with command: accelergy /home/workspace/output_dir/parsed-processed-input.yaml -o ./output_dir/ -v\n"
     ]
    },
    {
     "name": "stderr",
     "output_type": "stream",
     "text": [
      "INFO:pytimeloop.accelergy_interface:Running Accelergy with command: accelergy /home/workspace/output_dir/parsed-processed-input.yaml -o ./output_dir/ -v\n"
     ]
    },
    {
     "name": "stdout",
     "output_type": "stream",
     "text": [
      "Adding energy and cycle stats for l16_conv4_stride2 occurence 1\n",
      "Running layer 17: l17-l27_conv4_stride1 which occurs 11 times\n",
      "[INFO] 2025-05-04 22:05:36,726 - pytimeloop.accelergy_interface - Running Accelergy with command: accelergy /home/workspace/output_dir/parsed-processed-input.yaml -o ./output_dir/ -v\n"
     ]
    },
    {
     "name": "stderr",
     "output_type": "stream",
     "text": [
      "INFO:pytimeloop.accelergy_interface:Running Accelergy with command: accelergy /home/workspace/output_dir/parsed-processed-input.yaml -o ./output_dir/ -v\n"
     ]
    },
    {
     "name": "stdout",
     "output_type": "stream",
     "text": [
      "Adding energy and cycle stats for l17-l27_conv4_stride1 occurence 1\n",
      "Adding energy and cycle stats for l17-l27_conv4_stride1 occurence 2\n",
      "Adding energy and cycle stats for l17-l27_conv4_stride1 occurence 3\n",
      "Adding energy and cycle stats for l17-l27_conv4_stride1 occurence 4\n",
      "Adding energy and cycle stats for l17-l27_conv4_stride1 occurence 5\n",
      "Adding energy and cycle stats for l17-l27_conv4_stride1 occurence 6\n",
      "Adding energy and cycle stats for l17-l27_conv4_stride1 occurence 7\n",
      "Adding energy and cycle stats for l17-l27_conv4_stride1 occurence 8\n",
      "Adding energy and cycle stats for l17-l27_conv4_stride1 occurence 9\n",
      "Adding energy and cycle stats for l17-l27_conv4_stride1 occurence 10\n",
      "Adding energy and cycle stats for l17-l27_conv4_stride1 occurence 11\n",
      "Running layer 28: l28_conv5_stride2 which occurs 1 times\n",
      "[INFO] 2025-05-04 22:06:58,232 - pytimeloop.accelergy_interface - Running Accelergy with command: accelergy /home/workspace/output_dir/parsed-processed-input.yaml -o ./output_dir/ -v\n"
     ]
    },
    {
     "name": "stderr",
     "output_type": "stream",
     "text": [
      "INFO:pytimeloop.accelergy_interface:Running Accelergy with command: accelergy /home/workspace/output_dir/parsed-processed-input.yaml -o ./output_dir/ -v\n"
     ]
    },
    {
     "name": "stdout",
     "output_type": "stream",
     "text": [
      "Adding energy and cycle stats for l28_conv5_stride2 occurence 1\n",
      "Running layer 29: l29-l33_conv5_stride1 which occurs 5 times\n",
      "[INFO] 2025-05-04 22:08:39,258 - pytimeloop.accelergy_interface - Running Accelergy with command: accelergy /home/workspace/output_dir/parsed-processed-input.yaml -o ./output_dir/ -v\n"
     ]
    },
    {
     "name": "stderr",
     "output_type": "stream",
     "text": [
      "INFO:pytimeloop.accelergy_interface:Running Accelergy with command: accelergy /home/workspace/output_dir/parsed-processed-input.yaml -o ./output_dir/ -v\n"
     ]
    },
    {
     "name": "stdout",
     "output_type": "stream",
     "text": [
      "Adding energy and cycle stats for l29-l33_conv5_stride1 occurence 1\n",
      "Adding energy and cycle stats for l29-l33_conv5_stride1 occurence 2\n",
      "Adding energy and cycle stats for l29-l33_conv5_stride1 occurence 3\n",
      "Adding energy and cycle stats for l29-l33_conv5_stride1 occurence 4\n",
      "Adding energy and cycle stats for l29-l33_conv5_stride1 occurence 5\n",
      "{'energy': [14663039.44, 8690217.23, 8690217.23, 8690217.23, 8690217.23, 8690217.23, 8690217.23, 4385099.66, 8654725.69, 8654725.69, 8654725.69, 8654725.69, 8654725.69, 8654725.69, 8654725.69, 4347642.96, 8637778.27, 8637778.27, 8637778.27, 8637778.27, 8637778.27, 8637778.27, 8637778.27, 8637778.27, 8637778.27, 8637778.27, 8637778.27, 4330240.84, 8632183.86, 8632183.86, 8632183.86, 8632183.86, 8632183.86], 'cycles': [472055808, 231211008, 231211008, 231211008, 231211008, 231211008, 231211008, 115605504, 231211008, 231211008, 231211008, 231211008, 231211008, 231211008, 231211008, 115605504, 231211008, 231211008, 231211008, 231211008, 231211008, 231211008, 231211008, 231211008, 231211008, 231211008, 231211008, 115605504, 231211008, 231211008, 231211008, 231211008, 231211008], 'tp': 1, 'star_hops': 0, 'ring_hops': 0, 'star_hop_energy': 0, 'ring_hop_energy': 0}\n",
      "==================================================\n",
      "Starting Timeloop with configuration:\n",
      "  - arch: Architecture.Tensor_Parallel\n",
      "  - scale: GPUMemoryScale.MEMORY_1024MB\n",
      "  - rack: RackSize.RACK_8\n",
      "  - peConfig: PEsConfig.PE_16\n",
      "==================================================\n",
      "Running layer 1: l1_conv1 which occurs 1 times\n",
      "[INFO] 2025-05-04 22:10:20,287 - pytimeloop.accelergy_interface - Running Accelergy with command: accelergy /home/workspace/output_dir/parsed-processed-input.yaml -o ./output_dir/ -v\n"
     ]
    },
    {
     "name": "stderr",
     "output_type": "stream",
     "text": [
      "INFO:pytimeloop.accelergy_interface:Running Accelergy with command: accelergy /home/workspace/output_dir/parsed-processed-input.yaml -o ./output_dir/ -v\n"
     ]
    },
    {
     "name": "stdout",
     "output_type": "stream",
     "text": [
      "Adding energy and cycle stats for l1_conv1 occurence 1\n",
      "Running layer 2: l2_conv2_stride2 which occurs 1 times\n",
      "[INFO] 2025-05-04 22:11:12,154 - pytimeloop.accelergy_interface - Running Accelergy with command: accelergy /home/workspace/output_dir/parsed-processed-input.yaml -o ./output_dir/ -v\n"
     ]
    },
    {
     "name": "stderr",
     "output_type": "stream",
     "text": [
      "INFO:pytimeloop.accelergy_interface:Running Accelergy with command: accelergy /home/workspace/output_dir/parsed-processed-input.yaml -o ./output_dir/ -v\n"
     ]
    },
    {
     "name": "stdout",
     "output_type": "stream",
     "text": [
      "Adding energy and cycle stats for l2_conv2_stride2 occurence 1\n",
      "Running layer 3: l3-l7_conv2_stride1 which occurs 5 times\n",
      "[INFO] 2025-05-04 22:12:54,556 - pytimeloop.accelergy_interface - Running Accelergy with command: accelergy /home/workspace/output_dir/parsed-processed-input.yaml -o ./output_dir/ -v\n"
     ]
    },
    {
     "name": "stderr",
     "output_type": "stream",
     "text": [
      "INFO:pytimeloop.accelergy_interface:Running Accelergy with command: accelergy /home/workspace/output_dir/parsed-processed-input.yaml -o ./output_dir/ -v\n"
     ]
    },
    {
     "name": "stdout",
     "output_type": "stream",
     "text": [
      "Adding energy and cycle stats for l3-l7_conv2_stride1 occurence 1\n",
      "Adding energy and cycle stats for l3-l7_conv2_stride1 occurence 2\n",
      "Adding energy and cycle stats for l3-l7_conv2_stride1 occurence 3\n",
      "Adding energy and cycle stats for l3-l7_conv2_stride1 occurence 4\n",
      "Adding energy and cycle stats for l3-l7_conv2_stride1 occurence 5\n",
      "Running layer 8: l8_conv3_stride2 which occurs 1 times\n",
      "[INFO] 2025-05-04 22:14:33,376 - pytimeloop.accelergy_interface - Running Accelergy with command: accelergy /home/workspace/output_dir/parsed-processed-input.yaml -o ./output_dir/ -v\n"
     ]
    },
    {
     "name": "stderr",
     "output_type": "stream",
     "text": [
      "INFO:pytimeloop.accelergy_interface:Running Accelergy with command: accelergy /home/workspace/output_dir/parsed-processed-input.yaml -o ./output_dir/ -v\n"
     ]
    },
    {
     "name": "stdout",
     "output_type": "stream",
     "text": [
      "Adding energy and cycle stats for l8_conv3_stride2 occurence 1\n",
      "Running layer 9: l9-l15_conv3_stride1 which occurs 7 times\n",
      "[INFO] 2025-05-04 22:16:16,776 - pytimeloop.accelergy_interface - Running Accelergy with command: accelergy /home/workspace/output_dir/parsed-processed-input.yaml -o ./output_dir/ -v\n"
     ]
    },
    {
     "name": "stderr",
     "output_type": "stream",
     "text": [
      "INFO:pytimeloop.accelergy_interface:Running Accelergy with command: accelergy /home/workspace/output_dir/parsed-processed-input.yaml -o ./output_dir/ -v\n"
     ]
    },
    {
     "name": "stdout",
     "output_type": "stream",
     "text": [
      "Adding energy and cycle stats for l9-l15_conv3_stride1 occurence 1\n",
      "Adding energy and cycle stats for l9-l15_conv3_stride1 occurence 2\n",
      "Adding energy and cycle stats for l9-l15_conv3_stride1 occurence 3\n",
      "Adding energy and cycle stats for l9-l15_conv3_stride1 occurence 4\n",
      "Adding energy and cycle stats for l9-l15_conv3_stride1 occurence 5\n",
      "Adding energy and cycle stats for l9-l15_conv3_stride1 occurence 6\n",
      "Adding energy and cycle stats for l9-l15_conv3_stride1 occurence 7\n",
      "Running layer 16: l16_conv4_stride2 which occurs 1 times\n",
      "[INFO] 2025-05-04 22:17:37,014 - pytimeloop.accelergy_interface - Running Accelergy with command: accelergy /home/workspace/output_dir/parsed-processed-input.yaml -o ./output_dir/ -v\n"
     ]
    },
    {
     "name": "stderr",
     "output_type": "stream",
     "text": [
      "INFO:pytimeloop.accelergy_interface:Running Accelergy with command: accelergy /home/workspace/output_dir/parsed-processed-input.yaml -o ./output_dir/ -v\n"
     ]
    },
    {
     "name": "stdout",
     "output_type": "stream",
     "text": [
      "Adding energy and cycle stats for l16_conv4_stride2 occurence 1\n",
      "Running layer 17: l17-l27_conv4_stride1 which occurs 11 times\n",
      "[INFO] 2025-05-04 22:19:17,953 - pytimeloop.accelergy_interface - Running Accelergy with command: accelergy /home/workspace/output_dir/parsed-processed-input.yaml -o ./output_dir/ -v\n"
     ]
    },
    {
     "name": "stderr",
     "output_type": "stream",
     "text": [
      "INFO:pytimeloop.accelergy_interface:Running Accelergy with command: accelergy /home/workspace/output_dir/parsed-processed-input.yaml -o ./output_dir/ -v\n"
     ]
    },
    {
     "name": "stdout",
     "output_type": "stream",
     "text": [
      "Adding energy and cycle stats for l17-l27_conv4_stride1 occurence 1\n",
      "Adding energy and cycle stats for l17-l27_conv4_stride1 occurence 2\n",
      "Adding energy and cycle stats for l17-l27_conv4_stride1 occurence 3\n",
      "Adding energy and cycle stats for l17-l27_conv4_stride1 occurence 4\n",
      "Adding energy and cycle stats for l17-l27_conv4_stride1 occurence 5\n",
      "Adding energy and cycle stats for l17-l27_conv4_stride1 occurence 6\n",
      "Adding energy and cycle stats for l17-l27_conv4_stride1 occurence 7\n",
      "Adding energy and cycle stats for l17-l27_conv4_stride1 occurence 8\n",
      "Adding energy and cycle stats for l17-l27_conv4_stride1 occurence 9\n",
      "Adding energy and cycle stats for l17-l27_conv4_stride1 occurence 10\n",
      "Adding energy and cycle stats for l17-l27_conv4_stride1 occurence 11\n",
      "Running layer 28: l28_conv5_stride2 which occurs 1 times\n",
      "[INFO] 2025-05-04 22:20:51,359 - pytimeloop.accelergy_interface - Running Accelergy with command: accelergy /home/workspace/output_dir/parsed-processed-input.yaml -o ./output_dir/ -v\n"
     ]
    },
    {
     "name": "stderr",
     "output_type": "stream",
     "text": [
      "INFO:pytimeloop.accelergy_interface:Running Accelergy with command: accelergy /home/workspace/output_dir/parsed-processed-input.yaml -o ./output_dir/ -v\n"
     ]
    },
    {
     "name": "stdout",
     "output_type": "stream",
     "text": [
      "Adding energy and cycle stats for l28_conv5_stride2 occurence 1\n",
      "Running layer 29: l29-l33_conv5_stride1 which occurs 5 times\n",
      "[INFO] 2025-05-04 22:23:04,362 - pytimeloop.accelergy_interface - Running Accelergy with command: accelergy /home/workspace/output_dir/parsed-processed-input.yaml -o ./output_dir/ -v\n"
     ]
    },
    {
     "name": "stderr",
     "output_type": "stream",
     "text": [
      "INFO:pytimeloop.accelergy_interface:Running Accelergy with command: accelergy /home/workspace/output_dir/parsed-processed-input.yaml -o ./output_dir/ -v\n"
     ]
    },
    {
     "name": "stdout",
     "output_type": "stream",
     "text": [
      "Adding energy and cycle stats for l29-l33_conv5_stride1 occurence 1\n",
      "Adding energy and cycle stats for l29-l33_conv5_stride1 occurence 2\n",
      "Adding energy and cycle stats for l29-l33_conv5_stride1 occurence 3\n",
      "Adding energy and cycle stats for l29-l33_conv5_stride1 occurence 4\n",
      "Adding energy and cycle stats for l29-l33_conv5_stride1 occurence 5\n",
      "{'energy': [5398813.27, 4387439.74, 4387439.74, 4387439.74, 4387439.74, 4387439.74, 4387439.74, 2233710.84, 4351952.19, 4351952.19, 4351952.19, 4351952.19, 4351952.19, 4351952.19, 4351952.19, 2196255.21, 4335006.34, 4335006.34, 4335006.34, 4335006.34, 4335006.34, 4335006.34, 4335006.34, 4335006.34, 4335006.34, 4335006.34, 4335006.34, 2178853.72, 4329412.85, 4329412.85, 4329412.85, 4329412.85, 4329412.85], 'cycles': [78675968, 57802752, 57802752, 57802752, 57802752, 57802752, 57802752, 28901376, 57802752, 57802752, 57802752, 57802752, 57802752, 57802752, 57802752, 28901376, 57802752, 57802752, 57802752, 57802752, 57802752, 57802752, 57802752, 57802752, 57802752, 57802752, 57802752, 28901376, 57802752, 57802752, 57802752, 57802752, 57802752], 'tp': 1, 'star_hops': 0, 'ring_hops': 0, 'star_hop_energy': 0, 'ring_hop_energy': 0}\n"
     ]
    }
   ],
   "source": [
    "# debug currently set to True, set to False to run\n",
    "# controller = TimeLoopExperimentController(True)\n",
    "controller = TimeLoopExperimentController(False)\n",
    "controller.run_all(\"persisted_results/results_May 03, 2025 04:16:57 PM EST\")\n",
    "# controller.plot_results()"
   ]
  },
  {
   "cell_type": "code",
   "execution_count": null,
   "id": "2ef216e9-61bb-4991-af1f-a0f9093371cd",
   "metadata": {
    "scrolled": true
   },
   "outputs": [
    {
     "name": "stdout",
     "output_type": "stream",
     "text": [
      "==================================================\n",
      "Starting Timeloop with configuration:\n",
      "  - arch: Architecture.Data_Parallel\n",
      "  - scale: GPUMemoryScale.MEMORY_16MB\n",
      "  - rack: RackSize.RACK_4\n",
      "  - peConfig: PEsConfig.PE_1\n",
      "==================================================\n",
      "Running layer 1: l1_conv1 which occurs 1 times\n",
      "[INFO] 2025-05-04 09:03:39,594 - pytimeloop.accelergy_interface - Running Accelergy with command: accelergy /home/workspace/output_dir/parsed-processed-input.yaml -o ./output_dir/ -v\n"
     ]
    },
    {
     "name": "stderr",
     "output_type": "stream",
     "text": [
      "INFO:pytimeloop.accelergy_interface:Running Accelergy with command: accelergy /home/workspace/output_dir/parsed-processed-input.yaml -o ./output_dir/ -v\n"
     ]
    },
    {
     "name": "stdout",
     "output_type": "stream",
     "text": [
      "Adding energy and cycle stats for l1_conv1 occurence 1\n",
      "Running layer 2: l2_conv2_stride2 which occurs 1 times\n",
      "[INFO] 2025-05-04 09:05:45,578 - pytimeloop.accelergy_interface - Running Accelergy with command: accelergy /home/workspace/output_dir/parsed-processed-input.yaml -o ./output_dir/ -v\n"
     ]
    },
    {
     "name": "stderr",
     "output_type": "stream",
     "text": [
      "INFO:pytimeloop.accelergy_interface:Running Accelergy with command: accelergy /home/workspace/output_dir/parsed-processed-input.yaml -o ./output_dir/ -v\n"
     ]
    },
    {
     "name": "stdout",
     "output_type": "stream",
     "text": [
      "Adding energy and cycle stats for l2_conv2_stride2 occurence 1\n",
      "Running layer 3: l3-l7_conv2_stride1 which occurs 5 times\n",
      "[INFO] 2025-05-04 09:09:16,552 - pytimeloop.accelergy_interface - Running Accelergy with command: accelergy /home/workspace/output_dir/parsed-processed-input.yaml -o ./output_dir/ -v\n"
     ]
    },
    {
     "name": "stderr",
     "output_type": "stream",
     "text": [
      "INFO:pytimeloop.accelergy_interface:Running Accelergy with command: accelergy /home/workspace/output_dir/parsed-processed-input.yaml -o ./output_dir/ -v\n"
     ]
    },
    {
     "name": "stdout",
     "output_type": "stream",
     "text": [
      "Adding energy and cycle stats for l3-l7_conv2_stride1 occurence 1\n",
      "Adding energy and cycle stats for l3-l7_conv2_stride1 occurence 2\n",
      "Adding energy and cycle stats for l3-l7_conv2_stride1 occurence 3\n",
      "Adding energy and cycle stats for l3-l7_conv2_stride1 occurence 4\n",
      "Adding energy and cycle stats for l3-l7_conv2_stride1 occurence 5\n",
      "Running layer 8: l8_conv3_stride2 which occurs 1 times\n",
      "[INFO] 2025-05-04 09:12:53,190 - pytimeloop.accelergy_interface - Running Accelergy with command: accelergy /home/workspace/output_dir/parsed-processed-input.yaml -o ./output_dir/ -v\n"
     ]
    },
    {
     "name": "stderr",
     "output_type": "stream",
     "text": [
      "INFO:pytimeloop.accelergy_interface:Running Accelergy with command: accelergy /home/workspace/output_dir/parsed-processed-input.yaml -o ./output_dir/ -v\n"
     ]
    }
   ],
   "source": [
    "# debug currently set to True, set to False to run\n",
    "# controller = TimeLoopExperimentController(True)\n",
    "controller = TimeLoopExperimentController(False)\n",
    "controller.run_single(Architecture.Data_Parallel, GPUMemoryScale.MEMORY_16MB, RackSize.RACK_4, PEsConfig.PE_1, \"persisted_results/results_May 03, 2025 04:16:57 PM EST\")\n",
    "# controller.run_single(Architecture.Base, GPUMemoryScale.MEMORY_16MB, RackSize.RACK_4, PEsConfig.PE_4, \"persisted_results/milestone3\")\n",
    "# controller.run_single(Architecture.Tensor_Parallel, GPUMemoryScale.MEMORY_16MB, RackSize.RACK_4, PEsConfig.PE_4, \"persisted_results/milestone3\")\n",
    "# # controller.plot_results()"
   ]
  },
  {
   "cell_type": "code",
   "execution_count": null,
   "id": "6063380b-ba1b-46d8-a3a2-95d7fe35afcd",
   "metadata": {},
   "outputs": [],
   "source": []
  }
 ],
 "metadata": {
  "kernelspec": {
   "display_name": "Python 3 (ipykernel)",
   "language": "python",
   "name": "python3"
  },
  "language_info": {
   "codemirror_mode": {
    "name": "ipython",
    "version": 3
   },
   "file_extension": ".py",
   "mimetype": "text/x-python",
   "name": "python",
   "nbconvert_exporter": "python",
   "pygments_lexer": "ipython3",
   "version": "3.10.12"
  }
 },
 "nbformat": 4,
 "nbformat_minor": 5
}
