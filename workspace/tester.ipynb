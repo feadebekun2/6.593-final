{
 "cells": [
  {
   "cell_type": "code",
   "execution_count": 1,
   "id": "2b77b11d-5ffc-4aeb-8cd7-9181357dc551",
   "metadata": {},
   "outputs": [
    {
     "data": {
      "text/plain": [
       "<module 'matplot_results_plotter.matplot_results_plotter' from '/home/workspace/matplot_results_plotter/matplot_results_plotter.py'>"
      ]
     },
     "execution_count": 1,
     "metadata": {},
     "output_type": "execute_result"
    }
   ],
   "source": [
    "import importlib\n",
    "from main import TimeLoopExperimentController\n",
    "import architectures.architecture_strategy\n",
    "import architectures.architecture_constants\n",
    "import architecture_results.derived_metrics_evaluator\n",
    "import matplot_results_plotter.matplot_results_plotter\n",
    "\n",
    "from architectures.architecture_constants import Architecture, GPUMemoryScale, RackSize, base_config, resnet_18_layers\n",
    "\n",
    "import matplotlib.pyplot as plt\n",
    "\n",
    "importlib.reload(architectures.architecture_strategy)\n",
    "importlib.reload(architectures.architecture_constants)\n",
    "importlib.reload(architecture_results.derived_metrics_evaluator)\n",
    "importlib.reload(matplot_results_plotter.matplot_results_plotter)"
   ]
  },
  {
   "cell_type": "code",
   "execution_count": 2,
   "id": "5cb5f0f5-9910-4686-8dd1-c92799431b6b",
   "metadata": {
    "scrolled": true
   },
   "outputs": [
    {
     "name": "stdout",
     "output_type": "stream",
     "text": [
      "==================================================\n",
      "Starting Timeloop with configuration:\n",
      "  - arch: Architecture.Base\n",
      "  - scale: GPUMemoryScale.MEMORY_4MB\n",
      "  - rack: RackSize.RACK_2\n",
      "  - peConfig: PEsConfig.PE_2\n",
      "==================================================\n",
      "Running layer 1: l1_conv1 which occurs 1 times\n",
      "[INFO] 2025-04-28 17:15:48,549 - pytimeloop.accelergy_interface - Running Accelergy with command: accelergy /home/workspace/output_dir/parsed-processed-input.yaml -o ./output_dir/ -v\n"
     ]
    },
    {
     "name": "stderr",
     "output_type": "stream",
     "text": [
      "INFO:pytimeloop.accelergy_interface:Running Accelergy with command: accelergy /home/workspace/output_dir/parsed-processed-input.yaml -o ./output_dir/ -v\n"
     ]
    },
    {
     "name": "stdout",
     "output_type": "stream",
     "text": [
      "Adding energy and cycle stats for l1_conv1 occurence 1\n",
      "Running layer 3: l2_conv2_stride2 which occurs 1 times\n",
      "[INFO] 2025-04-28 17:16:01,287 - pytimeloop.accelergy_interface - Running Accelergy with command: accelergy /home/workspace/output_dir/parsed-processed-input.yaml -o ./output_dir/ -v\n"
     ]
    },
    {
     "name": "stderr",
     "output_type": "stream",
     "text": [
      "INFO:pytimeloop.accelergy_interface:Running Accelergy with command: accelergy /home/workspace/output_dir/parsed-processed-input.yaml -o ./output_dir/ -v\n"
     ]
    },
    {
     "name": "stdout",
     "output_type": "stream",
     "text": [
      "Adding energy and cycle stats for l2_conv2_stride2 occurence 1\n",
      "Running layer 5: l3-l7_conv2_stride1 which occurs 5 times\n",
      "[INFO] 2025-04-28 17:16:13,601 - pytimeloop.accelergy_interface - Running Accelergy with command: accelergy /home/workspace/output_dir/parsed-processed-input.yaml -o ./output_dir/ -v\n"
     ]
    },
    {
     "name": "stderr",
     "output_type": "stream",
     "text": [
      "INFO:pytimeloop.accelergy_interface:Running Accelergy with command: accelergy /home/workspace/output_dir/parsed-processed-input.yaml -o ./output_dir/ -v\n"
     ]
    },
    {
     "name": "stdout",
     "output_type": "stream",
     "text": [
      "Adding energy and cycle stats for l3-l7_conv2_stride1 occurence 1\n",
      "Adding energy and cycle stats for l3-l7_conv2_stride1 occurence 2\n",
      "Adding energy and cycle stats for l3-l7_conv2_stride1 occurence 3\n",
      "Adding energy and cycle stats for l3-l7_conv2_stride1 occurence 4\n",
      "Adding energy and cycle stats for l3-l7_conv2_stride1 occurence 5\n",
      "Running layer 11: l8_conv3_stride2 which occurs 1 times\n",
      "[INFO] 2025-04-28 17:16:26,064 - pytimeloop.accelergy_interface - Running Accelergy with command: accelergy /home/workspace/output_dir/parsed-processed-input.yaml -o ./output_dir/ -v\n"
     ]
    },
    {
     "name": "stderr",
     "output_type": "stream",
     "text": [
      "INFO:pytimeloop.accelergy_interface:Running Accelergy with command: accelergy /home/workspace/output_dir/parsed-processed-input.yaml -o ./output_dir/ -v\n"
     ]
    },
    {
     "name": "stdout",
     "output_type": "stream",
     "text": [
      "Adding energy and cycle stats for l8_conv3_stride2 occurence 1\n",
      "Running layer 13: l9-l15_conv3_stride1 which occurs 7 times\n",
      "[INFO] 2025-04-28 17:16:38,416 - pytimeloop.accelergy_interface - Running Accelergy with command: accelergy /home/workspace/output_dir/parsed-processed-input.yaml -o ./output_dir/ -v\n"
     ]
    },
    {
     "name": "stderr",
     "output_type": "stream",
     "text": [
      "INFO:pytimeloop.accelergy_interface:Running Accelergy with command: accelergy /home/workspace/output_dir/parsed-processed-input.yaml -o ./output_dir/ -v\n"
     ]
    },
    {
     "name": "stdout",
     "output_type": "stream",
     "text": [
      "Adding energy and cycle stats for l9-l15_conv3_stride1 occurence 1\n",
      "Adding energy and cycle stats for l9-l15_conv3_stride1 occurence 2\n",
      "Adding energy and cycle stats for l9-l15_conv3_stride1 occurence 3\n",
      "Adding energy and cycle stats for l9-l15_conv3_stride1 occurence 4\n",
      "Adding energy and cycle stats for l9-l15_conv3_stride1 occurence 5\n",
      "Adding energy and cycle stats for l9-l15_conv3_stride1 occurence 6\n",
      "Adding energy and cycle stats for l9-l15_conv3_stride1 occurence 7\n",
      "Running layer 21: l16_conv4_stride2 which occurs 1 times\n",
      "[INFO] 2025-04-28 17:16:50,592 - pytimeloop.accelergy_interface - Running Accelergy with command: accelergy /home/workspace/output_dir/parsed-processed-input.yaml -o ./output_dir/ -v\n"
     ]
    },
    {
     "name": "stderr",
     "output_type": "stream",
     "text": [
      "INFO:pytimeloop.accelergy_interface:Running Accelergy with command: accelergy /home/workspace/output_dir/parsed-processed-input.yaml -o ./output_dir/ -v\n"
     ]
    },
    {
     "name": "stdout",
     "output_type": "stream",
     "text": [
      "Adding energy and cycle stats for l16_conv4_stride2 occurence 1\n",
      "Running layer 23: l17-l27_conv4_stride1 which occurs 11 times\n",
      "[INFO] 2025-04-28 17:17:03,033 - pytimeloop.accelergy_interface - Running Accelergy with command: accelergy /home/workspace/output_dir/parsed-processed-input.yaml -o ./output_dir/ -v\n"
     ]
    },
    {
     "name": "stderr",
     "output_type": "stream",
     "text": [
      "INFO:pytimeloop.accelergy_interface:Running Accelergy with command: accelergy /home/workspace/output_dir/parsed-processed-input.yaml -o ./output_dir/ -v\n"
     ]
    },
    {
     "name": "stdout",
     "output_type": "stream",
     "text": [
      "Adding energy and cycle stats for l17-l27_conv4_stride1 occurence 1\n",
      "Adding energy and cycle stats for l17-l27_conv4_stride1 occurence 2\n",
      "Adding energy and cycle stats for l17-l27_conv4_stride1 occurence 3\n",
      "Adding energy and cycle stats for l17-l27_conv4_stride1 occurence 4\n",
      "Adding energy and cycle stats for l17-l27_conv4_stride1 occurence 5\n",
      "Adding energy and cycle stats for l17-l27_conv4_stride1 occurence 6\n",
      "Adding energy and cycle stats for l17-l27_conv4_stride1 occurence 7\n",
      "Adding energy and cycle stats for l17-l27_conv4_stride1 occurence 8\n",
      "Adding energy and cycle stats for l17-l27_conv4_stride1 occurence 9\n",
      "Adding energy and cycle stats for l17-l27_conv4_stride1 occurence 10\n",
      "Adding energy and cycle stats for l17-l27_conv4_stride1 occurence 11\n",
      "Running layer 35: l28_conv5_stride2 which occurs 1 times\n",
      "[INFO] 2025-04-28 17:17:15,514 - pytimeloop.accelergy_interface - Running Accelergy with command: accelergy /home/workspace/output_dir/parsed-processed-input.yaml -o ./output_dir/ -v\n"
     ]
    },
    {
     "name": "stderr",
     "output_type": "stream",
     "text": [
      "INFO:pytimeloop.accelergy_interface:Running Accelergy with command: accelergy /home/workspace/output_dir/parsed-processed-input.yaml -o ./output_dir/ -v\n"
     ]
    },
    {
     "name": "stdout",
     "output_type": "stream",
     "text": [
      "Adding energy and cycle stats for l28_conv5_stride2 occurence 1\n",
      "Running layer 37: l29-l33_conv5_stride1 which occurs 5 times\n",
      "[INFO] 2025-04-28 17:17:28,217 - pytimeloop.accelergy_interface - Running Accelergy with command: accelergy /home/workspace/output_dir/parsed-processed-input.yaml -o ./output_dir/ -v\n"
     ]
    },
    {
     "name": "stderr",
     "output_type": "stream",
     "text": [
      "INFO:pytimeloop.accelergy_interface:Running Accelergy with command: accelergy /home/workspace/output_dir/parsed-processed-input.yaml -o ./output_dir/ -v\n"
     ]
    },
    {
     "name": "stdout",
     "output_type": "stream",
     "text": [
      "Adding energy and cycle stats for l29-l33_conv5_stride1 occurence 1\n",
      "Adding energy and cycle stats for l29-l33_conv5_stride1 occurence 2\n",
      "Adding energy and cycle stats for l29-l33_conv5_stride1 occurence 3\n",
      "Adding energy and cycle stats for l29-l33_conv5_stride1 occurence 4\n",
      "Adding energy and cycle stats for l29-l33_conv5_stride1 occurence 5\n",
      "==================================================\n",
      "Starting Timeloop with configuration:\n",
      "  - arch: Architecture.Base\n",
      "  - scale: GPUMemoryScale.MEMORY_4MB\n",
      "  - rack: RackSize.RACK_2\n",
      "  - peConfig: PEsConfig.PE_4\n",
      "==================================================\n",
      "Running layer 1: l1_conv1 which occurs 1 times\n",
      "[INFO] 2025-04-28 17:17:40,732 - pytimeloop.accelergy_interface - Running Accelergy with command: accelergy /home/workspace/output_dir/parsed-processed-input.yaml -o ./output_dir/ -v\n"
     ]
    },
    {
     "name": "stderr",
     "output_type": "stream",
     "text": [
      "INFO:pytimeloop.accelergy_interface:Running Accelergy with command: accelergy /home/workspace/output_dir/parsed-processed-input.yaml -o ./output_dir/ -v\n"
     ]
    },
    {
     "name": "stdout",
     "output_type": "stream",
     "text": [
      "Adding energy and cycle stats for l1_conv1 occurence 1\n",
      "Running layer 3: l2_conv2_stride2 which occurs 1 times\n",
      "[INFO] 2025-04-28 17:17:54,208 - pytimeloop.accelergy_interface - Running Accelergy with command: accelergy /home/workspace/output_dir/parsed-processed-input.yaml -o ./output_dir/ -v\n"
     ]
    },
    {
     "name": "stderr",
     "output_type": "stream",
     "text": [
      "INFO:pytimeloop.accelergy_interface:Running Accelergy with command: accelergy /home/workspace/output_dir/parsed-processed-input.yaml -o ./output_dir/ -v\n"
     ]
    },
    {
     "name": "stdout",
     "output_type": "stream",
     "text": [
      "Adding energy and cycle stats for l2_conv2_stride2 occurence 1\n",
      "Running layer 5: l3-l7_conv2_stride1 which occurs 5 times\n",
      "[INFO] 2025-04-28 17:18:06,722 - pytimeloop.accelergy_interface - Running Accelergy with command: accelergy /home/workspace/output_dir/parsed-processed-input.yaml -o ./output_dir/ -v\n"
     ]
    },
    {
     "name": "stderr",
     "output_type": "stream",
     "text": [
      "INFO:pytimeloop.accelergy_interface:Running Accelergy with command: accelergy /home/workspace/output_dir/parsed-processed-input.yaml -o ./output_dir/ -v\n"
     ]
    },
    {
     "name": "stdout",
     "output_type": "stream",
     "text": [
      "Adding energy and cycle stats for l3-l7_conv2_stride1 occurence 1\n",
      "Adding energy and cycle stats for l3-l7_conv2_stride1 occurence 2\n",
      "Adding energy and cycle stats for l3-l7_conv2_stride1 occurence 3\n",
      "Adding energy and cycle stats for l3-l7_conv2_stride1 occurence 4\n",
      "Adding energy and cycle stats for l3-l7_conv2_stride1 occurence 5\n",
      "Running layer 11: l8_conv3_stride2 which occurs 1 times\n",
      "[INFO] 2025-04-28 17:18:20,165 - pytimeloop.accelergy_interface - Running Accelergy with command: accelergy /home/workspace/output_dir/parsed-processed-input.yaml -o ./output_dir/ -v\n"
     ]
    },
    {
     "name": "stderr",
     "output_type": "stream",
     "text": [
      "INFO:pytimeloop.accelergy_interface:Running Accelergy with command: accelergy /home/workspace/output_dir/parsed-processed-input.yaml -o ./output_dir/ -v\n"
     ]
    },
    {
     "name": "stdout",
     "output_type": "stream",
     "text": [
      "Adding energy and cycle stats for l8_conv3_stride2 occurence 1\n",
      "Running layer 13: l9-l15_conv3_stride1 which occurs 7 times\n",
      "[INFO] 2025-04-28 17:18:33,227 - pytimeloop.accelergy_interface - Running Accelergy with command: accelergy /home/workspace/output_dir/parsed-processed-input.yaml -o ./output_dir/ -v\n"
     ]
    },
    {
     "name": "stderr",
     "output_type": "stream",
     "text": [
      "INFO:pytimeloop.accelergy_interface:Running Accelergy with command: accelergy /home/workspace/output_dir/parsed-processed-input.yaml -o ./output_dir/ -v\n"
     ]
    },
    {
     "name": "stdout",
     "output_type": "stream",
     "text": [
      "Adding energy and cycle stats for l9-l15_conv3_stride1 occurence 1\n",
      "Adding energy and cycle stats for l9-l15_conv3_stride1 occurence 2\n",
      "Adding energy and cycle stats for l9-l15_conv3_stride1 occurence 3\n",
      "Adding energy and cycle stats for l9-l15_conv3_stride1 occurence 4\n",
      "Adding energy and cycle stats for l9-l15_conv3_stride1 occurence 5\n",
      "Adding energy and cycle stats for l9-l15_conv3_stride1 occurence 6\n",
      "Adding energy and cycle stats for l9-l15_conv3_stride1 occurence 7\n",
      "Running layer 21: l16_conv4_stride2 which occurs 1 times\n",
      "[INFO] 2025-04-28 17:18:47,243 - pytimeloop.accelergy_interface - Running Accelergy with command: accelergy /home/workspace/output_dir/parsed-processed-input.yaml -o ./output_dir/ -v\n"
     ]
    },
    {
     "name": "stderr",
     "output_type": "stream",
     "text": [
      "INFO:pytimeloop.accelergy_interface:Running Accelergy with command: accelergy /home/workspace/output_dir/parsed-processed-input.yaml -o ./output_dir/ -v\n"
     ]
    },
    {
     "name": "stdout",
     "output_type": "stream",
     "text": [
      "Adding energy and cycle stats for l16_conv4_stride2 occurence 1\n",
      "Running layer 23: l17-l27_conv4_stride1 which occurs 11 times\n",
      "[INFO] 2025-04-28 17:19:06,956 - pytimeloop.accelergy_interface - Running Accelergy with command: accelergy /home/workspace/output_dir/parsed-processed-input.yaml -o ./output_dir/ -v\n"
     ]
    },
    {
     "name": "stderr",
     "output_type": "stream",
     "text": [
      "INFO:pytimeloop.accelergy_interface:Running Accelergy with command: accelergy /home/workspace/output_dir/parsed-processed-input.yaml -o ./output_dir/ -v\n"
     ]
    },
    {
     "name": "stdout",
     "output_type": "stream",
     "text": [
      "Adding energy and cycle stats for l17-l27_conv4_stride1 occurence 1\n",
      "Adding energy and cycle stats for l17-l27_conv4_stride1 occurence 2\n",
      "Adding energy and cycle stats for l17-l27_conv4_stride1 occurence 3\n",
      "Adding energy and cycle stats for l17-l27_conv4_stride1 occurence 4\n",
      "Adding energy and cycle stats for l17-l27_conv4_stride1 occurence 5\n",
      "Adding energy and cycle stats for l17-l27_conv4_stride1 occurence 6\n",
      "Adding energy and cycle stats for l17-l27_conv4_stride1 occurence 7\n",
      "Adding energy and cycle stats for l17-l27_conv4_stride1 occurence 8\n",
      "Adding energy and cycle stats for l17-l27_conv4_stride1 occurence 9\n",
      "Adding energy and cycle stats for l17-l27_conv4_stride1 occurence 10\n",
      "Adding energy and cycle stats for l17-l27_conv4_stride1 occurence 11\n",
      "Running layer 35: l28_conv5_stride2 which occurs 1 times\n",
      "[INFO] 2025-04-28 17:19:24,378 - pytimeloop.accelergy_interface - Running Accelergy with command: accelergy /home/workspace/output_dir/parsed-processed-input.yaml -o ./output_dir/ -v\n"
     ]
    },
    {
     "name": "stderr",
     "output_type": "stream",
     "text": [
      "INFO:pytimeloop.accelergy_interface:Running Accelergy with command: accelergy /home/workspace/output_dir/parsed-processed-input.yaml -o ./output_dir/ -v\n"
     ]
    },
    {
     "name": "stdout",
     "output_type": "stream",
     "text": [
      "Adding energy and cycle stats for l28_conv5_stride2 occurence 1\n",
      "Running layer 37: l29-l33_conv5_stride1 which occurs 5 times\n",
      "[INFO] 2025-04-28 17:19:37,966 - pytimeloop.accelergy_interface - Running Accelergy with command: accelergy /home/workspace/output_dir/parsed-processed-input.yaml -o ./output_dir/ -v\n"
     ]
    },
    {
     "name": "stderr",
     "output_type": "stream",
     "text": [
      "INFO:pytimeloop.accelergy_interface:Running Accelergy with command: accelergy /home/workspace/output_dir/parsed-processed-input.yaml -o ./output_dir/ -v\n"
     ]
    },
    {
     "name": "stdout",
     "output_type": "stream",
     "text": [
      "Adding energy and cycle stats for l29-l33_conv5_stride1 occurence 1\n",
      "Adding energy and cycle stats for l29-l33_conv5_stride1 occurence 2\n",
      "Adding energy and cycle stats for l29-l33_conv5_stride1 occurence 3\n",
      "Adding energy and cycle stats for l29-l33_conv5_stride1 occurence 4\n",
      "Adding energy and cycle stats for l29-l33_conv5_stride1 occurence 5\n",
      "==================================================\n",
      "Starting Timeloop with configuration:\n",
      "  - arch: Architecture.Base\n",
      "  - scale: GPUMemoryScale.MEMORY_4MB\n",
      "  - rack: RackSize.RACK_2\n",
      "  - peConfig: PEsConfig.PE_8\n",
      "==================================================\n",
      "Running layer 1: l1_conv1 which occurs 1 times\n",
      "[INFO] 2025-04-28 17:19:51,942 - pytimeloop.accelergy_interface - Running Accelergy with command: accelergy /home/workspace/output_dir/parsed-processed-input.yaml -o ./output_dir/ -v\n"
     ]
    },
    {
     "name": "stderr",
     "output_type": "stream",
     "text": [
      "INFO:pytimeloop.accelergy_interface:Running Accelergy with command: accelergy /home/workspace/output_dir/parsed-processed-input.yaml -o ./output_dir/ -v\n"
     ]
    },
    {
     "name": "stdout",
     "output_type": "stream",
     "text": [
      "Adding energy and cycle stats for l1_conv1 occurence 1\n",
      "Running layer 3: l2_conv2_stride2 which occurs 1 times\n",
      "[INFO] 2025-04-28 17:20:05,934 - pytimeloop.accelergy_interface - Running Accelergy with command: accelergy /home/workspace/output_dir/parsed-processed-input.yaml -o ./output_dir/ -v\n"
     ]
    },
    {
     "name": "stderr",
     "output_type": "stream",
     "text": [
      "INFO:pytimeloop.accelergy_interface:Running Accelergy with command: accelergy /home/workspace/output_dir/parsed-processed-input.yaml -o ./output_dir/ -v\n"
     ]
    },
    {
     "name": "stdout",
     "output_type": "stream",
     "text": [
      "Adding energy and cycle stats for l2_conv2_stride2 occurence 1\n",
      "Running layer 5: l3-l7_conv2_stride1 which occurs 5 times\n",
      "[INFO] 2025-04-28 17:20:19,327 - pytimeloop.accelergy_interface - Running Accelergy with command: accelergy /home/workspace/output_dir/parsed-processed-input.yaml -o ./output_dir/ -v\n"
     ]
    },
    {
     "name": "stderr",
     "output_type": "stream",
     "text": [
      "INFO:pytimeloop.accelergy_interface:Running Accelergy with command: accelergy /home/workspace/output_dir/parsed-processed-input.yaml -o ./output_dir/ -v\n"
     ]
    },
    {
     "name": "stdout",
     "output_type": "stream",
     "text": [
      "Adding energy and cycle stats for l3-l7_conv2_stride1 occurence 1\n",
      "Adding energy and cycle stats for l3-l7_conv2_stride1 occurence 2\n",
      "Adding energy and cycle stats for l3-l7_conv2_stride1 occurence 3\n",
      "Adding energy and cycle stats for l3-l7_conv2_stride1 occurence 4\n",
      "Adding energy and cycle stats for l3-l7_conv2_stride1 occurence 5\n",
      "Running layer 11: l8_conv3_stride2 which occurs 1 times\n",
      "[INFO] 2025-04-28 17:20:31,908 - pytimeloop.accelergy_interface - Running Accelergy with command: accelergy /home/workspace/output_dir/parsed-processed-input.yaml -o ./output_dir/ -v\n"
     ]
    },
    {
     "name": "stderr",
     "output_type": "stream",
     "text": [
      "INFO:pytimeloop.accelergy_interface:Running Accelergy with command: accelergy /home/workspace/output_dir/parsed-processed-input.yaml -o ./output_dir/ -v\n"
     ]
    },
    {
     "name": "stdout",
     "output_type": "stream",
     "text": [
      "Adding energy and cycle stats for l8_conv3_stride2 occurence 1\n",
      "Running layer 13: l9-l15_conv3_stride1 which occurs 7 times\n",
      "[INFO] 2025-04-28 17:20:44,767 - pytimeloop.accelergy_interface - Running Accelergy with command: accelergy /home/workspace/output_dir/parsed-processed-input.yaml -o ./output_dir/ -v\n"
     ]
    },
    {
     "name": "stderr",
     "output_type": "stream",
     "text": [
      "INFO:pytimeloop.accelergy_interface:Running Accelergy with command: accelergy /home/workspace/output_dir/parsed-processed-input.yaml -o ./output_dir/ -v\n"
     ]
    },
    {
     "name": "stdout",
     "output_type": "stream",
     "text": [
      "Adding energy and cycle stats for l9-l15_conv3_stride1 occurence 1\n",
      "Adding energy and cycle stats for l9-l15_conv3_stride1 occurence 2\n",
      "Adding energy and cycle stats for l9-l15_conv3_stride1 occurence 3\n",
      "Adding energy and cycle stats for l9-l15_conv3_stride1 occurence 4\n",
      "Adding energy and cycle stats for l9-l15_conv3_stride1 occurence 5\n",
      "Adding energy and cycle stats for l9-l15_conv3_stride1 occurence 6\n",
      "Adding energy and cycle stats for l9-l15_conv3_stride1 occurence 7\n",
      "Running layer 21: l16_conv4_stride2 which occurs 1 times\n",
      "[INFO] 2025-04-28 17:20:57,305 - pytimeloop.accelergy_interface - Running Accelergy with command: accelergy /home/workspace/output_dir/parsed-processed-input.yaml -o ./output_dir/ -v\n"
     ]
    },
    {
     "name": "stderr",
     "output_type": "stream",
     "text": [
      "INFO:pytimeloop.accelergy_interface:Running Accelergy with command: accelergy /home/workspace/output_dir/parsed-processed-input.yaml -o ./output_dir/ -v\n"
     ]
    },
    {
     "name": "stdout",
     "output_type": "stream",
     "text": [
      "Adding energy and cycle stats for l16_conv4_stride2 occurence 1\n",
      "Running layer 23: l17-l27_conv4_stride1 which occurs 11 times\n",
      "[INFO] 2025-04-28 17:21:09,915 - pytimeloop.accelergy_interface - Running Accelergy with command: accelergy /home/workspace/output_dir/parsed-processed-input.yaml -o ./output_dir/ -v\n"
     ]
    },
    {
     "name": "stderr",
     "output_type": "stream",
     "text": [
      "INFO:pytimeloop.accelergy_interface:Running Accelergy with command: accelergy /home/workspace/output_dir/parsed-processed-input.yaml -o ./output_dir/ -v\n"
     ]
    },
    {
     "name": "stdout",
     "output_type": "stream",
     "text": [
      "Adding energy and cycle stats for l17-l27_conv4_stride1 occurence 1\n",
      "Adding energy and cycle stats for l17-l27_conv4_stride1 occurence 2\n",
      "Adding energy and cycle stats for l17-l27_conv4_stride1 occurence 3\n",
      "Adding energy and cycle stats for l17-l27_conv4_stride1 occurence 4\n",
      "Adding energy and cycle stats for l17-l27_conv4_stride1 occurence 5\n",
      "Adding energy and cycle stats for l17-l27_conv4_stride1 occurence 6\n",
      "Adding energy and cycle stats for l17-l27_conv4_stride1 occurence 7\n",
      "Adding energy and cycle stats for l17-l27_conv4_stride1 occurence 8\n",
      "Adding energy and cycle stats for l17-l27_conv4_stride1 occurence 9\n",
      "Adding energy and cycle stats for l17-l27_conv4_stride1 occurence 10\n",
      "Adding energy and cycle stats for l17-l27_conv4_stride1 occurence 11\n",
      "Running layer 35: l28_conv5_stride2 which occurs 1 times\n",
      "[INFO] 2025-04-28 17:21:22,500 - pytimeloop.accelergy_interface - Running Accelergy with command: accelergy /home/workspace/output_dir/parsed-processed-input.yaml -o ./output_dir/ -v\n"
     ]
    },
    {
     "name": "stderr",
     "output_type": "stream",
     "text": [
      "INFO:pytimeloop.accelergy_interface:Running Accelergy with command: accelergy /home/workspace/output_dir/parsed-processed-input.yaml -o ./output_dir/ -v\n"
     ]
    },
    {
     "name": "stdout",
     "output_type": "stream",
     "text": [
      "Adding energy and cycle stats for l28_conv5_stride2 occurence 1\n",
      "Running layer 37: l29-l33_conv5_stride1 which occurs 5 times\n",
      "[INFO] 2025-04-28 17:21:34,969 - pytimeloop.accelergy_interface - Running Accelergy with command: accelergy /home/workspace/output_dir/parsed-processed-input.yaml -o ./output_dir/ -v\n"
     ]
    },
    {
     "name": "stderr",
     "output_type": "stream",
     "text": [
      "INFO:pytimeloop.accelergy_interface:Running Accelergy with command: accelergy /home/workspace/output_dir/parsed-processed-input.yaml -o ./output_dir/ -v\n"
     ]
    },
    {
     "name": "stdout",
     "output_type": "stream",
     "text": [
      "Adding energy and cycle stats for l29-l33_conv5_stride1 occurence 1\n",
      "Adding energy and cycle stats for l29-l33_conv5_stride1 occurence 2\n",
      "Adding energy and cycle stats for l29-l33_conv5_stride1 occurence 3\n",
      "Adding energy and cycle stats for l29-l33_conv5_stride1 occurence 4\n",
      "Adding energy and cycle stats for l29-l33_conv5_stride1 occurence 5\n",
      "==================================================\n",
      "Starting Timeloop with configuration:\n",
      "  - arch: Architecture.Base\n",
      "  - scale: GPUMemoryScale.MEMORY_16MB\n",
      "  - rack: RackSize.RACK_2\n",
      "  - peConfig: PEsConfig.PE_2\n",
      "==================================================\n",
      "Running layer 1: l1_conv1 which occurs 1 times\n",
      "[INFO] 2025-04-28 17:21:47,392 - pytimeloop.accelergy_interface - Running Accelergy with command: accelergy /home/workspace/output_dir/parsed-processed-input.yaml -o ./output_dir/ -v\n"
     ]
    },
    {
     "name": "stderr",
     "output_type": "stream",
     "text": [
      "INFO:pytimeloop.accelergy_interface:Running Accelergy with command: accelergy /home/workspace/output_dir/parsed-processed-input.yaml -o ./output_dir/ -v\n"
     ]
    },
    {
     "name": "stdout",
     "output_type": "stream",
     "text": [
      "Adding energy and cycle stats for l1_conv1 occurence 1\n",
      "Running layer 3: l2_conv2_stride2 which occurs 1 times\n",
      "[INFO] 2025-04-28 17:22:02,815 - pytimeloop.accelergy_interface - Running Accelergy with command: accelergy /home/workspace/output_dir/parsed-processed-input.yaml -o ./output_dir/ -v\n"
     ]
    },
    {
     "name": "stderr",
     "output_type": "stream",
     "text": [
      "INFO:pytimeloop.accelergy_interface:Running Accelergy with command: accelergy /home/workspace/output_dir/parsed-processed-input.yaml -o ./output_dir/ -v\n"
     ]
    },
    {
     "name": "stdout",
     "output_type": "stream",
     "text": [
      "Adding energy and cycle stats for l2_conv2_stride2 occurence 1\n",
      "Running layer 5: l3-l7_conv2_stride1 which occurs 5 times\n",
      "[INFO] 2025-04-28 17:22:19,585 - pytimeloop.accelergy_interface - Running Accelergy with command: accelergy /home/workspace/output_dir/parsed-processed-input.yaml -o ./output_dir/ -v\n"
     ]
    },
    {
     "name": "stderr",
     "output_type": "stream",
     "text": [
      "INFO:pytimeloop.accelergy_interface:Running Accelergy with command: accelergy /home/workspace/output_dir/parsed-processed-input.yaml -o ./output_dir/ -v\n"
     ]
    },
    {
     "name": "stdout",
     "output_type": "stream",
     "text": [
      "Adding energy and cycle stats for l3-l7_conv2_stride1 occurence 1\n",
      "Adding energy and cycle stats for l3-l7_conv2_stride1 occurence 2\n",
      "Adding energy and cycle stats for l3-l7_conv2_stride1 occurence 3\n",
      "Adding energy and cycle stats for l3-l7_conv2_stride1 occurence 4\n",
      "Adding energy and cycle stats for l3-l7_conv2_stride1 occurence 5\n",
      "Running layer 11: l8_conv3_stride2 which occurs 1 times\n",
      "[INFO] 2025-04-28 17:22:36,625 - pytimeloop.accelergy_interface - Running Accelergy with command: accelergy /home/workspace/output_dir/parsed-processed-input.yaml -o ./output_dir/ -v\n"
     ]
    },
    {
     "name": "stderr",
     "output_type": "stream",
     "text": [
      "INFO:pytimeloop.accelergy_interface:Running Accelergy with command: accelergy /home/workspace/output_dir/parsed-processed-input.yaml -o ./output_dir/ -v\n"
     ]
    },
    {
     "name": "stdout",
     "output_type": "stream",
     "text": [
      "Adding energy and cycle stats for l8_conv3_stride2 occurence 1\n",
      "Running layer 13: l9-l15_conv3_stride1 which occurs 7 times\n",
      "[INFO] 2025-04-28 17:22:52,441 - pytimeloop.accelergy_interface - Running Accelergy with command: accelergy /home/workspace/output_dir/parsed-processed-input.yaml -o ./output_dir/ -v\n"
     ]
    },
    {
     "name": "stderr",
     "output_type": "stream",
     "text": [
      "INFO:pytimeloop.accelergy_interface:Running Accelergy with command: accelergy /home/workspace/output_dir/parsed-processed-input.yaml -o ./output_dir/ -v\n"
     ]
    },
    {
     "name": "stdout",
     "output_type": "stream",
     "text": [
      "Adding energy and cycle stats for l9-l15_conv3_stride1 occurence 1\n",
      "Adding energy and cycle stats for l9-l15_conv3_stride1 occurence 2\n",
      "Adding energy and cycle stats for l9-l15_conv3_stride1 occurence 3\n",
      "Adding energy and cycle stats for l9-l15_conv3_stride1 occurence 4\n",
      "Adding energy and cycle stats for l9-l15_conv3_stride1 occurence 5\n",
      "Adding energy and cycle stats for l9-l15_conv3_stride1 occurence 6\n",
      "Adding energy and cycle stats for l9-l15_conv3_stride1 occurence 7\n",
      "Running layer 21: l16_conv4_stride2 which occurs 1 times\n",
      "[INFO] 2025-04-28 17:23:07,889 - pytimeloop.accelergy_interface - Running Accelergy with command: accelergy /home/workspace/output_dir/parsed-processed-input.yaml -o ./output_dir/ -v\n"
     ]
    },
    {
     "name": "stderr",
     "output_type": "stream",
     "text": [
      "INFO:pytimeloop.accelergy_interface:Running Accelergy with command: accelergy /home/workspace/output_dir/parsed-processed-input.yaml -o ./output_dir/ -v\n"
     ]
    },
    {
     "name": "stdout",
     "output_type": "stream",
     "text": [
      "Adding energy and cycle stats for l16_conv4_stride2 occurence 1\n",
      "Running layer 23: l17-l27_conv4_stride1 which occurs 11 times\n",
      "[INFO] 2025-04-28 17:23:22,624 - pytimeloop.accelergy_interface - Running Accelergy with command: accelergy /home/workspace/output_dir/parsed-processed-input.yaml -o ./output_dir/ -v\n"
     ]
    },
    {
     "name": "stderr",
     "output_type": "stream",
     "text": [
      "INFO:pytimeloop.accelergy_interface:Running Accelergy with command: accelergy /home/workspace/output_dir/parsed-processed-input.yaml -o ./output_dir/ -v\n"
     ]
    },
    {
     "name": "stdout",
     "output_type": "stream",
     "text": [
      "Adding energy and cycle stats for l17-l27_conv4_stride1 occurence 1\n",
      "Adding energy and cycle stats for l17-l27_conv4_stride1 occurence 2\n",
      "Adding energy and cycle stats for l17-l27_conv4_stride1 occurence 3\n",
      "Adding energy and cycle stats for l17-l27_conv4_stride1 occurence 4\n",
      "Adding energy and cycle stats for l17-l27_conv4_stride1 occurence 5\n",
      "Adding energy and cycle stats for l17-l27_conv4_stride1 occurence 6\n",
      "Adding energy and cycle stats for l17-l27_conv4_stride1 occurence 7\n",
      "Adding energy and cycle stats for l17-l27_conv4_stride1 occurence 8\n",
      "Adding energy and cycle stats for l17-l27_conv4_stride1 occurence 9\n",
      "Adding energy and cycle stats for l17-l27_conv4_stride1 occurence 10\n",
      "Adding energy and cycle stats for l17-l27_conv4_stride1 occurence 11\n",
      "Running layer 35: l28_conv5_stride2 which occurs 1 times\n",
      "[INFO] 2025-04-28 17:23:39,180 - pytimeloop.accelergy_interface - Running Accelergy with command: accelergy /home/workspace/output_dir/parsed-processed-input.yaml -o ./output_dir/ -v\n"
     ]
    },
    {
     "name": "stderr",
     "output_type": "stream",
     "text": [
      "INFO:pytimeloop.accelergy_interface:Running Accelergy with command: accelergy /home/workspace/output_dir/parsed-processed-input.yaml -o ./output_dir/ -v\n"
     ]
    },
    {
     "name": "stdout",
     "output_type": "stream",
     "text": [
      "Adding energy and cycle stats for l28_conv5_stride2 occurence 1\n",
      "Running layer 37: l29-l33_conv5_stride1 which occurs 5 times\n",
      "[INFO] 2025-04-28 17:23:54,916 - pytimeloop.accelergy_interface - Running Accelergy with command: accelergy /home/workspace/output_dir/parsed-processed-input.yaml -o ./output_dir/ -v\n"
     ]
    },
    {
     "name": "stderr",
     "output_type": "stream",
     "text": [
      "INFO:pytimeloop.accelergy_interface:Running Accelergy with command: accelergy /home/workspace/output_dir/parsed-processed-input.yaml -o ./output_dir/ -v\n"
     ]
    },
    {
     "name": "stdout",
     "output_type": "stream",
     "text": [
      "Adding energy and cycle stats for l29-l33_conv5_stride1 occurence 1\n",
      "Adding energy and cycle stats for l29-l33_conv5_stride1 occurence 2\n",
      "Adding energy and cycle stats for l29-l33_conv5_stride1 occurence 3\n",
      "Adding energy and cycle stats for l29-l33_conv5_stride1 occurence 4\n",
      "Adding energy and cycle stats for l29-l33_conv5_stride1 occurence 5\n",
      "==================================================\n",
      "Starting Timeloop with configuration:\n",
      "  - arch: Architecture.Base\n",
      "  - scale: GPUMemoryScale.MEMORY_16MB\n",
      "  - rack: RackSize.RACK_2\n",
      "  - peConfig: PEsConfig.PE_4\n",
      "==================================================\n",
      "Running layer 1: l1_conv1 which occurs 1 times\n",
      "[INFO] 2025-04-28 17:24:14,548 - pytimeloop.accelergy_interface - Running Accelergy with command: accelergy /home/workspace/output_dir/parsed-processed-input.yaml -o ./output_dir/ -v\n"
     ]
    },
    {
     "name": "stderr",
     "output_type": "stream",
     "text": [
      "INFO:pytimeloop.accelergy_interface:Running Accelergy with command: accelergy /home/workspace/output_dir/parsed-processed-input.yaml -o ./output_dir/ -v\n"
     ]
    },
    {
     "name": "stdout",
     "output_type": "stream",
     "text": [
      "Adding energy and cycle stats for l1_conv1 occurence 1\n",
      "Running layer 3: l2_conv2_stride2 which occurs 1 times\n",
      "[INFO] 2025-04-28 17:24:31,286 - pytimeloop.accelergy_interface - Running Accelergy with command: accelergy /home/workspace/output_dir/parsed-processed-input.yaml -o ./output_dir/ -v\n"
     ]
    },
    {
     "name": "stderr",
     "output_type": "stream",
     "text": [
      "INFO:pytimeloop.accelergy_interface:Running Accelergy with command: accelergy /home/workspace/output_dir/parsed-processed-input.yaml -o ./output_dir/ -v\n"
     ]
    },
    {
     "name": "stdout",
     "output_type": "stream",
     "text": [
      "Adding energy and cycle stats for l2_conv2_stride2 occurence 1\n",
      "Running layer 5: l3-l7_conv2_stride1 which occurs 5 times\n",
      "[INFO] 2025-04-28 17:24:46,778 - pytimeloop.accelergy_interface - Running Accelergy with command: accelergy /home/workspace/output_dir/parsed-processed-input.yaml -o ./output_dir/ -v\n"
     ]
    },
    {
     "name": "stderr",
     "output_type": "stream",
     "text": [
      "INFO:pytimeloop.accelergy_interface:Running Accelergy with command: accelergy /home/workspace/output_dir/parsed-processed-input.yaml -o ./output_dir/ -v\n"
     ]
    },
    {
     "name": "stdout",
     "output_type": "stream",
     "text": [
      "Adding energy and cycle stats for l3-l7_conv2_stride1 occurence 1\n",
      "Adding energy and cycle stats for l3-l7_conv2_stride1 occurence 2\n",
      "Adding energy and cycle stats for l3-l7_conv2_stride1 occurence 3\n",
      "Adding energy and cycle stats for l3-l7_conv2_stride1 occurence 4\n",
      "Adding energy and cycle stats for l3-l7_conv2_stride1 occurence 5\n",
      "Running layer 11: l8_conv3_stride2 which occurs 1 times\n",
      "[INFO] 2025-04-28 17:25:01,907 - pytimeloop.accelergy_interface - Running Accelergy with command: accelergy /home/workspace/output_dir/parsed-processed-input.yaml -o ./output_dir/ -v\n"
     ]
    },
    {
     "name": "stderr",
     "output_type": "stream",
     "text": [
      "INFO:pytimeloop.accelergy_interface:Running Accelergy with command: accelergy /home/workspace/output_dir/parsed-processed-input.yaml -o ./output_dir/ -v\n"
     ]
    },
    {
     "name": "stdout",
     "output_type": "stream",
     "text": [
      "Adding energy and cycle stats for l8_conv3_stride2 occurence 1\n",
      "Running layer 13: l9-l15_conv3_stride1 which occurs 7 times\n",
      "[INFO] 2025-04-28 17:25:16,651 - pytimeloop.accelergy_interface - Running Accelergy with command: accelergy /home/workspace/output_dir/parsed-processed-input.yaml -o ./output_dir/ -v\n"
     ]
    },
    {
     "name": "stderr",
     "output_type": "stream",
     "text": [
      "INFO:pytimeloop.accelergy_interface:Running Accelergy with command: accelergy /home/workspace/output_dir/parsed-processed-input.yaml -o ./output_dir/ -v\n"
     ]
    },
    {
     "name": "stdout",
     "output_type": "stream",
     "text": [
      "Adding energy and cycle stats for l9-l15_conv3_stride1 occurence 1\n",
      "Adding energy and cycle stats for l9-l15_conv3_stride1 occurence 2\n",
      "Adding energy and cycle stats for l9-l15_conv3_stride1 occurence 3\n",
      "Adding energy and cycle stats for l9-l15_conv3_stride1 occurence 4\n",
      "Adding energy and cycle stats for l9-l15_conv3_stride1 occurence 5\n",
      "Adding energy and cycle stats for l9-l15_conv3_stride1 occurence 6\n",
      "Adding energy and cycle stats for l9-l15_conv3_stride1 occurence 7\n",
      "Running layer 21: l16_conv4_stride2 which occurs 1 times\n",
      "[INFO] 2025-04-28 17:25:32,481 - pytimeloop.accelergy_interface - Running Accelergy with command: accelergy /home/workspace/output_dir/parsed-processed-input.yaml -o ./output_dir/ -v\n"
     ]
    },
    {
     "name": "stderr",
     "output_type": "stream",
     "text": [
      "INFO:pytimeloop.accelergy_interface:Running Accelergy with command: accelergy /home/workspace/output_dir/parsed-processed-input.yaml -o ./output_dir/ -v\n"
     ]
    },
    {
     "name": "stdout",
     "output_type": "stream",
     "text": [
      "Adding energy and cycle stats for l16_conv4_stride2 occurence 1\n",
      "Running layer 23: l17-l27_conv4_stride1 which occurs 11 times\n",
      "[INFO] 2025-04-28 17:25:47,202 - pytimeloop.accelergy_interface - Running Accelergy with command: accelergy /home/workspace/output_dir/parsed-processed-input.yaml -o ./output_dir/ -v\n"
     ]
    },
    {
     "name": "stderr",
     "output_type": "stream",
     "text": [
      "INFO:pytimeloop.accelergy_interface:Running Accelergy with command: accelergy /home/workspace/output_dir/parsed-processed-input.yaml -o ./output_dir/ -v\n"
     ]
    },
    {
     "name": "stdout",
     "output_type": "stream",
     "text": [
      "Adding energy and cycle stats for l17-l27_conv4_stride1 occurence 1\n",
      "Adding energy and cycle stats for l17-l27_conv4_stride1 occurence 2\n",
      "Adding energy and cycle stats for l17-l27_conv4_stride1 occurence 3\n",
      "Adding energy and cycle stats for l17-l27_conv4_stride1 occurence 4\n",
      "Adding energy and cycle stats for l17-l27_conv4_stride1 occurence 5\n",
      "Adding energy and cycle stats for l17-l27_conv4_stride1 occurence 6\n",
      "Adding energy and cycle stats for l17-l27_conv4_stride1 occurence 7\n",
      "Adding energy and cycle stats for l17-l27_conv4_stride1 occurence 8\n",
      "Adding energy and cycle stats for l17-l27_conv4_stride1 occurence 9\n",
      "Adding energy and cycle stats for l17-l27_conv4_stride1 occurence 10\n",
      "Adding energy and cycle stats for l17-l27_conv4_stride1 occurence 11\n",
      "Running layer 35: l28_conv5_stride2 which occurs 1 times\n",
      "[INFO] 2025-04-28 17:26:02,414 - pytimeloop.accelergy_interface - Running Accelergy with command: accelergy /home/workspace/output_dir/parsed-processed-input.yaml -o ./output_dir/ -v\n"
     ]
    },
    {
     "name": "stderr",
     "output_type": "stream",
     "text": [
      "INFO:pytimeloop.accelergy_interface:Running Accelergy with command: accelergy /home/workspace/output_dir/parsed-processed-input.yaml -o ./output_dir/ -v\n"
     ]
    },
    {
     "name": "stdout",
     "output_type": "stream",
     "text": [
      "Adding energy and cycle stats for l28_conv5_stride2 occurence 1\n",
      "Running layer 37: l29-l33_conv5_stride1 which occurs 5 times\n",
      "[INFO] 2025-04-28 17:26:17,226 - pytimeloop.accelergy_interface - Running Accelergy with command: accelergy /home/workspace/output_dir/parsed-processed-input.yaml -o ./output_dir/ -v\n"
     ]
    },
    {
     "name": "stderr",
     "output_type": "stream",
     "text": [
      "INFO:pytimeloop.accelergy_interface:Running Accelergy with command: accelergy /home/workspace/output_dir/parsed-processed-input.yaml -o ./output_dir/ -v\n"
     ]
    },
    {
     "name": "stdout",
     "output_type": "stream",
     "text": [
      "Adding energy and cycle stats for l29-l33_conv5_stride1 occurence 1\n",
      "Adding energy and cycle stats for l29-l33_conv5_stride1 occurence 2\n",
      "Adding energy and cycle stats for l29-l33_conv5_stride1 occurence 3\n",
      "Adding energy and cycle stats for l29-l33_conv5_stride1 occurence 4\n",
      "Adding energy and cycle stats for l29-l33_conv5_stride1 occurence 5\n",
      "==================================================\n",
      "Starting Timeloop with configuration:\n",
      "  - arch: Architecture.Base\n",
      "  - scale: GPUMemoryScale.MEMORY_16MB\n",
      "  - rack: RackSize.RACK_2\n",
      "  - peConfig: PEsConfig.PE_8\n",
      "==================================================\n",
      "Running layer 1: l1_conv1 which occurs 1 times\n",
      "[INFO] 2025-04-28 17:26:32,408 - pytimeloop.accelergy_interface - Running Accelergy with command: accelergy /home/workspace/output_dir/parsed-processed-input.yaml -o ./output_dir/ -v\n"
     ]
    },
    {
     "name": "stderr",
     "output_type": "stream",
     "text": [
      "INFO:pytimeloop.accelergy_interface:Running Accelergy with command: accelergy /home/workspace/output_dir/parsed-processed-input.yaml -o ./output_dir/ -v\n"
     ]
    },
    {
     "name": "stdout",
     "output_type": "stream",
     "text": [
      "Adding energy and cycle stats for l1_conv1 occurence 1\n",
      "Running layer 3: l2_conv2_stride2 which occurs 1 times\n",
      "[INFO] 2025-04-28 17:26:47,999 - pytimeloop.accelergy_interface - Running Accelergy with command: accelergy /home/workspace/output_dir/parsed-processed-input.yaml -o ./output_dir/ -v\n"
     ]
    },
    {
     "name": "stderr",
     "output_type": "stream",
     "text": [
      "INFO:pytimeloop.accelergy_interface:Running Accelergy with command: accelergy /home/workspace/output_dir/parsed-processed-input.yaml -o ./output_dir/ -v\n"
     ]
    },
    {
     "name": "stdout",
     "output_type": "stream",
     "text": [
      "Adding energy and cycle stats for l2_conv2_stride2 occurence 1\n",
      "Running layer 5: l3-l7_conv2_stride1 which occurs 5 times\n",
      "[INFO] 2025-04-28 17:27:03,301 - pytimeloop.accelergy_interface - Running Accelergy with command: accelergy /home/workspace/output_dir/parsed-processed-input.yaml -o ./output_dir/ -v\n"
     ]
    },
    {
     "name": "stderr",
     "output_type": "stream",
     "text": [
      "INFO:pytimeloop.accelergy_interface:Running Accelergy with command: accelergy /home/workspace/output_dir/parsed-processed-input.yaml -o ./output_dir/ -v\n"
     ]
    },
    {
     "name": "stdout",
     "output_type": "stream",
     "text": [
      "Adding energy and cycle stats for l3-l7_conv2_stride1 occurence 1\n",
      "Adding energy and cycle stats for l3-l7_conv2_stride1 occurence 2\n",
      "Adding energy and cycle stats for l3-l7_conv2_stride1 occurence 3\n",
      "Adding energy and cycle stats for l3-l7_conv2_stride1 occurence 4\n",
      "Adding energy and cycle stats for l3-l7_conv2_stride1 occurence 5\n",
      "Running layer 11: l8_conv3_stride2 which occurs 1 times\n",
      "[INFO] 2025-04-28 17:27:20,221 - pytimeloop.accelergy_interface - Running Accelergy with command: accelergy /home/workspace/output_dir/parsed-processed-input.yaml -o ./output_dir/ -v\n"
     ]
    },
    {
     "name": "stderr",
     "output_type": "stream",
     "text": [
      "INFO:pytimeloop.accelergy_interface:Running Accelergy with command: accelergy /home/workspace/output_dir/parsed-processed-input.yaml -o ./output_dir/ -v\n"
     ]
    },
    {
     "name": "stdout",
     "output_type": "stream",
     "text": [
      "Adding energy and cycle stats for l8_conv3_stride2 occurence 1\n",
      "Running layer 13: l9-l15_conv3_stride1 which occurs 7 times\n",
      "[INFO] 2025-04-28 17:27:35,229 - pytimeloop.accelergy_interface - Running Accelergy with command: accelergy /home/workspace/output_dir/parsed-processed-input.yaml -o ./output_dir/ -v\n"
     ]
    },
    {
     "name": "stderr",
     "output_type": "stream",
     "text": [
      "INFO:pytimeloop.accelergy_interface:Running Accelergy with command: accelergy /home/workspace/output_dir/parsed-processed-input.yaml -o ./output_dir/ -v\n"
     ]
    },
    {
     "name": "stdout",
     "output_type": "stream",
     "text": [
      "Adding energy and cycle stats for l9-l15_conv3_stride1 occurence 1\n",
      "Adding energy and cycle stats for l9-l15_conv3_stride1 occurence 2\n",
      "Adding energy and cycle stats for l9-l15_conv3_stride1 occurence 3\n",
      "Adding energy and cycle stats for l9-l15_conv3_stride1 occurence 4\n",
      "Adding energy and cycle stats for l9-l15_conv3_stride1 occurence 5\n",
      "Adding energy and cycle stats for l9-l15_conv3_stride1 occurence 6\n",
      "Adding energy and cycle stats for l9-l15_conv3_stride1 occurence 7\n",
      "Running layer 21: l16_conv4_stride2 which occurs 1 times\n",
      "[INFO] 2025-04-28 17:27:50,148 - pytimeloop.accelergy_interface - Running Accelergy with command: accelergy /home/workspace/output_dir/parsed-processed-input.yaml -o ./output_dir/ -v\n"
     ]
    },
    {
     "name": "stderr",
     "output_type": "stream",
     "text": [
      "INFO:pytimeloop.accelergy_interface:Running Accelergy with command: accelergy /home/workspace/output_dir/parsed-processed-input.yaml -o ./output_dir/ -v\n"
     ]
    },
    {
     "name": "stdout",
     "output_type": "stream",
     "text": [
      "Adding energy and cycle stats for l16_conv4_stride2 occurence 1\n",
      "Running layer 23: l17-l27_conv4_stride1 which occurs 11 times\n",
      "[INFO] 2025-04-28 17:28:05,861 - pytimeloop.accelergy_interface - Running Accelergy with command: accelergy /home/workspace/output_dir/parsed-processed-input.yaml -o ./output_dir/ -v\n"
     ]
    },
    {
     "name": "stderr",
     "output_type": "stream",
     "text": [
      "INFO:pytimeloop.accelergy_interface:Running Accelergy with command: accelergy /home/workspace/output_dir/parsed-processed-input.yaml -o ./output_dir/ -v\n"
     ]
    },
    {
     "name": "stdout",
     "output_type": "stream",
     "text": [
      "Adding energy and cycle stats for l17-l27_conv4_stride1 occurence 1\n",
      "Adding energy and cycle stats for l17-l27_conv4_stride1 occurence 2\n",
      "Adding energy and cycle stats for l17-l27_conv4_stride1 occurence 3\n",
      "Adding energy and cycle stats for l17-l27_conv4_stride1 occurence 4\n",
      "Adding energy and cycle stats for l17-l27_conv4_stride1 occurence 5\n",
      "Adding energy and cycle stats for l17-l27_conv4_stride1 occurence 6\n",
      "Adding energy and cycle stats for l17-l27_conv4_stride1 occurence 7\n",
      "Adding energy and cycle stats for l17-l27_conv4_stride1 occurence 8\n",
      "Adding energy and cycle stats for l17-l27_conv4_stride1 occurence 9\n",
      "Adding energy and cycle stats for l17-l27_conv4_stride1 occurence 10\n",
      "Adding energy and cycle stats for l17-l27_conv4_stride1 occurence 11\n",
      "Running layer 35: l28_conv5_stride2 which occurs 1 times\n",
      "[INFO] 2025-04-28 17:28:20,885 - pytimeloop.accelergy_interface - Running Accelergy with command: accelergy /home/workspace/output_dir/parsed-processed-input.yaml -o ./output_dir/ -v\n"
     ]
    },
    {
     "name": "stderr",
     "output_type": "stream",
     "text": [
      "INFO:pytimeloop.accelergy_interface:Running Accelergy with command: accelergy /home/workspace/output_dir/parsed-processed-input.yaml -o ./output_dir/ -v\n"
     ]
    },
    {
     "name": "stdout",
     "output_type": "stream",
     "text": [
      "Adding energy and cycle stats for l28_conv5_stride2 occurence 1\n",
      "Running layer 37: l29-l33_conv5_stride1 which occurs 5 times\n",
      "[INFO] 2025-04-28 17:28:35,682 - pytimeloop.accelergy_interface - Running Accelergy with command: accelergy /home/workspace/output_dir/parsed-processed-input.yaml -o ./output_dir/ -v\n"
     ]
    },
    {
     "name": "stderr",
     "output_type": "stream",
     "text": [
      "INFO:pytimeloop.accelergy_interface:Running Accelergy with command: accelergy /home/workspace/output_dir/parsed-processed-input.yaml -o ./output_dir/ -v\n"
     ]
    },
    {
     "name": "stdout",
     "output_type": "stream",
     "text": [
      "Adding energy and cycle stats for l29-l33_conv5_stride1 occurence 1\n",
      "Adding energy and cycle stats for l29-l33_conv5_stride1 occurence 2\n",
      "Adding energy and cycle stats for l29-l33_conv5_stride1 occurence 3\n",
      "Adding energy and cycle stats for l29-l33_conv5_stride1 occurence 4\n",
      "Adding energy and cycle stats for l29-l33_conv5_stride1 occurence 5\n",
      "==================================================\n",
      "Starting Timeloop with configuration:\n",
      "  - arch: Architecture.Base\n",
      "  - scale: GPUMemoryScale.MEMORY_64MB\n",
      "  - rack: RackSize.RACK_2\n",
      "  - peConfig: PEsConfig.PE_2\n",
      "==================================================\n",
      "Running layer 1: l1_conv1 which occurs 1 times\n",
      "[INFO] 2025-04-28 17:28:52,728 - pytimeloop.accelergy_interface - Running Accelergy with command: accelergy /home/workspace/output_dir/parsed-processed-input.yaml -o ./output_dir/ -v\n"
     ]
    },
    {
     "name": "stderr",
     "output_type": "stream",
     "text": [
      "INFO:pytimeloop.accelergy_interface:Running Accelergy with command: accelergy /home/workspace/output_dir/parsed-processed-input.yaml -o ./output_dir/ -v\n"
     ]
    },
    {
     "name": "stdout",
     "output_type": "stream",
     "text": [
      "Adding energy and cycle stats for l1_conv1 occurence 1\n",
      "Running layer 3: l2_conv2_stride2 which occurs 1 times\n",
      "[INFO] 2025-04-28 17:29:09,645 - pytimeloop.accelergy_interface - Running Accelergy with command: accelergy /home/workspace/output_dir/parsed-processed-input.yaml -o ./output_dir/ -v\n"
     ]
    },
    {
     "name": "stderr",
     "output_type": "stream",
     "text": [
      "INFO:pytimeloop.accelergy_interface:Running Accelergy with command: accelergy /home/workspace/output_dir/parsed-processed-input.yaml -o ./output_dir/ -v\n"
     ]
    },
    {
     "name": "stdout",
     "output_type": "stream",
     "text": [
      "Adding energy and cycle stats for l2_conv2_stride2 occurence 1\n",
      "Running layer 5: l3-l7_conv2_stride1 which occurs 5 times\n",
      "[INFO] 2025-04-28 17:29:25,532 - pytimeloop.accelergy_interface - Running Accelergy with command: accelergy /home/workspace/output_dir/parsed-processed-input.yaml -o ./output_dir/ -v\n"
     ]
    },
    {
     "name": "stderr",
     "output_type": "stream",
     "text": [
      "INFO:pytimeloop.accelergy_interface:Running Accelergy with command: accelergy /home/workspace/output_dir/parsed-processed-input.yaml -o ./output_dir/ -v\n"
     ]
    },
    {
     "name": "stdout",
     "output_type": "stream",
     "text": [
      "Adding energy and cycle stats for l3-l7_conv2_stride1 occurence 1\n",
      "Adding energy and cycle stats for l3-l7_conv2_stride1 occurence 2\n",
      "Adding energy and cycle stats for l3-l7_conv2_stride1 occurence 3\n",
      "Adding energy and cycle stats for l3-l7_conv2_stride1 occurence 4\n",
      "Adding energy and cycle stats for l3-l7_conv2_stride1 occurence 5\n",
      "Running layer 11: l8_conv3_stride2 which occurs 1 times\n",
      "[INFO] 2025-04-28 17:29:41,221 - pytimeloop.accelergy_interface - Running Accelergy with command: accelergy /home/workspace/output_dir/parsed-processed-input.yaml -o ./output_dir/ -v\n"
     ]
    },
    {
     "name": "stderr",
     "output_type": "stream",
     "text": [
      "INFO:pytimeloop.accelergy_interface:Running Accelergy with command: accelergy /home/workspace/output_dir/parsed-processed-input.yaml -o ./output_dir/ -v\n"
     ]
    },
    {
     "name": "stdout",
     "output_type": "stream",
     "text": [
      "Adding energy and cycle stats for l8_conv3_stride2 occurence 1\n",
      "Running layer 13: l9-l15_conv3_stride1 which occurs 7 times\n",
      "[INFO] 2025-04-28 17:29:56,985 - pytimeloop.accelergy_interface - Running Accelergy with command: accelergy /home/workspace/output_dir/parsed-processed-input.yaml -o ./output_dir/ -v\n"
     ]
    },
    {
     "name": "stderr",
     "output_type": "stream",
     "text": [
      "INFO:pytimeloop.accelergy_interface:Running Accelergy with command: accelergy /home/workspace/output_dir/parsed-processed-input.yaml -o ./output_dir/ -v\n"
     ]
    },
    {
     "name": "stdout",
     "output_type": "stream",
     "text": [
      "Adding energy and cycle stats for l9-l15_conv3_stride1 occurence 1\n",
      "Adding energy and cycle stats for l9-l15_conv3_stride1 occurence 2\n",
      "Adding energy and cycle stats for l9-l15_conv3_stride1 occurence 3\n",
      "Adding energy and cycle stats for l9-l15_conv3_stride1 occurence 4\n",
      "Adding energy and cycle stats for l9-l15_conv3_stride1 occurence 5\n",
      "Adding energy and cycle stats for l9-l15_conv3_stride1 occurence 6\n",
      "Adding energy and cycle stats for l9-l15_conv3_stride1 occurence 7\n",
      "Running layer 21: l16_conv4_stride2 which occurs 1 times\n",
      "[INFO] 2025-04-28 17:30:14,469 - pytimeloop.accelergy_interface - Running Accelergy with command: accelergy /home/workspace/output_dir/parsed-processed-input.yaml -o ./output_dir/ -v\n"
     ]
    },
    {
     "name": "stderr",
     "output_type": "stream",
     "text": [
      "INFO:pytimeloop.accelergy_interface:Running Accelergy with command: accelergy /home/workspace/output_dir/parsed-processed-input.yaml -o ./output_dir/ -v\n"
     ]
    },
    {
     "name": "stdout",
     "output_type": "stream",
     "text": [
      "Adding energy and cycle stats for l16_conv4_stride2 occurence 1\n",
      "Running layer 23: l17-l27_conv4_stride1 which occurs 11 times\n",
      "[INFO] 2025-04-28 17:30:31,104 - pytimeloop.accelergy_interface - Running Accelergy with command: accelergy /home/workspace/output_dir/parsed-processed-input.yaml -o ./output_dir/ -v\n"
     ]
    },
    {
     "name": "stderr",
     "output_type": "stream",
     "text": [
      "INFO:pytimeloop.accelergy_interface:Running Accelergy with command: accelergy /home/workspace/output_dir/parsed-processed-input.yaml -o ./output_dir/ -v\n"
     ]
    },
    {
     "name": "stdout",
     "output_type": "stream",
     "text": [
      "Adding energy and cycle stats for l17-l27_conv4_stride1 occurence 1\n",
      "Adding energy and cycle stats for l17-l27_conv4_stride1 occurence 2\n",
      "Adding energy and cycle stats for l17-l27_conv4_stride1 occurence 3\n",
      "Adding energy and cycle stats for l17-l27_conv4_stride1 occurence 4\n",
      "Adding energy and cycle stats for l17-l27_conv4_stride1 occurence 5\n",
      "Adding energy and cycle stats for l17-l27_conv4_stride1 occurence 6\n",
      "Adding energy and cycle stats for l17-l27_conv4_stride1 occurence 7\n",
      "Adding energy and cycle stats for l17-l27_conv4_stride1 occurence 8\n",
      "Adding energy and cycle stats for l17-l27_conv4_stride1 occurence 9\n",
      "Adding energy and cycle stats for l17-l27_conv4_stride1 occurence 10\n",
      "Adding energy and cycle stats for l17-l27_conv4_stride1 occurence 11\n",
      "Running layer 35: l28_conv5_stride2 which occurs 1 times\n",
      "[INFO] 2025-04-28 17:30:48,147 - pytimeloop.accelergy_interface - Running Accelergy with command: accelergy /home/workspace/output_dir/parsed-processed-input.yaml -o ./output_dir/ -v\n"
     ]
    },
    {
     "name": "stderr",
     "output_type": "stream",
     "text": [
      "INFO:pytimeloop.accelergy_interface:Running Accelergy with command: accelergy /home/workspace/output_dir/parsed-processed-input.yaml -o ./output_dir/ -v\n"
     ]
    },
    {
     "name": "stdout",
     "output_type": "stream",
     "text": [
      "Adding energy and cycle stats for l28_conv5_stride2 occurence 1\n",
      "Running layer 37: l29-l33_conv5_stride1 which occurs 5 times\n",
      "[INFO] 2025-04-28 17:31:05,675 - pytimeloop.accelergy_interface - Running Accelergy with command: accelergy /home/workspace/output_dir/parsed-processed-input.yaml -o ./output_dir/ -v\n"
     ]
    },
    {
     "name": "stderr",
     "output_type": "stream",
     "text": [
      "INFO:pytimeloop.accelergy_interface:Running Accelergy with command: accelergy /home/workspace/output_dir/parsed-processed-input.yaml -o ./output_dir/ -v\n"
     ]
    },
    {
     "name": "stdout",
     "output_type": "stream",
     "text": [
      "Adding energy and cycle stats for l29-l33_conv5_stride1 occurence 1\n",
      "Adding energy and cycle stats for l29-l33_conv5_stride1 occurence 2\n",
      "Adding energy and cycle stats for l29-l33_conv5_stride1 occurence 3\n",
      "Adding energy and cycle stats for l29-l33_conv5_stride1 occurence 4\n",
      "Adding energy and cycle stats for l29-l33_conv5_stride1 occurence 5\n",
      "==================================================\n",
      "Starting Timeloop with configuration:\n",
      "  - arch: Architecture.Base\n",
      "  - scale: GPUMemoryScale.MEMORY_64MB\n",
      "  - rack: RackSize.RACK_2\n",
      "  - peConfig: PEsConfig.PE_4\n",
      "==================================================\n",
      "Running layer 1: l1_conv1 which occurs 1 times\n",
      "[INFO] 2025-04-28 17:31:21,188 - pytimeloop.accelergy_interface - Running Accelergy with command: accelergy /home/workspace/output_dir/parsed-processed-input.yaml -o ./output_dir/ -v\n"
     ]
    },
    {
     "name": "stderr",
     "output_type": "stream",
     "text": [
      "INFO:pytimeloop.accelergy_interface:Running Accelergy with command: accelergy /home/workspace/output_dir/parsed-processed-input.yaml -o ./output_dir/ -v\n"
     ]
    },
    {
     "name": "stdout",
     "output_type": "stream",
     "text": [
      "Adding energy and cycle stats for l1_conv1 occurence 1\n",
      "Running layer 3: l2_conv2_stride2 which occurs 1 times\n",
      "[INFO] 2025-04-28 17:31:37,223 - pytimeloop.accelergy_interface - Running Accelergy with command: accelergy /home/workspace/output_dir/parsed-processed-input.yaml -o ./output_dir/ -v\n"
     ]
    },
    {
     "name": "stderr",
     "output_type": "stream",
     "text": [
      "INFO:pytimeloop.accelergy_interface:Running Accelergy with command: accelergy /home/workspace/output_dir/parsed-processed-input.yaml -o ./output_dir/ -v\n"
     ]
    },
    {
     "name": "stdout",
     "output_type": "stream",
     "text": [
      "Adding energy and cycle stats for l2_conv2_stride2 occurence 1\n",
      "Running layer 5: l3-l7_conv2_stride1 which occurs 5 times\n",
      "[INFO] 2025-04-28 17:31:52,914 - pytimeloop.accelergy_interface - Running Accelergy with command: accelergy /home/workspace/output_dir/parsed-processed-input.yaml -o ./output_dir/ -v\n"
     ]
    },
    {
     "name": "stderr",
     "output_type": "stream",
     "text": [
      "INFO:pytimeloop.accelergy_interface:Running Accelergy with command: accelergy /home/workspace/output_dir/parsed-processed-input.yaml -o ./output_dir/ -v\n"
     ]
    },
    {
     "name": "stdout",
     "output_type": "stream",
     "text": [
      "Adding energy and cycle stats for l3-l7_conv2_stride1 occurence 1\n",
      "Adding energy and cycle stats for l3-l7_conv2_stride1 occurence 2\n",
      "Adding energy and cycle stats for l3-l7_conv2_stride1 occurence 3\n",
      "Adding energy and cycle stats for l3-l7_conv2_stride1 occurence 4\n",
      "Adding energy and cycle stats for l3-l7_conv2_stride1 occurence 5\n",
      "Running layer 11: l8_conv3_stride2 which occurs 1 times\n",
      "[INFO] 2025-04-28 17:32:08,520 - pytimeloop.accelergy_interface - Running Accelergy with command: accelergy /home/workspace/output_dir/parsed-processed-input.yaml -o ./output_dir/ -v\n"
     ]
    },
    {
     "name": "stderr",
     "output_type": "stream",
     "text": [
      "INFO:pytimeloop.accelergy_interface:Running Accelergy with command: accelergy /home/workspace/output_dir/parsed-processed-input.yaml -o ./output_dir/ -v\n"
     ]
    },
    {
     "name": "stdout",
     "output_type": "stream",
     "text": [
      "Adding energy and cycle stats for l8_conv3_stride2 occurence 1\n",
      "Running layer 13: l9-l15_conv3_stride1 which occurs 7 times\n",
      "[INFO] 2025-04-28 17:32:24,122 - pytimeloop.accelergy_interface - Running Accelergy with command: accelergy /home/workspace/output_dir/parsed-processed-input.yaml -o ./output_dir/ -v\n"
     ]
    },
    {
     "name": "stderr",
     "output_type": "stream",
     "text": [
      "INFO:pytimeloop.accelergy_interface:Running Accelergy with command: accelergy /home/workspace/output_dir/parsed-processed-input.yaml -o ./output_dir/ -v\n"
     ]
    },
    {
     "name": "stdout",
     "output_type": "stream",
     "text": [
      "Adding energy and cycle stats for l9-l15_conv3_stride1 occurence 1\n",
      "Adding energy and cycle stats for l9-l15_conv3_stride1 occurence 2\n",
      "Adding energy and cycle stats for l9-l15_conv3_stride1 occurence 3\n",
      "Adding energy and cycle stats for l9-l15_conv3_stride1 occurence 4\n",
      "Adding energy and cycle stats for l9-l15_conv3_stride1 occurence 5\n",
      "Adding energy and cycle stats for l9-l15_conv3_stride1 occurence 6\n",
      "Adding energy and cycle stats for l9-l15_conv3_stride1 occurence 7\n",
      "Running layer 21: l16_conv4_stride2 which occurs 1 times\n",
      "[INFO] 2025-04-28 17:32:40,092 - pytimeloop.accelergy_interface - Running Accelergy with command: accelergy /home/workspace/output_dir/parsed-processed-input.yaml -o ./output_dir/ -v\n"
     ]
    },
    {
     "name": "stderr",
     "output_type": "stream",
     "text": [
      "INFO:pytimeloop.accelergy_interface:Running Accelergy with command: accelergy /home/workspace/output_dir/parsed-processed-input.yaml -o ./output_dir/ -v\n"
     ]
    },
    {
     "name": "stdout",
     "output_type": "stream",
     "text": [
      "Adding energy and cycle stats for l16_conv4_stride2 occurence 1\n",
      "Running layer 23: l17-l27_conv4_stride1 which occurs 11 times\n",
      "[INFO] 2025-04-28 17:32:56,094 - pytimeloop.accelergy_interface - Running Accelergy with command: accelergy /home/workspace/output_dir/parsed-processed-input.yaml -o ./output_dir/ -v\n"
     ]
    },
    {
     "name": "stderr",
     "output_type": "stream",
     "text": [
      "INFO:pytimeloop.accelergy_interface:Running Accelergy with command: accelergy /home/workspace/output_dir/parsed-processed-input.yaml -o ./output_dir/ -v\n"
     ]
    },
    {
     "name": "stdout",
     "output_type": "stream",
     "text": [
      "Adding energy and cycle stats for l17-l27_conv4_stride1 occurence 1\n",
      "Adding energy and cycle stats for l17-l27_conv4_stride1 occurence 2\n",
      "Adding energy and cycle stats for l17-l27_conv4_stride1 occurence 3\n",
      "Adding energy and cycle stats for l17-l27_conv4_stride1 occurence 4\n",
      "Adding energy and cycle stats for l17-l27_conv4_stride1 occurence 5\n",
      "Adding energy and cycle stats for l17-l27_conv4_stride1 occurence 6\n",
      "Adding energy and cycle stats for l17-l27_conv4_stride1 occurence 7\n",
      "Adding energy and cycle stats for l17-l27_conv4_stride1 occurence 8\n",
      "Adding energy and cycle stats for l17-l27_conv4_stride1 occurence 9\n",
      "Adding energy and cycle stats for l17-l27_conv4_stride1 occurence 10\n",
      "Adding energy and cycle stats for l17-l27_conv4_stride1 occurence 11\n",
      "Running layer 35: l28_conv5_stride2 which occurs 1 times\n",
      "[INFO] 2025-04-28 17:33:13,005 - pytimeloop.accelergy_interface - Running Accelergy with command: accelergy /home/workspace/output_dir/parsed-processed-input.yaml -o ./output_dir/ -v\n"
     ]
    },
    {
     "name": "stderr",
     "output_type": "stream",
     "text": [
      "INFO:pytimeloop.accelergy_interface:Running Accelergy with command: accelergy /home/workspace/output_dir/parsed-processed-input.yaml -o ./output_dir/ -v\n"
     ]
    },
    {
     "name": "stdout",
     "output_type": "stream",
     "text": [
      "Adding energy and cycle stats for l28_conv5_stride2 occurence 1\n",
      "Running layer 37: l29-l33_conv5_stride1 which occurs 5 times\n",
      "[INFO] 2025-04-28 17:33:28,937 - pytimeloop.accelergy_interface - Running Accelergy with command: accelergy /home/workspace/output_dir/parsed-processed-input.yaml -o ./output_dir/ -v\n"
     ]
    },
    {
     "name": "stderr",
     "output_type": "stream",
     "text": [
      "INFO:pytimeloop.accelergy_interface:Running Accelergy with command: accelergy /home/workspace/output_dir/parsed-processed-input.yaml -o ./output_dir/ -v\n"
     ]
    },
    {
     "name": "stdout",
     "output_type": "stream",
     "text": [
      "Adding energy and cycle stats for l29-l33_conv5_stride1 occurence 1\n",
      "Adding energy and cycle stats for l29-l33_conv5_stride1 occurence 2\n",
      "Adding energy and cycle stats for l29-l33_conv5_stride1 occurence 3\n",
      "Adding energy and cycle stats for l29-l33_conv5_stride1 occurence 4\n",
      "Adding energy and cycle stats for l29-l33_conv5_stride1 occurence 5\n",
      "==================================================\n",
      "Starting Timeloop with configuration:\n",
      "  - arch: Architecture.Base\n",
      "  - scale: GPUMemoryScale.MEMORY_64MB\n",
      "  - rack: RackSize.RACK_2\n",
      "  - peConfig: PEsConfig.PE_8\n",
      "==================================================\n",
      "Running layer 1: l1_conv1 which occurs 1 times\n",
      "[INFO] 2025-04-28 17:33:45,555 - pytimeloop.accelergy_interface - Running Accelergy with command: accelergy /home/workspace/output_dir/parsed-processed-input.yaml -o ./output_dir/ -v\n"
     ]
    },
    {
     "name": "stderr",
     "output_type": "stream",
     "text": [
      "INFO:pytimeloop.accelergy_interface:Running Accelergy with command: accelergy /home/workspace/output_dir/parsed-processed-input.yaml -o ./output_dir/ -v\n"
     ]
    },
    {
     "name": "stdout",
     "output_type": "stream",
     "text": [
      "Adding energy and cycle stats for l1_conv1 occurence 1\n",
      "Running layer 3: l2_conv2_stride2 which occurs 1 times\n",
      "[INFO] 2025-04-28 17:34:02,158 - pytimeloop.accelergy_interface - Running Accelergy with command: accelergy /home/workspace/output_dir/parsed-processed-input.yaml -o ./output_dir/ -v\n"
     ]
    },
    {
     "name": "stderr",
     "output_type": "stream",
     "text": [
      "INFO:pytimeloop.accelergy_interface:Running Accelergy with command: accelergy /home/workspace/output_dir/parsed-processed-input.yaml -o ./output_dir/ -v\n"
     ]
    },
    {
     "name": "stdout",
     "output_type": "stream",
     "text": [
      "Adding energy and cycle stats for l2_conv2_stride2 occurence 1\n",
      "Running layer 5: l3-l7_conv2_stride1 which occurs 5 times\n",
      "[INFO] 2025-04-28 17:34:19,741 - pytimeloop.accelergy_interface - Running Accelergy with command: accelergy /home/workspace/output_dir/parsed-processed-input.yaml -o ./output_dir/ -v\n"
     ]
    },
    {
     "name": "stderr",
     "output_type": "stream",
     "text": [
      "INFO:pytimeloop.accelergy_interface:Running Accelergy with command: accelergy /home/workspace/output_dir/parsed-processed-input.yaml -o ./output_dir/ -v\n"
     ]
    },
    {
     "name": "stdout",
     "output_type": "stream",
     "text": [
      "Adding energy and cycle stats for l3-l7_conv2_stride1 occurence 1\n",
      "Adding energy and cycle stats for l3-l7_conv2_stride1 occurence 2\n",
      "Adding energy and cycle stats for l3-l7_conv2_stride1 occurence 3\n",
      "Adding energy and cycle stats for l3-l7_conv2_stride1 occurence 4\n",
      "Adding energy and cycle stats for l3-l7_conv2_stride1 occurence 5\n",
      "Running layer 11: l8_conv3_stride2 which occurs 1 times\n",
      "[INFO] 2025-04-28 17:34:35,645 - pytimeloop.accelergy_interface - Running Accelergy with command: accelergy /home/workspace/output_dir/parsed-processed-input.yaml -o ./output_dir/ -v\n"
     ]
    },
    {
     "name": "stderr",
     "output_type": "stream",
     "text": [
      "INFO:pytimeloop.accelergy_interface:Running Accelergy with command: accelergy /home/workspace/output_dir/parsed-processed-input.yaml -o ./output_dir/ -v\n"
     ]
    },
    {
     "name": "stdout",
     "output_type": "stream",
     "text": [
      "Adding energy and cycle stats for l8_conv3_stride2 occurence 1\n",
      "Running layer 13: l9-l15_conv3_stride1 which occurs 7 times\n",
      "[INFO] 2025-04-28 17:34:51,381 - pytimeloop.accelergy_interface - Running Accelergy with command: accelergy /home/workspace/output_dir/parsed-processed-input.yaml -o ./output_dir/ -v\n"
     ]
    },
    {
     "name": "stderr",
     "output_type": "stream",
     "text": [
      "INFO:pytimeloop.accelergy_interface:Running Accelergy with command: accelergy /home/workspace/output_dir/parsed-processed-input.yaml -o ./output_dir/ -v\n"
     ]
    },
    {
     "name": "stdout",
     "output_type": "stream",
     "text": [
      "Adding energy and cycle stats for l9-l15_conv3_stride1 occurence 1\n",
      "Adding energy and cycle stats for l9-l15_conv3_stride1 occurence 2\n",
      "Adding energy and cycle stats for l9-l15_conv3_stride1 occurence 3\n",
      "Adding energy and cycle stats for l9-l15_conv3_stride1 occurence 4\n",
      "Adding energy and cycle stats for l9-l15_conv3_stride1 occurence 5\n",
      "Adding energy and cycle stats for l9-l15_conv3_stride1 occurence 6\n",
      "Adding energy and cycle stats for l9-l15_conv3_stride1 occurence 7\n",
      "Running layer 21: l16_conv4_stride2 which occurs 1 times\n",
      "[INFO] 2025-04-28 17:35:07,981 - pytimeloop.accelergy_interface - Running Accelergy with command: accelergy /home/workspace/output_dir/parsed-processed-input.yaml -o ./output_dir/ -v\n"
     ]
    },
    {
     "name": "stderr",
     "output_type": "stream",
     "text": [
      "INFO:pytimeloop.accelergy_interface:Running Accelergy with command: accelergy /home/workspace/output_dir/parsed-processed-input.yaml -o ./output_dir/ -v\n"
     ]
    },
    {
     "name": "stdout",
     "output_type": "stream",
     "text": [
      "Adding energy and cycle stats for l16_conv4_stride2 occurence 1\n",
      "Running layer 23: l17-l27_conv4_stride1 which occurs 11 times\n",
      "[INFO] 2025-04-28 17:35:24,219 - pytimeloop.accelergy_interface - Running Accelergy with command: accelergy /home/workspace/output_dir/parsed-processed-input.yaml -o ./output_dir/ -v\n"
     ]
    },
    {
     "name": "stderr",
     "output_type": "stream",
     "text": [
      "INFO:pytimeloop.accelergy_interface:Running Accelergy with command: accelergy /home/workspace/output_dir/parsed-processed-input.yaml -o ./output_dir/ -v\n"
     ]
    },
    {
     "name": "stdout",
     "output_type": "stream",
     "text": [
      "Adding energy and cycle stats for l17-l27_conv4_stride1 occurence 1\n",
      "Adding energy and cycle stats for l17-l27_conv4_stride1 occurence 2\n",
      "Adding energy and cycle stats for l17-l27_conv4_stride1 occurence 3\n",
      "Adding energy and cycle stats for l17-l27_conv4_stride1 occurence 4\n",
      "Adding energy and cycle stats for l17-l27_conv4_stride1 occurence 5\n",
      "Adding energy and cycle stats for l17-l27_conv4_stride1 occurence 6\n",
      "Adding energy and cycle stats for l17-l27_conv4_stride1 occurence 7\n",
      "Adding energy and cycle stats for l17-l27_conv4_stride1 occurence 8\n",
      "Adding energy and cycle stats for l17-l27_conv4_stride1 occurence 9\n",
      "Adding energy and cycle stats for l17-l27_conv4_stride1 occurence 10\n",
      "Adding energy and cycle stats for l17-l27_conv4_stride1 occurence 11\n",
      "Running layer 35: l28_conv5_stride2 which occurs 1 times\n",
      "[INFO] 2025-04-28 17:35:40,589 - pytimeloop.accelergy_interface - Running Accelergy with command: accelergy /home/workspace/output_dir/parsed-processed-input.yaml -o ./output_dir/ -v\n"
     ]
    },
    {
     "name": "stderr",
     "output_type": "stream",
     "text": [
      "INFO:pytimeloop.accelergy_interface:Running Accelergy with command: accelergy /home/workspace/output_dir/parsed-processed-input.yaml -o ./output_dir/ -v\n"
     ]
    },
    {
     "name": "stdout",
     "output_type": "stream",
     "text": [
      "Adding energy and cycle stats for l28_conv5_stride2 occurence 1\n",
      "Running layer 37: l29-l33_conv5_stride1 which occurs 5 times\n",
      "[INFO] 2025-04-28 17:35:56,686 - pytimeloop.accelergy_interface - Running Accelergy with command: accelergy /home/workspace/output_dir/parsed-processed-input.yaml -o ./output_dir/ -v\n"
     ]
    },
    {
     "name": "stderr",
     "output_type": "stream",
     "text": [
      "INFO:pytimeloop.accelergy_interface:Running Accelergy with command: accelergy /home/workspace/output_dir/parsed-processed-input.yaml -o ./output_dir/ -v\n"
     ]
    },
    {
     "name": "stdout",
     "output_type": "stream",
     "text": [
      "Adding energy and cycle stats for l29-l33_conv5_stride1 occurence 1\n",
      "Adding energy and cycle stats for l29-l33_conv5_stride1 occurence 2\n",
      "Adding energy and cycle stats for l29-l33_conv5_stride1 occurence 3\n",
      "Adding energy and cycle stats for l29-l33_conv5_stride1 occurence 4\n",
      "Adding energy and cycle stats for l29-l33_conv5_stride1 occurence 5\n",
      "==================================================\n",
      "Starting Timeloop with configuration:\n",
      "  - arch: Architecture.Base\n",
      "  - scale: GPUMemoryScale.MEMORY_1024MB\n",
      "  - rack: RackSize.RACK_2\n",
      "  - peConfig: PEsConfig.PE_2\n",
      "==================================================\n",
      "Running layer 1: l1_conv1 which occurs 1 times\n",
      "[INFO] 2025-04-28 17:36:12,712 - pytimeloop.accelergy_interface - Running Accelergy with command: accelergy /home/workspace/output_dir/parsed-processed-input.yaml -o ./output_dir/ -v\n"
     ]
    },
    {
     "name": "stderr",
     "output_type": "stream",
     "text": [
      "INFO:pytimeloop.accelergy_interface:Running Accelergy with command: accelergy /home/workspace/output_dir/parsed-processed-input.yaml -o ./output_dir/ -v\n"
     ]
    },
    {
     "name": "stdout",
     "output_type": "stream",
     "text": [
      "Adding energy and cycle stats for l1_conv1 occurence 1\n",
      "Running layer 3: l2_conv2_stride2 which occurs 1 times\n",
      "[INFO] 2025-04-28 17:36:26,880 - pytimeloop.accelergy_interface - Running Accelergy with command: accelergy /home/workspace/output_dir/parsed-processed-input.yaml -o ./output_dir/ -v\n"
     ]
    },
    {
     "name": "stderr",
     "output_type": "stream",
     "text": [
      "INFO:pytimeloop.accelergy_interface:Running Accelergy with command: accelergy /home/workspace/output_dir/parsed-processed-input.yaml -o ./output_dir/ -v\n"
     ]
    },
    {
     "name": "stdout",
     "output_type": "stream",
     "text": [
      "Adding energy and cycle stats for l2_conv2_stride2 occurence 1\n",
      "Running layer 5: l3-l7_conv2_stride1 which occurs 5 times\n",
      "[INFO] 2025-04-28 17:36:40,947 - pytimeloop.accelergy_interface - Running Accelergy with command: accelergy /home/workspace/output_dir/parsed-processed-input.yaml -o ./output_dir/ -v\n"
     ]
    },
    {
     "name": "stderr",
     "output_type": "stream",
     "text": [
      "INFO:pytimeloop.accelergy_interface:Running Accelergy with command: accelergy /home/workspace/output_dir/parsed-processed-input.yaml -o ./output_dir/ -v\n"
     ]
    },
    {
     "name": "stdout",
     "output_type": "stream",
     "text": [
      "Adding energy and cycle stats for l3-l7_conv2_stride1 occurence 1\n",
      "Adding energy and cycle stats for l3-l7_conv2_stride1 occurence 2\n",
      "Adding energy and cycle stats for l3-l7_conv2_stride1 occurence 3\n",
      "Adding energy and cycle stats for l3-l7_conv2_stride1 occurence 4\n",
      "Adding energy and cycle stats for l3-l7_conv2_stride1 occurence 5\n",
      "Running layer 11: l8_conv3_stride2 which occurs 1 times\n",
      "[INFO] 2025-04-28 17:36:55,305 - pytimeloop.accelergy_interface - Running Accelergy with command: accelergy /home/workspace/output_dir/parsed-processed-input.yaml -o ./output_dir/ -v\n"
     ]
    },
    {
     "name": "stderr",
     "output_type": "stream",
     "text": [
      "INFO:pytimeloop.accelergy_interface:Running Accelergy with command: accelergy /home/workspace/output_dir/parsed-processed-input.yaml -o ./output_dir/ -v\n"
     ]
    },
    {
     "name": "stdout",
     "output_type": "stream",
     "text": [
      "Adding energy and cycle stats for l8_conv3_stride2 occurence 1\n",
      "Running layer 13: l9-l15_conv3_stride1 which occurs 7 times\n",
      "[INFO] 2025-04-28 17:37:10,036 - pytimeloop.accelergy_interface - Running Accelergy with command: accelergy /home/workspace/output_dir/parsed-processed-input.yaml -o ./output_dir/ -v\n"
     ]
    },
    {
     "name": "stderr",
     "output_type": "stream",
     "text": [
      "INFO:pytimeloop.accelergy_interface:Running Accelergy with command: accelergy /home/workspace/output_dir/parsed-processed-input.yaml -o ./output_dir/ -v\n"
     ]
    },
    {
     "name": "stdout",
     "output_type": "stream",
     "text": [
      "Adding energy and cycle stats for l9-l15_conv3_stride1 occurence 1\n",
      "Adding energy and cycle stats for l9-l15_conv3_stride1 occurence 2\n",
      "Adding energy and cycle stats for l9-l15_conv3_stride1 occurence 3\n",
      "Adding energy and cycle stats for l9-l15_conv3_stride1 occurence 4\n",
      "Adding energy and cycle stats for l9-l15_conv3_stride1 occurence 5\n",
      "Adding energy and cycle stats for l9-l15_conv3_stride1 occurence 6\n",
      "Adding energy and cycle stats for l9-l15_conv3_stride1 occurence 7\n",
      "Running layer 21: l16_conv4_stride2 which occurs 1 times\n",
      "[INFO] 2025-04-28 17:37:24,321 - pytimeloop.accelergy_interface - Running Accelergy with command: accelergy /home/workspace/output_dir/parsed-processed-input.yaml -o ./output_dir/ -v\n"
     ]
    },
    {
     "name": "stderr",
     "output_type": "stream",
     "text": [
      "INFO:pytimeloop.accelergy_interface:Running Accelergy with command: accelergy /home/workspace/output_dir/parsed-processed-input.yaml -o ./output_dir/ -v\n"
     ]
    },
    {
     "name": "stdout",
     "output_type": "stream",
     "text": [
      "Adding energy and cycle stats for l16_conv4_stride2 occurence 1\n",
      "Running layer 23: l17-l27_conv4_stride1 which occurs 11 times\n",
      "[INFO] 2025-04-28 17:37:38,624 - pytimeloop.accelergy_interface - Running Accelergy with command: accelergy /home/workspace/output_dir/parsed-processed-input.yaml -o ./output_dir/ -v\n"
     ]
    },
    {
     "name": "stderr",
     "output_type": "stream",
     "text": [
      "INFO:pytimeloop.accelergy_interface:Running Accelergy with command: accelergy /home/workspace/output_dir/parsed-processed-input.yaml -o ./output_dir/ -v\n"
     ]
    },
    {
     "name": "stdout",
     "output_type": "stream",
     "text": [
      "Adding energy and cycle stats for l17-l27_conv4_stride1 occurence 1\n",
      "Adding energy and cycle stats for l17-l27_conv4_stride1 occurence 2\n",
      "Adding energy and cycle stats for l17-l27_conv4_stride1 occurence 3\n",
      "Adding energy and cycle stats for l17-l27_conv4_stride1 occurence 4\n",
      "Adding energy and cycle stats for l17-l27_conv4_stride1 occurence 5\n",
      "Adding energy and cycle stats for l17-l27_conv4_stride1 occurence 6\n",
      "Adding energy and cycle stats for l17-l27_conv4_stride1 occurence 7\n",
      "Adding energy and cycle stats for l17-l27_conv4_stride1 occurence 8\n",
      "Adding energy and cycle stats for l17-l27_conv4_stride1 occurence 9\n",
      "Adding energy and cycle stats for l17-l27_conv4_stride1 occurence 10\n",
      "Adding energy and cycle stats for l17-l27_conv4_stride1 occurence 11\n",
      "Running layer 35: l28_conv5_stride2 which occurs 1 times\n",
      "[INFO] 2025-04-28 17:37:53,092 - pytimeloop.accelergy_interface - Running Accelergy with command: accelergy /home/workspace/output_dir/parsed-processed-input.yaml -o ./output_dir/ -v\n"
     ]
    },
    {
     "name": "stderr",
     "output_type": "stream",
     "text": [
      "INFO:pytimeloop.accelergy_interface:Running Accelergy with command: accelergy /home/workspace/output_dir/parsed-processed-input.yaml -o ./output_dir/ -v\n"
     ]
    },
    {
     "name": "stdout",
     "output_type": "stream",
     "text": [
      "Adding energy and cycle stats for l28_conv5_stride2 occurence 1\n",
      "Running layer 37: l29-l33_conv5_stride1 which occurs 5 times\n",
      "[INFO] 2025-04-28 17:38:07,330 - pytimeloop.accelergy_interface - Running Accelergy with command: accelergy /home/workspace/output_dir/parsed-processed-input.yaml -o ./output_dir/ -v\n"
     ]
    },
    {
     "name": "stderr",
     "output_type": "stream",
     "text": [
      "INFO:pytimeloop.accelergy_interface:Running Accelergy with command: accelergy /home/workspace/output_dir/parsed-processed-input.yaml -o ./output_dir/ -v\n"
     ]
    },
    {
     "name": "stdout",
     "output_type": "stream",
     "text": [
      "Adding energy and cycle stats for l29-l33_conv5_stride1 occurence 1\n",
      "Adding energy and cycle stats for l29-l33_conv5_stride1 occurence 2\n",
      "Adding energy and cycle stats for l29-l33_conv5_stride1 occurence 3\n",
      "Adding energy and cycle stats for l29-l33_conv5_stride1 occurence 4\n",
      "Adding energy and cycle stats for l29-l33_conv5_stride1 occurence 5\n",
      "==================================================\n",
      "Starting Timeloop with configuration:\n",
      "  - arch: Architecture.Base\n",
      "  - scale: GPUMemoryScale.MEMORY_1024MB\n",
      "  - rack: RackSize.RACK_2\n",
      "  - peConfig: PEsConfig.PE_4\n",
      "==================================================\n",
      "Running layer 1: l1_conv1 which occurs 1 times\n",
      "[INFO] 2025-04-28 17:38:21,590 - pytimeloop.accelergy_interface - Running Accelergy with command: accelergy /home/workspace/output_dir/parsed-processed-input.yaml -o ./output_dir/ -v\n"
     ]
    },
    {
     "name": "stderr",
     "output_type": "stream",
     "text": [
      "INFO:pytimeloop.accelergy_interface:Running Accelergy with command: accelergy /home/workspace/output_dir/parsed-processed-input.yaml -o ./output_dir/ -v\n"
     ]
    },
    {
     "name": "stdout",
     "output_type": "stream",
     "text": [
      "Adding energy and cycle stats for l1_conv1 occurence 1\n",
      "Running layer 3: l2_conv2_stride2 which occurs 1 times\n",
      "[INFO] 2025-04-28 17:38:35,973 - pytimeloop.accelergy_interface - Running Accelergy with command: accelergy /home/workspace/output_dir/parsed-processed-input.yaml -o ./output_dir/ -v\n"
     ]
    },
    {
     "name": "stderr",
     "output_type": "stream",
     "text": [
      "INFO:pytimeloop.accelergy_interface:Running Accelergy with command: accelergy /home/workspace/output_dir/parsed-processed-input.yaml -o ./output_dir/ -v\n"
     ]
    },
    {
     "name": "stdout",
     "output_type": "stream",
     "text": [
      "Adding energy and cycle stats for l2_conv2_stride2 occurence 1\n",
      "Running layer 5: l3-l7_conv2_stride1 which occurs 5 times\n",
      "[INFO] 2025-04-28 17:38:50,726 - pytimeloop.accelergy_interface - Running Accelergy with command: accelergy /home/workspace/output_dir/parsed-processed-input.yaml -o ./output_dir/ -v\n"
     ]
    },
    {
     "name": "stderr",
     "output_type": "stream",
     "text": [
      "INFO:pytimeloop.accelergy_interface:Running Accelergy with command: accelergy /home/workspace/output_dir/parsed-processed-input.yaml -o ./output_dir/ -v\n"
     ]
    },
    {
     "name": "stdout",
     "output_type": "stream",
     "text": [
      "Adding energy and cycle stats for l3-l7_conv2_stride1 occurence 1\n",
      "Adding energy and cycle stats for l3-l7_conv2_stride1 occurence 2\n",
      "Adding energy and cycle stats for l3-l7_conv2_stride1 occurence 3\n",
      "Adding energy and cycle stats for l3-l7_conv2_stride1 occurence 4\n",
      "Adding energy and cycle stats for l3-l7_conv2_stride1 occurence 5\n",
      "Running layer 11: l8_conv3_stride2 which occurs 1 times\n",
      "[INFO] 2025-04-28 17:39:11,755 - pytimeloop.accelergy_interface - Running Accelergy with command: accelergy /home/workspace/output_dir/parsed-processed-input.yaml -o ./output_dir/ -v\n"
     ]
    },
    {
     "name": "stderr",
     "output_type": "stream",
     "text": [
      "INFO:pytimeloop.accelergy_interface:Running Accelergy with command: accelergy /home/workspace/output_dir/parsed-processed-input.yaml -o ./output_dir/ -v\n"
     ]
    },
    {
     "name": "stdout",
     "output_type": "stream",
     "text": [
      "Adding energy and cycle stats for l8_conv3_stride2 occurence 1\n",
      "Running layer 13: l9-l15_conv3_stride1 which occurs 7 times\n",
      "[INFO] 2025-04-28 17:39:27,343 - pytimeloop.accelergy_interface - Running Accelergy with command: accelergy /home/workspace/output_dir/parsed-processed-input.yaml -o ./output_dir/ -v\n"
     ]
    },
    {
     "name": "stderr",
     "output_type": "stream",
     "text": [
      "INFO:pytimeloop.accelergy_interface:Running Accelergy with command: accelergy /home/workspace/output_dir/parsed-processed-input.yaml -o ./output_dir/ -v\n"
     ]
    },
    {
     "name": "stdout",
     "output_type": "stream",
     "text": [
      "Adding energy and cycle stats for l9-l15_conv3_stride1 occurence 1\n",
      "Adding energy and cycle stats for l9-l15_conv3_stride1 occurence 2\n",
      "Adding energy and cycle stats for l9-l15_conv3_stride1 occurence 3\n",
      "Adding energy and cycle stats for l9-l15_conv3_stride1 occurence 4\n",
      "Adding energy and cycle stats for l9-l15_conv3_stride1 occurence 5\n",
      "Adding energy and cycle stats for l9-l15_conv3_stride1 occurence 6\n",
      "Adding energy and cycle stats for l9-l15_conv3_stride1 occurence 7\n",
      "Running layer 21: l16_conv4_stride2 which occurs 1 times\n",
      "[INFO] 2025-04-28 17:39:41,671 - pytimeloop.accelergy_interface - Running Accelergy with command: accelergy /home/workspace/output_dir/parsed-processed-input.yaml -o ./output_dir/ -v\n"
     ]
    },
    {
     "name": "stderr",
     "output_type": "stream",
     "text": [
      "INFO:pytimeloop.accelergy_interface:Running Accelergy with command: accelergy /home/workspace/output_dir/parsed-processed-input.yaml -o ./output_dir/ -v\n"
     ]
    },
    {
     "name": "stdout",
     "output_type": "stream",
     "text": [
      "Adding energy and cycle stats for l16_conv4_stride2 occurence 1\n",
      "Running layer 23: l17-l27_conv4_stride1 which occurs 11 times\n",
      "[INFO] 2025-04-28 17:39:56,751 - pytimeloop.accelergy_interface - Running Accelergy with command: accelergy /home/workspace/output_dir/parsed-processed-input.yaml -o ./output_dir/ -v\n"
     ]
    },
    {
     "name": "stderr",
     "output_type": "stream",
     "text": [
      "INFO:pytimeloop.accelergy_interface:Running Accelergy with command: accelergy /home/workspace/output_dir/parsed-processed-input.yaml -o ./output_dir/ -v\n"
     ]
    },
    {
     "name": "stdout",
     "output_type": "stream",
     "text": [
      "Adding energy and cycle stats for l17-l27_conv4_stride1 occurence 1\n",
      "Adding energy and cycle stats for l17-l27_conv4_stride1 occurence 2\n",
      "Adding energy and cycle stats for l17-l27_conv4_stride1 occurence 3\n",
      "Adding energy and cycle stats for l17-l27_conv4_stride1 occurence 4\n",
      "Adding energy and cycle stats for l17-l27_conv4_stride1 occurence 5\n",
      "Adding energy and cycle stats for l17-l27_conv4_stride1 occurence 6\n",
      "Adding energy and cycle stats for l17-l27_conv4_stride1 occurence 7\n",
      "Adding energy and cycle stats for l17-l27_conv4_stride1 occurence 8\n",
      "Adding energy and cycle stats for l17-l27_conv4_stride1 occurence 9\n",
      "Adding energy and cycle stats for l17-l27_conv4_stride1 occurence 10\n",
      "Adding energy and cycle stats for l17-l27_conv4_stride1 occurence 11\n",
      "Running layer 35: l28_conv5_stride2 which occurs 1 times\n",
      "[INFO] 2025-04-28 17:40:10,942 - pytimeloop.accelergy_interface - Running Accelergy with command: accelergy /home/workspace/output_dir/parsed-processed-input.yaml -o ./output_dir/ -v\n"
     ]
    },
    {
     "name": "stderr",
     "output_type": "stream",
     "text": [
      "INFO:pytimeloop.accelergy_interface:Running Accelergy with command: accelergy /home/workspace/output_dir/parsed-processed-input.yaml -o ./output_dir/ -v\n"
     ]
    },
    {
     "name": "stdout",
     "output_type": "stream",
     "text": [
      "Adding energy and cycle stats for l28_conv5_stride2 occurence 1\n",
      "Running layer 37: l29-l33_conv5_stride1 which occurs 5 times\n",
      "[INFO] 2025-04-28 17:40:25,123 - pytimeloop.accelergy_interface - Running Accelergy with command: accelergy /home/workspace/output_dir/parsed-processed-input.yaml -o ./output_dir/ -v\n"
     ]
    },
    {
     "name": "stderr",
     "output_type": "stream",
     "text": [
      "INFO:pytimeloop.accelergy_interface:Running Accelergy with command: accelergy /home/workspace/output_dir/parsed-processed-input.yaml -o ./output_dir/ -v\n"
     ]
    },
    {
     "name": "stdout",
     "output_type": "stream",
     "text": [
      "Adding energy and cycle stats for l29-l33_conv5_stride1 occurence 1\n",
      "Adding energy and cycle stats for l29-l33_conv5_stride1 occurence 2\n",
      "Adding energy and cycle stats for l29-l33_conv5_stride1 occurence 3\n",
      "Adding energy and cycle stats for l29-l33_conv5_stride1 occurence 4\n",
      "Adding energy and cycle stats for l29-l33_conv5_stride1 occurence 5\n",
      "==================================================\n",
      "Starting Timeloop with configuration:\n",
      "  - arch: Architecture.Base\n",
      "  - scale: GPUMemoryScale.MEMORY_1024MB\n",
      "  - rack: RackSize.RACK_2\n",
      "  - peConfig: PEsConfig.PE_8\n",
      "==================================================\n",
      "Running layer 1: l1_conv1 which occurs 1 times\n",
      "[INFO] 2025-04-28 17:40:39,351 - pytimeloop.accelergy_interface - Running Accelergy with command: accelergy /home/workspace/output_dir/parsed-processed-input.yaml -o ./output_dir/ -v\n"
     ]
    },
    {
     "name": "stderr",
     "output_type": "stream",
     "text": [
      "INFO:pytimeloop.accelergy_interface:Running Accelergy with command: accelergy /home/workspace/output_dir/parsed-processed-input.yaml -o ./output_dir/ -v\n"
     ]
    },
    {
     "name": "stdout",
     "output_type": "stream",
     "text": [
      "Adding energy and cycle stats for l1_conv1 occurence 1\n",
      "Running layer 3: l2_conv2_stride2 which occurs 1 times\n",
      "[INFO] 2025-04-28 17:40:55,998 - pytimeloop.accelergy_interface - Running Accelergy with command: accelergy /home/workspace/output_dir/parsed-processed-input.yaml -o ./output_dir/ -v\n"
     ]
    },
    {
     "name": "stderr",
     "output_type": "stream",
     "text": [
      "INFO:pytimeloop.accelergy_interface:Running Accelergy with command: accelergy /home/workspace/output_dir/parsed-processed-input.yaml -o ./output_dir/ -v\n"
     ]
    },
    {
     "name": "stdout",
     "output_type": "stream",
     "text": [
      "Adding energy and cycle stats for l2_conv2_stride2 occurence 1\n",
      "Running layer 5: l3-l7_conv2_stride1 which occurs 5 times\n",
      "[INFO] 2025-04-28 17:44:26,243 - pytimeloop.accelergy_interface - Running Accelergy with command: accelergy /home/workspace/output_dir/parsed-processed-input.yaml -o ./output_dir/ -v\n"
     ]
    },
    {
     "name": "stderr",
     "output_type": "stream",
     "text": [
      "INFO:pytimeloop.accelergy_interface:Running Accelergy with command: accelergy /home/workspace/output_dir/parsed-processed-input.yaml -o ./output_dir/ -v\n"
     ]
    },
    {
     "name": "stdout",
     "output_type": "stream",
     "text": [
      "Adding energy and cycle stats for l3-l7_conv2_stride1 occurence 1\n",
      "Adding energy and cycle stats for l3-l7_conv2_stride1 occurence 2\n",
      "Adding energy and cycle stats for l3-l7_conv2_stride1 occurence 3\n",
      "Adding energy and cycle stats for l3-l7_conv2_stride1 occurence 4\n",
      "Adding energy and cycle stats for l3-l7_conv2_stride1 occurence 5\n",
      "Running layer 11: l8_conv3_stride2 which occurs 1 times\n",
      "[INFO] 2025-04-28 17:45:14,820 - pytimeloop.accelergy_interface - Running Accelergy with command: accelergy /home/workspace/output_dir/parsed-processed-input.yaml -o ./output_dir/ -v\n"
     ]
    },
    {
     "name": "stderr",
     "output_type": "stream",
     "text": [
      "INFO:pytimeloop.accelergy_interface:Running Accelergy with command: accelergy /home/workspace/output_dir/parsed-processed-input.yaml -o ./output_dir/ -v\n"
     ]
    },
    {
     "name": "stdout",
     "output_type": "stream",
     "text": [
      "Adding energy and cycle stats for l8_conv3_stride2 occurence 1\n",
      "Running layer 13: l9-l15_conv3_stride1 which occurs 7 times\n",
      "[INFO] 2025-04-28 17:51:15,566 - pytimeloop.accelergy_interface - Running Accelergy with command: accelergy /home/workspace/output_dir/parsed-processed-input.yaml -o ./output_dir/ -v\n"
     ]
    },
    {
     "name": "stderr",
     "output_type": "stream",
     "text": [
      "INFO:pytimeloop.accelergy_interface:Running Accelergy with command: accelergy /home/workspace/output_dir/parsed-processed-input.yaml -o ./output_dir/ -v\n"
     ]
    },
    {
     "name": "stdout",
     "output_type": "stream",
     "text": [
      "Adding energy and cycle stats for l9-l15_conv3_stride1 occurence 1\n",
      "Adding energy and cycle stats for l9-l15_conv3_stride1 occurence 2\n",
      "Adding energy and cycle stats for l9-l15_conv3_stride1 occurence 3\n",
      "Adding energy and cycle stats for l9-l15_conv3_stride1 occurence 4\n",
      "Adding energy and cycle stats for l9-l15_conv3_stride1 occurence 5\n",
      "Adding energy and cycle stats for l9-l15_conv3_stride1 occurence 6\n",
      "Adding energy and cycle stats for l9-l15_conv3_stride1 occurence 7\n",
      "Running layer 21: l16_conv4_stride2 which occurs 1 times\n",
      "[INFO] 2025-04-28 17:53:11,994 - pytimeloop.accelergy_interface - Running Accelergy with command: accelergy /home/workspace/output_dir/parsed-processed-input.yaml -o ./output_dir/ -v\n"
     ]
    },
    {
     "name": "stderr",
     "output_type": "stream",
     "text": [
      "INFO:pytimeloop.accelergy_interface:Running Accelergy with command: accelergy /home/workspace/output_dir/parsed-processed-input.yaml -o ./output_dir/ -v\n"
     ]
    },
    {
     "name": "stdout",
     "output_type": "stream",
     "text": [
      "Adding energy and cycle stats for l16_conv4_stride2 occurence 1\n",
      "Running layer 23: l17-l27_conv4_stride1 which occurs 11 times\n",
      "[INFO] 2025-04-28 17:53:56,311 - pytimeloop.accelergy_interface - Running Accelergy with command: accelergy /home/workspace/output_dir/parsed-processed-input.yaml -o ./output_dir/ -v\n"
     ]
    },
    {
     "name": "stderr",
     "output_type": "stream",
     "text": [
      "INFO:pytimeloop.accelergy_interface:Running Accelergy with command: accelergy /home/workspace/output_dir/parsed-processed-input.yaml -o ./output_dir/ -v\n"
     ]
    },
    {
     "name": "stdout",
     "output_type": "stream",
     "text": [
      "Adding energy and cycle stats for l17-l27_conv4_stride1 occurence 1\n",
      "Adding energy and cycle stats for l17-l27_conv4_stride1 occurence 2\n",
      "Adding energy and cycle stats for l17-l27_conv4_stride1 occurence 3\n",
      "Adding energy and cycle stats for l17-l27_conv4_stride1 occurence 4\n",
      "Adding energy and cycle stats for l17-l27_conv4_stride1 occurence 5\n",
      "Adding energy and cycle stats for l17-l27_conv4_stride1 occurence 6\n",
      "Adding energy and cycle stats for l17-l27_conv4_stride1 occurence 7\n",
      "Adding energy and cycle stats for l17-l27_conv4_stride1 occurence 8\n",
      "Adding energy and cycle stats for l17-l27_conv4_stride1 occurence 9\n",
      "Adding energy and cycle stats for l17-l27_conv4_stride1 occurence 10\n",
      "Adding energy and cycle stats for l17-l27_conv4_stride1 occurence 11\n",
      "Running layer 35: l28_conv5_stride2 which occurs 1 times\n",
      "[INFO] 2025-04-28 18:05:58,817 - pytimeloop.accelergy_interface - Running Accelergy with command: accelergy /home/workspace/output_dir/parsed-processed-input.yaml -o ./output_dir/ -v\n"
     ]
    },
    {
     "name": "stderr",
     "output_type": "stream",
     "text": [
      "INFO:pytimeloop.accelergy_interface:Running Accelergy with command: accelergy /home/workspace/output_dir/parsed-processed-input.yaml -o ./output_dir/ -v\n"
     ]
    },
    {
     "name": "stdout",
     "output_type": "stream",
     "text": [
      "Adding energy and cycle stats for l28_conv5_stride2 occurence 1\n",
      "Running layer 37: l29-l33_conv5_stride1 which occurs 5 times\n",
      "[INFO] 2025-04-28 18:07:07,544 - pytimeloop.accelergy_interface - Running Accelergy with command: accelergy /home/workspace/output_dir/parsed-processed-input.yaml -o ./output_dir/ -v\n"
     ]
    },
    {
     "name": "stderr",
     "output_type": "stream",
     "text": [
      "INFO:pytimeloop.accelergy_interface:Running Accelergy with command: accelergy /home/workspace/output_dir/parsed-processed-input.yaml -o ./output_dir/ -v\n"
     ]
    },
    {
     "name": "stdout",
     "output_type": "stream",
     "text": [
      "Adding energy and cycle stats for l29-l33_conv5_stride1 occurence 1\n",
      "Adding energy and cycle stats for l29-l33_conv5_stride1 occurence 2\n",
      "Adding energy and cycle stats for l29-l33_conv5_stride1 occurence 3\n",
      "Adding energy and cycle stats for l29-l33_conv5_stride1 occurence 4\n",
      "Adding energy and cycle stats for l29-l33_conv5_stride1 occurence 5\n",
      "==================================================\n",
      "Starting Timeloop with configuration:\n",
      "  - arch: Architecture.Base\n",
      "  - scale: GPUMemoryScale.MEMORY_4MB\n",
      "  - rack: RackSize.RACK_4\n",
      "  - peConfig: PEsConfig.PE_2\n",
      "==================================================\n",
      "Running layer 1: l1_conv1 which occurs 1 times\n",
      "[INFO] 2025-04-28 18:08:11,612 - pytimeloop.accelergy_interface - Running Accelergy with command: accelergy /home/workspace/output_dir/parsed-processed-input.yaml -o ./output_dir/ -v\n"
     ]
    },
    {
     "name": "stderr",
     "output_type": "stream",
     "text": [
      "INFO:pytimeloop.accelergy_interface:Running Accelergy with command: accelergy /home/workspace/output_dir/parsed-processed-input.yaml -o ./output_dir/ -v\n"
     ]
    },
    {
     "name": "stdout",
     "output_type": "stream",
     "text": [
      "Adding energy and cycle stats for l1_conv1 occurence 1\n",
      "Running layer 3: l2_conv2_stride2 which occurs 1 times\n",
      "[INFO] 2025-04-28 18:11:18,000 - pytimeloop.accelergy_interface - Running Accelergy with command: accelergy /home/workspace/output_dir/parsed-processed-input.yaml -o ./output_dir/ -v\n"
     ]
    },
    {
     "name": "stderr",
     "output_type": "stream",
     "text": [
      "INFO:pytimeloop.accelergy_interface:Running Accelergy with command: accelergy /home/workspace/output_dir/parsed-processed-input.yaml -o ./output_dir/ -v\n"
     ]
    },
    {
     "name": "stdout",
     "output_type": "stream",
     "text": [
      "Adding energy and cycle stats for l2_conv2_stride2 occurence 1\n",
      "Running layer 5: l3-l7_conv2_stride1 which occurs 5 times\n",
      "[INFO] 2025-04-28 18:11:36,360 - pytimeloop.accelergy_interface - Running Accelergy with command: accelergy /home/workspace/output_dir/parsed-processed-input.yaml -o ./output_dir/ -v\n"
     ]
    },
    {
     "name": "stderr",
     "output_type": "stream",
     "text": [
      "INFO:pytimeloop.accelergy_interface:Running Accelergy with command: accelergy /home/workspace/output_dir/parsed-processed-input.yaml -o ./output_dir/ -v\n"
     ]
    },
    {
     "name": "stdout",
     "output_type": "stream",
     "text": [
      "Adding energy and cycle stats for l3-l7_conv2_stride1 occurence 1\n",
      "Adding energy and cycle stats for l3-l7_conv2_stride1 occurence 2\n",
      "Adding energy and cycle stats for l3-l7_conv2_stride1 occurence 3\n",
      "Adding energy and cycle stats for l3-l7_conv2_stride1 occurence 4\n",
      "Adding energy and cycle stats for l3-l7_conv2_stride1 occurence 5\n",
      "Running layer 11: l8_conv3_stride2 which occurs 1 times\n",
      "[INFO] 2025-04-28 18:11:50,677 - pytimeloop.accelergy_interface - Running Accelergy with command: accelergy /home/workspace/output_dir/parsed-processed-input.yaml -o ./output_dir/ -v\n"
     ]
    },
    {
     "name": "stderr",
     "output_type": "stream",
     "text": [
      "INFO:pytimeloop.accelergy_interface:Running Accelergy with command: accelergy /home/workspace/output_dir/parsed-processed-input.yaml -o ./output_dir/ -v\n"
     ]
    },
    {
     "name": "stdout",
     "output_type": "stream",
     "text": [
      "Adding energy and cycle stats for l8_conv3_stride2 occurence 1\n",
      "Running layer 13: l9-l15_conv3_stride1 which occurs 7 times\n",
      "[INFO] 2025-04-28 18:12:05,171 - pytimeloop.accelergy_interface - Running Accelergy with command: accelergy /home/workspace/output_dir/parsed-processed-input.yaml -o ./output_dir/ -v\n"
     ]
    },
    {
     "name": "stderr",
     "output_type": "stream",
     "text": [
      "INFO:pytimeloop.accelergy_interface:Running Accelergy with command: accelergy /home/workspace/output_dir/parsed-processed-input.yaml -o ./output_dir/ -v\n"
     ]
    },
    {
     "name": "stdout",
     "output_type": "stream",
     "text": [
      "Adding energy and cycle stats for l9-l15_conv3_stride1 occurence 1\n",
      "Adding energy and cycle stats for l9-l15_conv3_stride1 occurence 2\n",
      "Adding energy and cycle stats for l9-l15_conv3_stride1 occurence 3\n",
      "Adding energy and cycle stats for l9-l15_conv3_stride1 occurence 4\n",
      "Adding energy and cycle stats for l9-l15_conv3_stride1 occurence 5\n",
      "Adding energy and cycle stats for l9-l15_conv3_stride1 occurence 6\n",
      "Adding energy and cycle stats for l9-l15_conv3_stride1 occurence 7\n",
      "Running layer 21: l16_conv4_stride2 which occurs 1 times\n",
      "[INFO] 2025-04-28 18:12:20,179 - pytimeloop.accelergy_interface - Running Accelergy with command: accelergy /home/workspace/output_dir/parsed-processed-input.yaml -o ./output_dir/ -v\n"
     ]
    },
    {
     "name": "stderr",
     "output_type": "stream",
     "text": [
      "INFO:pytimeloop.accelergy_interface:Running Accelergy with command: accelergy /home/workspace/output_dir/parsed-processed-input.yaml -o ./output_dir/ -v\n"
     ]
    },
    {
     "name": "stdout",
     "output_type": "stream",
     "text": [
      "Adding energy and cycle stats for l16_conv4_stride2 occurence 1\n",
      "Running layer 23: l17-l27_conv4_stride1 which occurs 11 times\n",
      "[INFO] 2025-04-28 18:12:33,697 - pytimeloop.accelergy_interface - Running Accelergy with command: accelergy /home/workspace/output_dir/parsed-processed-input.yaml -o ./output_dir/ -v\n"
     ]
    },
    {
     "name": "stderr",
     "output_type": "stream",
     "text": [
      "INFO:pytimeloop.accelergy_interface:Running Accelergy with command: accelergy /home/workspace/output_dir/parsed-processed-input.yaml -o ./output_dir/ -v\n"
     ]
    },
    {
     "name": "stdout",
     "output_type": "stream",
     "text": [
      "Adding energy and cycle stats for l17-l27_conv4_stride1 occurence 1\n",
      "Adding energy and cycle stats for l17-l27_conv4_stride1 occurence 2\n",
      "Adding energy and cycle stats for l17-l27_conv4_stride1 occurence 3\n",
      "Adding energy and cycle stats for l17-l27_conv4_stride1 occurence 4\n",
      "Adding energy and cycle stats for l17-l27_conv4_stride1 occurence 5\n",
      "Adding energy and cycle stats for l17-l27_conv4_stride1 occurence 6\n",
      "Adding energy and cycle stats for l17-l27_conv4_stride1 occurence 7\n",
      "Adding energy and cycle stats for l17-l27_conv4_stride1 occurence 8\n",
      "Adding energy and cycle stats for l17-l27_conv4_stride1 occurence 9\n",
      "Adding energy and cycle stats for l17-l27_conv4_stride1 occurence 10\n",
      "Adding energy and cycle stats for l17-l27_conv4_stride1 occurence 11\n",
      "Running layer 35: l28_conv5_stride2 which occurs 1 times\n",
      "[INFO] 2025-04-28 18:12:48,183 - pytimeloop.accelergy_interface - Running Accelergy with command: accelergy /home/workspace/output_dir/parsed-processed-input.yaml -o ./output_dir/ -v\n"
     ]
    },
    {
     "name": "stderr",
     "output_type": "stream",
     "text": [
      "INFO:pytimeloop.accelergy_interface:Running Accelergy with command: accelergy /home/workspace/output_dir/parsed-processed-input.yaml -o ./output_dir/ -v\n"
     ]
    },
    {
     "name": "stdout",
     "output_type": "stream",
     "text": [
      "Adding energy and cycle stats for l28_conv5_stride2 occurence 1\n",
      "Running layer 37: l29-l33_conv5_stride1 which occurs 5 times\n",
      "[INFO] 2025-04-28 18:13:02,161 - pytimeloop.accelergy_interface - Running Accelergy with command: accelergy /home/workspace/output_dir/parsed-processed-input.yaml -o ./output_dir/ -v\n"
     ]
    },
    {
     "name": "stderr",
     "output_type": "stream",
     "text": [
      "INFO:pytimeloop.accelergy_interface:Running Accelergy with command: accelergy /home/workspace/output_dir/parsed-processed-input.yaml -o ./output_dir/ -v\n"
     ]
    },
    {
     "name": "stdout",
     "output_type": "stream",
     "text": [
      "Adding energy and cycle stats for l29-l33_conv5_stride1 occurence 1\n",
      "Adding energy and cycle stats for l29-l33_conv5_stride1 occurence 2\n",
      "Adding energy and cycle stats for l29-l33_conv5_stride1 occurence 3\n",
      "Adding energy and cycle stats for l29-l33_conv5_stride1 occurence 4\n",
      "Adding energy and cycle stats for l29-l33_conv5_stride1 occurence 5\n",
      "==================================================\n",
      "Starting Timeloop with configuration:\n",
      "  - arch: Architecture.Base\n",
      "  - scale: GPUMemoryScale.MEMORY_4MB\n",
      "  - rack: RackSize.RACK_4\n",
      "  - peConfig: PEsConfig.PE_4\n",
      "==================================================\n",
      "Running layer 1: l1_conv1 which occurs 1 times\n",
      "[INFO] 2025-04-28 18:13:14,970 - pytimeloop.accelergy_interface - Running Accelergy with command: accelergy /home/workspace/output_dir/parsed-processed-input.yaml -o ./output_dir/ -v\n"
     ]
    },
    {
     "name": "stderr",
     "output_type": "stream",
     "text": [
      "INFO:pytimeloop.accelergy_interface:Running Accelergy with command: accelergy /home/workspace/output_dir/parsed-processed-input.yaml -o ./output_dir/ -v\n"
     ]
    },
    {
     "name": "stdout",
     "output_type": "stream",
     "text": [
      "Adding energy and cycle stats for l1_conv1 occurence 1\n",
      "Running layer 3: l2_conv2_stride2 which occurs 1 times\n",
      "[INFO] 2025-04-28 18:13:29,091 - pytimeloop.accelergy_interface - Running Accelergy with command: accelergy /home/workspace/output_dir/parsed-processed-input.yaml -o ./output_dir/ -v\n"
     ]
    },
    {
     "name": "stderr",
     "output_type": "stream",
     "text": [
      "INFO:pytimeloop.accelergy_interface:Running Accelergy with command: accelergy /home/workspace/output_dir/parsed-processed-input.yaml -o ./output_dir/ -v\n"
     ]
    },
    {
     "name": "stdout",
     "output_type": "stream",
     "text": [
      "Adding energy and cycle stats for l2_conv2_stride2 occurence 1\n",
      "Running layer 5: l3-l7_conv2_stride1 which occurs 5 times\n",
      "[INFO] 2025-04-28 18:13:44,615 - pytimeloop.accelergy_interface - Running Accelergy with command: accelergy /home/workspace/output_dir/parsed-processed-input.yaml -o ./output_dir/ -v\n"
     ]
    },
    {
     "name": "stderr",
     "output_type": "stream",
     "text": [
      "INFO:pytimeloop.accelergy_interface:Running Accelergy with command: accelergy /home/workspace/output_dir/parsed-processed-input.yaml -o ./output_dir/ -v\n"
     ]
    },
    {
     "name": "stdout",
     "output_type": "stream",
     "text": [
      "Adding energy and cycle stats for l3-l7_conv2_stride1 occurence 1\n",
      "Adding energy and cycle stats for l3-l7_conv2_stride1 occurence 2\n",
      "Adding energy and cycle stats for l3-l7_conv2_stride1 occurence 3\n",
      "Adding energy and cycle stats for l3-l7_conv2_stride1 occurence 4\n",
      "Adding energy and cycle stats for l3-l7_conv2_stride1 occurence 5\n",
      "Running layer 11: l8_conv3_stride2 which occurs 1 times\n",
      "[INFO] 2025-04-28 18:13:59,922 - pytimeloop.accelergy_interface - Running Accelergy with command: accelergy /home/workspace/output_dir/parsed-processed-input.yaml -o ./output_dir/ -v\n"
     ]
    },
    {
     "name": "stderr",
     "output_type": "stream",
     "text": [
      "INFO:pytimeloop.accelergy_interface:Running Accelergy with command: accelergy /home/workspace/output_dir/parsed-processed-input.yaml -o ./output_dir/ -v\n"
     ]
    },
    {
     "name": "stdout",
     "output_type": "stream",
     "text": [
      "Adding energy and cycle stats for l8_conv3_stride2 occurence 1\n",
      "Running layer 13: l9-l15_conv3_stride1 which occurs 7 times\n",
      "[INFO] 2025-04-28 18:14:13,376 - pytimeloop.accelergy_interface - Running Accelergy with command: accelergy /home/workspace/output_dir/parsed-processed-input.yaml -o ./output_dir/ -v\n"
     ]
    },
    {
     "name": "stderr",
     "output_type": "stream",
     "text": [
      "INFO:pytimeloop.accelergy_interface:Running Accelergy with command: accelergy /home/workspace/output_dir/parsed-processed-input.yaml -o ./output_dir/ -v\n"
     ]
    },
    {
     "name": "stdout",
     "output_type": "stream",
     "text": [
      "Adding energy and cycle stats for l9-l15_conv3_stride1 occurence 1\n",
      "Adding energy and cycle stats for l9-l15_conv3_stride1 occurence 2\n",
      "Adding energy and cycle stats for l9-l15_conv3_stride1 occurence 3\n",
      "Adding energy and cycle stats for l9-l15_conv3_stride1 occurence 4\n",
      "Adding energy and cycle stats for l9-l15_conv3_stride1 occurence 5\n",
      "Adding energy and cycle stats for l9-l15_conv3_stride1 occurence 6\n",
      "Adding energy and cycle stats for l9-l15_conv3_stride1 occurence 7\n",
      "Running layer 21: l16_conv4_stride2 which occurs 1 times\n",
      "[INFO] 2025-04-28 18:14:27,795 - pytimeloop.accelergy_interface - Running Accelergy with command: accelergy /home/workspace/output_dir/parsed-processed-input.yaml -o ./output_dir/ -v\n"
     ]
    },
    {
     "name": "stderr",
     "output_type": "stream",
     "text": [
      "INFO:pytimeloop.accelergy_interface:Running Accelergy with command: accelergy /home/workspace/output_dir/parsed-processed-input.yaml -o ./output_dir/ -v\n"
     ]
    },
    {
     "name": "stdout",
     "output_type": "stream",
     "text": [
      "Adding energy and cycle stats for l16_conv4_stride2 occurence 1\n",
      "Running layer 23: l17-l27_conv4_stride1 which occurs 11 times\n",
      "[INFO] 2025-04-28 18:25:21,728 - pytimeloop.accelergy_interface - Running Accelergy with command: accelergy /home/workspace/output_dir/parsed-processed-input.yaml -o ./output_dir/ -v\n"
     ]
    },
    {
     "name": "stderr",
     "output_type": "stream",
     "text": [
      "INFO:pytimeloop.accelergy_interface:Running Accelergy with command: accelergy /home/workspace/output_dir/parsed-processed-input.yaml -o ./output_dir/ -v\n"
     ]
    },
    {
     "name": "stdout",
     "output_type": "stream",
     "text": [
      "Adding energy and cycle stats for l17-l27_conv4_stride1 occurence 1\n",
      "Adding energy and cycle stats for l17-l27_conv4_stride1 occurence 2\n",
      "Adding energy and cycle stats for l17-l27_conv4_stride1 occurence 3\n",
      "Adding energy and cycle stats for l17-l27_conv4_stride1 occurence 4\n",
      "Adding energy and cycle stats for l17-l27_conv4_stride1 occurence 5\n",
      "Adding energy and cycle stats for l17-l27_conv4_stride1 occurence 6\n",
      "Adding energy and cycle stats for l17-l27_conv4_stride1 occurence 7\n",
      "Adding energy and cycle stats for l17-l27_conv4_stride1 occurence 8\n",
      "Adding energy and cycle stats for l17-l27_conv4_stride1 occurence 9\n",
      "Adding energy and cycle stats for l17-l27_conv4_stride1 occurence 10\n",
      "Adding energy and cycle stats for l17-l27_conv4_stride1 occurence 11\n",
      "Running layer 35: l28_conv5_stride2 which occurs 1 times\n",
      "[INFO] 2025-04-28 18:28:37,447 - pytimeloop.accelergy_interface - Running Accelergy with command: accelergy /home/workspace/output_dir/parsed-processed-input.yaml -o ./output_dir/ -v\n"
     ]
    },
    {
     "name": "stderr",
     "output_type": "stream",
     "text": [
      "INFO:pytimeloop.accelergy_interface:Running Accelergy with command: accelergy /home/workspace/output_dir/parsed-processed-input.yaml -o ./output_dir/ -v\n"
     ]
    },
    {
     "name": "stdout",
     "output_type": "stream",
     "text": [
      "Adding energy and cycle stats for l28_conv5_stride2 occurence 1\n",
      "Running layer 37: l29-l33_conv5_stride1 which occurs 5 times\n",
      "[INFO] 2025-04-28 18:29:29,722 - pytimeloop.accelergy_interface - Running Accelergy with command: accelergy /home/workspace/output_dir/parsed-processed-input.yaml -o ./output_dir/ -v\n"
     ]
    },
    {
     "name": "stderr",
     "output_type": "stream",
     "text": [
      "INFO:pytimeloop.accelergy_interface:Running Accelergy with command: accelergy /home/workspace/output_dir/parsed-processed-input.yaml -o ./output_dir/ -v\n"
     ]
    },
    {
     "name": "stdout",
     "output_type": "stream",
     "text": [
      "Adding energy and cycle stats for l29-l33_conv5_stride1 occurence 1\n",
      "Adding energy and cycle stats for l29-l33_conv5_stride1 occurence 2\n",
      "Adding energy and cycle stats for l29-l33_conv5_stride1 occurence 3\n",
      "Adding energy and cycle stats for l29-l33_conv5_stride1 occurence 4\n",
      "Adding energy and cycle stats for l29-l33_conv5_stride1 occurence 5\n",
      "==================================================\n",
      "Starting Timeloop with configuration:\n",
      "  - arch: Architecture.Base\n",
      "  - scale: GPUMemoryScale.MEMORY_4MB\n",
      "  - rack: RackSize.RACK_4\n",
      "  - peConfig: PEsConfig.PE_8\n",
      "==================================================\n",
      "Running layer 1: l1_conv1 which occurs 1 times\n",
      "[INFO] 2025-04-28 18:29:53,281 - pytimeloop.accelergy_interface - Running Accelergy with command: accelergy /home/workspace/output_dir/parsed-processed-input.yaml -o ./output_dir/ -v\n"
     ]
    },
    {
     "name": "stderr",
     "output_type": "stream",
     "text": [
      "INFO:pytimeloop.accelergy_interface:Running Accelergy with command: accelergy /home/workspace/output_dir/parsed-processed-input.yaml -o ./output_dir/ -v\n"
     ]
    },
    {
     "name": "stdout",
     "output_type": "stream",
     "text": [
      "Adding energy and cycle stats for l1_conv1 occurence 1\n",
      "Running layer 3: l2_conv2_stride2 which occurs 1 times\n",
      "[INFO] 2025-04-28 18:31:51,723 - pytimeloop.accelergy_interface - Running Accelergy with command: accelergy /home/workspace/output_dir/parsed-processed-input.yaml -o ./output_dir/ -v\n"
     ]
    },
    {
     "name": "stderr",
     "output_type": "stream",
     "text": [
      "INFO:pytimeloop.accelergy_interface:Running Accelergy with command: accelergy /home/workspace/output_dir/parsed-processed-input.yaml -o ./output_dir/ -v\n"
     ]
    },
    {
     "name": "stdout",
     "output_type": "stream",
     "text": [
      "Adding energy and cycle stats for l2_conv2_stride2 occurence 1\n",
      "Running layer 5: l3-l7_conv2_stride1 which occurs 5 times\n",
      "[INFO] 2025-04-28 18:32:10,427 - pytimeloop.accelergy_interface - Running Accelergy with command: accelergy /home/workspace/output_dir/parsed-processed-input.yaml -o ./output_dir/ -v\n"
     ]
    },
    {
     "name": "stderr",
     "output_type": "stream",
     "text": [
      "INFO:pytimeloop.accelergy_interface:Running Accelergy with command: accelergy /home/workspace/output_dir/parsed-processed-input.yaml -o ./output_dir/ -v\n"
     ]
    },
    {
     "name": "stdout",
     "output_type": "stream",
     "text": [
      "Adding energy and cycle stats for l3-l7_conv2_stride1 occurence 1\n",
      "Adding energy and cycle stats for l3-l7_conv2_stride1 occurence 2\n",
      "Adding energy and cycle stats for l3-l7_conv2_stride1 occurence 3\n",
      "Adding energy and cycle stats for l3-l7_conv2_stride1 occurence 4\n",
      "Adding energy and cycle stats for l3-l7_conv2_stride1 occurence 5\n",
      "Running layer 11: l8_conv3_stride2 which occurs 1 times\n",
      "[INFO] 2025-04-28 18:32:25,591 - pytimeloop.accelergy_interface - Running Accelergy with command: accelergy /home/workspace/output_dir/parsed-processed-input.yaml -o ./output_dir/ -v\n"
     ]
    },
    {
     "name": "stderr",
     "output_type": "stream",
     "text": [
      "INFO:pytimeloop.accelergy_interface:Running Accelergy with command: accelergy /home/workspace/output_dir/parsed-processed-input.yaml -o ./output_dir/ -v\n"
     ]
    },
    {
     "name": "stdout",
     "output_type": "stream",
     "text": [
      "Adding energy and cycle stats for l8_conv3_stride2 occurence 1\n",
      "Running layer 13: l9-l15_conv3_stride1 which occurs 7 times\n",
      "[INFO] 2025-04-28 18:33:09,234 - pytimeloop.accelergy_interface - Running Accelergy with command: accelergy /home/workspace/output_dir/parsed-processed-input.yaml -o ./output_dir/ -v\n"
     ]
    },
    {
     "name": "stderr",
     "output_type": "stream",
     "text": [
      "INFO:pytimeloop.accelergy_interface:Running Accelergy with command: accelergy /home/workspace/output_dir/parsed-processed-input.yaml -o ./output_dir/ -v\n"
     ]
    },
    {
     "name": "stdout",
     "output_type": "stream",
     "text": [
      "Adding energy and cycle stats for l9-l15_conv3_stride1 occurence 1\n",
      "Adding energy and cycle stats for l9-l15_conv3_stride1 occurence 2\n",
      "Adding energy and cycle stats for l9-l15_conv3_stride1 occurence 3\n",
      "Adding energy and cycle stats for l9-l15_conv3_stride1 occurence 4\n",
      "Adding energy and cycle stats for l9-l15_conv3_stride1 occurence 5\n",
      "Adding energy and cycle stats for l9-l15_conv3_stride1 occurence 6\n",
      "Adding energy and cycle stats for l9-l15_conv3_stride1 occurence 7\n",
      "Running layer 21: l16_conv4_stride2 which occurs 1 times\n",
      "[INFO] 2025-04-28 18:36:21,395 - pytimeloop.accelergy_interface - Running Accelergy with command: accelergy /home/workspace/output_dir/parsed-processed-input.yaml -o ./output_dir/ -v\n"
     ]
    },
    {
     "name": "stderr",
     "output_type": "stream",
     "text": [
      "INFO:pytimeloop.accelergy_interface:Running Accelergy with command: accelergy /home/workspace/output_dir/parsed-processed-input.yaml -o ./output_dir/ -v\n"
     ]
    },
    {
     "name": "stdout",
     "output_type": "stream",
     "text": [
      "Adding energy and cycle stats for l16_conv4_stride2 occurence 1\n",
      "Running layer 23: l17-l27_conv4_stride1 which occurs 11 times\n",
      "[INFO] 2025-04-28 18:57:00,190 - pytimeloop.accelergy_interface - Running Accelergy with command: accelergy /home/workspace/output_dir/parsed-processed-input.yaml -o ./output_dir/ -v\n"
     ]
    },
    {
     "name": "stderr",
     "output_type": "stream",
     "text": [
      "INFO:pytimeloop.accelergy_interface:Running Accelergy with command: accelergy /home/workspace/output_dir/parsed-processed-input.yaml -o ./output_dir/ -v\n"
     ]
    },
    {
     "name": "stdout",
     "output_type": "stream",
     "text": [
      "Adding energy and cycle stats for l17-l27_conv4_stride1 occurence 1\n",
      "Adding energy and cycle stats for l17-l27_conv4_stride1 occurence 2\n",
      "Adding energy and cycle stats for l17-l27_conv4_stride1 occurence 3\n",
      "Adding energy and cycle stats for l17-l27_conv4_stride1 occurence 4\n",
      "Adding energy and cycle stats for l17-l27_conv4_stride1 occurence 5\n",
      "Adding energy and cycle stats for l17-l27_conv4_stride1 occurence 6\n",
      "Adding energy and cycle stats for l17-l27_conv4_stride1 occurence 7\n",
      "Adding energy and cycle stats for l17-l27_conv4_stride1 occurence 8\n",
      "Adding energy and cycle stats for l17-l27_conv4_stride1 occurence 9\n",
      "Adding energy and cycle stats for l17-l27_conv4_stride1 occurence 10\n",
      "Adding energy and cycle stats for l17-l27_conv4_stride1 occurence 11\n",
      "Running layer 35: l28_conv5_stride2 which occurs 1 times\n",
      "[INFO] 2025-04-28 19:00:39,589 - pytimeloop.accelergy_interface - Running Accelergy with command: accelergy /home/workspace/output_dir/parsed-processed-input.yaml -o ./output_dir/ -v\n"
     ]
    },
    {
     "name": "stderr",
     "output_type": "stream",
     "text": [
      "INFO:pytimeloop.accelergy_interface:Running Accelergy with command: accelergy /home/workspace/output_dir/parsed-processed-input.yaml -o ./output_dir/ -v\n"
     ]
    },
    {
     "name": "stdout",
     "output_type": "stream",
     "text": [
      "Adding energy and cycle stats for l28_conv5_stride2 occurence 1\n",
      "Running layer 37: l29-l33_conv5_stride1 which occurs 5 times\n",
      "[INFO] 2025-04-28 19:39:44,285 - pytimeloop.accelergy_interface - Running Accelergy with command: accelergy /home/workspace/output_dir/parsed-processed-input.yaml -o ./output_dir/ -v\n"
     ]
    },
    {
     "name": "stderr",
     "output_type": "stream",
     "text": [
      "INFO:pytimeloop.accelergy_interface:Running Accelergy with command: accelergy /home/workspace/output_dir/parsed-processed-input.yaml -o ./output_dir/ -v\n"
     ]
    },
    {
     "name": "stdout",
     "output_type": "stream",
     "text": [
      "Adding energy and cycle stats for l29-l33_conv5_stride1 occurence 1\n",
      "Adding energy and cycle stats for l29-l33_conv5_stride1 occurence 2\n",
      "Adding energy and cycle stats for l29-l33_conv5_stride1 occurence 3\n",
      "Adding energy and cycle stats for l29-l33_conv5_stride1 occurence 4\n",
      "Adding energy and cycle stats for l29-l33_conv5_stride1 occurence 5\n",
      "==================================================\n",
      "Starting Timeloop with configuration:\n",
      "  - arch: Architecture.Base\n",
      "  - scale: GPUMemoryScale.MEMORY_16MB\n",
      "  - rack: RackSize.RACK_4\n",
      "  - peConfig: PEsConfig.PE_2\n",
      "==================================================\n",
      "Running layer 1: l1_conv1 which occurs 1 times\n",
      "[INFO] 2025-04-28 19:49:34,850 - pytimeloop.accelergy_interface - Running Accelergy with command: accelergy /home/workspace/output_dir/parsed-processed-input.yaml -o ./output_dir/ -v\n"
     ]
    },
    {
     "name": "stderr",
     "output_type": "stream",
     "text": [
      "INFO:pytimeloop.accelergy_interface:Running Accelergy with command: accelergy /home/workspace/output_dir/parsed-processed-input.yaml -o ./output_dir/ -v\n"
     ]
    },
    {
     "name": "stdout",
     "output_type": "stream",
     "text": [
      "Adding energy and cycle stats for l1_conv1 occurence 1\n",
      "Running layer 3: l2_conv2_stride2 which occurs 1 times\n",
      "[INFO] 2025-04-28 19:50:07,635 - pytimeloop.accelergy_interface - Running Accelergy with command: accelergy /home/workspace/output_dir/parsed-processed-input.yaml -o ./output_dir/ -v\n"
     ]
    },
    {
     "name": "stderr",
     "output_type": "stream",
     "text": [
      "INFO:pytimeloop.accelergy_interface:Running Accelergy with command: accelergy /home/workspace/output_dir/parsed-processed-input.yaml -o ./output_dir/ -v\n"
     ]
    },
    {
     "name": "stdout",
     "output_type": "stream",
     "text": [
      "Adding energy and cycle stats for l2_conv2_stride2 occurence 1\n",
      "Running layer 5: l3-l7_conv2_stride1 which occurs 5 times\n",
      "[INFO] 2025-04-28 19:50:26,194 - pytimeloop.accelergy_interface - Running Accelergy with command: accelergy /home/workspace/output_dir/parsed-processed-input.yaml -o ./output_dir/ -v\n"
     ]
    },
    {
     "name": "stderr",
     "output_type": "stream",
     "text": [
      "INFO:pytimeloop.accelergy_interface:Running Accelergy with command: accelergy /home/workspace/output_dir/parsed-processed-input.yaml -o ./output_dir/ -v\n"
     ]
    },
    {
     "name": "stdout",
     "output_type": "stream",
     "text": [
      "Adding energy and cycle stats for l3-l7_conv2_stride1 occurence 1\n",
      "Adding energy and cycle stats for l3-l7_conv2_stride1 occurence 2\n",
      "Adding energy and cycle stats for l3-l7_conv2_stride1 occurence 3\n",
      "Adding energy and cycle stats for l3-l7_conv2_stride1 occurence 4\n",
      "Adding energy and cycle stats for l3-l7_conv2_stride1 occurence 5\n",
      "Running layer 11: l8_conv3_stride2 which occurs 1 times\n",
      "[INFO] 2025-04-28 19:50:44,451 - pytimeloop.accelergy_interface - Running Accelergy with command: accelergy /home/workspace/output_dir/parsed-processed-input.yaml -o ./output_dir/ -v\n"
     ]
    },
    {
     "name": "stderr",
     "output_type": "stream",
     "text": [
      "INFO:pytimeloop.accelergy_interface:Running Accelergy with command: accelergy /home/workspace/output_dir/parsed-processed-input.yaml -o ./output_dir/ -v\n"
     ]
    },
    {
     "name": "stdout",
     "output_type": "stream",
     "text": [
      "Adding energy and cycle stats for l8_conv3_stride2 occurence 1\n",
      "Running layer 13: l9-l15_conv3_stride1 which occurs 7 times\n",
      "[INFO] 2025-04-28 19:51:00,704 - pytimeloop.accelergy_interface - Running Accelergy with command: accelergy /home/workspace/output_dir/parsed-processed-input.yaml -o ./output_dir/ -v\n"
     ]
    },
    {
     "name": "stderr",
     "output_type": "stream",
     "text": [
      "INFO:pytimeloop.accelergy_interface:Running Accelergy with command: accelergy /home/workspace/output_dir/parsed-processed-input.yaml -o ./output_dir/ -v\n"
     ]
    },
    {
     "name": "stdout",
     "output_type": "stream",
     "text": [
      "Adding energy and cycle stats for l9-l15_conv3_stride1 occurence 1\n",
      "Adding energy and cycle stats for l9-l15_conv3_stride1 occurence 2\n",
      "Adding energy and cycle stats for l9-l15_conv3_stride1 occurence 3\n",
      "Adding energy and cycle stats for l9-l15_conv3_stride1 occurence 4\n",
      "Adding energy and cycle stats for l9-l15_conv3_stride1 occurence 5\n",
      "Adding energy and cycle stats for l9-l15_conv3_stride1 occurence 6\n",
      "Adding energy and cycle stats for l9-l15_conv3_stride1 occurence 7\n",
      "Running layer 21: l16_conv4_stride2 which occurs 1 times\n",
      "[INFO] 2025-04-28 19:51:15,983 - pytimeloop.accelergy_interface - Running Accelergy with command: accelergy /home/workspace/output_dir/parsed-processed-input.yaml -o ./output_dir/ -v\n"
     ]
    },
    {
     "name": "stderr",
     "output_type": "stream",
     "text": [
      "INFO:pytimeloop.accelergy_interface:Running Accelergy with command: accelergy /home/workspace/output_dir/parsed-processed-input.yaml -o ./output_dir/ -v\n"
     ]
    },
    {
     "name": "stdout",
     "output_type": "stream",
     "text": [
      "Adding energy and cycle stats for l16_conv4_stride2 occurence 1\n",
      "Running layer 23: l17-l27_conv4_stride1 which occurs 11 times\n",
      "[INFO] 2025-04-28 19:51:30,829 - pytimeloop.accelergy_interface - Running Accelergy with command: accelergy /home/workspace/output_dir/parsed-processed-input.yaml -o ./output_dir/ -v\n"
     ]
    },
    {
     "name": "stderr",
     "output_type": "stream",
     "text": [
      "INFO:pytimeloop.accelergy_interface:Running Accelergy with command: accelergy /home/workspace/output_dir/parsed-processed-input.yaml -o ./output_dir/ -v\n"
     ]
    },
    {
     "name": "stdout",
     "output_type": "stream",
     "text": [
      "Adding energy and cycle stats for l17-l27_conv4_stride1 occurence 1\n",
      "Adding energy and cycle stats for l17-l27_conv4_stride1 occurence 2\n",
      "Adding energy and cycle stats for l17-l27_conv4_stride1 occurence 3\n",
      "Adding energy and cycle stats for l17-l27_conv4_stride1 occurence 4\n",
      "Adding energy and cycle stats for l17-l27_conv4_stride1 occurence 5\n",
      "Adding energy and cycle stats for l17-l27_conv4_stride1 occurence 6\n",
      "Adding energy and cycle stats for l17-l27_conv4_stride1 occurence 7\n",
      "Adding energy and cycle stats for l17-l27_conv4_stride1 occurence 8\n",
      "Adding energy and cycle stats for l17-l27_conv4_stride1 occurence 9\n",
      "Adding energy and cycle stats for l17-l27_conv4_stride1 occurence 10\n",
      "Adding energy and cycle stats for l17-l27_conv4_stride1 occurence 11\n",
      "Running layer 35: l28_conv5_stride2 which occurs 1 times\n",
      "[INFO] 2025-04-28 19:51:45,918 - pytimeloop.accelergy_interface - Running Accelergy with command: accelergy /home/workspace/output_dir/parsed-processed-input.yaml -o ./output_dir/ -v\n"
     ]
    },
    {
     "name": "stderr",
     "output_type": "stream",
     "text": [
      "INFO:pytimeloop.accelergy_interface:Running Accelergy with command: accelergy /home/workspace/output_dir/parsed-processed-input.yaml -o ./output_dir/ -v\n"
     ]
    },
    {
     "name": "stdout",
     "output_type": "stream",
     "text": [
      "Adding energy and cycle stats for l28_conv5_stride2 occurence 1\n",
      "Running layer 37: l29-l33_conv5_stride1 which occurs 5 times\n",
      "[INFO] 2025-04-28 19:52:00,768 - pytimeloop.accelergy_interface - Running Accelergy with command: accelergy /home/workspace/output_dir/parsed-processed-input.yaml -o ./output_dir/ -v\n"
     ]
    },
    {
     "name": "stderr",
     "output_type": "stream",
     "text": [
      "INFO:pytimeloop.accelergy_interface:Running Accelergy with command: accelergy /home/workspace/output_dir/parsed-processed-input.yaml -o ./output_dir/ -v\n"
     ]
    },
    {
     "name": "stdout",
     "output_type": "stream",
     "text": [
      "Adding energy and cycle stats for l29-l33_conv5_stride1 occurence 1\n",
      "Adding energy and cycle stats for l29-l33_conv5_stride1 occurence 2\n",
      "Adding energy and cycle stats for l29-l33_conv5_stride1 occurence 3\n",
      "Adding energy and cycle stats for l29-l33_conv5_stride1 occurence 4\n",
      "Adding energy and cycle stats for l29-l33_conv5_stride1 occurence 5\n",
      "==================================================\n",
      "Starting Timeloop with configuration:\n",
      "  - arch: Architecture.Base\n",
      "  - scale: GPUMemoryScale.MEMORY_16MB\n",
      "  - rack: RackSize.RACK_4\n",
      "  - peConfig: PEsConfig.PE_4\n",
      "==================================================\n",
      "Running layer 1: l1_conv1 which occurs 1 times\n",
      "[INFO] 2025-04-28 19:52:16,434 - pytimeloop.accelergy_interface - Running Accelergy with command: accelergy /home/workspace/output_dir/parsed-processed-input.yaml -o ./output_dir/ -v\n"
     ]
    },
    {
     "name": "stderr",
     "output_type": "stream",
     "text": [
      "INFO:pytimeloop.accelergy_interface:Running Accelergy with command: accelergy /home/workspace/output_dir/parsed-processed-input.yaml -o ./output_dir/ -v\n"
     ]
    },
    {
     "name": "stdout",
     "output_type": "stream",
     "text": [
      "Adding energy and cycle stats for l1_conv1 occurence 1\n",
      "Running layer 3: l2_conv2_stride2 which occurs 1 times\n",
      "[INFO] 2025-04-28 19:52:31,686 - pytimeloop.accelergy_interface - Running Accelergy with command: accelergy /home/workspace/output_dir/parsed-processed-input.yaml -o ./output_dir/ -v\n"
     ]
    },
    {
     "name": "stderr",
     "output_type": "stream",
     "text": [
      "INFO:pytimeloop.accelergy_interface:Running Accelergy with command: accelergy /home/workspace/output_dir/parsed-processed-input.yaml -o ./output_dir/ -v\n"
     ]
    },
    {
     "name": "stdout",
     "output_type": "stream",
     "text": [
      "Adding energy and cycle stats for l2_conv2_stride2 occurence 1\n",
      "Running layer 5: l3-l7_conv2_stride1 which occurs 5 times\n",
      "[INFO] 2025-04-28 19:52:46,971 - pytimeloop.accelergy_interface - Running Accelergy with command: accelergy /home/workspace/output_dir/parsed-processed-input.yaml -o ./output_dir/ -v\n"
     ]
    },
    {
     "name": "stderr",
     "output_type": "stream",
     "text": [
      "INFO:pytimeloop.accelergy_interface:Running Accelergy with command: accelergy /home/workspace/output_dir/parsed-processed-input.yaml -o ./output_dir/ -v\n"
     ]
    },
    {
     "name": "stdout",
     "output_type": "stream",
     "text": [
      "Adding energy and cycle stats for l3-l7_conv2_stride1 occurence 1\n",
      "Adding energy and cycle stats for l3-l7_conv2_stride1 occurence 2\n",
      "Adding energy and cycle stats for l3-l7_conv2_stride1 occurence 3\n",
      "Adding energy and cycle stats for l3-l7_conv2_stride1 occurence 4\n",
      "Adding energy and cycle stats for l3-l7_conv2_stride1 occurence 5\n",
      "Running layer 11: l8_conv3_stride2 which occurs 1 times\n",
      "[INFO] 2025-04-28 19:53:02,768 - pytimeloop.accelergy_interface - Running Accelergy with command: accelergy /home/workspace/output_dir/parsed-processed-input.yaml -o ./output_dir/ -v\n"
     ]
    },
    {
     "name": "stderr",
     "output_type": "stream",
     "text": [
      "INFO:pytimeloop.accelergy_interface:Running Accelergy with command: accelergy /home/workspace/output_dir/parsed-processed-input.yaml -o ./output_dir/ -v\n"
     ]
    },
    {
     "name": "stdout",
     "output_type": "stream",
     "text": [
      "Adding energy and cycle stats for l8_conv3_stride2 occurence 1\n",
      "Running layer 13: l9-l15_conv3_stride1 which occurs 7 times\n",
      "[INFO] 2025-04-28 19:53:17,550 - pytimeloop.accelergy_interface - Running Accelergy with command: accelergy /home/workspace/output_dir/parsed-processed-input.yaml -o ./output_dir/ -v\n"
     ]
    },
    {
     "name": "stderr",
     "output_type": "stream",
     "text": [
      "INFO:pytimeloop.accelergy_interface:Running Accelergy with command: accelergy /home/workspace/output_dir/parsed-processed-input.yaml -o ./output_dir/ -v\n"
     ]
    },
    {
     "name": "stdout",
     "output_type": "stream",
     "text": [
      "Adding energy and cycle stats for l9-l15_conv3_stride1 occurence 1\n",
      "Adding energy and cycle stats for l9-l15_conv3_stride1 occurence 2\n",
      "Adding energy and cycle stats for l9-l15_conv3_stride1 occurence 3\n",
      "Adding energy and cycle stats for l9-l15_conv3_stride1 occurence 4\n",
      "Adding energy and cycle stats for l9-l15_conv3_stride1 occurence 5\n",
      "Adding energy and cycle stats for l9-l15_conv3_stride1 occurence 6\n",
      "Adding energy and cycle stats for l9-l15_conv3_stride1 occurence 7\n",
      "Running layer 21: l16_conv4_stride2 which occurs 1 times\n",
      "[INFO] 2025-04-28 19:53:32,381 - pytimeloop.accelergy_interface - Running Accelergy with command: accelergy /home/workspace/output_dir/parsed-processed-input.yaml -o ./output_dir/ -v\n"
     ]
    },
    {
     "name": "stderr",
     "output_type": "stream",
     "text": [
      "INFO:pytimeloop.accelergy_interface:Running Accelergy with command: accelergy /home/workspace/output_dir/parsed-processed-input.yaml -o ./output_dir/ -v\n"
     ]
    },
    {
     "name": "stdout",
     "output_type": "stream",
     "text": [
      "Adding energy and cycle stats for l16_conv4_stride2 occurence 1\n",
      "Running layer 23: l17-l27_conv4_stride1 which occurs 11 times\n",
      "[INFO] 2025-04-28 19:53:48,252 - pytimeloop.accelergy_interface - Running Accelergy with command: accelergy /home/workspace/output_dir/parsed-processed-input.yaml -o ./output_dir/ -v\n"
     ]
    },
    {
     "name": "stderr",
     "output_type": "stream",
     "text": [
      "INFO:pytimeloop.accelergy_interface:Running Accelergy with command: accelergy /home/workspace/output_dir/parsed-processed-input.yaml -o ./output_dir/ -v\n"
     ]
    },
    {
     "name": "stdout",
     "output_type": "stream",
     "text": [
      "Adding energy and cycle stats for l17-l27_conv4_stride1 occurence 1\n",
      "Adding energy and cycle stats for l17-l27_conv4_stride1 occurence 2\n",
      "Adding energy and cycle stats for l17-l27_conv4_stride1 occurence 3\n",
      "Adding energy and cycle stats for l17-l27_conv4_stride1 occurence 4\n",
      "Adding energy and cycle stats for l17-l27_conv4_stride1 occurence 5\n",
      "Adding energy and cycle stats for l17-l27_conv4_stride1 occurence 6\n",
      "Adding energy and cycle stats for l17-l27_conv4_stride1 occurence 7\n",
      "Adding energy and cycle stats for l17-l27_conv4_stride1 occurence 8\n",
      "Adding energy and cycle stats for l17-l27_conv4_stride1 occurence 9\n",
      "Adding energy and cycle stats for l17-l27_conv4_stride1 occurence 10\n",
      "Adding energy and cycle stats for l17-l27_conv4_stride1 occurence 11\n",
      "Running layer 35: l28_conv5_stride2 which occurs 1 times\n",
      "[INFO] 2025-04-28 19:54:05,987 - pytimeloop.accelergy_interface - Running Accelergy with command: accelergy /home/workspace/output_dir/parsed-processed-input.yaml -o ./output_dir/ -v\n"
     ]
    },
    {
     "name": "stderr",
     "output_type": "stream",
     "text": [
      "INFO:pytimeloop.accelergy_interface:Running Accelergy with command: accelergy /home/workspace/output_dir/parsed-processed-input.yaml -o ./output_dir/ -v\n"
     ]
    },
    {
     "name": "stdout",
     "output_type": "stream",
     "text": [
      "Adding energy and cycle stats for l28_conv5_stride2 occurence 1\n",
      "Running layer 37: l29-l33_conv5_stride1 which occurs 5 times\n",
      "[INFO] 2025-04-28 19:54:21,052 - pytimeloop.accelergy_interface - Running Accelergy with command: accelergy /home/workspace/output_dir/parsed-processed-input.yaml -o ./output_dir/ -v\n"
     ]
    },
    {
     "name": "stderr",
     "output_type": "stream",
     "text": [
      "INFO:pytimeloop.accelergy_interface:Running Accelergy with command: accelergy /home/workspace/output_dir/parsed-processed-input.yaml -o ./output_dir/ -v\n"
     ]
    },
    {
     "name": "stdout",
     "output_type": "stream",
     "text": [
      "Adding energy and cycle stats for l29-l33_conv5_stride1 occurence 1\n",
      "Adding energy and cycle stats for l29-l33_conv5_stride1 occurence 2\n",
      "Adding energy and cycle stats for l29-l33_conv5_stride1 occurence 3\n",
      "Adding energy and cycle stats for l29-l33_conv5_stride1 occurence 4\n",
      "Adding energy and cycle stats for l29-l33_conv5_stride1 occurence 5\n",
      "==================================================\n",
      "Starting Timeloop with configuration:\n",
      "  - arch: Architecture.Base\n",
      "  - scale: GPUMemoryScale.MEMORY_16MB\n",
      "  - rack: RackSize.RACK_4\n",
      "  - peConfig: PEsConfig.PE_8\n",
      "==================================================\n",
      "Running layer 1: l1_conv1 which occurs 1 times\n",
      "[INFO] 2025-04-28 19:54:35,964 - pytimeloop.accelergy_interface - Running Accelergy with command: accelergy /home/workspace/output_dir/parsed-processed-input.yaml -o ./output_dir/ -v\n"
     ]
    },
    {
     "name": "stderr",
     "output_type": "stream",
     "text": [
      "INFO:pytimeloop.accelergy_interface:Running Accelergy with command: accelergy /home/workspace/output_dir/parsed-processed-input.yaml -o ./output_dir/ -v\n"
     ]
    },
    {
     "name": "stdout",
     "output_type": "stream",
     "text": [
      "Adding energy and cycle stats for l1_conv1 occurence 1\n",
      "Running layer 3: l2_conv2_stride2 which occurs 1 times\n",
      "[INFO] 2025-04-28 19:54:51,251 - pytimeloop.accelergy_interface - Running Accelergy with command: accelergy /home/workspace/output_dir/parsed-processed-input.yaml -o ./output_dir/ -v\n"
     ]
    },
    {
     "name": "stderr",
     "output_type": "stream",
     "text": [
      "INFO:pytimeloop.accelergy_interface:Running Accelergy with command: accelergy /home/workspace/output_dir/parsed-processed-input.yaml -o ./output_dir/ -v\n"
     ]
    },
    {
     "name": "stdout",
     "output_type": "stream",
     "text": [
      "Adding energy and cycle stats for l2_conv2_stride2 occurence 1\n",
      "Running layer 5: l3-l7_conv2_stride1 which occurs 5 times\n",
      "[INFO] 2025-04-28 19:55:06,458 - pytimeloop.accelergy_interface - Running Accelergy with command: accelergy /home/workspace/output_dir/parsed-processed-input.yaml -o ./output_dir/ -v\n"
     ]
    },
    {
     "name": "stderr",
     "output_type": "stream",
     "text": [
      "INFO:pytimeloop.accelergy_interface:Running Accelergy with command: accelergy /home/workspace/output_dir/parsed-processed-input.yaml -o ./output_dir/ -v\n"
     ]
    },
    {
     "name": "stdout",
     "output_type": "stream",
     "text": [
      "Adding energy and cycle stats for l3-l7_conv2_stride1 occurence 1\n",
      "Adding energy and cycle stats for l3-l7_conv2_stride1 occurence 2\n",
      "Adding energy and cycle stats for l3-l7_conv2_stride1 occurence 3\n",
      "Adding energy and cycle stats for l3-l7_conv2_stride1 occurence 4\n",
      "Adding energy and cycle stats for l3-l7_conv2_stride1 occurence 5\n",
      "Running layer 11: l8_conv3_stride2 which occurs 1 times\n",
      "[INFO] 2025-04-28 19:55:21,363 - pytimeloop.accelergy_interface - Running Accelergy with command: accelergy /home/workspace/output_dir/parsed-processed-input.yaml -o ./output_dir/ -v\n"
     ]
    },
    {
     "name": "stderr",
     "output_type": "stream",
     "text": [
      "INFO:pytimeloop.accelergy_interface:Running Accelergy with command: accelergy /home/workspace/output_dir/parsed-processed-input.yaml -o ./output_dir/ -v\n"
     ]
    },
    {
     "name": "stdout",
     "output_type": "stream",
     "text": [
      "Adding energy and cycle stats for l8_conv3_stride2 occurence 1\n",
      "Running layer 13: l9-l15_conv3_stride1 which occurs 7 times\n",
      "[INFO] 2025-04-28 19:55:36,437 - pytimeloop.accelergy_interface - Running Accelergy with command: accelergy /home/workspace/output_dir/parsed-processed-input.yaml -o ./output_dir/ -v\n"
     ]
    },
    {
     "name": "stderr",
     "output_type": "stream",
     "text": [
      "INFO:pytimeloop.accelergy_interface:Running Accelergy with command: accelergy /home/workspace/output_dir/parsed-processed-input.yaml -o ./output_dir/ -v\n"
     ]
    },
    {
     "name": "stdout",
     "output_type": "stream",
     "text": [
      "Adding energy and cycle stats for l9-l15_conv3_stride1 occurence 1\n",
      "Adding energy and cycle stats for l9-l15_conv3_stride1 occurence 2\n",
      "Adding energy and cycle stats for l9-l15_conv3_stride1 occurence 3\n",
      "Adding energy and cycle stats for l9-l15_conv3_stride1 occurence 4\n",
      "Adding energy and cycle stats for l9-l15_conv3_stride1 occurence 5\n",
      "Adding energy and cycle stats for l9-l15_conv3_stride1 occurence 6\n",
      "Adding energy and cycle stats for l9-l15_conv3_stride1 occurence 7\n",
      "Running layer 21: l16_conv4_stride2 which occurs 1 times\n",
      "[INFO] 2025-04-28 19:55:52,641 - pytimeloop.accelergy_interface - Running Accelergy with command: accelergy /home/workspace/output_dir/parsed-processed-input.yaml -o ./output_dir/ -v\n"
     ]
    },
    {
     "name": "stderr",
     "output_type": "stream",
     "text": [
      "INFO:pytimeloop.accelergy_interface:Running Accelergy with command: accelergy /home/workspace/output_dir/parsed-processed-input.yaml -o ./output_dir/ -v\n"
     ]
    },
    {
     "name": "stdout",
     "output_type": "stream",
     "text": [
      "Adding energy and cycle stats for l16_conv4_stride2 occurence 1\n",
      "Running layer 23: l17-l27_conv4_stride1 which occurs 11 times\n",
      "[INFO] 2025-04-28 19:56:09,113 - pytimeloop.accelergy_interface - Running Accelergy with command: accelergy /home/workspace/output_dir/parsed-processed-input.yaml -o ./output_dir/ -v\n"
     ]
    },
    {
     "name": "stderr",
     "output_type": "stream",
     "text": [
      "INFO:pytimeloop.accelergy_interface:Running Accelergy with command: accelergy /home/workspace/output_dir/parsed-processed-input.yaml -o ./output_dir/ -v\n"
     ]
    },
    {
     "name": "stdout",
     "output_type": "stream",
     "text": [
      "Adding energy and cycle stats for l17-l27_conv4_stride1 occurence 1\n",
      "Adding energy and cycle stats for l17-l27_conv4_stride1 occurence 2\n",
      "Adding energy and cycle stats for l17-l27_conv4_stride1 occurence 3\n",
      "Adding energy and cycle stats for l17-l27_conv4_stride1 occurence 4\n",
      "Adding energy and cycle stats for l17-l27_conv4_stride1 occurence 5\n",
      "Adding energy and cycle stats for l17-l27_conv4_stride1 occurence 6\n",
      "Adding energy and cycle stats for l17-l27_conv4_stride1 occurence 7\n",
      "Adding energy and cycle stats for l17-l27_conv4_stride1 occurence 8\n",
      "Adding energy and cycle stats for l17-l27_conv4_stride1 occurence 9\n",
      "Adding energy and cycle stats for l17-l27_conv4_stride1 occurence 10\n",
      "Adding energy and cycle stats for l17-l27_conv4_stride1 occurence 11\n",
      "Running layer 35: l28_conv5_stride2 which occurs 1 times\n",
      "[INFO] 2025-04-28 19:56:24,566 - pytimeloop.accelergy_interface - Running Accelergy with command: accelergy /home/workspace/output_dir/parsed-processed-input.yaml -o ./output_dir/ -v\n"
     ]
    },
    {
     "name": "stderr",
     "output_type": "stream",
     "text": [
      "INFO:pytimeloop.accelergy_interface:Running Accelergy with command: accelergy /home/workspace/output_dir/parsed-processed-input.yaml -o ./output_dir/ -v\n"
     ]
    },
    {
     "name": "stdout",
     "output_type": "stream",
     "text": [
      "Adding energy and cycle stats for l28_conv5_stride2 occurence 1\n",
      "Running layer 37: l29-l33_conv5_stride1 which occurs 5 times\n",
      "[INFO] 2025-04-28 19:56:39,716 - pytimeloop.accelergy_interface - Running Accelergy with command: accelergy /home/workspace/output_dir/parsed-processed-input.yaml -o ./output_dir/ -v\n"
     ]
    },
    {
     "name": "stderr",
     "output_type": "stream",
     "text": [
      "INFO:pytimeloop.accelergy_interface:Running Accelergy with command: accelergy /home/workspace/output_dir/parsed-processed-input.yaml -o ./output_dir/ -v\n"
     ]
    },
    {
     "name": "stdout",
     "output_type": "stream",
     "text": [
      "Adding energy and cycle stats for l29-l33_conv5_stride1 occurence 1\n",
      "Adding energy and cycle stats for l29-l33_conv5_stride1 occurence 2\n",
      "Adding energy and cycle stats for l29-l33_conv5_stride1 occurence 3\n",
      "Adding energy and cycle stats for l29-l33_conv5_stride1 occurence 4\n",
      "Adding energy and cycle stats for l29-l33_conv5_stride1 occurence 5\n",
      "==================================================\n",
      "Starting Timeloop with configuration:\n",
      "  - arch: Architecture.Base\n",
      "  - scale: GPUMemoryScale.MEMORY_64MB\n",
      "  - rack: RackSize.RACK_4\n",
      "  - peConfig: PEsConfig.PE_2\n",
      "==================================================\n",
      "Running layer 1: l1_conv1 which occurs 1 times\n",
      "[INFO] 2025-04-28 19:56:55,191 - pytimeloop.accelergy_interface - Running Accelergy with command: accelergy /home/workspace/output_dir/parsed-processed-input.yaml -o ./output_dir/ -v\n"
     ]
    },
    {
     "name": "stderr",
     "output_type": "stream",
     "text": [
      "INFO:pytimeloop.accelergy_interface:Running Accelergy with command: accelergy /home/workspace/output_dir/parsed-processed-input.yaml -o ./output_dir/ -v\n"
     ]
    },
    {
     "name": "stdout",
     "output_type": "stream",
     "text": [
      "Adding energy and cycle stats for l1_conv1 occurence 1\n",
      "Running layer 3: l2_conv2_stride2 which occurs 1 times\n",
      "[INFO] 2025-04-28 19:57:10,833 - pytimeloop.accelergy_interface - Running Accelergy with command: accelergy /home/workspace/output_dir/parsed-processed-input.yaml -o ./output_dir/ -v\n"
     ]
    },
    {
     "name": "stderr",
     "output_type": "stream",
     "text": [
      "INFO:pytimeloop.accelergy_interface:Running Accelergy with command: accelergy /home/workspace/output_dir/parsed-processed-input.yaml -o ./output_dir/ -v\n"
     ]
    },
    {
     "name": "stdout",
     "output_type": "stream",
     "text": [
      "Adding energy and cycle stats for l2_conv2_stride2 occurence 1\n",
      "Running layer 5: l3-l7_conv2_stride1 which occurs 5 times\n",
      "[INFO] 2025-04-28 19:57:26,153 - pytimeloop.accelergy_interface - Running Accelergy with command: accelergy /home/workspace/output_dir/parsed-processed-input.yaml -o ./output_dir/ -v\n"
     ]
    },
    {
     "name": "stderr",
     "output_type": "stream",
     "text": [
      "INFO:pytimeloop.accelergy_interface:Running Accelergy with command: accelergy /home/workspace/output_dir/parsed-processed-input.yaml -o ./output_dir/ -v\n"
     ]
    },
    {
     "name": "stdout",
     "output_type": "stream",
     "text": [
      "Adding energy and cycle stats for l3-l7_conv2_stride1 occurence 1\n",
      "Adding energy and cycle stats for l3-l7_conv2_stride1 occurence 2\n",
      "Adding energy and cycle stats for l3-l7_conv2_stride1 occurence 3\n",
      "Adding energy and cycle stats for l3-l7_conv2_stride1 occurence 4\n",
      "Adding energy and cycle stats for l3-l7_conv2_stride1 occurence 5\n",
      "Running layer 11: l8_conv3_stride2 which occurs 1 times\n",
      "[INFO] 2025-04-28 19:57:41,781 - pytimeloop.accelergy_interface - Running Accelergy with command: accelergy /home/workspace/output_dir/parsed-processed-input.yaml -o ./output_dir/ -v\n"
     ]
    },
    {
     "name": "stderr",
     "output_type": "stream",
     "text": [
      "INFO:pytimeloop.accelergy_interface:Running Accelergy with command: accelergy /home/workspace/output_dir/parsed-processed-input.yaml -o ./output_dir/ -v\n"
     ]
    },
    {
     "name": "stdout",
     "output_type": "stream",
     "text": [
      "Adding energy and cycle stats for l8_conv3_stride2 occurence 1\n",
      "Running layer 13: l9-l15_conv3_stride1 which occurs 7 times\n",
      "[INFO] 2025-04-28 19:57:57,028 - pytimeloop.accelergy_interface - Running Accelergy with command: accelergy /home/workspace/output_dir/parsed-processed-input.yaml -o ./output_dir/ -v\n"
     ]
    },
    {
     "name": "stderr",
     "output_type": "stream",
     "text": [
      "INFO:pytimeloop.accelergy_interface:Running Accelergy with command: accelergy /home/workspace/output_dir/parsed-processed-input.yaml -o ./output_dir/ -v\n"
     ]
    },
    {
     "name": "stdout",
     "output_type": "stream",
     "text": [
      "Adding energy and cycle stats for l9-l15_conv3_stride1 occurence 1\n",
      "Adding energy and cycle stats for l9-l15_conv3_stride1 occurence 2\n",
      "Adding energy and cycle stats for l9-l15_conv3_stride1 occurence 3\n",
      "Adding energy and cycle stats for l9-l15_conv3_stride1 occurence 4\n",
      "Adding energy and cycle stats for l9-l15_conv3_stride1 occurence 5\n",
      "Adding energy and cycle stats for l9-l15_conv3_stride1 occurence 6\n",
      "Adding energy and cycle stats for l9-l15_conv3_stride1 occurence 7\n",
      "Running layer 21: l16_conv4_stride2 which occurs 1 times\n",
      "[INFO] 2025-04-28 19:58:13,447 - pytimeloop.accelergy_interface - Running Accelergy with command: accelergy /home/workspace/output_dir/parsed-processed-input.yaml -o ./output_dir/ -v\n"
     ]
    },
    {
     "name": "stderr",
     "output_type": "stream",
     "text": [
      "INFO:pytimeloop.accelergy_interface:Running Accelergy with command: accelergy /home/workspace/output_dir/parsed-processed-input.yaml -o ./output_dir/ -v\n"
     ]
    },
    {
     "name": "stdout",
     "output_type": "stream",
     "text": [
      "Adding energy and cycle stats for l16_conv4_stride2 occurence 1\n",
      "Running layer 23: l17-l27_conv4_stride1 which occurs 11 times\n",
      "[INFO] 2025-04-28 19:58:35,302 - pytimeloop.accelergy_interface - Running Accelergy with command: accelergy /home/workspace/output_dir/parsed-processed-input.yaml -o ./output_dir/ -v\n"
     ]
    },
    {
     "name": "stderr",
     "output_type": "stream",
     "text": [
      "INFO:pytimeloop.accelergy_interface:Running Accelergy with command: accelergy /home/workspace/output_dir/parsed-processed-input.yaml -o ./output_dir/ -v\n"
     ]
    },
    {
     "name": "stdout",
     "output_type": "stream",
     "text": [
      "Adding energy and cycle stats for l17-l27_conv4_stride1 occurence 1\n",
      "Adding energy and cycle stats for l17-l27_conv4_stride1 occurence 2\n",
      "Adding energy and cycle stats for l17-l27_conv4_stride1 occurence 3\n",
      "Adding energy and cycle stats for l17-l27_conv4_stride1 occurence 4\n",
      "Adding energy and cycle stats for l17-l27_conv4_stride1 occurence 5\n",
      "Adding energy and cycle stats for l17-l27_conv4_stride1 occurence 6\n",
      "Adding energy and cycle stats for l17-l27_conv4_stride1 occurence 7\n",
      "Adding energy and cycle stats for l17-l27_conv4_stride1 occurence 8\n",
      "Adding energy and cycle stats for l17-l27_conv4_stride1 occurence 9\n",
      "Adding energy and cycle stats for l17-l27_conv4_stride1 occurence 10\n",
      "Adding energy and cycle stats for l17-l27_conv4_stride1 occurence 11\n",
      "Running layer 35: l28_conv5_stride2 which occurs 1 times\n",
      "[INFO] 2025-04-28 19:58:51,282 - pytimeloop.accelergy_interface - Running Accelergy with command: accelergy /home/workspace/output_dir/parsed-processed-input.yaml -o ./output_dir/ -v\n"
     ]
    },
    {
     "name": "stderr",
     "output_type": "stream",
     "text": [
      "INFO:pytimeloop.accelergy_interface:Running Accelergy with command: accelergy /home/workspace/output_dir/parsed-processed-input.yaml -o ./output_dir/ -v\n"
     ]
    },
    {
     "name": "stdout",
     "output_type": "stream",
     "text": [
      "Adding energy and cycle stats for l28_conv5_stride2 occurence 1\n",
      "Running layer 37: l29-l33_conv5_stride1 which occurs 5 times\n",
      "[INFO] 2025-04-28 19:59:06,729 - pytimeloop.accelergy_interface - Running Accelergy with command: accelergy /home/workspace/output_dir/parsed-processed-input.yaml -o ./output_dir/ -v\n"
     ]
    },
    {
     "name": "stderr",
     "output_type": "stream",
     "text": [
      "INFO:pytimeloop.accelergy_interface:Running Accelergy with command: accelergy /home/workspace/output_dir/parsed-processed-input.yaml -o ./output_dir/ -v\n"
     ]
    },
    {
     "name": "stdout",
     "output_type": "stream",
     "text": [
      "Adding energy and cycle stats for l29-l33_conv5_stride1 occurence 1\n",
      "Adding energy and cycle stats for l29-l33_conv5_stride1 occurence 2\n",
      "Adding energy and cycle stats for l29-l33_conv5_stride1 occurence 3\n",
      "Adding energy and cycle stats for l29-l33_conv5_stride1 occurence 4\n",
      "Adding energy and cycle stats for l29-l33_conv5_stride1 occurence 5\n",
      "==================================================\n",
      "Starting Timeloop with configuration:\n",
      "  - arch: Architecture.Base\n",
      "  - scale: GPUMemoryScale.MEMORY_64MB\n",
      "  - rack: RackSize.RACK_4\n",
      "  - peConfig: PEsConfig.PE_4\n",
      "==================================================\n",
      "Running layer 1: l1_conv1 which occurs 1 times\n",
      "[INFO] 2025-04-28 19:59:22,390 - pytimeloop.accelergy_interface - Running Accelergy with command: accelergy /home/workspace/output_dir/parsed-processed-input.yaml -o ./output_dir/ -v\n"
     ]
    },
    {
     "name": "stderr",
     "output_type": "stream",
     "text": [
      "INFO:pytimeloop.accelergy_interface:Running Accelergy with command: accelergy /home/workspace/output_dir/parsed-processed-input.yaml -o ./output_dir/ -v\n"
     ]
    },
    {
     "name": "stdout",
     "output_type": "stream",
     "text": [
      "Adding energy and cycle stats for l1_conv1 occurence 1\n",
      "Running layer 3: l2_conv2_stride2 which occurs 1 times\n",
      "[INFO] 2025-04-28 19:59:38,343 - pytimeloop.accelergy_interface - Running Accelergy with command: accelergy /home/workspace/output_dir/parsed-processed-input.yaml -o ./output_dir/ -v\n"
     ]
    },
    {
     "name": "stderr",
     "output_type": "stream",
     "text": [
      "INFO:pytimeloop.accelergy_interface:Running Accelergy with command: accelergy /home/workspace/output_dir/parsed-processed-input.yaml -o ./output_dir/ -v\n"
     ]
    },
    {
     "name": "stdout",
     "output_type": "stream",
     "text": [
      "Adding energy and cycle stats for l2_conv2_stride2 occurence 1\n",
      "Running layer 5: l3-l7_conv2_stride1 which occurs 5 times\n",
      "[INFO] 2025-04-28 19:59:54,298 - pytimeloop.accelergy_interface - Running Accelergy with command: accelergy /home/workspace/output_dir/parsed-processed-input.yaml -o ./output_dir/ -v\n"
     ]
    },
    {
     "name": "stderr",
     "output_type": "stream",
     "text": [
      "INFO:pytimeloop.accelergy_interface:Running Accelergy with command: accelergy /home/workspace/output_dir/parsed-processed-input.yaml -o ./output_dir/ -v\n"
     ]
    },
    {
     "name": "stdout",
     "output_type": "stream",
     "text": [
      "Adding energy and cycle stats for l3-l7_conv2_stride1 occurence 1\n",
      "Adding energy and cycle stats for l3-l7_conv2_stride1 occurence 2\n",
      "Adding energy and cycle stats for l3-l7_conv2_stride1 occurence 3\n",
      "Adding energy and cycle stats for l3-l7_conv2_stride1 occurence 4\n",
      "Adding energy and cycle stats for l3-l7_conv2_stride1 occurence 5\n",
      "Running layer 11: l8_conv3_stride2 which occurs 1 times\n",
      "[INFO] 2025-04-28 20:00:10,661 - pytimeloop.accelergy_interface - Running Accelergy with command: accelergy /home/workspace/output_dir/parsed-processed-input.yaml -o ./output_dir/ -v\n"
     ]
    },
    {
     "name": "stderr",
     "output_type": "stream",
     "text": [
      "INFO:pytimeloop.accelergy_interface:Running Accelergy with command: accelergy /home/workspace/output_dir/parsed-processed-input.yaml -o ./output_dir/ -v\n"
     ]
    },
    {
     "name": "stdout",
     "output_type": "stream",
     "text": [
      "Adding energy and cycle stats for l8_conv3_stride2 occurence 1\n",
      "Running layer 13: l9-l15_conv3_stride1 which occurs 7 times\n",
      "[INFO] 2025-04-28 20:00:27,387 - pytimeloop.accelergy_interface - Running Accelergy with command: accelergy /home/workspace/output_dir/parsed-processed-input.yaml -o ./output_dir/ -v\n"
     ]
    },
    {
     "name": "stderr",
     "output_type": "stream",
     "text": [
      "INFO:pytimeloop.accelergy_interface:Running Accelergy with command: accelergy /home/workspace/output_dir/parsed-processed-input.yaml -o ./output_dir/ -v\n"
     ]
    },
    {
     "name": "stdout",
     "output_type": "stream",
     "text": [
      "Adding energy and cycle stats for l9-l15_conv3_stride1 occurence 1\n",
      "Adding energy and cycle stats for l9-l15_conv3_stride1 occurence 2\n",
      "Adding energy and cycle stats for l9-l15_conv3_stride1 occurence 3\n",
      "Adding energy and cycle stats for l9-l15_conv3_stride1 occurence 4\n",
      "Adding energy and cycle stats for l9-l15_conv3_stride1 occurence 5\n",
      "Adding energy and cycle stats for l9-l15_conv3_stride1 occurence 6\n",
      "Adding energy and cycle stats for l9-l15_conv3_stride1 occurence 7\n",
      "Running layer 21: l16_conv4_stride2 which occurs 1 times\n",
      "[INFO] 2025-04-28 20:00:43,449 - pytimeloop.accelergy_interface - Running Accelergy with command: accelergy /home/workspace/output_dir/parsed-processed-input.yaml -o ./output_dir/ -v\n"
     ]
    },
    {
     "name": "stderr",
     "output_type": "stream",
     "text": [
      "INFO:pytimeloop.accelergy_interface:Running Accelergy with command: accelergy /home/workspace/output_dir/parsed-processed-input.yaml -o ./output_dir/ -v\n"
     ]
    },
    {
     "name": "stdout",
     "output_type": "stream",
     "text": [
      "Adding energy and cycle stats for l16_conv4_stride2 occurence 1\n",
      "Running layer 23: l17-l27_conv4_stride1 which occurs 11 times\n",
      "[INFO] 2025-04-28 20:00:59,379 - pytimeloop.accelergy_interface - Running Accelergy with command: accelergy /home/workspace/output_dir/parsed-processed-input.yaml -o ./output_dir/ -v\n"
     ]
    },
    {
     "name": "stderr",
     "output_type": "stream",
     "text": [
      "INFO:pytimeloop.accelergy_interface:Running Accelergy with command: accelergy /home/workspace/output_dir/parsed-processed-input.yaml -o ./output_dir/ -v\n"
     ]
    },
    {
     "name": "stdout",
     "output_type": "stream",
     "text": [
      "Adding energy and cycle stats for l17-l27_conv4_stride1 occurence 1\n",
      "Adding energy and cycle stats for l17-l27_conv4_stride1 occurence 2\n",
      "Adding energy and cycle stats for l17-l27_conv4_stride1 occurence 3\n",
      "Adding energy and cycle stats for l17-l27_conv4_stride1 occurence 4\n",
      "Adding energy and cycle stats for l17-l27_conv4_stride1 occurence 5\n",
      "Adding energy and cycle stats for l17-l27_conv4_stride1 occurence 6\n",
      "Adding energy and cycle stats for l17-l27_conv4_stride1 occurence 7\n",
      "Adding energy and cycle stats for l17-l27_conv4_stride1 occurence 8\n",
      "Adding energy and cycle stats for l17-l27_conv4_stride1 occurence 9\n",
      "Adding energy and cycle stats for l17-l27_conv4_stride1 occurence 10\n",
      "Adding energy and cycle stats for l17-l27_conv4_stride1 occurence 11\n",
      "Running layer 35: l28_conv5_stride2 which occurs 1 times\n",
      "[INFO] 2025-04-28 20:01:15,264 - pytimeloop.accelergy_interface - Running Accelergy with command: accelergy /home/workspace/output_dir/parsed-processed-input.yaml -o ./output_dir/ -v\n"
     ]
    },
    {
     "name": "stderr",
     "output_type": "stream",
     "text": [
      "INFO:pytimeloop.accelergy_interface:Running Accelergy with command: accelergy /home/workspace/output_dir/parsed-processed-input.yaml -o ./output_dir/ -v\n"
     ]
    },
    {
     "name": "stdout",
     "output_type": "stream",
     "text": [
      "Adding energy and cycle stats for l28_conv5_stride2 occurence 1\n",
      "Running layer 37: l29-l33_conv5_stride1 which occurs 5 times\n",
      "[INFO] 2025-04-28 20:01:30,953 - pytimeloop.accelergy_interface - Running Accelergy with command: accelergy /home/workspace/output_dir/parsed-processed-input.yaml -o ./output_dir/ -v\n"
     ]
    },
    {
     "name": "stderr",
     "output_type": "stream",
     "text": [
      "INFO:pytimeloop.accelergy_interface:Running Accelergy with command: accelergy /home/workspace/output_dir/parsed-processed-input.yaml -o ./output_dir/ -v\n"
     ]
    },
    {
     "name": "stdout",
     "output_type": "stream",
     "text": [
      "Adding energy and cycle stats for l29-l33_conv5_stride1 occurence 1\n",
      "Adding energy and cycle stats for l29-l33_conv5_stride1 occurence 2\n",
      "Adding energy and cycle stats for l29-l33_conv5_stride1 occurence 3\n",
      "Adding energy and cycle stats for l29-l33_conv5_stride1 occurence 4\n",
      "Adding energy and cycle stats for l29-l33_conv5_stride1 occurence 5\n",
      "==================================================\n",
      "Starting Timeloop with configuration:\n",
      "  - arch: Architecture.Base\n",
      "  - scale: GPUMemoryScale.MEMORY_64MB\n",
      "  - rack: RackSize.RACK_4\n",
      "  - peConfig: PEsConfig.PE_8\n",
      "==================================================\n",
      "Running layer 1: l1_conv1 which occurs 1 times\n",
      "[INFO] 2025-04-28 20:01:47,185 - pytimeloop.accelergy_interface - Running Accelergy with command: accelergy /home/workspace/output_dir/parsed-processed-input.yaml -o ./output_dir/ -v\n"
     ]
    },
    {
     "name": "stderr",
     "output_type": "stream",
     "text": [
      "INFO:pytimeloop.accelergy_interface:Running Accelergy with command: accelergy /home/workspace/output_dir/parsed-processed-input.yaml -o ./output_dir/ -v\n"
     ]
    },
    {
     "name": "stdout",
     "output_type": "stream",
     "text": [
      "Adding energy and cycle stats for l1_conv1 occurence 1\n",
      "Running layer 3: l2_conv2_stride2 which occurs 1 times\n",
      "[INFO] 2025-04-28 20:02:02,980 - pytimeloop.accelergy_interface - Running Accelergy with command: accelergy /home/workspace/output_dir/parsed-processed-input.yaml -o ./output_dir/ -v\n"
     ]
    },
    {
     "name": "stderr",
     "output_type": "stream",
     "text": [
      "INFO:pytimeloop.accelergy_interface:Running Accelergy with command: accelergy /home/workspace/output_dir/parsed-processed-input.yaml -o ./output_dir/ -v\n"
     ]
    },
    {
     "name": "stdout",
     "output_type": "stream",
     "text": [
      "Adding energy and cycle stats for l2_conv2_stride2 occurence 1\n",
      "Running layer 5: l3-l7_conv2_stride1 which occurs 5 times\n",
      "[INFO] 2025-04-28 20:02:18,645 - pytimeloop.accelergy_interface - Running Accelergy with command: accelergy /home/workspace/output_dir/parsed-processed-input.yaml -o ./output_dir/ -v\n"
     ]
    },
    {
     "name": "stderr",
     "output_type": "stream",
     "text": [
      "INFO:pytimeloop.accelergy_interface:Running Accelergy with command: accelergy /home/workspace/output_dir/parsed-processed-input.yaml -o ./output_dir/ -v\n"
     ]
    },
    {
     "name": "stdout",
     "output_type": "stream",
     "text": [
      "Adding energy and cycle stats for l3-l7_conv2_stride1 occurence 1\n",
      "Adding energy and cycle stats for l3-l7_conv2_stride1 occurence 2\n",
      "Adding energy and cycle stats for l3-l7_conv2_stride1 occurence 3\n",
      "Adding energy and cycle stats for l3-l7_conv2_stride1 occurence 4\n",
      "Adding energy and cycle stats for l3-l7_conv2_stride1 occurence 5\n",
      "Running layer 11: l8_conv3_stride2 which occurs 1 times\n",
      "[INFO] 2025-04-28 20:02:36,168 - pytimeloop.accelergy_interface - Running Accelergy with command: accelergy /home/workspace/output_dir/parsed-processed-input.yaml -o ./output_dir/ -v\n"
     ]
    },
    {
     "name": "stderr",
     "output_type": "stream",
     "text": [
      "INFO:pytimeloop.accelergy_interface:Running Accelergy with command: accelergy /home/workspace/output_dir/parsed-processed-input.yaml -o ./output_dir/ -v\n"
     ]
    },
    {
     "name": "stdout",
     "output_type": "stream",
     "text": [
      "Adding energy and cycle stats for l8_conv3_stride2 occurence 1\n",
      "Running layer 13: l9-l15_conv3_stride1 which occurs 7 times\n",
      "[INFO] 2025-04-28 20:06:24,710 - pytimeloop.accelergy_interface - Running Accelergy with command: accelergy /home/workspace/output_dir/parsed-processed-input.yaml -o ./output_dir/ -v\n"
     ]
    },
    {
     "name": "stderr",
     "output_type": "stream",
     "text": [
      "INFO:pytimeloop.accelergy_interface:Running Accelergy with command: accelergy /home/workspace/output_dir/parsed-processed-input.yaml -o ./output_dir/ -v\n"
     ]
    },
    {
     "name": "stdout",
     "output_type": "stream",
     "text": [
      "Adding energy and cycle stats for l9-l15_conv3_stride1 occurence 1\n",
      "Adding energy and cycle stats for l9-l15_conv3_stride1 occurence 2\n",
      "Adding energy and cycle stats for l9-l15_conv3_stride1 occurence 3\n",
      "Adding energy and cycle stats for l9-l15_conv3_stride1 occurence 4\n",
      "Adding energy and cycle stats for l9-l15_conv3_stride1 occurence 5\n",
      "Adding energy and cycle stats for l9-l15_conv3_stride1 occurence 6\n",
      "Adding energy and cycle stats for l9-l15_conv3_stride1 occurence 7\n",
      "Running layer 21: l16_conv4_stride2 which occurs 1 times\n",
      "[INFO] 2025-04-28 20:07:25,618 - pytimeloop.accelergy_interface - Running Accelergy with command: accelergy /home/workspace/output_dir/parsed-processed-input.yaml -o ./output_dir/ -v\n"
     ]
    },
    {
     "name": "stderr",
     "output_type": "stream",
     "text": [
      "INFO:pytimeloop.accelergy_interface:Running Accelergy with command: accelergy /home/workspace/output_dir/parsed-processed-input.yaml -o ./output_dir/ -v\n"
     ]
    },
    {
     "name": "stdout",
     "output_type": "stream",
     "text": [
      "Adding energy and cycle stats for l16_conv4_stride2 occurence 1\n",
      "Running layer 23: l17-l27_conv4_stride1 which occurs 11 times\n",
      "[INFO] 2025-04-28 20:09:37,133 - pytimeloop.accelergy_interface - Running Accelergy with command: accelergy /home/workspace/output_dir/parsed-processed-input.yaml -o ./output_dir/ -v\n"
     ]
    },
    {
     "name": "stderr",
     "output_type": "stream",
     "text": [
      "INFO:pytimeloop.accelergy_interface:Running Accelergy with command: accelergy /home/workspace/output_dir/parsed-processed-input.yaml -o ./output_dir/ -v\n"
     ]
    },
    {
     "name": "stdout",
     "output_type": "stream",
     "text": [
      "Adding energy and cycle stats for l17-l27_conv4_stride1 occurence 1\n",
      "Adding energy and cycle stats for l17-l27_conv4_stride1 occurence 2\n",
      "Adding energy and cycle stats for l17-l27_conv4_stride1 occurence 3\n",
      "Adding energy and cycle stats for l17-l27_conv4_stride1 occurence 4\n",
      "Adding energy and cycle stats for l17-l27_conv4_stride1 occurence 5\n",
      "Adding energy and cycle stats for l17-l27_conv4_stride1 occurence 6\n",
      "Adding energy and cycle stats for l17-l27_conv4_stride1 occurence 7\n",
      "Adding energy and cycle stats for l17-l27_conv4_stride1 occurence 8\n",
      "Adding energy and cycle stats for l17-l27_conv4_stride1 occurence 9\n",
      "Adding energy and cycle stats for l17-l27_conv4_stride1 occurence 10\n",
      "Adding energy and cycle stats for l17-l27_conv4_stride1 occurence 11\n",
      "Running layer 35: l28_conv5_stride2 which occurs 1 times\n",
      "[INFO] 2025-04-28 20:16:07,961 - pytimeloop.accelergy_interface - Running Accelergy with command: accelergy /home/workspace/output_dir/parsed-processed-input.yaml -o ./output_dir/ -v\n"
     ]
    },
    {
     "name": "stderr",
     "output_type": "stream",
     "text": [
      "INFO:pytimeloop.accelergy_interface:Running Accelergy with command: accelergy /home/workspace/output_dir/parsed-processed-input.yaml -o ./output_dir/ -v\n"
     ]
    },
    {
     "name": "stdout",
     "output_type": "stream",
     "text": [
      "Adding energy and cycle stats for l28_conv5_stride2 occurence 1\n",
      "Running layer 37: l29-l33_conv5_stride1 which occurs 5 times\n",
      "[INFO] 2025-04-28 20:22:22,034 - pytimeloop.accelergy_interface - Running Accelergy with command: accelergy /home/workspace/output_dir/parsed-processed-input.yaml -o ./output_dir/ -v\n"
     ]
    },
    {
     "name": "stderr",
     "output_type": "stream",
     "text": [
      "INFO:pytimeloop.accelergy_interface:Running Accelergy with command: accelergy /home/workspace/output_dir/parsed-processed-input.yaml -o ./output_dir/ -v\n"
     ]
    },
    {
     "name": "stdout",
     "output_type": "stream",
     "text": [
      "Adding energy and cycle stats for l29-l33_conv5_stride1 occurence 1\n",
      "Adding energy and cycle stats for l29-l33_conv5_stride1 occurence 2\n",
      "Adding energy and cycle stats for l29-l33_conv5_stride1 occurence 3\n",
      "Adding energy and cycle stats for l29-l33_conv5_stride1 occurence 4\n",
      "Adding energy and cycle stats for l29-l33_conv5_stride1 occurence 5\n",
      "==================================================\n",
      "Starting Timeloop with configuration:\n",
      "  - arch: Architecture.Base\n",
      "  - scale: GPUMemoryScale.MEMORY_1024MB\n",
      "  - rack: RackSize.RACK_4\n",
      "  - peConfig: PEsConfig.PE_2\n",
      "==================================================\n",
      "Running layer 1: l1_conv1 which occurs 1 times\n",
      "[INFO] 2025-04-28 20:23:22,521 - pytimeloop.accelergy_interface - Running Accelergy with command: accelergy /home/workspace/output_dir/parsed-processed-input.yaml -o ./output_dir/ -v\n"
     ]
    },
    {
     "name": "stderr",
     "output_type": "stream",
     "text": [
      "INFO:pytimeloop.accelergy_interface:Running Accelergy with command: accelergy /home/workspace/output_dir/parsed-processed-input.yaml -o ./output_dir/ -v\n"
     ]
    },
    {
     "name": "stdout",
     "output_type": "stream",
     "text": [
      "Adding energy and cycle stats for l1_conv1 occurence 1\n",
      "Running layer 3: l2_conv2_stride2 which occurs 1 times\n",
      "[INFO] 2025-04-28 20:27:24,028 - pytimeloop.accelergy_interface - Running Accelergy with command: accelergy /home/workspace/output_dir/parsed-processed-input.yaml -o ./output_dir/ -v\n"
     ]
    },
    {
     "name": "stderr",
     "output_type": "stream",
     "text": [
      "INFO:pytimeloop.accelergy_interface:Running Accelergy with command: accelergy /home/workspace/output_dir/parsed-processed-input.yaml -o ./output_dir/ -v\n"
     ]
    },
    {
     "name": "stdout",
     "output_type": "stream",
     "text": [
      "Adding energy and cycle stats for l2_conv2_stride2 occurence 1\n",
      "Running layer 5: l3-l7_conv2_stride1 which occurs 5 times\n",
      "[INFO] 2025-04-28 20:28:01,112 - pytimeloop.accelergy_interface - Running Accelergy with command: accelergy /home/workspace/output_dir/parsed-processed-input.yaml -o ./output_dir/ -v\n"
     ]
    },
    {
     "name": "stderr",
     "output_type": "stream",
     "text": [
      "INFO:pytimeloop.accelergy_interface:Running Accelergy with command: accelergy /home/workspace/output_dir/parsed-processed-input.yaml -o ./output_dir/ -v\n"
     ]
    },
    {
     "name": "stdout",
     "output_type": "stream",
     "text": [
      "Adding energy and cycle stats for l3-l7_conv2_stride1 occurence 1\n",
      "Adding energy and cycle stats for l3-l7_conv2_stride1 occurence 2\n",
      "Adding energy and cycle stats for l3-l7_conv2_stride1 occurence 3\n",
      "Adding energy and cycle stats for l3-l7_conv2_stride1 occurence 4\n",
      "Adding energy and cycle stats for l3-l7_conv2_stride1 occurence 5\n",
      "Running layer 11: l8_conv3_stride2 which occurs 1 times\n",
      "[INFO] 2025-04-28 20:28:41,012 - pytimeloop.accelergy_interface - Running Accelergy with command: accelergy /home/workspace/output_dir/parsed-processed-input.yaml -o ./output_dir/ -v\n"
     ]
    },
    {
     "name": "stderr",
     "output_type": "stream",
     "text": [
      "INFO:pytimeloop.accelergy_interface:Running Accelergy with command: accelergy /home/workspace/output_dir/parsed-processed-input.yaml -o ./output_dir/ -v\n"
     ]
    },
    {
     "name": "stdout",
     "output_type": "stream",
     "text": [
      "Adding energy and cycle stats for l8_conv3_stride2 occurence 1\n",
      "Running layer 13: l9-l15_conv3_stride1 which occurs 7 times\n",
      "[INFO] 2025-04-28 20:35:14,302 - pytimeloop.accelergy_interface - Running Accelergy with command: accelergy /home/workspace/output_dir/parsed-processed-input.yaml -o ./output_dir/ -v\n"
     ]
    },
    {
     "name": "stderr",
     "output_type": "stream",
     "text": [
      "INFO:pytimeloop.accelergy_interface:Running Accelergy with command: accelergy /home/workspace/output_dir/parsed-processed-input.yaml -o ./output_dir/ -v\n"
     ]
    },
    {
     "name": "stdout",
     "output_type": "stream",
     "text": [
      "Adding energy and cycle stats for l9-l15_conv3_stride1 occurence 1\n",
      "Adding energy and cycle stats for l9-l15_conv3_stride1 occurence 2\n",
      "Adding energy and cycle stats for l9-l15_conv3_stride1 occurence 3\n",
      "Adding energy and cycle stats for l9-l15_conv3_stride1 occurence 4\n",
      "Adding energy and cycle stats for l9-l15_conv3_stride1 occurence 5\n",
      "Adding energy and cycle stats for l9-l15_conv3_stride1 occurence 6\n",
      "Adding energy and cycle stats for l9-l15_conv3_stride1 occurence 7\n",
      "Running layer 21: l16_conv4_stride2 which occurs 1 times\n",
      "[INFO] 2025-04-28 20:35:35,341 - pytimeloop.accelergy_interface - Running Accelergy with command: accelergy /home/workspace/output_dir/parsed-processed-input.yaml -o ./output_dir/ -v\n"
     ]
    },
    {
     "name": "stderr",
     "output_type": "stream",
     "text": [
      "INFO:pytimeloop.accelergy_interface:Running Accelergy with command: accelergy /home/workspace/output_dir/parsed-processed-input.yaml -o ./output_dir/ -v\n"
     ]
    },
    {
     "name": "stdout",
     "output_type": "stream",
     "text": [
      "Adding energy and cycle stats for l16_conv4_stride2 occurence 1\n",
      "Running layer 23: l17-l27_conv4_stride1 which occurs 11 times\n",
      "[INFO] 2025-04-28 20:36:11,899 - pytimeloop.accelergy_interface - Running Accelergy with command: accelergy /home/workspace/output_dir/parsed-processed-input.yaml -o ./output_dir/ -v\n"
     ]
    },
    {
     "name": "stderr",
     "output_type": "stream",
     "text": [
      "INFO:pytimeloop.accelergy_interface:Running Accelergy with command: accelergy /home/workspace/output_dir/parsed-processed-input.yaml -o ./output_dir/ -v\n"
     ]
    },
    {
     "name": "stdout",
     "output_type": "stream",
     "text": [
      "Adding energy and cycle stats for l17-l27_conv4_stride1 occurence 1\n",
      "Adding energy and cycle stats for l17-l27_conv4_stride1 occurence 2\n",
      "Adding energy and cycle stats for l17-l27_conv4_stride1 occurence 3\n",
      "Adding energy and cycle stats for l17-l27_conv4_stride1 occurence 4\n",
      "Adding energy and cycle stats for l17-l27_conv4_stride1 occurence 5\n",
      "Adding energy and cycle stats for l17-l27_conv4_stride1 occurence 6\n",
      "Adding energy and cycle stats for l17-l27_conv4_stride1 occurence 7\n",
      "Adding energy and cycle stats for l17-l27_conv4_stride1 occurence 8\n",
      "Adding energy and cycle stats for l17-l27_conv4_stride1 occurence 9\n",
      "Adding energy and cycle stats for l17-l27_conv4_stride1 occurence 10\n",
      "Adding energy and cycle stats for l17-l27_conv4_stride1 occurence 11\n",
      "Running layer 35: l28_conv5_stride2 which occurs 1 times\n",
      "[INFO] 2025-04-28 20:36:37,311 - pytimeloop.accelergy_interface - Running Accelergy with command: accelergy /home/workspace/output_dir/parsed-processed-input.yaml -o ./output_dir/ -v\n"
     ]
    },
    {
     "name": "stderr",
     "output_type": "stream",
     "text": [
      "INFO:pytimeloop.accelergy_interface:Running Accelergy with command: accelergy /home/workspace/output_dir/parsed-processed-input.yaml -o ./output_dir/ -v\n"
     ]
    },
    {
     "name": "stdout",
     "output_type": "stream",
     "text": [
      "Adding energy and cycle stats for l28_conv5_stride2 occurence 1\n",
      "Running layer 37: l29-l33_conv5_stride1 which occurs 5 times\n",
      "[INFO] 2025-04-28 20:37:00,240 - pytimeloop.accelergy_interface - Running Accelergy with command: accelergy /home/workspace/output_dir/parsed-processed-input.yaml -o ./output_dir/ -v\n"
     ]
    },
    {
     "name": "stderr",
     "output_type": "stream",
     "text": [
      "INFO:pytimeloop.accelergy_interface:Running Accelergy with command: accelergy /home/workspace/output_dir/parsed-processed-input.yaml -o ./output_dir/ -v\n"
     ]
    },
    {
     "name": "stdout",
     "output_type": "stream",
     "text": [
      "Adding energy and cycle stats for l29-l33_conv5_stride1 occurence 1\n",
      "Adding energy and cycle stats for l29-l33_conv5_stride1 occurence 2\n",
      "Adding energy and cycle stats for l29-l33_conv5_stride1 occurence 3\n",
      "Adding energy and cycle stats for l29-l33_conv5_stride1 occurence 4\n",
      "Adding energy and cycle stats for l29-l33_conv5_stride1 occurence 5\n",
      "==================================================\n",
      "Starting Timeloop with configuration:\n",
      "  - arch: Architecture.Base\n",
      "  - scale: GPUMemoryScale.MEMORY_1024MB\n",
      "  - rack: RackSize.RACK_4\n",
      "  - peConfig: PEsConfig.PE_4\n",
      "==================================================\n",
      "Running layer 1: l1_conv1 which occurs 1 times\n",
      "[INFO] 2025-04-28 20:37:18,977 - pytimeloop.accelergy_interface - Running Accelergy with command: accelergy /home/workspace/output_dir/parsed-processed-input.yaml -o ./output_dir/ -v\n"
     ]
    },
    {
     "name": "stderr",
     "output_type": "stream",
     "text": [
      "INFO:pytimeloop.accelergy_interface:Running Accelergy with command: accelergy /home/workspace/output_dir/parsed-processed-input.yaml -o ./output_dir/ -v\n"
     ]
    },
    {
     "name": "stdout",
     "output_type": "stream",
     "text": [
      "Adding energy and cycle stats for l1_conv1 occurence 1\n",
      "Running layer 3: l2_conv2_stride2 which occurs 1 times\n",
      "[INFO] 2025-04-28 20:37:38,355 - pytimeloop.accelergy_interface - Running Accelergy with command: accelergy /home/workspace/output_dir/parsed-processed-input.yaml -o ./output_dir/ -v\n"
     ]
    },
    {
     "name": "stderr",
     "output_type": "stream",
     "text": [
      "INFO:pytimeloop.accelergy_interface:Running Accelergy with command: accelergy /home/workspace/output_dir/parsed-processed-input.yaml -o ./output_dir/ -v\n"
     ]
    },
    {
     "name": "stdout",
     "output_type": "stream",
     "text": [
      "Adding energy and cycle stats for l2_conv2_stride2 occurence 1\n",
      "Running layer 5: l3-l7_conv2_stride1 which occurs 5 times\n",
      "[INFO] 2025-04-28 20:37:59,916 - pytimeloop.accelergy_interface - Running Accelergy with command: accelergy /home/workspace/output_dir/parsed-processed-input.yaml -o ./output_dir/ -v\n"
     ]
    },
    {
     "name": "stderr",
     "output_type": "stream",
     "text": [
      "INFO:pytimeloop.accelergy_interface:Running Accelergy with command: accelergy /home/workspace/output_dir/parsed-processed-input.yaml -o ./output_dir/ -v\n"
     ]
    },
    {
     "name": "stdout",
     "output_type": "stream",
     "text": [
      "Adding energy and cycle stats for l3-l7_conv2_stride1 occurence 1\n",
      "Adding energy and cycle stats for l3-l7_conv2_stride1 occurence 2\n",
      "Adding energy and cycle stats for l3-l7_conv2_stride1 occurence 3\n",
      "Adding energy and cycle stats for l3-l7_conv2_stride1 occurence 4\n",
      "Adding energy and cycle stats for l3-l7_conv2_stride1 occurence 5\n",
      "Running layer 11: l8_conv3_stride2 which occurs 1 times\n",
      "[INFO] 2025-04-28 20:38:19,943 - pytimeloop.accelergy_interface - Running Accelergy with command: accelergy /home/workspace/output_dir/parsed-processed-input.yaml -o ./output_dir/ -v\n"
     ]
    },
    {
     "name": "stderr",
     "output_type": "stream",
     "text": [
      "INFO:pytimeloop.accelergy_interface:Running Accelergy with command: accelergy /home/workspace/output_dir/parsed-processed-input.yaml -o ./output_dir/ -v\n"
     ]
    },
    {
     "name": "stdout",
     "output_type": "stream",
     "text": [
      "Adding energy and cycle stats for l8_conv3_stride2 occurence 1\n",
      "Running layer 13: l9-l15_conv3_stride1 which occurs 7 times\n",
      "[INFO] 2025-04-28 20:38:38,657 - pytimeloop.accelergy_interface - Running Accelergy with command: accelergy /home/workspace/output_dir/parsed-processed-input.yaml -o ./output_dir/ -v\n"
     ]
    },
    {
     "name": "stderr",
     "output_type": "stream",
     "text": [
      "INFO:pytimeloop.accelergy_interface:Running Accelergy with command: accelergy /home/workspace/output_dir/parsed-processed-input.yaml -o ./output_dir/ -v\n"
     ]
    },
    {
     "name": "stdout",
     "output_type": "stream",
     "text": [
      "Adding energy and cycle stats for l9-l15_conv3_stride1 occurence 1\n",
      "Adding energy and cycle stats for l9-l15_conv3_stride1 occurence 2\n",
      "Adding energy and cycle stats for l9-l15_conv3_stride1 occurence 3\n",
      "Adding energy and cycle stats for l9-l15_conv3_stride1 occurence 4\n",
      "Adding energy and cycle stats for l9-l15_conv3_stride1 occurence 5\n",
      "Adding energy and cycle stats for l9-l15_conv3_stride1 occurence 6\n",
      "Adding energy and cycle stats for l9-l15_conv3_stride1 occurence 7\n",
      "Running layer 21: l16_conv4_stride2 which occurs 1 times\n",
      "[INFO] 2025-04-28 20:38:55,338 - pytimeloop.accelergy_interface - Running Accelergy with command: accelergy /home/workspace/output_dir/parsed-processed-input.yaml -o ./output_dir/ -v\n"
     ]
    },
    {
     "name": "stderr",
     "output_type": "stream",
     "text": [
      "INFO:pytimeloop.accelergy_interface:Running Accelergy with command: accelergy /home/workspace/output_dir/parsed-processed-input.yaml -o ./output_dir/ -v\n"
     ]
    },
    {
     "name": "stdout",
     "output_type": "stream",
     "text": [
      "Adding energy and cycle stats for l16_conv4_stride2 occurence 1\n",
      "Running layer 23: l17-l27_conv4_stride1 which occurs 11 times\n",
      "[INFO] 2025-04-28 20:39:11,148 - pytimeloop.accelergy_interface - Running Accelergy with command: accelergy /home/workspace/output_dir/parsed-processed-input.yaml -o ./output_dir/ -v\n"
     ]
    },
    {
     "name": "stderr",
     "output_type": "stream",
     "text": [
      "INFO:pytimeloop.accelergy_interface:Running Accelergy with command: accelergy /home/workspace/output_dir/parsed-processed-input.yaml -o ./output_dir/ -v\n"
     ]
    },
    {
     "name": "stdout",
     "output_type": "stream",
     "text": [
      "Adding energy and cycle stats for l17-l27_conv4_stride1 occurence 1\n",
      "Adding energy and cycle stats for l17-l27_conv4_stride1 occurence 2\n",
      "Adding energy and cycle stats for l17-l27_conv4_stride1 occurence 3\n",
      "Adding energy and cycle stats for l17-l27_conv4_stride1 occurence 4\n",
      "Adding energy and cycle stats for l17-l27_conv4_stride1 occurence 5\n",
      "Adding energy and cycle stats for l17-l27_conv4_stride1 occurence 6\n",
      "Adding energy and cycle stats for l17-l27_conv4_stride1 occurence 7\n",
      "Adding energy and cycle stats for l17-l27_conv4_stride1 occurence 8\n",
      "Adding energy and cycle stats for l17-l27_conv4_stride1 occurence 9\n",
      "Adding energy and cycle stats for l17-l27_conv4_stride1 occurence 10\n",
      "Adding energy and cycle stats for l17-l27_conv4_stride1 occurence 11\n",
      "Running layer 35: l28_conv5_stride2 which occurs 1 times\n",
      "[INFO] 2025-04-28 20:39:29,084 - pytimeloop.accelergy_interface - Running Accelergy with command: accelergy /home/workspace/output_dir/parsed-processed-input.yaml -o ./output_dir/ -v\n"
     ]
    },
    {
     "name": "stderr",
     "output_type": "stream",
     "text": [
      "INFO:pytimeloop.accelergy_interface:Running Accelergy with command: accelergy /home/workspace/output_dir/parsed-processed-input.yaml -o ./output_dir/ -v\n"
     ]
    },
    {
     "name": "stdout",
     "output_type": "stream",
     "text": [
      "Adding energy and cycle stats for l28_conv5_stride2 occurence 1\n",
      "Running layer 37: l29-l33_conv5_stride1 which occurs 5 times\n",
      "[INFO] 2025-04-28 20:39:43,921 - pytimeloop.accelergy_interface - Running Accelergy with command: accelergy /home/workspace/output_dir/parsed-processed-input.yaml -o ./output_dir/ -v\n"
     ]
    },
    {
     "name": "stderr",
     "output_type": "stream",
     "text": [
      "INFO:pytimeloop.accelergy_interface:Running Accelergy with command: accelergy /home/workspace/output_dir/parsed-processed-input.yaml -o ./output_dir/ -v\n"
     ]
    },
    {
     "name": "stdout",
     "output_type": "stream",
     "text": [
      "Adding energy and cycle stats for l29-l33_conv5_stride1 occurence 1\n",
      "Adding energy and cycle stats for l29-l33_conv5_stride1 occurence 2\n",
      "Adding energy and cycle stats for l29-l33_conv5_stride1 occurence 3\n",
      "Adding energy and cycle stats for l29-l33_conv5_stride1 occurence 4\n",
      "Adding energy and cycle stats for l29-l33_conv5_stride1 occurence 5\n",
      "==================================================\n",
      "Starting Timeloop with configuration:\n",
      "  - arch: Architecture.Base\n",
      "  - scale: GPUMemoryScale.MEMORY_1024MB\n",
      "  - rack: RackSize.RACK_4\n",
      "  - peConfig: PEsConfig.PE_8\n",
      "==================================================\n",
      "Running layer 1: l1_conv1 which occurs 1 times\n",
      "[INFO] 2025-04-28 20:39:59,083 - pytimeloop.accelergy_interface - Running Accelergy with command: accelergy /home/workspace/output_dir/parsed-processed-input.yaml -o ./output_dir/ -v\n"
     ]
    },
    {
     "name": "stderr",
     "output_type": "stream",
     "text": [
      "INFO:pytimeloop.accelergy_interface:Running Accelergy with command: accelergy /home/workspace/output_dir/parsed-processed-input.yaml -o ./output_dir/ -v\n"
     ]
    },
    {
     "name": "stdout",
     "output_type": "stream",
     "text": [
      "Adding energy and cycle stats for l1_conv1 occurence 1\n",
      "Running layer 3: l2_conv2_stride2 which occurs 1 times\n",
      "[INFO] 2025-04-28 20:40:17,989 - pytimeloop.accelergy_interface - Running Accelergy with command: accelergy /home/workspace/output_dir/parsed-processed-input.yaml -o ./output_dir/ -v\n"
     ]
    },
    {
     "name": "stderr",
     "output_type": "stream",
     "text": [
      "INFO:pytimeloop.accelergy_interface:Running Accelergy with command: accelergy /home/workspace/output_dir/parsed-processed-input.yaml -o ./output_dir/ -v\n"
     ]
    },
    {
     "name": "stdout",
     "output_type": "stream",
     "text": [
      "Adding energy and cycle stats for l2_conv2_stride2 occurence 1\n",
      "Running layer 5: l3-l7_conv2_stride1 which occurs 5 times\n",
      "[INFO] 2025-04-28 20:40:36,495 - pytimeloop.accelergy_interface - Running Accelergy with command: accelergy /home/workspace/output_dir/parsed-processed-input.yaml -o ./output_dir/ -v\n"
     ]
    },
    {
     "name": "stderr",
     "output_type": "stream",
     "text": [
      "INFO:pytimeloop.accelergy_interface:Running Accelergy with command: accelergy /home/workspace/output_dir/parsed-processed-input.yaml -o ./output_dir/ -v\n"
     ]
    },
    {
     "name": "stdout",
     "output_type": "stream",
     "text": [
      "Adding energy and cycle stats for l3-l7_conv2_stride1 occurence 1\n",
      "Adding energy and cycle stats for l3-l7_conv2_stride1 occurence 2\n",
      "Adding energy and cycle stats for l3-l7_conv2_stride1 occurence 3\n",
      "Adding energy and cycle stats for l3-l7_conv2_stride1 occurence 4\n",
      "Adding energy and cycle stats for l3-l7_conv2_stride1 occurence 5\n",
      "Running layer 11: l8_conv3_stride2 which occurs 1 times\n",
      "[INFO] 2025-04-28 20:40:53,859 - pytimeloop.accelergy_interface - Running Accelergy with command: accelergy /home/workspace/output_dir/parsed-processed-input.yaml -o ./output_dir/ -v\n"
     ]
    },
    {
     "name": "stderr",
     "output_type": "stream",
     "text": [
      "INFO:pytimeloop.accelergy_interface:Running Accelergy with command: accelergy /home/workspace/output_dir/parsed-processed-input.yaml -o ./output_dir/ -v\n"
     ]
    },
    {
     "name": "stdout",
     "output_type": "stream",
     "text": [
      "Adding energy and cycle stats for l8_conv3_stride2 occurence 1\n",
      "Running layer 13: l9-l15_conv3_stride1 which occurs 7 times\n",
      "[INFO] 2025-04-28 20:41:11,694 - pytimeloop.accelergy_interface - Running Accelergy with command: accelergy /home/workspace/output_dir/parsed-processed-input.yaml -o ./output_dir/ -v\n"
     ]
    },
    {
     "name": "stderr",
     "output_type": "stream",
     "text": [
      "INFO:pytimeloop.accelergy_interface:Running Accelergy with command: accelergy /home/workspace/output_dir/parsed-processed-input.yaml -o ./output_dir/ -v\n"
     ]
    },
    {
     "name": "stdout",
     "output_type": "stream",
     "text": [
      "Adding energy and cycle stats for l9-l15_conv3_stride1 occurence 1\n",
      "Adding energy and cycle stats for l9-l15_conv3_stride1 occurence 2\n",
      "Adding energy and cycle stats for l9-l15_conv3_stride1 occurence 3\n",
      "Adding energy and cycle stats for l9-l15_conv3_stride1 occurence 4\n",
      "Adding energy and cycle stats for l9-l15_conv3_stride1 occurence 5\n",
      "Adding energy and cycle stats for l9-l15_conv3_stride1 occurence 6\n",
      "Adding energy and cycle stats for l9-l15_conv3_stride1 occurence 7\n",
      "Running layer 21: l16_conv4_stride2 which occurs 1 times\n",
      "[INFO] 2025-04-28 20:41:27,409 - pytimeloop.accelergy_interface - Running Accelergy with command: accelergy /home/workspace/output_dir/parsed-processed-input.yaml -o ./output_dir/ -v\n"
     ]
    },
    {
     "name": "stderr",
     "output_type": "stream",
     "text": [
      "INFO:pytimeloop.accelergy_interface:Running Accelergy with command: accelergy /home/workspace/output_dir/parsed-processed-input.yaml -o ./output_dir/ -v\n"
     ]
    },
    {
     "name": "stdout",
     "output_type": "stream",
     "text": [
      "Adding energy and cycle stats for l16_conv4_stride2 occurence 1\n",
      "Running layer 23: l17-l27_conv4_stride1 which occurs 11 times\n",
      "[INFO] 2025-04-28 20:41:42,819 - pytimeloop.accelergy_interface - Running Accelergy with command: accelergy /home/workspace/output_dir/parsed-processed-input.yaml -o ./output_dir/ -v\n"
     ]
    },
    {
     "name": "stderr",
     "output_type": "stream",
     "text": [
      "INFO:pytimeloop.accelergy_interface:Running Accelergy with command: accelergy /home/workspace/output_dir/parsed-processed-input.yaml -o ./output_dir/ -v\n"
     ]
    },
    {
     "name": "stdout",
     "output_type": "stream",
     "text": [
      "Adding energy and cycle stats for l17-l27_conv4_stride1 occurence 1\n",
      "Adding energy and cycle stats for l17-l27_conv4_stride1 occurence 2\n",
      "Adding energy and cycle stats for l17-l27_conv4_stride1 occurence 3\n",
      "Adding energy and cycle stats for l17-l27_conv4_stride1 occurence 4\n",
      "Adding energy and cycle stats for l17-l27_conv4_stride1 occurence 5\n",
      "Adding energy and cycle stats for l17-l27_conv4_stride1 occurence 6\n",
      "Adding energy and cycle stats for l17-l27_conv4_stride1 occurence 7\n",
      "Adding energy and cycle stats for l17-l27_conv4_stride1 occurence 8\n",
      "Adding energy and cycle stats for l17-l27_conv4_stride1 occurence 9\n",
      "Adding energy and cycle stats for l17-l27_conv4_stride1 occurence 10\n",
      "Adding energy and cycle stats for l17-l27_conv4_stride1 occurence 11\n",
      "Running layer 35: l28_conv5_stride2 which occurs 1 times\n",
      "[INFO] 2025-04-28 20:42:03,686 - pytimeloop.accelergy_interface - Running Accelergy with command: accelergy /home/workspace/output_dir/parsed-processed-input.yaml -o ./output_dir/ -v\n"
     ]
    },
    {
     "name": "stderr",
     "output_type": "stream",
     "text": [
      "INFO:pytimeloop.accelergy_interface:Running Accelergy with command: accelergy /home/workspace/output_dir/parsed-processed-input.yaml -o ./output_dir/ -v\n"
     ]
    },
    {
     "name": "stdout",
     "output_type": "stream",
     "text": [
      "Adding energy and cycle stats for l28_conv5_stride2 occurence 1\n",
      "Running layer 37: l29-l33_conv5_stride1 which occurs 5 times\n",
      "[INFO] 2025-04-28 20:42:19,449 - pytimeloop.accelergy_interface - Running Accelergy with command: accelergy /home/workspace/output_dir/parsed-processed-input.yaml -o ./output_dir/ -v\n"
     ]
    },
    {
     "name": "stderr",
     "output_type": "stream",
     "text": [
      "INFO:pytimeloop.accelergy_interface:Running Accelergy with command: accelergy /home/workspace/output_dir/parsed-processed-input.yaml -o ./output_dir/ -v\n"
     ]
    },
    {
     "name": "stdout",
     "output_type": "stream",
     "text": [
      "Adding energy and cycle stats for l29-l33_conv5_stride1 occurence 1\n",
      "Adding energy and cycle stats for l29-l33_conv5_stride1 occurence 2\n",
      "Adding energy and cycle stats for l29-l33_conv5_stride1 occurence 3\n",
      "Adding energy and cycle stats for l29-l33_conv5_stride1 occurence 4\n",
      "Adding energy and cycle stats for l29-l33_conv5_stride1 occurence 5\n",
      "==================================================\n",
      "Starting Timeloop with configuration:\n",
      "  - arch: Architecture.Base\n",
      "  - scale: GPUMemoryScale.MEMORY_4MB\n",
      "  - rack: RackSize.RACK_8\n",
      "  - peConfig: PEsConfig.PE_2\n",
      "==================================================\n",
      "Running layer 1: l1_conv1 which occurs 1 times\n",
      "[INFO] 2025-04-28 20:42:35,730 - pytimeloop.accelergy_interface - Running Accelergy with command: accelergy /home/workspace/output_dir/parsed-processed-input.yaml -o ./output_dir/ -v\n"
     ]
    },
    {
     "name": "stderr",
     "output_type": "stream",
     "text": [
      "INFO:pytimeloop.accelergy_interface:Running Accelergy with command: accelergy /home/workspace/output_dir/parsed-processed-input.yaml -o ./output_dir/ -v\n"
     ]
    },
    {
     "name": "stdout",
     "output_type": "stream",
     "text": [
      "Adding energy and cycle stats for l1_conv1 occurence 1\n",
      "Running layer 3: l2_conv2_stride2 which occurs 1 times\n",
      "[INFO] 2025-04-28 20:42:50,308 - pytimeloop.accelergy_interface - Running Accelergy with command: accelergy /home/workspace/output_dir/parsed-processed-input.yaml -o ./output_dir/ -v\n"
     ]
    },
    {
     "name": "stderr",
     "output_type": "stream",
     "text": [
      "INFO:pytimeloop.accelergy_interface:Running Accelergy with command: accelergy /home/workspace/output_dir/parsed-processed-input.yaml -o ./output_dir/ -v\n"
     ]
    },
    {
     "name": "stdout",
     "output_type": "stream",
     "text": [
      "Adding energy and cycle stats for l2_conv2_stride2 occurence 1\n",
      "Running layer 5: l3-l7_conv2_stride1 which occurs 5 times\n",
      "[INFO] 2025-04-28 20:43:08,884 - pytimeloop.accelergy_interface - Running Accelergy with command: accelergy /home/workspace/output_dir/parsed-processed-input.yaml -o ./output_dir/ -v\n"
     ]
    },
    {
     "name": "stderr",
     "output_type": "stream",
     "text": [
      "INFO:pytimeloop.accelergy_interface:Running Accelergy with command: accelergy /home/workspace/output_dir/parsed-processed-input.yaml -o ./output_dir/ -v\n"
     ]
    },
    {
     "name": "stdout",
     "output_type": "stream",
     "text": [
      "Adding energy and cycle stats for l3-l7_conv2_stride1 occurence 1\n",
      "Adding energy and cycle stats for l3-l7_conv2_stride1 occurence 2\n",
      "Adding energy and cycle stats for l3-l7_conv2_stride1 occurence 3\n",
      "Adding energy and cycle stats for l3-l7_conv2_stride1 occurence 4\n",
      "Adding energy and cycle stats for l3-l7_conv2_stride1 occurence 5\n",
      "Running layer 11: l8_conv3_stride2 which occurs 1 times\n",
      "[INFO] 2025-04-28 20:43:23,526 - pytimeloop.accelergy_interface - Running Accelergy with command: accelergy /home/workspace/output_dir/parsed-processed-input.yaml -o ./output_dir/ -v\n"
     ]
    },
    {
     "name": "stderr",
     "output_type": "stream",
     "text": [
      "INFO:pytimeloop.accelergy_interface:Running Accelergy with command: accelergy /home/workspace/output_dir/parsed-processed-input.yaml -o ./output_dir/ -v\n"
     ]
    },
    {
     "name": "stdout",
     "output_type": "stream",
     "text": [
      "Adding energy and cycle stats for l8_conv3_stride2 occurence 1\n",
      "Running layer 13: l9-l15_conv3_stride1 which occurs 7 times\n",
      "[INFO] 2025-04-28 20:43:37,829 - pytimeloop.accelergy_interface - Running Accelergy with command: accelergy /home/workspace/output_dir/parsed-processed-input.yaml -o ./output_dir/ -v\n"
     ]
    },
    {
     "name": "stderr",
     "output_type": "stream",
     "text": [
      "INFO:pytimeloop.accelergy_interface:Running Accelergy with command: accelergy /home/workspace/output_dir/parsed-processed-input.yaml -o ./output_dir/ -v\n"
     ]
    },
    {
     "name": "stdout",
     "output_type": "stream",
     "text": [
      "Adding energy and cycle stats for l9-l15_conv3_stride1 occurence 1\n",
      "Adding energy and cycle stats for l9-l15_conv3_stride1 occurence 2\n",
      "Adding energy and cycle stats for l9-l15_conv3_stride1 occurence 3\n",
      "Adding energy and cycle stats for l9-l15_conv3_stride1 occurence 4\n",
      "Adding energy and cycle stats for l9-l15_conv3_stride1 occurence 5\n",
      "Adding energy and cycle stats for l9-l15_conv3_stride1 occurence 6\n",
      "Adding energy and cycle stats for l9-l15_conv3_stride1 occurence 7\n",
      "Running layer 21: l16_conv4_stride2 which occurs 1 times\n",
      "[INFO] 2025-04-28 20:43:52,044 - pytimeloop.accelergy_interface - Running Accelergy with command: accelergy /home/workspace/output_dir/parsed-processed-input.yaml -o ./output_dir/ -v\n"
     ]
    },
    {
     "name": "stderr",
     "output_type": "stream",
     "text": [
      "INFO:pytimeloop.accelergy_interface:Running Accelergy with command: accelergy /home/workspace/output_dir/parsed-processed-input.yaml -o ./output_dir/ -v\n"
     ]
    },
    {
     "name": "stdout",
     "output_type": "stream",
     "text": [
      "Adding energy and cycle stats for l16_conv4_stride2 occurence 1\n",
      "Running layer 23: l17-l27_conv4_stride1 which occurs 11 times\n",
      "[INFO] 2025-04-28 20:44:10,078 - pytimeloop.accelergy_interface - Running Accelergy with command: accelergy /home/workspace/output_dir/parsed-processed-input.yaml -o ./output_dir/ -v\n"
     ]
    },
    {
     "name": "stderr",
     "output_type": "stream",
     "text": [
      "INFO:pytimeloop.accelergy_interface:Running Accelergy with command: accelergy /home/workspace/output_dir/parsed-processed-input.yaml -o ./output_dir/ -v\n"
     ]
    },
    {
     "name": "stdout",
     "output_type": "stream",
     "text": [
      "Adding energy and cycle stats for l17-l27_conv4_stride1 occurence 1\n",
      "Adding energy and cycle stats for l17-l27_conv4_stride1 occurence 2\n",
      "Adding energy and cycle stats for l17-l27_conv4_stride1 occurence 3\n",
      "Adding energy and cycle stats for l17-l27_conv4_stride1 occurence 4\n",
      "Adding energy and cycle stats for l17-l27_conv4_stride1 occurence 5\n",
      "Adding energy and cycle stats for l17-l27_conv4_stride1 occurence 6\n",
      "Adding energy and cycle stats for l17-l27_conv4_stride1 occurence 7\n",
      "Adding energy and cycle stats for l17-l27_conv4_stride1 occurence 8\n",
      "Adding energy and cycle stats for l17-l27_conv4_stride1 occurence 9\n",
      "Adding energy and cycle stats for l17-l27_conv4_stride1 occurence 10\n",
      "Adding energy and cycle stats for l17-l27_conv4_stride1 occurence 11\n",
      "Running layer 35: l28_conv5_stride2 which occurs 1 times\n",
      "[INFO] 2025-04-28 20:44:27,422 - pytimeloop.accelergy_interface - Running Accelergy with command: accelergy /home/workspace/output_dir/parsed-processed-input.yaml -o ./output_dir/ -v\n"
     ]
    },
    {
     "name": "stderr",
     "output_type": "stream",
     "text": [
      "INFO:pytimeloop.accelergy_interface:Running Accelergy with command: accelergy /home/workspace/output_dir/parsed-processed-input.yaml -o ./output_dir/ -v\n"
     ]
    },
    {
     "name": "stdout",
     "output_type": "stream",
     "text": [
      "Adding energy and cycle stats for l28_conv5_stride2 occurence 1\n",
      "Running layer 37: l29-l33_conv5_stride1 which occurs 5 times\n",
      "[INFO] 2025-04-28 20:44:41,424 - pytimeloop.accelergy_interface - Running Accelergy with command: accelergy /home/workspace/output_dir/parsed-processed-input.yaml -o ./output_dir/ -v\n"
     ]
    },
    {
     "name": "stderr",
     "output_type": "stream",
     "text": [
      "INFO:pytimeloop.accelergy_interface:Running Accelergy with command: accelergy /home/workspace/output_dir/parsed-processed-input.yaml -o ./output_dir/ -v\n"
     ]
    },
    {
     "name": "stdout",
     "output_type": "stream",
     "text": [
      "Adding energy and cycle stats for l29-l33_conv5_stride1 occurence 1\n",
      "Adding energy and cycle stats for l29-l33_conv5_stride1 occurence 2\n",
      "Adding energy and cycle stats for l29-l33_conv5_stride1 occurence 3\n",
      "Adding energy and cycle stats for l29-l33_conv5_stride1 occurence 4\n",
      "Adding energy and cycle stats for l29-l33_conv5_stride1 occurence 5\n",
      "==================================================\n",
      "Starting Timeloop with configuration:\n",
      "  - arch: Architecture.Base\n",
      "  - scale: GPUMemoryScale.MEMORY_4MB\n",
      "  - rack: RackSize.RACK_8\n",
      "  - peConfig: PEsConfig.PE_4\n",
      "==================================================\n",
      "Running layer 1: l1_conv1 which occurs 1 times\n",
      "[INFO] 2025-04-28 20:44:57,037 - pytimeloop.accelergy_interface - Running Accelergy with command: accelergy /home/workspace/output_dir/parsed-processed-input.yaml -o ./output_dir/ -v\n"
     ]
    },
    {
     "name": "stderr",
     "output_type": "stream",
     "text": [
      "INFO:pytimeloop.accelergy_interface:Running Accelergy with command: accelergy /home/workspace/output_dir/parsed-processed-input.yaml -o ./output_dir/ -v\n"
     ]
    },
    {
     "name": "stdout",
     "output_type": "stream",
     "text": [
      "Adding energy and cycle stats for l1_conv1 occurence 1\n",
      "Running layer 3: l2_conv2_stride2 which occurs 1 times\n",
      "[INFO] 2025-04-28 20:45:10,449 - pytimeloop.accelergy_interface - Running Accelergy with command: accelergy /home/workspace/output_dir/parsed-processed-input.yaml -o ./output_dir/ -v\n"
     ]
    },
    {
     "name": "stderr",
     "output_type": "stream",
     "text": [
      "INFO:pytimeloop.accelergy_interface:Running Accelergy with command: accelergy /home/workspace/output_dir/parsed-processed-input.yaml -o ./output_dir/ -v\n"
     ]
    },
    {
     "name": "stdout",
     "output_type": "stream",
     "text": [
      "Adding energy and cycle stats for l2_conv2_stride2 occurence 1\n",
      "Running layer 5: l3-l7_conv2_stride1 which occurs 5 times\n",
      "[INFO] 2025-04-28 20:45:27,017 - pytimeloop.accelergy_interface - Running Accelergy with command: accelergy /home/workspace/output_dir/parsed-processed-input.yaml -o ./output_dir/ -v\n"
     ]
    },
    {
     "name": "stderr",
     "output_type": "stream",
     "text": [
      "INFO:pytimeloop.accelergy_interface:Running Accelergy with command: accelergy /home/workspace/output_dir/parsed-processed-input.yaml -o ./output_dir/ -v\n"
     ]
    },
    {
     "name": "stdout",
     "output_type": "stream",
     "text": [
      "Adding energy and cycle stats for l3-l7_conv2_stride1 occurence 1\n",
      "Adding energy and cycle stats for l3-l7_conv2_stride1 occurence 2\n",
      "Adding energy and cycle stats for l3-l7_conv2_stride1 occurence 3\n",
      "Adding energy and cycle stats for l3-l7_conv2_stride1 occurence 4\n",
      "Adding energy and cycle stats for l3-l7_conv2_stride1 occurence 5\n",
      "Running layer 11: l8_conv3_stride2 which occurs 1 times\n",
      "[INFO] 2025-04-28 20:45:41,753 - pytimeloop.accelergy_interface - Running Accelergy with command: accelergy /home/workspace/output_dir/parsed-processed-input.yaml -o ./output_dir/ -v\n"
     ]
    },
    {
     "name": "stderr",
     "output_type": "stream",
     "text": [
      "INFO:pytimeloop.accelergy_interface:Running Accelergy with command: accelergy /home/workspace/output_dir/parsed-processed-input.yaml -o ./output_dir/ -v\n"
     ]
    },
    {
     "name": "stdout",
     "output_type": "stream",
     "text": [
      "Adding energy and cycle stats for l8_conv3_stride2 occurence 1\n",
      "Running layer 13: l9-l15_conv3_stride1 which occurs 7 times\n",
      "[INFO] 2025-04-28 20:45:55,637 - pytimeloop.accelergy_interface - Running Accelergy with command: accelergy /home/workspace/output_dir/parsed-processed-input.yaml -o ./output_dir/ -v\n"
     ]
    },
    {
     "name": "stderr",
     "output_type": "stream",
     "text": [
      "INFO:pytimeloop.accelergy_interface:Running Accelergy with command: accelergy /home/workspace/output_dir/parsed-processed-input.yaml -o ./output_dir/ -v\n"
     ]
    },
    {
     "name": "stdout",
     "output_type": "stream",
     "text": [
      "Adding energy and cycle stats for l9-l15_conv3_stride1 occurence 1\n",
      "Adding energy and cycle stats for l9-l15_conv3_stride1 occurence 2\n",
      "Adding energy and cycle stats for l9-l15_conv3_stride1 occurence 3\n",
      "Adding energy and cycle stats for l9-l15_conv3_stride1 occurence 4\n",
      "Adding energy and cycle stats for l9-l15_conv3_stride1 occurence 5\n",
      "Adding energy and cycle stats for l9-l15_conv3_stride1 occurence 6\n",
      "Adding energy and cycle stats for l9-l15_conv3_stride1 occurence 7\n",
      "Running layer 21: l16_conv4_stride2 which occurs 1 times\n",
      "[INFO] 2025-04-28 20:46:15,094 - pytimeloop.accelergy_interface - Running Accelergy with command: accelergy /home/workspace/output_dir/parsed-processed-input.yaml -o ./output_dir/ -v\n"
     ]
    },
    {
     "name": "stderr",
     "output_type": "stream",
     "text": [
      "INFO:pytimeloop.accelergy_interface:Running Accelergy with command: accelergy /home/workspace/output_dir/parsed-processed-input.yaml -o ./output_dir/ -v\n"
     ]
    },
    {
     "name": "stdout",
     "output_type": "stream",
     "text": [
      "Adding energy and cycle stats for l16_conv4_stride2 occurence 1\n",
      "Running layer 23: l17-l27_conv4_stride1 which occurs 11 times\n",
      "[INFO] 2025-04-28 20:46:32,823 - pytimeloop.accelergy_interface - Running Accelergy with command: accelergy /home/workspace/output_dir/parsed-processed-input.yaml -o ./output_dir/ -v\n"
     ]
    },
    {
     "name": "stderr",
     "output_type": "stream",
     "text": [
      "INFO:pytimeloop.accelergy_interface:Running Accelergy with command: accelergy /home/workspace/output_dir/parsed-processed-input.yaml -o ./output_dir/ -v\n"
     ]
    },
    {
     "name": "stdout",
     "output_type": "stream",
     "text": [
      "Adding energy and cycle stats for l17-l27_conv4_stride1 occurence 1\n",
      "Adding energy and cycle stats for l17-l27_conv4_stride1 occurence 2\n",
      "Adding energy and cycle stats for l17-l27_conv4_stride1 occurence 3\n",
      "Adding energy and cycle stats for l17-l27_conv4_stride1 occurence 4\n",
      "Adding energy and cycle stats for l17-l27_conv4_stride1 occurence 5\n",
      "Adding energy and cycle stats for l17-l27_conv4_stride1 occurence 6\n",
      "Adding energy and cycle stats for l17-l27_conv4_stride1 occurence 7\n",
      "Adding energy and cycle stats for l17-l27_conv4_stride1 occurence 8\n",
      "Adding energy and cycle stats for l17-l27_conv4_stride1 occurence 9\n",
      "Adding energy and cycle stats for l17-l27_conv4_stride1 occurence 10\n",
      "Adding energy and cycle stats for l17-l27_conv4_stride1 occurence 11\n",
      "Running layer 35: l28_conv5_stride2 which occurs 1 times\n",
      "[INFO] 2025-04-28 20:46:46,930 - pytimeloop.accelergy_interface - Running Accelergy with command: accelergy /home/workspace/output_dir/parsed-processed-input.yaml -o ./output_dir/ -v\n"
     ]
    },
    {
     "name": "stderr",
     "output_type": "stream",
     "text": [
      "INFO:pytimeloop.accelergy_interface:Running Accelergy with command: accelergy /home/workspace/output_dir/parsed-processed-input.yaml -o ./output_dir/ -v\n"
     ]
    },
    {
     "name": "stdout",
     "output_type": "stream",
     "text": [
      "Adding energy and cycle stats for l28_conv5_stride2 occurence 1\n",
      "Running layer 37: l29-l33_conv5_stride1 which occurs 5 times\n",
      "[INFO] 2025-04-28 20:47:01,095 - pytimeloop.accelergy_interface - Running Accelergy with command: accelergy /home/workspace/output_dir/parsed-processed-input.yaml -o ./output_dir/ -v\n"
     ]
    },
    {
     "name": "stderr",
     "output_type": "stream",
     "text": [
      "INFO:pytimeloop.accelergy_interface:Running Accelergy with command: accelergy /home/workspace/output_dir/parsed-processed-input.yaml -o ./output_dir/ -v\n"
     ]
    },
    {
     "name": "stdout",
     "output_type": "stream",
     "text": [
      "Adding energy and cycle stats for l29-l33_conv5_stride1 occurence 1\n",
      "Adding energy and cycle stats for l29-l33_conv5_stride1 occurence 2\n",
      "Adding energy and cycle stats for l29-l33_conv5_stride1 occurence 3\n",
      "Adding energy and cycle stats for l29-l33_conv5_stride1 occurence 4\n",
      "Adding energy and cycle stats for l29-l33_conv5_stride1 occurence 5\n",
      "==================================================\n",
      "Starting Timeloop with configuration:\n",
      "  - arch: Architecture.Base\n",
      "  - scale: GPUMemoryScale.MEMORY_4MB\n",
      "  - rack: RackSize.RACK_8\n",
      "  - peConfig: PEsConfig.PE_8\n",
      "==================================================\n",
      "Running layer 1: l1_conv1 which occurs 1 times\n",
      "[INFO] 2025-04-28 20:47:15,835 - pytimeloop.accelergy_interface - Running Accelergy with command: accelergy /home/workspace/output_dir/parsed-processed-input.yaml -o ./output_dir/ -v\n"
     ]
    },
    {
     "name": "stderr",
     "output_type": "stream",
     "text": [
      "INFO:pytimeloop.accelergy_interface:Running Accelergy with command: accelergy /home/workspace/output_dir/parsed-processed-input.yaml -o ./output_dir/ -v\n"
     ]
    },
    {
     "name": "stdout",
     "output_type": "stream",
     "text": [
      "Adding energy and cycle stats for l1_conv1 occurence 1\n",
      "Running layer 3: l2_conv2_stride2 which occurs 1 times\n",
      "[INFO] 2025-04-28 20:47:34,025 - pytimeloop.accelergy_interface - Running Accelergy with command: accelergy /home/workspace/output_dir/parsed-processed-input.yaml -o ./output_dir/ -v\n"
     ]
    },
    {
     "name": "stderr",
     "output_type": "stream",
     "text": [
      "INFO:pytimeloop.accelergy_interface:Running Accelergy with command: accelergy /home/workspace/output_dir/parsed-processed-input.yaml -o ./output_dir/ -v\n"
     ]
    },
    {
     "name": "stdout",
     "output_type": "stream",
     "text": [
      "Adding energy and cycle stats for l2_conv2_stride2 occurence 1\n",
      "Running layer 5: l3-l7_conv2_stride1 which occurs 5 times\n",
      "[INFO] 2025-04-28 20:47:54,135 - pytimeloop.accelergy_interface - Running Accelergy with command: accelergy /home/workspace/output_dir/parsed-processed-input.yaml -o ./output_dir/ -v\n"
     ]
    },
    {
     "name": "stderr",
     "output_type": "stream",
     "text": [
      "INFO:pytimeloop.accelergy_interface:Running Accelergy with command: accelergy /home/workspace/output_dir/parsed-processed-input.yaml -o ./output_dir/ -v\n"
     ]
    },
    {
     "name": "stdout",
     "output_type": "stream",
     "text": [
      "Adding energy and cycle stats for l3-l7_conv2_stride1 occurence 1\n",
      "Adding energy and cycle stats for l3-l7_conv2_stride1 occurence 2\n",
      "Adding energy and cycle stats for l3-l7_conv2_stride1 occurence 3\n",
      "Adding energy and cycle stats for l3-l7_conv2_stride1 occurence 4\n",
      "Adding energy and cycle stats for l3-l7_conv2_stride1 occurence 5\n",
      "Running layer 11: l8_conv3_stride2 which occurs 1 times\n",
      "[INFO] 2025-04-28 20:48:13,061 - pytimeloop.accelergy_interface - Running Accelergy with command: accelergy /home/workspace/output_dir/parsed-processed-input.yaml -o ./output_dir/ -v\n"
     ]
    },
    {
     "name": "stderr",
     "output_type": "stream",
     "text": [
      "INFO:pytimeloop.accelergy_interface:Running Accelergy with command: accelergy /home/workspace/output_dir/parsed-processed-input.yaml -o ./output_dir/ -v\n"
     ]
    },
    {
     "name": "stdout",
     "output_type": "stream",
     "text": [
      "Adding energy and cycle stats for l8_conv3_stride2 occurence 1\n",
      "Running layer 13: l9-l15_conv3_stride1 which occurs 7 times\n",
      "[INFO] 2025-04-28 20:48:32,013 - pytimeloop.accelergy_interface - Running Accelergy with command: accelergy /home/workspace/output_dir/parsed-processed-input.yaml -o ./output_dir/ -v\n"
     ]
    },
    {
     "name": "stderr",
     "output_type": "stream",
     "text": [
      "INFO:pytimeloop.accelergy_interface:Running Accelergy with command: accelergy /home/workspace/output_dir/parsed-processed-input.yaml -o ./output_dir/ -v\n"
     ]
    },
    {
     "name": "stdout",
     "output_type": "stream",
     "text": [
      "Adding energy and cycle stats for l9-l15_conv3_stride1 occurence 1\n",
      "Adding energy and cycle stats for l9-l15_conv3_stride1 occurence 2\n",
      "Adding energy and cycle stats for l9-l15_conv3_stride1 occurence 3\n",
      "Adding energy and cycle stats for l9-l15_conv3_stride1 occurence 4\n",
      "Adding energy and cycle stats for l9-l15_conv3_stride1 occurence 5\n",
      "Adding energy and cycle stats for l9-l15_conv3_stride1 occurence 6\n",
      "Adding energy and cycle stats for l9-l15_conv3_stride1 occurence 7\n",
      "Running layer 21: l16_conv4_stride2 which occurs 1 times\n",
      "[INFO] 2025-04-28 20:48:53,135 - pytimeloop.accelergy_interface - Running Accelergy with command: accelergy /home/workspace/output_dir/parsed-processed-input.yaml -o ./output_dir/ -v\n"
     ]
    },
    {
     "name": "stderr",
     "output_type": "stream",
     "text": [
      "INFO:pytimeloop.accelergy_interface:Running Accelergy with command: accelergy /home/workspace/output_dir/parsed-processed-input.yaml -o ./output_dir/ -v\n"
     ]
    },
    {
     "name": "stdout",
     "output_type": "stream",
     "text": [
      "Adding energy and cycle stats for l16_conv4_stride2 occurence 1\n",
      "Running layer 23: l17-l27_conv4_stride1 which occurs 11 times\n",
      "[INFO] 2025-04-28 20:49:19,313 - pytimeloop.accelergy_interface - Running Accelergy with command: accelergy /home/workspace/output_dir/parsed-processed-input.yaml -o ./output_dir/ -v\n"
     ]
    },
    {
     "name": "stderr",
     "output_type": "stream",
     "text": [
      "INFO:pytimeloop.accelergy_interface:Running Accelergy with command: accelergy /home/workspace/output_dir/parsed-processed-input.yaml -o ./output_dir/ -v\n"
     ]
    },
    {
     "name": "stdout",
     "output_type": "stream",
     "text": [
      "Adding energy and cycle stats for l17-l27_conv4_stride1 occurence 1\n",
      "Adding energy and cycle stats for l17-l27_conv4_stride1 occurence 2\n",
      "Adding energy and cycle stats for l17-l27_conv4_stride1 occurence 3\n",
      "Adding energy and cycle stats for l17-l27_conv4_stride1 occurence 4\n",
      "Adding energy and cycle stats for l17-l27_conv4_stride1 occurence 5\n",
      "Adding energy and cycle stats for l17-l27_conv4_stride1 occurence 6\n",
      "Adding energy and cycle stats for l17-l27_conv4_stride1 occurence 7\n",
      "Adding energy and cycle stats for l17-l27_conv4_stride1 occurence 8\n",
      "Adding energy and cycle stats for l17-l27_conv4_stride1 occurence 9\n",
      "Adding energy and cycle stats for l17-l27_conv4_stride1 occurence 10\n",
      "Adding energy and cycle stats for l17-l27_conv4_stride1 occurence 11\n",
      "Running layer 35: l28_conv5_stride2 which occurs 1 times\n",
      "[INFO] 2025-04-28 20:49:35,442 - pytimeloop.accelergy_interface - Running Accelergy with command: accelergy /home/workspace/output_dir/parsed-processed-input.yaml -o ./output_dir/ -v\n"
     ]
    },
    {
     "name": "stderr",
     "output_type": "stream",
     "text": [
      "INFO:pytimeloop.accelergy_interface:Running Accelergy with command: accelergy /home/workspace/output_dir/parsed-processed-input.yaml -o ./output_dir/ -v\n"
     ]
    },
    {
     "name": "stdout",
     "output_type": "stream",
     "text": [
      "Adding energy and cycle stats for l28_conv5_stride2 occurence 1\n",
      "Running layer 37: l29-l33_conv5_stride1 which occurs 5 times\n",
      "[INFO] 2025-04-28 20:49:50,455 - pytimeloop.accelergy_interface - Running Accelergy with command: accelergy /home/workspace/output_dir/parsed-processed-input.yaml -o ./output_dir/ -v\n"
     ]
    },
    {
     "name": "stderr",
     "output_type": "stream",
     "text": [
      "INFO:pytimeloop.accelergy_interface:Running Accelergy with command: accelergy /home/workspace/output_dir/parsed-processed-input.yaml -o ./output_dir/ -v\n"
     ]
    },
    {
     "name": "stdout",
     "output_type": "stream",
     "text": [
      "Adding energy and cycle stats for l29-l33_conv5_stride1 occurence 1\n",
      "Adding energy and cycle stats for l29-l33_conv5_stride1 occurence 2\n",
      "Adding energy and cycle stats for l29-l33_conv5_stride1 occurence 3\n",
      "Adding energy and cycle stats for l29-l33_conv5_stride1 occurence 4\n",
      "Adding energy and cycle stats for l29-l33_conv5_stride1 occurence 5\n",
      "==================================================\n",
      "Starting Timeloop with configuration:\n",
      "  - arch: Architecture.Base\n",
      "  - scale: GPUMemoryScale.MEMORY_16MB\n",
      "  - rack: RackSize.RACK_8\n",
      "  - peConfig: PEsConfig.PE_2\n",
      "==================================================\n",
      "Running layer 1: l1_conv1 which occurs 1 times\n",
      "[INFO] 2025-04-28 20:50:06,394 - pytimeloop.accelergy_interface - Running Accelergy with command: accelergy /home/workspace/output_dir/parsed-processed-input.yaml -o ./output_dir/ -v\n"
     ]
    },
    {
     "name": "stderr",
     "output_type": "stream",
     "text": [
      "INFO:pytimeloop.accelergy_interface:Running Accelergy with command: accelergy /home/workspace/output_dir/parsed-processed-input.yaml -o ./output_dir/ -v\n"
     ]
    },
    {
     "name": "stdout",
     "output_type": "stream",
     "text": [
      "Adding energy and cycle stats for l1_conv1 occurence 1\n",
      "Running layer 3: l2_conv2_stride2 which occurs 1 times\n",
      "[INFO] 2025-04-28 20:50:26,733 - pytimeloop.accelergy_interface - Running Accelergy with command: accelergy /home/workspace/output_dir/parsed-processed-input.yaml -o ./output_dir/ -v\n"
     ]
    },
    {
     "name": "stderr",
     "output_type": "stream",
     "text": [
      "INFO:pytimeloop.accelergy_interface:Running Accelergy with command: accelergy /home/workspace/output_dir/parsed-processed-input.yaml -o ./output_dir/ -v\n"
     ]
    },
    {
     "name": "stdout",
     "output_type": "stream",
     "text": [
      "Adding energy and cycle stats for l2_conv2_stride2 occurence 1\n",
      "Running layer 5: l3-l7_conv2_stride1 which occurs 5 times\n",
      "[INFO] 2025-04-28 20:50:44,112 - pytimeloop.accelergy_interface - Running Accelergy with command: accelergy /home/workspace/output_dir/parsed-processed-input.yaml -o ./output_dir/ -v\n"
     ]
    },
    {
     "name": "stderr",
     "output_type": "stream",
     "text": [
      "INFO:pytimeloop.accelergy_interface:Running Accelergy with command: accelergy /home/workspace/output_dir/parsed-processed-input.yaml -o ./output_dir/ -v\n"
     ]
    },
    {
     "name": "stdout",
     "output_type": "stream",
     "text": [
      "Adding energy and cycle stats for l3-l7_conv2_stride1 occurence 1\n",
      "Adding energy and cycle stats for l3-l7_conv2_stride1 occurence 2\n",
      "Adding energy and cycle stats for l3-l7_conv2_stride1 occurence 3\n",
      "Adding energy and cycle stats for l3-l7_conv2_stride1 occurence 4\n",
      "Adding energy and cycle stats for l3-l7_conv2_stride1 occurence 5\n",
      "Running layer 11: l8_conv3_stride2 which occurs 1 times\n",
      "[INFO] 2025-04-28 20:50:59,891 - pytimeloop.accelergy_interface - Running Accelergy with command: accelergy /home/workspace/output_dir/parsed-processed-input.yaml -o ./output_dir/ -v\n"
     ]
    },
    {
     "name": "stderr",
     "output_type": "stream",
     "text": [
      "INFO:pytimeloop.accelergy_interface:Running Accelergy with command: accelergy /home/workspace/output_dir/parsed-processed-input.yaml -o ./output_dir/ -v\n"
     ]
    },
    {
     "name": "stdout",
     "output_type": "stream",
     "text": [
      "Adding energy and cycle stats for l8_conv3_stride2 occurence 1\n",
      "Running layer 13: l9-l15_conv3_stride1 which occurs 7 times\n",
      "[INFO] 2025-04-28 20:51:16,652 - pytimeloop.accelergy_interface - Running Accelergy with command: accelergy /home/workspace/output_dir/parsed-processed-input.yaml -o ./output_dir/ -v\n"
     ]
    },
    {
     "name": "stderr",
     "output_type": "stream",
     "text": [
      "INFO:pytimeloop.accelergy_interface:Running Accelergy with command: accelergy /home/workspace/output_dir/parsed-processed-input.yaml -o ./output_dir/ -v\n"
     ]
    },
    {
     "name": "stdout",
     "output_type": "stream",
     "text": [
      "Adding energy and cycle stats for l9-l15_conv3_stride1 occurence 1\n",
      "Adding energy and cycle stats for l9-l15_conv3_stride1 occurence 2\n",
      "Adding energy and cycle stats for l9-l15_conv3_stride1 occurence 3\n",
      "Adding energy and cycle stats for l9-l15_conv3_stride1 occurence 4\n",
      "Adding energy and cycle stats for l9-l15_conv3_stride1 occurence 5\n",
      "Adding energy and cycle stats for l9-l15_conv3_stride1 occurence 6\n",
      "Adding energy and cycle stats for l9-l15_conv3_stride1 occurence 7\n",
      "Running layer 21: l16_conv4_stride2 which occurs 1 times\n",
      "[INFO] 2025-04-28 20:51:33,703 - pytimeloop.accelergy_interface - Running Accelergy with command: accelergy /home/workspace/output_dir/parsed-processed-input.yaml -o ./output_dir/ -v\n"
     ]
    },
    {
     "name": "stderr",
     "output_type": "stream",
     "text": [
      "INFO:pytimeloop.accelergy_interface:Running Accelergy with command: accelergy /home/workspace/output_dir/parsed-processed-input.yaml -o ./output_dir/ -v\n"
     ]
    },
    {
     "name": "stdout",
     "output_type": "stream",
     "text": [
      "Adding energy and cycle stats for l16_conv4_stride2 occurence 1\n",
      "Running layer 23: l17-l27_conv4_stride1 which occurs 11 times\n",
      "[INFO] 2025-04-28 20:51:50,392 - pytimeloop.accelergy_interface - Running Accelergy with command: accelergy /home/workspace/output_dir/parsed-processed-input.yaml -o ./output_dir/ -v\n"
     ]
    },
    {
     "name": "stderr",
     "output_type": "stream",
     "text": [
      "INFO:pytimeloop.accelergy_interface:Running Accelergy with command: accelergy /home/workspace/output_dir/parsed-processed-input.yaml -o ./output_dir/ -v\n"
     ]
    },
    {
     "name": "stdout",
     "output_type": "stream",
     "text": [
      "Adding energy and cycle stats for l17-l27_conv4_stride1 occurence 1\n",
      "Adding energy and cycle stats for l17-l27_conv4_stride1 occurence 2\n",
      "Adding energy and cycle stats for l17-l27_conv4_stride1 occurence 3\n",
      "Adding energy and cycle stats for l17-l27_conv4_stride1 occurence 4\n",
      "Adding energy and cycle stats for l17-l27_conv4_stride1 occurence 5\n",
      "Adding energy and cycle stats for l17-l27_conv4_stride1 occurence 6\n",
      "Adding energy and cycle stats for l17-l27_conv4_stride1 occurence 7\n",
      "Adding energy and cycle stats for l17-l27_conv4_stride1 occurence 8\n",
      "Adding energy and cycle stats for l17-l27_conv4_stride1 occurence 9\n",
      "Adding energy and cycle stats for l17-l27_conv4_stride1 occurence 10\n",
      "Adding energy and cycle stats for l17-l27_conv4_stride1 occurence 11\n",
      "Running layer 35: l28_conv5_stride2 which occurs 1 times\n",
      "[INFO] 2025-04-28 20:52:07,067 - pytimeloop.accelergy_interface - Running Accelergy with command: accelergy /home/workspace/output_dir/parsed-processed-input.yaml -o ./output_dir/ -v\n"
     ]
    },
    {
     "name": "stderr",
     "output_type": "stream",
     "text": [
      "INFO:pytimeloop.accelergy_interface:Running Accelergy with command: accelergy /home/workspace/output_dir/parsed-processed-input.yaml -o ./output_dir/ -v\n"
     ]
    },
    {
     "name": "stdout",
     "output_type": "stream",
     "text": [
      "Adding energy and cycle stats for l28_conv5_stride2 occurence 1\n",
      "Running layer 37: l29-l33_conv5_stride1 which occurs 5 times\n",
      "[INFO] 2025-04-28 20:52:24,316 - pytimeloop.accelergy_interface - Running Accelergy with command: accelergy /home/workspace/output_dir/parsed-processed-input.yaml -o ./output_dir/ -v\n"
     ]
    },
    {
     "name": "stderr",
     "output_type": "stream",
     "text": [
      "INFO:pytimeloop.accelergy_interface:Running Accelergy with command: accelergy /home/workspace/output_dir/parsed-processed-input.yaml -o ./output_dir/ -v\n"
     ]
    },
    {
     "name": "stdout",
     "output_type": "stream",
     "text": [
      "Adding energy and cycle stats for l29-l33_conv5_stride1 occurence 1\n",
      "Adding energy and cycle stats for l29-l33_conv5_stride1 occurence 2\n",
      "Adding energy and cycle stats for l29-l33_conv5_stride1 occurence 3\n",
      "Adding energy and cycle stats for l29-l33_conv5_stride1 occurence 4\n",
      "Adding energy and cycle stats for l29-l33_conv5_stride1 occurence 5\n",
      "==================================================\n",
      "Starting Timeloop with configuration:\n",
      "  - arch: Architecture.Base\n",
      "  - scale: GPUMemoryScale.MEMORY_16MB\n",
      "  - rack: RackSize.RACK_8\n",
      "  - peConfig: PEsConfig.PE_4\n",
      "==================================================\n",
      "Running layer 1: l1_conv1 which occurs 1 times\n",
      "[INFO] 2025-04-28 20:52:40,798 - pytimeloop.accelergy_interface - Running Accelergy with command: accelergy /home/workspace/output_dir/parsed-processed-input.yaml -o ./output_dir/ -v\n"
     ]
    },
    {
     "name": "stderr",
     "output_type": "stream",
     "text": [
      "INFO:pytimeloop.accelergy_interface:Running Accelergy with command: accelergy /home/workspace/output_dir/parsed-processed-input.yaml -o ./output_dir/ -v\n"
     ]
    },
    {
     "name": "stdout",
     "output_type": "stream",
     "text": [
      "Adding energy and cycle stats for l1_conv1 occurence 1\n",
      "Running layer 3: l2_conv2_stride2 which occurs 1 times\n",
      "[INFO] 2025-04-28 20:52:56,692 - pytimeloop.accelergy_interface - Running Accelergy with command: accelergy /home/workspace/output_dir/parsed-processed-input.yaml -o ./output_dir/ -v\n"
     ]
    },
    {
     "name": "stderr",
     "output_type": "stream",
     "text": [
      "INFO:pytimeloop.accelergy_interface:Running Accelergy with command: accelergy /home/workspace/output_dir/parsed-processed-input.yaml -o ./output_dir/ -v\n"
     ]
    },
    {
     "name": "stdout",
     "output_type": "stream",
     "text": [
      "Adding energy and cycle stats for l2_conv2_stride2 occurence 1\n",
      "Running layer 5: l3-l7_conv2_stride1 which occurs 5 times\n",
      "[INFO] 2025-04-28 20:53:12,237 - pytimeloop.accelergy_interface - Running Accelergy with command: accelergy /home/workspace/output_dir/parsed-processed-input.yaml -o ./output_dir/ -v\n"
     ]
    },
    {
     "name": "stderr",
     "output_type": "stream",
     "text": [
      "INFO:pytimeloop.accelergy_interface:Running Accelergy with command: accelergy /home/workspace/output_dir/parsed-processed-input.yaml -o ./output_dir/ -v\n"
     ]
    },
    {
     "name": "stdout",
     "output_type": "stream",
     "text": [
      "Adding energy and cycle stats for l3-l7_conv2_stride1 occurence 1\n",
      "Adding energy and cycle stats for l3-l7_conv2_stride1 occurence 2\n",
      "Adding energy and cycle stats for l3-l7_conv2_stride1 occurence 3\n",
      "Adding energy and cycle stats for l3-l7_conv2_stride1 occurence 4\n",
      "Adding energy and cycle stats for l3-l7_conv2_stride1 occurence 5\n",
      "Running layer 11: l8_conv3_stride2 which occurs 1 times\n",
      "[INFO] 2025-04-28 20:53:27,662 - pytimeloop.accelergy_interface - Running Accelergy with command: accelergy /home/workspace/output_dir/parsed-processed-input.yaml -o ./output_dir/ -v\n"
     ]
    },
    {
     "name": "stderr",
     "output_type": "stream",
     "text": [
      "INFO:pytimeloop.accelergy_interface:Running Accelergy with command: accelergy /home/workspace/output_dir/parsed-processed-input.yaml -o ./output_dir/ -v\n"
     ]
    },
    {
     "name": "stdout",
     "output_type": "stream",
     "text": [
      "Adding energy and cycle stats for l8_conv3_stride2 occurence 1\n",
      "Running layer 13: l9-l15_conv3_stride1 which occurs 7 times\n",
      "[INFO] 2025-04-28 20:53:44,775 - pytimeloop.accelergy_interface - Running Accelergy with command: accelergy /home/workspace/output_dir/parsed-processed-input.yaml -o ./output_dir/ -v\n"
     ]
    },
    {
     "name": "stderr",
     "output_type": "stream",
     "text": [
      "INFO:pytimeloop.accelergy_interface:Running Accelergy with command: accelergy /home/workspace/output_dir/parsed-processed-input.yaml -o ./output_dir/ -v\n"
     ]
    },
    {
     "name": "stdout",
     "output_type": "stream",
     "text": [
      "Adding energy and cycle stats for l9-l15_conv3_stride1 occurence 1\n",
      "Adding energy and cycle stats for l9-l15_conv3_stride1 occurence 2\n",
      "Adding energy and cycle stats for l9-l15_conv3_stride1 occurence 3\n",
      "Adding energy and cycle stats for l9-l15_conv3_stride1 occurence 4\n",
      "Adding energy and cycle stats for l9-l15_conv3_stride1 occurence 5\n",
      "Adding energy and cycle stats for l9-l15_conv3_stride1 occurence 6\n",
      "Adding energy and cycle stats for l9-l15_conv3_stride1 occurence 7\n",
      "Running layer 21: l16_conv4_stride2 which occurs 1 times\n",
      "[INFO] 2025-04-28 20:54:04,071 - pytimeloop.accelergy_interface - Running Accelergy with command: accelergy /home/workspace/output_dir/parsed-processed-input.yaml -o ./output_dir/ -v\n"
     ]
    },
    {
     "name": "stderr",
     "output_type": "stream",
     "text": [
      "INFO:pytimeloop.accelergy_interface:Running Accelergy with command: accelergy /home/workspace/output_dir/parsed-processed-input.yaml -o ./output_dir/ -v\n"
     ]
    },
    {
     "name": "stdout",
     "output_type": "stream",
     "text": [
      "Adding energy and cycle stats for l16_conv4_stride2 occurence 1\n",
      "Running layer 23: l17-l27_conv4_stride1 which occurs 11 times\n",
      "[INFO] 2025-04-28 20:54:19,504 - pytimeloop.accelergy_interface - Running Accelergy with command: accelergy /home/workspace/output_dir/parsed-processed-input.yaml -o ./output_dir/ -v\n"
     ]
    },
    {
     "name": "stderr",
     "output_type": "stream",
     "text": [
      "INFO:pytimeloop.accelergy_interface:Running Accelergy with command: accelergy /home/workspace/output_dir/parsed-processed-input.yaml -o ./output_dir/ -v\n"
     ]
    },
    {
     "name": "stdout",
     "output_type": "stream",
     "text": [
      "Adding energy and cycle stats for l17-l27_conv4_stride1 occurence 1\n",
      "Adding energy and cycle stats for l17-l27_conv4_stride1 occurence 2\n",
      "Adding energy and cycle stats for l17-l27_conv4_stride1 occurence 3\n",
      "Adding energy and cycle stats for l17-l27_conv4_stride1 occurence 4\n",
      "Adding energy and cycle stats for l17-l27_conv4_stride1 occurence 5\n",
      "Adding energy and cycle stats for l17-l27_conv4_stride1 occurence 6\n",
      "Adding energy and cycle stats for l17-l27_conv4_stride1 occurence 7\n",
      "Adding energy and cycle stats for l17-l27_conv4_stride1 occurence 8\n",
      "Adding energy and cycle stats for l17-l27_conv4_stride1 occurence 9\n",
      "Adding energy and cycle stats for l17-l27_conv4_stride1 occurence 10\n",
      "Adding energy and cycle stats for l17-l27_conv4_stride1 occurence 11\n",
      "Running layer 35: l28_conv5_stride2 which occurs 1 times\n",
      "[INFO] 2025-04-28 20:54:37,949 - pytimeloop.accelergy_interface - Running Accelergy with command: accelergy /home/workspace/output_dir/parsed-processed-input.yaml -o ./output_dir/ -v\n"
     ]
    },
    {
     "name": "stderr",
     "output_type": "stream",
     "text": [
      "INFO:pytimeloop.accelergy_interface:Running Accelergy with command: accelergy /home/workspace/output_dir/parsed-processed-input.yaml -o ./output_dir/ -v\n"
     ]
    },
    {
     "name": "stdout",
     "output_type": "stream",
     "text": [
      "Adding energy and cycle stats for l28_conv5_stride2 occurence 1\n",
      "Running layer 37: l29-l33_conv5_stride1 which occurs 5 times\n",
      "[INFO] 2025-04-28 20:54:55,056 - pytimeloop.accelergy_interface - Running Accelergy with command: accelergy /home/workspace/output_dir/parsed-processed-input.yaml -o ./output_dir/ -v\n"
     ]
    },
    {
     "name": "stderr",
     "output_type": "stream",
     "text": [
      "INFO:pytimeloop.accelergy_interface:Running Accelergy with command: accelergy /home/workspace/output_dir/parsed-processed-input.yaml -o ./output_dir/ -v\n"
     ]
    },
    {
     "name": "stdout",
     "output_type": "stream",
     "text": [
      "Adding energy and cycle stats for l29-l33_conv5_stride1 occurence 1\n",
      "Adding energy and cycle stats for l29-l33_conv5_stride1 occurence 2\n",
      "Adding energy and cycle stats for l29-l33_conv5_stride1 occurence 3\n",
      "Adding energy and cycle stats for l29-l33_conv5_stride1 occurence 4\n",
      "Adding energy and cycle stats for l29-l33_conv5_stride1 occurence 5\n",
      "==================================================\n",
      "Starting Timeloop with configuration:\n",
      "  - arch: Architecture.Base\n",
      "  - scale: GPUMemoryScale.MEMORY_16MB\n",
      "  - rack: RackSize.RACK_8\n",
      "  - peConfig: PEsConfig.PE_8\n",
      "==================================================\n",
      "Running layer 1: l1_conv1 which occurs 1 times\n",
      "[INFO] 2025-04-28 20:55:11,024 - pytimeloop.accelergy_interface - Running Accelergy with command: accelergy /home/workspace/output_dir/parsed-processed-input.yaml -o ./output_dir/ -v\n"
     ]
    },
    {
     "name": "stderr",
     "output_type": "stream",
     "text": [
      "INFO:pytimeloop.accelergy_interface:Running Accelergy with command: accelergy /home/workspace/output_dir/parsed-processed-input.yaml -o ./output_dir/ -v\n"
     ]
    },
    {
     "name": "stdout",
     "output_type": "stream",
     "text": [
      "Adding energy and cycle stats for l1_conv1 occurence 1\n",
      "Running layer 3: l2_conv2_stride2 which occurs 1 times\n",
      "[INFO] 2025-04-28 20:55:29,504 - pytimeloop.accelergy_interface - Running Accelergy with command: accelergy /home/workspace/output_dir/parsed-processed-input.yaml -o ./output_dir/ -v\n"
     ]
    },
    {
     "name": "stderr",
     "output_type": "stream",
     "text": [
      "INFO:pytimeloop.accelergy_interface:Running Accelergy with command: accelergy /home/workspace/output_dir/parsed-processed-input.yaml -o ./output_dir/ -v\n"
     ]
    },
    {
     "name": "stdout",
     "output_type": "stream",
     "text": [
      "Adding energy and cycle stats for l2_conv2_stride2 occurence 1\n",
      "Running layer 5: l3-l7_conv2_stride1 which occurs 5 times\n",
      "[INFO] 2025-04-28 20:55:51,192 - pytimeloop.accelergy_interface - Running Accelergy with command: accelergy /home/workspace/output_dir/parsed-processed-input.yaml -o ./output_dir/ -v\n"
     ]
    },
    {
     "name": "stderr",
     "output_type": "stream",
     "text": [
      "INFO:pytimeloop.accelergy_interface:Running Accelergy with command: accelergy /home/workspace/output_dir/parsed-processed-input.yaml -o ./output_dir/ -v\n"
     ]
    },
    {
     "name": "stdout",
     "output_type": "stream",
     "text": [
      "Adding energy and cycle stats for l3-l7_conv2_stride1 occurence 1\n",
      "Adding energy and cycle stats for l3-l7_conv2_stride1 occurence 2\n",
      "Adding energy and cycle stats for l3-l7_conv2_stride1 occurence 3\n",
      "Adding energy and cycle stats for l3-l7_conv2_stride1 occurence 4\n",
      "Adding energy and cycle stats for l3-l7_conv2_stride1 occurence 5\n",
      "Running layer 11: l8_conv3_stride2 which occurs 1 times\n",
      "[INFO] 2025-04-28 20:56:08,947 - pytimeloop.accelergy_interface - Running Accelergy with command: accelergy /home/workspace/output_dir/parsed-processed-input.yaml -o ./output_dir/ -v\n"
     ]
    },
    {
     "name": "stderr",
     "output_type": "stream",
     "text": [
      "INFO:pytimeloop.accelergy_interface:Running Accelergy with command: accelergy /home/workspace/output_dir/parsed-processed-input.yaml -o ./output_dir/ -v\n"
     ]
    },
    {
     "name": "stdout",
     "output_type": "stream",
     "text": [
      "Adding energy and cycle stats for l8_conv3_stride2 occurence 1\n",
      "Running layer 13: l9-l15_conv3_stride1 which occurs 7 times\n",
      "[INFO] 2025-04-28 20:56:47,229 - pytimeloop.accelergy_interface - Running Accelergy with command: accelergy /home/workspace/output_dir/parsed-processed-input.yaml -o ./output_dir/ -v\n"
     ]
    },
    {
     "name": "stderr",
     "output_type": "stream",
     "text": [
      "INFO:pytimeloop.accelergy_interface:Running Accelergy with command: accelergy /home/workspace/output_dir/parsed-processed-input.yaml -o ./output_dir/ -v\n"
     ]
    },
    {
     "name": "stdout",
     "output_type": "stream",
     "text": [
      "Adding energy and cycle stats for l9-l15_conv3_stride1 occurence 1\n",
      "Adding energy and cycle stats for l9-l15_conv3_stride1 occurence 2\n",
      "Adding energy and cycle stats for l9-l15_conv3_stride1 occurence 3\n",
      "Adding energy and cycle stats for l9-l15_conv3_stride1 occurence 4\n",
      "Adding energy and cycle stats for l9-l15_conv3_stride1 occurence 5\n",
      "Adding energy and cycle stats for l9-l15_conv3_stride1 occurence 6\n",
      "Adding energy and cycle stats for l9-l15_conv3_stride1 occurence 7\n",
      "Running layer 21: l16_conv4_stride2 which occurs 1 times\n",
      "[INFO] 2025-04-28 20:57:56,012 - pytimeloop.accelergy_interface - Running Accelergy with command: accelergy /home/workspace/output_dir/parsed-processed-input.yaml -o ./output_dir/ -v\n"
     ]
    },
    {
     "name": "stderr",
     "output_type": "stream",
     "text": [
      "INFO:pytimeloop.accelergy_interface:Running Accelergy with command: accelergy /home/workspace/output_dir/parsed-processed-input.yaml -o ./output_dir/ -v\n"
     ]
    },
    {
     "name": "stdout",
     "output_type": "stream",
     "text": [
      "Adding energy and cycle stats for l16_conv4_stride2 occurence 1\n",
      "Running layer 23: l17-l27_conv4_stride1 which occurs 11 times\n",
      "[INFO] 2025-04-28 20:58:29,439 - pytimeloop.accelergy_interface - Running Accelergy with command: accelergy /home/workspace/output_dir/parsed-processed-input.yaml -o ./output_dir/ -v\n"
     ]
    },
    {
     "name": "stderr",
     "output_type": "stream",
     "text": [
      "INFO:pytimeloop.accelergy_interface:Running Accelergy with command: accelergy /home/workspace/output_dir/parsed-processed-input.yaml -o ./output_dir/ -v\n"
     ]
    },
    {
     "name": "stdout",
     "output_type": "stream",
     "text": [
      "Adding energy and cycle stats for l17-l27_conv4_stride1 occurence 1\n",
      "Adding energy and cycle stats for l17-l27_conv4_stride1 occurence 2\n",
      "Adding energy and cycle stats for l17-l27_conv4_stride1 occurence 3\n",
      "Adding energy and cycle stats for l17-l27_conv4_stride1 occurence 4\n",
      "Adding energy and cycle stats for l17-l27_conv4_stride1 occurence 5\n",
      "Adding energy and cycle stats for l17-l27_conv4_stride1 occurence 6\n",
      "Adding energy and cycle stats for l17-l27_conv4_stride1 occurence 7\n",
      "Adding energy and cycle stats for l17-l27_conv4_stride1 occurence 8\n",
      "Adding energy and cycle stats for l17-l27_conv4_stride1 occurence 9\n",
      "Adding energy and cycle stats for l17-l27_conv4_stride1 occurence 10\n",
      "Adding energy and cycle stats for l17-l27_conv4_stride1 occurence 11\n",
      "Running layer 35: l28_conv5_stride2 which occurs 1 times\n",
      "[INFO] 2025-04-28 20:59:28,600 - pytimeloop.accelergy_interface - Running Accelergy with command: accelergy /home/workspace/output_dir/parsed-processed-input.yaml -o ./output_dir/ -v\n"
     ]
    },
    {
     "name": "stderr",
     "output_type": "stream",
     "text": [
      "INFO:pytimeloop.accelergy_interface:Running Accelergy with command: accelergy /home/workspace/output_dir/parsed-processed-input.yaml -o ./output_dir/ -v\n"
     ]
    },
    {
     "name": "stdout",
     "output_type": "stream",
     "text": [
      "Adding energy and cycle stats for l28_conv5_stride2 occurence 1\n",
      "Running layer 37: l29-l33_conv5_stride1 which occurs 5 times\n",
      "[INFO] 2025-04-28 21:01:21,239 - pytimeloop.accelergy_interface - Running Accelergy with command: accelergy /home/workspace/output_dir/parsed-processed-input.yaml -o ./output_dir/ -v\n"
     ]
    },
    {
     "name": "stderr",
     "output_type": "stream",
     "text": [
      "INFO:pytimeloop.accelergy_interface:Running Accelergy with command: accelergy /home/workspace/output_dir/parsed-processed-input.yaml -o ./output_dir/ -v\n"
     ]
    },
    {
     "name": "stdout",
     "output_type": "stream",
     "text": [
      "Adding energy and cycle stats for l29-l33_conv5_stride1 occurence 1\n",
      "Adding energy and cycle stats for l29-l33_conv5_stride1 occurence 2\n",
      "Adding energy and cycle stats for l29-l33_conv5_stride1 occurence 3\n",
      "Adding energy and cycle stats for l29-l33_conv5_stride1 occurence 4\n",
      "Adding energy and cycle stats for l29-l33_conv5_stride1 occurence 5\n",
      "==================================================\n",
      "Starting Timeloop with configuration:\n",
      "  - arch: Architecture.Base\n",
      "  - scale: GPUMemoryScale.MEMORY_64MB\n",
      "  - rack: RackSize.RACK_8\n",
      "  - peConfig: PEsConfig.PE_2\n",
      "==================================================\n",
      "Running layer 1: l1_conv1 which occurs 1 times\n",
      "[INFO] 2025-04-28 21:03:43,844 - pytimeloop.accelergy_interface - Running Accelergy with command: accelergy /home/workspace/output_dir/parsed-processed-input.yaml -o ./output_dir/ -v\n"
     ]
    },
    {
     "name": "stderr",
     "output_type": "stream",
     "text": [
      "INFO:pytimeloop.accelergy_interface:Running Accelergy with command: accelergy /home/workspace/output_dir/parsed-processed-input.yaml -o ./output_dir/ -v\n"
     ]
    },
    {
     "name": "stdout",
     "output_type": "stream",
     "text": [
      "Adding energy and cycle stats for l1_conv1 occurence 1\n",
      "Running layer 3: l2_conv2_stride2 which occurs 1 times\n",
      "[INFO] 2025-04-28 21:05:15,015 - pytimeloop.accelergy_interface - Running Accelergy with command: accelergy /home/workspace/output_dir/parsed-processed-input.yaml -o ./output_dir/ -v\n"
     ]
    },
    {
     "name": "stderr",
     "output_type": "stream",
     "text": [
      "INFO:pytimeloop.accelergy_interface:Running Accelergy with command: accelergy /home/workspace/output_dir/parsed-processed-input.yaml -o ./output_dir/ -v\n"
     ]
    },
    {
     "name": "stdout",
     "output_type": "stream",
     "text": [
      "Adding energy and cycle stats for l2_conv2_stride2 occurence 1\n",
      "Running layer 5: l3-l7_conv2_stride1 which occurs 5 times\n",
      "[INFO] 2025-04-28 21:07:53,235 - pytimeloop.accelergy_interface - Running Accelergy with command: accelergy /home/workspace/output_dir/parsed-processed-input.yaml -o ./output_dir/ -v\n"
     ]
    },
    {
     "name": "stderr",
     "output_type": "stream",
     "text": [
      "INFO:pytimeloop.accelergy_interface:Running Accelergy with command: accelergy /home/workspace/output_dir/parsed-processed-input.yaml -o ./output_dir/ -v\n"
     ]
    },
    {
     "name": "stdout",
     "output_type": "stream",
     "text": [
      "Adding energy and cycle stats for l3-l7_conv2_stride1 occurence 1\n",
      "Adding energy and cycle stats for l3-l7_conv2_stride1 occurence 2\n",
      "Adding energy and cycle stats for l3-l7_conv2_stride1 occurence 3\n",
      "Adding energy and cycle stats for l3-l7_conv2_stride1 occurence 4\n",
      "Adding energy and cycle stats for l3-l7_conv2_stride1 occurence 5\n",
      "Running layer 11: l8_conv3_stride2 which occurs 1 times\n",
      "[INFO] 2025-04-28 22:07:13,800 - pytimeloop.accelergy_interface - Running Accelergy with command: accelergy /home/workspace/output_dir/parsed-processed-input.yaml -o ./output_dir/ -v\n"
     ]
    },
    {
     "name": "stderr",
     "output_type": "stream",
     "text": [
      "INFO:pytimeloop.accelergy_interface:Running Accelergy with command: accelergy /home/workspace/output_dir/parsed-processed-input.yaml -o ./output_dir/ -v\n"
     ]
    },
    {
     "name": "stdout",
     "output_type": "stream",
     "text": [
      "Adding energy and cycle stats for l8_conv3_stride2 occurence 1\n",
      "Running layer 13: l9-l15_conv3_stride1 which occurs 7 times\n",
      "[INFO] 2025-04-28 22:08:13,815 - pytimeloop.accelergy_interface - Running Accelergy with command: accelergy /home/workspace/output_dir/parsed-processed-input.yaml -o ./output_dir/ -v\n"
     ]
    },
    {
     "name": "stderr",
     "output_type": "stream",
     "text": [
      "INFO:pytimeloop.accelergy_interface:Running Accelergy with command: accelergy /home/workspace/output_dir/parsed-processed-input.yaml -o ./output_dir/ -v\n"
     ]
    },
    {
     "name": "stdout",
     "output_type": "stream",
     "text": [
      "Adding energy and cycle stats for l9-l15_conv3_stride1 occurence 1\n",
      "Adding energy and cycle stats for l9-l15_conv3_stride1 occurence 2\n",
      "Adding energy and cycle stats for l9-l15_conv3_stride1 occurence 3\n",
      "Adding energy and cycle stats for l9-l15_conv3_stride1 occurence 4\n",
      "Adding energy and cycle stats for l9-l15_conv3_stride1 occurence 5\n",
      "Adding energy and cycle stats for l9-l15_conv3_stride1 occurence 6\n",
      "Adding energy and cycle stats for l9-l15_conv3_stride1 occurence 7\n",
      "Running layer 21: l16_conv4_stride2 which occurs 1 times\n",
      "[INFO] 2025-04-28 22:08:59,951 - pytimeloop.accelergy_interface - Running Accelergy with command: accelergy /home/workspace/output_dir/parsed-processed-input.yaml -o ./output_dir/ -v\n"
     ]
    },
    {
     "name": "stderr",
     "output_type": "stream",
     "text": [
      "INFO:pytimeloop.accelergy_interface:Running Accelergy with command: accelergy /home/workspace/output_dir/parsed-processed-input.yaml -o ./output_dir/ -v\n"
     ]
    },
    {
     "name": "stdout",
     "output_type": "stream",
     "text": [
      "Adding energy and cycle stats for l16_conv4_stride2 occurence 1\n",
      "Running layer 23: l17-l27_conv4_stride1 which occurs 11 times\n",
      "[INFO] 2025-04-28 23:10:24,650 - pytimeloop.accelergy_interface - Running Accelergy with command: accelergy /home/workspace/output_dir/parsed-processed-input.yaml -o ./output_dir/ -v\n"
     ]
    },
    {
     "name": "stderr",
     "output_type": "stream",
     "text": [
      "INFO:pytimeloop.accelergy_interface:Running Accelergy with command: accelergy /home/workspace/output_dir/parsed-processed-input.yaml -o ./output_dir/ -v\n"
     ]
    },
    {
     "name": "stdout",
     "output_type": "stream",
     "text": [
      "Adding energy and cycle stats for l17-l27_conv4_stride1 occurence 1\n",
      "Adding energy and cycle stats for l17-l27_conv4_stride1 occurence 2\n",
      "Adding energy and cycle stats for l17-l27_conv4_stride1 occurence 3\n",
      "Adding energy and cycle stats for l17-l27_conv4_stride1 occurence 4\n",
      "Adding energy and cycle stats for l17-l27_conv4_stride1 occurence 5\n",
      "Adding energy and cycle stats for l17-l27_conv4_stride1 occurence 6\n",
      "Adding energy and cycle stats for l17-l27_conv4_stride1 occurence 7\n",
      "Adding energy and cycle stats for l17-l27_conv4_stride1 occurence 8\n",
      "Adding energy and cycle stats for l17-l27_conv4_stride1 occurence 9\n",
      "Adding energy and cycle stats for l17-l27_conv4_stride1 occurence 10\n",
      "Adding energy and cycle stats for l17-l27_conv4_stride1 occurence 11\n",
      "Running layer 35: l28_conv5_stride2 which occurs 1 times\n",
      "[INFO] 2025-04-28 23:10:56,469 - pytimeloop.accelergy_interface - Running Accelergy with command: accelergy /home/workspace/output_dir/parsed-processed-input.yaml -o ./output_dir/ -v\n"
     ]
    },
    {
     "name": "stderr",
     "output_type": "stream",
     "text": [
      "INFO:pytimeloop.accelergy_interface:Running Accelergy with command: accelergy /home/workspace/output_dir/parsed-processed-input.yaml -o ./output_dir/ -v\n"
     ]
    },
    {
     "name": "stdout",
     "output_type": "stream",
     "text": [
      "Adding energy and cycle stats for l28_conv5_stride2 occurence 1\n",
      "Running layer 37: l29-l33_conv5_stride1 which occurs 5 times\n",
      "[INFO] 2025-04-28 23:11:16,799 - pytimeloop.accelergy_interface - Running Accelergy with command: accelergy /home/workspace/output_dir/parsed-processed-input.yaml -o ./output_dir/ -v\n"
     ]
    },
    {
     "name": "stderr",
     "output_type": "stream",
     "text": [
      "INFO:pytimeloop.accelergy_interface:Running Accelergy with command: accelergy /home/workspace/output_dir/parsed-processed-input.yaml -o ./output_dir/ -v\n"
     ]
    },
    {
     "name": "stdout",
     "output_type": "stream",
     "text": [
      "Adding energy and cycle stats for l29-l33_conv5_stride1 occurence 1\n",
      "Adding energy and cycle stats for l29-l33_conv5_stride1 occurence 2\n",
      "Adding energy and cycle stats for l29-l33_conv5_stride1 occurence 3\n",
      "Adding energy and cycle stats for l29-l33_conv5_stride1 occurence 4\n",
      "Adding energy and cycle stats for l29-l33_conv5_stride1 occurence 5\n",
      "==================================================\n",
      "Starting Timeloop with configuration:\n",
      "  - arch: Architecture.Base\n",
      "  - scale: GPUMemoryScale.MEMORY_64MB\n",
      "  - rack: RackSize.RACK_8\n",
      "  - peConfig: PEsConfig.PE_4\n",
      "==================================================\n",
      "Running layer 1: l1_conv1 which occurs 1 times\n",
      "[INFO] 2025-04-28 23:11:36,060 - pytimeloop.accelergy_interface - Running Accelergy with command: accelergy /home/workspace/output_dir/parsed-processed-input.yaml -o ./output_dir/ -v\n"
     ]
    },
    {
     "name": "stderr",
     "output_type": "stream",
     "text": [
      "INFO:pytimeloop.accelergy_interface:Running Accelergy with command: accelergy /home/workspace/output_dir/parsed-processed-input.yaml -o ./output_dir/ -v\n"
     ]
    },
    {
     "name": "stdout",
     "output_type": "stream",
     "text": [
      "Adding energy and cycle stats for l1_conv1 occurence 1\n",
      "Running layer 3: l2_conv2_stride2 which occurs 1 times\n",
      "[INFO] 2025-04-28 23:11:55,049 - pytimeloop.accelergy_interface - Running Accelergy with command: accelergy /home/workspace/output_dir/parsed-processed-input.yaml -o ./output_dir/ -v\n"
     ]
    },
    {
     "name": "stderr",
     "output_type": "stream",
     "text": [
      "INFO:pytimeloop.accelergy_interface:Running Accelergy with command: accelergy /home/workspace/output_dir/parsed-processed-input.yaml -o ./output_dir/ -v\n"
     ]
    },
    {
     "name": "stdout",
     "output_type": "stream",
     "text": [
      "Adding energy and cycle stats for l2_conv2_stride2 occurence 1\n",
      "Running layer 5: l3-l7_conv2_stride1 which occurs 5 times\n",
      "[INFO] 2025-04-28 23:12:12,009 - pytimeloop.accelergy_interface - Running Accelergy with command: accelergy /home/workspace/output_dir/parsed-processed-input.yaml -o ./output_dir/ -v\n"
     ]
    },
    {
     "name": "stderr",
     "output_type": "stream",
     "text": [
      "INFO:pytimeloop.accelergy_interface:Running Accelergy with command: accelergy /home/workspace/output_dir/parsed-processed-input.yaml -o ./output_dir/ -v\n"
     ]
    },
    {
     "name": "stdout",
     "output_type": "stream",
     "text": [
      "Adding energy and cycle stats for l3-l7_conv2_stride1 occurence 1\n",
      "Adding energy and cycle stats for l3-l7_conv2_stride1 occurence 2\n",
      "Adding energy and cycle stats for l3-l7_conv2_stride1 occurence 3\n",
      "Adding energy and cycle stats for l3-l7_conv2_stride1 occurence 4\n",
      "Adding energy and cycle stats for l3-l7_conv2_stride1 occurence 5\n",
      "Running layer 11: l8_conv3_stride2 which occurs 1 times\n",
      "[INFO] 2025-04-28 23:12:28,599 - pytimeloop.accelergy_interface - Running Accelergy with command: accelergy /home/workspace/output_dir/parsed-processed-input.yaml -o ./output_dir/ -v\n"
     ]
    },
    {
     "name": "stderr",
     "output_type": "stream",
     "text": [
      "INFO:pytimeloop.accelergy_interface:Running Accelergy with command: accelergy /home/workspace/output_dir/parsed-processed-input.yaml -o ./output_dir/ -v\n"
     ]
    },
    {
     "name": "stdout",
     "output_type": "stream",
     "text": [
      "Adding energy and cycle stats for l8_conv3_stride2 occurence 1\n",
      "Running layer 13: l9-l15_conv3_stride1 which occurs 7 times\n",
      "[INFO] 2025-04-28 23:12:44,868 - pytimeloop.accelergy_interface - Running Accelergy with command: accelergy /home/workspace/output_dir/parsed-processed-input.yaml -o ./output_dir/ -v\n"
     ]
    },
    {
     "name": "stderr",
     "output_type": "stream",
     "text": [
      "INFO:pytimeloop.accelergy_interface:Running Accelergy with command: accelergy /home/workspace/output_dir/parsed-processed-input.yaml -o ./output_dir/ -v\n"
     ]
    },
    {
     "name": "stdout",
     "output_type": "stream",
     "text": [
      "Adding energy and cycle stats for l9-l15_conv3_stride1 occurence 1\n",
      "Adding energy and cycle stats for l9-l15_conv3_stride1 occurence 2\n",
      "Adding energy and cycle stats for l9-l15_conv3_stride1 occurence 3\n",
      "Adding energy and cycle stats for l9-l15_conv3_stride1 occurence 4\n",
      "Adding energy and cycle stats for l9-l15_conv3_stride1 occurence 5\n",
      "Adding energy and cycle stats for l9-l15_conv3_stride1 occurence 6\n",
      "Adding energy and cycle stats for l9-l15_conv3_stride1 occurence 7\n",
      "Running layer 21: l16_conv4_stride2 which occurs 1 times\n",
      "[INFO] 2025-04-28 23:13:00,482 - pytimeloop.accelergy_interface - Running Accelergy with command: accelergy /home/workspace/output_dir/parsed-processed-input.yaml -o ./output_dir/ -v\n"
     ]
    },
    {
     "name": "stderr",
     "output_type": "stream",
     "text": [
      "INFO:pytimeloop.accelergy_interface:Running Accelergy with command: accelergy /home/workspace/output_dir/parsed-processed-input.yaml -o ./output_dir/ -v\n"
     ]
    },
    {
     "name": "stdout",
     "output_type": "stream",
     "text": [
      "Adding energy and cycle stats for l16_conv4_stride2 occurence 1\n",
      "Running layer 23: l17-l27_conv4_stride1 which occurs 11 times\n",
      "[INFO] 2025-04-28 23:13:16,301 - pytimeloop.accelergy_interface - Running Accelergy with command: accelergy /home/workspace/output_dir/parsed-processed-input.yaml -o ./output_dir/ -v\n"
     ]
    },
    {
     "name": "stderr",
     "output_type": "stream",
     "text": [
      "INFO:pytimeloop.accelergy_interface:Running Accelergy with command: accelergy /home/workspace/output_dir/parsed-processed-input.yaml -o ./output_dir/ -v\n"
     ]
    },
    {
     "name": "stdout",
     "output_type": "stream",
     "text": [
      "Adding energy and cycle stats for l17-l27_conv4_stride1 occurence 1\n",
      "Adding energy and cycle stats for l17-l27_conv4_stride1 occurence 2\n",
      "Adding energy and cycle stats for l17-l27_conv4_stride1 occurence 3\n",
      "Adding energy and cycle stats for l17-l27_conv4_stride1 occurence 4\n",
      "Adding energy and cycle stats for l17-l27_conv4_stride1 occurence 5\n",
      "Adding energy and cycle stats for l17-l27_conv4_stride1 occurence 6\n",
      "Adding energy and cycle stats for l17-l27_conv4_stride1 occurence 7\n",
      "Adding energy and cycle stats for l17-l27_conv4_stride1 occurence 8\n",
      "Adding energy and cycle stats for l17-l27_conv4_stride1 occurence 9\n",
      "Adding energy and cycle stats for l17-l27_conv4_stride1 occurence 10\n",
      "Adding energy and cycle stats for l17-l27_conv4_stride1 occurence 11\n",
      "Running layer 35: l28_conv5_stride2 which occurs 1 times\n",
      "[INFO] 2025-04-28 23:13:34,136 - pytimeloop.accelergy_interface - Running Accelergy with command: accelergy /home/workspace/output_dir/parsed-processed-input.yaml -o ./output_dir/ -v\n"
     ]
    },
    {
     "name": "stderr",
     "output_type": "stream",
     "text": [
      "INFO:pytimeloop.accelergy_interface:Running Accelergy with command: accelergy /home/workspace/output_dir/parsed-processed-input.yaml -o ./output_dir/ -v\n"
     ]
    },
    {
     "name": "stdout",
     "output_type": "stream",
     "text": [
      "Adding energy and cycle stats for l28_conv5_stride2 occurence 1\n",
      "Running layer 37: l29-l33_conv5_stride1 which occurs 5 times\n",
      "[INFO] 2025-04-28 23:13:52,022 - pytimeloop.accelergy_interface - Running Accelergy with command: accelergy /home/workspace/output_dir/parsed-processed-input.yaml -o ./output_dir/ -v\n"
     ]
    },
    {
     "name": "stderr",
     "output_type": "stream",
     "text": [
      "INFO:pytimeloop.accelergy_interface:Running Accelergy with command: accelergy /home/workspace/output_dir/parsed-processed-input.yaml -o ./output_dir/ -v\n"
     ]
    },
    {
     "name": "stdout",
     "output_type": "stream",
     "text": [
      "Adding energy and cycle stats for l29-l33_conv5_stride1 occurence 1\n",
      "Adding energy and cycle stats for l29-l33_conv5_stride1 occurence 2\n",
      "Adding energy and cycle stats for l29-l33_conv5_stride1 occurence 3\n",
      "Adding energy and cycle stats for l29-l33_conv5_stride1 occurence 4\n",
      "Adding energy and cycle stats for l29-l33_conv5_stride1 occurence 5\n",
      "==================================================\n",
      "Starting Timeloop with configuration:\n",
      "  - arch: Architecture.Base\n",
      "  - scale: GPUMemoryScale.MEMORY_64MB\n",
      "  - rack: RackSize.RACK_8\n",
      "  - peConfig: PEsConfig.PE_8\n",
      "==================================================\n",
      "Running layer 1: l1_conv1 which occurs 1 times\n",
      "[INFO] 2025-04-28 23:14:09,421 - pytimeloop.accelergy_interface - Running Accelergy with command: accelergy /home/workspace/output_dir/parsed-processed-input.yaml -o ./output_dir/ -v\n"
     ]
    },
    {
     "name": "stderr",
     "output_type": "stream",
     "text": [
      "INFO:pytimeloop.accelergy_interface:Running Accelergy with command: accelergy /home/workspace/output_dir/parsed-processed-input.yaml -o ./output_dir/ -v\n"
     ]
    },
    {
     "name": "stdout",
     "output_type": "stream",
     "text": [
      "Adding energy and cycle stats for l1_conv1 occurence 1\n",
      "Running layer 3: l2_conv2_stride2 which occurs 1 times\n",
      "[INFO] 2025-04-28 23:14:27,760 - pytimeloop.accelergy_interface - Running Accelergy with command: accelergy /home/workspace/output_dir/parsed-processed-input.yaml -o ./output_dir/ -v\n"
     ]
    },
    {
     "name": "stderr",
     "output_type": "stream",
     "text": [
      "INFO:pytimeloop.accelergy_interface:Running Accelergy with command: accelergy /home/workspace/output_dir/parsed-processed-input.yaml -o ./output_dir/ -v\n"
     ]
    },
    {
     "name": "stdout",
     "output_type": "stream",
     "text": [
      "Adding energy and cycle stats for l2_conv2_stride2 occurence 1\n",
      "Running layer 5: l3-l7_conv2_stride1 which occurs 5 times\n",
      "[INFO] 2025-04-28 23:14:44,160 - pytimeloop.accelergy_interface - Running Accelergy with command: accelergy /home/workspace/output_dir/parsed-processed-input.yaml -o ./output_dir/ -v\n"
     ]
    },
    {
     "name": "stderr",
     "output_type": "stream",
     "text": [
      "INFO:pytimeloop.accelergy_interface:Running Accelergy with command: accelergy /home/workspace/output_dir/parsed-processed-input.yaml -o ./output_dir/ -v\n"
     ]
    },
    {
     "name": "stdout",
     "output_type": "stream",
     "text": [
      "Adding energy and cycle stats for l3-l7_conv2_stride1 occurence 1\n",
      "Adding energy and cycle stats for l3-l7_conv2_stride1 occurence 2\n",
      "Adding energy and cycle stats for l3-l7_conv2_stride1 occurence 3\n",
      "Adding energy and cycle stats for l3-l7_conv2_stride1 occurence 4\n",
      "Adding energy and cycle stats for l3-l7_conv2_stride1 occurence 5\n",
      "Running layer 11: l8_conv3_stride2 which occurs 1 times\n",
      "[INFO] 2025-04-28 23:15:00,433 - pytimeloop.accelergy_interface - Running Accelergy with command: accelergy /home/workspace/output_dir/parsed-processed-input.yaml -o ./output_dir/ -v\n"
     ]
    },
    {
     "name": "stderr",
     "output_type": "stream",
     "text": [
      "INFO:pytimeloop.accelergy_interface:Running Accelergy with command: accelergy /home/workspace/output_dir/parsed-processed-input.yaml -o ./output_dir/ -v\n"
     ]
    },
    {
     "name": "stdout",
     "output_type": "stream",
     "text": [
      "Adding energy and cycle stats for l8_conv3_stride2 occurence 1\n",
      "Running layer 13: l9-l15_conv3_stride1 which occurs 7 times\n",
      "[INFO] 2025-04-28 23:15:16,399 - pytimeloop.accelergy_interface - Running Accelergy with command: accelergy /home/workspace/output_dir/parsed-processed-input.yaml -o ./output_dir/ -v\n"
     ]
    },
    {
     "name": "stderr",
     "output_type": "stream",
     "text": [
      "INFO:pytimeloop.accelergy_interface:Running Accelergy with command: accelergy /home/workspace/output_dir/parsed-processed-input.yaml -o ./output_dir/ -v\n"
     ]
    },
    {
     "name": "stdout",
     "output_type": "stream",
     "text": [
      "Adding energy and cycle stats for l9-l15_conv3_stride1 occurence 1\n",
      "Adding energy and cycle stats for l9-l15_conv3_stride1 occurence 2\n",
      "Adding energy and cycle stats for l9-l15_conv3_stride1 occurence 3\n",
      "Adding energy and cycle stats for l9-l15_conv3_stride1 occurence 4\n",
      "Adding energy and cycle stats for l9-l15_conv3_stride1 occurence 5\n",
      "Adding energy and cycle stats for l9-l15_conv3_stride1 occurence 6\n",
      "Adding energy and cycle stats for l9-l15_conv3_stride1 occurence 7\n",
      "Running layer 21: l16_conv4_stride2 which occurs 1 times\n",
      "[INFO] 2025-04-28 23:15:35,716 - pytimeloop.accelergy_interface - Running Accelergy with command: accelergy /home/workspace/output_dir/parsed-processed-input.yaml -o ./output_dir/ -v\n"
     ]
    },
    {
     "name": "stderr",
     "output_type": "stream",
     "text": [
      "INFO:pytimeloop.accelergy_interface:Running Accelergy with command: accelergy /home/workspace/output_dir/parsed-processed-input.yaml -o ./output_dir/ -v\n"
     ]
    },
    {
     "name": "stdout",
     "output_type": "stream",
     "text": [
      "Adding energy and cycle stats for l16_conv4_stride2 occurence 1\n",
      "Running layer 23: l17-l27_conv4_stride1 which occurs 11 times\n",
      "[INFO] 2025-04-28 23:15:51,729 - pytimeloop.accelergy_interface - Running Accelergy with command: accelergy /home/workspace/output_dir/parsed-processed-input.yaml -o ./output_dir/ -v\n"
     ]
    },
    {
     "name": "stderr",
     "output_type": "stream",
     "text": [
      "INFO:pytimeloop.accelergy_interface:Running Accelergy with command: accelergy /home/workspace/output_dir/parsed-processed-input.yaml -o ./output_dir/ -v\n"
     ]
    },
    {
     "name": "stdout",
     "output_type": "stream",
     "text": [
      "Adding energy and cycle stats for l17-l27_conv4_stride1 occurence 1\n",
      "Adding energy and cycle stats for l17-l27_conv4_stride1 occurence 2\n",
      "Adding energy and cycle stats for l17-l27_conv4_stride1 occurence 3\n",
      "Adding energy and cycle stats for l17-l27_conv4_stride1 occurence 4\n",
      "Adding energy and cycle stats for l17-l27_conv4_stride1 occurence 5\n",
      "Adding energy and cycle stats for l17-l27_conv4_stride1 occurence 6\n",
      "Adding energy and cycle stats for l17-l27_conv4_stride1 occurence 7\n",
      "Adding energy and cycle stats for l17-l27_conv4_stride1 occurence 8\n",
      "Adding energy and cycle stats for l17-l27_conv4_stride1 occurence 9\n",
      "Adding energy and cycle stats for l17-l27_conv4_stride1 occurence 10\n",
      "Adding energy and cycle stats for l17-l27_conv4_stride1 occurence 11\n",
      "Running layer 35: l28_conv5_stride2 which occurs 1 times\n",
      "[INFO] 2025-04-28 23:16:07,402 - pytimeloop.accelergy_interface - Running Accelergy with command: accelergy /home/workspace/output_dir/parsed-processed-input.yaml -o ./output_dir/ -v\n"
     ]
    },
    {
     "name": "stderr",
     "output_type": "stream",
     "text": [
      "INFO:pytimeloop.accelergy_interface:Running Accelergy with command: accelergy /home/workspace/output_dir/parsed-processed-input.yaml -o ./output_dir/ -v\n"
     ]
    },
    {
     "name": "stdout",
     "output_type": "stream",
     "text": [
      "Adding energy and cycle stats for l28_conv5_stride2 occurence 1\n",
      "Running layer 37: l29-l33_conv5_stride1 which occurs 5 times\n",
      "[INFO] 2025-04-28 23:16:23,752 - pytimeloop.accelergy_interface - Running Accelergy with command: accelergy /home/workspace/output_dir/parsed-processed-input.yaml -o ./output_dir/ -v\n"
     ]
    },
    {
     "name": "stderr",
     "output_type": "stream",
     "text": [
      "INFO:pytimeloop.accelergy_interface:Running Accelergy with command: accelergy /home/workspace/output_dir/parsed-processed-input.yaml -o ./output_dir/ -v\n"
     ]
    },
    {
     "name": "stdout",
     "output_type": "stream",
     "text": [
      "Adding energy and cycle stats for l29-l33_conv5_stride1 occurence 1\n",
      "Adding energy and cycle stats for l29-l33_conv5_stride1 occurence 2\n",
      "Adding energy and cycle stats for l29-l33_conv5_stride1 occurence 3\n",
      "Adding energy and cycle stats for l29-l33_conv5_stride1 occurence 4\n",
      "Adding energy and cycle stats for l29-l33_conv5_stride1 occurence 5\n",
      "==================================================\n",
      "Starting Timeloop with configuration:\n",
      "  - arch: Architecture.Base\n",
      "  - scale: GPUMemoryScale.MEMORY_1024MB\n",
      "  - rack: RackSize.RACK_8\n",
      "  - peConfig: PEsConfig.PE_2\n",
      "==================================================\n",
      "Running layer 1: l1_conv1 which occurs 1 times\n",
      "[INFO] 2025-04-28 23:16:40,252 - pytimeloop.accelergy_interface - Running Accelergy with command: accelergy /home/workspace/output_dir/parsed-processed-input.yaml -o ./output_dir/ -v\n"
     ]
    },
    {
     "name": "stderr",
     "output_type": "stream",
     "text": [
      "INFO:pytimeloop.accelergy_interface:Running Accelergy with command: accelergy /home/workspace/output_dir/parsed-processed-input.yaml -o ./output_dir/ -v\n"
     ]
    },
    {
     "name": "stdout",
     "output_type": "stream",
     "text": [
      "Adding energy and cycle stats for l1_conv1 occurence 1\n",
      "Running layer 3: l2_conv2_stride2 which occurs 1 times\n",
      "[INFO] 2025-04-28 23:16:55,663 - pytimeloop.accelergy_interface - Running Accelergy with command: accelergy /home/workspace/output_dir/parsed-processed-input.yaml -o ./output_dir/ -v\n"
     ]
    },
    {
     "name": "stderr",
     "output_type": "stream",
     "text": [
      "INFO:pytimeloop.accelergy_interface:Running Accelergy with command: accelergy /home/workspace/output_dir/parsed-processed-input.yaml -o ./output_dir/ -v\n"
     ]
    },
    {
     "name": "stdout",
     "output_type": "stream",
     "text": [
      "Adding energy and cycle stats for l2_conv2_stride2 occurence 1\n",
      "Running layer 5: l3-l7_conv2_stride1 which occurs 5 times\n",
      "[INFO] 2025-04-28 23:17:10,387 - pytimeloop.accelergy_interface - Running Accelergy with command: accelergy /home/workspace/output_dir/parsed-processed-input.yaml -o ./output_dir/ -v\n"
     ]
    },
    {
     "name": "stderr",
     "output_type": "stream",
     "text": [
      "INFO:pytimeloop.accelergy_interface:Running Accelergy with command: accelergy /home/workspace/output_dir/parsed-processed-input.yaml -o ./output_dir/ -v\n"
     ]
    },
    {
     "name": "stdout",
     "output_type": "stream",
     "text": [
      "Adding energy and cycle stats for l3-l7_conv2_stride1 occurence 1\n",
      "Adding energy and cycle stats for l3-l7_conv2_stride1 occurence 2\n",
      "Adding energy and cycle stats for l3-l7_conv2_stride1 occurence 3\n",
      "Adding energy and cycle stats for l3-l7_conv2_stride1 occurence 4\n",
      "Adding energy and cycle stats for l3-l7_conv2_stride1 occurence 5\n",
      "Running layer 11: l8_conv3_stride2 which occurs 1 times\n",
      "[INFO] 2025-04-28 23:17:25,668 - pytimeloop.accelergy_interface - Running Accelergy with command: accelergy /home/workspace/output_dir/parsed-processed-input.yaml -o ./output_dir/ -v\n"
     ]
    },
    {
     "name": "stderr",
     "output_type": "stream",
     "text": [
      "INFO:pytimeloop.accelergy_interface:Running Accelergy with command: accelergy /home/workspace/output_dir/parsed-processed-input.yaml -o ./output_dir/ -v\n"
     ]
    },
    {
     "name": "stdout",
     "output_type": "stream",
     "text": [
      "Adding energy and cycle stats for l8_conv3_stride2 occurence 1\n",
      "Running layer 13: l9-l15_conv3_stride1 which occurs 7 times\n",
      "[INFO] 2025-04-28 23:17:47,396 - pytimeloop.accelergy_interface - Running Accelergy with command: accelergy /home/workspace/output_dir/parsed-processed-input.yaml -o ./output_dir/ -v\n"
     ]
    },
    {
     "name": "stderr",
     "output_type": "stream",
     "text": [
      "INFO:pytimeloop.accelergy_interface:Running Accelergy with command: accelergy /home/workspace/output_dir/parsed-processed-input.yaml -o ./output_dir/ -v\n"
     ]
    },
    {
     "name": "stdout",
     "output_type": "stream",
     "text": [
      "Adding energy and cycle stats for l9-l15_conv3_stride1 occurence 1\n",
      "Adding energy and cycle stats for l9-l15_conv3_stride1 occurence 2\n",
      "Adding energy and cycle stats for l9-l15_conv3_stride1 occurence 3\n",
      "Adding energy and cycle stats for l9-l15_conv3_stride1 occurence 4\n",
      "Adding energy and cycle stats for l9-l15_conv3_stride1 occurence 5\n",
      "Adding energy and cycle stats for l9-l15_conv3_stride1 occurence 6\n",
      "Adding energy and cycle stats for l9-l15_conv3_stride1 occurence 7\n",
      "Running layer 21: l16_conv4_stride2 which occurs 1 times\n",
      "[INFO] 2025-04-28 23:18:06,788 - pytimeloop.accelergy_interface - Running Accelergy with command: accelergy /home/workspace/output_dir/parsed-processed-input.yaml -o ./output_dir/ -v\n"
     ]
    },
    {
     "name": "stderr",
     "output_type": "stream",
     "text": [
      "INFO:pytimeloop.accelergy_interface:Running Accelergy with command: accelergy /home/workspace/output_dir/parsed-processed-input.yaml -o ./output_dir/ -v\n"
     ]
    },
    {
     "name": "stdout",
     "output_type": "stream",
     "text": [
      "Adding energy and cycle stats for l16_conv4_stride2 occurence 1\n",
      "Running layer 23: l17-l27_conv4_stride1 which occurs 11 times\n",
      "[INFO] 2025-04-28 23:18:22,243 - pytimeloop.accelergy_interface - Running Accelergy with command: accelergy /home/workspace/output_dir/parsed-processed-input.yaml -o ./output_dir/ -v\n"
     ]
    },
    {
     "name": "stderr",
     "output_type": "stream",
     "text": [
      "INFO:pytimeloop.accelergy_interface:Running Accelergy with command: accelergy /home/workspace/output_dir/parsed-processed-input.yaml -o ./output_dir/ -v\n"
     ]
    },
    {
     "name": "stdout",
     "output_type": "stream",
     "text": [
      "Adding energy and cycle stats for l17-l27_conv4_stride1 occurence 1\n",
      "Adding energy and cycle stats for l17-l27_conv4_stride1 occurence 2\n",
      "Adding energy and cycle stats for l17-l27_conv4_stride1 occurence 3\n",
      "Adding energy and cycle stats for l17-l27_conv4_stride1 occurence 4\n",
      "Adding energy and cycle stats for l17-l27_conv4_stride1 occurence 5\n",
      "Adding energy and cycle stats for l17-l27_conv4_stride1 occurence 6\n",
      "Adding energy and cycle stats for l17-l27_conv4_stride1 occurence 7\n",
      "Adding energy and cycle stats for l17-l27_conv4_stride1 occurence 8\n",
      "Adding energy and cycle stats for l17-l27_conv4_stride1 occurence 9\n",
      "Adding energy and cycle stats for l17-l27_conv4_stride1 occurence 10\n",
      "Adding energy and cycle stats for l17-l27_conv4_stride1 occurence 11\n",
      "Running layer 35: l28_conv5_stride2 which occurs 1 times\n",
      "[INFO] 2025-04-28 23:18:37,317 - pytimeloop.accelergy_interface - Running Accelergy with command: accelergy /home/workspace/output_dir/parsed-processed-input.yaml -o ./output_dir/ -v\n"
     ]
    },
    {
     "name": "stderr",
     "output_type": "stream",
     "text": [
      "INFO:pytimeloop.accelergy_interface:Running Accelergy with command: accelergy /home/workspace/output_dir/parsed-processed-input.yaml -o ./output_dir/ -v\n"
     ]
    },
    {
     "name": "stdout",
     "output_type": "stream",
     "text": [
      "Adding energy and cycle stats for l28_conv5_stride2 occurence 1\n",
      "Running layer 37: l29-l33_conv5_stride1 which occurs 5 times\n",
      "[INFO] 2025-04-28 23:18:52,284 - pytimeloop.accelergy_interface - Running Accelergy with command: accelergy /home/workspace/output_dir/parsed-processed-input.yaml -o ./output_dir/ -v\n"
     ]
    },
    {
     "name": "stderr",
     "output_type": "stream",
     "text": [
      "INFO:pytimeloop.accelergy_interface:Running Accelergy with command: accelergy /home/workspace/output_dir/parsed-processed-input.yaml -o ./output_dir/ -v\n"
     ]
    },
    {
     "name": "stdout",
     "output_type": "stream",
     "text": [
      "Adding energy and cycle stats for l29-l33_conv5_stride1 occurence 1\n",
      "Adding energy and cycle stats for l29-l33_conv5_stride1 occurence 2\n",
      "Adding energy and cycle stats for l29-l33_conv5_stride1 occurence 3\n",
      "Adding energy and cycle stats for l29-l33_conv5_stride1 occurence 4\n",
      "Adding energy and cycle stats for l29-l33_conv5_stride1 occurence 5\n",
      "==================================================\n",
      "Starting Timeloop with configuration:\n",
      "  - arch: Architecture.Base\n",
      "  - scale: GPUMemoryScale.MEMORY_1024MB\n",
      "  - rack: RackSize.RACK_8\n",
      "  - peConfig: PEsConfig.PE_4\n",
      "==================================================\n",
      "Running layer 1: l1_conv1 which occurs 1 times\n",
      "[INFO] 2025-04-28 23:19:07,793 - pytimeloop.accelergy_interface - Running Accelergy with command: accelergy /home/workspace/output_dir/parsed-processed-input.yaml -o ./output_dir/ -v\n"
     ]
    },
    {
     "name": "stderr",
     "output_type": "stream",
     "text": [
      "INFO:pytimeloop.accelergy_interface:Running Accelergy with command: accelergy /home/workspace/output_dir/parsed-processed-input.yaml -o ./output_dir/ -v\n"
     ]
    },
    {
     "name": "stdout",
     "output_type": "stream",
     "text": [
      "Adding energy and cycle stats for l1_conv1 occurence 1\n",
      "Running layer 3: l2_conv2_stride2 which occurs 1 times\n",
      "[INFO] 2025-04-28 23:19:23,640 - pytimeloop.accelergy_interface - Running Accelergy with command: accelergy /home/workspace/output_dir/parsed-processed-input.yaml -o ./output_dir/ -v\n"
     ]
    },
    {
     "name": "stderr",
     "output_type": "stream",
     "text": [
      "INFO:pytimeloop.accelergy_interface:Running Accelergy with command: accelergy /home/workspace/output_dir/parsed-processed-input.yaml -o ./output_dir/ -v\n"
     ]
    },
    {
     "name": "stdout",
     "output_type": "stream",
     "text": [
      "Adding energy and cycle stats for l2_conv2_stride2 occurence 1\n",
      "Running layer 5: l3-l7_conv2_stride1 which occurs 5 times\n",
      "[INFO] 2025-04-28 23:19:38,595 - pytimeloop.accelergy_interface - Running Accelergy with command: accelergy /home/workspace/output_dir/parsed-processed-input.yaml -o ./output_dir/ -v\n"
     ]
    },
    {
     "name": "stderr",
     "output_type": "stream",
     "text": [
      "INFO:pytimeloop.accelergy_interface:Running Accelergy with command: accelergy /home/workspace/output_dir/parsed-processed-input.yaml -o ./output_dir/ -v\n"
     ]
    },
    {
     "name": "stdout",
     "output_type": "stream",
     "text": [
      "Adding energy and cycle stats for l3-l7_conv2_stride1 occurence 1\n",
      "Adding energy and cycle stats for l3-l7_conv2_stride1 occurence 2\n",
      "Adding energy and cycle stats for l3-l7_conv2_stride1 occurence 3\n",
      "Adding energy and cycle stats for l3-l7_conv2_stride1 occurence 4\n",
      "Adding energy and cycle stats for l3-l7_conv2_stride1 occurence 5\n",
      "Running layer 11: l8_conv3_stride2 which occurs 1 times\n",
      "[INFO] 2025-04-28 23:19:54,997 - pytimeloop.accelergy_interface - Running Accelergy with command: accelergy /home/workspace/output_dir/parsed-processed-input.yaml -o ./output_dir/ -v\n"
     ]
    },
    {
     "name": "stderr",
     "output_type": "stream",
     "text": [
      "INFO:pytimeloop.accelergy_interface:Running Accelergy with command: accelergy /home/workspace/output_dir/parsed-processed-input.yaml -o ./output_dir/ -v\n"
     ]
    },
    {
     "name": "stdout",
     "output_type": "stream",
     "text": [
      "Adding energy and cycle stats for l8_conv3_stride2 occurence 1\n",
      "Running layer 13: l9-l15_conv3_stride1 which occurs 7 times\n",
      "[INFO] 2025-04-28 23:20:09,408 - pytimeloop.accelergy_interface - Running Accelergy with command: accelergy /home/workspace/output_dir/parsed-processed-input.yaml -o ./output_dir/ -v\n"
     ]
    },
    {
     "name": "stderr",
     "output_type": "stream",
     "text": [
      "INFO:pytimeloop.accelergy_interface:Running Accelergy with command: accelergy /home/workspace/output_dir/parsed-processed-input.yaml -o ./output_dir/ -v\n"
     ]
    },
    {
     "name": "stdout",
     "output_type": "stream",
     "text": [
      "Adding energy and cycle stats for l9-l15_conv3_stride1 occurence 1\n",
      "Adding energy and cycle stats for l9-l15_conv3_stride1 occurence 2\n",
      "Adding energy and cycle stats for l9-l15_conv3_stride1 occurence 3\n",
      "Adding energy and cycle stats for l9-l15_conv3_stride1 occurence 4\n",
      "Adding energy and cycle stats for l9-l15_conv3_stride1 occurence 5\n",
      "Adding energy and cycle stats for l9-l15_conv3_stride1 occurence 6\n",
      "Adding energy and cycle stats for l9-l15_conv3_stride1 occurence 7\n",
      "Running layer 21: l16_conv4_stride2 which occurs 1 times\n",
      "[INFO] 2025-04-28 23:20:23,733 - pytimeloop.accelergy_interface - Running Accelergy with command: accelergy /home/workspace/output_dir/parsed-processed-input.yaml -o ./output_dir/ -v\n"
     ]
    },
    {
     "name": "stderr",
     "output_type": "stream",
     "text": [
      "INFO:pytimeloop.accelergy_interface:Running Accelergy with command: accelergy /home/workspace/output_dir/parsed-processed-input.yaml -o ./output_dir/ -v\n"
     ]
    },
    {
     "name": "stdout",
     "output_type": "stream",
     "text": [
      "Adding energy and cycle stats for l16_conv4_stride2 occurence 1\n",
      "Running layer 23: l17-l27_conv4_stride1 which occurs 11 times\n",
      "[INFO] 2025-04-28 23:20:38,768 - pytimeloop.accelergy_interface - Running Accelergy with command: accelergy /home/workspace/output_dir/parsed-processed-input.yaml -o ./output_dir/ -v\n"
     ]
    },
    {
     "name": "stderr",
     "output_type": "stream",
     "text": [
      "INFO:pytimeloop.accelergy_interface:Running Accelergy with command: accelergy /home/workspace/output_dir/parsed-processed-input.yaml -o ./output_dir/ -v\n"
     ]
    },
    {
     "name": "stdout",
     "output_type": "stream",
     "text": [
      "Adding energy and cycle stats for l17-l27_conv4_stride1 occurence 1\n",
      "Adding energy and cycle stats for l17-l27_conv4_stride1 occurence 2\n",
      "Adding energy and cycle stats for l17-l27_conv4_stride1 occurence 3\n",
      "Adding energy and cycle stats for l17-l27_conv4_stride1 occurence 4\n",
      "Adding energy and cycle stats for l17-l27_conv4_stride1 occurence 5\n",
      "Adding energy and cycle stats for l17-l27_conv4_stride1 occurence 6\n",
      "Adding energy and cycle stats for l17-l27_conv4_stride1 occurence 7\n",
      "Adding energy and cycle stats for l17-l27_conv4_stride1 occurence 8\n",
      "Adding energy and cycle stats for l17-l27_conv4_stride1 occurence 9\n",
      "Adding energy and cycle stats for l17-l27_conv4_stride1 occurence 10\n",
      "Adding energy and cycle stats for l17-l27_conv4_stride1 occurence 11\n",
      "Running layer 35: l28_conv5_stride2 which occurs 1 times\n",
      "[INFO] 2025-04-28 23:20:54,358 - pytimeloop.accelergy_interface - Running Accelergy with command: accelergy /home/workspace/output_dir/parsed-processed-input.yaml -o ./output_dir/ -v\n"
     ]
    },
    {
     "name": "stderr",
     "output_type": "stream",
     "text": [
      "INFO:pytimeloop.accelergy_interface:Running Accelergy with command: accelergy /home/workspace/output_dir/parsed-processed-input.yaml -o ./output_dir/ -v\n"
     ]
    },
    {
     "name": "stdout",
     "output_type": "stream",
     "text": [
      "Adding energy and cycle stats for l28_conv5_stride2 occurence 1\n",
      "Running layer 37: l29-l33_conv5_stride1 which occurs 5 times\n",
      "[INFO] 2025-04-28 23:21:09,547 - pytimeloop.accelergy_interface - Running Accelergy with command: accelergy /home/workspace/output_dir/parsed-processed-input.yaml -o ./output_dir/ -v\n"
     ]
    },
    {
     "name": "stderr",
     "output_type": "stream",
     "text": [
      "INFO:pytimeloop.accelergy_interface:Running Accelergy with command: accelergy /home/workspace/output_dir/parsed-processed-input.yaml -o ./output_dir/ -v\n"
     ]
    },
    {
     "name": "stdout",
     "output_type": "stream",
     "text": [
      "Adding energy and cycle stats for l29-l33_conv5_stride1 occurence 1\n",
      "Adding energy and cycle stats for l29-l33_conv5_stride1 occurence 2\n",
      "Adding energy and cycle stats for l29-l33_conv5_stride1 occurence 3\n",
      "Adding energy and cycle stats for l29-l33_conv5_stride1 occurence 4\n",
      "Adding energy and cycle stats for l29-l33_conv5_stride1 occurence 5\n",
      "==================================================\n",
      "Starting Timeloop with configuration:\n",
      "  - arch: Architecture.Base\n",
      "  - scale: GPUMemoryScale.MEMORY_1024MB\n",
      "  - rack: RackSize.RACK_8\n",
      "  - peConfig: PEsConfig.PE_8\n",
      "==================================================\n",
      "Running layer 1: l1_conv1 which occurs 1 times\n",
      "[INFO] 2025-04-28 23:21:24,252 - pytimeloop.accelergy_interface - Running Accelergy with command: accelergy /home/workspace/output_dir/parsed-processed-input.yaml -o ./output_dir/ -v\n"
     ]
    },
    {
     "name": "stderr",
     "output_type": "stream",
     "text": [
      "INFO:pytimeloop.accelergy_interface:Running Accelergy with command: accelergy /home/workspace/output_dir/parsed-processed-input.yaml -o ./output_dir/ -v\n"
     ]
    },
    {
     "name": "stdout",
     "output_type": "stream",
     "text": [
      "Adding energy and cycle stats for l1_conv1 occurence 1\n",
      "Running layer 3: l2_conv2_stride2 which occurs 1 times\n",
      "[INFO] 2025-04-28 23:21:38,579 - pytimeloop.accelergy_interface - Running Accelergy with command: accelergy /home/workspace/output_dir/parsed-processed-input.yaml -o ./output_dir/ -v\n"
     ]
    },
    {
     "name": "stderr",
     "output_type": "stream",
     "text": [
      "INFO:pytimeloop.accelergy_interface:Running Accelergy with command: accelergy /home/workspace/output_dir/parsed-processed-input.yaml -o ./output_dir/ -v\n"
     ]
    },
    {
     "name": "stdout",
     "output_type": "stream",
     "text": [
      "Adding energy and cycle stats for l2_conv2_stride2 occurence 1\n",
      "Running layer 5: l3-l7_conv2_stride1 which occurs 5 times\n",
      "[INFO] 2025-04-28 23:21:52,928 - pytimeloop.accelergy_interface - Running Accelergy with command: accelergy /home/workspace/output_dir/parsed-processed-input.yaml -o ./output_dir/ -v\n"
     ]
    },
    {
     "name": "stderr",
     "output_type": "stream",
     "text": [
      "INFO:pytimeloop.accelergy_interface:Running Accelergy with command: accelergy /home/workspace/output_dir/parsed-processed-input.yaml -o ./output_dir/ -v\n"
     ]
    },
    {
     "name": "stdout",
     "output_type": "stream",
     "text": [
      "Adding energy and cycle stats for l3-l7_conv2_stride1 occurence 1\n",
      "Adding energy and cycle stats for l3-l7_conv2_stride1 occurence 2\n",
      "Adding energy and cycle stats for l3-l7_conv2_stride1 occurence 3\n",
      "Adding energy and cycle stats for l3-l7_conv2_stride1 occurence 4\n",
      "Adding energy and cycle stats for l3-l7_conv2_stride1 occurence 5\n",
      "Running layer 11: l8_conv3_stride2 which occurs 1 times\n",
      "[INFO] 2025-04-28 23:22:08,236 - pytimeloop.accelergy_interface - Running Accelergy with command: accelergy /home/workspace/output_dir/parsed-processed-input.yaml -o ./output_dir/ -v\n"
     ]
    },
    {
     "name": "stderr",
     "output_type": "stream",
     "text": [
      "INFO:pytimeloop.accelergy_interface:Running Accelergy with command: accelergy /home/workspace/output_dir/parsed-processed-input.yaml -o ./output_dir/ -v\n"
     ]
    },
    {
     "name": "stdout",
     "output_type": "stream",
     "text": [
      "Adding energy and cycle stats for l8_conv3_stride2 occurence 1\n",
      "Running layer 13: l9-l15_conv3_stride1 which occurs 7 times\n",
      "[INFO] 2025-04-28 23:22:23,299 - pytimeloop.accelergy_interface - Running Accelergy with command: accelergy /home/workspace/output_dir/parsed-processed-input.yaml -o ./output_dir/ -v\n"
     ]
    },
    {
     "name": "stderr",
     "output_type": "stream",
     "text": [
      "INFO:pytimeloop.accelergy_interface:Running Accelergy with command: accelergy /home/workspace/output_dir/parsed-processed-input.yaml -o ./output_dir/ -v\n"
     ]
    },
    {
     "name": "stdout",
     "output_type": "stream",
     "text": [
      "Adding energy and cycle stats for l9-l15_conv3_stride1 occurence 1\n",
      "Adding energy and cycle stats for l9-l15_conv3_stride1 occurence 2\n",
      "Adding energy and cycle stats for l9-l15_conv3_stride1 occurence 3\n",
      "Adding energy and cycle stats for l9-l15_conv3_stride1 occurence 4\n",
      "Adding energy and cycle stats for l9-l15_conv3_stride1 occurence 5\n",
      "Adding energy and cycle stats for l9-l15_conv3_stride1 occurence 6\n",
      "Adding energy and cycle stats for l9-l15_conv3_stride1 occurence 7\n",
      "Running layer 21: l16_conv4_stride2 which occurs 1 times\n",
      "[INFO] 2025-04-28 23:22:37,930 - pytimeloop.accelergy_interface - Running Accelergy with command: accelergy /home/workspace/output_dir/parsed-processed-input.yaml -o ./output_dir/ -v\n"
     ]
    },
    {
     "name": "stderr",
     "output_type": "stream",
     "text": [
      "INFO:pytimeloop.accelergy_interface:Running Accelergy with command: accelergy /home/workspace/output_dir/parsed-processed-input.yaml -o ./output_dir/ -v\n"
     ]
    },
    {
     "name": "stdout",
     "output_type": "stream",
     "text": [
      "Adding energy and cycle stats for l16_conv4_stride2 occurence 1\n",
      "Running layer 23: l17-l27_conv4_stride1 which occurs 11 times\n",
      "[INFO] 2025-04-28 23:22:53,059 - pytimeloop.accelergy_interface - Running Accelergy with command: accelergy /home/workspace/output_dir/parsed-processed-input.yaml -o ./output_dir/ -v\n"
     ]
    },
    {
     "name": "stderr",
     "output_type": "stream",
     "text": [
      "INFO:pytimeloop.accelergy_interface:Running Accelergy with command: accelergy /home/workspace/output_dir/parsed-processed-input.yaml -o ./output_dir/ -v\n"
     ]
    },
    {
     "name": "stdout",
     "output_type": "stream",
     "text": [
      "Adding energy and cycle stats for l17-l27_conv4_stride1 occurence 1\n",
      "Adding energy and cycle stats for l17-l27_conv4_stride1 occurence 2\n",
      "Adding energy and cycle stats for l17-l27_conv4_stride1 occurence 3\n",
      "Adding energy and cycle stats for l17-l27_conv4_stride1 occurence 4\n",
      "Adding energy and cycle stats for l17-l27_conv4_stride1 occurence 5\n",
      "Adding energy and cycle stats for l17-l27_conv4_stride1 occurence 6\n",
      "Adding energy and cycle stats for l17-l27_conv4_stride1 occurence 7\n",
      "Adding energy and cycle stats for l17-l27_conv4_stride1 occurence 8\n",
      "Adding energy and cycle stats for l17-l27_conv4_stride1 occurence 9\n",
      "Adding energy and cycle stats for l17-l27_conv4_stride1 occurence 10\n",
      "Adding energy and cycle stats for l17-l27_conv4_stride1 occurence 11\n",
      "Running layer 35: l28_conv5_stride2 which occurs 1 times\n",
      "[INFO] 2025-04-28 23:23:08,246 - pytimeloop.accelergy_interface - Running Accelergy with command: accelergy /home/workspace/output_dir/parsed-processed-input.yaml -o ./output_dir/ -v\n"
     ]
    },
    {
     "name": "stderr",
     "output_type": "stream",
     "text": [
      "INFO:pytimeloop.accelergy_interface:Running Accelergy with command: accelergy /home/workspace/output_dir/parsed-processed-input.yaml -o ./output_dir/ -v\n"
     ]
    },
    {
     "name": "stdout",
     "output_type": "stream",
     "text": [
      "Adding energy and cycle stats for l28_conv5_stride2 occurence 1\n",
      "Running layer 37: l29-l33_conv5_stride1 which occurs 5 times\n",
      "[INFO] 2025-04-28 23:23:23,954 - pytimeloop.accelergy_interface - Running Accelergy with command: accelergy /home/workspace/output_dir/parsed-processed-input.yaml -o ./output_dir/ -v\n"
     ]
    },
    {
     "name": "stderr",
     "output_type": "stream",
     "text": [
      "INFO:pytimeloop.accelergy_interface:Running Accelergy with command: accelergy /home/workspace/output_dir/parsed-processed-input.yaml -o ./output_dir/ -v\n"
     ]
    },
    {
     "name": "stdout",
     "output_type": "stream",
     "text": [
      "Adding energy and cycle stats for l29-l33_conv5_stride1 occurence 1\n",
      "Adding energy and cycle stats for l29-l33_conv5_stride1 occurence 2\n",
      "Adding energy and cycle stats for l29-l33_conv5_stride1 occurence 3\n",
      "Adding energy and cycle stats for l29-l33_conv5_stride1 occurence 4\n",
      "Adding energy and cycle stats for l29-l33_conv5_stride1 occurence 5\n",
      "==================================================\n",
      "Starting Timeloop with configuration:\n",
      "  - arch: Architecture.Data_Parallel\n",
      "  - scale: GPUMemoryScale.MEMORY_4MB\n",
      "  - rack: RackSize.RACK_2\n",
      "  - peConfig: PEsConfig.PE_2\n",
      "==================================================\n",
      "Running layer 1: l1_conv1 which occurs 1 times\n",
      "Error running layer l1_conv1: Error loading YAML file /home/workspace/designs/top.yaml.jinja2. Error loading YAML file /home/workspace/designs/system/small_arch.yaml. 'pe_meshX' is undefined\n",
      "Running layer 2: l2_conv2_stride2 which occurs 1 times\n",
      "Running layer 3: l3-l7_conv2_stride1 which occurs 5 times\n",
      "Running layer 4: l8_conv3_stride2 which occurs 1 times\n",
      "Running layer 5: l9-l15_conv3_stride1 which occurs 7 times\n",
      "Running layer 6: l16_conv4_stride2 which occurs 1 times\n",
      "Running layer 7: l17-l27_conv4_stride1 which occurs 11 times\n",
      "Running layer 8: l28_conv5_stride2 which occurs 1 times\n",
      "Running layer 9: l29-l33_conv5_stride1 which occurs 5 times\n"
     ]
    },
    {
     "ename": "AssertionError",
     "evalue": "",
     "output_type": "error",
     "traceback": [
      "\u001b[0;31m---------------------------------------------------------------------------\u001b[0m",
      "\u001b[0;31mAssertionError\u001b[0m                            Traceback (most recent call last)",
      "Cell \u001b[0;32mIn[2], line 4\u001b[0m\n\u001b[1;32m      1\u001b[0m \u001b[38;5;66;03m# debug currently set to True, set to False to run\u001b[39;00m\n\u001b[1;32m      2\u001b[0m \u001b[38;5;66;03m# controller = TimeLoopExperimentController(True)\u001b[39;00m\n\u001b[1;32m      3\u001b[0m controller \u001b[38;5;241m=\u001b[39m TimeLoopExperimentController(\u001b[38;5;28;01mFalse\u001b[39;00m)\n\u001b[0;32m----> 4\u001b[0m \u001b[43mcontroller\u001b[49m\u001b[38;5;241;43m.\u001b[39;49m\u001b[43mrun_all\u001b[49m\u001b[43m(\u001b[49m\u001b[43m)\u001b[49m\n\u001b[1;32m      5\u001b[0m controller\u001b[38;5;241m.\u001b[39mplot_results()\n",
      "File \u001b[0;32m~/main.py:72\u001b[0m, in \u001b[0;36mTimeLoopExperimentController.run_all\u001b[0;34m(self)\u001b[0m\n\u001b[1;32m     69\u001b[0m architecture \u001b[38;5;241m=\u001b[39m WorkloadStrategy(arch, scale, peConfig\u001b[38;5;241m.\u001b[39mvalue, rack\u001b[38;5;241m.\u001b[39mvalue,  \u001b[38;5;28mself\u001b[39m\u001b[38;5;241m.\u001b[39mdebug)\n\u001b[1;32m     70\u001b[0m results \u001b[38;5;241m=\u001b[39m architecture\u001b[38;5;241m.\u001b[39mrun_workload()\n\u001b[0;32m---> 72\u001b[0m \u001b[38;5;28;43mself\u001b[39;49m\u001b[38;5;241;43m.\u001b[39;49m\u001b[43m__check_returned_vals\u001b[49m\u001b[43m(\u001b[49m\u001b[43mresults\u001b[49m\u001b[43m)\u001b[49m\n\u001b[1;32m     74\u001b[0m \u001b[38;5;28mself\u001b[39m\u001b[38;5;241m.\u001b[39mresults\u001b[38;5;241m.\u001b[39madd(\n\u001b[1;32m     75\u001b[0m     arch,\n\u001b[1;32m     76\u001b[0m     scale,\n\u001b[0;32m   (...)\u001b[0m\n\u001b[1;32m     85\u001b[0m     ring_hop_energy\u001b[38;5;241m=\u001b[39mresults[ResultKeys\u001b[38;5;241m.\u001b[39mRING_HOP_ENERGY],\n\u001b[1;32m     86\u001b[0m )\n\u001b[1;32m     88\u001b[0m \u001b[38;5;66;03m# Ensure we save to persistent file to skip computations in the future\u001b[39;00m\n",
      "File \u001b[0;32m~/main.py:21\u001b[0m, in \u001b[0;36mTimeLoopExperimentController.__check_returned_vals\u001b[0;34m(self, results)\u001b[0m\n\u001b[1;32m     19\u001b[0m \u001b[38;5;28;01mdef\u001b[39;00m\u001b[38;5;250m \u001b[39m\u001b[38;5;21m__check_returned_vals\u001b[39m(\u001b[38;5;28mself\u001b[39m, results):\n\u001b[1;32m     20\u001b[0m     \u001b[38;5;66;03m# Make sure each layer was accounted for\u001b[39;00m\n\u001b[0;32m---> 21\u001b[0m     \u001b[38;5;28;01massert\u001b[39;00m \u001b[38;5;28mlen\u001b[39m(results[\u001b[38;5;124m\"\u001b[39m\u001b[38;5;124mcycles\u001b[39m\u001b[38;5;124m\"\u001b[39m]) \u001b[38;5;241m==\u001b[39m \u001b[38;5;28msum\u001b[39m(resnet_18_layers\u001b[38;5;241m.\u001b[39mvalues())\n\u001b[1;32m     23\u001b[0m     \u001b[38;5;66;03m# Make sure returned values is of correct shape\u001b[39;00m\n\u001b[1;32m     24\u001b[0m     required_keys \u001b[38;5;241m=\u001b[39m {\n\u001b[1;32m     25\u001b[0m         ResultKeys\u001b[38;5;241m.\u001b[39mENERGY: \u001b[38;5;28mlist\u001b[39m,\n\u001b[1;32m     26\u001b[0m         ResultKeys\u001b[38;5;241m.\u001b[39mCYCLES: \u001b[38;5;28mlist\u001b[39m,\n\u001b[0;32m   (...)\u001b[0m\n\u001b[1;32m     31\u001b[0m         ResultKeys\u001b[38;5;241m.\u001b[39mRING_HOP_ENERGY: (\u001b[38;5;28mint\u001b[39m, \u001b[38;5;28mfloat\u001b[39m),\n\u001b[1;32m     32\u001b[0m     }\n",
      "\u001b[0;31mAssertionError\u001b[0m: "
     ]
    }
   ],
   "source": [
    "# debug currently set to True, set to False to run\n",
    "# controller = TimeLoopExperimentController(True)\n",
    "controller = TimeLoopExperimentController(False)\n",
    "controller.run_all()\n",
    "controller.plot_results()"
   ]
  },
  {
   "cell_type": "code",
   "execution_count": 2,
   "id": "2ef216e9-61bb-4991-af1f-a0f9093371cd",
   "metadata": {},
   "outputs": [
    {
     "name": "stdout",
     "output_type": "stream",
     "text": [
      "==================================================\n",
      "Starting Timeloop with configuration:\n",
      "  - arch: Architecture.Data_Parallel\n",
      "  - scale: GPUMemoryScale.MEMORY_4MB\n",
      "  - rack: RackSize.RACK_2\n",
      "  - peConfig: PEsConfig.PE_2\n",
      "==================================================\n",
      "Running layer 1: l1_conv1 which occurs 1 times\n",
      "[INFO] 2025-04-29 04:33:25,803 - pytimeloop.accelergy_interface - Running Accelergy with command: accelergy /home/workspace/output_dir/parsed-processed-input.yaml -o ./output_dir/ -v\n"
     ]
    },
    {
     "name": "stderr",
     "output_type": "stream",
     "text": [
      "INFO:pytimeloop.accelergy_interface:Running Accelergy with command: accelergy /home/workspace/output_dir/parsed-processed-input.yaml -o ./output_dir/ -v\n"
     ]
    },
    {
     "name": "stdout",
     "output_type": "stream",
     "text": [
      "Error running layer l1_conv1: \n",
      "\n",
      "========================================================================================================================\n",
      "Timeloop model failed with return code 1. Please check the output files in ./output_dir for more information. To debug, you can edit the file:\n",
      "\t./output_dir/parsed-processed-input.yaml\n",
      "and run \n",
      "\ttl model ./output_dir/parsed-processed-input.yaml\n",
      "to see the error. If you're running the mapper and Timeloop can't find a vaild mapping, try setting 'diagnostics: true' in the mapper input specification.\n",
      "Running layer 2: l2_conv2_stride2 which occurs 1 times\n",
      "Running layer 3: l3-l7_conv2_stride1 which occurs 5 times\n",
      "Running layer 4: l8_conv3_stride2 which occurs 1 times\n",
      "Running layer 5: l9-l15_conv3_stride1 which occurs 7 times\n",
      "Running layer 6: l16_conv4_stride2 which occurs 1 times\n",
      "Running layer 7: l17-l27_conv4_stride1 which occurs 11 times\n",
      "Running layer 8: l28_conv5_stride2 which occurs 1 times\n",
      "Running layer 9: l29-l33_conv5_stride1 which occurs 5 times\n"
     ]
    },
    {
     "ename": "AssertionError",
     "evalue": "",
     "output_type": "error",
     "traceback": [
      "\u001b[0;31m---------------------------------------------------------------------------\u001b[0m",
      "\u001b[0;31mAssertionError\u001b[0m                            Traceback (most recent call last)",
      "Cell \u001b[0;32mIn[2], line 4\u001b[0m\n\u001b[1;32m      1\u001b[0m \u001b[38;5;66;03m# debug currently set to True, set to False to run\u001b[39;00m\n\u001b[1;32m      2\u001b[0m \u001b[38;5;66;03m# controller = TimeLoopExperimentController(True)\u001b[39;00m\n\u001b[1;32m      3\u001b[0m controller \u001b[38;5;241m=\u001b[39m TimeLoopExperimentController(\u001b[38;5;28;01mFalse\u001b[39;00m)\n\u001b[0;32m----> 4\u001b[0m \u001b[43mcontroller\u001b[49m\u001b[38;5;241;43m.\u001b[39;49m\u001b[43mrun_arch\u001b[49m\u001b[43m(\u001b[49m\u001b[43mArchitecture\u001b[49m\u001b[38;5;241;43m.\u001b[39;49m\u001b[43mData_Parallel\u001b[49m\u001b[43m,\u001b[49m\u001b[43m \u001b[49m\u001b[38;5;124;43m\"\u001b[39;49m\u001b[38;5;124;43mresults_April 28, 2025 01:15:48 PM EST.json\u001b[39;49m\u001b[38;5;124;43m\"\u001b[39;49m\u001b[43m,\u001b[49m\u001b[43m \u001b[49m\u001b[38;5;124;43m\"\u001b[39;49m\u001b[38;5;124;43mpersisted_results\u001b[39;49m\u001b[38;5;124;43m\"\u001b[39;49m\u001b[43m)\u001b[49m\n\u001b[1;32m      5\u001b[0m controller\u001b[38;5;241m.\u001b[39mplot_results()\n",
      "File \u001b[0;32m~/main.py:117\u001b[0m, in \u001b[0;36mTimeLoopExperimentController.run_arch\u001b[0;34m(self, arch, filename, filedir)\u001b[0m\n\u001b[1;32m    114\u001b[0m architecture \u001b[38;5;241m=\u001b[39m WorkloadStrategy(arch, scale, peConfig\u001b[38;5;241m.\u001b[39mvalue, rack\u001b[38;5;241m.\u001b[39mvalue,  \u001b[38;5;28mself\u001b[39m\u001b[38;5;241m.\u001b[39mdebug)\n\u001b[1;32m    115\u001b[0m results \u001b[38;5;241m=\u001b[39m architecture\u001b[38;5;241m.\u001b[39mrun_workload()\n\u001b[0;32m--> 117\u001b[0m \u001b[38;5;28;43mself\u001b[39;49m\u001b[38;5;241;43m.\u001b[39;49m\u001b[43m__check_returned_vals\u001b[49m\u001b[43m(\u001b[49m\u001b[43mresults\u001b[49m\u001b[43m)\u001b[49m\n\u001b[1;32m    119\u001b[0m \u001b[38;5;28mself\u001b[39m\u001b[38;5;241m.\u001b[39mresults\u001b[38;5;241m.\u001b[39madd(\n\u001b[1;32m    120\u001b[0m     arch,\n\u001b[1;32m    121\u001b[0m     scale,\n\u001b[0;32m   (...)\u001b[0m\n\u001b[1;32m    130\u001b[0m     ring_hop_energy\u001b[38;5;241m=\u001b[39mresults[ResultKeys\u001b[38;5;241m.\u001b[39mRING_HOP_ENERGY],\n\u001b[1;32m    131\u001b[0m )\n\u001b[1;32m    133\u001b[0m \u001b[38;5;66;03m# Ensure we save to persistent file to skip computations in the future\u001b[39;00m\n",
      "File \u001b[0;32m~/main.py:21\u001b[0m, in \u001b[0;36mTimeLoopExperimentController.__check_returned_vals\u001b[0;34m(self, results)\u001b[0m\n\u001b[1;32m     19\u001b[0m \u001b[38;5;28;01mdef\u001b[39;00m\u001b[38;5;250m \u001b[39m\u001b[38;5;21m__check_returned_vals\u001b[39m(\u001b[38;5;28mself\u001b[39m, results):\n\u001b[1;32m     20\u001b[0m     \u001b[38;5;66;03m# Make sure each layer was accounted for\u001b[39;00m\n\u001b[0;32m---> 21\u001b[0m     \u001b[38;5;28;01massert\u001b[39;00m \u001b[38;5;28mlen\u001b[39m(results[\u001b[38;5;124m\"\u001b[39m\u001b[38;5;124mcycles\u001b[39m\u001b[38;5;124m\"\u001b[39m]) \u001b[38;5;241m==\u001b[39m \u001b[38;5;28msum\u001b[39m(resnet_18_layers\u001b[38;5;241m.\u001b[39mvalues())\n\u001b[1;32m     23\u001b[0m     \u001b[38;5;66;03m# Make sure returned values is of correct shape\u001b[39;00m\n\u001b[1;32m     24\u001b[0m     required_keys \u001b[38;5;241m=\u001b[39m {\n\u001b[1;32m     25\u001b[0m         ResultKeys\u001b[38;5;241m.\u001b[39mENERGY: \u001b[38;5;28mlist\u001b[39m,\n\u001b[1;32m     26\u001b[0m         ResultKeys\u001b[38;5;241m.\u001b[39mCYCLES: \u001b[38;5;28mlist\u001b[39m,\n\u001b[0;32m   (...)\u001b[0m\n\u001b[1;32m     31\u001b[0m         ResultKeys\u001b[38;5;241m.\u001b[39mRING_HOP_ENERGY: (\u001b[38;5;28mint\u001b[39m, \u001b[38;5;28mfloat\u001b[39m),\n\u001b[1;32m     32\u001b[0m     }\n",
      "\u001b[0;31mAssertionError\u001b[0m: "
     ]
    }
   ],
   "source": [
    "# debug currently set to True, set to False to run\n",
    "# controller = TimeLoopExperimentController(True)\n",
    "controller = TimeLoopExperimentController(False)\n",
    "controller.run_arch(Architecture.Data_Parallel, \"results_April 28, 2025 01:15:48 PM EST.json\", \"persisted_results\")\n",
    "controller.plot_results()"
   ]
  },
  {
   "cell_type": "code",
   "execution_count": null,
   "id": "6063380b-ba1b-46d8-a3a2-95d7fe35afcd",
   "metadata": {},
   "outputs": [],
   "source": []
  }
 ],
 "metadata": {
  "kernelspec": {
   "display_name": "Python 3 (ipykernel)",
   "language": "python",
   "name": "python3"
  },
  "language_info": {
   "codemirror_mode": {
    "name": "ipython",
    "version": 3
   },
   "file_extension": ".py",
   "mimetype": "text/x-python",
   "name": "python",
   "nbconvert_exporter": "python",
   "pygments_lexer": "ipython3",
   "version": "3.10.12"
  }
 },
 "nbformat": 4,
 "nbformat_minor": 5
}
