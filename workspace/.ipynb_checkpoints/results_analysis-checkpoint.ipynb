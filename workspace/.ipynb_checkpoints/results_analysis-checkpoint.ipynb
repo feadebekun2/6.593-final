{
 "cells": [
  {
   "cell_type": "code",
   "execution_count": 1,
   "id": "6c3d4b51-11f2-4bcd-8434-f9940de87d83",
   "metadata": {},
   "outputs": [
    {
     "data": {
      "text/plain": [
       "<module 'matplot_results_plotter.matplot_results_plotter' from '/home/workspace/matplot_results_plotter/matplot_results_plotter.py'>"
      ]
     },
     "execution_count": 1,
     "metadata": {},
     "output_type": "execute_result"
    }
   ],
   "source": [
    "import importlib\n",
    "from main import TimeLoopExperimentController\n",
    "import architectures.architecture_strategy\n",
    "import architectures.architecture_constants\n",
    "from architecture_results.derived_metrics_evaluator import DerivedMetricsEvaluator\n",
    "import matplot_results_plotter.matplot_results_plotter\n",
    "from architectures.architecture_constants import Architecture, GPUMemoryScale, RackSize, PEsConfig, base_config, resnet_18_layers\n",
    "\n",
    "import matplotlib.pyplot as plt\n",
    "\n",
    "importlib.reload(architectures.architecture_strategy)\n",
    "importlib.reload(architectures.architecture_constants)\n",
    "importlib.reload(matplot_results_plotter.matplot_results_plotter)"
   ]
  },
  {
   "cell_type": "code",
   "execution_count": 2,
   "id": "e248ef14-6532-4f18-a7c8-32661abe2b29",
   "metadata": {},
   "outputs": [
    {
     "name": "stdout",
     "output_type": "stream",
     "text": [
      "DerivedMetricsEvaluator created for Base, MEMORY_16MB, RACK_1, PE_4\n",
      "DerivedMetricsEvaluator created for Data_Parallel, MEMORY_16MB, RACK_4, PE_4\n"
     ]
    }
   ],
   "source": [
    "base_estimator = DerivedMetricsEvaluator(Architecture.Base, GPUMemoryScale.MEMORY_16MB, RackSize.RACK_1, PEsConfig.PE_4,'persisted_results/results_May 03, 2025 04:16:57 PM EST')\n",
    "dp_estimator = DerivedMetricsEvaluator(Architecture.Data_Parallel, GPUMemoryScale.MEMORY_16MB, RackSize.RACK_4, PEsConfig.PE_4,'persisted_results/results_May 03, 2025 04:16:57 PM EST')\n",
    "# tp_estimator = DerivedMetricsEvaluator(Architecture.Tensor_Parallel, GPUMemoryScale.MEMORY_4MB, RackSize.RACK_1, PEsConfig.PE_4,'persisted_results/results_May 03, 2025 04:16:57 PM EST')"
   ]
  },
  {
   "cell_type": "code",
   "execution_count": 3,
   "id": "31eb0a97-7eae-4e76-9c99-694b5c1d05a4",
   "metadata": {},
   "outputs": [
    {
     "name": "stdout",
     "output_type": "stream",
     "text": [
      "Found folder: l9-l15_conv3_stride1\n",
      "Found folder: l1_conv1\n",
      "Found folder: l29-l33_conv5_stride1\n",
      "Found folder: l16_conv4_stride2\n",
      "Found folder: l28_conv5_stride2\n",
      "Found folder: l8_conv3_stride2\n",
      "Found folder: l3-l7_conv2_stride1\n",
      "Found folder: l17-l27_conv4_stride1\n",
      "Found folder: l2_conv2_stride2\n",
      "{'total_cycles': 15799418880, 'total_energy': 6849659.83}\n"
     ]
    }
   ],
   "source": [
    "results = base_estimator.get_onchip_results()\n",
    "print(results)"
   ]
  },
  {
   "cell_type": "code",
   "execution_count": 4,
   "id": "fc6aace5-1cc7-471a-9532-e339dbe69b4f",
   "metadata": {},
   "outputs": [
    {
     "name": "stdout",
     "output_type": "stream",
     "text": [
      "Found folder: l9-l15_conv3_stride1\n",
      "Found folder: l9-l15_conv3_stride1\n",
      "Found folder: l9-l15_conv3_stride1\n",
      "Found folder: l9-l15_conv3_stride1\n",
      "Found folder: l9-l15_conv3_stride1\n",
      "Found folder: l9-l15_conv3_stride1\n",
      "Found folder: l9-l15_conv3_stride1\n",
      "Found folder: l1_conv1\n",
      "Found folder: l29-l33_conv5_stride1\n",
      "Found folder: l29-l33_conv5_stride1\n",
      "Found folder: l29-l33_conv5_stride1\n",
      "Found folder: l29-l33_conv5_stride1\n",
      "Found folder: l29-l33_conv5_stride1\n",
      "Found folder: l16_conv4_stride2\n",
      "Found folder: l28_conv5_stride2\n",
      "Found folder: l8_conv3_stride2\n",
      "Found folder: l3-l7_conv2_stride1\n",
      "Found folder: l3-l7_conv2_stride1\n",
      "Found folder: l3-l7_conv2_stride1\n",
      "Found folder: l3-l7_conv2_stride1\n",
      "Found folder: l3-l7_conv2_stride1\n",
      "Found folder: l17-l27_conv4_stride1\n",
      "Found folder: l17-l27_conv4_stride1\n",
      "Found folder: l17-l27_conv4_stride1\n",
      "Found folder: l17-l27_conv4_stride1\n",
      "Found folder: l17-l27_conv4_stride1\n",
      "Found folder: l17-l27_conv4_stride1\n",
      "Found folder: l17-l27_conv4_stride1\n",
      "Found folder: l17-l27_conv4_stride1\n",
      "Found folder: l17-l27_conv4_stride1\n",
      "Found folder: l17-l27_conv4_stride1\n",
      "Found folder: l17-l27_conv4_stride1\n",
      "Found folder: l2_conv2_stride2\n",
      "Found folder: l9-l15_conv3_stride1\n",
      "Found folder: l1_conv1\n",
      "Found folder: l29-l33_conv5_stride1\n",
      "Found folder: l16_conv4_stride2\n",
      "Found folder: l28_conv5_stride2\n",
      "Found folder: l8_conv3_stride2\n",
      "Found folder: l3-l7_conv2_stride1\n",
      "Found folder: l17-l27_conv4_stride1\n",
      "Found folder: l2_conv2_stride2\n",
      "Found folder: l9-l15_conv3_stride1\n",
      "Found folder: l9-l15_conv3_stride1\n",
      "Found folder: l9-l15_conv3_stride1\n",
      "Found folder: l9-l15_conv3_stride1\n",
      "Found folder: l9-l15_conv3_stride1\n",
      "Found folder: l9-l15_conv3_stride1\n",
      "Found folder: l9-l15_conv3_stride1\n",
      "Found folder: l1_conv1\n",
      "Found folder: l29-l33_conv5_stride1\n",
      "Found folder: l29-l33_conv5_stride1\n",
      "Found folder: l29-l33_conv5_stride1\n",
      "Found folder: l29-l33_conv5_stride1\n",
      "Found folder: l29-l33_conv5_stride1\n",
      "Found folder: l16_conv4_stride2\n",
      "Found folder: l28_conv5_stride2\n",
      "Found folder: l8_conv3_stride2\n",
      "Found folder: l3-l7_conv2_stride1\n",
      "Found folder: l3-l7_conv2_stride1\n",
      "Found folder: l3-l7_conv2_stride1\n",
      "Found folder: l3-l7_conv2_stride1\n",
      "Found folder: l3-l7_conv2_stride1\n",
      "Found folder: l17-l27_conv4_stride1\n",
      "Found folder: l17-l27_conv4_stride1\n",
      "Found folder: l17-l27_conv4_stride1\n",
      "Found folder: l17-l27_conv4_stride1\n",
      "Found folder: l17-l27_conv4_stride1\n",
      "Found folder: l17-l27_conv4_stride1\n",
      "Found folder: l17-l27_conv4_stride1\n",
      "Found folder: l17-l27_conv4_stride1\n",
      "Found folder: l17-l27_conv4_stride1\n",
      "Found folder: l17-l27_conv4_stride1\n",
      "Found folder: l17-l27_conv4_stride1\n",
      "Found folder: l2_conv2_stride2\n",
      "Found folder: l9-l15_conv3_stride1\n",
      "Found folder: l1_conv1\n",
      "Found folder: l29-l33_conv5_stride1\n",
      "Found folder: l16_conv4_stride2\n",
      "Found folder: l28_conv5_stride2\n",
      "Found folder: l8_conv3_stride2\n",
      "Found folder: l3-l7_conv2_stride1\n",
      "Found folder: l17-l27_conv4_stride1\n",
      "Found folder: l2_conv2_stride2\n",
      "--------STAR-------------\n",
      "{'total_network_bytes': 27935744.0, 'total_network_hops': 0.0111742976, 'total_network_latency': 0.8939438080000001, 'total_network_energy': 1.4303100928e-06, 'total_onchip_bytes': 270701727584.0, 'total_onchip_latency': 3949854720, 'total_onchip_energy': 2416063.46}\n",
      "--------RING------------\n",
      "{'total_network_bytes': 27935744.0, 'total_network_hops': 0.007449531733333334, 'total_network_latency': 0.5959625386666667, 'total_network_energy': 9.535400618666667e-07, 'total_onchip_bytes': 270701727584.0, 'total_onchip_latency': 3949854720, 'total_onchip_energy': 2416063.46}\n"
     ]
    }
   ],
   "source": [
    "dp_star_results = dp_estimator.derive_total_star_results()\n",
    "dp_ring_results = dp_estimator.derive_total_ring_results()\n",
    "print(\"--------STAR-------------\")\n",
    "print(dp_star_results)\n",
    "print(\"--------RING------------\")\n",
    "print(dp_ring_results)"
   ]
  },
  {
   "cell_type": "code",
   "execution_count": null,
   "id": "5f95e44f-cf19-4057-96df-3bcfc363f160",
   "metadata": {},
   "outputs": [],
   "source": []
  }
 ],
 "metadata": {
  "kernelspec": {
   "display_name": "Python 3 (ipykernel)",
   "language": "python",
   "name": "python3"
  },
  "language_info": {
   "codemirror_mode": {
    "name": "ipython",
    "version": 3
   },
   "file_extension": ".py",
   "mimetype": "text/x-python",
   "name": "python",
   "nbconvert_exporter": "python",
   "pygments_lexer": "ipython3",
   "version": "3.10.12"
  }
 },
 "nbformat": 4,
 "nbformat_minor": 5
}
