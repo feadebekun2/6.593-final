{
 "cells": [
  {
   "cell_type": "code",
   "execution_count": 1,
   "id": "2b77b11d-5ffc-4aeb-8cd7-9181357dc551",
   "metadata": {},
   "outputs": [
    {
     "data": {
      "text/plain": [
       "<module 'matplot_results_plotter.matplot_results_plotter' from '/home/workspace/matplot_results_plotter/matplot_results_plotter.py'>"
      ]
     },
     "execution_count": 1,
     "metadata": {},
     "output_type": "execute_result"
    }
   ],
   "source": [
    "import importlib\n",
    "from main import TimeLoopExperimentController\n",
    "import architectures.architecture_strategy\n",
    "import architectures.architecture_constants\n",
    "import architecture_results.derived_metrics_evaluator\n",
    "import matplot_results_plotter.matplot_results_plotter\n",
    "\n",
    "from architectures.architecture_constants import Architecture, GPUMemoryScale, RackSize, PEsConfig, base_config, resnet_18_layers\n",
    "\n",
    "import matplotlib.pyplot as plt\n",
    "\n",
    "importlib.reload(architectures.architecture_strategy)\n",
    "importlib.reload(architectures.architecture_constants)\n",
    "importlib.reload(architecture_results.derived_metrics_evaluator)\n",
    "importlib.reload(matplot_results_plotter.matplot_results_plotter)"
   ]
  },
  {
   "cell_type": "code",
   "execution_count": 2,
   "id": "5cb5f0f5-9910-4686-8dd1-c92799431b6b",
   "metadata": {
    "scrolled": true
   },
   "outputs": [
    {
     "name": "stdout",
     "output_type": "stream",
     "text": [
      "==================================================\n",
      "Starting Timeloop with configuration:\n",
      "  - arch: Architecture.Base\n",
      "  - scale: GPUMemoryScale.MEMORY_4MB\n",
      "  - rack: RackSize.RACK_4\n",
      "  - peConfig: PEsConfig.PE_1\n",
      "==================================================\n",
      "Running layer 1: l1_conv1 which occurs 1 times\n",
      "[INFO] 2025-04-30 15:35:08,458 - pytimeloop.accelergy_interface - Running Accelergy with command: accelergy /home/workspace/output_dir/parsed-processed-input.yaml -o ./output_dir/ -v\n"
     ]
    },
    {
     "name": "stderr",
     "output_type": "stream",
     "text": [
      "INFO:pytimeloop.accelergy_interface:Running Accelergy with command: accelergy /home/workspace/output_dir/parsed-processed-input.yaml -o ./output_dir/ -v\n"
     ]
    },
    {
     "name": "stdout",
     "output_type": "stream",
     "text": [
      "Adding energy and cycle stats for l1_conv1 occurence 1\n",
      "Running layer 2: l2_conv2_stride2 which occurs 1 times\n",
      "[INFO] 2025-04-30 15:35:21,830 - pytimeloop.accelergy_interface - Running Accelergy with command: accelergy /home/workspace/output_dir/parsed-processed-input.yaml -o ./output_dir/ -v\n"
     ]
    },
    {
     "name": "stderr",
     "output_type": "stream",
     "text": [
      "INFO:pytimeloop.accelergy_interface:Running Accelergy with command: accelergy /home/workspace/output_dir/parsed-processed-input.yaml -o ./output_dir/ -v\n"
     ]
    },
    {
     "name": "stdout",
     "output_type": "stream",
     "text": [
      "Adding energy and cycle stats for l2_conv2_stride2 occurence 1\n",
      "Running layer 3: l3-l7_conv2_stride1 which occurs 5 times\n",
      "[INFO] 2025-04-30 15:35:36,187 - pytimeloop.accelergy_interface - Running Accelergy with command: accelergy /home/workspace/output_dir/parsed-processed-input.yaml -o ./output_dir/ -v\n"
     ]
    },
    {
     "name": "stderr",
     "output_type": "stream",
     "text": [
      "INFO:pytimeloop.accelergy_interface:Running Accelergy with command: accelergy /home/workspace/output_dir/parsed-processed-input.yaml -o ./output_dir/ -v\n"
     ]
    },
    {
     "name": "stdout",
     "output_type": "stream",
     "text": [
      "Adding energy and cycle stats for l3-l7_conv2_stride1 occurence 1\n",
      "Adding energy and cycle stats for l3-l7_conv2_stride1 occurence 2\n",
      "Adding energy and cycle stats for l3-l7_conv2_stride1 occurence 3\n",
      "Adding energy and cycle stats for l3-l7_conv2_stride1 occurence 4\n",
      "Adding energy and cycle stats for l3-l7_conv2_stride1 occurence 5\n",
      "Running layer 8: l8_conv3_stride2 which occurs 1 times\n",
      "[INFO] 2025-04-30 15:35:49,969 - pytimeloop.accelergy_interface - Running Accelergy with command: accelergy /home/workspace/output_dir/parsed-processed-input.yaml -o ./output_dir/ -v\n"
     ]
    },
    {
     "name": "stderr",
     "output_type": "stream",
     "text": [
      "INFO:pytimeloop.accelergy_interface:Running Accelergy with command: accelergy /home/workspace/output_dir/parsed-processed-input.yaml -o ./output_dir/ -v\n"
     ]
    },
    {
     "name": "stdout",
     "output_type": "stream",
     "text": [
      "Adding energy and cycle stats for l8_conv3_stride2 occurence 1\n",
      "Running layer 9: l9-l15_conv3_stride1 which occurs 7 times\n",
      "[INFO] 2025-04-30 15:36:03,555 - pytimeloop.accelergy_interface - Running Accelergy with command: accelergy /home/workspace/output_dir/parsed-processed-input.yaml -o ./output_dir/ -v\n"
     ]
    },
    {
     "name": "stderr",
     "output_type": "stream",
     "text": [
      "INFO:pytimeloop.accelergy_interface:Running Accelergy with command: accelergy /home/workspace/output_dir/parsed-processed-input.yaml -o ./output_dir/ -v\n"
     ]
    },
    {
     "name": "stdout",
     "output_type": "stream",
     "text": [
      "Adding energy and cycle stats for l9-l15_conv3_stride1 occurence 1\n",
      "Adding energy and cycle stats for l9-l15_conv3_stride1 occurence 2\n",
      "Adding energy and cycle stats for l9-l15_conv3_stride1 occurence 3\n",
      "Adding energy and cycle stats for l9-l15_conv3_stride1 occurence 4\n",
      "Adding energy and cycle stats for l9-l15_conv3_stride1 occurence 5\n",
      "Adding energy and cycle stats for l9-l15_conv3_stride1 occurence 6\n",
      "Adding energy and cycle stats for l9-l15_conv3_stride1 occurence 7\n",
      "Running layer 16: l16_conv4_stride2 which occurs 1 times\n",
      "[INFO] 2025-04-30 15:36:17,427 - pytimeloop.accelergy_interface - Running Accelergy with command: accelergy /home/workspace/output_dir/parsed-processed-input.yaml -o ./output_dir/ -v\n"
     ]
    },
    {
     "name": "stderr",
     "output_type": "stream",
     "text": [
      "INFO:pytimeloop.accelergy_interface:Running Accelergy with command: accelergy /home/workspace/output_dir/parsed-processed-input.yaml -o ./output_dir/ -v\n"
     ]
    },
    {
     "name": "stdout",
     "output_type": "stream",
     "text": [
      "Adding energy and cycle stats for l16_conv4_stride2 occurence 1\n",
      "Running layer 17: l17-l27_conv4_stride1 which occurs 11 times\n",
      "[INFO] 2025-04-30 15:36:31,060 - pytimeloop.accelergy_interface - Running Accelergy with command: accelergy /home/workspace/output_dir/parsed-processed-input.yaml -o ./output_dir/ -v\n"
     ]
    },
    {
     "name": "stderr",
     "output_type": "stream",
     "text": [
      "INFO:pytimeloop.accelergy_interface:Running Accelergy with command: accelergy /home/workspace/output_dir/parsed-processed-input.yaml -o ./output_dir/ -v\n"
     ]
    },
    {
     "name": "stdout",
     "output_type": "stream",
     "text": [
      "Adding energy and cycle stats for l17-l27_conv4_stride1 occurence 1\n",
      "Adding energy and cycle stats for l17-l27_conv4_stride1 occurence 2\n",
      "Adding energy and cycle stats for l17-l27_conv4_stride1 occurence 3\n",
      "Adding energy and cycle stats for l17-l27_conv4_stride1 occurence 4\n",
      "Adding energy and cycle stats for l17-l27_conv4_stride1 occurence 5\n",
      "Adding energy and cycle stats for l17-l27_conv4_stride1 occurence 6\n",
      "Adding energy and cycle stats for l17-l27_conv4_stride1 occurence 7\n",
      "Adding energy and cycle stats for l17-l27_conv4_stride1 occurence 8\n",
      "Adding energy and cycle stats for l17-l27_conv4_stride1 occurence 9\n",
      "Adding energy and cycle stats for l17-l27_conv4_stride1 occurence 10\n",
      "Adding energy and cycle stats for l17-l27_conv4_stride1 occurence 11\n",
      "Running layer 28: l28_conv5_stride2 which occurs 1 times\n",
      "[INFO] 2025-04-30 15:36:45,361 - pytimeloop.accelergy_interface - Running Accelergy with command: accelergy /home/workspace/output_dir/parsed-processed-input.yaml -o ./output_dir/ -v\n"
     ]
    },
    {
     "name": "stderr",
     "output_type": "stream",
     "text": [
      "INFO:pytimeloop.accelergy_interface:Running Accelergy with command: accelergy /home/workspace/output_dir/parsed-processed-input.yaml -o ./output_dir/ -v\n"
     ]
    },
    {
     "name": "stdout",
     "output_type": "stream",
     "text": [
      "Adding energy and cycle stats for l28_conv5_stride2 occurence 1\n",
      "Running layer 29: l29-l33_conv5_stride1 which occurs 5 times\n",
      "[INFO] 2025-04-30 15:36:59,586 - pytimeloop.accelergy_interface - Running Accelergy with command: accelergy /home/workspace/output_dir/parsed-processed-input.yaml -o ./output_dir/ -v\n"
     ]
    },
    {
     "name": "stderr",
     "output_type": "stream",
     "text": [
      "INFO:pytimeloop.accelergy_interface:Running Accelergy with command: accelergy /home/workspace/output_dir/parsed-processed-input.yaml -o ./output_dir/ -v\n"
     ]
    },
    {
     "name": "stdout",
     "output_type": "stream",
     "text": [
      "Adding energy and cycle stats for l29-l33_conv5_stride1 occurence 1\n",
      "Adding energy and cycle stats for l29-l33_conv5_stride1 occurence 2\n",
      "Adding energy and cycle stats for l29-l33_conv5_stride1 occurence 3\n",
      "Adding energy and cycle stats for l29-l33_conv5_stride1 occurence 4\n",
      "Adding energy and cycle stats for l29-l33_conv5_stride1 occurence 5\n",
      "==================================================\n",
      "Starting Timeloop with configuration:\n",
      "  - arch: Architecture.Base\n",
      "  - scale: GPUMemoryScale.MEMORY_4MB\n",
      "  - rack: RackSize.RACK_4\n",
      "  - peConfig: PEsConfig.PE_4\n",
      "==================================================\n",
      "Running layer 1: l1_conv1 which occurs 1 times\n",
      "[INFO] 2025-04-30 15:37:14,642 - pytimeloop.accelergy_interface - Running Accelergy with command: accelergy /home/workspace/output_dir/parsed-processed-input.yaml -o ./output_dir/ -v\n"
     ]
    },
    {
     "name": "stderr",
     "output_type": "stream",
     "text": [
      "INFO:pytimeloop.accelergy_interface:Running Accelergy with command: accelergy /home/workspace/output_dir/parsed-processed-input.yaml -o ./output_dir/ -v\n"
     ]
    },
    {
     "name": "stdout",
     "output_type": "stream",
     "text": [
      "Adding energy and cycle stats for l1_conv1 occurence 1\n",
      "Running layer 2: l2_conv2_stride2 which occurs 1 times\n",
      "[INFO] 2025-04-30 15:37:29,644 - pytimeloop.accelergy_interface - Running Accelergy with command: accelergy /home/workspace/output_dir/parsed-processed-input.yaml -o ./output_dir/ -v\n"
     ]
    },
    {
     "name": "stderr",
     "output_type": "stream",
     "text": [
      "INFO:pytimeloop.accelergy_interface:Running Accelergy with command: accelergy /home/workspace/output_dir/parsed-processed-input.yaml -o ./output_dir/ -v\n"
     ]
    },
    {
     "name": "stdout",
     "output_type": "stream",
     "text": [
      "Adding energy and cycle stats for l2_conv2_stride2 occurence 1\n",
      "Running layer 3: l3-l7_conv2_stride1 which occurs 5 times\n",
      "[INFO] 2025-04-30 15:37:45,958 - pytimeloop.accelergy_interface - Running Accelergy with command: accelergy /home/workspace/output_dir/parsed-processed-input.yaml -o ./output_dir/ -v\n"
     ]
    },
    {
     "name": "stderr",
     "output_type": "stream",
     "text": [
      "INFO:pytimeloop.accelergy_interface:Running Accelergy with command: accelergy /home/workspace/output_dir/parsed-processed-input.yaml -o ./output_dir/ -v\n"
     ]
    },
    {
     "ename": "KeyboardInterrupt",
     "evalue": "",
     "output_type": "error",
     "traceback": [
      "\u001b[0;31m---------------------------------------------------------------------------\u001b[0m",
      "\u001b[0;31mKeyboardInterrupt\u001b[0m                         Traceback (most recent call last)",
      "Cell \u001b[0;32mIn[2], line 4\u001b[0m\n\u001b[1;32m      1\u001b[0m \u001b[38;5;66;03m# debug currently set to True, set to False to run\u001b[39;00m\n\u001b[1;32m      2\u001b[0m \u001b[38;5;66;03m# controller = TimeLoopExperimentController(True)\u001b[39;00m\n\u001b[1;32m      3\u001b[0m controller \u001b[38;5;241m=\u001b[39m TimeLoopExperimentController(\u001b[38;5;28;01mFalse\u001b[39;00m)\n\u001b[0;32m----> 4\u001b[0m \u001b[43mcontroller\u001b[49m\u001b[38;5;241;43m.\u001b[39;49m\u001b[43mrun_all\u001b[49m\u001b[43m(\u001b[49m\u001b[43m)\u001b[49m\n\u001b[1;32m      5\u001b[0m controller\u001b[38;5;241m.\u001b[39mplot_results()\n",
      "File \u001b[0;32m~/main.py:75\u001b[0m, in \u001b[0;36mTimeLoopExperimentController.run_all\u001b[0;34m(self)\u001b[0m\n\u001b[1;32m     72\u001b[0m     \u001b[38;5;28;01mcontinue\u001b[39;00m\n\u001b[1;32m     74\u001b[0m architecture \u001b[38;5;241m=\u001b[39m WorkloadStrategy(arch, scale, peConfig\u001b[38;5;241m.\u001b[39mvalue, rack\u001b[38;5;241m.\u001b[39mvalue,  \u001b[38;5;28mself\u001b[39m\u001b[38;5;241m.\u001b[39mdebug)\n\u001b[0;32m---> 75\u001b[0m results, layer_stats, layer_mappings \u001b[38;5;241m=\u001b[39m \u001b[43marchitecture\u001b[49m\u001b[38;5;241;43m.\u001b[39;49m\u001b[43mrun_workload\u001b[49m\u001b[43m(\u001b[49m\u001b[43m)\u001b[49m\n\u001b[1;32m     77\u001b[0m \u001b[38;5;28mself\u001b[39m\u001b[38;5;241m.\u001b[39m__check_returned_vals(results)\n\u001b[1;32m     80\u001b[0m \u001b[38;5;66;03m#add per-layer stats results into sub-dir. \u001b[39;00m\n",
      "File \u001b[0;32m~/architectures/architecture_strategy.py:89\u001b[0m, in \u001b[0;36mWorkloadStrategy.run_workload\u001b[0;34m(self)\u001b[0m\n\u001b[1;32m     86\u001b[0m \u001b[38;5;66;03m# If debug is disabled, run the actual config\u001b[39;00m\n\u001b[1;32m     87\u001b[0m \u001b[38;5;28;01melse\u001b[39;00m:\n\u001b[1;32m     88\u001b[0m     \u001b[38;5;28;01mtry\u001b[39;00m:\n\u001b[0;32m---> 89\u001b[0m         result \u001b[38;5;241m=\u001b[39m \u001b[43mrun_timeloop_mapper\u001b[49m\u001b[43m(\u001b[49m\n\u001b[1;32m     90\u001b[0m \u001b[43m            \u001b[49m\u001b[43m{\u001b[49m\u001b[38;5;124;43m'\u001b[39;49m\u001b[38;5;124;43mnum_gpus\u001b[39;49m\u001b[38;5;124;43m'\u001b[39;49m\u001b[43m:\u001b[49m\u001b[43m \u001b[49m\u001b[38;5;28;43mself\u001b[39;49m\u001b[38;5;241;43m.\u001b[39;49m\u001b[43mnum_gpus\u001b[49m\u001b[43m,\u001b[49m\u001b[43m \u001b[49m\u001b[38;5;124;43m'\u001b[39;49m\u001b[38;5;124;43mpe_meshX\u001b[39;49m\u001b[38;5;124;43m'\u001b[39;49m\u001b[43m:\u001b[49m\u001b[43m \u001b[49m\u001b[38;5;28;43mself\u001b[39;49m\u001b[38;5;241;43m.\u001b[39;49m\u001b[43mpeConfig\u001b[49m\u001b[38;5;241;43m.\u001b[39;49m\u001b[43mpe_meshX\u001b[49m\u001b[43m,\u001b[49m\u001b[43m \u001b[49m\u001b[38;5;124;43m'\u001b[39;49m\u001b[38;5;124;43mpe_meshY\u001b[39;49m\u001b[38;5;124;43m'\u001b[39;49m\u001b[43m:\u001b[49m\u001b[43m \u001b[49m\u001b[38;5;28;43mself\u001b[39;49m\u001b[38;5;241;43m.\u001b[39;49m\u001b[43mpeConfig\u001b[49m\u001b[38;5;241;43m.\u001b[39;49m\u001b[43mpe_meshY\u001b[49m\u001b[43m}\u001b[49m\u001b[43m,\u001b[49m\n\u001b[1;32m     91\u001b[0m \u001b[43m            \u001b[49m\u001b[43mconstraints\u001b[49m\u001b[38;5;241;43m=\u001b[39;49m\u001b[38;5;28;43mself\u001b[39;49m\u001b[38;5;241;43m.\u001b[39;49m\u001b[43mconstraints\u001b[49m\u001b[43m,\u001b[49m\n\u001b[1;32m     92\u001b[0m \u001b[43m            \u001b[49m\u001b[43marchitecture\u001b[49m\u001b[38;5;241;43m=\u001b[39;49m\u001b[38;5;28;43mself\u001b[39;49m\u001b[38;5;241;43m.\u001b[39;49m\u001b[43mgpu_architecture\u001b[49m\u001b[38;5;241;43m.\u001b[39;49m\u001b[43mvalue\u001b[49m\u001b[43m,\u001b[49m\n\u001b[1;32m     93\u001b[0m \u001b[43m            \u001b[49m\u001b[43mmapper\u001b[49m\u001b[38;5;241;43m=\u001b[39;49m\u001b[38;5;124;43m'\u001b[39;49m\u001b[38;5;124;43mdesigns/_include/mapper.yaml\u001b[39;49m\u001b[38;5;124;43m'\u001b[39;49m\u001b[43m,\u001b[49m\n\u001b[1;32m     94\u001b[0m \u001b[43m            \u001b[49m\u001b[43mproblem\u001b[49m\u001b[38;5;241;43m=\u001b[39;49m\u001b[38;5;124;43mf\u001b[39;49m\u001b[38;5;124;43m\"\u001b[39;49m\u001b[38;5;124;43mlayer_shapes/\u001b[39;49m\u001b[38;5;132;43;01m{\u001b[39;49;00m\u001b[43mfilename\u001b[49m\u001b[38;5;132;43;01m}\u001b[39;49;00m\u001b[38;5;124;43m.yaml\u001b[39;49m\u001b[38;5;124;43m\"\u001b[39;49m\u001b[43m,\u001b[49m\n\u001b[1;32m     95\u001b[0m \u001b[43m        \u001b[49m\u001b[43m)\u001b[49m\n\u001b[1;32m     98\u001b[0m         \u001b[38;5;66;03m#get results, mapping, and stats. \u001b[39;00m\n\u001b[1;32m     99\u001b[0m         layer_mappings[filename] \u001b[38;5;241m=\u001b[39m result\u001b[38;5;241m.\u001b[39mmapping\n",
      "File \u001b[0;32m~/loaders.py:62\u001b[0m, in \u001b[0;36mrun_timeloop_mapper\u001b[0;34m(jinja_parse_data, **kwargs)\u001b[0m\n\u001b[1;32m     59\u001b[0m \u001b[38;5;28;01mif\u001b[39;00m os\u001b[38;5;241m.\u001b[39mpath\u001b[38;5;241m.\u001b[39mexists(\u001b[38;5;124m\"\u001b[39m\u001b[38;5;124m./output_dir\u001b[39m\u001b[38;5;124m\"\u001b[39m):\n\u001b[1;32m     60\u001b[0m     os\u001b[38;5;241m.\u001b[39msystem(\u001b[38;5;124m\"\u001b[39m\u001b[38;5;124mrm -r ./output_dir\u001b[39m\u001b[38;5;124m\"\u001b[39m)\n\u001b[0;32m---> 62\u001b[0m \u001b[43mrun_accelergy\u001b[49m\u001b[43m(\u001b[49m\u001b[43mjinja_parse_data\u001b[49m\u001b[43m,\u001b[49m\u001b[43m \u001b[49m\u001b[38;5;241;43m*\u001b[39;49m\u001b[38;5;241;43m*\u001b[39;49m\u001b[43mkwargs\u001b[49m\u001b[43m)\u001b[49m\n\u001b[1;32m     64\u001b[0m jinja_parse_data \u001b[38;5;241m=\u001b[39m {\u001b[38;5;241m*\u001b[39m\u001b[38;5;241m*\u001b[39m(jinja_parse_data \u001b[38;5;129;01mor\u001b[39;00m {}), \u001b[38;5;241m*\u001b[39m\u001b[38;5;241m*\u001b[39mkwargs}\n\u001b[1;32m     65\u001b[0m spec \u001b[38;5;241m=\u001b[39m tl\u001b[38;5;241m.\u001b[39mSpecification\u001b[38;5;241m.\u001b[39mfrom_yaml_files(\n\u001b[1;32m     66\u001b[0m     \u001b[38;5;124m\"\u001b[39m\u001b[38;5;124mdesigns/top.yaml.jinja2\u001b[39m\u001b[38;5;124m\"\u001b[39m, jinja_parse_data\u001b[38;5;241m=\u001b[39mjinja_parse_data\n\u001b[1;32m     67\u001b[0m )\n",
      "File \u001b[0;32m~/loaders.py:81\u001b[0m, in \u001b[0;36mrun_accelergy\u001b[0;34m(jinja_parse_data, **kwargs)\u001b[0m\n\u001b[1;32m     77\u001b[0m jinja_parse_data \u001b[38;5;241m=\u001b[39m {\u001b[38;5;241m*\u001b[39m\u001b[38;5;241m*\u001b[39m(jinja_parse_data \u001b[38;5;129;01mor\u001b[39;00m {}), \u001b[38;5;241m*\u001b[39m\u001b[38;5;241m*\u001b[39mkwargs}\n\u001b[1;32m     78\u001b[0m spec \u001b[38;5;241m=\u001b[39m tl\u001b[38;5;241m.\u001b[39mSpecification\u001b[38;5;241m.\u001b[39mfrom_yaml_files(\n\u001b[1;32m     79\u001b[0m     \u001b[38;5;124m\"\u001b[39m\u001b[38;5;124mdesigns/top.yaml.jinja2\u001b[39m\u001b[38;5;124m\"\u001b[39m, jinja_parse_data\u001b[38;5;241m=\u001b[39mjinja_parse_data\n\u001b[1;32m     80\u001b[0m )\n\u001b[0;32m---> 81\u001b[0m result \u001b[38;5;241m=\u001b[39m \u001b[43mtl\u001b[49m\u001b[38;5;241;43m.\u001b[39;49m\u001b[43maccelergy_app\u001b[49m\u001b[43m(\u001b[49m\u001b[43mspec\u001b[49m\u001b[43m,\u001b[49m\u001b[43m \u001b[49m\u001b[43moutput_dir\u001b[49m\u001b[38;5;241;43m=\u001b[39;49m\u001b[38;5;124;43m\"\u001b[39;49m\u001b[38;5;124;43m./output_dir\u001b[39;49m\u001b[38;5;124;43m\"\u001b[39;49m\u001b[43m)\u001b[49m\n\u001b[1;32m     83\u001b[0m shutil\u001b[38;5;241m.\u001b[39mcopy(\u001b[38;5;124m\"\u001b[39m\u001b[38;5;124moutput_dir/ART.yaml\u001b[39m\u001b[38;5;124m\"\u001b[39m, \u001b[38;5;124m\"\u001b[39m\u001b[38;5;124moutput_dir/timeloop-model.ART.yaml\u001b[39m\u001b[38;5;124m\"\u001b[39m)\n\u001b[1;32m     84\u001b[0m shutil\u001b[38;5;241m.\u001b[39mcopy(\u001b[38;5;124m\"\u001b[39m\u001b[38;5;124moutput_dir/ART.yaml\u001b[39m\u001b[38;5;124m\"\u001b[39m, \u001b[38;5;124m\"\u001b[39m\u001b[38;5;124moutput_dir/timeloop-mapper.ART.yaml\u001b[39m\u001b[38;5;124m\"\u001b[39m)\n",
      "File \u001b[0;32m/usr/local/lib/python3.10/dist-packages/pytimeloop/timeloopfe/common/backend_calls.py:395\u001b[0m, in \u001b[0;36maccelergy_app\u001b[0;34m(specification, output_dir, extra_input_files)\u001b[0m\n\u001b[1;32m    389\u001b[0m     \u001b[38;5;28;01mraise\u001b[39;00m \u001b[38;5;167;01mImportError\u001b[39;00m(\n\u001b[1;32m    390\u001b[0m         \u001b[38;5;124m\"\u001b[39m\u001b[38;5;124mpytimeloop is not installed. To call accelergy_app, please install pytimeloop. \u001b[39m\u001b[38;5;124m\"\u001b[39m\n\u001b[1;32m    391\u001b[0m         \u001b[38;5;124m\"\u001b[39m\u001b[38;5;124mAlternatively, you can use the call_accelergy_verbose function directly.\u001b[39m\u001b[38;5;124m\"\u001b[39m\n\u001b[1;32m    392\u001b[0m     )\n\u001b[1;32m    394\u001b[0m input_paths, output_dir \u001b[38;5;241m=\u001b[39m _pre_call(specification, output_dir, extra_input_files)\n\u001b[0;32m--> 395\u001b[0m \u001b[38;5;28;01mreturn\u001b[39;00m \u001b[43minvoke_accelergy\u001b[49m\u001b[43m(\u001b[49m\u001b[43minput_paths\u001b[49m\u001b[43m,\u001b[49m\u001b[43m \u001b[49m\u001b[43moutput_dir\u001b[49m\u001b[43m)\u001b[49m\n",
      "File \u001b[0;32m/usr/local/lib/python3.10/dist-packages/pytimeloop/accelergy_interface.py:27\u001b[0m, in \u001b[0;36minvoke_accelergy\u001b[0;34m(input_files, out_dir)\u001b[0m\n\u001b[1;32m     25\u001b[0m cmd \u001b[38;5;241m=\u001b[39m [\u001b[38;5;124m'\u001b[39m\u001b[38;5;124maccelergy\u001b[39m\u001b[38;5;124m'\u001b[39m, \u001b[38;5;241m*\u001b[39minput_files, \u001b[38;5;124m'\u001b[39m\u001b[38;5;124m-o\u001b[39m\u001b[38;5;124m'\u001b[39m, out_dir \u001b[38;5;241m+\u001b[39m \u001b[38;5;124m'\u001b[39m\u001b[38;5;124m/\u001b[39m\u001b[38;5;124m'\u001b[39m, \u001b[38;5;124m'\u001b[39m\u001b[38;5;124m-v\u001b[39m\u001b[38;5;124m'\u001b[39m]\n\u001b[1;32m     26\u001b[0m logger\u001b[38;5;241m.\u001b[39minfo(\u001b[38;5;124mf\u001b[39m\u001b[38;5;124m'\u001b[39m\u001b[38;5;124mRunning Accelergy with command: \u001b[39m\u001b[38;5;132;01m{\u001b[39;00m\u001b[38;5;124m\"\u001b[39m\u001b[38;5;124m \u001b[39m\u001b[38;5;124m\"\u001b[39m\u001b[38;5;241m.\u001b[39mjoin(cmd)\u001b[38;5;132;01m}\u001b[39;00m\u001b[38;5;124m'\u001b[39m)\n\u001b[0;32m---> 27\u001b[0m result \u001b[38;5;241m=\u001b[39m \u001b[43msubprocess\u001b[49m\u001b[38;5;241;43m.\u001b[39;49m\u001b[43mrun\u001b[49m\u001b[43m(\u001b[49m\u001b[43mcmd\u001b[49m\u001b[43m,\u001b[49m\n\u001b[1;32m     28\u001b[0m \u001b[43m                        \u001b[49m\u001b[43menv\u001b[49m\u001b[38;5;241;43m=\u001b[39;49m\u001b[43mos\u001b[49m\u001b[38;5;241;43m.\u001b[39;49m\u001b[43menviron\u001b[49m\u001b[43m,\u001b[49m\n\u001b[1;32m     29\u001b[0m \u001b[43m                        \u001b[49m\u001b[43mcapture_output\u001b[49m\u001b[38;5;241;43m=\u001b[39;49m\u001b[38;5;28;43;01mTrue\u001b[39;49;00m\u001b[43m)\u001b[49m\n\u001b[1;32m     30\u001b[0m \u001b[38;5;28;01mfrom\u001b[39;00m\u001b[38;5;250m \u001b[39m\u001b[38;5;21;01mpytimeloop\u001b[39;00m\u001b[38;5;21;01m.\u001b[39;00m\u001b[38;5;21;01mapp\u001b[39;00m\u001b[38;5;21;01m.\u001b[39;00m\u001b[38;5;21;01mcall_utils\u001b[39;00m\u001b[38;5;250m \u001b[39m\u001b[38;5;28;01mimport\u001b[39;00m read_output_files\n\u001b[1;32m     31\u001b[0m ert_str, ert_verbose, art_str, art_verbose \u001b[38;5;241m=\u001b[39m read_output_files(\n\u001b[1;32m     32\u001b[0m     result, out_dir, \u001b[38;5;124m'\u001b[39m\u001b[38;5;124maccelergy\u001b[39m\u001b[38;5;124m'\u001b[39m, \u001b[38;5;124m'\u001b[39m\u001b[38;5;124mERT.yaml\u001b[39m\u001b[38;5;124m'\u001b[39m, \u001b[38;5;124m'\u001b[39m\u001b[38;5;124mERT_summary_verbose.yaml\u001b[39m\u001b[38;5;124m'\u001b[39m,\n\u001b[1;32m     33\u001b[0m     \u001b[38;5;124m'\u001b[39m\u001b[38;5;124mART.yaml\u001b[39m\u001b[38;5;124m'\u001b[39m, \u001b[38;5;124m'\u001b[39m\u001b[38;5;124mART_summary_verbose.yaml\u001b[39m\u001b[38;5;124m'\u001b[39m\n\u001b[1;32m     34\u001b[0m )\n",
      "File \u001b[0;32m/usr/lib/python3.10/subprocess.py:505\u001b[0m, in \u001b[0;36mrun\u001b[0;34m(input, capture_output, timeout, check, *popenargs, **kwargs)\u001b[0m\n\u001b[1;32m    503\u001b[0m \u001b[38;5;28;01mwith\u001b[39;00m Popen(\u001b[38;5;241m*\u001b[39mpopenargs, \u001b[38;5;241m*\u001b[39m\u001b[38;5;241m*\u001b[39mkwargs) \u001b[38;5;28;01mas\u001b[39;00m process:\n\u001b[1;32m    504\u001b[0m     \u001b[38;5;28;01mtry\u001b[39;00m:\n\u001b[0;32m--> 505\u001b[0m         stdout, stderr \u001b[38;5;241m=\u001b[39m \u001b[43mprocess\u001b[49m\u001b[38;5;241;43m.\u001b[39;49m\u001b[43mcommunicate\u001b[49m\u001b[43m(\u001b[49m\u001b[38;5;28;43minput\u001b[39;49m\u001b[43m,\u001b[49m\u001b[43m \u001b[49m\u001b[43mtimeout\u001b[49m\u001b[38;5;241;43m=\u001b[39;49m\u001b[43mtimeout\u001b[49m\u001b[43m)\u001b[49m\n\u001b[1;32m    506\u001b[0m     \u001b[38;5;28;01mexcept\u001b[39;00m TimeoutExpired \u001b[38;5;28;01mas\u001b[39;00m exc:\n\u001b[1;32m    507\u001b[0m         process\u001b[38;5;241m.\u001b[39mkill()\n",
      "File \u001b[0;32m/usr/lib/python3.10/subprocess.py:1154\u001b[0m, in \u001b[0;36mPopen.communicate\u001b[0;34m(self, input, timeout)\u001b[0m\n\u001b[1;32m   1151\u001b[0m     endtime \u001b[38;5;241m=\u001b[39m \u001b[38;5;28;01mNone\u001b[39;00m\n\u001b[1;32m   1153\u001b[0m \u001b[38;5;28;01mtry\u001b[39;00m:\n\u001b[0;32m-> 1154\u001b[0m     stdout, stderr \u001b[38;5;241m=\u001b[39m \u001b[38;5;28;43mself\u001b[39;49m\u001b[38;5;241;43m.\u001b[39;49m\u001b[43m_communicate\u001b[49m\u001b[43m(\u001b[49m\u001b[38;5;28;43minput\u001b[39;49m\u001b[43m,\u001b[49m\u001b[43m \u001b[49m\u001b[43mendtime\u001b[49m\u001b[43m,\u001b[49m\u001b[43m \u001b[49m\u001b[43mtimeout\u001b[49m\u001b[43m)\u001b[49m\n\u001b[1;32m   1155\u001b[0m \u001b[38;5;28;01mexcept\u001b[39;00m \u001b[38;5;167;01mKeyboardInterrupt\u001b[39;00m:\n\u001b[1;32m   1156\u001b[0m     \u001b[38;5;66;03m# https://bugs.python.org/issue25942\u001b[39;00m\n\u001b[1;32m   1157\u001b[0m     \u001b[38;5;66;03m# See the detailed comment in .wait().\u001b[39;00m\n\u001b[1;32m   1158\u001b[0m     \u001b[38;5;28;01mif\u001b[39;00m timeout \u001b[38;5;129;01mis\u001b[39;00m \u001b[38;5;129;01mnot\u001b[39;00m \u001b[38;5;28;01mNone\u001b[39;00m:\n",
      "File \u001b[0;32m/usr/lib/python3.10/subprocess.py:2021\u001b[0m, in \u001b[0;36mPopen._communicate\u001b[0;34m(self, input, endtime, orig_timeout)\u001b[0m\n\u001b[1;32m   2014\u001b[0m     \u001b[38;5;28mself\u001b[39m\u001b[38;5;241m.\u001b[39m_check_timeout(endtime, orig_timeout,\n\u001b[1;32m   2015\u001b[0m                         stdout, stderr,\n\u001b[1;32m   2016\u001b[0m                         skip_check_and_raise\u001b[38;5;241m=\u001b[39m\u001b[38;5;28;01mTrue\u001b[39;00m)\n\u001b[1;32m   2017\u001b[0m     \u001b[38;5;28;01mraise\u001b[39;00m \u001b[38;5;167;01mRuntimeError\u001b[39;00m(  \u001b[38;5;66;03m# Impossible :)\u001b[39;00m\n\u001b[1;32m   2018\u001b[0m         \u001b[38;5;124m'\u001b[39m\u001b[38;5;124m_check_timeout(..., skip_check_and_raise=True) \u001b[39m\u001b[38;5;124m'\u001b[39m\n\u001b[1;32m   2019\u001b[0m         \u001b[38;5;124m'\u001b[39m\u001b[38;5;124mfailed to raise TimeoutExpired.\u001b[39m\u001b[38;5;124m'\u001b[39m)\n\u001b[0;32m-> 2021\u001b[0m ready \u001b[38;5;241m=\u001b[39m \u001b[43mselector\u001b[49m\u001b[38;5;241;43m.\u001b[39;49m\u001b[43mselect\u001b[49m\u001b[43m(\u001b[49m\u001b[43mtimeout\u001b[49m\u001b[43m)\u001b[49m\n\u001b[1;32m   2022\u001b[0m \u001b[38;5;28mself\u001b[39m\u001b[38;5;241m.\u001b[39m_check_timeout(endtime, orig_timeout, stdout, stderr)\n\u001b[1;32m   2024\u001b[0m \u001b[38;5;66;03m# XXX Rewrite these to use non-blocking I/O on the file\u001b[39;00m\n\u001b[1;32m   2025\u001b[0m \u001b[38;5;66;03m# objects; they are no longer using C stdio!\u001b[39;00m\n",
      "File \u001b[0;32m/usr/lib/python3.10/selectors.py:416\u001b[0m, in \u001b[0;36m_PollLikeSelector.select\u001b[0;34m(self, timeout)\u001b[0m\n\u001b[1;32m    414\u001b[0m ready \u001b[38;5;241m=\u001b[39m []\n\u001b[1;32m    415\u001b[0m \u001b[38;5;28;01mtry\u001b[39;00m:\n\u001b[0;32m--> 416\u001b[0m     fd_event_list \u001b[38;5;241m=\u001b[39m \u001b[38;5;28;43mself\u001b[39;49m\u001b[38;5;241;43m.\u001b[39;49m\u001b[43m_selector\u001b[49m\u001b[38;5;241;43m.\u001b[39;49m\u001b[43mpoll\u001b[49m\u001b[43m(\u001b[49m\u001b[43mtimeout\u001b[49m\u001b[43m)\u001b[49m\n\u001b[1;32m    417\u001b[0m \u001b[38;5;28;01mexcept\u001b[39;00m \u001b[38;5;167;01mInterruptedError\u001b[39;00m:\n\u001b[1;32m    418\u001b[0m     \u001b[38;5;28;01mreturn\u001b[39;00m ready\n",
      "\u001b[0;31mKeyboardInterrupt\u001b[0m: "
     ]
    }
   ],
   "source": [
    "# debug currently set to True, set to False to run\n",
    "# controller = TimeLoopExperimentController(True)\n",
    "controller = TimeLoopExperimentController(False)\n",
    "controller.run_all()\n",
    "controller.plot_results()"
   ]
  },
  {
   "cell_type": "code",
   "execution_count": 2,
   "id": "2ef216e9-61bb-4991-af1f-a0f9093371cd",
   "metadata": {
    "scrolled": true
   },
   "outputs": [
    {
     "ename": "NameError",
     "evalue": "name 'PEsConfig' is not defined",
     "output_type": "error",
     "traceback": [
      "\u001b[0;31m---------------------------------------------------------------------------\u001b[0m",
      "\u001b[0;31mNameError\u001b[0m                                 Traceback (most recent call last)",
      "Cell \u001b[0;32mIn[2], line 4\u001b[0m\n\u001b[1;32m      1\u001b[0m \u001b[38;5;66;03m# debug currently set to True, set to False to run\u001b[39;00m\n\u001b[1;32m      2\u001b[0m \u001b[38;5;66;03m# controller = TimeLoopExperimentController(True)\u001b[39;00m\n\u001b[1;32m      3\u001b[0m controller \u001b[38;5;241m=\u001b[39m TimeLoopExperimentController(\u001b[38;5;28;01mFalse\u001b[39;00m)\n\u001b[0;32m----> 4\u001b[0m controller\u001b[38;5;241m.\u001b[39mrun_single(Architecture\u001b[38;5;241m.\u001b[39mData_Parallel, GPUMemoryScale\u001b[38;5;241m.\u001b[39mMEMORY_16MB, RackSize\u001b[38;5;241m.\u001b[39mRACK_4, \u001b[43mPEsConfig\u001b[49m\u001b[38;5;241m.\u001b[39mPE_4, \u001b[38;5;124m\"\u001b[39m\u001b[38;5;124mmilestone3\u001b[39m\u001b[38;5;124m\"\u001b[39m)\n\u001b[1;32m      5\u001b[0m controller\u001b[38;5;241m.\u001b[39mrun_single(Architecture\u001b[38;5;241m.\u001b[39mBase, GPUMemoryScale\u001b[38;5;241m.\u001b[39mMEMORY_16MB, RackSize\u001b[38;5;241m.\u001b[39mRACK_4, PEsConfig\u001b[38;5;241m.\u001b[39mPE_4, \u001b[38;5;124m\"\u001b[39m\u001b[38;5;124mmilestone3\u001b[39m\u001b[38;5;124m\"\u001b[39m)\n\u001b[1;32m      6\u001b[0m controller\u001b[38;5;241m.\u001b[39mrun_single(Architecture\u001b[38;5;241m.\u001b[39mTensor_Parallel, GPUMemoryScale\u001b[38;5;241m.\u001b[39mMEMORY_16MB, RackSize\u001b[38;5;241m.\u001b[39mRACK_4, PEsConfig\u001b[38;5;241m.\u001b[39mPE_4, \u001b[38;5;124m\"\u001b[39m\u001b[38;5;124mmilestone3\u001b[39m\u001b[38;5;124m\"\u001b[39m)\n",
      "\u001b[0;31mNameError\u001b[0m: name 'PEsConfig' is not defined"
     ]
    }
   ],
   "source": [
    "# debug currently set to True, set to False to run\n",
    "# controller = TimeLoopExperimentController(True)\n",
    "controller = TimeLoopExperimentController(False)\n",
    "controller.run_single(Architecture.Data_Parallel, GPUMemoryScale.MEMORY_16MB, RackSize.RACK_4, PEsConfig.PE_4, \"milestone3\")\n",
    "controller.run_single(Architecture.Base, GPUMemoryScale.MEMORY_16MB, RackSize.RACK_4, PEsConfig.PE_4, \"milestone3\")\n",
    "controller.run_single(Architecture.Tensor_Parallel, GPUMemoryScale.MEMORY_16MB, RackSize.RACK_4, PEsConfig.PE_4, \"milestone3\")\n",
    "# controller.plot_results()"
   ]
  },
  {
   "cell_type": "code",
   "execution_count": null,
   "id": "6063380b-ba1b-46d8-a3a2-95d7fe35afcd",
   "metadata": {},
   "outputs": [],
   "source": []
  }
 ],
 "metadata": {
  "kernelspec": {
   "display_name": "Python 3 (ipykernel)",
   "language": "python",
   "name": "python3"
  },
  "language_info": {
   "codemirror_mode": {
    "name": "ipython",
    "version": 3
   },
   "file_extension": ".py",
   "mimetype": "text/x-python",
   "name": "python",
   "nbconvert_exporter": "python",
   "pygments_lexer": "ipython3",
   "version": "3.10.12"
  }
 },
 "nbformat": 4,
 "nbformat_minor": 5
}
