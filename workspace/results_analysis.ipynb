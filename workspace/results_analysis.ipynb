{
 "cells": [
  {
   "cell_type": "code",
   "execution_count": 1,
   "id": "6c3d4b51-11f2-4bcd-8434-f9940de87d83",
   "metadata": {},
   "outputs": [
    {
     "data": {
      "text/plain": [
       "<module 'matplot_results_plotter.matplot_results_plotter' from '/home/workspace/matplot_results_plotter/matplot_results_plotter.py'>"
      ]
     },
     "execution_count": 1,
     "metadata": {},
     "output_type": "execute_result"
    }
   ],
   "source": [
    "import importlib\n",
    "from main import TimeLoopExperimentController\n",
    "import architectures.architecture_strategy\n",
    "import architectures.architecture_constants\n",
    "from architecture_results.derived_metrics_evaluator import DerivedMetricsEvaluator\n",
    "import matplot_results_plotter.matplot_results_plotter\n",
    "from architectures.architecture_constants import Architecture, GPUMemoryScale, RackSize, PEsConfig, base_config, resnet_18_layers\n",
    "\n",
    "import matplotlib.pyplot as plt\n",
    "from typing import Sequence, Tuple, Optional\n",
    "from matplotlib.ticker import ScalarFormatter\n",
    "\n",
    "importlib.reload(architectures.architecture_strategy)\n",
    "importlib.reload(architectures.architecture_constants)\n",
    "importlib.reload(matplot_results_plotter.matplot_results_plotter)"
   ]
  },
  {
   "cell_type": "code",
   "execution_count": 2,
   "id": "e248ef14-6532-4f18-a7c8-32661abe2b29",
   "metadata": {},
   "outputs": [
    {
     "name": "stdout",
     "output_type": "stream",
     "text": [
      "DerivedMetricsEvaluator created for Base, MEMORY_16MB, RACK_1, PE_4\n",
      "DerivedMetricsEvaluator created for Data_Parallel, MEMORY_16MB, RACK_4, PE_4\n",
      "DerivedMetricsEvaluator created for Tensor_Parallel, MEMORY_16MB, RACK_4, PE_4\n"
     ]
    }
   ],
   "source": [
    "base_estimator = DerivedMetricsEvaluator(Architecture.Base, GPUMemoryScale.MEMORY_16MB, RackSize.RACK_1, PEsConfig.PE_4,'persisted_results/results_May 03, 2025 04:16:57 PM EST')\n",
    "dp_estimator = DerivedMetricsEvaluator(Architecture.Data_Parallel, GPUMemoryScale.MEMORY_16MB, RackSize.RACK_4, PEsConfig.PE_4,'persisted_results/results_May 03, 2025 04:16:57 PM EST')\n",
    "tp_estimator = DerivedMetricsEvaluator(Architecture.Tensor_Parallel, GPUMemoryScale.MEMORY_16MB, RackSize.RACK_4, PEsConfig.PE_4,'persisted_results/results_May 03, 2025 04:16:57 PM EST')\n",
    "# tp_estimator = DerivedMetricsEvaluator(Architecture.Tensor_Parallel, GPUMemoryScale.MEMORY_4MB, RackSize.RACK_1, PEsConfig.PE_4,'persisted_results/results_May 03, 2025 04:16:57 PM EST')"
   ]
  },
  {
   "cell_type": "code",
   "execution_count": 3,
   "id": "31eb0a97-7eae-4e76-9c99-694b5c1d05a4",
   "metadata": {},
   "outputs": [
    {
     "name": "stdout",
     "output_type": "stream",
     "text": [
      "{'total_cycles': 15799418880, 'total_energy': 6849659.83}\n"
     ]
    }
   ],
   "source": [
    "results = base_estimator.get_onchip_results()\n",
    "print(results)"
   ]
  },
  {
   "cell_type": "code",
   "execution_count": 4,
   "id": "fc6aace5-1cc7-471a-9532-e339dbe69b4f",
   "metadata": {},
   "outputs": [
    {
     "name": "stdout",
     "output_type": "stream",
     "text": [
      "--------STAR-------------\n",
      "--DP--\n",
      "{'per_layer_network_bytes': [27885568.0, 0, 0, 0, 0, 0, 0, 0, 0, 0, 0, 0, 0, 0, 0, 0, 0, 0, 0, 0, 0, 0, 0, 0, 0, 0, 0, 0, 0, 0, 0, 0, 50176.0], 'per_layer_onchip_bytes': [8388329472.0, 8388329472.0, 8388329472.0, 8388329472.0, 8388329472.0, 8388329472.0, 8388329472.0, 15252191072.0, 8375959552.0, 8375959552.0, 8375959552.0, 8375959552.0, 8375959552.0, 4199485440.0, 4188356608.0, 4189210624.0, 8383414272.0, 8383414272.0, 8383414272.0, 8383414272.0, 8383414272.0, 8361263104.0, 8361263104.0, 8361263104.0, 8361263104.0, 8361263104.0, 8361263104.0, 8361263104.0, 8361263104.0, 8361263104.0, 8361263104.0, 8361263104.0, 8383414272.0], 'total_network_bytes': 27935744.0, 'total_network_hops': 34922, 'total_network_latency': 2793760, 'total_network_energy': 4.470016, 'total_onchip_bytes': 270701727584.0, 'total_onchip_latency': 3949854720, 'total_onchip_energy': 2416063.46}\n",
      "--TP--\n",
      "{'per_layer_network_bytes': [27885568.0, 27885568.0, 27885568.0, 27885568.0, 27885568.0, 27885568.0, 27885568.0, 183328640.0, 13238272.0, 13238272.0, 13238272.0, 13238272.0, 13238272.0, 20791296.0, 12943360.0, 39608320.0, 53321728.0, 53321728.0, 53321728.0, 53321728.0, 53321728.0, 15990784.0, 15990784.0, 15990784.0, 15990784.0, 15990784.0, 15990784.0, 15990784.0, 15990784.0, 15990784.0, 15990784.0, 15990784.0, 53321728.0], 'per_layer_onchip_bytes': [11106654208.0, 11106654208.0, 11106654208.0, 11106654208.0, 11106654208.0, 11106654208.0, 11106654208.0, 20799645872.0, 11105075200.0, 11105075200.0, 11105075200.0, 11105075200.0, 11105075200.0, 5560037376.0, 5556748288.0, 5569414144.0, 11112891904.0, 11112891904.0, 11112891904.0, 11112891904.0, 11112891904.0, 11104116736.0, 11104116736.0, 11104116736.0, 11104116736.0, 11104116736.0, 11104116736.0, 11104116736.0, 11104116736.0, 11104116736.0, 11104116736.0, 11104116736.0, 11112891904.0], 'total_network_bytes': 1013890944.0, 'total_network_hops': 1267404, 'total_network_latency': 101392320, 'total_network_energy': 162.227712, 'total_onchip_bytes': 359580436656.0, 'total_onchip_latency': 3949854720, 'total_onchip_energy': 6877991.099999999}\n",
      "--------RING------------\n",
      "--DP--\n",
      "{'per_layer_network_bytes': [27885568.0, 0, 0, 0, 0, 0, 0, 0, 0, 0, 0, 0, 0, 0, 0, 0, 0, 0, 0, 0, 0, 0, 0, 0, 0, 0, 0, 0, 0, 0, 0, 0, 50176.0], 'per_layer_onchip_bytes': [8388329472.0, 8388329472.0, 8388329472.0, 8388329472.0, 8388329472.0, 8388329472.0, 8388329472.0, 15252191072.0, 8375959552.0, 8375959552.0, 8375959552.0, 8375959552.0, 8375959552.0, 4199485440.0, 4188356608.0, 4189210624.0, 8383414272.0, 8383414272.0, 8383414272.0, 8383414272.0, 8383414272.0, 8361263104.0, 8361263104.0, 8361263104.0, 8361263104.0, 8361263104.0, 8361263104.0, 8361263104.0, 8361263104.0, 8361263104.0, 8361263104.0, 8361263104.0, 8383414272.0], 'total_network_bytes': 27935744.0, 'total_network_hops': 23281.333333333332, 'total_network_latency': 1862506.6666666665, 'total_network_energy': 2.9800106666666664, 'total_onchip_bytes': 270701727584.0, 'total_onchip_latency': 3949854720, 'total_onchip_energy': 2416063.46}\n",
      "--TP--\n",
      "{'per_layer_network_bytes': [27885568.0, 27885568.0, 27885568.0, 27885568.0, 27885568.0, 27885568.0, 27885568.0, 183328640.0, 13238272.0, 13238272.0, 13238272.0, 13238272.0, 13238272.0, 20791296.0, 12943360.0, 39608320.0, 53321728.0, 53321728.0, 53321728.0, 53321728.0, 53321728.0, 15990784.0, 15990784.0, 15990784.0, 15990784.0, 15990784.0, 15990784.0, 15990784.0, 15990784.0, 15990784.0, 15990784.0, 15990784.0, 53321728.0], 'per_layer_onchip_bytes': [11106654208.0, 11106654208.0, 11106654208.0, 11106654208.0, 11106654208.0, 11106654208.0, 11106654208.0, 20799645872.0, 11105075200.0, 11105075200.0, 11105075200.0, 11105075200.0, 11105075200.0, 5560037376.0, 5556748288.0, 5569414144.0, 11112891904.0, 11112891904.0, 11112891904.0, 11112891904.0, 11112891904.0, 11104116736.0, 11104116736.0, 11104116736.0, 11104116736.0, 11104116736.0, 11104116736.0, 11104116736.0, 11104116736.0, 11104116736.0, 11104116736.0, 11104116736.0, 11112891904.0], 'total_network_bytes': 1013890944.0, 'total_network_hops': 844936.0, 'total_network_latency': 67594880.0, 'total_network_energy': 108.15180799999999, 'total_onchip_bytes': 359580436656.0, 'total_onchip_latency': 3949854720, 'total_onchip_energy': 6877991.099999999}\n"
     ]
    }
   ],
   "source": [
    "dp_star_results = dp_estimator.derive_total_star_results()\n",
    "dp_ring_results = dp_estimator.derive_total_ring_results()\n",
    "tp_star_results = tp_estimator.derive_total_star_results()\n",
    "tp_ring_results = tp_estimator.derive_total_ring_results()\n",
    "print(\"--------STAR-------------\")\n",
    "print(\"--DP--\")\n",
    "print(dp_star_results)\n",
    "\n",
    "print(\"--TP--\")\n",
    "print(tp_star_results)\n",
    "\n",
    "print(\"--------RING------------\")\n",
    "print(\"--DP--\")\n",
    "print(dp_ring_results)\n",
    "\n",
    "print(\"--TP--\")\n",
    "print(tp_ring_results)"
   ]
  },
  {
   "cell_type": "code",
   "execution_count": 5,
   "id": "1c2d008c-c70c-40e7-916f-a41384385110",
   "metadata": {},
   "outputs": [],
   "source": [
    "\n",
    "def plot_three_bar_chart(x_labels, y_values, chart_title, y_axis_title):\n",
    "    \"\"\"\n",
    "    Draw a simple bar chart with three bars.\n",
    "\n",
    "    Parameters\n",
    "    ----------\n",
    "    x_labels : list[str]\n",
    "        The categorical labels shown on the x‑axis (length must be 3).\n",
    "    y_values : list[float] | tuple[float]\n",
    "        Heights of the three bars (same length as x_labels).\n",
    "    chart_title : str\n",
    "        Title displayed above the chart.\n",
    "    \"\"\"\n",
    "    if len(x_labels) != 3 or len(y_values) != 3:\n",
    "        raise ValueError(\"Provide exactly three x labels and three y values.\")\n",
    "\n",
    "    fig, ax = plt.subplots()\n",
    "\n",
    "    bar_positions = range(3)    \n",
    "    ax.bar(bar_positions, y_values)\n",
    "\n",
    "    # Axis & title formatting\n",
    "    ax.set_xticks(bar_positions)\n",
    "    ax.set_xticklabels(x_labels)\n",
    "    ax.set_ylabel(y_axis_title)\n",
    "    ax.set_title(chart_title)\n",
    "\n",
    "    # Nice layout tweaks\n",
    "    ax.margins(y=0.1)\n",
    "    plt.tight_layout()\n",
    "    plt.show()"
   ]
  },
  {
   "cell_type": "code",
   "execution_count": 6,
   "id": "5f95e44f-cf19-4057-96df-3bcfc363f160",
   "metadata": {},
   "outputs": [
    {
     "data": {
      "image/png": "[encoded data removed]",
      "text/plain": [
       "<Figure size 640x480 with 1 Axes>"
      ]
     },
     "metadata": {},
     "output_type": "display_data"
    }
   ],
   "source": [
    "plot_three_bar_chart(\n",
    "    [\"GPU‑A\", \"GPU‑B\", \"GPU‑C\"],\n",
    "    [1.2, 0.9, 1.7],\n",
    "    \"Per‑GPU Throughput (GB/s)\",\n",
    "    \"Energy\"\n",
    ")"
   ]
  },
  {
   "cell_type": "code",
   "execution_count": 7,
   "id": "99b84cd3-c84a-4ef1-8eda-a6ae15615e9e",
   "metadata": {},
   "outputs": [],
   "source": [
    "def plot_grouped_bar_chart(\n",
    "    x_labels: Sequence[str],\n",
    "    series_1: Sequence[float],\n",
    "    series_2: Sequence[float],\n",
    "    series_labels: Tuple[str, str] = (\"Series 1\", \"Series 2\"),\n",
    "    colors: Tuple[str, str] = (\"tab:red\", \"tab:green\"),\n",
    "    chart_title: str = \"\",\n",
    "    y_axis_title: str = \"\",\n",
    "    use_scientific: bool = True\n",
    "):\n",
    "    \"\"\"\n",
    "    Draw a grouped‑bar chart with two bars per category.\n",
    "\n",
    "    Parameters\n",
    "    ----------\n",
    "    x_labels : list[str]\n",
    "        Category names shown on the x‑axis (length N).\n",
    "    series_1, series_2 : list[float]\n",
    "        Heights for the two series (each of length N, same order as x_labels).\n",
    "    series_labels : (str, str), optional\n",
    "        Legend labels for the two series.\n",
    "    colors : (str, str), optional\n",
    "        Matplotlib color specs for the bars.\n",
    "    chart_title : str, optional\n",
    "        Title displayed above the chart.\n",
    "    y_axis_title : str, optional\n",
    "        Label for the y‑axis.\n",
    "    use_scientific : bool, optional\n",
    "        • True  → show axis in scientific notation (e.g. 1 e6)  \n",
    "        • False → show full integers (e.g. 1000000) with no commas\n",
    "    \"\"\"\n",
    "    if len(series_1) != len(series_2) or len(series_1) != len(x_labels):\n",
    "        raise ValueError(\"x_labels, series_1, and series_2 must all be the same length.\")\n",
    "    if len(series_1) == 0:\n",
    "        raise ValueError(\"Provide at least one category.\")\n",
    "\n",
    "    n = len(x_labels)\n",
    "    bar_width = 0.35\n",
    "    x = range(n)\n",
    "\n",
    "    fig, ax = plt.subplots()\n",
    "\n",
    "    # Side‑by‑side bars ---------------------------------------------------------\n",
    "    ax.bar([p - bar_width / 2 for p in x], series_1,\n",
    "           width=bar_width, label=series_labels[0], color=colors[0])\n",
    "    ax.bar([p + bar_width / 2 for p in x], series_2,\n",
    "           width=bar_width, label=series_labels[1], color=colors[1])\n",
    "\n",
    "    # Axis & title formatting ---------------------------------------------------\n",
    "    ax.set_xticks(list(x))\n",
    "    ax.set_xticklabels(x_labels)\n",
    "    ax.set_ylabel(y_axis_title)\n",
    "    ax.set_title(chart_title)\n",
    "    ax.legend()\n",
    "\n",
    "    # --- control y‑axis number formatting -------------------------------------\n",
    "    if use_scientific:\n",
    "        ax.ticklabel_format(axis='y', style='sci', scilimits=(0, 0))  # 1 e6\n",
    "    else:\n",
    "        ax.ticklabel_format(axis='y', style='plain')                  # 1000000\n",
    "        fmt = ScalarFormatter(useOffset=False)\n",
    "        fmt.set_scientific(False)\n",
    "        ax.yaxis.set_major_formatter(fmt)\n",
    "\n",
    "    # Layout tweaks ------------------------------------------------------------\n",
    "    ax.margins(y=0.1)\n",
    "    plt.tight_layout()\n",
    "    plt.show()"
   ]
  },
  {
   "cell_type": "code",
   "execution_count": 1,
   "id": "eb337bdb-688f-42ad-acc5-2a28d6bb3a03",
   "metadata": {},
   "outputs": [
    {
     "ename": "NameError",
     "evalue": "name 'DerivedMetricsEvaluator' is not defined",
     "output_type": "error",
     "traceback": [
      "\u001b[0;31m---------------------------------------------------------------------------\u001b[0m",
      "\u001b[0;31mNameError\u001b[0m                                 Traceback (most recent call last)",
      "Cell \u001b[0;32mIn[1], line 13\u001b[0m\n\u001b[1;32m      1\u001b[0m \u001b[38;5;66;03m# {\u001b[39;00m\n\u001b[1;32m      2\u001b[0m \u001b[38;5;66;03m#     'per_layer_network_bytes': total_bytes['total_network_bytes'],\u001b[39;00m\n\u001b[1;32m      3\u001b[0m \u001b[38;5;66;03m#     'per_layer_onchip_bytes': total_bytes['total_onchip_bytes'],\u001b[39;00m\n\u001b[0;32m   (...)\u001b[0m\n\u001b[1;32m     10\u001b[0m \u001b[38;5;66;03m#     'total_onchip_energy': on_chip_results['total_energy']\u001b[39;00m\n\u001b[1;32m     11\u001b[0m \u001b[38;5;66;03m# }\u001b[39;00m\n\u001b[0;32m---> 13\u001b[0m base_estimator \u001b[38;5;241m=\u001b[39m \u001b[43mDerivedMetricsEvaluator\u001b[49m(Architecture\u001b[38;5;241m.\u001b[39mBase, GPUMemoryScale\u001b[38;5;241m.\u001b[39mMEMORY_16MB, RackSize\u001b[38;5;241m.\u001b[39mRACK_1, PEsConfig\u001b[38;5;241m.\u001b[39mPE_4,\u001b[38;5;124m'\u001b[39m\u001b[38;5;124mpersisted_results/results_May 03, 2025 04:16:57 PM EST\u001b[39m\u001b[38;5;124m'\u001b[39m)\n\u001b[1;32m     14\u001b[0m dp_estimator \u001b[38;5;241m=\u001b[39m DerivedMetricsEvaluator(Architecture\u001b[38;5;241m.\u001b[39mData_Parallel, GPUMemoryScale\u001b[38;5;241m.\u001b[39mMEMORY_16MB, RackSize\u001b[38;5;241m.\u001b[39mRACK_4, PEsConfig\u001b[38;5;241m.\u001b[39mPE_4,\u001b[38;5;124m'\u001b[39m\u001b[38;5;124mpersisted_results/results_May 03, 2025 04:16:57 PM EST\u001b[39m\u001b[38;5;124m'\u001b[39m)\n\u001b[1;32m     15\u001b[0m tp_estimator \u001b[38;5;241m=\u001b[39m DerivedMetricsEvaluator(Architecture\u001b[38;5;241m.\u001b[39mTensor_Parallel, GPUMemoryScale\u001b[38;5;241m.\u001b[39mMEMORY_16MB, RackSize\u001b[38;5;241m.\u001b[39mRACK_4, PEsConfig\u001b[38;5;241m.\u001b[39mPE_4,\u001b[38;5;124m'\u001b[39m\u001b[38;5;124mpersisted_results/results_May 03, 2025 04:16:57 PM EST\u001b[39m\u001b[38;5;124m'\u001b[39m)\n",
      "\u001b[0;31mNameError\u001b[0m: name 'DerivedMetricsEvaluator' is not defined"
     ]
    }
   ],
   "source": [
    "# {\n",
    "#     'per_layer_network_bytes': total_bytes['total_network_bytes'],\n",
    "#     'per_layer_onchip_bytes': total_bytes['total_onchip_bytes'],\n",
    "#     'total_network_bytes': sum(total_bytes['total_network_bytes']),\n",
    "#     'total_network_hops': total_network_hops, \n",
    "#     'total_network_latency': total_network_hops * CYCLES_PER_HOP, \n",
    "#     'total_network_energy': total_network_hops * ENERGY_PER_HOP,\n",
    "#     'total_onchip_bytes': sum(total_bytes['total_onchip_bytes']),\n",
    "#     'total_onchip_latency': on_chip_results['total_cycles'], \n",
    "#     'total_onchip_energy': on_chip_results['total_energy']\n",
    "# }\n",
    "\n",
    "base_estimator = DerivedMetricsEvaluator(Architecture.Base, GPUMemoryScale.MEMORY_16MB, RackSize.RACK_1, PEsConfig.PE_4,'persisted_results/results_May 03, 2025 04:16:57 PM EST')\n",
    "dp_estimator = DerivedMetricsEvaluator(Architecture.Data_Parallel, GPUMemoryScale.MEMORY_16MB, RackSize.RACK_4, PEsConfig.PE_4,'persisted_results/results_May 03, 2025 04:16:57 PM EST')\n",
    "tp_estimator = DerivedMetricsEvaluator(Architecture.Tensor_Parallel, GPUMemoryScale.MEMORY_16MB, RackSize.RACK_4, PEsConfig.PE_4,'persisted_results/results_May 03, 2025 04:16:57 PM EST')\n",
    "\n",
    "dp_star_results = dp_estimator.derive_total_star_results()[\"total_network_hops\"]\n",
    "dp_ring_results = dp_estimator.derive_total_ring_results()[\"total_network_hops\"]\n",
    "tp_star_results = tp_estimator.derive_total_star_results()[\"total_network_hops\"]\n",
    "tp_ring_results = tp_estimator.derive_total_ring_results()[\"total_network_hops\"]\n",
    "\n",
    "plot_grouped_bar_chart(\n",
    "    x_labels=[\"Base\", \"DP\", \"TP\"],\n",
    "    series_1=[0, dp_star_results, tp_star_results],\n",
    "    series_2=[0, dp_ring_results, tp_ring_results],\n",
    "    series_labels=(\"Star Topology\", \"Ring Topology\"),\n",
    "    colors=(\"tab:red\", \"tab:green\"),\n",
    "    chart_title=\"Hop Counts vs. Topology for 4 GPU Rack Size\",\n",
    "    y_axis_title=\"Total Hops\",\n",
    "    use_scientific=False\n",
    ")\n",
    "\n",
    "base_estimator = DerivedMetricsEvaluator(Architecture.Base, GPUMemoryScale.MEMORY_16MB, RackSize.RACK_1, PEsConfig.PE_4,'persisted_results/results_May 03, 2025 04:16:57 PM EST')\n",
    "dp_estimator = DerivedMetricsEvaluator(Architecture.Data_Parallel, GPUMemoryScale.MEMORY_16MB, RackSize.RACK_8, PEsConfig.PE_4,'persisted_results/results_May 03, 2025 04:16:57 PM EST')\n",
    "tp_estimator = DerivedMetricsEvaluator(Architecture.Tensor_Parallel, GPUMemoryScale.MEMORY_16MB, RackSize.RACK_8, PEsConfig.PE_4,'persisted_results/results_May 03, 2025 04:16:57 PM EST')\n",
    "\n",
    "dp_star_results = dp_estimator.derive_total_star_results()[\"total_network_hops\"]\n",
    "dp_ring_results = dp_estimator.derive_total_ring_results()[\"total_network_hops\"]\n",
    "tp_star_results = tp_estimator.derive_total_star_results()[\"total_network_hops\"]\n",
    "tp_ring_results = tp_estimator.derive_total_ring_results()[\"total_network_hops\"]\n",
    "\n",
    "plot_grouped_bar_chart(\n",
    "    x_labels=[\"Base\", \"DP\", \"TP\"],\n",
    "    series_1=[0, dp_star_results, tp_star_results],\n",
    "    series_2=[0, dp_ring_results, tp_ring_results],\n",
    "    series_labels=(\"Star Topology\", \"Ring Topology\"),\n",
    "    colors=(\"tab:red\", \"tab:green\"),\n",
    "    chart_title=\"Hop Counts vs. Topology for 8 GPU Rack Size\",\n",
    "    y_axis_title=\"Total Hops\",\n",
    "    use_scientific=False\n",
    ")"
   ]
  },
  {
   "cell_type": "code",
   "execution_count": null,
   "id": "ba7ab4ed-dba1-4d0e-80a6-49a24bcca9e0",
   "metadata": {},
   "outputs": [],
   "source": []
  }
 ],
 "metadata": {
  "kernelspec": {
   "display_name": "Python 3 (ipykernel)",
   "language": "python",
   "name": "python3"
  },
  "language_info": {
   "codemirror_mode": {
    "name": "ipython",
    "version": 3
   },
   "file_extension": ".py",
   "mimetype": "text/x-python",
   "name": "python",
   "nbconvert_exporter": "python",
   "pygments_lexer": "ipython3",
   "version": "3.10.12"
  }
 },
 "nbformat": 4,
 "nbformat_minor": 5
}
